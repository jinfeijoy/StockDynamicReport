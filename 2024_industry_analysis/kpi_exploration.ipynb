{
 "cells": [
  {
   "cell_type": "code",
   "execution_count": 133,
   "metadata": {},
   "outputs": [],
   "source": [
    "import yfinance as yf \n",
    "from yahoofinancials import YahooFinancials\n",
    "\n",
    "from datetime import date, timedelta\n",
    "import requests\n",
    "import numpy as np\n",
    "import pandas as pd\n",
    "import warnings\n",
    "import pandas_datareader as web\n",
    "import seaborn as sns \n",
    "from matplotlib.pyplot import show\n",
    "from scipy import stats\n",
    "warnings.filterwarnings('ignore')\n",
    "today = str(date.today())"
   ]
  },
  {
   "cell_type": "code",
   "execution_count": 139,
   "metadata": {},
   "outputs": [],
   "source": [
    "def calculate_growth(df, column, transpose = True):\n",
    "    if transpose == True:\n",
    "        sort_df = df.T.sort_index(ascending=False)[[column]]\n",
    "    else:\n",
    "        sort_df = df.sort_index(ascending=False)[[column]]\n",
    "    growth_col = column + ' growth'\n",
    "    sort_df[growth_col] = sort_df[column] / sort_df[column].shift(-1)\n",
    "    return sort_df, sort_df[growth_col].iloc[0]\n",
    "\n",
    "def get_kpi(stock_ticker):\n",
    "    company_df = yf.Ticker(stock_ticker)\n",
    "\n",
    "    income_stm = company_df.income_stmt[company_df.income_stmt.index.isin(['Total Operating Income As Reported','Net Income','Cost Of Revenue', 'Total Revenue', 'Operating Revenue', 'Gross Profit'])]\n",
    "    balance_stm = company_df.balance_sheet[company_df.balance_sheet.index.isin(['Total Assets', 'Cash Cash Equivalents And Short Term Investments','Current Liabilities'])]\n",
    "    cf_stm = company_df.cashflow[company_df.cashflow.index.isin(['Free Cash Flow','Operating Gains Losses'])]\n",
    "\n",
    "    statement = income_stm.append(balance_stm).append(cf_stm)\n",
    "    curr_stm = statement[statement.columns.max()]\n",
    "\n",
    "    # KPI\n",
    "    # profitability\n",
    "    profitability = {\n",
    "        'revenue': curr_stm['Total Revenue'],\n",
    "        'cost': curr_stm['Cost Of Revenue'],\n",
    "        'operating_income': curr_stm['Total Operating Income As Reported'],\n",
    "        'net_profit': curr_stm['Gross Profit'],\n",
    "        'total_asset': curr_stm['Total Assets'],\n",
    "        'gross_margin' : company_df.info['grossMargins'],\n",
    "        'operating_margin' : company_df.info['operatingMargins'],  \n",
    "        'net_margin' : company_df.info['profitMargins'],    \n",
    "        'ROA' : company_df.info['returnOnAssets'],\n",
    "        'ROE' : company_df.info['returnOnEquity'] \n",
    "    }\n",
    "    profitability = pd.DataFrame.from_dict(profitability, orient='index', columns=['Value']).reset_index()\n",
    "\n",
    "\n",
    "    # Financial health\n",
    "    financial_health = {\n",
    "        'cashflow_over_cost' : curr_stm['Free Cash Flow'] / curr_stm['Cost Of Revenue'],\n",
    "        'current_ratio' : company_df.info['currentRatio'],\n",
    "        'liability_asset_ratio' : curr_stm['Current Liabilities'] / curr_stm['Total Assets']\n",
    "    } \n",
    "    financial_health = pd.DataFrame.from_dict(financial_health, orient='index', columns=['Value']).reset_index()\n",
    "\n",
    "\n",
    "    # Growth \n",
    "    _, operating_income_growth = calculate_growth(statement, column = 'Total Operating Income As Reported', transpose = True)\n",
    "    _, free_cashflow_growth = calculate_growth(statement, column = 'Free Cash Flow', transpose = True)\n",
    "    growth = {\n",
    "        'revenue_growth' : company_df.info['revenueGrowth'],\n",
    "        'net_income_growth' : company_df.info['earningsGrowth'],\n",
    "        'operating_income_growth': operating_income_growth,\n",
    "        'free_cashflow_growth': free_cashflow_growth\n",
    "    }\n",
    "    growth = pd.DataFrame.from_dict(growth, orient='index', columns=['Value']).reset_index()\n",
    "\n",
    "    # Operational efficiency \n",
    "    # sales_cost_over_revenue\n",
    "    # inventory_days\n",
    "    all_kpi = profitability.append(financial_health).append(growth)\n",
    "    output = {\n",
    "        'statement' : statement,\n",
    "        'profitability': profitability, \n",
    "        'financial_health': financial_health, \n",
    "        'growth': growth,\n",
    "        'all_kpi': all_kpi\n",
    "    }\n",
    "\n",
    "    return output\n",
    "\n",
    "def get_multiple_stocks_kpi(stock_list):\n",
    "    \"\"\" \n",
    "    stock_list: list of stock ticker\n",
    "\n",
    "    kpi to be collected: revenue, cost, operating income, operating margin, ROA, liability asset ratio, profit \n",
    "    \"\"\"\n",
    "    all_company_kpi = pd.DataFrame()\n",
    "    for ticker in stock_list:\n",
    "        company_kpi = get_kpi(stock_ticker = ticker)['all_kpi']\n",
    "        company_kpi['Company'] = ticker\n",
    "        all_company_kpi = all_company_kpi.append(company_kpi)\n",
    "    \n",
    "    return all_company_kpi\n",
    "\n",
    "def plot_with_diagonal(plot_df, x_col, y_col, hue_col, title=None, diagonal = True):\n",
    "    plot = sns.scatterplot(data=plot_df, x=x_col, y=y_col, hue=hue_col)\n",
    "    if diagonal == True:\n",
    "        x0, x1 = plot.get_xlim()\n",
    "        y0, y1 = plot.get_ylim()\n",
    "        lims = [0, min(x1, y1)]\n",
    "        plot.plot(lims, lims, '-r')\n",
    "    plot.set_title(title)\n",
    "    show()"
   ]
  },
  {
   "cell_type": "code",
   "execution_count": 149,
   "metadata": {},
   "outputs": [
    {
     "data": {
      "text/html": [
       "<div>\n",
       "<style scoped>\n",
       "    .dataframe tbody tr th:only-of-type {\n",
       "        vertical-align: middle;\n",
       "    }\n",
       "\n",
       "    .dataframe tbody tr th {\n",
       "        vertical-align: top;\n",
       "    }\n",
       "\n",
       "    .dataframe thead th {\n",
       "        text-align: right;\n",
       "    }\n",
       "</style>\n",
       "<table border=\"1\" class=\"dataframe\">\n",
       "  <thead>\n",
       "    <tr style=\"text-align: right;\">\n",
       "      <th>index</th>\n",
       "      <th>Company</th>\n",
       "      <th>ROA</th>\n",
       "      <th>ROE</th>\n",
       "      <th>cashflow_over_cost</th>\n",
       "      <th>cost</th>\n",
       "      <th>current_ratio</th>\n",
       "      <th>free_cashflow_growth</th>\n",
       "      <th>gross_margin</th>\n",
       "      <th>liability_asset_ratio</th>\n",
       "      <th>net_income_growth</th>\n",
       "      <th>net_margin</th>\n",
       "      <th>net_profit</th>\n",
       "      <th>operating_income</th>\n",
       "      <th>operating_income_growth</th>\n",
       "      <th>operating_margin</th>\n",
       "      <th>revenue</th>\n",
       "      <th>revenue_growth</th>\n",
       "      <th>total_asset</th>\n",
       "    </tr>\n",
       "  </thead>\n",
       "  <tbody>\n",
       "    <tr>\n",
       "      <th>0</th>\n",
       "      <td>AAPL</td>\n",
       "      <td>0.22074</td>\n",
       "      <td>1.47250</td>\n",
       "      <td>0.465048</td>\n",
       "      <td>2.141370e+11</td>\n",
       "      <td>1.037</td>\n",
       "      <td>0.893587</td>\n",
       "      <td>0.45586</td>\n",
       "      <td>0.412124</td>\n",
       "      <td>0.007</td>\n",
       "      <td>0.26306</td>\n",
       "      <td>1.691480e+11</td>\n",
       "      <td>1.143010e+11</td>\n",
       "      <td>0.956998</td>\n",
       "      <td>0.30743</td>\n",
       "      <td>3.832850e+11</td>\n",
       "      <td>-0.043</td>\n",
       "      <td>3.525830e+11</td>\n",
       "    </tr>\n",
       "    <tr>\n",
       "      <th>1</th>\n",
       "      <td>AMZN</td>\n",
       "      <td>0.05951</td>\n",
       "      <td>0.20305</td>\n",
       "      <td>0.066982</td>\n",
       "      <td>4.809800e+11</td>\n",
       "      <td>1.072</td>\n",
       "      <td>-1.907121</td>\n",
       "      <td>0.47594</td>\n",
       "      <td>0.312429</td>\n",
       "      <td>2.167</td>\n",
       "      <td>0.06379</td>\n",
       "      <td>9.380500e+10</td>\n",
       "      <td>3.685200e+10</td>\n",
       "      <td>3.008818</td>\n",
       "      <td>0.10681</td>\n",
       "      <td>5.747850e+11</td>\n",
       "      <td>0.125</td>\n",
       "      <td>5.278540e+11</td>\n",
       "    </tr>\n",
       "    <tr>\n",
       "      <th>2</th>\n",
       "      <td>AVGO</td>\n",
       "      <td>0.07426</td>\n",
       "      <td>0.22229</td>\n",
       "      <td>1.584419</td>\n",
       "      <td>1.112900e+10</td>\n",
       "      <td>1.254</td>\n",
       "      <td>1.080983</td>\n",
       "      <td>0.74244</td>\n",
       "      <td>0.101632</td>\n",
       "      <td>1.881</td>\n",
       "      <td>0.24104</td>\n",
       "      <td>2.469000e+10</td>\n",
       "      <td>1.620700e+10</td>\n",
       "      <td>1.139332</td>\n",
       "      <td>0.31765</td>\n",
       "      <td>3.581900e+10</td>\n",
       "      <td>0.164</td>\n",
       "      <td>7.286100e+10</td>\n",
       "    </tr>\n",
       "    <tr>\n",
       "      <th>3</th>\n",
       "      <td>GOOGL</td>\n",
       "      <td>0.15608</td>\n",
       "      <td>0.29764</td>\n",
       "      <td>0.521218</td>\n",
       "      <td>1.333320e+11</td>\n",
       "      <td>2.149</td>\n",
       "      <td>1.158057</td>\n",
       "      <td>0.57466</td>\n",
       "      <td>0.203319</td>\n",
       "      <td>0.609</td>\n",
       "      <td>0.25902</td>\n",
       "      <td>1.740620e+11</td>\n",
       "      <td>8.429300e+10</td>\n",
       "      <td>1.126279</td>\n",
       "      <td>0.32516</td>\n",
       "      <td>3.073940e+11</td>\n",
       "      <td>0.154</td>\n",
       "      <td>4.023920e+11</td>\n",
       "    </tr>\n",
       "    <tr>\n",
       "      <th>4</th>\n",
       "      <td>META</td>\n",
       "      <td>0.17313</td>\n",
       "      <td>0.33361</td>\n",
       "      <td>1.689087</td>\n",
       "      <td>2.595900e+10</td>\n",
       "      <td>2.681</td>\n",
       "      <td>2.302405</td>\n",
       "      <td>0.81496</td>\n",
       "      <td>0.139185</td>\n",
       "      <td>1.141</td>\n",
       "      <td>0.32063</td>\n",
       "      <td>1.089430e+11</td>\n",
       "      <td>4.675100e+10</td>\n",
       "      <td>1.615222</td>\n",
       "      <td>0.38579</td>\n",
       "      <td>1.349020e+11</td>\n",
       "      <td>0.273</td>\n",
       "      <td>2.296230e+11</td>\n",
       "    </tr>\n",
       "    <tr>\n",
       "      <th>5</th>\n",
       "      <td>MSFT</td>\n",
       "      <td>0.15410</td>\n",
       "      <td>0.38488</td>\n",
       "      <td>0.903011</td>\n",
       "      <td>6.586300e+10</td>\n",
       "      <td>1.242</td>\n",
       "      <td>0.912907</td>\n",
       "      <td>0.69894</td>\n",
       "      <td>0.252804</td>\n",
       "      <td>0.200</td>\n",
       "      <td>0.36427</td>\n",
       "      <td>1.460520e+11</td>\n",
       "      <td>8.852300e+10</td>\n",
       "      <td>1.061643</td>\n",
       "      <td>0.44588</td>\n",
       "      <td>2.119150e+11</td>\n",
       "      <td>0.170</td>\n",
       "      <td>4.119760e+11</td>\n",
       "    </tr>\n",
       "    <tr>\n",
       "      <th>6</th>\n",
       "      <td>NVDA</td>\n",
       "      <td>0.49103</td>\n",
       "      <td>1.15658</td>\n",
       "      <td>1.625714</td>\n",
       "      <td>1.662100e+10</td>\n",
       "      <td>3.529</td>\n",
       "      <td>7.095851</td>\n",
       "      <td>0.75286</td>\n",
       "      <td>0.161742</td>\n",
       "      <td>6.500</td>\n",
       "      <td>0.53398</td>\n",
       "      <td>4.430100e+10</td>\n",
       "      <td>3.297200e+10</td>\n",
       "      <td>7.805871</td>\n",
       "      <td>0.64925</td>\n",
       "      <td>6.092200e+10</td>\n",
       "      <td>2.621</td>\n",
       "      <td>6.572800e+10</td>\n",
       "    </tr>\n",
       "    <tr>\n",
       "      <th>7</th>\n",
       "      <td>TSLA</td>\n",
       "      <td>0.04717</td>\n",
       "      <td>0.23736</td>\n",
       "      <td>0.055073</td>\n",
       "      <td>7.911300e+10</td>\n",
       "      <td>1.716</td>\n",
       "      <td>0.576933</td>\n",
       "      <td>0.17779</td>\n",
       "      <td>0.269636</td>\n",
       "      <td>-0.534</td>\n",
       "      <td>0.14368</td>\n",
       "      <td>1.766000e+10</td>\n",
       "      <td>8.891000e+09</td>\n",
       "      <td>0.651069</td>\n",
       "      <td>0.05497</td>\n",
       "      <td>9.677300e+10</td>\n",
       "      <td>-0.087</td>\n",
       "      <td>1.066180e+11</td>\n",
       "    </tr>\n",
       "    <tr>\n",
       "      <th>8</th>\n",
       "      <td>V</td>\n",
       "      <td>0.16023</td>\n",
       "      <td>0.46528</td>\n",
       "      <td>2.999239</td>\n",
       "      <td>6.567000e+09</td>\n",
       "      <td>1.398</td>\n",
       "      <td>1.101628</td>\n",
       "      <td>0.97806</td>\n",
       "      <td>0.255229</td>\n",
       "      <td>0.124</td>\n",
       "      <td>0.53865</td>\n",
       "      <td>2.608600e+10</td>\n",
       "      <td>2.100000e+10</td>\n",
       "      <td>1.116249</td>\n",
       "      <td>0.66564</td>\n",
       "      <td>3.265300e+10</td>\n",
       "      <td>0.099</td>\n",
       "      <td>9.049900e+10</td>\n",
       "    </tr>\n",
       "  </tbody>\n",
       "</table>\n",
       "</div>"
      ],
      "text/plain": [
       "index Company      ROA      ROE  cashflow_over_cost          cost  \\\n",
       "0        AAPL  0.22074  1.47250            0.465048  2.141370e+11   \n",
       "1        AMZN  0.05951  0.20305            0.066982  4.809800e+11   \n",
       "2        AVGO  0.07426  0.22229            1.584419  1.112900e+10   \n",
       "3       GOOGL  0.15608  0.29764            0.521218  1.333320e+11   \n",
       "4        META  0.17313  0.33361            1.689087  2.595900e+10   \n",
       "5        MSFT  0.15410  0.38488            0.903011  6.586300e+10   \n",
       "6        NVDA  0.49103  1.15658            1.625714  1.662100e+10   \n",
       "7        TSLA  0.04717  0.23736            0.055073  7.911300e+10   \n",
       "8           V  0.16023  0.46528            2.999239  6.567000e+09   \n",
       "\n",
       "index  current_ratio  free_cashflow_growth  gross_margin  \\\n",
       "0              1.037              0.893587       0.45586   \n",
       "1              1.072             -1.907121       0.47594   \n",
       "2              1.254              1.080983       0.74244   \n",
       "3              2.149              1.158057       0.57466   \n",
       "4              2.681              2.302405       0.81496   \n",
       "5              1.242              0.912907       0.69894   \n",
       "6              3.529              7.095851       0.75286   \n",
       "7              1.716              0.576933       0.17779   \n",
       "8              1.398              1.101628       0.97806   \n",
       "\n",
       "index  liability_asset_ratio  net_income_growth  net_margin    net_profit  \\\n",
       "0                   0.412124              0.007     0.26306  1.691480e+11   \n",
       "1                   0.312429              2.167     0.06379  9.380500e+10   \n",
       "2                   0.101632              1.881     0.24104  2.469000e+10   \n",
       "3                   0.203319              0.609     0.25902  1.740620e+11   \n",
       "4                   0.139185              1.141     0.32063  1.089430e+11   \n",
       "5                   0.252804              0.200     0.36427  1.460520e+11   \n",
       "6                   0.161742              6.500     0.53398  4.430100e+10   \n",
       "7                   0.269636             -0.534     0.14368  1.766000e+10   \n",
       "8                   0.255229              0.124     0.53865  2.608600e+10   \n",
       "\n",
       "index  operating_income  operating_income_growth  operating_margin  \\\n",
       "0          1.143010e+11                 0.956998           0.30743   \n",
       "1          3.685200e+10                 3.008818           0.10681   \n",
       "2          1.620700e+10                 1.139332           0.31765   \n",
       "3          8.429300e+10                 1.126279           0.32516   \n",
       "4          4.675100e+10                 1.615222           0.38579   \n",
       "5          8.852300e+10                 1.061643           0.44588   \n",
       "6          3.297200e+10                 7.805871           0.64925   \n",
       "7          8.891000e+09                 0.651069           0.05497   \n",
       "8          2.100000e+10                 1.116249           0.66564   \n",
       "\n",
       "index       revenue  revenue_growth   total_asset  \n",
       "0      3.832850e+11          -0.043  3.525830e+11  \n",
       "1      5.747850e+11           0.125  5.278540e+11  \n",
       "2      3.581900e+10           0.164  7.286100e+10  \n",
       "3      3.073940e+11           0.154  4.023920e+11  \n",
       "4      1.349020e+11           0.273  2.296230e+11  \n",
       "5      2.119150e+11           0.170  4.119760e+11  \n",
       "6      6.092200e+10           2.621  6.572800e+10  \n",
       "7      9.677300e+10          -0.087  1.066180e+11  \n",
       "8      3.265300e+10           0.099  9.049900e+10  "
      ]
     },
     "execution_count": 149,
     "metadata": {},
     "output_type": "execute_result"
    }
   ],
   "source": [
    "testdf = get_multiple_stocks_kpi(['AAPL', 'MSFT', 'NVDA', 'GOOGL', 'AMZN', 'META', 'AVGO', 'TSLA', 'V'])\n",
    "testdf = testdf.pivot(index='Company', columns='index', values='Value').reset_index()\n",
    "testdf"
   ]
  },
  {
   "cell_type": "markdown",
   "metadata": {},
   "source": [
    "## Competitive Landscape"
   ]
  },
  {
   "cell_type": "code",
   "execution_count": 150,
   "metadata": {},
   "outputs": [
    {
     "data": {
      "image/png": "[encoded data removed]",
      "text/plain": [
       "<Figure size 640x480 with 1 Axes>"
      ]
     },
     "metadata": {},
     "output_type": "display_data"
    },
    {
     "data": {
      "image/png": "[encoded data removed]",
      "text/plain": [
       "<Figure size 640x480 with 1 Axes>"
      ]
     },
     "metadata": {},
     "output_type": "display_data"
    },
    {
     "data": {
      "image/png": "[encoded data removed]",
      "text/plain": [
       "<Figure size 640x480 with 1 Axes>"
      ]
     },
     "metadata": {},
     "output_type": "display_data"
    },
    {
     "data": {
      "image/png": "[encoded data removed]",
      "text/plain": [
       "<Figure size 640x480 with 1 Axes>"
      ]
     },
     "metadata": {},
     "output_type": "display_data"
    },
    {
     "data": {
      "image/png": "[encoded data removed]",
      "text/plain": [
       "<Figure size 640x480 with 1 Axes>"
      ]
     },
     "metadata": {},
     "output_type": "display_data"
    },
    {
     "data": {
      "image/png": "[encoded data removed]",
      "text/plain": [
       "<Figure size 640x480 with 1 Axes>"
      ]
     },
     "metadata": {},
     "output_type": "display_data"
    }
   ],
   "source": [
    "\n",
    "\n",
    "plot_with_diagonal(testdf, \"cost\", \"revenue\", \"Company\", 'Revenue VS Cost')\n",
    "\n",
    "plot_with_diagonal(testdf, \"cost\", \"net_profit\", \"Company\", 'Net Profit VS Cost')\n",
    "\n",
    "plot_with_diagonal(testdf, \"cost\", \"operating_income\", \"Company\", 'Operating Income VS Cost')\n",
    "\n",
    "plot_with_diagonal(testdf, \"total_asset\", \"operating_income\", \"Company\", 'Operating Income VS Total Asset')\n",
    "\n",
    "plot_with_diagonal(testdf, \"revenue\", \"operating_margin\", \"Company\", 'Operating Margin VS Revenue', False)\n",
    "\n",
    "plot_with_diagonal(testdf, \"liability_asset_ratio\", \"ROA\", \"Company\", 'ROA VS liability asset ratio')\n"
   ]
  },
  {
   "cell_type": "markdown",
   "metadata": {},
   "source": [
    "## Enterprise Ranking"
   ]
  },
  {
   "cell_type": "code",
   "execution_count": 165,
   "metadata": {},
   "outputs": [
    {
     "data": {
      "text/html": [
       "<div>\n",
       "<style scoped>\n",
       "    .dataframe tbody tr th:only-of-type {\n",
       "        vertical-align: middle;\n",
       "    }\n",
       "\n",
       "    .dataframe tbody tr th {\n",
       "        vertical-align: top;\n",
       "    }\n",
       "\n",
       "    .dataframe thead th {\n",
       "        text-align: right;\n",
       "    }\n",
       "</style>\n",
       "<table border=\"1\" class=\"dataframe\">\n",
       "  <thead>\n",
       "    <tr style=\"text-align: right;\">\n",
       "      <th></th>\n",
       "      <th>Company</th>\n",
       "      <th>index</th>\n",
       "      <th>value</th>\n",
       "    </tr>\n",
       "  </thead>\n",
       "  <tbody>\n",
       "    <tr>\n",
       "      <th>0</th>\n",
       "      <td>AAPL</td>\n",
       "      <td>ROA_pctl</td>\n",
       "      <td>78</td>\n",
       "    </tr>\n",
       "    <tr>\n",
       "      <th>1</th>\n",
       "      <td>AMZN</td>\n",
       "      <td>ROA_pctl</td>\n",
       "      <td>11</td>\n",
       "    </tr>\n",
       "    <tr>\n",
       "      <th>2</th>\n",
       "      <td>AVGO</td>\n",
       "      <td>ROA_pctl</td>\n",
       "      <td>22</td>\n",
       "    </tr>\n",
       "    <tr>\n",
       "      <th>3</th>\n",
       "      <td>GOOGL</td>\n",
       "      <td>ROA_pctl</td>\n",
       "      <td>44</td>\n",
       "    </tr>\n",
       "    <tr>\n",
       "      <th>4</th>\n",
       "      <td>META</td>\n",
       "      <td>ROA_pctl</td>\n",
       "      <td>67</td>\n",
       "    </tr>\n",
       "    <tr>\n",
       "      <th>...</th>\n",
       "      <td>...</td>\n",
       "      <td>...</td>\n",
       "      <td>...</td>\n",
       "    </tr>\n",
       "    <tr>\n",
       "      <th>157</th>\n",
       "      <td>META</td>\n",
       "      <td>ROA_pctl_pctl</td>\n",
       "      <td>67</td>\n",
       "    </tr>\n",
       "    <tr>\n",
       "      <th>158</th>\n",
       "      <td>MSFT</td>\n",
       "      <td>ROA_pctl_pctl</td>\n",
       "      <td>33</td>\n",
       "    </tr>\n",
       "    <tr>\n",
       "      <th>159</th>\n",
       "      <td>NVDA</td>\n",
       "      <td>ROA_pctl_pctl</td>\n",
       "      <td>89</td>\n",
       "    </tr>\n",
       "    <tr>\n",
       "      <th>160</th>\n",
       "      <td>TSLA</td>\n",
       "      <td>ROA_pctl_pctl</td>\n",
       "      <td>0</td>\n",
       "    </tr>\n",
       "    <tr>\n",
       "      <th>161</th>\n",
       "      <td>V</td>\n",
       "      <td>ROA_pctl_pctl</td>\n",
       "      <td>56</td>\n",
       "    </tr>\n",
       "  </tbody>\n",
       "</table>\n",
       "<p>162 rows × 3 columns</p>\n",
       "</div>"
      ],
      "text/plain": [
       "    Company          index  value\n",
       "0      AAPL       ROA_pctl     78\n",
       "1      AMZN       ROA_pctl     11\n",
       "2      AVGO       ROA_pctl     22\n",
       "3     GOOGL       ROA_pctl     44\n",
       "4      META       ROA_pctl     67\n",
       "..      ...            ...    ...\n",
       "157    META  ROA_pctl_pctl     67\n",
       "158    MSFT  ROA_pctl_pctl     33\n",
       "159    NVDA  ROA_pctl_pctl     89\n",
       "160    TSLA  ROA_pctl_pctl      0\n",
       "161       V  ROA_pctl_pctl     56\n",
       "\n",
       "[162 rows x 3 columns]"
      ]
     },
     "execution_count": 165,
     "metadata": {},
     "output_type": "execute_result"
    }
   ],
   "source": [
    "testdf_pct = testdf[['Company']]\n",
    "testdf_pct\n",
    "\n",
    "for col in testdf.columns.drop(['Company']):\n",
    "    pct_col = col + '_pctl'\n",
    "    testdf_pct[pct_col] = [round(stats.percentileofscore(testdf[col], a, 'strict')) for a in testdf[col]]\n",
    "\n",
    "testdf_pct = pd.melt(testdf_pct, id_vars='Company')\n",
    "testdf_pct"
   ]
  },
  {
   "cell_type": "code",
   "execution_count": 167,
   "metadata": {},
   "outputs": [
    {
     "data": {
      "application/vnd.plotly.v1+json": {
       "config": {
        "plotlyServerURL": "https://plot.ly"
       },
       "data": [
        {
         "alignmentgroup": "True",
         "hovertemplate": "Company=AAPL<br>index=%{x}<br>value=%{y}<extra></extra>",
         "legendgroup": "AAPL",
         "marker": {
          "color": "#636efa",
          "pattern": {
           "shape": ""
          }
         },
         "name": "AAPL",
         "offsetgroup": "AAPL",
         "orientation": "v",
         "showlegend": true,
         "textposition": "auto",
         "type": "bar",
         "x": [
          "ROA_pctl",
          "ROE_pctl",
          "cashflow_over_cost_pctl",
          "cost_pctl",
          "current_ratio_pctl",
          "free_cashflow_growth_pctl",
          "gross_margin_pctl",
          "liability_asset_ratio_pctl",
          "net_income_growth_pctl",
          "net_margin_pctl",
          "net_profit_pctl",
          "operating_income_pctl",
          "operating_income_growth_pctl",
          "operating_margin_pctl",
          "revenue_pctl",
          "revenue_growth_pctl",
          "total_asset_pctl",
          "ROA_pctl_pctl"
         ],
         "xaxis": "x",
         "y": [
          78,
          89,
          22,
          78,
          0,
          22,
          11,
          89,
          11,
          44,
          78,
          89,
          11,
          22,
          78,
          11,
          56,
          78
         ],
         "yaxis": "y"
        },
        {
         "alignmentgroup": "True",
         "hovertemplate": "Company=AMZN<br>index=%{x}<br>value=%{y}<extra></extra>",
         "legendgroup": "AMZN",
         "marker": {
          "color": "#EF553B",
          "pattern": {
           "shape": ""
          }
         },
         "name": "AMZN",
         "offsetgroup": "AMZN",
         "orientation": "v",
         "showlegend": true,
         "textposition": "auto",
         "type": "bar",
         "x": [
          "ROA_pctl",
          "ROE_pctl",
          "cashflow_over_cost_pctl",
          "cost_pctl",
          "current_ratio_pctl",
          "free_cashflow_growth_pctl",
          "gross_margin_pctl",
          "liability_asset_ratio_pctl",
          "net_income_growth_pctl",
          "net_margin_pctl",
          "net_profit_pctl",
          "operating_income_pctl",
          "operating_income_growth_pctl",
          "operating_margin_pctl",
          "revenue_pctl",
          "revenue_growth_pctl",
          "total_asset_pctl",
          "ROA_pctl_pctl"
         ],
         "xaxis": "x",
         "y": [
          11,
          0,
          11,
          89,
          11,
          0,
          22,
          78,
          78,
          0,
          44,
          44,
          78,
          11,
          89,
          33,
          89,
          11
         ],
         "yaxis": "y"
        },
        {
         "alignmentgroup": "True",
         "hovertemplate": "Company=AVGO<br>index=%{x}<br>value=%{y}<extra></extra>",
         "legendgroup": "AVGO",
         "marker": {
          "color": "#00cc96",
          "pattern": {
           "shape": ""
          }
         },
         "name": "AVGO",
         "offsetgroup": "AVGO",
         "orientation": "v",
         "showlegend": true,
         "textposition": "auto",
         "type": "bar",
         "x": [
          "ROA_pctl",
          "ROE_pctl",
          "cashflow_over_cost_pctl",
          "cost_pctl",
          "current_ratio_pctl",
          "free_cashflow_growth_pctl",
          "gross_margin_pctl",
          "liability_asset_ratio_pctl",
          "net_income_growth_pctl",
          "net_margin_pctl",
          "net_profit_pctl",
          "operating_income_pctl",
          "operating_income_growth_pctl",
          "operating_margin_pctl",
          "revenue_pctl",
          "revenue_growth_pctl",
          "total_asset_pctl",
          "ROA_pctl_pctl"
         ],
         "xaxis": "x",
         "y": [
          22,
          11,
          56,
          11,
          33,
          44,
          56,
          0,
          67,
          22,
          11,
          11,
          56,
          33,
          11,
          56,
          11,
          22
         ],
         "yaxis": "y"
        },
        {
         "alignmentgroup": "True",
         "hovertemplate": "Company=GOOGL<br>index=%{x}<br>value=%{y}<extra></extra>",
         "legendgroup": "GOOGL",
         "marker": {
          "color": "#ab63fa",
          "pattern": {
           "shape": ""
          }
         },
         "name": "GOOGL",
         "offsetgroup": "GOOGL",
         "orientation": "v",
         "showlegend": true,
         "textposition": "auto",
         "type": "bar",
         "x": [
          "ROA_pctl",
          "ROE_pctl",
          "cashflow_over_cost_pctl",
          "cost_pctl",
          "current_ratio_pctl",
          "free_cashflow_growth_pctl",
          "gross_margin_pctl",
          "liability_asset_ratio_pctl",
          "net_income_growth_pctl",
          "net_margin_pctl",
          "net_profit_pctl",
          "operating_income_pctl",
          "operating_income_growth_pctl",
          "operating_margin_pctl",
          "revenue_pctl",
          "revenue_growth_pctl",
          "total_asset_pctl",
          "ROA_pctl_pctl"
         ],
         "xaxis": "x",
         "y": [
          44,
          33,
          33,
          67,
          67,
          67,
          33,
          33,
          44,
          33,
          89,
          67,
          44,
          44,
          67,
          44,
          67,
          44
         ],
         "yaxis": "y"
        },
        {
         "alignmentgroup": "True",
         "hovertemplate": "Company=META<br>index=%{x}<br>value=%{y}<extra></extra>",
         "legendgroup": "META",
         "marker": {
          "color": "#FFA15A",
          "pattern": {
           "shape": ""
          }
         },
         "name": "META",
         "offsetgroup": "META",
         "orientation": "v",
         "showlegend": true,
         "textposition": "auto",
         "type": "bar",
         "x": [
          "ROA_pctl",
          "ROE_pctl",
          "cashflow_over_cost_pctl",
          "cost_pctl",
          "current_ratio_pctl",
          "free_cashflow_growth_pctl",
          "gross_margin_pctl",
          "liability_asset_ratio_pctl",
          "net_income_growth_pctl",
          "net_margin_pctl",
          "net_profit_pctl",
          "operating_income_pctl",
          "operating_income_growth_pctl",
          "operating_margin_pctl",
          "revenue_pctl",
          "revenue_growth_pctl",
          "total_asset_pctl",
          "ROA_pctl_pctl"
         ],
         "xaxis": "x",
         "y": [
          67,
          44,
          78,
          33,
          78,
          78,
          78,
          11,
          56,
          56,
          56,
          56,
          67,
          56,
          44,
          78,
          44,
          67
         ],
         "yaxis": "y"
        },
        {
         "alignmentgroup": "True",
         "hovertemplate": "Company=MSFT<br>index=%{x}<br>value=%{y}<extra></extra>",
         "legendgroup": "MSFT",
         "marker": {
          "color": "#19d3f3",
          "pattern": {
           "shape": ""
          }
         },
         "name": "MSFT",
         "offsetgroup": "MSFT",
         "orientation": "v",
         "showlegend": true,
         "textposition": "auto",
         "type": "bar",
         "x": [
          "ROA_pctl",
          "ROE_pctl",
          "cashflow_over_cost_pctl",
          "cost_pctl",
          "current_ratio_pctl",
          "free_cashflow_growth_pctl",
          "gross_margin_pctl",
          "liability_asset_ratio_pctl",
          "net_income_growth_pctl",
          "net_margin_pctl",
          "net_profit_pctl",
          "operating_income_pctl",
          "operating_income_growth_pctl",
          "operating_margin_pctl",
          "revenue_pctl",
          "revenue_growth_pctl",
          "total_asset_pctl",
          "ROA_pctl_pctl"
         ],
         "xaxis": "x",
         "y": [
          33,
          56,
          44,
          44,
          22,
          33,
          44,
          44,
          33,
          67,
          67,
          78,
          22,
          67,
          56,
          67,
          78,
          33
         ],
         "yaxis": "y"
        },
        {
         "alignmentgroup": "True",
         "hovertemplate": "Company=NVDA<br>index=%{x}<br>value=%{y}<extra></extra>",
         "legendgroup": "NVDA",
         "marker": {
          "color": "#FF6692",
          "pattern": {
           "shape": ""
          }
         },
         "name": "NVDA",
         "offsetgroup": "NVDA",
         "orientation": "v",
         "showlegend": true,
         "textposition": "auto",
         "type": "bar",
         "x": [
          "ROA_pctl",
          "ROE_pctl",
          "cashflow_over_cost_pctl",
          "cost_pctl",
          "current_ratio_pctl",
          "free_cashflow_growth_pctl",
          "gross_margin_pctl",
          "liability_asset_ratio_pctl",
          "net_income_growth_pctl",
          "net_margin_pctl",
          "net_profit_pctl",
          "operating_income_pctl",
          "operating_income_growth_pctl",
          "operating_margin_pctl",
          "revenue_pctl",
          "revenue_growth_pctl",
          "total_asset_pctl",
          "ROA_pctl_pctl"
         ],
         "xaxis": "x",
         "y": [
          89,
          78,
          67,
          22,
          89,
          89,
          67,
          22,
          89,
          78,
          33,
          33,
          89,
          78,
          22,
          89,
          0,
          89
         ],
         "yaxis": "y"
        },
        {
         "alignmentgroup": "True",
         "hovertemplate": "Company=TSLA<br>index=%{x}<br>value=%{y}<extra></extra>",
         "legendgroup": "TSLA",
         "marker": {
          "color": "#B6E880",
          "pattern": {
           "shape": ""
          }
         },
         "name": "TSLA",
         "offsetgroup": "TSLA",
         "orientation": "v",
         "showlegend": true,
         "textposition": "auto",
         "type": "bar",
         "x": [
          "ROA_pctl",
          "ROE_pctl",
          "cashflow_over_cost_pctl",
          "cost_pctl",
          "current_ratio_pctl",
          "free_cashflow_growth_pctl",
          "gross_margin_pctl",
          "liability_asset_ratio_pctl",
          "net_income_growth_pctl",
          "net_margin_pctl",
          "net_profit_pctl",
          "operating_income_pctl",
          "operating_income_growth_pctl",
          "operating_margin_pctl",
          "revenue_pctl",
          "revenue_growth_pctl",
          "total_asset_pctl",
          "ROA_pctl_pctl"
         ],
         "xaxis": "x",
         "y": [
          0,
          22,
          0,
          56,
          56,
          11,
          0,
          67,
          0,
          11,
          0,
          0,
          0,
          0,
          33,
          0,
          33,
          0
         ],
         "yaxis": "y"
        },
        {
         "alignmentgroup": "True",
         "hovertemplate": "Company=V<br>index=%{x}<br>value=%{y}<extra></extra>",
         "legendgroup": "V",
         "marker": {
          "color": "#FF97FF",
          "pattern": {
           "shape": ""
          }
         },
         "name": "V",
         "offsetgroup": "V",
         "orientation": "v",
         "showlegend": true,
         "textposition": "auto",
         "type": "bar",
         "x": [
          "ROA_pctl",
          "ROE_pctl",
          "cashflow_over_cost_pctl",
          "cost_pctl",
          "current_ratio_pctl",
          "free_cashflow_growth_pctl",
          "gross_margin_pctl",
          "liability_asset_ratio_pctl",
          "net_income_growth_pctl",
          "net_margin_pctl",
          "net_profit_pctl",
          "operating_income_pctl",
          "operating_income_growth_pctl",
          "operating_margin_pctl",
          "revenue_pctl",
          "revenue_growth_pctl",
          "total_asset_pctl",
          "ROA_pctl_pctl"
         ],
         "xaxis": "x",
         "y": [
          56,
          67,
          89,
          0,
          44,
          56,
          89,
          56,
          22,
          89,
          22,
          22,
          33,
          89,
          0,
          22,
          22,
          56
         ],
         "yaxis": "y"
        }
       ],
       "layout": {
        "barmode": "relative",
        "legend": {
         "title": {
          "text": "Company"
         },
         "tracegroupgap": 0
        },
        "template": {
         "data": {
          "bar": [
           {
            "error_x": {
             "color": "#2a3f5f"
            },
            "error_y": {
             "color": "#2a3f5f"
            },
            "marker": {
             "line": {
              "color": "#E5ECF6",
              "width": 0.5
             },
             "pattern": {
              "fillmode": "overlay",
              "size": 10,
              "solidity": 0.2
             }
            },
            "type": "bar"
           }
          ],
          "barpolar": [
           {
            "marker": {
             "line": {
              "color": "#E5ECF6",
              "width": 0.5
             },
             "pattern": {
              "fillmode": "overlay",
              "size": 10,
              "solidity": 0.2
             }
            },
            "type": "barpolar"
           }
          ],
          "carpet": [
           {
            "aaxis": {
             "endlinecolor": "#2a3f5f",
             "gridcolor": "white",
             "linecolor": "white",
             "minorgridcolor": "white",
             "startlinecolor": "#2a3f5f"
            },
            "baxis": {
             "endlinecolor": "#2a3f5f",
             "gridcolor": "white",
             "linecolor": "white",
             "minorgridcolor": "white",
             "startlinecolor": "#2a3f5f"
            },
            "type": "carpet"
           }
          ],
          "choropleth": [
           {
            "colorbar": {
             "outlinewidth": 0,
             "ticks": ""
            },
            "type": "choropleth"
           }
          ],
          "contour": [
           {
            "colorbar": {
             "outlinewidth": 0,
             "ticks": ""
            },
            "colorscale": [
             [
              0,
              "#0d0887"
             ],
             [
              0.1111111111111111,
              "#46039f"
             ],
             [
              0.2222222222222222,
              "#7201a8"
             ],
             [
              0.3333333333333333,
              "#9c179e"
             ],
             [
              0.4444444444444444,
              "#bd3786"
             ],
             [
              0.5555555555555556,
              "#d8576b"
             ],
             [
              0.6666666666666666,
              "#ed7953"
             ],
             [
              0.7777777777777778,
              "#fb9f3a"
             ],
             [
              0.8888888888888888,
              "#fdca26"
             ],
             [
              1,
              "#f0f921"
             ]
            ],
            "type": "contour"
           }
          ],
          "contourcarpet": [
           {
            "colorbar": {
             "outlinewidth": 0,
             "ticks": ""
            },
            "type": "contourcarpet"
           }
          ],
          "heatmap": [
           {
            "colorbar": {
             "outlinewidth": 0,
             "ticks": ""
            },
            "colorscale": [
             [
              0,
              "#0d0887"
             ],
             [
              0.1111111111111111,
              "#46039f"
             ],
             [
              0.2222222222222222,
              "#7201a8"
             ],
             [
              0.3333333333333333,
              "#9c179e"
             ],
             [
              0.4444444444444444,
              "#bd3786"
             ],
             [
              0.5555555555555556,
              "#d8576b"
             ],
             [
              0.6666666666666666,
              "#ed7953"
             ],
             [
              0.7777777777777778,
              "#fb9f3a"
             ],
             [
              0.8888888888888888,
              "#fdca26"
             ],
             [
              1,
              "#f0f921"
             ]
            ],
            "type": "heatmap"
           }
          ],
          "heatmapgl": [
           {
            "colorbar": {
             "outlinewidth": 0,
             "ticks": ""
            },
            "colorscale": [
             [
              0,
              "#0d0887"
             ],
             [
              0.1111111111111111,
              "#46039f"
             ],
             [
              0.2222222222222222,
              "#7201a8"
             ],
             [
              0.3333333333333333,
              "#9c179e"
             ],
             [
              0.4444444444444444,
              "#bd3786"
             ],
             [
              0.5555555555555556,
              "#d8576b"
             ],
             [
              0.6666666666666666,
              "#ed7953"
             ],
             [
              0.7777777777777778,
              "#fb9f3a"
             ],
             [
              0.8888888888888888,
              "#fdca26"
             ],
             [
              1,
              "#f0f921"
             ]
            ],
            "type": "heatmapgl"
           }
          ],
          "histogram": [
           {
            "marker": {
             "pattern": {
              "fillmode": "overlay",
              "size": 10,
              "solidity": 0.2
             }
            },
            "type": "histogram"
           }
          ],
          "histogram2d": [
           {
            "colorbar": {
             "outlinewidth": 0,
             "ticks": ""
            },
            "colorscale": [
             [
              0,
              "#0d0887"
             ],
             [
              0.1111111111111111,
              "#46039f"
             ],
             [
              0.2222222222222222,
              "#7201a8"
             ],
             [
              0.3333333333333333,
              "#9c179e"
             ],
             [
              0.4444444444444444,
              "#bd3786"
             ],
             [
              0.5555555555555556,
              "#d8576b"
             ],
             [
              0.6666666666666666,
              "#ed7953"
             ],
             [
              0.7777777777777778,
              "#fb9f3a"
             ],
             [
              0.8888888888888888,
              "#fdca26"
             ],
             [
              1,
              "#f0f921"
             ]
            ],
            "type": "histogram2d"
           }
          ],
          "histogram2dcontour": [
           {
            "colorbar": {
             "outlinewidth": 0,
             "ticks": ""
            },
            "colorscale": [
             [
              0,
              "#0d0887"
             ],
             [
              0.1111111111111111,
              "#46039f"
             ],
             [
              0.2222222222222222,
              "#7201a8"
             ],
             [
              0.3333333333333333,
              "#9c179e"
             ],
             [
              0.4444444444444444,
              "#bd3786"
             ],
             [
              0.5555555555555556,
              "#d8576b"
             ],
             [
              0.6666666666666666,
              "#ed7953"
             ],
             [
              0.7777777777777778,
              "#fb9f3a"
             ],
             [
              0.8888888888888888,
              "#fdca26"
             ],
             [
              1,
              "#f0f921"
             ]
            ],
            "type": "histogram2dcontour"
           }
          ],
          "mesh3d": [
           {
            "colorbar": {
             "outlinewidth": 0,
             "ticks": ""
            },
            "type": "mesh3d"
           }
          ],
          "parcoords": [
           {
            "line": {
             "colorbar": {
              "outlinewidth": 0,
              "ticks": ""
             }
            },
            "type": "parcoords"
           }
          ],
          "pie": [
           {
            "automargin": true,
            "type": "pie"
           }
          ],
          "scatter": [
           {
            "fillpattern": {
             "fillmode": "overlay",
             "size": 10,
             "solidity": 0.2
            },
            "type": "scatter"
           }
          ],
          "scatter3d": [
           {
            "line": {
             "colorbar": {
              "outlinewidth": 0,
              "ticks": ""
             }
            },
            "marker": {
             "colorbar": {
              "outlinewidth": 0,
              "ticks": ""
             }
            },
            "type": "scatter3d"
           }
          ],
          "scattercarpet": [
           {
            "marker": {
             "colorbar": {
              "outlinewidth": 0,
              "ticks": ""
             }
            },
            "type": "scattercarpet"
           }
          ],
          "scattergeo": [
           {
            "marker": {
             "colorbar": {
              "outlinewidth": 0,
              "ticks": ""
             }
            },
            "type": "scattergeo"
           }
          ],
          "scattergl": [
           {
            "marker": {
             "colorbar": {
              "outlinewidth": 0,
              "ticks": ""
             }
            },
            "type": "scattergl"
           }
          ],
          "scattermapbox": [
           {
            "marker": {
             "colorbar": {
              "outlinewidth": 0,
              "ticks": ""
             }
            },
            "type": "scattermapbox"
           }
          ],
          "scatterpolar": [
           {
            "marker": {
             "colorbar": {
              "outlinewidth": 0,
              "ticks": ""
             }
            },
            "type": "scatterpolar"
           }
          ],
          "scatterpolargl": [
           {
            "marker": {
             "colorbar": {
              "outlinewidth": 0,
              "ticks": ""
             }
            },
            "type": "scatterpolargl"
           }
          ],
          "scatterternary": [
           {
            "marker": {
             "colorbar": {
              "outlinewidth": 0,
              "ticks": ""
             }
            },
            "type": "scatterternary"
           }
          ],
          "surface": [
           {
            "colorbar": {
             "outlinewidth": 0,
             "ticks": ""
            },
            "colorscale": [
             [
              0,
              "#0d0887"
             ],
             [
              0.1111111111111111,
              "#46039f"
             ],
             [
              0.2222222222222222,
              "#7201a8"
             ],
             [
              0.3333333333333333,
              "#9c179e"
             ],
             [
              0.4444444444444444,
              "#bd3786"
             ],
             [
              0.5555555555555556,
              "#d8576b"
             ],
             [
              0.6666666666666666,
              "#ed7953"
             ],
             [
              0.7777777777777778,
              "#fb9f3a"
             ],
             [
              0.8888888888888888,
              "#fdca26"
             ],
             [
              1,
              "#f0f921"
             ]
            ],
            "type": "surface"
           }
          ],
          "table": [
           {
            "cells": {
             "fill": {
              "color": "#EBF0F8"
             },
             "line": {
              "color": "white"
             }
            },
            "header": {
             "fill": {
              "color": "#C8D4E3"
             },
             "line": {
              "color": "white"
             }
            },
            "type": "table"
           }
          ]
         },
         "layout": {
          "annotationdefaults": {
           "arrowcolor": "#2a3f5f",
           "arrowhead": 0,
           "arrowwidth": 1
          },
          "autotypenumbers": "strict",
          "coloraxis": {
           "colorbar": {
            "outlinewidth": 0,
            "ticks": ""
           }
          },
          "colorscale": {
           "diverging": [
            [
             0,
             "#8e0152"
            ],
            [
             0.1,
             "#c51b7d"
            ],
            [
             0.2,
             "#de77ae"
            ],
            [
             0.3,
             "#f1b6da"
            ],
            [
             0.4,
             "#fde0ef"
            ],
            [
             0.5,
             "#f7f7f7"
            ],
            [
             0.6,
             "#e6f5d0"
            ],
            [
             0.7,
             "#b8e186"
            ],
            [
             0.8,
             "#7fbc41"
            ],
            [
             0.9,
             "#4d9221"
            ],
            [
             1,
             "#276419"
            ]
           ],
           "sequential": [
            [
             0,
             "#0d0887"
            ],
            [
             0.1111111111111111,
             "#46039f"
            ],
            [
             0.2222222222222222,
             "#7201a8"
            ],
            [
             0.3333333333333333,
             "#9c179e"
            ],
            [
             0.4444444444444444,
             "#bd3786"
            ],
            [
             0.5555555555555556,
             "#d8576b"
            ],
            [
             0.6666666666666666,
             "#ed7953"
            ],
            [
             0.7777777777777778,
             "#fb9f3a"
            ],
            [
             0.8888888888888888,
             "#fdca26"
            ],
            [
             1,
             "#f0f921"
            ]
           ],
           "sequentialminus": [
            [
             0,
             "#0d0887"
            ],
            [
             0.1111111111111111,
             "#46039f"
            ],
            [
             0.2222222222222222,
             "#7201a8"
            ],
            [
             0.3333333333333333,
             "#9c179e"
            ],
            [
             0.4444444444444444,
             "#bd3786"
            ],
            [
             0.5555555555555556,
             "#d8576b"
            ],
            [
             0.6666666666666666,
             "#ed7953"
            ],
            [
             0.7777777777777778,
             "#fb9f3a"
            ],
            [
             0.8888888888888888,
             "#fdca26"
            ],
            [
             1,
             "#f0f921"
            ]
           ]
          },
          "colorway": [
           "#636efa",
           "#EF553B",
           "#00cc96",
           "#ab63fa",
           "#FFA15A",
           "#19d3f3",
           "#FF6692",
           "#B6E880",
           "#FF97FF",
           "#FECB52"
          ],
          "font": {
           "color": "#2a3f5f"
          },
          "geo": {
           "bgcolor": "white",
           "lakecolor": "white",
           "landcolor": "#E5ECF6",
           "showlakes": true,
           "showland": true,
           "subunitcolor": "white"
          },
          "hoverlabel": {
           "align": "left"
          },
          "hovermode": "closest",
          "mapbox": {
           "style": "light"
          },
          "paper_bgcolor": "white",
          "plot_bgcolor": "#E5ECF6",
          "polar": {
           "angularaxis": {
            "gridcolor": "white",
            "linecolor": "white",
            "ticks": ""
           },
           "bgcolor": "#E5ECF6",
           "radialaxis": {
            "gridcolor": "white",
            "linecolor": "white",
            "ticks": ""
           }
          },
          "scene": {
           "xaxis": {
            "backgroundcolor": "#E5ECF6",
            "gridcolor": "white",
            "gridwidth": 2,
            "linecolor": "white",
            "showbackground": true,
            "ticks": "",
            "zerolinecolor": "white"
           },
           "yaxis": {
            "backgroundcolor": "#E5ECF6",
            "gridcolor": "white",
            "gridwidth": 2,
            "linecolor": "white",
            "showbackground": true,
            "ticks": "",
            "zerolinecolor": "white"
           },
           "zaxis": {
            "backgroundcolor": "#E5ECF6",
            "gridcolor": "white",
            "gridwidth": 2,
            "linecolor": "white",
            "showbackground": true,
            "ticks": "",
            "zerolinecolor": "white"
           }
          },
          "shapedefaults": {
           "line": {
            "color": "#2a3f5f"
           }
          },
          "ternary": {
           "aaxis": {
            "gridcolor": "white",
            "linecolor": "white",
            "ticks": ""
           },
           "baxis": {
            "gridcolor": "white",
            "linecolor": "white",
            "ticks": ""
           },
           "bgcolor": "#E5ECF6",
           "caxis": {
            "gridcolor": "white",
            "linecolor": "white",
            "ticks": ""
           }
          },
          "title": {
           "x": 0.05
          },
          "xaxis": {
           "automargin": true,
           "gridcolor": "white",
           "linecolor": "white",
           "ticks": "",
           "title": {
            "standoff": 15
           },
           "zerolinecolor": "white",
           "zerolinewidth": 2
          },
          "yaxis": {
           "automargin": true,
           "gridcolor": "white",
           "linecolor": "white",
           "ticks": "",
           "title": {
            "standoff": 15
           },
           "zerolinecolor": "white",
           "zerolinewidth": 2
          }
         }
        },
        "title": {
         "text": "Percentile"
        },
        "xaxis": {
         "anchor": "y",
         "domain": [
          0,
          1
         ],
         "title": {
          "text": "index"
         }
        },
        "yaxis": {
         "anchor": "x",
         "domain": [
          0,
          1
         ],
         "title": {
          "text": "value"
         }
        }
       }
      }
     },
     "metadata": {},
     "output_type": "display_data"
    }
   ],
   "source": [
    "import plotly.express as px\n",
    "\n",
    "fig = px.bar(testdf_pct, x=\"index\", y=\"value\", color=\"Company\", title=\"Percentile\")\n",
    "fig.show()"
   ]
  },
  {
   "cell_type": "markdown",
   "metadata": {},
   "source": [
    "## Company Performance"
   ]
  },
  {
   "cell_type": "markdown",
   "metadata": {},
   "source": [
    "* Market potential\n",
    "    * competition / life cycle/ profit/ ROA/ Size/ Growth/ Trend\n",
    "* Company performance\n",
    "    * size / growth / profitability / efficiency / competition\n",
    "* industrial comparison\n",
    "    * profitability: total revenue / total operating income / median revenue / median operation margin / median net margin / break-even profitability\n",
    "    * growth: total revenue growth rate / total operating income growth rate / median revenue growth rate / median operating income growth rate\n",
    "    * efficiency: median sales general admin cost / total revenue/ median return on assets/ median return on invested capital\n",
    "    * efficiency: labor productivity = revenue / # of employees\n",
    "    * efficiency: market power = payable days / receivable days\n",
    "* market risk:\n",
    "    * profit vs cost - operating income (plot with cost as x and income or loss as y)\n",
    "    * breakdown revenue (cost of revenue/ SG&A expense/ tax / net income / other cost)\n",
    "* Instructions:\n",
    "    * Questions addressed: The starting point of competitive intelligence is often to understand the market potential, trend, risk, and the concentration / competition intensity. One may ask questions such as,\n",
    "        * What is the size of the market?\n",
    "        * Does it have a significant growth and / or profit potential?\n",
    "        * Which stage of the life-cycle (sun-rise, stable or saturated, sun-set) is it on?\n",
    "        * What is the risk of a significant loss?\n",
    "        * How intensive is the competition?\n",
    "    * Analysis instructions:In general, you need to specify a few parameters for the analysis, such as, analysis module (e.g., profitability, growth, financial health, efficiency, etc.), level of industry classification (level 4 refers to the finest level) and industry, country or state, and fiscal year."
   ]
  },
  {
   "cell_type": "code",
   "execution_count": null,
   "metadata": {},
   "outputs": [],
   "source": []
  },
  {
   "cell_type": "code",
   "execution_count": null,
   "metadata": {},
   "outputs": [],
   "source": []
  },
  {
   "cell_type": "code",
   "execution_count": null,
   "metadata": {},
   "outputs": [],
   "source": []
  },
  {
   "cell_type": "code",
   "execution_count": null,
   "metadata": {},
   "outputs": [],
   "source": []
  },
  {
   "cell_type": "code",
   "execution_count": null,
   "metadata": {},
   "outputs": [],
   "source": []
  },
  {
   "cell_type": "code",
   "execution_count": null,
   "metadata": {},
   "outputs": [],
   "source": []
  },
  {
   "cell_type": "code",
   "execution_count": null,
   "metadata": {},
   "outputs": [],
   "source": []
  },
  {
   "cell_type": "code",
   "execution_count": null,
   "metadata": {},
   "outputs": [],
   "source": []
  },
  {
   "cell_type": "code",
   "execution_count": null,
   "metadata": {},
   "outputs": [],
   "source": []
  }
 ],
 "metadata": {
  "language_info": {
   "name": "python"
  }
 },
 "nbformat": 4,
 "nbformat_minor": 2
}
