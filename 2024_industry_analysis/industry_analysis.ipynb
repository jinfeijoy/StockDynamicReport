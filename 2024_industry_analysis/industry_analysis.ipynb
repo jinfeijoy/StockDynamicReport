{
 "cells": [
  {
   "cell_type": "code",
   "execution_count": 1,
   "metadata": {},
   "outputs": [
    {
     "name": "stderr",
     "output_type": "stream",
     "text": [
      "c:\\Users\\jinfe\\anaconda3\\lib\\site-packages\\pandas\\core\\computation\\expressions.py:21: UserWarning: Pandas requires version '2.8.4' or newer of 'numexpr' (version '2.8.3' currently installed).\n",
      "  from pandas.core.computation.check import NUMEXPR_INSTALLED\n",
      "c:\\Users\\jinfe\\anaconda3\\lib\\site-packages\\pandas\\core\\arrays\\masked.py:60: UserWarning: Pandas requires version '1.3.6' or newer of 'bottleneck' (version '1.3.5' currently installed).\n",
      "  from pandas.core import (\n"
     ]
    }
   ],
   "source": [
    "import yfinance as yf \n",
    "from yahoofinancials import YahooFinancials\n",
    "\n",
    "from datetime import date, timedelta\n",
    "import requests\n",
    "import numpy as np\n",
    "import pandas as pd\n",
    "import warnings\n",
    "import pandas_datareader as web\n",
    "import seaborn as sns \n",
    "from matplotlib.pyplot import show\n",
    "from scipy import stats\n",
    "# import yahooquery\n",
    "warnings.filterwarnings('ignore')\n",
    "today = str(date.today())"
   ]
  },
  {
   "cell_type": "code",
   "execution_count": 7,
   "metadata": {},
   "outputs": [
    {
     "name": "stdout",
     "output_type": "stream",
     "text": [
      "Collecting yahooquery\n",
      "  Downloading yahooquery-2.3.7-py3-none-any.whl (52 kB)\n",
      "     ---------------------------------------- 52.7/52.7 kB 1.4 MB/s eta 0:00:00\n",
      "Collecting requests-futures<2.0.0,>=1.0.1\n",
      "  Downloading requests_futures-1.0.1-py2.py3-none-any.whl (7.6 kB)\n",
      "Collecting lxml<5.0.0,>=4.9.3\n",
      "  Downloading lxml-4.9.4-cp39-cp39-win_amd64.whl (3.9 MB)\n",
      "     ---------------------------------------- 3.9/3.9 MB 12.4 MB/s eta 0:00:00\n",
      "Requirement already satisfied: requests<3.0.0,>=2.31.0 in c:\\users\\jinfe\\anaconda3\\lib\\site-packages (from yahooquery) (2.32.3)\n",
      "Collecting pandas<3.0.0,>=2.0.3\n",
      "  Downloading pandas-2.2.2-cp39-cp39-win_amd64.whl (11.6 MB)\n",
      "     --------------------------------------- 11.6/11.6 MB 25.2 MB/s eta 0:00:00\n",
      "Collecting tqdm<5.0.0,>=4.65.0\n",
      "  Downloading tqdm-4.66.4-py3-none-any.whl (78 kB)\n",
      "     ---------------------------------------- 78.3/78.3 kB ? eta 0:00:00\n",
      "Collecting beautifulsoup4<5.0.0,>=4.12.2\n",
      "  Downloading beautifulsoup4-4.12.3-py3-none-any.whl (147 kB)\n",
      "     -------------------------------------- 147.9/147.9 kB 9.2 MB/s eta 0:00:00\n",
      "Requirement already satisfied: soupsieve>1.2 in c:\\users\\jinfe\\anaconda3\\lib\\site-packages (from beautifulsoup4<5.0.0,>=4.12.2->yahooquery) (2.3.1)\n",
      "Requirement already satisfied: pytz>=2020.1 in c:\\users\\jinfe\\anaconda3\\lib\\site-packages (from pandas<3.0.0,>=2.0.3->yahooquery) (2024.1)\n",
      "Requirement already satisfied: numpy>=1.22.4 in c:\\users\\jinfe\\anaconda3\\lib\\site-packages (from pandas<3.0.0,>=2.0.3->yahooquery) (1.24.4)\n",
      "Collecting tzdata>=2022.7\n",
      "  Downloading tzdata-2024.1-py2.py3-none-any.whl (345 kB)\n",
      "     ------------------------------------- 345.4/345.4 kB 20.9 MB/s eta 0:00:00\n",
      "Requirement already satisfied: python-dateutil>=2.8.2 in c:\\users\\jinfe\\anaconda3\\lib\\site-packages (from pandas<3.0.0,>=2.0.3->yahooquery) (2.8.2)\n",
      "Requirement already satisfied: charset-normalizer<4,>=2 in c:\\users\\jinfe\\anaconda3\\lib\\site-packages (from requests<3.0.0,>=2.31.0->yahooquery) (2.0.4)\n",
      "Requirement already satisfied: urllib3<3,>=1.21.1 in c:\\users\\jinfe\\anaconda3\\lib\\site-packages (from requests<3.0.0,>=2.31.0->yahooquery) (1.26.11)\n",
      "Requirement already satisfied: idna<4,>=2.5 in c:\\users\\jinfe\\anaconda3\\lib\\site-packages (from requests<3.0.0,>=2.31.0->yahooquery) (3.3)\n",
      "Requirement already satisfied: certifi>=2017.4.17 in c:\\users\\jinfe\\anaconda3\\lib\\site-packages (from requests<3.0.0,>=2.31.0->yahooquery) (2022.9.14)\n",
      "Requirement already satisfied: colorama in c:\\users\\jinfe\\anaconda3\\lib\\site-packages (from tqdm<5.0.0,>=4.65.0->yahooquery) (0.4.5)\n",
      "Requirement already satisfied: six>=1.5 in c:\\users\\jinfe\\anaconda3\\lib\\site-packages (from python-dateutil>=2.8.2->pandas<3.0.0,>=2.0.3->yahooquery) (1.16.0)\n",
      "Installing collected packages: tzdata, tqdm, lxml, beautifulsoup4, requests-futures, pandas, yahooquery\n",
      "  Attempting uninstall: tqdm\n",
      "    Found existing installation: tqdm 4.64.1\n",
      "    Uninstalling tqdm-4.64.1:\n",
      "      Successfully uninstalled tqdm-4.64.1\n",
      "  Attempting uninstall: lxml\n",
      "    Found existing installation: lxml 4.9.1\n",
      "    Uninstalling lxml-4.9.1:\n",
      "      Successfully uninstalled lxml-4.9.1\n",
      "  Attempting uninstall: beautifulsoup4\n",
      "    Found existing installation: beautifulsoup4 4.11.1\n",
      "    Uninstalling beautifulsoup4-4.11.1:\n",
      "      Successfully uninstalled beautifulsoup4-4.11.1\n",
      "  Attempting uninstall: pandas\n",
      "    Found existing installation: pandas 1.4.4\n",
      "    Uninstalling pandas-1.4.4:\n",
      "      Successfully uninstalled pandas-1.4.4\n",
      "Successfully installed beautifulsoup4-4.12.3 lxml-4.9.4 pandas-2.2.2 requests-futures-1.0.1 tqdm-4.66.4 tzdata-2024.1 yahooquery-2.3.7\n"
     ]
    },
    {
     "name": "stderr",
     "output_type": "stream",
     "text": [
      "ERROR: pip's dependency resolver does not currently take into account all the packages that are installed. This behaviour is the source of the following dependency conflicts.\n",
      "ydata-profiling 4.5.0 requires numpy<1.24,>=1.16.0, but you have numpy 1.24.4 which is incompatible.\n",
      "ydata-profiling 4.5.0 requires pandas!=1.4.0,<2.1,>1.1, but you have pandas 2.2.2 which is incompatible.\n"
     ]
    }
   ],
   "source": []
  },
  {
   "cell_type": "code",
   "execution_count": 21,
   "metadata": {},
   "outputs": [],
   "source": [
    "def calculate_growth(df, column, transpose = True):\n",
    "    if transpose == True:\n",
    "        sort_df = df.T.sort_index(ascending=False)[[column]]\n",
    "    else:\n",
    "        sort_df = df.sort_index(ascending=False)[[column]]\n",
    "    growth_col = column + ' growth'\n",
    "    sort_df[growth_col] = sort_df[column] / sort_df[column].shift(-1)\n",
    "    return sort_df, sort_df[growth_col].iloc[0]\n",
    "\n",
    "def get_kpi(stock_ticker):\n",
    "    company_df = yf.Ticker(stock_ticker)\n",
    "\n",
    "    income_stm = company_df.income_stmt[company_df.income_stmt.index.isin(['Total Operating Income As Reported','Net Income','Cost Of Revenue', 'Total Revenue', 'Operating Revenue', 'Gross Profit'])]\n",
    "    balance_stm = company_df.balance_sheet[company_df.balance_sheet.index.isin(['Total Assets', 'Cash Cash Equivalents And Short Term Investments','Current Liabilities'])]\n",
    "    cf_stm = company_df.cashflow[company_df.cashflow.index.isin(['Free Cash Flow','Operating Gains Losses'])]\n",
    "\n",
    "    # statement = income_stm.append(balance_stm).append(cf_stm)\n",
    "    statement = pd.concat([income_stm, balance_stm, cf_stm])\n",
    "    curr_stm = statement[statement.columns.max()]\n",
    "\n",
    "    # KPI\n",
    "    # profitability\n",
    "    profitability = {\n",
    "        'revenue': curr_stm['Total Revenue'],\n",
    "        'cost': curr_stm['Cost Of Revenue'],\n",
    "        'operating_income': curr_stm['Total Operating Income As Reported'],\n",
    "        'net_profit': curr_stm['Gross Profit'],\n",
    "        'total_asset': curr_stm['Total Assets'],\n",
    "        'gross_margin' : company_df.info['grossMargins'],\n",
    "        'operating_margin' : company_df.info['operatingMargins'],  \n",
    "        'net_margin' : company_df.info['profitMargins'],    \n",
    "        'ROA' : company_df.info['returnOnAssets'],\n",
    "        'ROE' : company_df.info['returnOnEquity'] \n",
    "    }\n",
    "    profitability = pd.DataFrame.from_dict(profitability, orient='index', columns=['Value']).reset_index()\n",
    "\n",
    "\n",
    "    # Financial health\n",
    "    financial_health = {\n",
    "        'cashflow_over_cost' : curr_stm['Free Cash Flow'] / curr_stm['Cost Of Revenue'],\n",
    "        'current_ratio' : company_df.info['currentRatio'],\n",
    "        'liability_asset_ratio' : curr_stm['Current Liabilities'] / curr_stm['Total Assets']\n",
    "    } \n",
    "    financial_health = pd.DataFrame.from_dict(financial_health, orient='index', columns=['Value']).reset_index()\n",
    "\n",
    "\n",
    "    # Growth \n",
    "    _, operating_income_growth = calculate_growth(statement, column = 'Total Operating Income As Reported', transpose = True)\n",
    "    _, free_cashflow_growth = calculate_growth(statement, column = 'Free Cash Flow', transpose = True)\n",
    "    growth = {\n",
    "        'revenue_growth' : company_df.info['revenueGrowth'],\n",
    "        'net_income_growth' : company_df.info['earningsGrowth'],\n",
    "        'operating_income_growth': operating_income_growth,\n",
    "        'free_cashflow_growth': free_cashflow_growth\n",
    "    }\n",
    "    growth = pd.DataFrame.from_dict(growth, orient='index', columns=['Value']).reset_index()\n",
    "\n",
    "    # Operational efficiency \n",
    "    # sales_cost_over_revenue\n",
    "    # inventory_days\n",
    "    # all_kpi = profitability.append(financial_health).append(growth)\n",
    "    all_kpi = pd.concat([profitability, financial_health,growth])\n",
    "    output = {\n",
    "        'statement' : statement,\n",
    "        'profitability': profitability, \n",
    "        'financial_health': financial_health, \n",
    "        'growth': growth,\n",
    "        'all_kpi': all_kpi\n",
    "    }\n",
    "\n",
    "    return output\n",
    "\n",
    "\n",
    "\n",
    "def get_multiple_stocks_kpi(stock_list):\n",
    "    \"\"\" \n",
    "    stock_list: list of stock ticker\n",
    "\n",
    "    kpi to be collected: revenue, cost, operating income, operating margin, ROA, liability asset ratio, profit \n",
    "    \"\"\"\n",
    "    all_company_kpi = pd.DataFrame()\n",
    "    for ticker in stock_list:\n",
    "        company_kpi = get_kpi(stock_ticker = ticker)['all_kpi']\n",
    "        company_kpi['Company'] = ticker\n",
    "        # all_company_kpi = all_company_kpi.append(company_kpi)\n",
    "        all_company_kpi = pd.concat([all_company_kpi, company_kpi])\n",
    "    \n",
    "    return all_company_kpi\n",
    "\n",
    "def plot_with_diagonal(plot_df, x_col, y_col, hue_col, title=None, diagonal = True):\n",
    "    plot = sns.scatterplot(data=plot_df, x=x_col, y=y_col, hue=hue_col)\n",
    "    if diagonal == True:\n",
    "        x0, x1 = plot.get_xlim()\n",
    "        y0, y1 = plot.get_ylim()\n",
    "        lims = [0, min(x1, y1)]\n",
    "        plot.plot(lims, lims, '-r')\n",
    "    plot.set_title(title)\n",
    "    show()"
   ]
  },
  {
   "cell_type": "code",
   "execution_count": null,
   "metadata": {},
   "outputs": [],
   "source": [
    "testdf = get_multiple_stocks_kpi(['AAPL', 'MSFT', 'NVDA', 'GOOGL', 'AMZN', 'META', 'AVGO', 'TSLA', 'V'])\n",
    "testdf = testdf.pivot(index='Company', columns='index', values='Value').reset_index()\n",
    "testdf"
   ]
  },
  {
   "cell_type": "code",
   "execution_count": 29,
   "metadata": {},
   "outputs": [],
   "source": [
    "company_kpi = get_kpi(stock_ticker = 'AAPL')['statement']\n",
    "company_kpi = company_kpi.melt(ignore_index=False).reset_index()"
   ]
  },
  {
   "cell_type": "code",
   "execution_count": 31,
   "metadata": {},
   "outputs": [
    {
     "data": {
      "application/vnd.plotly.v1+json": {
       "config": {
        "plotlyServerURL": "https://plot.ly"
       },
       "data": [
        {
         "hovertemplate": "index=Total Operating Income As Reported<br>variable=%{x}<br>value=%{y}<extra></extra>",
         "legendgroup": "Total Operating Income As Reported",
         "line": {
          "color": "#636efa",
          "dash": "solid"
         },
         "marker": {
          "symbol": "circle"
         },
         "mode": "lines",
         "name": "Total Operating Income As Reported",
         "orientation": "v",
         "showlegend": true,
         "type": "scatter",
         "x": [
          "2019-09-30T00:00:00",
          "2020-09-30T00:00:00",
          "2021-09-30T00:00:00",
          "2022-09-30T00:00:00",
          "2023-09-30T00:00:00"
         ],
         "xaxis": "x",
         "y": [
          null,
          66288000000,
          108949000000,
          119437000000,
          114301000000
         ],
         "yaxis": "y"
        },
        {
         "hovertemplate": "index=Net Income<br>variable=%{x}<br>value=%{y}<extra></extra>",
         "legendgroup": "Net Income",
         "line": {
          "color": "#EF553B",
          "dash": "solid"
         },
         "marker": {
          "symbol": "circle"
         },
         "mode": "lines",
         "name": "Net Income",
         "orientation": "v",
         "showlegend": true,
         "type": "scatter",
         "x": [
          "2019-09-30T00:00:00",
          "2020-09-30T00:00:00",
          "2021-09-30T00:00:00",
          "2022-09-30T00:00:00",
          "2023-09-30T00:00:00"
         ],
         "xaxis": "x",
         "y": [
          null,
          57411000000,
          94680000000,
          99803000000,
          96995000000
         ],
         "yaxis": "y"
        },
        {
         "hovertemplate": "index=Gross Profit<br>variable=%{x}<br>value=%{y}<extra></extra>",
         "legendgroup": "Gross Profit",
         "line": {
          "color": "#00cc96",
          "dash": "solid"
         },
         "marker": {
          "symbol": "circle"
         },
         "mode": "lines",
         "name": "Gross Profit",
         "orientation": "v",
         "showlegend": true,
         "type": "scatter",
         "x": [
          "2019-09-30T00:00:00",
          "2020-09-30T00:00:00",
          "2021-09-30T00:00:00",
          "2022-09-30T00:00:00",
          "2023-09-30T00:00:00"
         ],
         "xaxis": "x",
         "y": [
          null,
          104956000000,
          152836000000,
          170782000000,
          169148000000
         ],
         "yaxis": "y"
        },
        {
         "hovertemplate": "index=Cost Of Revenue<br>variable=%{x}<br>value=%{y}<extra></extra>",
         "legendgroup": "Cost Of Revenue",
         "line": {
          "color": "#ab63fa",
          "dash": "solid"
         },
         "marker": {
          "symbol": "circle"
         },
         "mode": "lines",
         "name": "Cost Of Revenue",
         "orientation": "v",
         "showlegend": true,
         "type": "scatter",
         "x": [
          "2019-09-30T00:00:00",
          "2020-09-30T00:00:00",
          "2021-09-30T00:00:00",
          "2022-09-30T00:00:00",
          "2023-09-30T00:00:00"
         ],
         "xaxis": "x",
         "y": [
          null,
          169559000000,
          212981000000,
          223546000000,
          214137000000
         ],
         "yaxis": "y"
        },
        {
         "hovertemplate": "index=Total Revenue<br>variable=%{x}<br>value=%{y}<extra></extra>",
         "legendgroup": "Total Revenue",
         "line": {
          "color": "#FFA15A",
          "dash": "solid"
         },
         "marker": {
          "symbol": "circle"
         },
         "mode": "lines",
         "name": "Total Revenue",
         "orientation": "v",
         "showlegend": true,
         "type": "scatter",
         "x": [
          "2019-09-30T00:00:00",
          "2020-09-30T00:00:00",
          "2021-09-30T00:00:00",
          "2022-09-30T00:00:00",
          "2023-09-30T00:00:00"
         ],
         "xaxis": "x",
         "y": [
          null,
          274515000000,
          365817000000,
          394328000000,
          383285000000
         ],
         "yaxis": "y"
        },
        {
         "hovertemplate": "index=Operating Revenue<br>variable=%{x}<br>value=%{y}<extra></extra>",
         "legendgroup": "Operating Revenue",
         "line": {
          "color": "#19d3f3",
          "dash": "solid"
         },
         "marker": {
          "symbol": "circle"
         },
         "mode": "lines",
         "name": "Operating Revenue",
         "orientation": "v",
         "showlegend": true,
         "type": "scatter",
         "x": [
          "2019-09-30T00:00:00",
          "2020-09-30T00:00:00",
          "2021-09-30T00:00:00",
          "2022-09-30T00:00:00",
          "2023-09-30T00:00:00"
         ],
         "xaxis": "x",
         "y": [
          null,
          274515000000,
          365817000000,
          394328000000,
          383285000000
         ],
         "yaxis": "y"
        },
        {
         "hovertemplate": "index=Current Liabilities<br>variable=%{x}<br>value=%{y}<extra></extra>",
         "legendgroup": "Current Liabilities",
         "line": {
          "color": "#FF6692",
          "dash": "solid"
         },
         "marker": {
          "symbol": "circle"
         },
         "mode": "lines",
         "name": "Current Liabilities",
         "orientation": "v",
         "showlegend": true,
         "type": "scatter",
         "x": [
          "2019-09-30T00:00:00",
          "2020-09-30T00:00:00",
          "2021-09-30T00:00:00",
          "2022-09-30T00:00:00",
          "2023-09-30T00:00:00"
         ],
         "xaxis": "x",
         "y": [
          null,
          105392000000,
          125481000000,
          153982000000,
          145308000000
         ],
         "yaxis": "y"
        },
        {
         "hovertemplate": "index=Total Assets<br>variable=%{x}<br>value=%{y}<extra></extra>",
         "legendgroup": "Total Assets",
         "line": {
          "color": "#B6E880",
          "dash": "solid"
         },
         "marker": {
          "symbol": "circle"
         },
         "mode": "lines",
         "name": "Total Assets",
         "orientation": "v",
         "showlegend": true,
         "type": "scatter",
         "x": [
          "2019-09-30T00:00:00",
          "2020-09-30T00:00:00",
          "2021-09-30T00:00:00",
          "2022-09-30T00:00:00",
          "2023-09-30T00:00:00"
         ],
         "xaxis": "x",
         "y": [
          null,
          323888000000,
          351002000000,
          352755000000,
          352583000000
         ],
         "yaxis": "y"
        },
        {
         "hovertemplate": "index=Cash Cash Equivalents And Short Term Investments<br>variable=%{x}<br>value=%{y}<extra></extra>",
         "legendgroup": "Cash Cash Equivalents And Short Term Investments",
         "line": {
          "color": "#FF97FF",
          "dash": "solid"
         },
         "marker": {
          "symbol": "circle"
         },
         "mode": "lines",
         "name": "Cash Cash Equivalents And Short Term Investments",
         "orientation": "v",
         "showlegend": true,
         "type": "scatter",
         "x": [
          "2019-09-30T00:00:00",
          "2020-09-30T00:00:00",
          "2021-09-30T00:00:00",
          "2022-09-30T00:00:00",
          "2023-09-30T00:00:00"
         ],
         "xaxis": "x",
         "y": [
          null,
          90943000000,
          62639000000,
          48304000000,
          61555000000
         ],
         "yaxis": "y"
        },
        {
         "hovertemplate": "index=Free Cash Flow<br>variable=%{x}<br>value=%{y}<extra></extra>",
         "legendgroup": "Free Cash Flow",
         "line": {
          "color": "#FECB52",
          "dash": "solid"
         },
         "marker": {
          "symbol": "circle"
         },
         "mode": "lines",
         "name": "Free Cash Flow",
         "orientation": "v",
         "showlegend": true,
         "type": "scatter",
         "x": [
          "2019-09-30T00:00:00",
          "2020-09-30T00:00:00",
          "2021-09-30T00:00:00",
          "2022-09-30T00:00:00",
          "2023-09-30T00:00:00"
         ],
         "xaxis": "x",
         "y": [
          null,
          73365000000,
          92953000000,
          111443000000,
          99584000000
         ],
         "yaxis": "y"
        }
       ],
       "layout": {
        "legend": {
         "title": {
          "text": "index"
         },
         "tracegroupgap": 0
        },
        "margin": {
         "t": 60
        },
        "template": {
         "data": {
          "bar": [
           {
            "error_x": {
             "color": "#2a3f5f"
            },
            "error_y": {
             "color": "#2a3f5f"
            },
            "marker": {
             "line": {
              "color": "#E5ECF6",
              "width": 0.5
             },
             "pattern": {
              "fillmode": "overlay",
              "size": 10,
              "solidity": 0.2
             }
            },
            "type": "bar"
           }
          ],
          "barpolar": [
           {
            "marker": {
             "line": {
              "color": "#E5ECF6",
              "width": 0.5
             },
             "pattern": {
              "fillmode": "overlay",
              "size": 10,
              "solidity": 0.2
             }
            },
            "type": "barpolar"
           }
          ],
          "carpet": [
           {
            "aaxis": {
             "endlinecolor": "#2a3f5f",
             "gridcolor": "white",
             "linecolor": "white",
             "minorgridcolor": "white",
             "startlinecolor": "#2a3f5f"
            },
            "baxis": {
             "endlinecolor": "#2a3f5f",
             "gridcolor": "white",
             "linecolor": "white",
             "minorgridcolor": "white",
             "startlinecolor": "#2a3f5f"
            },
            "type": "carpet"
           }
          ],
          "choropleth": [
           {
            "colorbar": {
             "outlinewidth": 0,
             "ticks": ""
            },
            "type": "choropleth"
           }
          ],
          "contour": [
           {
            "colorbar": {
             "outlinewidth": 0,
             "ticks": ""
            },
            "colorscale": [
             [
              0,
              "#0d0887"
             ],
             [
              0.1111111111111111,
              "#46039f"
             ],
             [
              0.2222222222222222,
              "#7201a8"
             ],
             [
              0.3333333333333333,
              "#9c179e"
             ],
             [
              0.4444444444444444,
              "#bd3786"
             ],
             [
              0.5555555555555556,
              "#d8576b"
             ],
             [
              0.6666666666666666,
              "#ed7953"
             ],
             [
              0.7777777777777778,
              "#fb9f3a"
             ],
             [
              0.8888888888888888,
              "#fdca26"
             ],
             [
              1,
              "#f0f921"
             ]
            ],
            "type": "contour"
           }
          ],
          "contourcarpet": [
           {
            "colorbar": {
             "outlinewidth": 0,
             "ticks": ""
            },
            "type": "contourcarpet"
           }
          ],
          "heatmap": [
           {
            "colorbar": {
             "outlinewidth": 0,
             "ticks": ""
            },
            "colorscale": [
             [
              0,
              "#0d0887"
             ],
             [
              0.1111111111111111,
              "#46039f"
             ],
             [
              0.2222222222222222,
              "#7201a8"
             ],
             [
              0.3333333333333333,
              "#9c179e"
             ],
             [
              0.4444444444444444,
              "#bd3786"
             ],
             [
              0.5555555555555556,
              "#d8576b"
             ],
             [
              0.6666666666666666,
              "#ed7953"
             ],
             [
              0.7777777777777778,
              "#fb9f3a"
             ],
             [
              0.8888888888888888,
              "#fdca26"
             ],
             [
              1,
              "#f0f921"
             ]
            ],
            "type": "heatmap"
           }
          ],
          "heatmapgl": [
           {
            "colorbar": {
             "outlinewidth": 0,
             "ticks": ""
            },
            "colorscale": [
             [
              0,
              "#0d0887"
             ],
             [
              0.1111111111111111,
              "#46039f"
             ],
             [
              0.2222222222222222,
              "#7201a8"
             ],
             [
              0.3333333333333333,
              "#9c179e"
             ],
             [
              0.4444444444444444,
              "#bd3786"
             ],
             [
              0.5555555555555556,
              "#d8576b"
             ],
             [
              0.6666666666666666,
              "#ed7953"
             ],
             [
              0.7777777777777778,
              "#fb9f3a"
             ],
             [
              0.8888888888888888,
              "#fdca26"
             ],
             [
              1,
              "#f0f921"
             ]
            ],
            "type": "heatmapgl"
           }
          ],
          "histogram": [
           {
            "marker": {
             "pattern": {
              "fillmode": "overlay",
              "size": 10,
              "solidity": 0.2
             }
            },
            "type": "histogram"
           }
          ],
          "histogram2d": [
           {
            "colorbar": {
             "outlinewidth": 0,
             "ticks": ""
            },
            "colorscale": [
             [
              0,
              "#0d0887"
             ],
             [
              0.1111111111111111,
              "#46039f"
             ],
             [
              0.2222222222222222,
              "#7201a8"
             ],
             [
              0.3333333333333333,
              "#9c179e"
             ],
             [
              0.4444444444444444,
              "#bd3786"
             ],
             [
              0.5555555555555556,
              "#d8576b"
             ],
             [
              0.6666666666666666,
              "#ed7953"
             ],
             [
              0.7777777777777778,
              "#fb9f3a"
             ],
             [
              0.8888888888888888,
              "#fdca26"
             ],
             [
              1,
              "#f0f921"
             ]
            ],
            "type": "histogram2d"
           }
          ],
          "histogram2dcontour": [
           {
            "colorbar": {
             "outlinewidth": 0,
             "ticks": ""
            },
            "colorscale": [
             [
              0,
              "#0d0887"
             ],
             [
              0.1111111111111111,
              "#46039f"
             ],
             [
              0.2222222222222222,
              "#7201a8"
             ],
             [
              0.3333333333333333,
              "#9c179e"
             ],
             [
              0.4444444444444444,
              "#bd3786"
             ],
             [
              0.5555555555555556,
              "#d8576b"
             ],
             [
              0.6666666666666666,
              "#ed7953"
             ],
             [
              0.7777777777777778,
              "#fb9f3a"
             ],
             [
              0.8888888888888888,
              "#fdca26"
             ],
             [
              1,
              "#f0f921"
             ]
            ],
            "type": "histogram2dcontour"
           }
          ],
          "mesh3d": [
           {
            "colorbar": {
             "outlinewidth": 0,
             "ticks": ""
            },
            "type": "mesh3d"
           }
          ],
          "parcoords": [
           {
            "line": {
             "colorbar": {
              "outlinewidth": 0,
              "ticks": ""
             }
            },
            "type": "parcoords"
           }
          ],
          "pie": [
           {
            "automargin": true,
            "type": "pie"
           }
          ],
          "scatter": [
           {
            "fillpattern": {
             "fillmode": "overlay",
             "size": 10,
             "solidity": 0.2
            },
            "type": "scatter"
           }
          ],
          "scatter3d": [
           {
            "line": {
             "colorbar": {
              "outlinewidth": 0,
              "ticks": ""
             }
            },
            "marker": {
             "colorbar": {
              "outlinewidth": 0,
              "ticks": ""
             }
            },
            "type": "scatter3d"
           }
          ],
          "scattercarpet": [
           {
            "marker": {
             "colorbar": {
              "outlinewidth": 0,
              "ticks": ""
             }
            },
            "type": "scattercarpet"
           }
          ],
          "scattergeo": [
           {
            "marker": {
             "colorbar": {
              "outlinewidth": 0,
              "ticks": ""
             }
            },
            "type": "scattergeo"
           }
          ],
          "scattergl": [
           {
            "marker": {
             "colorbar": {
              "outlinewidth": 0,
              "ticks": ""
             }
            },
            "type": "scattergl"
           }
          ],
          "scattermapbox": [
           {
            "marker": {
             "colorbar": {
              "outlinewidth": 0,
              "ticks": ""
             }
            },
            "type": "scattermapbox"
           }
          ],
          "scatterpolar": [
           {
            "marker": {
             "colorbar": {
              "outlinewidth": 0,
              "ticks": ""
             }
            },
            "type": "scatterpolar"
           }
          ],
          "scatterpolargl": [
           {
            "marker": {
             "colorbar": {
              "outlinewidth": 0,
              "ticks": ""
             }
            },
            "type": "scatterpolargl"
           }
          ],
          "scatterternary": [
           {
            "marker": {
             "colorbar": {
              "outlinewidth": 0,
              "ticks": ""
             }
            },
            "type": "scatterternary"
           }
          ],
          "surface": [
           {
            "colorbar": {
             "outlinewidth": 0,
             "ticks": ""
            },
            "colorscale": [
             [
              0,
              "#0d0887"
             ],
             [
              0.1111111111111111,
              "#46039f"
             ],
             [
              0.2222222222222222,
              "#7201a8"
             ],
             [
              0.3333333333333333,
              "#9c179e"
             ],
             [
              0.4444444444444444,
              "#bd3786"
             ],
             [
              0.5555555555555556,
              "#d8576b"
             ],
             [
              0.6666666666666666,
              "#ed7953"
             ],
             [
              0.7777777777777778,
              "#fb9f3a"
             ],
             [
              0.8888888888888888,
              "#fdca26"
             ],
             [
              1,
              "#f0f921"
             ]
            ],
            "type": "surface"
           }
          ],
          "table": [
           {
            "cells": {
             "fill": {
              "color": "#EBF0F8"
             },
             "line": {
              "color": "white"
             }
            },
            "header": {
             "fill": {
              "color": "#C8D4E3"
             },
             "line": {
              "color": "white"
             }
            },
            "type": "table"
           }
          ]
         },
         "layout": {
          "annotationdefaults": {
           "arrowcolor": "#2a3f5f",
           "arrowhead": 0,
           "arrowwidth": 1
          },
          "autotypenumbers": "strict",
          "coloraxis": {
           "colorbar": {
            "outlinewidth": 0,
            "ticks": ""
           }
          },
          "colorscale": {
           "diverging": [
            [
             0,
             "#8e0152"
            ],
            [
             0.1,
             "#c51b7d"
            ],
            [
             0.2,
             "#de77ae"
            ],
            [
             0.3,
             "#f1b6da"
            ],
            [
             0.4,
             "#fde0ef"
            ],
            [
             0.5,
             "#f7f7f7"
            ],
            [
             0.6,
             "#e6f5d0"
            ],
            [
             0.7,
             "#b8e186"
            ],
            [
             0.8,
             "#7fbc41"
            ],
            [
             0.9,
             "#4d9221"
            ],
            [
             1,
             "#276419"
            ]
           ],
           "sequential": [
            [
             0,
             "#0d0887"
            ],
            [
             0.1111111111111111,
             "#46039f"
            ],
            [
             0.2222222222222222,
             "#7201a8"
            ],
            [
             0.3333333333333333,
             "#9c179e"
            ],
            [
             0.4444444444444444,
             "#bd3786"
            ],
            [
             0.5555555555555556,
             "#d8576b"
            ],
            [
             0.6666666666666666,
             "#ed7953"
            ],
            [
             0.7777777777777778,
             "#fb9f3a"
            ],
            [
             0.8888888888888888,
             "#fdca26"
            ],
            [
             1,
             "#f0f921"
            ]
           ],
           "sequentialminus": [
            [
             0,
             "#0d0887"
            ],
            [
             0.1111111111111111,
             "#46039f"
            ],
            [
             0.2222222222222222,
             "#7201a8"
            ],
            [
             0.3333333333333333,
             "#9c179e"
            ],
            [
             0.4444444444444444,
             "#bd3786"
            ],
            [
             0.5555555555555556,
             "#d8576b"
            ],
            [
             0.6666666666666666,
             "#ed7953"
            ],
            [
             0.7777777777777778,
             "#fb9f3a"
            ],
            [
             0.8888888888888888,
             "#fdca26"
            ],
            [
             1,
             "#f0f921"
            ]
           ]
          },
          "colorway": [
           "#636efa",
           "#EF553B",
           "#00cc96",
           "#ab63fa",
           "#FFA15A",
           "#19d3f3",
           "#FF6692",
           "#B6E880",
           "#FF97FF",
           "#FECB52"
          ],
          "font": {
           "color": "#2a3f5f"
          },
          "geo": {
           "bgcolor": "white",
           "lakecolor": "white",
           "landcolor": "#E5ECF6",
           "showlakes": true,
           "showland": true,
           "subunitcolor": "white"
          },
          "hoverlabel": {
           "align": "left"
          },
          "hovermode": "closest",
          "mapbox": {
           "style": "light"
          },
          "paper_bgcolor": "white",
          "plot_bgcolor": "#E5ECF6",
          "polar": {
           "angularaxis": {
            "gridcolor": "white",
            "linecolor": "white",
            "ticks": ""
           },
           "bgcolor": "#E5ECF6",
           "radialaxis": {
            "gridcolor": "white",
            "linecolor": "white",
            "ticks": ""
           }
          },
          "scene": {
           "xaxis": {
            "backgroundcolor": "#E5ECF6",
            "gridcolor": "white",
            "gridwidth": 2,
            "linecolor": "white",
            "showbackground": true,
            "ticks": "",
            "zerolinecolor": "white"
           },
           "yaxis": {
            "backgroundcolor": "#E5ECF6",
            "gridcolor": "white",
            "gridwidth": 2,
            "linecolor": "white",
            "showbackground": true,
            "ticks": "",
            "zerolinecolor": "white"
           },
           "zaxis": {
            "backgroundcolor": "#E5ECF6",
            "gridcolor": "white",
            "gridwidth": 2,
            "linecolor": "white",
            "showbackground": true,
            "ticks": "",
            "zerolinecolor": "white"
           }
          },
          "shapedefaults": {
           "line": {
            "color": "#2a3f5f"
           }
          },
          "ternary": {
           "aaxis": {
            "gridcolor": "white",
            "linecolor": "white",
            "ticks": ""
           },
           "baxis": {
            "gridcolor": "white",
            "linecolor": "white",
            "ticks": ""
           },
           "bgcolor": "#E5ECF6",
           "caxis": {
            "gridcolor": "white",
            "linecolor": "white",
            "ticks": ""
           }
          },
          "title": {
           "x": 0.05
          },
          "xaxis": {
           "automargin": true,
           "gridcolor": "white",
           "linecolor": "white",
           "ticks": "",
           "title": {
            "standoff": 15
           },
           "zerolinecolor": "white",
           "zerolinewidth": 2
          },
          "yaxis": {
           "automargin": true,
           "gridcolor": "white",
           "linecolor": "white",
           "ticks": "",
           "title": {
            "standoff": 15
           },
           "zerolinecolor": "white",
           "zerolinewidth": 2
          }
         }
        },
        "xaxis": {
         "anchor": "y",
         "domain": [
          0,
          1
         ],
         "title": {
          "text": "variable"
         }
        },
        "yaxis": {
         "anchor": "x",
         "domain": [
          0,
          1
         ],
         "title": {
          "text": "value"
         }
        }
       }
      }
     },
     "metadata": {},
     "output_type": "display_data"
    }
   ],
   "source": [
    "import plotly.express as px\n",
    "\n",
    "fig = px.line(company_kpi, x=\"variable\", y=\"value\", color='index')\n",
    "fig.show()"
   ]
  },
  {
   "cell_type": "code",
   "execution_count": 52,
   "metadata": {},
   "outputs": [
    {
     "data": {
      "text/html": [
       "<div>\n",
       "<style scoped>\n",
       "    .dataframe tbody tr th:only-of-type {\n",
       "        vertical-align: middle;\n",
       "    }\n",
       "\n",
       "    .dataframe tbody tr th {\n",
       "        vertical-align: top;\n",
       "    }\n",
       "\n",
       "    .dataframe thead th {\n",
       "        text-align: right;\n",
       "    }\n",
       "</style>\n",
       "<table border=\"1\" class=\"dataframe\">\n",
       "  <thead>\n",
       "    <tr style=\"text-align: right;\">\n",
       "      <th></th>\n",
       "      <th>index</th>\n",
       "      <th>value</th>\n",
       "      <th>company</th>\n",
       "    </tr>\n",
       "  </thead>\n",
       "  <tbody>\n",
       "    <tr>\n",
       "      <th>0</th>\n",
       "      <td>Tax Effect Of Unusual Items</td>\n",
       "      <td>0.0</td>\n",
       "      <td>AAPL</td>\n",
       "    </tr>\n",
       "    <tr>\n",
       "      <th>1</th>\n",
       "      <td>Tax Rate For Calcs</td>\n",
       "      <td>0.147</td>\n",
       "      <td>AAPL</td>\n",
       "    </tr>\n",
       "    <tr>\n",
       "      <th>2</th>\n",
       "      <td>Normalized EBITDA</td>\n",
       "      <td>129188000000.0</td>\n",
       "      <td>AAPL</td>\n",
       "    </tr>\n",
       "    <tr>\n",
       "      <th>3</th>\n",
       "      <td>Net Income From Continuing Operation Net Minor...</td>\n",
       "      <td>96995000000.0</td>\n",
       "      <td>AAPL</td>\n",
       "    </tr>\n",
       "    <tr>\n",
       "      <th>4</th>\n",
       "      <td>Reconciled Depreciation</td>\n",
       "      <td>11519000000.0</td>\n",
       "      <td>AAPL</td>\n",
       "    </tr>\n",
       "    <tr>\n",
       "      <th>5</th>\n",
       "      <td>Reconciled Cost Of Revenue</td>\n",
       "      <td>214137000000.0</td>\n",
       "      <td>AAPL</td>\n",
       "    </tr>\n",
       "    <tr>\n",
       "      <th>6</th>\n",
       "      <td>EBITDA</td>\n",
       "      <td>129188000000.0</td>\n",
       "      <td>AAPL</td>\n",
       "    </tr>\n",
       "    <tr>\n",
       "      <th>7</th>\n",
       "      <td>EBIT</td>\n",
       "      <td>117669000000.0</td>\n",
       "      <td>AAPL</td>\n",
       "    </tr>\n",
       "    <tr>\n",
       "      <th>8</th>\n",
       "      <td>Net Interest Income</td>\n",
       "      <td>-183000000.0</td>\n",
       "      <td>AAPL</td>\n",
       "    </tr>\n",
       "    <tr>\n",
       "      <th>9</th>\n",
       "      <td>Interest Expense</td>\n",
       "      <td>3933000000.0</td>\n",
       "      <td>AAPL</td>\n",
       "    </tr>\n",
       "    <tr>\n",
       "      <th>10</th>\n",
       "      <td>Interest Income</td>\n",
       "      <td>3750000000.0</td>\n",
       "      <td>AAPL</td>\n",
       "    </tr>\n",
       "    <tr>\n",
       "      <th>11</th>\n",
       "      <td>Normalized Income</td>\n",
       "      <td>96995000000.0</td>\n",
       "      <td>AAPL</td>\n",
       "    </tr>\n",
       "    <tr>\n",
       "      <th>12</th>\n",
       "      <td>Net Income From Continuing And Discontinued Op...</td>\n",
       "      <td>96995000000.0</td>\n",
       "      <td>AAPL</td>\n",
       "    </tr>\n",
       "    <tr>\n",
       "      <th>13</th>\n",
       "      <td>Total Expenses</td>\n",
       "      <td>268984000000.0</td>\n",
       "      <td>AAPL</td>\n",
       "    </tr>\n",
       "    <tr>\n",
       "      <th>14</th>\n",
       "      <td>Total Operating Income As Reported</td>\n",
       "      <td>114301000000.0</td>\n",
       "      <td>AAPL</td>\n",
       "    </tr>\n",
       "    <tr>\n",
       "      <th>15</th>\n",
       "      <td>Diluted Average Shares</td>\n",
       "      <td>15812547000.0</td>\n",
       "      <td>AAPL</td>\n",
       "    </tr>\n",
       "    <tr>\n",
       "      <th>16</th>\n",
       "      <td>Basic Average Shares</td>\n",
       "      <td>15744231000.0</td>\n",
       "      <td>AAPL</td>\n",
       "    </tr>\n",
       "    <tr>\n",
       "      <th>17</th>\n",
       "      <td>Diluted EPS</td>\n",
       "      <td>6.13</td>\n",
       "      <td>AAPL</td>\n",
       "    </tr>\n",
       "    <tr>\n",
       "      <th>18</th>\n",
       "      <td>Basic EPS</td>\n",
       "      <td>6.16</td>\n",
       "      <td>AAPL</td>\n",
       "    </tr>\n",
       "    <tr>\n",
       "      <th>19</th>\n",
       "      <td>Diluted NI Availto Com Stockholders</td>\n",
       "      <td>96995000000.0</td>\n",
       "      <td>AAPL</td>\n",
       "    </tr>\n",
       "    <tr>\n",
       "      <th>20</th>\n",
       "      <td>Net Income Common Stockholders</td>\n",
       "      <td>96995000000.0</td>\n",
       "      <td>AAPL</td>\n",
       "    </tr>\n",
       "    <tr>\n",
       "      <th>21</th>\n",
       "      <td>Net Income</td>\n",
       "      <td>96995000000.0</td>\n",
       "      <td>AAPL</td>\n",
       "    </tr>\n",
       "    <tr>\n",
       "      <th>22</th>\n",
       "      <td>Net Income Including Noncontrolling Interests</td>\n",
       "      <td>96995000000.0</td>\n",
       "      <td>AAPL</td>\n",
       "    </tr>\n",
       "    <tr>\n",
       "      <th>23</th>\n",
       "      <td>Net Income Continuous Operations</td>\n",
       "      <td>96995000000.0</td>\n",
       "      <td>AAPL</td>\n",
       "    </tr>\n",
       "    <tr>\n",
       "      <th>24</th>\n",
       "      <td>Tax Provision</td>\n",
       "      <td>16741000000.0</td>\n",
       "      <td>AAPL</td>\n",
       "    </tr>\n",
       "    <tr>\n",
       "      <th>25</th>\n",
       "      <td>Pretax Income</td>\n",
       "      <td>113736000000.0</td>\n",
       "      <td>AAPL</td>\n",
       "    </tr>\n",
       "    <tr>\n",
       "      <th>26</th>\n",
       "      <td>Other Income Expense</td>\n",
       "      <td>-382000000.0</td>\n",
       "      <td>AAPL</td>\n",
       "    </tr>\n",
       "    <tr>\n",
       "      <th>27</th>\n",
       "      <td>Other Non Operating Income Expenses</td>\n",
       "      <td>-382000000.0</td>\n",
       "      <td>AAPL</td>\n",
       "    </tr>\n",
       "    <tr>\n",
       "      <th>28</th>\n",
       "      <td>Net Non Operating Interest Income Expense</td>\n",
       "      <td>-183000000.0</td>\n",
       "      <td>AAPL</td>\n",
       "    </tr>\n",
       "    <tr>\n",
       "      <th>29</th>\n",
       "      <td>Interest Expense Non Operating</td>\n",
       "      <td>3933000000.0</td>\n",
       "      <td>AAPL</td>\n",
       "    </tr>\n",
       "    <tr>\n",
       "      <th>30</th>\n",
       "      <td>Interest Income Non Operating</td>\n",
       "      <td>3750000000.0</td>\n",
       "      <td>AAPL</td>\n",
       "    </tr>\n",
       "    <tr>\n",
       "      <th>31</th>\n",
       "      <td>Operating Income</td>\n",
       "      <td>114301000000.0</td>\n",
       "      <td>AAPL</td>\n",
       "    </tr>\n",
       "    <tr>\n",
       "      <th>32</th>\n",
       "      <td>Operating Expense</td>\n",
       "      <td>54847000000.0</td>\n",
       "      <td>AAPL</td>\n",
       "    </tr>\n",
       "    <tr>\n",
       "      <th>33</th>\n",
       "      <td>Research And Development</td>\n",
       "      <td>29915000000.0</td>\n",
       "      <td>AAPL</td>\n",
       "    </tr>\n",
       "    <tr>\n",
       "      <th>34</th>\n",
       "      <td>Selling General And Administration</td>\n",
       "      <td>24932000000.0</td>\n",
       "      <td>AAPL</td>\n",
       "    </tr>\n",
       "    <tr>\n",
       "      <th>35</th>\n",
       "      <td>Gross Profit</td>\n",
       "      <td>169148000000.0</td>\n",
       "      <td>AAPL</td>\n",
       "    </tr>\n",
       "    <tr>\n",
       "      <th>36</th>\n",
       "      <td>Cost Of Revenue</td>\n",
       "      <td>214137000000.0</td>\n",
       "      <td>AAPL</td>\n",
       "    </tr>\n",
       "    <tr>\n",
       "      <th>37</th>\n",
       "      <td>Total Revenue</td>\n",
       "      <td>383285000000.0</td>\n",
       "      <td>AAPL</td>\n",
       "    </tr>\n",
       "    <tr>\n",
       "      <th>38</th>\n",
       "      <td>Operating Revenue</td>\n",
       "      <td>383285000000.0</td>\n",
       "      <td>AAPL</td>\n",
       "    </tr>\n",
       "  </tbody>\n",
       "</table>\n",
       "</div>"
      ],
      "text/plain": [
       "                                                index           value company\n",
       "0                         Tax Effect Of Unusual Items             0.0    AAPL\n",
       "1                                  Tax Rate For Calcs           0.147    AAPL\n",
       "2                                   Normalized EBITDA  129188000000.0    AAPL\n",
       "3   Net Income From Continuing Operation Net Minor...   96995000000.0    AAPL\n",
       "4                             Reconciled Depreciation   11519000000.0    AAPL\n",
       "5                          Reconciled Cost Of Revenue  214137000000.0    AAPL\n",
       "6                                              EBITDA  129188000000.0    AAPL\n",
       "7                                                EBIT  117669000000.0    AAPL\n",
       "8                                 Net Interest Income    -183000000.0    AAPL\n",
       "9                                    Interest Expense    3933000000.0    AAPL\n",
       "10                                    Interest Income    3750000000.0    AAPL\n",
       "11                                  Normalized Income   96995000000.0    AAPL\n",
       "12  Net Income From Continuing And Discontinued Op...   96995000000.0    AAPL\n",
       "13                                     Total Expenses  268984000000.0    AAPL\n",
       "14                 Total Operating Income As Reported  114301000000.0    AAPL\n",
       "15                             Diluted Average Shares   15812547000.0    AAPL\n",
       "16                               Basic Average Shares   15744231000.0    AAPL\n",
       "17                                        Diluted EPS            6.13    AAPL\n",
       "18                                          Basic EPS            6.16    AAPL\n",
       "19                Diluted NI Availto Com Stockholders   96995000000.0    AAPL\n",
       "20                     Net Income Common Stockholders   96995000000.0    AAPL\n",
       "21                                         Net Income   96995000000.0    AAPL\n",
       "22      Net Income Including Noncontrolling Interests   96995000000.0    AAPL\n",
       "23                   Net Income Continuous Operations   96995000000.0    AAPL\n",
       "24                                      Tax Provision   16741000000.0    AAPL\n",
       "25                                      Pretax Income  113736000000.0    AAPL\n",
       "26                               Other Income Expense    -382000000.0    AAPL\n",
       "27                Other Non Operating Income Expenses    -382000000.0    AAPL\n",
       "28          Net Non Operating Interest Income Expense    -183000000.0    AAPL\n",
       "29                     Interest Expense Non Operating    3933000000.0    AAPL\n",
       "30                      Interest Income Non Operating    3750000000.0    AAPL\n",
       "31                                   Operating Income  114301000000.0    AAPL\n",
       "32                                  Operating Expense   54847000000.0    AAPL\n",
       "33                           Research And Development   29915000000.0    AAPL\n",
       "34                 Selling General And Administration   24932000000.0    AAPL\n",
       "35                                       Gross Profit  169148000000.0    AAPL\n",
       "36                                    Cost Of Revenue  214137000000.0    AAPL\n",
       "37                                      Total Revenue  383285000000.0    AAPL\n",
       "38                                  Operating Revenue  383285000000.0    AAPL"
      ]
     },
     "execution_count": 52,
     "metadata": {},
     "output_type": "execute_result"
    }
   ],
   "source": [
    "company_kpi = yf.Ticker('AAPL').income_stmt['2023-09-30'].reset_index()\n",
    "company_kpi.columns = ['index', 'value']\n",
    "company_kpi['company'] = 'AAPL'\n",
    "company_kpi[~company_kpi.index.isin(['Total Revenue', 'Operating Revenue'])]\n",
    "\n"
   ]
  },
  {
   "cell_type": "code",
   "execution_count": 53,
   "metadata": {},
   "outputs": [
    {
     "data": {
      "application/vnd.plotly.v1+json": {
       "config": {
        "plotlyServerURL": "https://plot.ly"
       },
       "data": [
        {
         "alignmentgroup": "True",
         "hovertemplate": "index=Tax Effect Of Unusual Items<br>company=%{x}<br>value=%{y}<extra></extra>",
         "legendgroup": "Tax Effect Of Unusual Items",
         "marker": {
          "color": "#636efa",
          "pattern": {
           "shape": ""
          }
         },
         "name": "Tax Effect Of Unusual Items",
         "offsetgroup": "Tax Effect Of Unusual Items",
         "orientation": "v",
         "showlegend": true,
         "textposition": "auto",
         "type": "bar",
         "x": [
          "AAPL"
         ],
         "xaxis": "x",
         "y": [
          0
         ],
         "yaxis": "y"
        },
        {
         "alignmentgroup": "True",
         "hovertemplate": "index=Tax Rate For Calcs<br>company=%{x}<br>value=%{y}<extra></extra>",
         "legendgroup": "Tax Rate For Calcs",
         "marker": {
          "color": "#EF553B",
          "pattern": {
           "shape": ""
          }
         },
         "name": "Tax Rate For Calcs",
         "offsetgroup": "Tax Rate For Calcs",
         "orientation": "v",
         "showlegend": true,
         "textposition": "auto",
         "type": "bar",
         "x": [
          "AAPL"
         ],
         "xaxis": "x",
         "y": [
          0.147
         ],
         "yaxis": "y"
        },
        {
         "alignmentgroup": "True",
         "hovertemplate": "index=Normalized EBITDA<br>company=%{x}<br>value=%{y}<extra></extra>",
         "legendgroup": "Normalized EBITDA",
         "marker": {
          "color": "#00cc96",
          "pattern": {
           "shape": ""
          }
         },
         "name": "Normalized EBITDA",
         "offsetgroup": "Normalized EBITDA",
         "orientation": "v",
         "showlegend": true,
         "textposition": "auto",
         "type": "bar",
         "x": [
          "AAPL"
         ],
         "xaxis": "x",
         "y": [
          129188000000
         ],
         "yaxis": "y"
        },
        {
         "alignmentgroup": "True",
         "hovertemplate": "index=Net Income From Continuing Operation Net Minority Interest<br>company=%{x}<br>value=%{y}<extra></extra>",
         "legendgroup": "Net Income From Continuing Operation Net Minority Interest",
         "marker": {
          "color": "#ab63fa",
          "pattern": {
           "shape": ""
          }
         },
         "name": "Net Income From Continuing Operation Net Minority Interest",
         "offsetgroup": "Net Income From Continuing Operation Net Minority Interest",
         "orientation": "v",
         "showlegend": true,
         "textposition": "auto",
         "type": "bar",
         "x": [
          "AAPL"
         ],
         "xaxis": "x",
         "y": [
          96995000000
         ],
         "yaxis": "y"
        },
        {
         "alignmentgroup": "True",
         "hovertemplate": "index=Reconciled Depreciation<br>company=%{x}<br>value=%{y}<extra></extra>",
         "legendgroup": "Reconciled Depreciation",
         "marker": {
          "color": "#FFA15A",
          "pattern": {
           "shape": ""
          }
         },
         "name": "Reconciled Depreciation",
         "offsetgroup": "Reconciled Depreciation",
         "orientation": "v",
         "showlegend": true,
         "textposition": "auto",
         "type": "bar",
         "x": [
          "AAPL"
         ],
         "xaxis": "x",
         "y": [
          11519000000
         ],
         "yaxis": "y"
        },
        {
         "alignmentgroup": "True",
         "hovertemplate": "index=Reconciled Cost Of Revenue<br>company=%{x}<br>value=%{y}<extra></extra>",
         "legendgroup": "Reconciled Cost Of Revenue",
         "marker": {
          "color": "#19d3f3",
          "pattern": {
           "shape": ""
          }
         },
         "name": "Reconciled Cost Of Revenue",
         "offsetgroup": "Reconciled Cost Of Revenue",
         "orientation": "v",
         "showlegend": true,
         "textposition": "auto",
         "type": "bar",
         "x": [
          "AAPL"
         ],
         "xaxis": "x",
         "y": [
          214137000000
         ],
         "yaxis": "y"
        },
        {
         "alignmentgroup": "True",
         "hovertemplate": "index=EBITDA<br>company=%{x}<br>value=%{y}<extra></extra>",
         "legendgroup": "EBITDA",
         "marker": {
          "color": "#FF6692",
          "pattern": {
           "shape": ""
          }
         },
         "name": "EBITDA",
         "offsetgroup": "EBITDA",
         "orientation": "v",
         "showlegend": true,
         "textposition": "auto",
         "type": "bar",
         "x": [
          "AAPL"
         ],
         "xaxis": "x",
         "y": [
          129188000000
         ],
         "yaxis": "y"
        },
        {
         "alignmentgroup": "True",
         "hovertemplate": "index=EBIT<br>company=%{x}<br>value=%{y}<extra></extra>",
         "legendgroup": "EBIT",
         "marker": {
          "color": "#B6E880",
          "pattern": {
           "shape": ""
          }
         },
         "name": "EBIT",
         "offsetgroup": "EBIT",
         "orientation": "v",
         "showlegend": true,
         "textposition": "auto",
         "type": "bar",
         "x": [
          "AAPL"
         ],
         "xaxis": "x",
         "y": [
          117669000000
         ],
         "yaxis": "y"
        },
        {
         "alignmentgroup": "True",
         "hovertemplate": "index=Net Interest Income<br>company=%{x}<br>value=%{y}<extra></extra>",
         "legendgroup": "Net Interest Income",
         "marker": {
          "color": "#FF97FF",
          "pattern": {
           "shape": ""
          }
         },
         "name": "Net Interest Income",
         "offsetgroup": "Net Interest Income",
         "orientation": "v",
         "showlegend": true,
         "textposition": "auto",
         "type": "bar",
         "x": [
          "AAPL"
         ],
         "xaxis": "x",
         "y": [
          -183000000
         ],
         "yaxis": "y"
        },
        {
         "alignmentgroup": "True",
         "hovertemplate": "index=Interest Expense<br>company=%{x}<br>value=%{y}<extra></extra>",
         "legendgroup": "Interest Expense",
         "marker": {
          "color": "#FECB52",
          "pattern": {
           "shape": ""
          }
         },
         "name": "Interest Expense",
         "offsetgroup": "Interest Expense",
         "orientation": "v",
         "showlegend": true,
         "textposition": "auto",
         "type": "bar",
         "x": [
          "AAPL"
         ],
         "xaxis": "x",
         "y": [
          3933000000
         ],
         "yaxis": "y"
        },
        {
         "alignmentgroup": "True",
         "hovertemplate": "index=Interest Income<br>company=%{x}<br>value=%{y}<extra></extra>",
         "legendgroup": "Interest Income",
         "marker": {
          "color": "#636efa",
          "pattern": {
           "shape": ""
          }
         },
         "name": "Interest Income",
         "offsetgroup": "Interest Income",
         "orientation": "v",
         "showlegend": true,
         "textposition": "auto",
         "type": "bar",
         "x": [
          "AAPL"
         ],
         "xaxis": "x",
         "y": [
          3750000000
         ],
         "yaxis": "y"
        },
        {
         "alignmentgroup": "True",
         "hovertemplate": "index=Normalized Income<br>company=%{x}<br>value=%{y}<extra></extra>",
         "legendgroup": "Normalized Income",
         "marker": {
          "color": "#EF553B",
          "pattern": {
           "shape": ""
          }
         },
         "name": "Normalized Income",
         "offsetgroup": "Normalized Income",
         "orientation": "v",
         "showlegend": true,
         "textposition": "auto",
         "type": "bar",
         "x": [
          "AAPL"
         ],
         "xaxis": "x",
         "y": [
          96995000000
         ],
         "yaxis": "y"
        },
        {
         "alignmentgroup": "True",
         "hovertemplate": "index=Net Income From Continuing And Discontinued Operation<br>company=%{x}<br>value=%{y}<extra></extra>",
         "legendgroup": "Net Income From Continuing And Discontinued Operation",
         "marker": {
          "color": "#00cc96",
          "pattern": {
           "shape": ""
          }
         },
         "name": "Net Income From Continuing And Discontinued Operation",
         "offsetgroup": "Net Income From Continuing And Discontinued Operation",
         "orientation": "v",
         "showlegend": true,
         "textposition": "auto",
         "type": "bar",
         "x": [
          "AAPL"
         ],
         "xaxis": "x",
         "y": [
          96995000000
         ],
         "yaxis": "y"
        },
        {
         "alignmentgroup": "True",
         "hovertemplate": "index=Total Expenses<br>company=%{x}<br>value=%{y}<extra></extra>",
         "legendgroup": "Total Expenses",
         "marker": {
          "color": "#ab63fa",
          "pattern": {
           "shape": ""
          }
         },
         "name": "Total Expenses",
         "offsetgroup": "Total Expenses",
         "orientation": "v",
         "showlegend": true,
         "textposition": "auto",
         "type": "bar",
         "x": [
          "AAPL"
         ],
         "xaxis": "x",
         "y": [
          268984000000
         ],
         "yaxis": "y"
        },
        {
         "alignmentgroup": "True",
         "hovertemplate": "index=Total Operating Income As Reported<br>company=%{x}<br>value=%{y}<extra></extra>",
         "legendgroup": "Total Operating Income As Reported",
         "marker": {
          "color": "#FFA15A",
          "pattern": {
           "shape": ""
          }
         },
         "name": "Total Operating Income As Reported",
         "offsetgroup": "Total Operating Income As Reported",
         "orientation": "v",
         "showlegend": true,
         "textposition": "auto",
         "type": "bar",
         "x": [
          "AAPL"
         ],
         "xaxis": "x",
         "y": [
          114301000000
         ],
         "yaxis": "y"
        },
        {
         "alignmentgroup": "True",
         "hovertemplate": "index=Diluted Average Shares<br>company=%{x}<br>value=%{y}<extra></extra>",
         "legendgroup": "Diluted Average Shares",
         "marker": {
          "color": "#19d3f3",
          "pattern": {
           "shape": ""
          }
         },
         "name": "Diluted Average Shares",
         "offsetgroup": "Diluted Average Shares",
         "orientation": "v",
         "showlegend": true,
         "textposition": "auto",
         "type": "bar",
         "x": [
          "AAPL"
         ],
         "xaxis": "x",
         "y": [
          15812547000
         ],
         "yaxis": "y"
        },
        {
         "alignmentgroup": "True",
         "hovertemplate": "index=Basic Average Shares<br>company=%{x}<br>value=%{y}<extra></extra>",
         "legendgroup": "Basic Average Shares",
         "marker": {
          "color": "#FF6692",
          "pattern": {
           "shape": ""
          }
         },
         "name": "Basic Average Shares",
         "offsetgroup": "Basic Average Shares",
         "orientation": "v",
         "showlegend": true,
         "textposition": "auto",
         "type": "bar",
         "x": [
          "AAPL"
         ],
         "xaxis": "x",
         "y": [
          15744231000
         ],
         "yaxis": "y"
        },
        {
         "alignmentgroup": "True",
         "hovertemplate": "index=Diluted EPS<br>company=%{x}<br>value=%{y}<extra></extra>",
         "legendgroup": "Diluted EPS",
         "marker": {
          "color": "#B6E880",
          "pattern": {
           "shape": ""
          }
         },
         "name": "Diluted EPS",
         "offsetgroup": "Diluted EPS",
         "orientation": "v",
         "showlegend": true,
         "textposition": "auto",
         "type": "bar",
         "x": [
          "AAPL"
         ],
         "xaxis": "x",
         "y": [
          6.13
         ],
         "yaxis": "y"
        },
        {
         "alignmentgroup": "True",
         "hovertemplate": "index=Basic EPS<br>company=%{x}<br>value=%{y}<extra></extra>",
         "legendgroup": "Basic EPS",
         "marker": {
          "color": "#FF97FF",
          "pattern": {
           "shape": ""
          }
         },
         "name": "Basic EPS",
         "offsetgroup": "Basic EPS",
         "orientation": "v",
         "showlegend": true,
         "textposition": "auto",
         "type": "bar",
         "x": [
          "AAPL"
         ],
         "xaxis": "x",
         "y": [
          6.16
         ],
         "yaxis": "y"
        },
        {
         "alignmentgroup": "True",
         "hovertemplate": "index=Diluted NI Availto Com Stockholders<br>company=%{x}<br>value=%{y}<extra></extra>",
         "legendgroup": "Diluted NI Availto Com Stockholders",
         "marker": {
          "color": "#FECB52",
          "pattern": {
           "shape": ""
          }
         },
         "name": "Diluted NI Availto Com Stockholders",
         "offsetgroup": "Diluted NI Availto Com Stockholders",
         "orientation": "v",
         "showlegend": true,
         "textposition": "auto",
         "type": "bar",
         "x": [
          "AAPL"
         ],
         "xaxis": "x",
         "y": [
          96995000000
         ],
         "yaxis": "y"
        },
        {
         "alignmentgroup": "True",
         "hovertemplate": "index=Net Income Common Stockholders<br>company=%{x}<br>value=%{y}<extra></extra>",
         "legendgroup": "Net Income Common Stockholders",
         "marker": {
          "color": "#636efa",
          "pattern": {
           "shape": ""
          }
         },
         "name": "Net Income Common Stockholders",
         "offsetgroup": "Net Income Common Stockholders",
         "orientation": "v",
         "showlegend": true,
         "textposition": "auto",
         "type": "bar",
         "x": [
          "AAPL"
         ],
         "xaxis": "x",
         "y": [
          96995000000
         ],
         "yaxis": "y"
        },
        {
         "alignmentgroup": "True",
         "hovertemplate": "index=Net Income<br>company=%{x}<br>value=%{y}<extra></extra>",
         "legendgroup": "Net Income",
         "marker": {
          "color": "#EF553B",
          "pattern": {
           "shape": ""
          }
         },
         "name": "Net Income",
         "offsetgroup": "Net Income",
         "orientation": "v",
         "showlegend": true,
         "textposition": "auto",
         "type": "bar",
         "x": [
          "AAPL"
         ],
         "xaxis": "x",
         "y": [
          96995000000
         ],
         "yaxis": "y"
        },
        {
         "alignmentgroup": "True",
         "hovertemplate": "index=Net Income Including Noncontrolling Interests<br>company=%{x}<br>value=%{y}<extra></extra>",
         "legendgroup": "Net Income Including Noncontrolling Interests",
         "marker": {
          "color": "#00cc96",
          "pattern": {
           "shape": ""
          }
         },
         "name": "Net Income Including Noncontrolling Interests",
         "offsetgroup": "Net Income Including Noncontrolling Interests",
         "orientation": "v",
         "showlegend": true,
         "textposition": "auto",
         "type": "bar",
         "x": [
          "AAPL"
         ],
         "xaxis": "x",
         "y": [
          96995000000
         ],
         "yaxis": "y"
        },
        {
         "alignmentgroup": "True",
         "hovertemplate": "index=Net Income Continuous Operations<br>company=%{x}<br>value=%{y}<extra></extra>",
         "legendgroup": "Net Income Continuous Operations",
         "marker": {
          "color": "#ab63fa",
          "pattern": {
           "shape": ""
          }
         },
         "name": "Net Income Continuous Operations",
         "offsetgroup": "Net Income Continuous Operations",
         "orientation": "v",
         "showlegend": true,
         "textposition": "auto",
         "type": "bar",
         "x": [
          "AAPL"
         ],
         "xaxis": "x",
         "y": [
          96995000000
         ],
         "yaxis": "y"
        },
        {
         "alignmentgroup": "True",
         "hovertemplate": "index=Tax Provision<br>company=%{x}<br>value=%{y}<extra></extra>",
         "legendgroup": "Tax Provision",
         "marker": {
          "color": "#FFA15A",
          "pattern": {
           "shape": ""
          }
         },
         "name": "Tax Provision",
         "offsetgroup": "Tax Provision",
         "orientation": "v",
         "showlegend": true,
         "textposition": "auto",
         "type": "bar",
         "x": [
          "AAPL"
         ],
         "xaxis": "x",
         "y": [
          16741000000
         ],
         "yaxis": "y"
        },
        {
         "alignmentgroup": "True",
         "hovertemplate": "index=Pretax Income<br>company=%{x}<br>value=%{y}<extra></extra>",
         "legendgroup": "Pretax Income",
         "marker": {
          "color": "#19d3f3",
          "pattern": {
           "shape": ""
          }
         },
         "name": "Pretax Income",
         "offsetgroup": "Pretax Income",
         "orientation": "v",
         "showlegend": true,
         "textposition": "auto",
         "type": "bar",
         "x": [
          "AAPL"
         ],
         "xaxis": "x",
         "y": [
          113736000000
         ],
         "yaxis": "y"
        },
        {
         "alignmentgroup": "True",
         "hovertemplate": "index=Other Income Expense<br>company=%{x}<br>value=%{y}<extra></extra>",
         "legendgroup": "Other Income Expense",
         "marker": {
          "color": "#FF6692",
          "pattern": {
           "shape": ""
          }
         },
         "name": "Other Income Expense",
         "offsetgroup": "Other Income Expense",
         "orientation": "v",
         "showlegend": true,
         "textposition": "auto",
         "type": "bar",
         "x": [
          "AAPL"
         ],
         "xaxis": "x",
         "y": [
          -382000000
         ],
         "yaxis": "y"
        },
        {
         "alignmentgroup": "True",
         "hovertemplate": "index=Other Non Operating Income Expenses<br>company=%{x}<br>value=%{y}<extra></extra>",
         "legendgroup": "Other Non Operating Income Expenses",
         "marker": {
          "color": "#B6E880",
          "pattern": {
           "shape": ""
          }
         },
         "name": "Other Non Operating Income Expenses",
         "offsetgroup": "Other Non Operating Income Expenses",
         "orientation": "v",
         "showlegend": true,
         "textposition": "auto",
         "type": "bar",
         "x": [
          "AAPL"
         ],
         "xaxis": "x",
         "y": [
          -382000000
         ],
         "yaxis": "y"
        },
        {
         "alignmentgroup": "True",
         "hovertemplate": "index=Net Non Operating Interest Income Expense<br>company=%{x}<br>value=%{y}<extra></extra>",
         "legendgroup": "Net Non Operating Interest Income Expense",
         "marker": {
          "color": "#FF97FF",
          "pattern": {
           "shape": ""
          }
         },
         "name": "Net Non Operating Interest Income Expense",
         "offsetgroup": "Net Non Operating Interest Income Expense",
         "orientation": "v",
         "showlegend": true,
         "textposition": "auto",
         "type": "bar",
         "x": [
          "AAPL"
         ],
         "xaxis": "x",
         "y": [
          -183000000
         ],
         "yaxis": "y"
        },
        {
         "alignmentgroup": "True",
         "hovertemplate": "index=Interest Expense Non Operating<br>company=%{x}<br>value=%{y}<extra></extra>",
         "legendgroup": "Interest Expense Non Operating",
         "marker": {
          "color": "#FECB52",
          "pattern": {
           "shape": ""
          }
         },
         "name": "Interest Expense Non Operating",
         "offsetgroup": "Interest Expense Non Operating",
         "orientation": "v",
         "showlegend": true,
         "textposition": "auto",
         "type": "bar",
         "x": [
          "AAPL"
         ],
         "xaxis": "x",
         "y": [
          3933000000
         ],
         "yaxis": "y"
        },
        {
         "alignmentgroup": "True",
         "hovertemplate": "index=Interest Income Non Operating<br>company=%{x}<br>value=%{y}<extra></extra>",
         "legendgroup": "Interest Income Non Operating",
         "marker": {
          "color": "#636efa",
          "pattern": {
           "shape": ""
          }
         },
         "name": "Interest Income Non Operating",
         "offsetgroup": "Interest Income Non Operating",
         "orientation": "v",
         "showlegend": true,
         "textposition": "auto",
         "type": "bar",
         "x": [
          "AAPL"
         ],
         "xaxis": "x",
         "y": [
          3750000000
         ],
         "yaxis": "y"
        },
        {
         "alignmentgroup": "True",
         "hovertemplate": "index=Operating Income<br>company=%{x}<br>value=%{y}<extra></extra>",
         "legendgroup": "Operating Income",
         "marker": {
          "color": "#EF553B",
          "pattern": {
           "shape": ""
          }
         },
         "name": "Operating Income",
         "offsetgroup": "Operating Income",
         "orientation": "v",
         "showlegend": true,
         "textposition": "auto",
         "type": "bar",
         "x": [
          "AAPL"
         ],
         "xaxis": "x",
         "y": [
          114301000000
         ],
         "yaxis": "y"
        },
        {
         "alignmentgroup": "True",
         "hovertemplate": "index=Operating Expense<br>company=%{x}<br>value=%{y}<extra></extra>",
         "legendgroup": "Operating Expense",
         "marker": {
          "color": "#00cc96",
          "pattern": {
           "shape": ""
          }
         },
         "name": "Operating Expense",
         "offsetgroup": "Operating Expense",
         "orientation": "v",
         "showlegend": true,
         "textposition": "auto",
         "type": "bar",
         "x": [
          "AAPL"
         ],
         "xaxis": "x",
         "y": [
          54847000000
         ],
         "yaxis": "y"
        },
        {
         "alignmentgroup": "True",
         "hovertemplate": "index=Research And Development<br>company=%{x}<br>value=%{y}<extra></extra>",
         "legendgroup": "Research And Development",
         "marker": {
          "color": "#ab63fa",
          "pattern": {
           "shape": ""
          }
         },
         "name": "Research And Development",
         "offsetgroup": "Research And Development",
         "orientation": "v",
         "showlegend": true,
         "textposition": "auto",
         "type": "bar",
         "x": [
          "AAPL"
         ],
         "xaxis": "x",
         "y": [
          29915000000
         ],
         "yaxis": "y"
        },
        {
         "alignmentgroup": "True",
         "hovertemplate": "index=Selling General And Administration<br>company=%{x}<br>value=%{y}<extra></extra>",
         "legendgroup": "Selling General And Administration",
         "marker": {
          "color": "#FFA15A",
          "pattern": {
           "shape": ""
          }
         },
         "name": "Selling General And Administration",
         "offsetgroup": "Selling General And Administration",
         "orientation": "v",
         "showlegend": true,
         "textposition": "auto",
         "type": "bar",
         "x": [
          "AAPL"
         ],
         "xaxis": "x",
         "y": [
          24932000000
         ],
         "yaxis": "y"
        },
        {
         "alignmentgroup": "True",
         "hovertemplate": "index=Gross Profit<br>company=%{x}<br>value=%{y}<extra></extra>",
         "legendgroup": "Gross Profit",
         "marker": {
          "color": "#19d3f3",
          "pattern": {
           "shape": ""
          }
         },
         "name": "Gross Profit",
         "offsetgroup": "Gross Profit",
         "orientation": "v",
         "showlegend": true,
         "textposition": "auto",
         "type": "bar",
         "x": [
          "AAPL"
         ],
         "xaxis": "x",
         "y": [
          169148000000
         ],
         "yaxis": "y"
        },
        {
         "alignmentgroup": "True",
         "hovertemplate": "index=Cost Of Revenue<br>company=%{x}<br>value=%{y}<extra></extra>",
         "legendgroup": "Cost Of Revenue",
         "marker": {
          "color": "#FF6692",
          "pattern": {
           "shape": ""
          }
         },
         "name": "Cost Of Revenue",
         "offsetgroup": "Cost Of Revenue",
         "orientation": "v",
         "showlegend": true,
         "textposition": "auto",
         "type": "bar",
         "x": [
          "AAPL"
         ],
         "xaxis": "x",
         "y": [
          214137000000
         ],
         "yaxis": "y"
        },
        {
         "alignmentgroup": "True",
         "hovertemplate": "index=Total Revenue<br>company=%{x}<br>value=%{y}<extra></extra>",
         "legendgroup": "Total Revenue",
         "marker": {
          "color": "#B6E880",
          "pattern": {
           "shape": ""
          }
         },
         "name": "Total Revenue",
         "offsetgroup": "Total Revenue",
         "orientation": "v",
         "showlegend": true,
         "textposition": "auto",
         "type": "bar",
         "x": [
          "AAPL"
         ],
         "xaxis": "x",
         "y": [
          383285000000
         ],
         "yaxis": "y"
        },
        {
         "alignmentgroup": "True",
         "hovertemplate": "index=Operating Revenue<br>company=%{x}<br>value=%{y}<extra></extra>",
         "legendgroup": "Operating Revenue",
         "marker": {
          "color": "#FF97FF",
          "pattern": {
           "shape": ""
          }
         },
         "name": "Operating Revenue",
         "offsetgroup": "Operating Revenue",
         "orientation": "v",
         "showlegend": true,
         "textposition": "auto",
         "type": "bar",
         "x": [
          "AAPL"
         ],
         "xaxis": "x",
         "y": [
          383285000000
         ],
         "yaxis": "y"
        }
       ],
       "layout": {
        "barmode": "stack",
        "legend": {
         "title": {
          "text": "index"
         },
         "tracegroupgap": 0
        },
        "template": {
         "data": {
          "bar": [
           {
            "error_x": {
             "color": "#2a3f5f"
            },
            "error_y": {
             "color": "#2a3f5f"
            },
            "marker": {
             "line": {
              "color": "#E5ECF6",
              "width": 0.5
             },
             "pattern": {
              "fillmode": "overlay",
              "size": 10,
              "solidity": 0.2
             }
            },
            "type": "bar"
           }
          ],
          "barpolar": [
           {
            "marker": {
             "line": {
              "color": "#E5ECF6",
              "width": 0.5
             },
             "pattern": {
              "fillmode": "overlay",
              "size": 10,
              "solidity": 0.2
             }
            },
            "type": "barpolar"
           }
          ],
          "carpet": [
           {
            "aaxis": {
             "endlinecolor": "#2a3f5f",
             "gridcolor": "white",
             "linecolor": "white",
             "minorgridcolor": "white",
             "startlinecolor": "#2a3f5f"
            },
            "baxis": {
             "endlinecolor": "#2a3f5f",
             "gridcolor": "white",
             "linecolor": "white",
             "minorgridcolor": "white",
             "startlinecolor": "#2a3f5f"
            },
            "type": "carpet"
           }
          ],
          "choropleth": [
           {
            "colorbar": {
             "outlinewidth": 0,
             "ticks": ""
            },
            "type": "choropleth"
           }
          ],
          "contour": [
           {
            "colorbar": {
             "outlinewidth": 0,
             "ticks": ""
            },
            "colorscale": [
             [
              0,
              "#0d0887"
             ],
             [
              0.1111111111111111,
              "#46039f"
             ],
             [
              0.2222222222222222,
              "#7201a8"
             ],
             [
              0.3333333333333333,
              "#9c179e"
             ],
             [
              0.4444444444444444,
              "#bd3786"
             ],
             [
              0.5555555555555556,
              "#d8576b"
             ],
             [
              0.6666666666666666,
              "#ed7953"
             ],
             [
              0.7777777777777778,
              "#fb9f3a"
             ],
             [
              0.8888888888888888,
              "#fdca26"
             ],
             [
              1,
              "#f0f921"
             ]
            ],
            "type": "contour"
           }
          ],
          "contourcarpet": [
           {
            "colorbar": {
             "outlinewidth": 0,
             "ticks": ""
            },
            "type": "contourcarpet"
           }
          ],
          "heatmap": [
           {
            "colorbar": {
             "outlinewidth": 0,
             "ticks": ""
            },
            "colorscale": [
             [
              0,
              "#0d0887"
             ],
             [
              0.1111111111111111,
              "#46039f"
             ],
             [
              0.2222222222222222,
              "#7201a8"
             ],
             [
              0.3333333333333333,
              "#9c179e"
             ],
             [
              0.4444444444444444,
              "#bd3786"
             ],
             [
              0.5555555555555556,
              "#d8576b"
             ],
             [
              0.6666666666666666,
              "#ed7953"
             ],
             [
              0.7777777777777778,
              "#fb9f3a"
             ],
             [
              0.8888888888888888,
              "#fdca26"
             ],
             [
              1,
              "#f0f921"
             ]
            ],
            "type": "heatmap"
           }
          ],
          "heatmapgl": [
           {
            "colorbar": {
             "outlinewidth": 0,
             "ticks": ""
            },
            "colorscale": [
             [
              0,
              "#0d0887"
             ],
             [
              0.1111111111111111,
              "#46039f"
             ],
             [
              0.2222222222222222,
              "#7201a8"
             ],
             [
              0.3333333333333333,
              "#9c179e"
             ],
             [
              0.4444444444444444,
              "#bd3786"
             ],
             [
              0.5555555555555556,
              "#d8576b"
             ],
             [
              0.6666666666666666,
              "#ed7953"
             ],
             [
              0.7777777777777778,
              "#fb9f3a"
             ],
             [
              0.8888888888888888,
              "#fdca26"
             ],
             [
              1,
              "#f0f921"
             ]
            ],
            "type": "heatmapgl"
           }
          ],
          "histogram": [
           {
            "marker": {
             "pattern": {
              "fillmode": "overlay",
              "size": 10,
              "solidity": 0.2
             }
            },
            "type": "histogram"
           }
          ],
          "histogram2d": [
           {
            "colorbar": {
             "outlinewidth": 0,
             "ticks": ""
            },
            "colorscale": [
             [
              0,
              "#0d0887"
             ],
             [
              0.1111111111111111,
              "#46039f"
             ],
             [
              0.2222222222222222,
              "#7201a8"
             ],
             [
              0.3333333333333333,
              "#9c179e"
             ],
             [
              0.4444444444444444,
              "#bd3786"
             ],
             [
              0.5555555555555556,
              "#d8576b"
             ],
             [
              0.6666666666666666,
              "#ed7953"
             ],
             [
              0.7777777777777778,
              "#fb9f3a"
             ],
             [
              0.8888888888888888,
              "#fdca26"
             ],
             [
              1,
              "#f0f921"
             ]
            ],
            "type": "histogram2d"
           }
          ],
          "histogram2dcontour": [
           {
            "colorbar": {
             "outlinewidth": 0,
             "ticks": ""
            },
            "colorscale": [
             [
              0,
              "#0d0887"
             ],
             [
              0.1111111111111111,
              "#46039f"
             ],
             [
              0.2222222222222222,
              "#7201a8"
             ],
             [
              0.3333333333333333,
              "#9c179e"
             ],
             [
              0.4444444444444444,
              "#bd3786"
             ],
             [
              0.5555555555555556,
              "#d8576b"
             ],
             [
              0.6666666666666666,
              "#ed7953"
             ],
             [
              0.7777777777777778,
              "#fb9f3a"
             ],
             [
              0.8888888888888888,
              "#fdca26"
             ],
             [
              1,
              "#f0f921"
             ]
            ],
            "type": "histogram2dcontour"
           }
          ],
          "mesh3d": [
           {
            "colorbar": {
             "outlinewidth": 0,
             "ticks": ""
            },
            "type": "mesh3d"
           }
          ],
          "parcoords": [
           {
            "line": {
             "colorbar": {
              "outlinewidth": 0,
              "ticks": ""
             }
            },
            "type": "parcoords"
           }
          ],
          "pie": [
           {
            "automargin": true,
            "type": "pie"
           }
          ],
          "scatter": [
           {
            "fillpattern": {
             "fillmode": "overlay",
             "size": 10,
             "solidity": 0.2
            },
            "type": "scatter"
           }
          ],
          "scatter3d": [
           {
            "line": {
             "colorbar": {
              "outlinewidth": 0,
              "ticks": ""
             }
            },
            "marker": {
             "colorbar": {
              "outlinewidth": 0,
              "ticks": ""
             }
            },
            "type": "scatter3d"
           }
          ],
          "scattercarpet": [
           {
            "marker": {
             "colorbar": {
              "outlinewidth": 0,
              "ticks": ""
             }
            },
            "type": "scattercarpet"
           }
          ],
          "scattergeo": [
           {
            "marker": {
             "colorbar": {
              "outlinewidth": 0,
              "ticks": ""
             }
            },
            "type": "scattergeo"
           }
          ],
          "scattergl": [
           {
            "marker": {
             "colorbar": {
              "outlinewidth": 0,
              "ticks": ""
             }
            },
            "type": "scattergl"
           }
          ],
          "scattermapbox": [
           {
            "marker": {
             "colorbar": {
              "outlinewidth": 0,
              "ticks": ""
             }
            },
            "type": "scattermapbox"
           }
          ],
          "scatterpolar": [
           {
            "marker": {
             "colorbar": {
              "outlinewidth": 0,
              "ticks": ""
             }
            },
            "type": "scatterpolar"
           }
          ],
          "scatterpolargl": [
           {
            "marker": {
             "colorbar": {
              "outlinewidth": 0,
              "ticks": ""
             }
            },
            "type": "scatterpolargl"
           }
          ],
          "scatterternary": [
           {
            "marker": {
             "colorbar": {
              "outlinewidth": 0,
              "ticks": ""
             }
            },
            "type": "scatterternary"
           }
          ],
          "surface": [
           {
            "colorbar": {
             "outlinewidth": 0,
             "ticks": ""
            },
            "colorscale": [
             [
              0,
              "#0d0887"
             ],
             [
              0.1111111111111111,
              "#46039f"
             ],
             [
              0.2222222222222222,
              "#7201a8"
             ],
             [
              0.3333333333333333,
              "#9c179e"
             ],
             [
              0.4444444444444444,
              "#bd3786"
             ],
             [
              0.5555555555555556,
              "#d8576b"
             ],
             [
              0.6666666666666666,
              "#ed7953"
             ],
             [
              0.7777777777777778,
              "#fb9f3a"
             ],
             [
              0.8888888888888888,
              "#fdca26"
             ],
             [
              1,
              "#f0f921"
             ]
            ],
            "type": "surface"
           }
          ],
          "table": [
           {
            "cells": {
             "fill": {
              "color": "#EBF0F8"
             },
             "line": {
              "color": "white"
             }
            },
            "header": {
             "fill": {
              "color": "#C8D4E3"
             },
             "line": {
              "color": "white"
             }
            },
            "type": "table"
           }
          ]
         },
         "layout": {
          "annotationdefaults": {
           "arrowcolor": "#2a3f5f",
           "arrowhead": 0,
           "arrowwidth": 1
          },
          "autotypenumbers": "strict",
          "coloraxis": {
           "colorbar": {
            "outlinewidth": 0,
            "ticks": ""
           }
          },
          "colorscale": {
           "diverging": [
            [
             0,
             "#8e0152"
            ],
            [
             0.1,
             "#c51b7d"
            ],
            [
             0.2,
             "#de77ae"
            ],
            [
             0.3,
             "#f1b6da"
            ],
            [
             0.4,
             "#fde0ef"
            ],
            [
             0.5,
             "#f7f7f7"
            ],
            [
             0.6,
             "#e6f5d0"
            ],
            [
             0.7,
             "#b8e186"
            ],
            [
             0.8,
             "#7fbc41"
            ],
            [
             0.9,
             "#4d9221"
            ],
            [
             1,
             "#276419"
            ]
           ],
           "sequential": [
            [
             0,
             "#0d0887"
            ],
            [
             0.1111111111111111,
             "#46039f"
            ],
            [
             0.2222222222222222,
             "#7201a8"
            ],
            [
             0.3333333333333333,
             "#9c179e"
            ],
            [
             0.4444444444444444,
             "#bd3786"
            ],
            [
             0.5555555555555556,
             "#d8576b"
            ],
            [
             0.6666666666666666,
             "#ed7953"
            ],
            [
             0.7777777777777778,
             "#fb9f3a"
            ],
            [
             0.8888888888888888,
             "#fdca26"
            ],
            [
             1,
             "#f0f921"
            ]
           ],
           "sequentialminus": [
            [
             0,
             "#0d0887"
            ],
            [
             0.1111111111111111,
             "#46039f"
            ],
            [
             0.2222222222222222,
             "#7201a8"
            ],
            [
             0.3333333333333333,
             "#9c179e"
            ],
            [
             0.4444444444444444,
             "#bd3786"
            ],
            [
             0.5555555555555556,
             "#d8576b"
            ],
            [
             0.6666666666666666,
             "#ed7953"
            ],
            [
             0.7777777777777778,
             "#fb9f3a"
            ],
            [
             0.8888888888888888,
             "#fdca26"
            ],
            [
             1,
             "#f0f921"
            ]
           ]
          },
          "colorway": [
           "#636efa",
           "#EF553B",
           "#00cc96",
           "#ab63fa",
           "#FFA15A",
           "#19d3f3",
           "#FF6692",
           "#B6E880",
           "#FF97FF",
           "#FECB52"
          ],
          "font": {
           "color": "#2a3f5f"
          },
          "geo": {
           "bgcolor": "white",
           "lakecolor": "white",
           "landcolor": "#E5ECF6",
           "showlakes": true,
           "showland": true,
           "subunitcolor": "white"
          },
          "hoverlabel": {
           "align": "left"
          },
          "hovermode": "closest",
          "mapbox": {
           "style": "light"
          },
          "paper_bgcolor": "white",
          "plot_bgcolor": "#E5ECF6",
          "polar": {
           "angularaxis": {
            "gridcolor": "white",
            "linecolor": "white",
            "ticks": ""
           },
           "bgcolor": "#E5ECF6",
           "radialaxis": {
            "gridcolor": "white",
            "linecolor": "white",
            "ticks": ""
           }
          },
          "scene": {
           "xaxis": {
            "backgroundcolor": "#E5ECF6",
            "gridcolor": "white",
            "gridwidth": 2,
            "linecolor": "white",
            "showbackground": true,
            "ticks": "",
            "zerolinecolor": "white"
           },
           "yaxis": {
            "backgroundcolor": "#E5ECF6",
            "gridcolor": "white",
            "gridwidth": 2,
            "linecolor": "white",
            "showbackground": true,
            "ticks": "",
            "zerolinecolor": "white"
           },
           "zaxis": {
            "backgroundcolor": "#E5ECF6",
            "gridcolor": "white",
            "gridwidth": 2,
            "linecolor": "white",
            "showbackground": true,
            "ticks": "",
            "zerolinecolor": "white"
           }
          },
          "shapedefaults": {
           "line": {
            "color": "#2a3f5f"
           }
          },
          "ternary": {
           "aaxis": {
            "gridcolor": "white",
            "linecolor": "white",
            "ticks": ""
           },
           "baxis": {
            "gridcolor": "white",
            "linecolor": "white",
            "ticks": ""
           },
           "bgcolor": "#E5ECF6",
           "caxis": {
            "gridcolor": "white",
            "linecolor": "white",
            "ticks": ""
           }
          },
          "title": {
           "x": 0.05
          },
          "xaxis": {
           "automargin": true,
           "gridcolor": "white",
           "linecolor": "white",
           "ticks": "",
           "title": {
            "standoff": 15
           },
           "zerolinecolor": "white",
           "zerolinewidth": 2
          },
          "yaxis": {
           "automargin": true,
           "gridcolor": "white",
           "linecolor": "white",
           "ticks": "",
           "title": {
            "standoff": 15
           },
           "zerolinecolor": "white",
           "zerolinewidth": 2
          }
         }
        },
        "title": {
         "text": "total revenue"
        },
        "xaxis": {
         "anchor": "y",
         "domain": [
          0,
          1
         ],
         "title": {
          "text": "company"
         }
        },
        "yaxis": {
         "anchor": "x",
         "domain": [
          0,
          1
         ],
         "title": {
          "text": "value"
         }
        }
       }
      }
     },
     "metadata": {},
     "output_type": "display_data"
    }
   ],
   "source": [
    "import plotly.express as px\n",
    "\n",
    "fig = px.bar(company_kpi[~company_kpi.index.isin(['Total Revenue', 'Operating Revenue'])], x=\"company\", y=\"value\", color = 'index', title=\"total revenue\")\n",
    "fig.update_layout(barmode=\"stack\")\n",
    "fig.show()"
   ]
  }
 ],
 "metadata": {
  "language_info": {
   "name": "python"
  }
 },
 "nbformat": 4,
 "nbformat_minor": 2
}
