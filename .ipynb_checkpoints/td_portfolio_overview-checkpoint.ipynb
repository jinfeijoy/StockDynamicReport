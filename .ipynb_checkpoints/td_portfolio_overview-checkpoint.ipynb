{
 "cells": [
  {
   "cell_type": "markdown",
   "metadata": {},
   "source": [
    "# Current TD Portfolio"
   ]
  },
  {
   "cell_type": "code",
   "execution_count": 9,
   "metadata": {},
   "outputs": [
    {
     "data": {
      "text/html": [
       "<script>\n",
       "code_show=true; \n",
       "function code_toggle() {\n",
       " if (code_show){\n",
       " $('div.input').hide();\n",
       " } else {\n",
       " $('div.input').show();\n",
       " }\n",
       " code_show = !code_show\n",
       "} \n",
       "$( document ).ready(code_toggle);\n",
       "</script>\n",
       "The raw code for this IPython notebook is by default hidden for easier reading.\n",
       "To toggle on/off the raw code, click <a href=\"javascript:code_toggle()\">here</a>."
      ],
      "text/plain": [
       "<IPython.core.display.HTML object>"
      ]
     },
     "execution_count": 9,
     "metadata": {},
     "output_type": "execute_result"
    }
   ],
   "source": [
    "HTML('''<script>\n",
    "code_show=true; \n",
    "function code_toggle() {\n",
    " if (code_show){\n",
    " $('div.input').hide();\n",
    " } else {\n",
    " $('div.input').show();\n",
    " }\n",
    " code_show = !code_show\n",
    "} \n",
    "$( document ).ready(code_toggle);\n",
    "</script>\n",
    "The raw code for this IPython notebook is by default hidden for easier reading.\n",
    "To toggle on/off the raw code, click <a href=\"javascript:code_toggle()\">here</a>.''')"
   ]
  },
  {
   "cell_type": "markdown",
   "metadata": {},
   "source": [
    "## Fund Summary"
   ]
  },
  {
   "cell_type": "code",
   "execution_count": 74,
   "metadata": {},
   "outputs": [],
   "source": [
    "import warnings\n",
    "import numpy as np\n",
    "warnings.filterwarnings('ignore')\n",
    "import os\n",
    "import pandas as pd\n",
    "path = 'C:\\\\Users\\\\luoyan011\\\\Desktop\\\\PersonalLearning\\\\GitHub\\\\private_data'\n",
    "from IPython.display import Markdown as md\n",
    "from IPython.display import display, HTML\n",
    "import xlrd\n",
    "from yahoo_fin.stock_info import *\n",
    "from yahoo_fin import stock_info as si\n",
    "from yahoo_fin import news\n",
    "import timestring\n",
    "from datetime import datetime\n",
    "\n",
    "import matplotlib.pyplot as plt\n",
    "from palettable.colorbrewer.qualitative import Pastel1_7\n",
    "import altair as alt\n",
    "import plotly.express as px\n",
    "import locale\n",
    "locale.setlocale( locale.LC_ALL, '' ) #this used to format currency\n",
    "\n",
    "import yahooquery\n",
    "from yahooquery import Ticker\n",
    "import yfinance as yf\n",
    "\n",
    "# ===================================== Functions\n",
    "\n",
    "# def get_stock_details(tickers, startdate, enddate):\n",
    "#     output = pd.DataFrame()\n",
    "#     for ticker in tickers:\n",
    "#         tmp = si.get_data(ticker, start_date = startdate, end_date = enddate)\n",
    "#         output = output.append(tmp)\n",
    "#     output['date'] = output.index\n",
    "#     return output\n",
    "def get_stock_details(tickers, startdate, enddate):\n",
    "    output = pd.DataFrame()\n",
    "    for ticker in tickers:\n",
    "        tmp = yf.Ticker(ticker).history(start = startdate, end = enddate)\n",
    "        tmp['ticker'] = ticker\n",
    "        output = output.append(tmp)\n",
    "    output = output.reset_index()\n",
    "    return output\n",
    "\n",
    "\n",
    "def plot_pie_chart_dist(data, group_by_feature, dist_feature, optional_title = ''):\n",
    "#     CSS = \"\"\"\n",
    "#     .output {\n",
    "#         display: flex;\n",
    "#         flex-direction: row;\n",
    "#         flex-flow: wrap;\n",
    "#     }\n",
    "#     \"\"\"\n",
    "\n",
    "#     display(HTML('<style>{}</style>'.format(CSS)))\n",
    "    # plot link: https://python-graph-gallery.com/161-custom-matplotlib-donut-plot/\n",
    "    data_smr = pd.DataFrame(data.groupby(group_by_feature)[dist_feature].agg('sum').round(0))\n",
    "#     display(HTML(data_smr.to_html()))\n",
    "    data_smr[group_by_feature] = data_smr.index\n",
    "\n",
    "    my_circle=plt.Circle( (0,0), 0.5, color='white')\n",
    "    fig, ax = plt.subplots(figsize=(8, 8), subplot_kw=dict(aspect=\"equal\"))\n",
    "\n",
    "    total = sum(data_smr[dist_feature])\n",
    "    def label_format(x):\n",
    "        return('{:.1f}%\\n({:.0f})'.format(x, total*x/100))\n",
    "    plt.pie(data_smr[dist_feature], \n",
    "            labels=data_smr.index, \n",
    "            colors=Pastel1_7.hex_colors, \n",
    "            autopct=label_format,\n",
    "            wedgeprops = { 'linewidth' : 15, 'edgecolor' : 'white' })\n",
    "    p=plt.gcf()\n",
    "    p.gca().add_artist(my_circle)\n",
    "    plt.title(optional_title + dist_feature + ' distribution by different ' + group_by_feature)\n",
    "    plt.show()\n",
    "\n",
    "    \n",
    "def get_etf_holding(ticker, price_period = '2y'):\n",
    "\n",
    "    t = Ticker(ticker)\n",
    "    hist_price = t.history(period=price_period, interval='1d')\n",
    "    hist_price = hist_price.reset_index()\n",
    "    price = pd.melt(hist_price, id_vars=['date'], value_vars=['open', 'high', 'close', 'low', 'adjclose'])\n",
    "    fig = px.line(price, x='date', y='value', color='variable',\n",
    "                 title=ticker+' Historical Price')\n",
    "    fig.show()\n",
    "#     fig = px.line(hist_price, x='date', y='volume', \n",
    "#                  title=ticker+' Volume')\n",
    "#     fig.show()\n",
    "    print('===============================',ticker,'=================================')\n",
    "    print()\n",
    "    print('-------------------------- Summary Details ----------------------------')\n",
    "    if type(t.summary_detail[ticker]) != str:\n",
    "        smr_details = pd.DataFrame(t.summary_detail[ticker], index=[0]).T.set_axis(['Value'], axis=1, inplace=False)\n",
    "        keep_cols = ['totalAssets', 'previousClose', 'open', 'fiftyDayAverage','fiftyDayAverage',\n",
    "                 'fiftyTwoWeekLow', 'fiftyTwoWeekHigh', 'twoHundredDayAverage',\n",
    "                 'volume','averageVolume', 'averageVolume10days','averageDailyVolume10Day']\n",
    "        smr_details = smr_details[smr_details.index.isin(keep_cols)]\n",
    "        smr_details = smr_details.reindex(keep_cols)\n",
    "        display(smr_details)\n",
    "    print('-------------------------- Key Factor ----------------------------')\n",
    "    if type(t.key_stats[ticker]) != str:\n",
    "        key_factor = pd.DataFrame(t.key_stats[ticker], index=[0]).T.set_axis(['Value'], axis=1, inplace=False)\n",
    "        key_factor = key_factor[key_factor.index.isin(['category','ytdReturn','fundFamily', 'fundInceptionDate', 'legalType'])]\n",
    "        display(key_factor)\n",
    "    print('-------------------------- Fund Sector ----------------------------')\n",
    "    if type(t.fund_sector_weightings[ticker]) != str:\n",
    "        fund_sector = t.fund_sector_weightings\n",
    "        if len(fund_sector) >1:\n",
    "            fund_sector.insert(0,'Fund Sector',fund_sector.index)\n",
    "            fund_sector = fund_sector.reset_index(drop=True)\n",
    "            fund_sector.columns = ['Fund Sector','Percentage']\n",
    "            fund_sector = fund_sector.sort_values(by='Percentage', ascending=False)\n",
    "        display(fund_sector)\n",
    "    print('-------------------------- Holdings ----------------------------')\n",
    "    if type(t.fund_holding_info[ticker]) != str:\n",
    "        display(pd.DataFrame(t.fund_holding_info[ticker]['holdings']))\n",
    "    print('-------------------------- Returns ----------------------------')\n",
    "    if type(t.fund_performance[ticker]) != str:\n",
    "        display(pd.DataFrame(t.fund_performance[ticker]['performanceOverview'], index=[0]).T.set_axis(['Value'], axis=1, inplace=False))\n",
    "        print()\n",
    "        display(pd.DataFrame(t.fund_performance[ticker]['trailingReturns'], index=[0]).T.set_axis(['Value'], axis=1, inplace=False))\n",
    "        print()\n",
    "        display(pd.DataFrame(t.fund_performance[ticker]['annualTotalReturns']['returns']))\n",
    "    print('-------------------------- Risk Factors ----------------------------')\n",
    "    if type(t.fund_performance[ticker]) != str:\n",
    "        display(pd.DataFrame(t.fund_performance[ticker]['riskOverviewStatistics']['riskStatistics']))\n",
    "    print('=========================================================================')\n",
    "                           \n",
    "\n",
    "def print_news_title(ticker, filter_date):\n",
    "    news_raw = news.get_yf_rss(ticker)\n",
    "    n_news = len(news_raw)\n",
    "    print('Recent News of', ticker, ':')\n",
    "    for i in range(n_news):\n",
    "        newsdate = news_raw[i].published\n",
    "        newsdate = datetime(int(newsdate.split(' ')[3]), int(strptime(newsdate.split(' ')[2],'%b').tm_mon), int(newsdate.split(' ')[1]), 0, 0, 0)\n",
    "        if newsdate >= timestring.Date(filter_date).date:\n",
    "            print('-------------------------------------------------------------')\n",
    "            print(news_raw[i].title)\n",
    "            print(timestring.Date(news_raw[i].published).date)\n",
    "    print('================================================================')\n"
   ]
  },
  {
   "cell_type": "code",
   "execution_count": 2,
   "metadata": {},
   "outputs": [],
   "source": [
    "#=========================== Load File\n",
    "file = 'stock_smr.xlsx'\n",
    "holding_tranc = 'holding_transaction'\n",
    "cash_tranc = 'cash_transaction'\n",
    "\n",
    "from datetime import datetime, timedelta\n",
    "# td = str((datetime.today() - timedelta(days = max(1, (datetime.today().weekday() + 6) % 7 - 3))).strftime('%m/%d/%Y'))\n",
    "# lstyear = str((datetime.strptime(td, '%m/%d/%Y') + timedelta(days = -365)).strftime('%m/%d/%Y'))\n",
    "# lstqtr = str((datetime.strptime(td, '%m/%d/%Y') + timedelta(days = -90)).strftime('%m/%d/%Y'))\n",
    "# tmr = str((datetime.strptime(td, '%m/%d/%Y') + timedelta(days = 1)).strftime('%m/%d/%Y'))\n",
    "\n",
    "td = str((datetime.today() - timedelta(days = max(1, (datetime.today().weekday() + 6) % 7 - 3))).strftime('%Y-%m-%d'))\n",
    "tmr = str((datetime.strptime(td, '%Y-%m-%d') + timedelta(days = 1)).strftime('%Y-%m-%d'))\n",
    "lstyear = str((datetime.strptime(td, '%Y-%m-%d') + timedelta(days = -365)).strftime('%Y-%m-%d'))\n",
    "lstqtr = str((datetime.strptime(td, '%Y-%m-%d') + timedelta(days = -90)).strftime('%Y-%m-%d'))\n",
    "\n",
    "\n",
    "initial_fund = pd.read_excel(os.path.join(path,file), sheet_name = cash_tranc)\n",
    "stock_tranc = pd.read_excel(os.path.join(path,file), sheet_name = holding_tranc)\n",
    "stock_tranc['total_amt'] = -1 * stock_tranc['amount_per_share'] * stock_tranc['share']\n",
    "\n",
    "#=========================== Get Cash Value\n",
    "initial_fund = initial_fund[initial_fund.date<datetime.strptime(td,'%Y-%m-%d')]\n",
    "stock_tranc = stock_tranc[stock_tranc.date<datetime.strptime(td,'%Y-%m-%d')]\n",
    "\n",
    "initial_fund_CAD = initial_fund[initial_fund.currency == 'CAD']['value'].sum()\n",
    "initial_fund_USD = initial_fund[initial_fund.currency == 'USD']['value'].sum()\n",
    "current_cash_CAD = initial_fund[initial_fund.currency == 'CAD']['value'].sum() + stock_tranc[stock_tranc.currency=='CAD']['total_amt'].agg('sum')\n",
    "current_cash_USD = initial_fund[initial_fund.currency == 'USD']['value'].sum() + stock_tranc[stock_tranc.currency=='USD']['total_amt'].agg('sum')\n",
    "current_cash ={\n",
    "    'currency': ['CAD','USD'],\n",
    "    'value': [current_cash_CAD, current_cash_USD]\n",
    "}\n",
    "current_cash = pd.DataFrame(current_cash)\n",
    "# curr_cadusd = pd.to_numeric(si.get_data('CADUSD=X', start_date = td, end_date = tmr).sort_index(ascending=False).head(1).adjclose)[0]\n",
    "curr_cadusd = yf.Ticker(\"CADUSD=X\").history(start = td, end = tmr).sort_index(ascending=True).head(1).Close[0]\n",
    "\n",
    "#=========================== Get Market Value\n",
    "current_hold = stock_tranc.groupby('ticker')['share','total_amt'].agg('sum')\n",
    "current_hold['cost'] = current_hold.total_amt / current_hold.share\n",
    "current_hold = current_hold.reset_index()\n",
    "current_hold = current_hold.merge(stock_tranc[['ticker', 'category', 'currency', 'products']], how = 'left', on = 'ticker')\n",
    "\n",
    "active_stock_ticker = current_hold.ticker.unique()\n",
    "hold_stock_detail = get_stock_details(active_stock_ticker, lstqtr, td)\n",
    "\n",
    "from pandasql import sqldf, load_meat, load_births\n",
    "pysqldf = lambda q: sqldf(q, globals())\n",
    "\n",
    "stock_curr_price = hold_stock_detail[hold_stock_detail.Close.notnull()].sort_values(by = ['Date'], ascending=False).groupby('ticker').head(3)\n",
    "stock_curr_price['rank'] = stock_curr_price.groupby('ticker')['Date'].rank(method = 'first', ascending = False)\n"
   ]
  },
  {
   "cell_type": "code",
   "execution_count": 3,
   "metadata": {
    "scrolled": true
   },
   "outputs": [
    {
     "data": {
      "text/html": [
       "<div>\n",
       "<style scoped>\n",
       "    .dataframe tbody tr th:only-of-type {\n",
       "        vertical-align: middle;\n",
       "    }\n",
       "\n",
       "    .dataframe tbody tr th {\n",
       "        vertical-align: top;\n",
       "    }\n",
       "\n",
       "    .dataframe thead th {\n",
       "        text-align: right;\n",
       "    }\n",
       "</style>\n",
       "<table border=\"1\" class=\"dataframe\">\n",
       "  <thead>\n",
       "    <tr style=\"text-align: right;\">\n",
       "      <th></th>\n",
       "      <th>ticker</th>\n",
       "      <th>currency</th>\n",
       "      <th>share</th>\n",
       "      <th>unit_cost</th>\n",
       "      <th>lastday_price</th>\n",
       "      <th>today_price</th>\n",
       "      <th>total_cost</th>\n",
       "      <th>curr_value</th>\n",
       "      <th>profit</th>\n",
       "      <th>today_roe</th>\n",
       "      <th>today_ir</th>\n",
       "      <th>value_in_cad</th>\n",
       "      <th>category</th>\n",
       "      <th>products</th>\n",
       "    </tr>\n",
       "  </thead>\n",
       "  <tbody>\n",
       "    <tr>\n",
       "      <th>0</th>\n",
       "      <td>0P00016N6T.TO</td>\n",
       "      <td>CAD</td>\n",
       "      <td>109.17</td>\n",
       "      <td>-36.64</td>\n",
       "      <td>41.73</td>\n",
       "      <td>41.63</td>\n",
       "      <td>-4000</td>\n",
       "      <td>4545.0</td>\n",
       "      <td>545</td>\n",
       "      <td>0.14</td>\n",
       "      <td>-0.0024</td>\n",
       "      <td>4545.0</td>\n",
       "      <td>IT</td>\n",
       "      <td>MUTUAL</td>\n",
       "    </tr>\n",
       "    <tr>\n",
       "      <th>1</th>\n",
       "      <td>CASH</td>\n",
       "      <td>CAD</td>\n",
       "      <td></td>\n",
       "      <td></td>\n",
       "      <td></td>\n",
       "      <td></td>\n",
       "      <td></td>\n",
       "      <td>26798.0</td>\n",
       "      <td></td>\n",
       "      <td></td>\n",
       "      <td></td>\n",
       "      <td>26798.0</td>\n",
       "      <td>CASH</td>\n",
       "      <td>CASH</td>\n",
       "    </tr>\n",
       "    <tr>\n",
       "      <th>2</th>\n",
       "      <td>CASH</td>\n",
       "      <td>USD</td>\n",
       "      <td></td>\n",
       "      <td></td>\n",
       "      <td></td>\n",
       "      <td></td>\n",
       "      <td></td>\n",
       "      <td>17207.0</td>\n",
       "      <td></td>\n",
       "      <td></td>\n",
       "      <td></td>\n",
       "      <td>21773.0</td>\n",
       "      <td>CASH</td>\n",
       "      <td>CASH</td>\n",
       "    </tr>\n",
       "    <tr>\n",
       "      <th>3</th>\n",
       "      <td>ENB.TO</td>\n",
       "      <td>CAD</td>\n",
       "      <td>80</td>\n",
       "      <td>-36.12</td>\n",
       "      <td>50.47</td>\n",
       "      <td>50.27</td>\n",
       "      <td>-2890</td>\n",
       "      <td>4022.0</td>\n",
       "      <td>1132</td>\n",
       "      <td>0.39</td>\n",
       "      <td>-0.004</td>\n",
       "      <td>4022.0</td>\n",
       "      <td>OIL</td>\n",
       "      <td>STOCK</td>\n",
       "    </tr>\n",
       "    <tr>\n",
       "      <th>4</th>\n",
       "      <td>HGU.TO</td>\n",
       "      <td>CAD</td>\n",
       "      <td>75</td>\n",
       "      <td>-32.54</td>\n",
       "      <td>18.61</td>\n",
       "      <td>18.08</td>\n",
       "      <td>-2441</td>\n",
       "      <td>1356.0</td>\n",
       "      <td>-1085</td>\n",
       "      <td>-0.44</td>\n",
       "      <td>-0.0285</td>\n",
       "      <td>1356.0</td>\n",
       "      <td>GOLD</td>\n",
       "      <td>ETF</td>\n",
       "    </tr>\n",
       "    <tr>\n",
       "      <th>5</th>\n",
       "      <td>HUZ.TO</td>\n",
       "      <td>CAD</td>\n",
       "      <td>250</td>\n",
       "      <td>-12.37</td>\n",
       "      <td>11.93</td>\n",
       "      <td>11.81</td>\n",
       "      <td>-3093</td>\n",
       "      <td>2953.0</td>\n",
       "      <td>-140</td>\n",
       "      <td>-0.05</td>\n",
       "      <td>-0.0101</td>\n",
       "      <td>2953.0</td>\n",
       "      <td>SILVER</td>\n",
       "      <td>ETF</td>\n",
       "    </tr>\n",
       "    <tr>\n",
       "      <th>6</th>\n",
       "      <td>HZU.TO</td>\n",
       "      <td>CAD</td>\n",
       "      <td>90</td>\n",
       "      <td>-23.41</td>\n",
       "      <td>15.29</td>\n",
       "      <td>14.99</td>\n",
       "      <td>-2107</td>\n",
       "      <td>1349.0</td>\n",
       "      <td>-758</td>\n",
       "      <td>-0.36</td>\n",
       "      <td>-0.0196</td>\n",
       "      <td>1349.0</td>\n",
       "      <td>SILVER</td>\n",
       "      <td>ETF</td>\n",
       "    </tr>\n",
       "    <tr>\n",
       "      <th>7</th>\n",
       "      <td>SPCE</td>\n",
       "      <td>USD</td>\n",
       "      <td>70</td>\n",
       "      <td>-16.94</td>\n",
       "      <td>17.38</td>\n",
       "      <td>17.25</td>\n",
       "      <td>-1186</td>\n",
       "      <td>1208.0</td>\n",
       "      <td>22</td>\n",
       "      <td>0.02</td>\n",
       "      <td>-0.0075</td>\n",
       "      <td>1529.0</td>\n",
       "      <td>SPACE</td>\n",
       "      <td>STOCK</td>\n",
       "    </tr>\n",
       "    <tr>\n",
       "      <th>8</th>\n",
       "      <td>VDE</td>\n",
       "      <td>USD</td>\n",
       "      <td>57</td>\n",
       "      <td>-51.82</td>\n",
       "      <td>80.17</td>\n",
       "      <td>77</td>\n",
       "      <td>-2954</td>\n",
       "      <td>4389.0</td>\n",
       "      <td>1435</td>\n",
       "      <td>0.49</td>\n",
       "      <td>-0.0395</td>\n",
       "      <td>5554.0</td>\n",
       "      <td>OIL</td>\n",
       "      <td>ETF</td>\n",
       "    </tr>\n",
       "  </tbody>\n",
       "</table>\n",
       "</div>"
      ],
      "text/plain": [
       "          ticker currency   share unit_cost lastday_price today_price  \\\n",
       "0  0P00016N6T.TO      CAD  109.17    -36.64         41.73       41.63   \n",
       "1           CASH      CAD                                               \n",
       "2           CASH      USD                                               \n",
       "3         ENB.TO      CAD      80    -36.12         50.47       50.27   \n",
       "4         HGU.TO      CAD      75    -32.54         18.61       18.08   \n",
       "5         HUZ.TO      CAD     250    -12.37         11.93       11.81   \n",
       "6         HZU.TO      CAD      90    -23.41         15.29       14.99   \n",
       "7           SPCE      USD      70    -16.94         17.38       17.25   \n",
       "8            VDE      USD      57    -51.82         80.17          77   \n",
       "\n",
       "  total_cost  curr_value profit today_roe today_ir  value_in_cad category  \\\n",
       "0      -4000      4545.0    545      0.14  -0.0024        4545.0       IT   \n",
       "1                26798.0                                 26798.0     CASH   \n",
       "2                17207.0                                 21773.0     CASH   \n",
       "3      -2890      4022.0   1132      0.39   -0.004        4022.0      OIL   \n",
       "4      -2441      1356.0  -1085     -0.44  -0.0285        1356.0     GOLD   \n",
       "5      -3093      2953.0   -140     -0.05  -0.0101        2953.0   SILVER   \n",
       "6      -2107      1349.0   -758     -0.36  -0.0196        1349.0   SILVER   \n",
       "7      -1186      1208.0     22      0.02  -0.0075        1529.0    SPACE   \n",
       "8      -2954      4389.0   1435      0.49  -0.0395        5554.0      OIL   \n",
       "\n",
       "  products  \n",
       "0   MUTUAL  \n",
       "1     CASH  \n",
       "2     CASH  \n",
       "3    STOCK  \n",
       "4      ETF  \n",
       "5      ETF  \n",
       "6      ETF  \n",
       "7    STOCK  \n",
       "8      ETF  "
      ]
     },
     "metadata": {},
     "output_type": "display_data"
    }
   ],
   "source": [
    "# Get Current Holdings\n",
    "current_hold = stock_tranc.groupby('ticker')['share','total_amt'].agg('sum')\n",
    "current_hold['cost'] = current_hold.total_amt / current_hold.share\n",
    "current_hold = current_hold.reset_index()\n",
    "current_hold = current_hold.merge(stock_tranc[['ticker', 'category', 'currency', 'products']], how = 'left', on = 'ticker')\n",
    "# print(current_hold)\n",
    "\n",
    "active_stock_ticker = current_hold.ticker.unique()\n",
    "hold_stock_detail = get_stock_details(active_stock_ticker, lstqtr, td)\n",
    "\n",
    "from pandasql import sqldf, load_meat, load_births\n",
    "pysqldf = lambda q: sqldf(q, globals())\n",
    "\n",
    "stock_curr_price = hold_stock_detail[hold_stock_detail.Close.notnull()].sort_values(by = ['Date'], ascending=False).groupby('ticker').head(3)\n",
    "stock_curr_price['rank'] = stock_curr_price.groupby('ticker')['Date'].rank(method = 'first', ascending = False)\n",
    "query = \"\"\"\n",
    "    SELECT \n",
    "        A.ticker\n",
    "        , A.currency\n",
    "        , A.share\n",
    "        , A.cost as unit_cost\n",
    "        , C.Close as lastday_price\n",
    "        , B.Close as today_price\n",
    "        , round(A.total_amt) as total_cost\n",
    "        , round(case when A.ticker = 'CASH' then A.cost else B.Close * A.share end) as curr_value\n",
    "        , round((B.Close + A.cost) * A.share) as profit\n",
    "        , round(-1 * B.Close / A.cost - 1, 2) as today_roe\n",
    "        , round(B.Close / C.Close - 1, 4)  as today_ir\n",
    "        , A.category\n",
    "        , A.products\n",
    "    FROM \n",
    "        current_hold A\n",
    "    LEFT JOIN \n",
    "        stock_curr_price B on A.ticker = B.ticker and B.rank = 1\n",
    "    LEFT JOIN \n",
    "        stock_curr_price C on A.ticker = C.ticker and C.rank = 2\n",
    "        \n",
    "    UNION\n",
    "    \n",
    "    SELECT \n",
    "        'CASH' as ticker\n",
    "        , currency\n",
    "        , '' as share\n",
    "        , '' as unit_cost\n",
    "        , '' as lastday_price\n",
    "        , '' as today_price\n",
    "        , '' as total_cost\n",
    "        , round(value) as curr_value\n",
    "        , '' as profit\n",
    "        , '' as today_roe\n",
    "        , '' as today_ir\n",
    "        , 'CASH' as category\n",
    "        , 'CASH' as products\n",
    "    \n",
    "    FROM current_cash\n",
    "    \"\"\"\n",
    "stock_curr_smr = pysqldf(query)\n",
    "stock_curr_smr.insert(11,'value_in_cad', np.where(stock_curr_smr['currency'] == 'CAD', stock_curr_smr['curr_value'], round(stock_curr_smr['curr_value']/curr_cadusd)))\n",
    "display(stock_curr_smr)\n"
   ]
  },
  {
   "cell_type": "markdown",
   "metadata": {
    "variables": {
     " \"{:.1%}\".format(((stock_curr_smr[stock_curr_smr.currency=='CAD']['curr_value'].sum() - initial_fund_CAD) + (stock_curr_smr[stock_curr_smr.currency=='USD']['curr_value'].sum() - initial_fund_USD) /curr_cadusd)/(initial_fund_CAD + initial_fund_USD/curr_cadusd)) ": "2.3%",
     " \"{:.1%}\".format((stock_curr_smr[stock_curr_smr.currency=='CAD']['curr_value'].sum() + stock_curr_smr[stock_curr_smr.currency=='USD']['curr_value'].sum()/curr_cadusd - current_cash_CAD - current_cash_USD/curr_cadusd) / (stock_curr_smr[stock_curr_smr.currency=='CAD']['curr_value'].sum() + stock_curr_smr[stock_curr_smr.currency=='USD']['curr_value'].sum()/curr_cadusd))": "30.5%",
     " \"{:.1%}\".format((stock_curr_smr[stock_curr_smr.currency=='CAD']['curr_value'].sum() - initial_fund_CAD)/initial_fund_CAD) ": "-0.7%",
     " \"{:.1%}\".format((stock_curr_smr[stock_curr_smr.currency=='CAD']['curr_value'].sum()-current_cash_CAD)/stock_curr_smr[stock_curr_smr.currency=='CAD']['curr_value'].sum())": "34.7%",
     " \"{:.1%}\".format((stock_curr_smr[stock_curr_smr.currency=='USD']['curr_value'].sum() - initial_fund_USD)/initial_fund_USD) ": "6.8%",
     " \"{:.1%}\".format((stock_curr_smr[stock_curr_smr.currency=='USD']['curr_value'].sum()-current_cash_USD)/stock_curr_smr[stock_curr_smr.currency=='USD']['curr_value'].sum())": "24.5%",
     " locale.currency(initial_fund_CAD + initial_fund_USD/curr_cadusd, grouping=True)": "$68,338.43",
     " locale.currency(initial_fund_CAD, grouping=True) ": "$41,327.00",
     " locale.currency(initial_fund_USD, grouping=True)": "$21,347.00",
     " td ": "2021-11-22",
     "locale.currency((stock_curr_smr[stock_curr_smr.currency=='CAD']['curr_value'].sum() - initial_fund_CAD) + (stock_curr_smr[stock_curr_smr.currency=='USD']['curr_value'].sum() - initial_fund_USD) /curr_cadusd , grouping=True)": "$1,539.61",
     "locale.currency(current_cash_CAD + current_cash_USD/curr_cadusd, grouping=True)": "$48,570.97",
     "locale.currency(current_cash_CAD, grouping=True)": "$26,797.51",
     "locale.currency(current_cash_USD, grouping=True)": "$17,207.46",
     "locale.currency(stock_curr_smr[stock_curr_smr.currency=='CAD']['curr_value'].sum() + stock_curr_smr[stock_curr_smr.currency=='USD']['curr_value'].sum()/curr_cadusd, grouping=True) ": "$69,878.04",
     "locale.currency(stock_curr_smr[stock_curr_smr.currency=='CAD']['curr_value'].sum() - initial_fund_CAD, grouping=True)": "($304.00)",
     "locale.currency(stock_curr_smr[stock_curr_smr.currency=='CAD']['curr_value'].sum(), grouping=True)": "$41,023.00",
     "locale.currency(stock_curr_smr[stock_curr_smr.currency=='USD']['curr_value'].sum() - initial_fund_USD, grouping=True)": "$1,457.00",
     "locale.currency(stock_curr_smr[stock_curr_smr.currency=='USD']['curr_value'].sum(), grouping=True)": "$22,804.00"
    }
   },
   "source": [
    "## Holdings Summary\n",
    "**Portfolio Summary {{ td }}**\n",
    "\n",
    "* **Initial Fund**: CAD: {{ locale.currency(initial_fund_CAD, grouping=True) }}, USD: {{ locale.currency(initial_fund_USD, grouping=True)}}, All in CAD: {{ locale.currency(initial_fund_CAD + initial_fund_USD/curr_cadusd, grouping=True)}}.\n",
    "* **Current Cash**: CAD: {{locale.currency(current_cash_CAD, grouping=True)}}, USD: {{locale.currency(current_cash_USD, grouping=True)}}, All in CAD: {{locale.currency(current_cash_CAD + current_cash_USD/curr_cadusd, grouping=True)}}\n",
    "* **Investment Percentage**: CAD: {{ \"{:.1%}\".format((stock_curr_smr[stock_curr_smr.currency=='CAD']['curr_value'].sum()-current_cash_CAD)/stock_curr_smr[stock_curr_smr.currency=='CAD']['curr_value'].sum())}}, USD: {{ \"{:.1%}\".format((stock_curr_smr[stock_curr_smr.currency=='USD']['curr_value'].sum()-current_cash_USD)/stock_curr_smr[stock_curr_smr.currency=='USD']['curr_value'].sum())}}, Overall: {{ \"{:.1%}\".format((stock_curr_smr[stock_curr_smr.currency=='CAD']['curr_value'].sum() + stock_curr_smr[stock_curr_smr.currency=='USD']['curr_value'].sum()/curr_cadusd - current_cash_CAD - current_cash_USD/curr_cadusd) / (stock_curr_smr[stock_curr_smr.currency=='CAD']['curr_value'].sum() + stock_curr_smr[stock_curr_smr.currency=='USD']['curr_value'].sum()/curr_cadusd))}}\n",
    "* **Market Value**: CAD: {{locale.currency(stock_curr_smr[stock_curr_smr.currency=='CAD']['curr_value'].sum(), grouping=True)}}, USD: {{locale.currency(stock_curr_smr[stock_curr_smr.currency=='USD']['curr_value'].sum(), grouping=True)}}, All in CAD: {{locale.currency(stock_curr_smr[stock_curr_smr.currency=='CAD']['curr_value'].sum() + stock_curr_smr[stock_curr_smr.currency=='USD']['curr_value'].sum()/curr_cadusd, grouping=True) }}\n",
    "* **Profit**: CAD: {{locale.currency(stock_curr_smr[stock_curr_smr.currency=='CAD']['curr_value'].sum() - initial_fund_CAD, grouping=True)}}, USD: {{locale.currency(stock_curr_smr[stock_curr_smr.currency=='USD']['curr_value'].sum() - initial_fund_USD, grouping=True)}}, All in CAD: {{locale.currency((stock_curr_smr[stock_curr_smr.currency=='CAD']['curr_value'].sum() - initial_fund_CAD) + (stock_curr_smr[stock_curr_smr.currency=='USD']['curr_value'].sum() - initial_fund_USD) /curr_cadusd , grouping=True)}}\n",
    "* **ROE**: CAD: {{ \"{:.1%}\".format((stock_curr_smr[stock_curr_smr.currency=='CAD']['curr_value'].sum() - initial_fund_CAD)/initial_fund_CAD) }}, USD: {{ \"{:.1%}\".format((stock_curr_smr[stock_curr_smr.currency=='USD']['curr_value'].sum() - initial_fund_USD)/initial_fund_USD) }}, Overall: {{ \"{:.1%}\".format(((stock_curr_smr[stock_curr_smr.currency=='CAD']['curr_value'].sum() - initial_fund_CAD) + (stock_curr_smr[stock_curr_smr.currency=='USD']['curr_value'].sum() - initial_fund_USD) /curr_cadusd)/(initial_fund_CAD + initial_fund_USD/curr_cadusd)) }}"
   ]
  },
  {
   "cell_type": "markdown",
   "metadata": {},
   "source": [
    "## Fund Distribution"
   ]
  },
  {
   "cell_type": "code",
   "execution_count": 4,
   "metadata": {
    "scrolled": false
   },
   "outputs": [
    {
     "data": {
      "image/png": "[encoded data removed]",
      "text/plain": [
       "<Figure size 576x576 with 1 Axes>"
      ]
     },
     "metadata": {},
     "output_type": "display_data"
    },
    {
     "data": {
      "image/png": "[encoded data removed]",
      "text/plain": [
       "<Figure size 576x576 with 1 Axes>"
      ]
     },
     "metadata": {},
     "output_type": "display_data"
    },
    {
     "data": {
      "image/png": "[encoded data removed]",
      "text/plain": [
       "<Figure size 576x576 with 1 Axes>"
      ]
     },
     "metadata": {},
     "output_type": "display_data"
    }
   ],
   "source": [
    "plot_pie_chart_dist(stock_curr_smr[stock_curr_smr.currency=='USD'], 'products', 'curr_value', 'USD ')\n",
    "plot_pie_chart_dist(stock_curr_smr[stock_curr_smr.currency=='CAD'], 'products', 'curr_value', 'CAD ')\n",
    "plot_pie_chart_dist(stock_curr_smr, 'category', 'value_in_cad')"
   ]
  },
  {
   "cell_type": "markdown",
   "metadata": {},
   "source": [
    "## Current Holdings Market Watch"
   ]
  },
  {
   "cell_type": "code",
   "execution_count": 10,
   "metadata": {},
   "outputs": [
    {
     "data": {
      "text/html": [
       "\n",
       "<div id=\"altair-viz-307194784dbb438197bdfce3f80052cb\"></div>\n",
       "<script type=\"text/javascript\">\n",
       "  (function(spec, embedOpt){\n",
       "    let outputDiv = document.currentScript.previousElementSibling;\n",
       "    if (outputDiv.id !== \"altair-viz-307194784dbb438197bdfce3f80052cb\") {\n",
       "      outputDiv = document.getElementById(\"altair-viz-307194784dbb438197bdfce3f80052cb\");\n",
       "    }\n",
       "    const paths = {\n",
       "      \"vega\": \"https://cdn.jsdelivr.net/npm//vega@5?noext\",\n",
       "      \"vega-lib\": \"https://cdn.jsdelivr.net/npm//vega-lib?noext\",\n",
       "      \"vega-lite\": \"https://cdn.jsdelivr.net/npm//vega-lite@4.8.1?noext\",\n",
       "      \"vega-embed\": \"https://cdn.jsdelivr.net/npm//vega-embed@6?noext\",\n",
       "    };\n",
       "\n",
       "    function loadScript(lib) {\n",
       "      return new Promise(function(resolve, reject) {\n",
       "        var s = document.createElement('script');\n",
       "        s.src = paths[lib];\n",
       "        s.async = true;\n",
       "        s.onload = () => resolve(paths[lib]);\n",
       "        s.onerror = () => reject(`Error loading script: ${paths[lib]}`);\n",
       "        document.getElementsByTagName(\"head\")[0].appendChild(s);\n",
       "      });\n",
       "    }\n",
       "\n",
       "    function showError(err) {\n",
       "      outputDiv.innerHTML = `<div class=\"error\" style=\"color:red;\">${err}</div>`;\n",
       "      throw err;\n",
       "    }\n",
       "\n",
       "    function displayChart(vegaEmbed) {\n",
       "      vegaEmbed(outputDiv, spec, embedOpt)\n",
       "        .catch(err => showError(`Javascript Error: ${err.message}<br>This usually means there's a typo in your chart specification. See the javascript console for the full traceback.`));\n",
       "    }\n",
       "\n",
       "    if(typeof define === \"function\" && define.amd) {\n",
       "      requirejs.config({paths});\n",
       "      require([\"vega-embed\"], displayChart, err => showError(`Error loading script: ${err.message}`));\n",
       "    } else if (typeof vegaEmbed === \"function\") {\n",
       "      displayChart(vegaEmbed);\n",
       "    } else {\n",
       "      loadScript(\"vega\")\n",
       "        .then(() => loadScript(\"vega-lite\"))\n",
       "        .then(() => loadScript(\"vega-embed\"))\n",
       "        .catch(showError)\n",
       "        .then(() => displayChart(vegaEmbed));\n",
       "    }\n",
       "  })({\"config\": {\"view\": {\"continuousWidth\": 400, \"continuousHeight\": 300}}, \"data\": {\"name\": \"data-454fb31076b012a2b1f8f0244c9889d2\"}, \"mark\": \"line\", \"encoding\": {\"color\": {\"type\": \"nominal\", \"field\": \"ticker\"}, \"x\": {\"type\": \"temporal\", \"field\": \"Date\"}, \"y\": {\"type\": \"quantitative\", \"field\": \"Volume\"}}, \"$schema\": \"https://vega.github.io/schema/vega-lite/v4.8.1.json\", \"datasets\": {\"data-454fb31076b012a2b1f8f0244c9889d2\": [{\"Date\": \"2021-08-24T00:00:00\", \"Open\": 38.58000183105469, \"High\": 38.58000183105469, \"Low\": 38.58000183105469, \"Close\": 38.58000183105469, \"Volume\": 0, \"Dividends\": 0.0, \"Stock Splits\": 0, \"ticker\": \"0P00016N6T.TO\"}, {\"Date\": \"2021-08-25T00:00:00\", \"Open\": 38.849998474121094, \"High\": 38.849998474121094, \"Low\": 38.849998474121094, \"Close\": 38.849998474121094, \"Volume\": 0, \"Dividends\": 0.0, \"Stock Splits\": 0, \"ticker\": \"0P00016N6T.TO\"}, {\"Date\": \"2021-08-26T00:00:00\", \"Open\": 38.939998626708984, \"High\": 38.939998626708984, \"Low\": 38.939998626708984, \"Close\": 38.939998626708984, \"Volume\": 0, \"Dividends\": 0.0, \"Stock Splits\": 0, \"ticker\": \"0P00016N6T.TO\"}, {\"Date\": \"2021-08-27T00:00:00\", \"Open\": 39.22999954223633, \"High\": 39.22999954223633, \"Low\": 39.22999954223633, \"Close\": 39.22999954223633, \"Volume\": 0, \"Dividends\": 0.0, \"Stock Splits\": 0, \"ticker\": \"0P00016N6T.TO\"}, {\"Date\": \"2021-08-30T00:00:00\", \"Open\": 39.599998474121094, \"High\": 39.599998474121094, \"Low\": 39.599998474121094, \"Close\": 39.599998474121094, \"Volume\": 0, \"Dividends\": 0.0, \"Stock Splits\": 0, \"ticker\": \"0P00016N6T.TO\"}, {\"Date\": \"2021-08-31T00:00:00\", \"Open\": 39.09000015258789, \"High\": 39.09000015258789, \"Low\": 39.09000015258789, \"Close\": 39.09000015258789, \"Volume\": 0, \"Dividends\": 0.0, \"Stock Splits\": 0, \"ticker\": \"0P00016N6T.TO\"}, {\"Date\": \"2021-09-01T00:00:00\", \"Open\": 39.41999816894531, \"High\": 39.41999816894531, \"Low\": 39.41999816894531, \"Close\": 39.41999816894531, \"Volume\": 0, \"Dividends\": 0.0, \"Stock Splits\": 0, \"ticker\": \"0P00016N6T.TO\"}, {\"Date\": \"2021-09-02T00:00:00\", \"Open\": 39.38999938964844, \"High\": 39.38999938964844, \"Low\": 39.38999938964844, \"Close\": 39.38999938964844, \"Volume\": 0, \"Dividends\": 0.0, \"Stock Splits\": 0, \"ticker\": \"0P00016N6T.TO\"}, {\"Date\": \"2021-09-03T00:00:00\", \"Open\": 39.79999923706055, \"High\": 39.79999923706055, \"Low\": 39.79999923706055, \"Close\": 39.79999923706055, \"Volume\": 0, \"Dividends\": 0.0, \"Stock Splits\": 0, \"ticker\": \"0P00016N6T.TO\"}, {\"Date\": \"2021-09-07T00:00:00\", \"Open\": 40.25, \"High\": 40.25, \"Low\": 40.25, \"Close\": 40.25, \"Volume\": 0, \"Dividends\": 0.0, \"Stock Splits\": 0, \"ticker\": \"0P00016N6T.TO\"}, {\"Date\": \"2021-09-08T00:00:00\", \"Open\": 39.849998474121094, \"High\": 39.849998474121094, \"Low\": 39.849998474121094, \"Close\": 39.849998474121094, \"Volume\": 0, \"Dividends\": 0.0, \"Stock Splits\": 0, \"ticker\": \"0P00016N6T.TO\"}, {\"Date\": \"2021-09-09T00:00:00\", \"Open\": 39.70000076293945, \"High\": 39.70000076293945, \"Low\": 39.70000076293945, \"Close\": 39.70000076293945, \"Volume\": 0, \"Dividends\": 0.0, \"Stock Splits\": 0, \"ticker\": \"0P00016N6T.TO\"}, {\"Date\": \"2021-09-10T00:00:00\", \"Open\": 39.65999984741211, \"High\": 39.65999984741211, \"Low\": 39.65999984741211, \"Close\": 39.65999984741211, \"Volume\": 0, \"Dividends\": 0.0, \"Stock Splits\": 0, \"ticker\": \"0P00016N6T.TO\"}, {\"Date\": \"2021-09-13T00:00:00\", \"Open\": 39.119998931884766, \"High\": 39.119998931884766, \"Low\": 39.119998931884766, \"Close\": 39.119998931884766, \"Volume\": 0, \"Dividends\": 0.0, \"Stock Splits\": 0, \"ticker\": \"0P00016N6T.TO\"}, {\"Date\": \"2021-09-14T00:00:00\", \"Open\": 39.2400016784668, \"High\": 39.2400016784668, \"Low\": 39.2400016784668, \"Close\": 39.2400016784668, \"Volume\": 0, \"Dividends\": 0.0, \"Stock Splits\": 0, \"ticker\": \"0P00016N6T.TO\"}, {\"Date\": \"2021-09-15T00:00:00\", \"Open\": 39.2599983215332, \"High\": 39.2599983215332, \"Low\": 39.2599983215332, \"Close\": 39.2599983215332, \"Volume\": 0, \"Dividends\": 0.0, \"Stock Splits\": 0, \"ticker\": \"0P00016N6T.TO\"}, {\"Date\": \"2021-09-16T00:00:00\", \"Open\": 39.75, \"High\": 39.75, \"Low\": 39.75, \"Close\": 39.75, \"Volume\": 0, \"Dividends\": 0.0, \"Stock Splits\": 0, \"ticker\": \"0P00016N6T.TO\"}, {\"Date\": \"2021-09-17T00:00:00\", \"Open\": 39.9900016784668, \"High\": 39.9900016784668, \"Low\": 39.9900016784668, \"Close\": 39.9900016784668, \"Volume\": 0, \"Dividends\": 0.0, \"Stock Splits\": 0, \"ticker\": \"0P00016N6T.TO\"}, {\"Date\": \"2021-09-20T00:00:00\", \"Open\": 39.220001220703125, \"High\": 39.220001220703125, \"Low\": 39.220001220703125, \"Close\": 39.220001220703125, \"Volume\": 0, \"Dividends\": 0.0, \"Stock Splits\": 0, \"ticker\": \"0P00016N6T.TO\"}, {\"Date\": \"2021-09-21T00:00:00\", \"Open\": 39.38999938964844, \"High\": 39.38999938964844, \"Low\": 39.38999938964844, \"Close\": 39.38999938964844, \"Volume\": 0, \"Dividends\": 0.0, \"Stock Splits\": 0, \"ticker\": \"0P00016N6T.TO\"}, {\"Date\": \"2021-09-22T00:00:00\", \"Open\": 39.72999954223633, \"High\": 39.72999954223633, \"Low\": 39.72999954223633, \"Close\": 39.72999954223633, \"Volume\": 0, \"Dividends\": 0.0, \"Stock Splits\": 0, \"ticker\": \"0P00016N6T.TO\"}, {\"Date\": \"2021-09-23T00:00:00\", \"Open\": 39.77000045776367, \"High\": 39.77000045776367, \"Low\": 39.77000045776367, \"Close\": 39.77000045776367, \"Volume\": 0, \"Dividends\": 0.0, \"Stock Splits\": 0, \"ticker\": \"0P00016N6T.TO\"}, {\"Date\": \"2021-09-24T00:00:00\", \"Open\": 39.68000030517578, \"High\": 39.68000030517578, \"Low\": 39.68000030517578, \"Close\": 39.68000030517578, \"Volume\": 0, \"Dividends\": 0.0, \"Stock Splits\": 0, \"ticker\": \"0P00016N6T.TO\"}, {\"Date\": \"2021-09-27T00:00:00\", \"Open\": 39.0099983215332, \"High\": 39.0099983215332, \"Low\": 39.0099983215332, \"Close\": 39.0099983215332, \"Volume\": 0, \"Dividends\": 0.0, \"Stock Splits\": 0, \"ticker\": \"0P00016N6T.TO\"}, {\"Date\": \"2021-09-28T00:00:00\", \"Open\": 37.529998779296875, \"High\": 37.529998779296875, \"Low\": 37.529998779296875, \"Close\": 37.529998779296875, \"Volume\": 0, \"Dividends\": 0.0, \"Stock Splits\": 0, \"ticker\": \"0P00016N6T.TO\"}, {\"Date\": \"2021-09-29T00:00:00\", \"Open\": 37.4900016784668, \"High\": 37.4900016784668, \"Low\": 37.4900016784668, \"Close\": 37.4900016784668, \"Volume\": 0, \"Dividends\": 0.0, \"Stock Splits\": 0, \"ticker\": \"0P00016N6T.TO\"}, {\"Date\": \"2021-09-30T00:00:00\", \"Open\": 37.45000076293945, \"High\": 37.45000076293945, \"Low\": 37.45000076293945, \"Close\": 37.45000076293945, \"Volume\": 0, \"Dividends\": 0.0, \"Stock Splits\": 0, \"ticker\": \"0P00016N6T.TO\"}, {\"Date\": \"2021-10-01T00:00:00\", \"Open\": 37.58000183105469, \"High\": 37.58000183105469, \"Low\": 37.58000183105469, \"Close\": 37.58000183105469, \"Volume\": 0, \"Dividends\": 0.0, \"Stock Splits\": 0, \"ticker\": \"0P00016N6T.TO\"}, {\"Date\": \"2021-10-04T00:00:00\", \"Open\": 36.31999969482422, \"High\": 36.31999969482422, \"Low\": 36.31999969482422, \"Close\": 36.31999969482422, \"Volume\": 0, \"Dividends\": 0.0, \"Stock Splits\": 0, \"ticker\": \"0P00016N6T.TO\"}, {\"Date\": \"2021-10-05T00:00:00\", \"Open\": 36.599998474121094, \"High\": 36.599998474121094, \"Low\": 36.599998474121094, \"Close\": 36.599998474121094, \"Volume\": 0, \"Dividends\": 0.0, \"Stock Splits\": 0, \"ticker\": \"0P00016N6T.TO\"}, {\"Date\": \"2021-10-06T00:00:00\", \"Open\": 36.83000183105469, \"High\": 36.83000183105469, \"Low\": 36.83000183105469, \"Close\": 36.83000183105469, \"Volume\": 0, \"Dividends\": 0.0, \"Stock Splits\": 0, \"ticker\": \"0P00016N6T.TO\"}, {\"Date\": \"2021-10-07T00:00:00\", \"Open\": 37.36000061035156, \"High\": 37.36000061035156, \"Low\": 37.36000061035156, \"Close\": 37.36000061035156, \"Volume\": 0, \"Dividends\": 0.0, \"Stock Splits\": 0, \"ticker\": \"0P00016N6T.TO\"}, {\"Date\": \"2021-10-08T00:00:00\", \"Open\": 36.66999816894531, \"High\": 36.66999816894531, \"Low\": 36.66999816894531, \"Close\": 36.66999816894531, \"Volume\": 0, \"Dividends\": 0.0, \"Stock Splits\": 0, \"ticker\": \"0P00016N6T.TO\"}, {\"Date\": \"2021-10-12T00:00:00\", \"Open\": 36.9900016784668, \"High\": 36.9900016784668, \"Low\": 36.9900016784668, \"Close\": 36.9900016784668, \"Volume\": 0, \"Dividends\": 0.0, \"Stock Splits\": 0, \"ticker\": \"0P00016N6T.TO\"}, {\"Date\": \"2021-10-13T00:00:00\", \"Open\": 38.029998779296875, \"High\": 38.029998779296875, \"Low\": 38.029998779296875, \"Close\": 38.029998779296875, \"Volume\": 0, \"Dividends\": 0.0, \"Stock Splits\": 0, \"ticker\": \"0P00016N6T.TO\"}, {\"Date\": \"2021-10-14T00:00:00\", \"Open\": 38.189998626708984, \"High\": 38.189998626708984, \"Low\": 38.189998626708984, \"Close\": 38.189998626708984, \"Volume\": 0, \"Dividends\": 0.0, \"Stock Splits\": 0, \"ticker\": \"0P00016N6T.TO\"}, {\"Date\": \"2021-10-15T00:00:00\", \"Open\": 38.560001373291016, \"High\": 38.560001373291016, \"Low\": 38.560001373291016, \"Close\": 38.560001373291016, \"Volume\": 0, \"Dividends\": 0.0, \"Stock Splits\": 0, \"ticker\": \"0P00016N6T.TO\"}, {\"Date\": \"2021-10-18T00:00:00\", \"Open\": 39.04999923706055, \"High\": 39.04999923706055, \"Low\": 39.04999923706055, \"Close\": 39.04999923706055, \"Volume\": 0, \"Dividends\": 0.0, \"Stock Splits\": 0, \"ticker\": \"0P00016N6T.TO\"}, {\"Date\": \"2021-10-19T00:00:00\", \"Open\": 39.33000183105469, \"High\": 39.33000183105469, \"Low\": 39.33000183105469, \"Close\": 39.33000183105469, \"Volume\": 0, \"Dividends\": 0.0, \"Stock Splits\": 0, \"ticker\": \"0P00016N6T.TO\"}, {\"Date\": \"2021-10-20T00:00:00\", \"Open\": 39.04999923706055, \"High\": 39.04999923706055, \"Low\": 39.04999923706055, \"Close\": 39.04999923706055, \"Volume\": 0, \"Dividends\": 0.0, \"Stock Splits\": 0, \"ticker\": \"0P00016N6T.TO\"}, {\"Date\": \"2021-10-21T00:00:00\", \"Open\": 39.779998779296875, \"High\": 39.779998779296875, \"Low\": 39.779998779296875, \"Close\": 39.779998779296875, \"Volume\": 0, \"Dividends\": 0.0, \"Stock Splits\": 0, \"ticker\": \"0P00016N6T.TO\"}, {\"Date\": \"2021-10-22T00:00:00\", \"Open\": 39.40999984741211, \"High\": 39.40999984741211, \"Low\": 39.40999984741211, \"Close\": 39.40999984741211, \"Volume\": 0, \"Dividends\": 0.0, \"Stock Splits\": 0, \"ticker\": \"0P00016N6T.TO\"}, {\"Date\": \"2021-10-25T00:00:00\", \"Open\": 39.779998779296875, \"High\": 39.779998779296875, \"Low\": 39.779998779296875, \"Close\": 39.779998779296875, \"Volume\": 0, \"Dividends\": 0.0, \"Stock Splits\": 0, \"ticker\": \"0P00016N6T.TO\"}, {\"Date\": \"2021-10-26T00:00:00\", \"Open\": 39.31999969482422, \"High\": 39.31999969482422, \"Low\": 39.31999969482422, \"Close\": 39.31999969482422, \"Volume\": 0, \"Dividends\": 0.0, \"Stock Splits\": 0, \"ticker\": \"0P00016N6T.TO\"}, {\"Date\": \"2021-10-27T00:00:00\", \"Open\": 38.72999954223633, \"High\": 38.72999954223633, \"Low\": 38.72999954223633, \"Close\": 38.72999954223633, \"Volume\": 0, \"Dividends\": 0.0, \"Stock Splits\": 0, \"ticker\": \"0P00016N6T.TO\"}, {\"Date\": \"2021-10-28T00:00:00\", \"Open\": 39.0, \"High\": 39.0, \"Low\": 39.0, \"Close\": 39.0, \"Volume\": 0, \"Dividends\": 0.0, \"Stock Splits\": 0, \"ticker\": \"0P00016N6T.TO\"}, {\"Date\": \"2021-10-29T00:00:00\", \"Open\": 39.36000061035156, \"High\": 39.36000061035156, \"Low\": 39.36000061035156, \"Close\": 39.36000061035156, \"Volume\": 0, \"Dividends\": 0.0, \"Stock Splits\": 0, \"ticker\": \"0P00016N6T.TO\"}, {\"Date\": \"2021-11-01T00:00:00\", \"Open\": 39.70000076293945, \"High\": 39.70000076293945, \"Low\": 39.70000076293945, \"Close\": 39.70000076293945, \"Volume\": 0, \"Dividends\": 0.0, \"Stock Splits\": 0, \"ticker\": \"0P00016N6T.TO\"}, {\"Date\": \"2021-11-02T00:00:00\", \"Open\": 39.4900016784668, \"High\": 39.4900016784668, \"Low\": 39.4900016784668, \"Close\": 39.4900016784668, \"Volume\": 0, \"Dividends\": 0.0, \"Stock Splits\": 0, \"ticker\": \"0P00016N6T.TO\"}, {\"Date\": \"2021-11-03T00:00:00\", \"Open\": 39.630001068115234, \"High\": 39.630001068115234, \"Low\": 39.630001068115234, \"Close\": 39.630001068115234, \"Volume\": 0, \"Dividends\": 0.0, \"Stock Splits\": 0, \"ticker\": \"0P00016N6T.TO\"}, {\"Date\": \"2021-11-04T00:00:00\", \"Open\": 40.40999984741211, \"High\": 40.40999984741211, \"Low\": 40.40999984741211, \"Close\": 40.40999984741211, \"Volume\": 0, \"Dividends\": 0.0, \"Stock Splits\": 0, \"ticker\": \"0P00016N6T.TO\"}, {\"Date\": \"2021-11-05T00:00:00\", \"Open\": 39.93000030517578, \"High\": 39.93000030517578, \"Low\": 39.93000030517578, \"Close\": 39.93000030517578, \"Volume\": 0, \"Dividends\": 0.0, \"Stock Splits\": 0, \"ticker\": \"0P00016N6T.TO\"}, {\"Date\": \"2021-11-08T00:00:00\", \"Open\": 39.7599983215332, \"High\": 39.7599983215332, \"Low\": 39.7599983215332, \"Close\": 39.7599983215332, \"Volume\": 0, \"Dividends\": 0.0, \"Stock Splits\": 0, \"ticker\": \"0P00016N6T.TO\"}, {\"Date\": \"2021-11-09T00:00:00\", \"Open\": 40.810001373291016, \"High\": 40.810001373291016, \"Low\": 40.810001373291016, \"Close\": 40.810001373291016, \"Volume\": 0, \"Dividends\": 0.0, \"Stock Splits\": 0, \"ticker\": \"0P00016N6T.TO\"}, {\"Date\": \"2021-11-10T00:00:00\", \"Open\": 39.869998931884766, \"High\": 39.869998931884766, \"Low\": 39.869998931884766, \"Close\": 39.869998931884766, \"Volume\": 0, \"Dividends\": 0.0, \"Stock Splits\": 0, \"ticker\": \"0P00016N6T.TO\"}, {\"Date\": \"2021-11-11T00:00:00\", \"Open\": 40.7400016784668, \"High\": 40.7400016784668, \"Low\": 40.7400016784668, \"Close\": 40.7400016784668, \"Volume\": 0, \"Dividends\": 0.0, \"Stock Splits\": 0, \"ticker\": \"0P00016N6T.TO\"}, {\"Date\": \"2021-11-12T00:00:00\", \"Open\": 41.7599983215332, \"High\": 41.7599983215332, \"Low\": 41.7599983215332, \"Close\": 41.7599983215332, \"Volume\": 0, \"Dividends\": 0.0, \"Stock Splits\": 0, \"ticker\": \"0P00016N6T.TO\"}, {\"Date\": \"2021-11-15T00:00:00\", \"Open\": 41.630001068115234, \"High\": 41.630001068115234, \"Low\": 41.630001068115234, \"Close\": 41.630001068115234, \"Volume\": 0, \"Dividends\": 0.0, \"Stock Splits\": 0, \"ticker\": \"0P00016N6T.TO\"}, {\"Date\": \"2021-11-16T00:00:00\", \"Open\": 42.540000915527344, \"High\": 42.540000915527344, \"Low\": 42.540000915527344, \"Close\": 42.540000915527344, \"Volume\": 0, \"Dividends\": 0.0, \"Stock Splits\": 0, \"ticker\": \"0P00016N6T.TO\"}, {\"Date\": \"2021-11-17T00:00:00\", \"Open\": 42.09000015258789, \"High\": 42.09000015258789, \"Low\": 42.09000015258789, \"Close\": 42.09000015258789, \"Volume\": 0, \"Dividends\": 0.0, \"Stock Splits\": 0, \"ticker\": \"0P00016N6T.TO\"}, {\"Date\": \"2021-11-18T00:00:00\", \"Open\": 41.72999954223633, \"High\": 41.72999954223633, \"Low\": 41.72999954223633, \"Close\": 41.72999954223633, \"Volume\": 0, \"Dividends\": 0.0, \"Stock Splits\": 0, \"ticker\": \"0P00016N6T.TO\"}, {\"Date\": \"2021-11-19T00:00:00\", \"Open\": 41.630001068115234, \"High\": 41.630001068115234, \"Low\": 41.630001068115234, \"Close\": 41.630001068115234, \"Volume\": 0, \"Dividends\": 0.0, \"Stock Splits\": 0, \"ticker\": \"0P00016N6T.TO\"}, {\"Date\": \"2021-08-24T00:00:00\", \"Open\": 48.242128642012055, \"High\": 48.537367353795624, \"Low\": 48.04530158276837, \"Close\": 48.39958953857422, \"Volume\": 3566900, \"Dividends\": 0.0, \"Stock Splits\": 0, \"ticker\": \"ENB.TO\"}, {\"Date\": \"2021-08-25T00:00:00\", \"Open\": 48.566890006112146, \"High\": 48.6849884939315, \"Low\": 48.21260580514579, \"Close\": 48.49800109863281, \"Volume\": 7889100, \"Dividends\": 0.0, \"Stock Splits\": 0, \"ticker\": \"ENB.TO\"}, {\"Date\": \"2021-08-26T00:00:00\", \"Open\": 48.41927249593931, \"High\": 48.7341942882573, \"Low\": 48.29133434463392, \"Close\": 48.59641647338867, \"Volume\": 3718300, \"Dividends\": 0.0, \"Stock Splits\": 0, \"ticker\": \"ENB.TO\"}, {\"Date\": \"2021-08-27T00:00:00\", \"Open\": 48.71450945441318, \"High\": 49.08848047714827, \"Low\": 48.6849867106217, \"Close\": 48.95070266723633, \"Volume\": 4035400, \"Dividends\": 0.0, \"Stock Splits\": 0, \"ticker\": \"ENB.TO\"}, {\"Date\": \"2021-08-30T00:00:00\", \"Open\": 48.99006728474057, \"High\": 49.13768851868639, \"Low\": 48.803083642017924, \"Close\": 49.00975036621094, \"Volume\": 3238400, \"Dividends\": 0.0, \"Stock Splits\": 0, \"ticker\": \"ENB.TO\"}, {\"Date\": \"2021-08-31T00:00:00\", \"Open\": 48.83260652675111, \"High\": 48.960544679592324, \"Low\": 48.29133492434217, \"Close\": 48.86213302612305, \"Volume\": 6466300, \"Dividends\": 0.0, \"Stock Splits\": 0, \"ticker\": \"ENB.TO\"}, {\"Date\": \"2021-09-01T00:00:00\", \"Open\": 48.684988170271936, \"High\": 49.12784435707674, \"Low\": 48.684988170271936, \"Close\": 49.039276123046875, \"Volume\": 3234700, \"Dividends\": 0.0, \"Stock Splits\": 0, \"ticker\": \"ENB.TO\"}, {\"Date\": \"2021-09-02T00:00:00\", \"Open\": 49.14752654442974, \"High\": 49.354197015899096, \"Low\": 48.911337082984474, \"Close\": 49.16720962524414, \"Volume\": 2714300, \"Dividends\": 0.0, \"Stock Splits\": 0, \"ticker\": \"ENB.TO\"}, {\"Date\": \"2021-09-03T00:00:00\", \"Open\": 49.21641382046473, \"High\": 49.35419538160313, \"Low\": 48.98022436684056, \"Close\": 49.324668884277344, \"Volume\": 4130100, \"Dividends\": 0.0, \"Stock Splits\": 0, \"ticker\": \"ENB.TO\"}, {\"Date\": \"2021-09-07T00:00:00\", \"Open\": 49.40340397399922, \"High\": 49.81673741809079, \"Low\": 49.38372089273335, \"Close\": 49.74784851074219, \"Volume\": 13842600, \"Dividends\": 0.0, \"Stock Splits\": 0, \"ticker\": \"ENB.TO\"}, {\"Date\": \"2021-09-08T00:00:00\", \"Open\": 49.79705308778437, \"High\": 50.5253120596993, \"Low\": 49.787213424480186, \"Close\": 50.46626281738281, \"Volume\": 8428400, \"Dividends\": 0.0, \"Stock Splits\": 0, \"ticker\": \"ENB.TO\"}, {\"Date\": \"2021-09-09T00:00:00\", \"Open\": 50.29896263679568, \"High\": 50.41705736814469, \"Low\": 49.7970534587757, \"Close\": 49.924991607666016, \"Volume\": 8220700, \"Dividends\": 0.0, \"Stock Splits\": 0, \"ticker\": \"ENB.TO\"}, {\"Date\": \"2021-09-10T00:00:00\", \"Open\": 50.0135614900516, \"High\": 50.043084233105525, \"Low\": 49.42308410399115, \"Close\": 49.66911697387695, \"Volume\": 6432200, \"Dividends\": 0.0, \"Stock Splits\": 0, \"ticker\": \"ENB.TO\"}, {\"Date\": \"2021-09-13T00:00:00\", \"Open\": 49.93483423948131, \"High\": 50.34816766978095, \"Low\": 49.89546807826313, \"Close\": 50.00372314453125, \"Volume\": 12608300, \"Dividends\": 0.0, \"Stock Splits\": 0, \"ticker\": \"ENB.TO\"}, {\"Date\": \"2021-09-14T00:00:00\", \"Open\": 50.06277034905916, \"High\": 50.27928048902045, \"Low\": 49.63959348686057, \"Close\": 49.69864273071289, \"Volume\": 3219300, \"Dividends\": 0.0, \"Stock Splits\": 0, \"ticker\": \"ENB.TO\"}, {\"Date\": \"2021-09-15T00:00:00\", \"Open\": 49.81673720327961, \"High\": 50.180868573882194, \"Low\": 49.76753137740906, \"Close\": 50.043087005615234, \"Volume\": 6107900, \"Dividends\": 0.0, \"Stock Splits\": 0, \"ticker\": \"ENB.TO\"}, {\"Date\": \"2021-09-16T00:00:00\", \"Open\": 50.033246645793504, \"High\": 50.20054720225782, \"Low\": 49.83641959088667, \"Close\": 50.023406982421875, \"Volume\": 2569200, \"Dividends\": 0.0, \"Stock Splits\": 0, \"ticker\": \"ENB.TO\"}, {\"Date\": \"2021-09-17T00:00:00\", \"Open\": 49.72816384268232, \"High\": 49.96435705617208, \"Low\": 49.59038603238153, \"Close\": 49.856101989746094, \"Volume\": 14676500, \"Dividends\": 0.0, \"Stock Splits\": 0, \"ticker\": \"ENB.TO\"}, {\"Date\": \"2021-09-20T00:00:00\", \"Open\": 49.29514638520907, \"High\": 49.60022849799495, \"Low\": 48.7243483201575, \"Close\": 48.980224609375, \"Volume\": 5851500, \"Dividends\": 0.0, \"Stock Splits\": 0, \"ticker\": \"ENB.TO\"}, {\"Date\": \"2021-09-21T00:00:00\", \"Open\": 49.16721016981687, \"High\": 49.81673682723115, \"Low\": 49.16721016981687, \"Close\": 49.48213195800781, \"Volume\": 5634500, \"Dividends\": 0.0, \"Stock Splits\": 0, \"ticker\": \"ENB.TO\"}, {\"Date\": \"2021-09-22T00:00:00\", \"Open\": 49.905306409117, \"High\": 49.915149826240636, \"Low\": 49.45260682968534, \"Close\": 49.61990737915039, \"Volume\": 2136600, \"Dividends\": 0.0, \"Stock Splits\": 0, \"ticker\": \"ENB.TO\"}, {\"Date\": \"2021-09-23T00:00:00\", \"Open\": 49.65927489326793, \"High\": 50.11197448504236, \"Low\": 49.52149708308995, \"Close\": 49.90530776977539, \"Volume\": 2277500, \"Dividends\": 0.0, \"Stock Splits\": 0, \"ticker\": \"ENB.TO\"}, {\"Date\": \"2021-09-24T00:00:00\", \"Open\": 49.895470421884355, \"High\": 50.16118639134229, \"Low\": 49.767532268997805, \"Close\": 49.91515350341797, \"Volume\": 2117500, \"Dividends\": 0.0, \"Stock Splits\": 0, \"ticker\": \"ENB.TO\"}, {\"Date\": \"2021-09-27T00:00:00\", \"Open\": 49.993881103056246, \"High\": 50.44658070703308, \"Low\": 49.924992196110374, \"Close\": 50.19070816040039, \"Volume\": 3293800, \"Dividends\": 0.0, \"Stock Splits\": 0, \"ticker\": \"ENB.TO\"}, {\"Date\": \"2021-09-28T00:00:00\", \"Open\": 50.37768981019335, \"High\": 50.407216307835206, \"Low\": 49.60022878334729, \"Close\": 49.738006591796875, \"Volume\": 3535600, \"Dividends\": 0.0, \"Stock Splits\": 0, \"ticker\": \"ENB.TO\"}, {\"Date\": \"2021-09-29T00:00:00\", \"Open\": 49.797051920769086, \"High\": 50.37768965036718, \"Low\": 49.560862465365894, \"Close\": 49.984039306640625, \"Volume\": 4275600, \"Dividends\": 0.0, \"Stock Splits\": 0, \"ticker\": \"ENB.TO\"}, {\"Date\": \"2021-09-30T00:00:00\", \"Open\": 50.09229532165927, \"High\": 50.21039005160146, \"Low\": 49.57070306893406, \"Close\": 49.65927505493164, \"Volume\": 4354400, \"Dividends\": 0.0, \"Stock Splits\": 0, \"ticker\": \"ENB.TO\"}, {\"Date\": \"2021-10-01T00:00:00\", \"Open\": 49.7380088471912, \"High\": 49.865943244173515, \"Low\": 49.423087055265086, \"Close\": 49.74784851074219, \"Volume\": 2615900, \"Dividends\": 0.0, \"Stock Splits\": 0, \"ticker\": \"ENB.TO\"}, {\"Date\": \"2021-10-04T00:00:00\", \"Open\": 49.80689753977104, \"High\": 50.50563002795892, \"Low\": 49.718325551538506, \"Close\": 50.043087005615234, \"Volume\": 4448100, \"Dividends\": 0.0, \"Stock Splits\": 0, \"ticker\": \"ENB.TO\"}, {\"Date\": \"2021-10-05T00:00:00\", \"Open\": 50.2595973611631, \"High\": 50.31864660496071, \"Low\": 49.62975377731087, \"Close\": 49.74784851074219, \"Volume\": 5459600, \"Dividends\": 0.0, \"Stock Splits\": 0, \"ticker\": \"ENB.TO\"}, {\"Date\": \"2021-10-06T00:00:00\", \"Open\": 49.551019623501965, \"High\": 50.279278586806186, \"Low\": 49.33451324589564, \"Close\": 50.20054626464844, \"Volume\": 3688200, \"Dividends\": 0.0, \"Stock Splits\": 0, \"ticker\": \"ENB.TO\"}, {\"Date\": \"2021-10-07T00:00:00\", \"Open\": 50.32848585190603, \"High\": 50.67293413996164, \"Low\": 50.28911968970015, \"Close\": 50.387535095214844, \"Volume\": 3087600, \"Dividends\": 0.0, \"Stock Splits\": 0, \"ticker\": \"ENB.TO\"}, {\"Date\": \"2021-10-08T00:00:00\", \"Open\": 50.46626112073499, \"High\": 50.89928137483714, \"Low\": 50.22022825060011, \"Close\": 50.77134323120117, \"Volume\": 5281700, \"Dividends\": 0.0, \"Stock Splits\": 0, \"ticker\": \"ENB.TO\"}, {\"Date\": \"2021-10-12T00:00:00\", \"Open\": 50.82055098260893, \"High\": 51.50944379595704, \"Low\": 50.66309008991483, \"Close\": 51.273250579833984, \"Volume\": 12460000, \"Dividends\": 0.0, \"Stock Splits\": 0, \"ticker\": \"ENB.TO\"}, {\"Date\": \"2021-10-13T00:00:00\", \"Open\": 51.27325116918712, \"High\": 51.54881055019203, \"Low\": 50.98785587888625, \"Close\": 51.53896713256836, \"Volume\": 6846300, \"Dividends\": 0.0, \"Stock Splits\": 0, \"ticker\": \"ENB.TO\"}, {\"Date\": \"2021-10-14T00:00:00\", \"Open\": 51.66690357664797, \"High\": 51.942459194391034, \"Low\": 51.460236863340675, \"Close\": 51.84404754638672, \"Volume\": 3506100, \"Dividends\": 0.0, \"Stock Splits\": 0, \"ticker\": \"ENB.TO\"}, {\"Date\": \"2021-10-15T00:00:00\", \"Open\": 52.03103269848464, \"High\": 52.080238523923526, \"Low\": 51.814526315720755, \"Close\": 51.88341522216797, \"Volume\": 6053600, \"Dividends\": 0.0, \"Stock Splits\": 0, \"ticker\": \"ENB.TO\"}, {\"Date\": \"2021-10-18T00:00:00\", \"Open\": 51.99166939785867, \"High\": 52.27706468216911, \"Low\": 51.814525425989416, \"Close\": 52.011348724365234, \"Volume\": 5075600, \"Dividends\": 0.0, \"Stock Splits\": 0, \"ticker\": \"ENB.TO\"}, {\"Date\": \"2021-10-19T00:00:00\", \"Open\": 52.099922103069, \"High\": 52.38532114917268, \"Low\": 52.0211935324468, \"Close\": 52.24754333496094, \"Volume\": 10033200, \"Dividends\": 0.0, \"Stock Splits\": 0, \"ticker\": \"ENB.TO\"}, {\"Date\": \"2021-10-20T00:00:00\", \"Open\": 52.25738141097198, \"High\": 52.385319557780825, \"Low\": 51.9523030471035, \"Close\": 52.355796813964844, \"Volume\": 4546900, \"Dividends\": 0.0, \"Stock Splits\": 0, \"ticker\": \"ENB.TO\"}, {\"Date\": \"2021-10-21T00:00:00\", \"Open\": 52.168810541889286, \"High\": 52.25738252939662, \"Low\": 51.74563743953628, \"Close\": 51.78499984741211, \"Volume\": 3574300, \"Dividends\": 0.0, \"Stock Splits\": 0, \"ticker\": \"ENB.TO\"}, {\"Date\": \"2021-10-22T00:00:00\", \"Open\": 51.86373346674602, \"High\": 52.12944943590407, \"Low\": 51.735795314003866, \"Close\": 52.119606018066406, \"Volume\": 4405900, \"Dividends\": 0.0, \"Stock Splits\": 0, \"ticker\": \"ENB.TO\"}, {\"Date\": \"2021-10-25T00:00:00\", \"Open\": 52.158968449870436, \"High\": 52.208174273047014, \"Low\": 51.6373799667041, \"Close\": 52.02119064331055, \"Volume\": 5029900, \"Dividends\": 0.0, \"Stock Splits\": 0, \"ticker\": \"ENB.TO\"}, {\"Date\": \"2021-10-26T00:00:00\", \"Open\": 52.060558392505726, \"High\": 52.31643093333186, \"Low\": 51.883414420332336, \"Close\": 51.91293716430664, \"Volume\": 4601800, \"Dividends\": 0.0, \"Stock Splits\": 0, \"ticker\": \"ENB.TO\"}, {\"Date\": \"2021-10-27T00:00:00\", \"Open\": 51.86373099341983, \"High\": 52.040874964410726, \"Low\": 51.28309325609718, \"Close\": 51.30277633666992, \"Volume\": 3613900, \"Dividends\": 0.0, \"Stock Splits\": 0, \"ticker\": \"ENB.TO\"}, {\"Date\": \"2021-10-28T00:00:00\", \"Open\": 51.30277629239172, \"High\": 51.41103135836647, \"Low\": 50.8205502041852, \"Close\": 51.35198211669922, \"Volume\": 3443400, \"Dividends\": 0.0, \"Stock Splits\": 0, \"ticker\": \"ENB.TO\"}, {\"Date\": \"2021-10-29T00:00:00\", \"Open\": 51.35198463829292, \"High\": 51.411033882859726, \"Low\": 50.89928502577249, \"Close\": 51.01737976074219, \"Volume\": 6813600, \"Dividends\": 0.0, \"Stock Splits\": 0, \"ticker\": \"ENB.TO\"}, {\"Date\": \"2021-11-01T00:00:00\", \"Open\": 51.233887227806136, \"High\": 51.64722065569707, \"Low\": 51.02721675969693, \"Close\": 51.59801483154297, \"Volume\": 3730700, \"Dividends\": 0.0, \"Stock Splits\": 0, \"ticker\": \"ENB.TO\"}, {\"Date\": \"2021-11-02T00:00:00\", \"Open\": 51.578334191242845, \"High\": 51.617700354094055, \"Low\": 51.292935141817466, \"Close\": 51.411033630371094, \"Volume\": 7803200, \"Dividends\": 0.0, \"Stock Splits\": 0, \"ticker\": \"ENB.TO\"}, {\"Date\": \"2021-11-03T00:00:00\", \"Open\": 51.35198207246341, \"High\": 51.529126043148814, \"Low\": 51.273249750308224, \"Close\": 51.401187896728516, \"Volume\": 3734200, \"Dividends\": 0.0, \"Stock Splits\": 0, \"ticker\": \"ENB.TO\"}, {\"Date\": \"2021-11-04T00:00:00\", \"Open\": 51.91293821079906, \"High\": 52.04087636087307, \"Low\": 51.2043623078216, \"Close\": 51.48976135253906, \"Volume\": 29747800, \"Dividends\": 0.0, \"Stock Splits\": 0, \"ticker\": \"ENB.TO\"}, {\"Date\": \"2021-11-05T00:00:00\", \"Open\": 51.91293571392717, \"High\": 53.14310006733776, \"Low\": 51.844046810469266, \"Close\": 53.02500534057617, \"Volume\": 19870300, \"Dividends\": 0.0, \"Stock Splits\": 0, \"ticker\": \"ENB.TO\"}, {\"Date\": \"2021-11-08T00:00:00\", \"Open\": 53.064370808430816, \"High\": 53.10373697101059, \"Low\": 51.79484397562627, \"Close\": 51.85388946533203, \"Volume\": 49622700, \"Dividends\": 0.0, \"Stock Splits\": 0, \"ticker\": \"ENB.TO\"}, {\"Date\": \"2021-11-09T00:00:00\", \"Open\": 51.912937996959116, \"High\": 52.31643177245613, \"Low\": 51.74563743953628, \"Close\": 51.78499984741211, \"Volume\": 29576500, \"Dividends\": 0.0, \"Stock Splits\": 0, \"ticker\": \"ENB.TO\"}, {\"Date\": \"2021-11-10T00:00:00\", \"Open\": 51.95230488621503, \"High\": 51.991671048805735, \"Low\": 51.578333849931084, \"Close\": 51.903099060058594, \"Volume\": 8453600, \"Dividends\": 0.0, \"Stock Splits\": 0, \"ticker\": \"ENB.TO\"}, {\"Date\": \"2021-11-11T00:00:00\", \"Open\": 52.15897087846129, \"High\": 52.15897087846129, \"Low\": 51.765316766392274, \"Close\": 51.78499984741211, \"Volume\": 4001700, \"Dividends\": 0.0, \"Stock Splits\": 0, \"ticker\": \"ENB.TO\"}, {\"Date\": \"2021-11-12T00:00:00\", \"Open\": 51.880001068115234, \"High\": 51.88999938964844, \"Low\": 50.630001068115234, \"Close\": 50.70000076293945, \"Volume\": 28965500, \"Dividends\": 0.835, \"Stock Splits\": 0, \"ticker\": \"ENB.TO\"}, {\"Date\": \"2021-11-15T00:00:00\", \"Open\": 50.84000015258789, \"High\": 50.97999954223633, \"Low\": 50.33000183105469, \"Close\": 50.59000015258789, \"Volume\": 30754500, \"Dividends\": 0.0, \"Stock Splits\": 0, \"ticker\": \"ENB.TO\"}, {\"Date\": \"2021-11-16T00:00:00\", \"Open\": 50.65999984741211, \"High\": 50.97999954223633, \"Low\": 50.56999969482422, \"Close\": 50.65999984741211, \"Volume\": 14943300, \"Dividends\": 0.0, \"Stock Splits\": 0, \"ticker\": \"ENB.TO\"}, {\"Date\": \"2021-11-17T00:00:00\", \"Open\": 50.75, \"High\": 51.31999969482422, \"Low\": 50.54999923706055, \"Close\": 50.70000076293945, \"Volume\": 13496600, \"Dividends\": 0.0, \"Stock Splits\": 0, \"ticker\": \"ENB.TO\"}, {\"Date\": \"2021-11-18T00:00:00\", \"Open\": 50.689998626708984, \"High\": 50.7599983215332, \"Low\": 50.400001525878906, \"Close\": 50.470001220703125, \"Volume\": 4628500, \"Dividends\": 0.0, \"Stock Splits\": 0, \"ticker\": \"ENB.TO\"}, {\"Date\": \"2021-11-19T00:00:00\", \"Open\": 50.209999084472656, \"High\": 50.33000183105469, \"Low\": 49.65999984741211, \"Close\": 50.27000045776367, \"Volume\": 7003500, \"Dividends\": 0.0, \"Stock Splits\": 0, \"ticker\": \"ENB.TO\"}, {\"Date\": \"2021-08-24T00:00:00\", \"Open\": 16.950000762939453, \"High\": 17.020000457763672, \"Low\": 16.579999923706055, \"Close\": 16.709999084472656, \"Volume\": 170200, \"Dividends\": 0.0, \"Stock Splits\": 0, \"ticker\": \"HGU.TO\"}, {\"Date\": \"2021-08-25T00:00:00\", \"Open\": 16.579999923706055, \"High\": 16.579999923706055, \"Low\": 16.020000457763672, \"Close\": 16.170000076293945, \"Volume\": 340400, \"Dividends\": 0.0, \"Stock Splits\": 0, \"ticker\": \"HGU.TO\"}, {\"Date\": \"2021-08-26T00:00:00\", \"Open\": 16.170000076293945, \"High\": 16.440000534057617, \"Low\": 15.979999542236328, \"Close\": 16.200000762939453, \"Volume\": 252800, \"Dividends\": 0.0, \"Stock Splits\": 0, \"ticker\": \"HGU.TO\"}, {\"Date\": \"2021-08-27T00:00:00\", \"Open\": 16.219999313354492, \"High\": 17.239999771118164, \"Low\": 16.100000381469727, \"Close\": 17.1299991607666, \"Volume\": 477200, \"Dividends\": 0.0, \"Stock Splits\": 0, \"ticker\": \"HGU.TO\"}, {\"Date\": \"2021-08-30T00:00:00\", \"Open\": 17.110000610351562, \"High\": 17.219999313354492, \"Low\": 16.540000915527344, \"Close\": 16.610000610351562, \"Volume\": 244200, \"Dividends\": 0.0, \"Stock Splits\": 0, \"ticker\": \"HGU.TO\"}, {\"Date\": \"2021-08-31T00:00:00\", \"Open\": 16.5, \"High\": 17.170000076293945, \"Low\": 16.5, \"Close\": 17.110000610351562, \"Volume\": 275600, \"Dividends\": 0.0, \"Stock Splits\": 0, \"ticker\": \"HGU.TO\"}, {\"Date\": \"2021-09-01T00:00:00\", \"Open\": 17.299999237060547, \"High\": 17.350000381469727, \"Low\": 16.780000686645508, \"Close\": 16.799999237060547, \"Volume\": 203700, \"Dividends\": 0.0, \"Stock Splits\": 0, \"ticker\": \"HGU.TO\"}, {\"Date\": \"2021-09-02T00:00:00\", \"Open\": 16.799999237060547, \"High\": 16.81999969482422, \"Low\": 16.459999084472656, \"Close\": 16.770000457763672, \"Volume\": 374000, \"Dividends\": 0.0, \"Stock Splits\": 0, \"ticker\": \"HGU.TO\"}, {\"Date\": \"2021-09-03T00:00:00\", \"Open\": 17.059999465942383, \"High\": 17.829999923706055, \"Low\": 17.059999465942383, \"Close\": 17.610000610351562, \"Volume\": 330400, \"Dividends\": 0.0, \"Stock Splits\": 0, \"ticker\": \"HGU.TO\"}, {\"Date\": \"2021-09-07T00:00:00\", \"Open\": 17.399999618530273, \"High\": 17.579999923706055, \"Low\": 16.81999969482422, \"Close\": 17.010000228881836, \"Volume\": 365200, \"Dividends\": 0.0, \"Stock Splits\": 0, \"ticker\": \"HGU.TO\"}, {\"Date\": \"2021-09-08T00:00:00\", \"Open\": 17.049999237060547, \"High\": 17.420000076293945, \"Low\": 16.729999542236328, \"Close\": 17.1200008392334, \"Volume\": 300100, \"Dividends\": 0.0, \"Stock Splits\": 0, \"ticker\": \"HGU.TO\"}, {\"Date\": \"2021-09-09T00:00:00\", \"Open\": 17.200000762939453, \"High\": 17.200000762939453, \"Low\": 16.450000762939453, \"Close\": 16.65999984741211, \"Volume\": 359800, \"Dividends\": 0.0, \"Stock Splits\": 0, \"ticker\": \"HGU.TO\"}, {\"Date\": \"2021-09-10T00:00:00\", \"Open\": 16.600000381469727, \"High\": 16.600000381469727, \"Low\": 16.139999389648438, \"Close\": 16.149999618530273, \"Volume\": 264400, \"Dividends\": 0.0, \"Stock Splits\": 0, \"ticker\": \"HGU.TO\"}, {\"Date\": \"2021-09-13T00:00:00\", \"Open\": 16.239999771118164, \"High\": 16.760000228881836, \"Low\": 15.979999542236328, \"Close\": 16.479999542236328, \"Volume\": 267900, \"Dividends\": 0.0, \"Stock Splits\": 0, \"ticker\": \"HGU.TO\"}, {\"Date\": \"2021-09-14T00:00:00\", \"Open\": 16.510000228881836, \"High\": 17.200000762939453, \"Low\": 16.420000076293945, \"Close\": 16.760000228881836, \"Volume\": 366100, \"Dividends\": 0.0, \"Stock Splits\": 0, \"ticker\": \"HGU.TO\"}, {\"Date\": \"2021-09-15T00:00:00\", \"Open\": 16.520000457763672, \"High\": 16.969999313354492, \"Low\": 16.510000228881836, \"Close\": 16.68000030517578, \"Volume\": 187100, \"Dividends\": 0.0, \"Stock Splits\": 0, \"ticker\": \"HGU.TO\"}, {\"Date\": \"2021-09-16T00:00:00\", \"Open\": 16.170000076293945, \"High\": 16.170000076293945, \"Low\": 15.140000343322754, \"Close\": 15.399999618530273, \"Volume\": 790500, \"Dividends\": 0.0, \"Stock Splits\": 0, \"ticker\": \"HGU.TO\"}, {\"Date\": \"2021-09-17T00:00:00\", \"Open\": 15.199999809265137, \"High\": 15.319999694824219, \"Low\": 14.880000114440918, \"Close\": 15.1899995803833, \"Volume\": 516200, \"Dividends\": 0.0, \"Stock Splits\": 0, \"ticker\": \"HGU.TO\"}, {\"Date\": \"2021-09-20T00:00:00\", \"Open\": 15.1899995803833, \"High\": 15.489999771118164, \"Low\": 14.899999618530273, \"Close\": 15.420000076293945, \"Volume\": 413000, \"Dividends\": 0.0, \"Stock Splits\": 0, \"ticker\": \"HGU.TO\"}, {\"Date\": \"2021-09-21T00:00:00\", \"Open\": 15.489999771118164, \"High\": 16.020000457763672, \"Low\": 15.399999618530273, \"Close\": 15.460000038146973, \"Volume\": 664400, \"Dividends\": 0.0, \"Stock Splits\": 0, \"ticker\": \"HGU.TO\"}, {\"Date\": \"2021-09-22T00:00:00\", \"Open\": 15.520000457763672, \"High\": 15.890000343322754, \"Low\": 15.130000114440918, \"Close\": 15.149999618530273, \"Volume\": 800800, \"Dividends\": 0.0, \"Stock Splits\": 0, \"ticker\": \"HGU.TO\"}, {\"Date\": \"2021-09-23T00:00:00\", \"Open\": 14.899999618530273, \"High\": 14.899999618530273, \"Low\": 14.25, \"Close\": 14.260000228881836, \"Volume\": 531800, \"Dividends\": 0.0, \"Stock Splits\": 0, \"ticker\": \"HGU.TO\"}, {\"Date\": \"2021-09-24T00:00:00\", \"Open\": 14.220000267028809, \"High\": 14.510000228881836, \"Low\": 14.020000457763672, \"Close\": 14.079999923706055, \"Volume\": 297600, \"Dividends\": 0.0, \"Stock Splits\": 0, \"ticker\": \"HGU.TO\"}, {\"Date\": \"2021-09-27T00:00:00\", \"Open\": 14.109999656677246, \"High\": 14.630000114440918, \"Low\": 13.970000267028809, \"Close\": 13.989999771118164, \"Volume\": 385400, \"Dividends\": 0.0, \"Stock Splits\": 0, \"ticker\": \"HGU.TO\"}, {\"Date\": \"2021-09-28T00:00:00\", \"Open\": 13.5, \"High\": 14.020000457763672, \"Low\": 13.279999732971191, \"Close\": 13.869999885559082, \"Volume\": 503300, \"Dividends\": 0.0, \"Stock Splits\": 0, \"ticker\": \"HGU.TO\"}, {\"Date\": \"2021-09-29T00:00:00\", \"Open\": 13.880000114440918, \"High\": 13.899999618530273, \"Low\": 13.550000190734863, \"Close\": 13.600000381469727, \"Volume\": 388600, \"Dividends\": 0.0, \"Stock Splits\": 0, \"ticker\": \"HGU.TO\"}, {\"Date\": \"2021-09-30T00:00:00\", \"Open\": 14.050000190734863, \"High\": 14.220000267028809, \"Low\": 13.640000343322754, \"Close\": 13.880000114440918, \"Volume\": 424900, \"Dividends\": 0.0, \"Stock Splits\": 0, \"ticker\": \"HGU.TO\"}, {\"Date\": \"2021-10-01T00:00:00\", \"Open\": 14.050000190734863, \"High\": 14.050000190734863, \"Low\": 13.390000343322754, \"Close\": 13.550000190734863, \"Volume\": 452700, \"Dividends\": 0.0, \"Stock Splits\": 0, \"ticker\": \"HGU.TO\"}, {\"Date\": \"2021-10-04T00:00:00\", \"Open\": 13.279999732971191, \"High\": 13.989999771118164, \"Low\": 13.279999732971191, \"Close\": 13.819999694824219, \"Volume\": 333400, \"Dividends\": 0.0, \"Stock Splits\": 0, \"ticker\": \"HGU.TO\"}, {\"Date\": \"2021-10-05T00:00:00\", \"Open\": 13.779999732971191, \"High\": 13.949999809265137, \"Low\": 13.220000267028809, \"Close\": 13.899999618530273, \"Volume\": 412400, \"Dividends\": 0.0, \"Stock Splits\": 0, \"ticker\": \"HGU.TO\"}, {\"Date\": \"2021-10-06T00:00:00\", \"Open\": 13.899999618530273, \"High\": 14.5, \"Low\": 13.779999732971191, \"Close\": 14.5, \"Volume\": 363700, \"Dividends\": 0.0, \"Stock Splits\": 0, \"ticker\": \"HGU.TO\"}, {\"Date\": \"2021-10-07T00:00:00\", \"Open\": 14.140000343322754, \"High\": 14.800000190734863, \"Low\": 14.140000343322754, \"Close\": 14.529999732971191, \"Volume\": 329300, \"Dividends\": 0.0, \"Stock Splits\": 0, \"ticker\": \"HGU.TO\"}, {\"Date\": \"2021-10-08T00:00:00\", \"Open\": 14.989999771118164, \"High\": 15.25, \"Low\": 14.460000038146973, \"Close\": 14.539999961853027, \"Volume\": 402100, \"Dividends\": 0.0, \"Stock Splits\": 0, \"ticker\": \"HGU.TO\"}, {\"Date\": \"2021-10-12T00:00:00\", \"Open\": 14.470000267028809, \"High\": 14.890000343322754, \"Low\": 14.239999771118164, \"Close\": 14.8100004196167, \"Volume\": 313900, \"Dividends\": 0.0, \"Stock Splits\": 0, \"ticker\": \"HGU.TO\"}, {\"Date\": \"2021-10-13T00:00:00\", \"Open\": 15.100000381469727, \"High\": 15.90999984741211, \"Low\": 15.039999961853027, \"Close\": 15.75, \"Volume\": 468300, \"Dividends\": 0.0, \"Stock Splits\": 0, \"ticker\": \"HGU.TO\"}, {\"Date\": \"2021-10-14T00:00:00\", \"Open\": 16.139999389648438, \"High\": 16.280000686645508, \"Low\": 15.8100004196167, \"Close\": 16.200000762939453, \"Volume\": 318900, \"Dividends\": 0.0, \"Stock Splits\": 0, \"ticker\": \"HGU.TO\"}, {\"Date\": \"2021-10-15T00:00:00\", \"Open\": 15.579999923706055, \"High\": 16.110000610351562, \"Low\": 15.289999961853027, \"Close\": 15.930000305175781, \"Volume\": 343100, \"Dividends\": 0.0, \"Stock Splits\": 0, \"ticker\": \"HGU.TO\"}, {\"Date\": \"2021-10-18T00:00:00\", \"Open\": 15.930000305175781, \"High\": 15.979999542236328, \"Low\": 15.510000228881836, \"Close\": 15.84000015258789, \"Volume\": 186900, \"Dividends\": 0.0, \"Stock Splits\": 0, \"ticker\": \"HGU.TO\"}, {\"Date\": \"2021-10-19T00:00:00\", \"Open\": 16.239999771118164, \"High\": 16.299999237060547, \"Low\": 15.65999984741211, \"Close\": 15.9399995803833, \"Volume\": 316700, \"Dividends\": 0.0, \"Stock Splits\": 0, \"ticker\": \"HGU.TO\"}, {\"Date\": \"2021-10-20T00:00:00\", \"Open\": 16.149999618530273, \"High\": 16.299999237060547, \"Low\": 15.899999618530273, \"Close\": 16.049999237060547, \"Volume\": 208100, \"Dividends\": 0.0, \"Stock Splits\": 0, \"ticker\": \"HGU.TO\"}, {\"Date\": \"2021-10-21T00:00:00\", \"Open\": 15.949999809265137, \"High\": 16.25, \"Low\": 15.710000038146973, \"Close\": 16.239999771118164, \"Volume\": 331000, \"Dividends\": 0.0, \"Stock Splits\": 0, \"ticker\": \"HGU.TO\"}, {\"Date\": \"2021-10-22T00:00:00\", \"Open\": 16.549999237060547, \"High\": 17.18000030517578, \"Low\": 16.280000686645508, \"Close\": 16.3700008392334, \"Volume\": 355100, \"Dividends\": 0.0, \"Stock Splits\": 0, \"ticker\": \"HGU.TO\"}, {\"Date\": \"2021-10-25T00:00:00\", \"Open\": 16.860000610351562, \"High\": 17.0, \"Low\": 16.56999969482422, \"Close\": 16.809999465942383, \"Volume\": 226500, \"Dividends\": 0.0, \"Stock Splits\": 0, \"ticker\": \"HGU.TO\"}, {\"Date\": \"2021-10-26T00:00:00\", \"Open\": 16.450000762939453, \"High\": 16.719999313354492, \"Low\": 16.360000610351562, \"Close\": 16.6299991607666, \"Volume\": 401800, \"Dividends\": 0.0, \"Stock Splits\": 0, \"ticker\": \"HGU.TO\"}, {\"Date\": \"2021-10-27T00:00:00\", \"Open\": 16.43000030517578, \"High\": 16.920000076293945, \"Low\": 16.260000228881836, \"Close\": 16.459999084472656, \"Volume\": 410700, \"Dividends\": 0.0, \"Stock Splits\": 0, \"ticker\": \"HGU.TO\"}, {\"Date\": \"2021-10-28T00:00:00\", \"Open\": 16.459999084472656, \"High\": 16.5, \"Low\": 15.90999984741211, \"Close\": 16.0, \"Volume\": 431900, \"Dividends\": 0.0, \"Stock Splits\": 0, \"ticker\": \"HGU.TO\"}, {\"Date\": \"2021-10-29T00:00:00\", \"Open\": 15.5, \"High\": 15.630000114440918, \"Low\": 15.100000381469727, \"Close\": 15.109999656677246, \"Volume\": 334200, \"Dividends\": 0.0, \"Stock Splits\": 0, \"ticker\": \"HGU.TO\"}, {\"Date\": \"2021-11-01T00:00:00\", \"Open\": 15.119999885559082, \"High\": 15.350000381469727, \"Low\": 14.859999656677246, \"Close\": 15.100000381469727, \"Volume\": 242200, \"Dividends\": 0.0, \"Stock Splits\": 0, \"ticker\": \"HGU.TO\"}, {\"Date\": \"2021-11-02T00:00:00\", \"Open\": 15.079999923706055, \"High\": 15.079999923706055, \"Low\": 14.739999771118164, \"Close\": 14.989999771118164, \"Volume\": 258100, \"Dividends\": 0.0, \"Stock Splits\": 0, \"ticker\": \"HGU.TO\"}, {\"Date\": \"2021-11-03T00:00:00\", \"Open\": 14.520000457763672, \"High\": 15.470000267028809, \"Low\": 14.520000457763672, \"Close\": 15.369999885559082, \"Volume\": 431300, \"Dividends\": 0.0, \"Stock Splits\": 0, \"ticker\": \"HGU.TO\"}, {\"Date\": \"2021-11-04T00:00:00\", \"Open\": 15.5, \"High\": 16.270000457763672, \"Low\": 15.390000343322754, \"Close\": 15.420000076293945, \"Volume\": 354300, \"Dividends\": 0.0, \"Stock Splits\": 0, \"ticker\": \"HGU.TO\"}, {\"Date\": \"2021-11-05T00:00:00\", \"Open\": 15.600000381469727, \"High\": 16.270000457763672, \"Low\": 15.399999618530273, \"Close\": 16.270000457763672, \"Volume\": 388200, \"Dividends\": 0.0, \"Stock Splits\": 0, \"ticker\": \"HGU.TO\"}, {\"Date\": \"2021-11-08T00:00:00\", \"Open\": 16.639999389648438, \"High\": 16.649999618530273, \"Low\": 16.100000381469727, \"Close\": 16.31999969482422, \"Volume\": 481200, \"Dividends\": 0.0, \"Stock Splits\": 0, \"ticker\": \"HGU.TO\"}, {\"Date\": \"2021-11-09T00:00:00\", \"Open\": 16.450000762939453, \"High\": 16.989999771118164, \"Low\": 16.299999237060547, \"Close\": 16.969999313354492, \"Volume\": 615600, \"Dividends\": 0.0, \"Stock Splits\": 0, \"ticker\": \"HGU.TO\"}, {\"Date\": \"2021-11-10T00:00:00\", \"Open\": 17.3700008392334, \"High\": 18.110000610351562, \"Low\": 17.3700008392334, \"Close\": 17.899999618530273, \"Volume\": 483600, \"Dividends\": 0.0, \"Stock Splits\": 0, \"ticker\": \"HGU.TO\"}, {\"Date\": \"2021-11-11T00:00:00\", \"Open\": 18.450000762939453, \"High\": 18.899999618530273, \"Low\": 18.270000457763672, \"Close\": 18.84000015258789, \"Volume\": 388900, \"Dividends\": 0.0, \"Stock Splits\": 0, \"ticker\": \"HGU.TO\"}, {\"Date\": \"2021-11-12T00:00:00\", \"Open\": 18.559999465942383, \"High\": 19.329999923706055, \"Low\": 18.559999465942383, \"Close\": 19.0, \"Volume\": 407700, \"Dividends\": 0.0, \"Stock Splits\": 0, \"ticker\": \"HGU.TO\"}, {\"Date\": \"2021-11-15T00:00:00\", \"Open\": 18.979999542236328, \"High\": 19.09000015258789, \"Low\": 18.579999923706055, \"Close\": 18.979999542236328, \"Volume\": 233400, \"Dividends\": 0.0, \"Stock Splits\": 0, \"ticker\": \"HGU.TO\"}, {\"Date\": \"2021-11-16T00:00:00\", \"Open\": 19.079999923706055, \"High\": 19.3700008392334, \"Low\": 18.59000015258789, \"Close\": 18.639999389648438, \"Volume\": 215600, \"Dividends\": 0.0, \"Stock Splits\": 0, \"ticker\": \"HGU.TO\"}, {\"Date\": \"2021-11-17T00:00:00\", \"Open\": 18.81999969482422, \"High\": 19.469999313354492, \"Low\": 18.81999969482422, \"Close\": 19.209999084472656, \"Volume\": 200700, \"Dividends\": 0.0, \"Stock Splits\": 0, \"ticker\": \"HGU.TO\"}, {\"Date\": \"2021-11-18T00:00:00\", \"Open\": 19.200000762939453, \"High\": 19.200000762939453, \"Low\": 18.520000457763672, \"Close\": 18.610000610351562, \"Volume\": 217400, \"Dividends\": 0.0, \"Stock Splits\": 0, \"ticker\": \"HGU.TO\"}, {\"Date\": \"2021-11-19T00:00:00\", \"Open\": 18.5, \"High\": 18.790000915527344, \"Low\": 18.030000686645508, \"Close\": 18.079999923706055, \"Volume\": 185600, \"Dividends\": 0.0, \"Stock Splits\": 0, \"ticker\": \"HGU.TO\"}, {\"Date\": \"2021-08-24T00:00:00\", \"Open\": 11.539999961853027, \"High\": 11.539999961853027, \"Low\": 11.539999961853027, \"Close\": 11.539999961853027, \"Volume\": 2500, \"Dividends\": 0.0, \"Stock Splits\": 0, \"ticker\": \"HUZ.TO\"}, {\"Date\": \"2021-08-25T00:00:00\", \"Open\": 11.5, \"High\": 11.520000457763672, \"Low\": 11.5, \"Close\": 11.520000457763672, \"Volume\": 800, \"Dividends\": 0.0, \"Stock Splits\": 0, \"ticker\": \"HUZ.TO\"}, {\"Date\": \"2021-08-26T00:00:00\", \"Open\": 11.420000076293945, \"High\": 11.420000076293945, \"Low\": 11.350000381469727, \"Close\": 11.369999885559082, \"Volume\": 3300, \"Dividends\": 0.0, \"Stock Splits\": 0, \"ticker\": \"HUZ.TO\"}, {\"Date\": \"2021-08-27T00:00:00\", \"Open\": 11.3100004196167, \"High\": 11.619999885559082, \"Low\": 11.260000228881836, \"Close\": 11.619999885559082, \"Volume\": 14500, \"Dividends\": 0.0, \"Stock Splits\": 0, \"ticker\": \"HUZ.TO\"}, {\"Date\": \"2021-08-30T00:00:00\", \"Open\": 11.640000343322754, \"High\": 11.640000343322754, \"Low\": 11.609999656677246, \"Close\": 11.609999656677246, \"Volume\": 600, \"Dividends\": 0.0, \"Stock Splits\": 0, \"ticker\": \"HUZ.TO\"}, {\"Date\": \"2021-08-31T00:00:00\", \"Open\": 11.600000381469727, \"High\": 11.600000381469727, \"Low\": 11.470000267028809, \"Close\": 11.5, \"Volume\": 7700, \"Dividends\": 0.0, \"Stock Splits\": 0, \"ticker\": \"HUZ.TO\"}, {\"Date\": \"2021-09-01T00:00:00\", \"Open\": 11.670000076293945, \"High\": 11.670000076293945, \"Low\": 11.65999984741211, \"Close\": 11.65999984741211, \"Volume\": 600, \"Dividends\": 0.0, \"Stock Splits\": 0, \"ticker\": \"HUZ.TO\"}, {\"Date\": \"2021-09-02T00:00:00\", \"Open\": 11.520000457763672, \"High\": 11.520000457763672, \"Low\": 11.520000457763672, \"Close\": 11.520000457763672, \"Volume\": 4400, \"Dividends\": 0.0, \"Stock Splits\": 0, \"ticker\": \"HUZ.TO\"}, {\"Date\": \"2021-09-03T00:00:00\", \"Open\": 11.770000457763672, \"High\": 12.0, \"Low\": 11.770000457763672, \"Close\": 11.9399995803833, \"Volume\": 7600, \"Dividends\": 0.0, \"Stock Splits\": 0, \"ticker\": \"HUZ.TO\"}, {\"Date\": \"2021-09-07T00:00:00\", \"Open\": 11.8100004196167, \"High\": 11.8100004196167, \"Low\": 11.739999771118164, \"Close\": 11.739999771118164, \"Volume\": 3400, \"Dividends\": 0.0, \"Stock Splits\": 0, \"ticker\": \"HUZ.TO\"}, {\"Date\": \"2021-09-08T00:00:00\", \"Open\": 11.739999771118164, \"High\": 11.739999771118164, \"Low\": 11.739999771118164, \"Close\": 11.739999771118164, \"Volume\": 0, \"Dividends\": 0.0, \"Stock Splits\": 0, \"ticker\": \"HUZ.TO\"}, {\"Date\": \"2021-09-09T00:00:00\", \"Open\": 11.600000381469727, \"High\": 11.600000381469727, \"Low\": 11.600000381469727, \"Close\": 11.600000381469727, \"Volume\": 2300, \"Dividends\": 0.0, \"Stock Splits\": 0, \"ticker\": \"HUZ.TO\"}, {\"Date\": \"2021-09-10T00:00:00\", \"Open\": 11.600000381469727, \"High\": 11.600000381469727, \"Low\": 11.600000381469727, \"Close\": 11.600000381469727, \"Volume\": 1900, \"Dividends\": 0.0, \"Stock Splits\": 0, \"ticker\": \"HUZ.TO\"}, {\"Date\": \"2021-09-13T00:00:00\", \"Open\": 11.34000015258789, \"High\": 11.479999542236328, \"Low\": 11.329999923706055, \"Close\": 11.479999542236328, \"Volume\": 2100, \"Dividends\": 0.0, \"Stock Splits\": 0, \"ticker\": \"HUZ.TO\"}, {\"Date\": \"2021-09-14T00:00:00\", \"Open\": 11.470000267028809, \"High\": 11.489999771118164, \"Low\": 11.460000038146973, \"Close\": 11.489999771118164, \"Volume\": 2600, \"Dividends\": 0.0, \"Stock Splits\": 0, \"ticker\": \"HUZ.TO\"}, {\"Date\": \"2021-09-15T00:00:00\", \"Open\": 11.460000038146973, \"High\": 11.460000038146973, \"Low\": 11.460000038146973, \"Close\": 11.460000038146973, \"Volume\": 500, \"Dividends\": 0.0, \"Stock Splits\": 0, \"ticker\": \"HUZ.TO\"}, {\"Date\": \"2021-09-16T00:00:00\", \"Open\": 11.100000381469727, \"High\": 11.100000381469727, \"Low\": 10.899999618530273, \"Close\": 11.020000457763672, \"Volume\": 12400, \"Dividends\": 0.0, \"Stock Splits\": 0, \"ticker\": \"HUZ.TO\"}, {\"Date\": \"2021-09-17T00:00:00\", \"Open\": 10.899999618530273, \"High\": 10.899999618530273, \"Low\": 10.75, \"Close\": 10.760000228881836, \"Volume\": 7300, \"Dividends\": 0.0, \"Stock Splits\": 0, \"ticker\": \"HUZ.TO\"}, {\"Date\": \"2021-09-20T00:00:00\", \"Open\": 10.729999542236328, \"High\": 10.729999542236328, \"Low\": 10.670000076293945, \"Close\": 10.6899995803833, \"Volume\": 4800, \"Dividends\": 0.0, \"Stock Splits\": 0, \"ticker\": \"HUZ.TO\"}, {\"Date\": \"2021-09-21T00:00:00\", \"Open\": 10.829999923706055, \"High\": 10.84000015258789, \"Low\": 10.829999923706055, \"Close\": 10.84000015258789, \"Volume\": 2000, \"Dividends\": 0.0, \"Stock Splits\": 0, \"ticker\": \"HUZ.TO\"}, {\"Date\": \"2021-09-22T00:00:00\", \"Open\": 10.949999809265137, \"High\": 11.0, \"Low\": 10.899999618530273, \"Close\": 10.899999618530273, \"Volume\": 2700, \"Dividends\": 0.0, \"Stock Splits\": 0, \"ticker\": \"HUZ.TO\"}, {\"Date\": \"2021-09-23T00:00:00\", \"Open\": 10.869999885559082, \"High\": 10.869999885559082, \"Low\": 10.869999885559082, \"Close\": 10.869999885559082, \"Volume\": 200, \"Dividends\": 0.0, \"Stock Splits\": 0, \"ticker\": \"HUZ.TO\"}, {\"Date\": \"2021-09-24T00:00:00\", \"Open\": 10.649999618530273, \"High\": 10.649999618530273, \"Low\": 10.649999618530273, \"Close\": 10.649999618530273, \"Volume\": 200, \"Dividends\": 0.0, \"Stock Splits\": 0, \"ticker\": \"HUZ.TO\"}, {\"Date\": \"2021-09-27T00:00:00\", \"Open\": 10.869999885559082, \"High\": 10.920000076293945, \"Low\": 10.869999885559082, \"Close\": 10.90999984741211, \"Volume\": 1600, \"Dividends\": 0.0, \"Stock Splits\": 0, \"ticker\": \"HUZ.TO\"}, {\"Date\": \"2021-09-28T00:00:00\", \"Open\": 10.829999923706055, \"High\": 10.829999923706055, \"Low\": 10.699999809265137, \"Close\": 10.8100004196167, \"Volume\": 1400, \"Dividends\": 0.0, \"Stock Splits\": 0, \"ticker\": \"HUZ.TO\"}, {\"Date\": \"2021-09-29T00:00:00\", \"Open\": 10.460000038146973, \"High\": 10.460000038146973, \"Low\": 10.260000228881836, \"Close\": 10.34000015258789, \"Volume\": 8400, \"Dividends\": 0.0, \"Stock Splits\": 0, \"ticker\": \"HUZ.TO\"}, {\"Date\": \"2021-09-30T00:00:00\", \"Open\": 10.479999542236328, \"High\": 10.649999618530273, \"Low\": 10.479999542236328, \"Close\": 10.630000114440918, \"Volume\": 7900, \"Dividends\": 0.0, \"Stock Splits\": 0, \"ticker\": \"HUZ.TO\"}, {\"Date\": \"2021-10-01T00:00:00\", \"Open\": 10.779999732971191, \"High\": 10.84000015258789, \"Low\": 10.779999732971191, \"Close\": 10.819999694824219, \"Volume\": 2400, \"Dividends\": 0.0, \"Stock Splits\": 0, \"ticker\": \"HUZ.TO\"}, {\"Date\": \"2021-10-04T00:00:00\", \"Open\": 10.789999961853027, \"High\": 10.859999656677246, \"Low\": 10.789999961853027, \"Close\": 10.850000381469727, \"Volume\": 1700, \"Dividends\": 0.0, \"Stock Splits\": 0, \"ticker\": \"HUZ.TO\"}, {\"Date\": \"2021-10-05T00:00:00\", \"Open\": 10.819999694824219, \"High\": 10.869999885559082, \"Low\": 10.819999694824219, \"Close\": 10.869999885559082, \"Volume\": 1900, \"Dividends\": 0.0, \"Stock Splits\": 0, \"ticker\": \"HUZ.TO\"}, {\"Date\": \"2021-10-06T00:00:00\", \"Open\": 10.779999732971191, \"High\": 10.869999885559082, \"Low\": 10.75, \"Close\": 10.869999885559082, \"Volume\": 27000, \"Dividends\": 0.0, \"Stock Splits\": 0, \"ticker\": \"HUZ.TO\"}, {\"Date\": \"2021-10-07T00:00:00\", \"Open\": 10.859999656677246, \"High\": 10.90999984741211, \"Low\": 10.850000381469727, \"Close\": 10.850000381469727, \"Volume\": 3400, \"Dividends\": 0.0, \"Stock Splits\": 0, \"ticker\": \"HUZ.TO\"}, {\"Date\": \"2021-10-08T00:00:00\", \"Open\": 11.119999885559082, \"High\": 11.119999885559082, \"Low\": 10.869999885559082, \"Close\": 10.869999885559082, \"Volume\": 1100, \"Dividends\": 0.0, \"Stock Splits\": 0, \"ticker\": \"HUZ.TO\"}, {\"Date\": \"2021-10-12T00:00:00\", \"Open\": 10.8100004196167, \"High\": 10.850000381469727, \"Low\": 10.800000190734863, \"Close\": 10.800000190734863, \"Volume\": 6500, \"Dividends\": 0.0, \"Stock Splits\": 0, \"ticker\": \"HUZ.TO\"}, {\"Date\": \"2021-10-13T00:00:00\", \"Open\": 10.989999771118164, \"High\": 11.130000114440918, \"Low\": 10.989999771118164, \"Close\": 11.079999923706055, \"Volume\": 5500, \"Dividends\": 0.0, \"Stock Splits\": 0, \"ticker\": \"HUZ.TO\"}, {\"Date\": \"2021-10-14T00:00:00\", \"Open\": 11.220000267028809, \"High\": 11.329999923706055, \"Low\": 11.220000267028809, \"Close\": 11.329999923706055, \"Volume\": 3000, \"Dividends\": 0.0, \"Stock Splits\": 0, \"ticker\": \"HUZ.TO\"}, {\"Date\": \"2021-10-15T00:00:00\", \"Open\": 11.220000267028809, \"High\": 11.220000267028809, \"Low\": 11.210000038146973, \"Close\": 11.210000038146973, \"Volume\": 600, \"Dividends\": 0.0, \"Stock Splits\": 0, \"ticker\": \"HUZ.TO\"}, {\"Date\": \"2021-10-18T00:00:00\", \"Open\": 11.1899995803833, \"High\": 11.1899995803833, \"Low\": 11.149999618530273, \"Close\": 11.149999618530273, \"Volume\": 3000, \"Dividends\": 0.0, \"Stock Splits\": 0, \"ticker\": \"HUZ.TO\"}, {\"Date\": \"2021-10-19T00:00:00\", \"Open\": 11.550000190734863, \"High\": 11.550000190734863, \"Low\": 11.380000114440918, \"Close\": 11.380000114440918, \"Volume\": 3600, \"Dividends\": 0.0, \"Stock Splits\": 0, \"ticker\": \"HUZ.TO\"}, {\"Date\": \"2021-10-20T00:00:00\", \"Open\": 11.539999961853027, \"High\": 11.729999542236328, \"Low\": 11.539999961853027, \"Close\": 11.710000038146973, \"Volume\": 1000, \"Dividends\": 0.0, \"Stock Splits\": 0, \"ticker\": \"HUZ.TO\"}, {\"Date\": \"2021-10-21T00:00:00\", \"Open\": 11.640000343322754, \"High\": 11.640000343322754, \"Low\": 11.579999923706055, \"Close\": 11.619999885559082, \"Volume\": 6000, \"Dividends\": 0.0, \"Stock Splits\": 0, \"ticker\": \"HUZ.TO\"}, {\"Date\": \"2021-10-22T00:00:00\", \"Open\": 11.75, \"High\": 11.84000015258789, \"Low\": 11.649999618530273, \"Close\": 11.6899995803833, \"Volume\": 9200, \"Dividends\": 0.0, \"Stock Splits\": 0, \"ticker\": \"HUZ.TO\"}, {\"Date\": \"2021-10-25T00:00:00\", \"Open\": 11.829999923706055, \"High\": 11.84000015258789, \"Low\": 11.800000190734863, \"Close\": 11.819999694824219, \"Volume\": 3500, \"Dividends\": 0.0, \"Stock Splits\": 0, \"ticker\": \"HUZ.TO\"}, {\"Date\": \"2021-10-26T00:00:00\", \"Open\": 11.649999618530273, \"High\": 11.649999618530273, \"Low\": 11.529999732971191, \"Close\": 11.630000114440918, \"Volume\": 13300, \"Dividends\": 0.0, \"Stock Splits\": 0, \"ticker\": \"HUZ.TO\"}, {\"Date\": \"2021-10-27T00:00:00\", \"Open\": 11.640000343322754, \"High\": 11.640000343322754, \"Low\": 11.579999923706055, \"Close\": 11.579999923706055, \"Volume\": 700, \"Dividends\": 0.0, \"Stock Splits\": 0, \"ticker\": \"HUZ.TO\"}, {\"Date\": \"2021-10-28T00:00:00\", \"Open\": 11.630000114440918, \"High\": 11.630000114440918, \"Low\": 11.579999923706055, \"Close\": 11.59000015258789, \"Volume\": 900, \"Dividends\": 0.0, \"Stock Splits\": 0, \"ticker\": \"HUZ.TO\"}, {\"Date\": \"2021-10-29T00:00:00\", \"Open\": 11.479999542236328, \"High\": 11.479999542236328, \"Low\": 11.369999885559082, \"Close\": 11.479999542236328, \"Volume\": 3100, \"Dividends\": 0.0, \"Stock Splits\": 0, \"ticker\": \"HUZ.TO\"}, {\"Date\": \"2021-11-01T00:00:00\", \"Open\": 11.550000190734863, \"High\": 11.59000015258789, \"Low\": 11.520000457763672, \"Close\": 11.550000190734863, \"Volume\": 6000, \"Dividends\": 0.0, \"Stock Splits\": 0, \"ticker\": \"HUZ.TO\"}, {\"Date\": \"2021-11-02T00:00:00\", \"Open\": 11.550000190734863, \"High\": 11.550000190734863, \"Low\": 11.550000190734863, \"Close\": 11.550000190734863, \"Volume\": 0, \"Dividends\": 0.0, \"Stock Splits\": 0, \"ticker\": \"HUZ.TO\"}, {\"Date\": \"2021-11-03T00:00:00\", \"Open\": 11.109999656677246, \"High\": 11.3100004196167, \"Low\": 11.109999656677246, \"Close\": 11.3100004196167, \"Volume\": 4300, \"Dividends\": 0.0, \"Stock Splits\": 0, \"ticker\": \"HUZ.TO\"}, {\"Date\": \"2021-11-04T00:00:00\", \"Open\": 11.489999771118164, \"High\": 11.489999771118164, \"Low\": 11.430000305175781, \"Close\": 11.430000305175781, \"Volume\": 7800, \"Dividends\": 0.0, \"Stock Splits\": 0, \"ticker\": \"HUZ.TO\"}, {\"Date\": \"2021-11-05T00:00:00\", \"Open\": 11.539999961853027, \"High\": 11.619999885559082, \"Low\": 11.539999961853027, \"Close\": 11.619999885559082, \"Volume\": 6100, \"Dividends\": 0.0, \"Stock Splits\": 0, \"ticker\": \"HUZ.TO\"}, {\"Date\": \"2021-11-08T00:00:00\", \"Open\": 11.710000038146973, \"High\": 11.800000190734863, \"Low\": 11.710000038146973, \"Close\": 11.770000457763672, \"Volume\": 3100, \"Dividends\": 0.0, \"Stock Splits\": 0, \"ticker\": \"HUZ.TO\"}, {\"Date\": \"2021-11-09T00:00:00\", \"Open\": 11.729999542236328, \"High\": 11.729999542236328, \"Low\": 11.630000114440918, \"Close\": 11.680000305175781, \"Volume\": 900, \"Dividends\": 0.0, \"Stock Splits\": 0, \"ticker\": \"HUZ.TO\"}, {\"Date\": \"2021-11-10T00:00:00\", \"Open\": 12.020000457763672, \"High\": 12.069999694824219, \"Low\": 11.819999694824219, \"Close\": 11.819999694824219, \"Volume\": 7700, \"Dividends\": 0.0, \"Stock Splits\": 0, \"ticker\": \"HUZ.TO\"}, {\"Date\": \"2021-11-11T00:00:00\", \"Open\": 12.069999694824219, \"High\": 12.15999984741211, \"Low\": 12.069999694824219, \"Close\": 12.069999694824219, \"Volume\": 4800, \"Dividends\": 0.0, \"Stock Splits\": 0, \"ticker\": \"HUZ.TO\"}, {\"Date\": \"2021-11-12T00:00:00\", \"Open\": 12.0600004196167, \"High\": 12.199999809265137, \"Low\": 12.050000190734863, \"Close\": 12.199999809265137, \"Volume\": 9800, \"Dividends\": 0.0, \"Stock Splits\": 0, \"ticker\": \"HUZ.TO\"}, {\"Date\": \"2021-11-15T00:00:00\", \"Open\": 12.0600004196167, \"High\": 12.079999923706055, \"Low\": 12.010000228881836, \"Close\": 12.050000190734863, \"Volume\": 5100, \"Dividends\": 0.0, \"Stock Splits\": 0, \"ticker\": \"HUZ.TO\"}, {\"Date\": \"2021-11-16T00:00:00\", \"Open\": 12.039999961853027, \"High\": 12.039999961853027, \"Low\": 11.9399995803833, \"Close\": 11.9399995803833, \"Volume\": 2600, \"Dividends\": 0.0, \"Stock Splits\": 0, \"ticker\": \"HUZ.TO\"}, {\"Date\": \"2021-11-17T00:00:00\", \"Open\": 12.050000190734863, \"High\": 12.100000381469727, \"Low\": 12.050000190734863, \"Close\": 12.050000190734863, \"Volume\": 1600, \"Dividends\": 0.0, \"Stock Splits\": 0, \"ticker\": \"HUZ.TO\"}, {\"Date\": \"2021-11-18T00:00:00\", \"Open\": 11.970000267028809, \"High\": 11.970000267028809, \"Low\": 11.930000305175781, \"Close\": 11.930000305175781, \"Volume\": 1700, \"Dividends\": 0.0, \"Stock Splits\": 0, \"ticker\": \"HUZ.TO\"}, {\"Date\": \"2021-11-19T00:00:00\", \"Open\": 11.9399995803833, \"High\": 11.970000267028809, \"Low\": 11.8100004196167, \"Close\": 11.8100004196167, \"Volume\": 9800, \"Dividends\": 0.0, \"Stock Splits\": 0, \"ticker\": \"HUZ.TO\"}, {\"Date\": \"2021-08-24T00:00:00\", \"Open\": 14.5, \"High\": 14.619999885559082, \"Low\": 14.420000076293945, \"Close\": 14.520000457763672, \"Volume\": 75200, \"Dividends\": 0.0, \"Stock Splits\": 0, \"ticker\": \"HZU.TO\"}, {\"Date\": \"2021-08-25T00:00:00\", \"Open\": 14.489999771118164, \"High\": 14.569999694824219, \"Low\": 14.199999809265137, \"Close\": 14.529999732971191, \"Volume\": 40100, \"Dividends\": 0.0, \"Stock Splits\": 0, \"ticker\": \"HZU.TO\"}, {\"Date\": \"2021-08-26T00:00:00\", \"Open\": 14.260000228881836, \"High\": 14.319999694824219, \"Low\": 13.989999771118164, \"Close\": 14.130000114440918, \"Volume\": 51400, \"Dividends\": 0.0, \"Stock Splits\": 0, \"ticker\": \"HZU.TO\"}, {\"Date\": \"2021-08-27T00:00:00\", \"Open\": 14.020000457763672, \"High\": 14.8100004196167, \"Low\": 13.859999656677246, \"Close\": 14.779999732971191, \"Volume\": 170900, \"Dividends\": 0.0, \"Stock Splits\": 0, \"ticker\": \"HZU.TO\"}, {\"Date\": \"2021-08-30T00:00:00\", \"Open\": 14.829999923706055, \"High\": 14.829999923706055, \"Low\": 14.550000190734863, \"Close\": 14.699999809265137, \"Volume\": 62500, \"Dividends\": 0.0, \"Stock Splits\": 0, \"ticker\": \"HZU.TO\"}, {\"Date\": \"2021-08-31T00:00:00\", \"Open\": 14.739999771118164, \"High\": 14.829999923706055, \"Low\": 14.399999618530273, \"Close\": 14.539999961853027, \"Volume\": 57800, \"Dividends\": 0.0, \"Stock Splits\": 0, \"ticker\": \"HZU.TO\"}, {\"Date\": \"2021-09-01T00:00:00\", \"Open\": 14.829999923706055, \"High\": 14.970000267028809, \"Low\": 14.760000228881836, \"Close\": 14.859999656677246, \"Volume\": 68300, \"Dividends\": 0.0, \"Stock Splits\": 0, \"ticker\": \"HZU.TO\"}, {\"Date\": \"2021-09-02T00:00:00\", \"Open\": 14.649999618530273, \"High\": 14.649999618530273, \"Low\": 14.390000343322754, \"Close\": 14.520000457763672, \"Volume\": 48600, \"Dividends\": 0.0, \"Stock Splits\": 0, \"ticker\": \"HZU.TO\"}, {\"Date\": \"2021-09-03T00:00:00\", \"Open\": 15.149999618530273, \"High\": 15.720000267028809, \"Low\": 15.130000114440918, \"Close\": 15.5600004196167, \"Volume\": 245300, \"Dividends\": 0.0, \"Stock Splits\": 0, \"ticker\": \"HZU.TO\"}, {\"Date\": \"2021-09-07T00:00:00\", \"Open\": 15.170000076293945, \"High\": 15.289999961853027, \"Low\": 14.829999923706055, \"Close\": 15.020000457763672, \"Volume\": 99700, \"Dividends\": 0.0, \"Stock Splits\": 0, \"ticker\": \"HZU.TO\"}, {\"Date\": \"2021-09-08T00:00:00\", \"Open\": 14.890000343322754, \"High\": 14.890000343322754, \"Low\": 14.489999771118164, \"Close\": 14.550000190734863, \"Volume\": 87200, \"Dividends\": 0.0, \"Stock Splits\": 0, \"ticker\": \"HZU.TO\"}, {\"Date\": \"2021-09-09T00:00:00\", \"Open\": 14.890000343322754, \"High\": 14.890000343322754, \"Low\": 14.550000190734863, \"Close\": 14.6899995803833, \"Volume\": 41800, \"Dividends\": 0.0, \"Stock Splits\": 0, \"ticker\": \"HZU.TO\"}, {\"Date\": \"2021-09-10T00:00:00\", \"Open\": 14.710000038146973, \"High\": 14.789999961853027, \"Low\": 14.289999961853027, \"Close\": 14.289999961853027, \"Volume\": 30900, \"Dividends\": 0.0, \"Stock Splits\": 0, \"ticker\": \"HZU.TO\"}, {\"Date\": \"2021-09-13T00:00:00\", \"Open\": 14.010000228881836, \"High\": 14.369999885559082, \"Low\": 14.0, \"Close\": 14.270000457763672, \"Volume\": 45600, \"Dividends\": 0.0, \"Stock Splits\": 0, \"ticker\": \"HZU.TO\"}, {\"Date\": \"2021-09-14T00:00:00\", \"Open\": 14.329999923706055, \"High\": 14.510000228881836, \"Low\": 14.109999656677246, \"Close\": 14.420000076293945, \"Volume\": 36700, \"Dividends\": 0.0, \"Stock Splits\": 0, \"ticker\": \"HZU.TO\"}, {\"Date\": \"2021-09-15T00:00:00\", \"Open\": 14.34000015258789, \"High\": 14.460000038146973, \"Low\": 14.229999542236328, \"Close\": 14.359999656677246, \"Volume\": 19900, \"Dividends\": 0.0, \"Stock Splits\": 0, \"ticker\": \"HZU.TO\"}, {\"Date\": \"2021-09-16T00:00:00\", \"Open\": 13.399999618530273, \"High\": 13.399999618530273, \"Low\": 12.850000381469727, \"Close\": 13.25, \"Volume\": 243900, \"Dividends\": 0.0, \"Stock Splits\": 0, \"ticker\": \"HZU.TO\"}, {\"Date\": \"2021-09-17T00:00:00\", \"Open\": 12.890000343322754, \"High\": 12.920000076293945, \"Low\": 12.539999961853027, \"Close\": 12.630000114440918, \"Volume\": 188500, \"Dividends\": 0.0, \"Stock Splits\": 0, \"ticker\": \"HZU.TO\"}, {\"Date\": \"2021-09-20T00:00:00\", \"Open\": 12.5, \"High\": 12.720000267028809, \"Low\": 12.34000015258789, \"Close\": 12.420000076293945, \"Volume\": 114900, \"Dividends\": 0.0, \"Stock Splits\": 0, \"ticker\": \"HZU.TO\"}, {\"Date\": \"2021-09-21T00:00:00\", \"Open\": 12.739999771118164, \"High\": 12.970000267028809, \"Low\": 12.600000381469727, \"Close\": 12.729999542236328, \"Volume\": 123200, \"Dividends\": 0.0, \"Stock Splits\": 0, \"ticker\": \"HZU.TO\"}, {\"Date\": \"2021-09-22T00:00:00\", \"Open\": 13.020000457763672, \"High\": 13.470000267028809, \"Low\": 12.859999656677246, \"Close\": 12.930000305175781, \"Volume\": 184600, \"Dividends\": 0.0, \"Stock Splits\": 0, \"ticker\": \"HZU.TO\"}, {\"Date\": \"2021-09-23T00:00:00\", \"Open\": 12.859999656677246, \"High\": 13.0, \"Low\": 12.789999961853027, \"Close\": 12.8100004196167, \"Volume\": 51700, \"Dividends\": 0.0, \"Stock Splits\": 0, \"ticker\": \"HZU.TO\"}, {\"Date\": \"2021-09-24T00:00:00\", \"Open\": 12.289999961853027, \"High\": 12.699999809265137, \"Low\": 12.279999732971191, \"Close\": 12.579999923706055, \"Volume\": 91800, \"Dividends\": 0.0, \"Stock Splits\": 0, \"ticker\": \"HZU.TO\"}, {\"Date\": \"2021-09-27T00:00:00\", \"Open\": 12.850000381469727, \"High\": 13.109999656677246, \"Low\": 12.8100004196167, \"Close\": 12.880000114440918, \"Volume\": 47800, \"Dividends\": 0.0, \"Stock Splits\": 0, \"ticker\": \"HZU.TO\"}, {\"Date\": \"2021-09-28T00:00:00\", \"Open\": 12.699999809265137, \"High\": 12.75, \"Low\": 12.420000076293945, \"Close\": 12.670000076293945, \"Volume\": 82100, \"Dividends\": 0.0, \"Stock Splits\": 0, \"ticker\": \"HZU.TO\"}, {\"Date\": \"2021-09-29T00:00:00\", \"Open\": 11.869999885559082, \"High\": 11.9399995803833, \"Low\": 11.5, \"Close\": 11.59000015258789, \"Volume\": 275900, \"Dividends\": 0.0, \"Stock Splits\": 0, \"ticker\": \"HZU.TO\"}, {\"Date\": \"2021-09-30T00:00:00\", \"Open\": 11.90999984741211, \"High\": 12.350000381469727, \"Low\": 11.869999885559082, \"Close\": 12.25, \"Volume\": 204100, \"Dividends\": 0.0, \"Stock Splits\": 0, \"ticker\": \"HZU.TO\"}, {\"Date\": \"2021-10-01T00:00:00\", \"Open\": 12.59000015258789, \"High\": 12.739999771118164, \"Low\": 12.5, \"Close\": 12.65999984741211, \"Volume\": 96800, \"Dividends\": 0.0, \"Stock Splits\": 0, \"ticker\": \"HZU.TO\"}, {\"Date\": \"2021-10-04T00:00:00\", \"Open\": 12.5600004196167, \"High\": 12.869999885559082, \"Low\": 12.489999771118164, \"Close\": 12.850000381469727, \"Volume\": 82500, \"Dividends\": 0.0, \"Stock Splits\": 0, \"ticker\": \"HZU.TO\"}, {\"Date\": \"2021-10-05T00:00:00\", \"Open\": 12.65999984741211, \"High\": 12.8100004196167, \"Low\": 12.539999961853027, \"Close\": 12.779999732971191, \"Volume\": 34600, \"Dividends\": 0.0, \"Stock Splits\": 0, \"ticker\": \"HZU.TO\"}, {\"Date\": \"2021-10-06T00:00:00\", \"Open\": 12.550000190734863, \"High\": 12.850000381469727, \"Low\": 12.449999809265137, \"Close\": 12.84000015258789, \"Volume\": 48100, \"Dividends\": 0.0, \"Stock Splits\": 0, \"ticker\": \"HZU.TO\"}, {\"Date\": \"2021-10-07T00:00:00\", \"Open\": 12.600000381469727, \"High\": 12.949999809265137, \"Low\": 12.579999923706055, \"Close\": 12.75, \"Volume\": 84900, \"Dividends\": 0.0, \"Stock Splits\": 0, \"ticker\": \"HZU.TO\"}, {\"Date\": \"2021-10-08T00:00:00\", \"Open\": 13.329999923706055, \"High\": 13.380000114440918, \"Low\": 12.779999732971191, \"Close\": 12.789999961853027, \"Volume\": 120400, \"Dividends\": 0.0, \"Stock Splits\": 0, \"ticker\": \"HZU.TO\"}, {\"Date\": \"2021-10-12T00:00:00\", \"Open\": 12.65999984741211, \"High\": 12.90999984741211, \"Low\": 12.600000381469727, \"Close\": 12.75, \"Volume\": 52400, \"Dividends\": 0.0, \"Stock Splits\": 0, \"ticker\": \"HZU.TO\"}, {\"Date\": \"2021-10-13T00:00:00\", \"Open\": 12.949999809265137, \"High\": 13.5, \"Low\": 12.949999809265137, \"Close\": 13.260000228881836, \"Volume\": 112400, \"Dividends\": 0.0, \"Stock Splits\": 0, \"ticker\": \"HZU.TO\"}, {\"Date\": \"2021-10-14T00:00:00\", \"Open\": 13.65999984741211, \"High\": 13.880000114440918, \"Low\": 13.539999961853027, \"Close\": 13.850000381469727, \"Volume\": 84300, \"Dividends\": 0.0, \"Stock Splits\": 0, \"ticker\": \"HZU.TO\"}, {\"Date\": \"2021-10-15T00:00:00\", \"Open\": 13.579999923706055, \"High\": 13.6899995803833, \"Low\": 13.460000038146973, \"Close\": 13.59000015258789, \"Volume\": 82000, \"Dividends\": 0.0, \"Stock Splits\": 0, \"ticker\": \"HZU.TO\"}, {\"Date\": \"2021-10-18T00:00:00\", \"Open\": 13.5600004196167, \"High\": 13.5600004196167, \"Low\": 13.260000228881836, \"Close\": 13.4399995803833, \"Volume\": 29800, \"Dividends\": 0.0, \"Stock Splits\": 0, \"ticker\": \"HZU.TO\"}, {\"Date\": \"2021-10-19T00:00:00\", \"Open\": 14.420000076293945, \"High\": 14.479999542236328, \"Low\": 13.9399995803833, \"Close\": 13.989999771118164, \"Volume\": 107000, \"Dividends\": 0.0, \"Stock Splits\": 0, \"ticker\": \"HZU.TO\"}, {\"Date\": \"2021-10-20T00:00:00\", \"Open\": 14.350000381469727, \"High\": 14.899999618530273, \"Low\": 14.300000190734863, \"Close\": 14.800000190734863, \"Volume\": 196600, \"Dividends\": 0.0, \"Stock Splits\": 0, \"ticker\": \"HZU.TO\"}, {\"Date\": \"2021-10-21T00:00:00\", \"Open\": 14.619999885559082, \"High\": 14.619999885559082, \"Low\": 14.40999984741211, \"Close\": 14.59000015258789, \"Volume\": 81100, \"Dividends\": 0.0, \"Stock Splits\": 0, \"ticker\": \"HZU.TO\"}, {\"Date\": \"2021-10-22T00:00:00\", \"Open\": 14.930000305175781, \"High\": 15.399999618530273, \"Low\": 14.640000343322754, \"Close\": 14.800000190734863, \"Volume\": 216300, \"Dividends\": 0.0, \"Stock Splits\": 0, \"ticker\": \"HZU.TO\"}, {\"Date\": \"2021-10-25T00:00:00\", \"Open\": 15.100000381469727, \"High\": 15.149999618530273, \"Low\": 14.84000015258789, \"Close\": 15.069999694824219, \"Volume\": 79200, \"Dividends\": 0.0, \"Stock Splits\": 0, \"ticker\": \"HZU.TO\"}, {\"Date\": \"2021-10-26T00:00:00\", \"Open\": 14.630000114440918, \"High\": 14.630000114440918, \"Low\": 14.220000267028809, \"Close\": 14.569999694824219, \"Volume\": 147700, \"Dividends\": 0.0, \"Stock Splits\": 0, \"ticker\": \"HZU.TO\"}, {\"Date\": \"2021-10-27T00:00:00\", \"Open\": 14.550000190734863, \"High\": 14.670000076293945, \"Low\": 14.329999923706055, \"Close\": 14.470000267028809, \"Volume\": 100700, \"Dividends\": 0.0, \"Stock Splits\": 0, \"ticker\": \"HZU.TO\"}, {\"Date\": \"2021-10-28T00:00:00\", \"Open\": 14.59000015258789, \"High\": 14.649999618530273, \"Low\": 14.34000015258789, \"Close\": 14.4399995803833, \"Volume\": 82800, \"Dividends\": 0.0, \"Stock Splits\": 0, \"ticker\": \"HZU.TO\"}, {\"Date\": \"2021-10-29T00:00:00\", \"Open\": 14.1899995803833, \"High\": 14.289999961853027, \"Low\": 13.949999809265137, \"Close\": 14.220000267028809, \"Volume\": 111300, \"Dividends\": 0.0, \"Stock Splits\": 0, \"ticker\": \"HZU.TO\"}, {\"Date\": \"2021-11-01T00:00:00\", \"Open\": 14.399999618530273, \"High\": 14.489999771118164, \"Low\": 14.319999694824219, \"Close\": 14.390000343322754, \"Volume\": 51200, \"Dividends\": 0.0, \"Stock Splits\": 0, \"ticker\": \"HZU.TO\"}, {\"Date\": \"2021-11-02T00:00:00\", \"Open\": 14.0, \"High\": 14.010000228881836, \"Low\": 13.619999885559082, \"Close\": 13.800000190734863, \"Volume\": 143800, \"Dividends\": 0.0, \"Stock Splits\": 0, \"ticker\": \"HZU.TO\"}, {\"Date\": \"2021-11-03T00:00:00\", \"Open\": 13.289999961853027, \"High\": 13.8100004196167, \"Low\": 13.180000305175781, \"Close\": 13.800000190734863, \"Volume\": 216600, \"Dividends\": 0.0, \"Stock Splits\": 0, \"ticker\": \"HZU.TO\"}, {\"Date\": \"2021-11-04T00:00:00\", \"Open\": 14.199999809265137, \"High\": 14.380000114440918, \"Low\": 14.050000190734863, \"Close\": 14.09000015258789, \"Volume\": 78300, \"Dividends\": 0.0, \"Stock Splits\": 0, \"ticker\": \"HZU.TO\"}, {\"Date\": \"2021-11-05T00:00:00\", \"Open\": 14.399999618530273, \"High\": 14.529999732971191, \"Low\": 14.119999885559082, \"Close\": 14.529999732971191, \"Volume\": 67200, \"Dividends\": 0.0, \"Stock Splits\": 0, \"ticker\": \"HZU.TO\"}, {\"Date\": \"2021-11-08T00:00:00\", \"Open\": 14.789999961853027, \"High\": 14.970000267028809, \"Low\": 14.680000305175781, \"Close\": 14.90999984741211, \"Volume\": 114200, \"Dividends\": 0.0, \"Stock Splits\": 0, \"ticker\": \"HZU.TO\"}, {\"Date\": \"2021-11-09T00:00:00\", \"Open\": 14.75, \"High\": 14.850000381469727, \"Low\": 14.430000305175781, \"Close\": 14.720000267028809, \"Volume\": 82300, \"Dividends\": 0.0, \"Stock Splits\": 0, \"ticker\": \"HZU.TO\"}, {\"Date\": \"2021-11-10T00:00:00\", \"Open\": 15.539999961853027, \"High\": 15.699999809265137, \"Low\": 14.970000267028809, \"Close\": 15.15999984741211, \"Volume\": 187600, \"Dividends\": 0.0, \"Stock Splits\": 0, \"ticker\": \"HZU.TO\"}, {\"Date\": \"2021-11-11T00:00:00\", \"Open\": 15.6899995803833, \"High\": 15.90999984741211, \"Low\": 15.619999885559082, \"Close\": 15.880000114440918, \"Volume\": 114400, \"Dividends\": 0.0, \"Stock Splits\": 0, \"ticker\": \"HZU.TO\"}, {\"Date\": \"2021-11-12T00:00:00\", \"Open\": 15.59000015258789, \"High\": 16.020000457763672, \"Low\": 15.579999923706055, \"Close\": 15.920000076293945, \"Volume\": 98100, \"Dividends\": 0.0, \"Stock Splits\": 0, \"ticker\": \"HZU.TO\"}, {\"Date\": \"2021-11-15T00:00:00\", \"Open\": 15.630000114440918, \"High\": 15.75, \"Low\": 15.4399995803833, \"Close\": 15.619999885559082, \"Volume\": 78600, \"Dividends\": 0.0, \"Stock Splits\": 0, \"ticker\": \"HZU.TO\"}, {\"Date\": \"2021-11-16T00:00:00\", \"Open\": 15.539999961853027, \"High\": 15.729999542236328, \"Low\": 15.25, \"Close\": 15.289999961853027, \"Volume\": 89800, \"Dividends\": 0.0, \"Stock Splits\": 0, \"ticker\": \"HZU.TO\"}, {\"Date\": \"2021-11-17T00:00:00\", \"Open\": 15.65999984741211, \"High\": 15.800000190734863, \"Low\": 15.479999542236328, \"Close\": 15.600000381469727, \"Volume\": 41400, \"Dividends\": 0.0, \"Stock Splits\": 0, \"ticker\": \"HZU.TO\"}, {\"Date\": \"2021-11-18T00:00:00\", \"Open\": 15.380000114440918, \"High\": 15.460000038146973, \"Low\": 15.229999542236328, \"Close\": 15.289999961853027, \"Volume\": 47700, \"Dividends\": 0.0, \"Stock Splits\": 0, \"ticker\": \"HZU.TO\"}, {\"Date\": \"2021-11-19T00:00:00\", \"Open\": 15.350000381469727, \"High\": 15.479999542236328, \"Low\": 14.970000267028809, \"Close\": 14.989999771118164, \"Volume\": 55800, \"Dividends\": 0.0, \"Stock Splits\": 0, \"ticker\": \"HZU.TO\"}, {\"Date\": \"2021-08-24T00:00:00\", \"Open\": 25.579999923706055, \"High\": 26.649999618530273, \"Low\": 25.43000030517578, \"Close\": 26.479999542236328, \"Volume\": 12710100, \"Dividends\": 0.0, \"Stock Splits\": 0, \"ticker\": \"SPCE\"}, {\"Date\": \"2021-08-25T00:00:00\", \"Open\": 26.700000762939453, \"High\": 27.040000915527344, \"Low\": 25.75200080871582, \"Close\": 26.260000228881836, \"Volume\": 10425200, \"Dividends\": 0.0, \"Stock Splits\": 0, \"ticker\": \"SPCE\"}, {\"Date\": \"2021-08-26T00:00:00\", \"Open\": 26.100000381469727, \"High\": 26.70800018310547, \"Low\": 25.200000762939453, \"Close\": 25.450000762939453, \"Volume\": 10124400, \"Dividends\": 0.0, \"Stock Splits\": 0, \"ticker\": \"SPCE\"}, {\"Date\": \"2021-08-27T00:00:00\", \"Open\": 25.540000915527344, \"High\": 26.3799991607666, \"Low\": 25.21500015258789, \"Close\": 26.049999237060547, \"Volume\": 8564100, \"Dividends\": 0.0, \"Stock Splits\": 0, \"ticker\": \"SPCE\"}, {\"Date\": \"2021-08-30T00:00:00\", \"Open\": 25.969999313354492, \"High\": 26.190000534057617, \"Low\": 24.6200008392334, \"Close\": 24.8799991607666, \"Volume\": 12912100, \"Dividends\": 0.0, \"Stock Splits\": 0, \"ticker\": \"SPCE\"}, {\"Date\": \"2021-08-31T00:00:00\", \"Open\": 25.950000762939453, \"High\": 27.860000610351562, \"Low\": 25.75, \"Close\": 27.110000610351562, \"Volume\": 28429500, \"Dividends\": 0.0, \"Stock Splits\": 0, \"ticker\": \"SPCE\"}, {\"Date\": \"2021-09-01T00:00:00\", \"Open\": 27.059999465942383, \"High\": 27.329999923706055, \"Low\": 26.649999618530273, \"Close\": 26.790000915527344, \"Volume\": 11593100, \"Dividends\": 0.0, \"Stock Splits\": 0, \"ticker\": \"SPCE\"}, {\"Date\": \"2021-09-02T00:00:00\", \"Open\": 26.079999923706055, \"High\": 28.770000457763672, \"Low\": 24.850000381469727, \"Close\": 25.989999771118164, \"Volume\": 39715400, \"Dividends\": 0.0, \"Stock Splits\": 0, \"ticker\": \"SPCE\"}, {\"Date\": \"2021-09-03T00:00:00\", \"Open\": 25.290000915527344, \"High\": 25.540000915527344, \"Low\": 23.81999969482422, \"Close\": 24.280000686645508, \"Volume\": 31122900, \"Dividends\": 0.0, \"Stock Splits\": 0, \"ticker\": \"SPCE\"}, {\"Date\": \"2021-09-07T00:00:00\", \"Open\": 24.209999084472656, \"High\": 24.950000762939453, \"Low\": 23.81999969482422, \"Close\": 24.610000610351562, \"Volume\": 13754900, \"Dividends\": 0.0, \"Stock Splits\": 0, \"ticker\": \"SPCE\"}, {\"Date\": \"2021-09-08T00:00:00\", \"Open\": 24.649999618530273, \"High\": 26.0049991607666, \"Low\": 24.549999237060547, \"Close\": 25.450000762939453, \"Volume\": 16479500, \"Dividends\": 0.0, \"Stock Splits\": 0, \"ticker\": \"SPCE\"}, {\"Date\": \"2021-09-09T00:00:00\", \"Open\": 25.3799991607666, \"High\": 25.780000686645508, \"Low\": 24.649999618530273, \"Close\": 25.68000030517578, \"Volume\": 10330400, \"Dividends\": 0.0, \"Stock Splits\": 0, \"ticker\": \"SPCE\"}, {\"Date\": \"2021-09-10T00:00:00\", \"Open\": 25.709999084472656, \"High\": 26.829999923706055, \"Low\": 24.93000030517578, \"Close\": 25.15999984741211, \"Volume\": 9855900, \"Dividends\": 0.0, \"Stock Splits\": 0, \"ticker\": \"SPCE\"}, {\"Date\": \"2021-09-13T00:00:00\", \"Open\": 24.450000762939453, \"High\": 24.8700008392334, \"Low\": 23.579999923706055, \"Close\": 24.260000228881836, \"Volume\": 12597400, \"Dividends\": 0.0, \"Stock Splits\": 0, \"ticker\": \"SPCE\"}, {\"Date\": \"2021-09-14T00:00:00\", \"Open\": 23.989999771118164, \"High\": 25.145000457763672, \"Low\": 23.81999969482422, \"Close\": 24.0, \"Volume\": 10886000, \"Dividends\": 0.0, \"Stock Splits\": 0, \"ticker\": \"SPCE\"}, {\"Date\": \"2021-09-15T00:00:00\", \"Open\": 24.219999313354492, \"High\": 24.219999313354492, \"Low\": 23.062999725341797, \"Close\": 23.90999984741211, \"Volume\": 12381100, \"Dividends\": 0.0, \"Stock Splits\": 0, \"ticker\": \"SPCE\"}, {\"Date\": \"2021-09-16T00:00:00\", \"Open\": 24.280000686645508, \"High\": 24.799999237060547, \"Low\": 24.0, \"Close\": 24.489999771118164, \"Volume\": 11827500, \"Dividends\": 0.0, \"Stock Splits\": 0, \"ticker\": \"SPCE\"}, {\"Date\": \"2021-09-17T00:00:00\", \"Open\": 24.579999923706055, \"High\": 26.440000534057617, \"Low\": 24.579999923706055, \"Close\": 26.420000076293945, \"Volume\": 22997300, \"Dividends\": 0.0, \"Stock Splits\": 0, \"ticker\": \"SPCE\"}, {\"Date\": \"2021-09-20T00:00:00\", \"Open\": 25.43000030517578, \"High\": 26.030000686645508, \"Low\": 24.274999618530273, \"Close\": 24.75, \"Volume\": 13197100, \"Dividends\": 0.0, \"Stock Splits\": 0, \"ticker\": \"SPCE\"}, {\"Date\": \"2021-09-21T00:00:00\", \"Open\": 25.0, \"High\": 25.56999969482422, \"Low\": 24.700000762939453, \"Close\": 25.190000534057617, \"Volume\": 8181500, \"Dividends\": 0.0, \"Stock Splits\": 0, \"ticker\": \"SPCE\"}, {\"Date\": \"2021-09-22T00:00:00\", \"Open\": 25.290000915527344, \"High\": 25.834999084472656, \"Low\": 25.100000381469727, \"Close\": 25.530000686645508, \"Volume\": 6048000, \"Dividends\": 0.0, \"Stock Splits\": 0, \"ticker\": \"SPCE\"}, {\"Date\": \"2021-09-23T00:00:00\", \"Open\": 25.75, \"High\": 25.969999313354492, \"Low\": 25.31999969482422, \"Close\": 25.850000381469727, \"Volume\": 6594100, \"Dividends\": 0.0, \"Stock Splits\": 0, \"ticker\": \"SPCE\"}, {\"Date\": \"2021-09-24T00:00:00\", \"Open\": 25.850000381469727, \"High\": 25.89299964904785, \"Low\": 24.809999465942383, \"Close\": 25.040000915527344, \"Volume\": 7887100, \"Dividends\": 0.0, \"Stock Splits\": 0, \"ticker\": \"SPCE\"}, {\"Date\": \"2021-09-27T00:00:00\", \"Open\": 25.110000610351562, \"High\": 25.59000015258789, \"Low\": 24.430999755859375, \"Close\": 25.0, \"Volume\": 7678800, \"Dividends\": 0.0, \"Stock Splits\": 0, \"ticker\": \"SPCE\"}, {\"Date\": \"2021-09-28T00:00:00\", \"Open\": 24.90999984741211, \"High\": 24.940000534057617, \"Low\": 22.8700008392334, \"Close\": 23.389999389648438, \"Volume\": 16464700, \"Dividends\": 0.0, \"Stock Splits\": 0, \"ticker\": \"SPCE\"}, {\"Date\": \"2021-09-29T00:00:00\", \"Open\": 23.540000915527344, \"High\": 23.729999542236328, \"Low\": 22.530000686645508, \"Close\": 22.559999465942383, \"Volume\": 11285200, \"Dividends\": 0.0, \"Stock Splits\": 0, \"ticker\": \"SPCE\"}, {\"Date\": \"2021-09-30T00:00:00\", \"Open\": 24.1299991607666, \"High\": 26.5, \"Low\": 23.913000106811523, \"Close\": 25.299999237060547, \"Volume\": 46612700, \"Dividends\": 0.0, \"Stock Splits\": 0, \"ticker\": \"SPCE\"}, {\"Date\": \"2021-10-01T00:00:00\", \"Open\": 25.06999969482422, \"High\": 25.520000457763672, \"Low\": 23.489999771118164, \"Close\": 23.829999923706055, \"Volume\": 16868100, \"Dividends\": 0.0, \"Stock Splits\": 0, \"ticker\": \"SPCE\"}, {\"Date\": \"2021-10-04T00:00:00\", \"Open\": 23.6200008392334, \"High\": 23.719999313354492, \"Low\": 22.540000915527344, \"Close\": 22.729999542236328, \"Volume\": 10849500, \"Dividends\": 0.0, \"Stock Splits\": 0, \"ticker\": \"SPCE\"}, {\"Date\": \"2021-10-05T00:00:00\", \"Open\": 22.790000915527344, \"High\": 22.8799991607666, \"Low\": 21.959999084472656, \"Close\": 22.530000686645508, \"Volume\": 9055200, \"Dividends\": 0.0, \"Stock Splits\": 0, \"ticker\": \"SPCE\"}, {\"Date\": \"2021-10-06T00:00:00\", \"Open\": 22.530000686645508, \"High\": 23.309999465942383, \"Low\": 22.309999465942383, \"Close\": 22.979999542236328, \"Volume\": 9677800, \"Dividends\": 0.0, \"Stock Splits\": 0, \"ticker\": \"SPCE\"}, {\"Date\": \"2021-10-07T00:00:00\", \"Open\": 23.030000686645508, \"High\": 23.65999984741211, \"Low\": 22.84000015258789, \"Close\": 23.209999084472656, \"Volume\": 6855700, \"Dividends\": 0.0, \"Stock Splits\": 0, \"ticker\": \"SPCE\"}, {\"Date\": \"2021-10-08T00:00:00\", \"Open\": 23.190000534057617, \"High\": 23.738000869750977, \"Low\": 22.8799991607666, \"Close\": 23.1200008392334, \"Volume\": 5143400, \"Dividends\": 0.0, \"Stock Splits\": 0, \"ticker\": \"SPCE\"}, {\"Date\": \"2021-10-11T00:00:00\", \"Open\": 23.06999969482422, \"High\": 23.780000686645508, \"Low\": 23.020000457763672, \"Close\": 23.219999313354492, \"Volume\": 4948500, \"Dividends\": 0.0, \"Stock Splits\": 0, \"ticker\": \"SPCE\"}, {\"Date\": \"2021-10-12T00:00:00\", \"Open\": 23.399999618530273, \"High\": 23.950000762939453, \"Low\": 23.094999313354492, \"Close\": 23.510000228881836, \"Volume\": 5406000, \"Dividends\": 0.0, \"Stock Splits\": 0, \"ticker\": \"SPCE\"}, {\"Date\": \"2021-10-13T00:00:00\", \"Open\": 23.649999618530273, \"High\": 24.1299991607666, \"Low\": 23.530000686645508, \"Close\": 23.940000534057617, \"Volume\": 6339500, \"Dividends\": 0.0, \"Stock Splits\": 0, \"ticker\": \"SPCE\"}, {\"Date\": \"2021-10-14T00:00:00\", \"Open\": 24.25, \"High\": 24.31999969482422, \"Low\": 23.584999084472656, \"Close\": 24.059999465942383, \"Volume\": 12932300, \"Dividends\": 0.0, \"Stock Splits\": 0, \"ticker\": \"SPCE\"}, {\"Date\": \"2021-10-15T00:00:00\", \"Open\": 20.469999313354492, \"High\": 21.31999969482422, \"Low\": 19.8700008392334, \"Close\": 20.010000228881836, \"Volume\": 58984500, \"Dividends\": 0.0, \"Stock Splits\": 0, \"ticker\": \"SPCE\"}, {\"Date\": \"2021-10-18T00:00:00\", \"Open\": 19.040000915527344, \"High\": 19.920000076293945, \"Low\": 19.0, \"Close\": 19.719999313354492, \"Volume\": 25100300, \"Dividends\": 0.0, \"Stock Splits\": 0, \"ticker\": \"SPCE\"}, {\"Date\": \"2021-10-19T00:00:00\", \"Open\": 19.5, \"High\": 20.079999923706055, \"Low\": 19.204999923706055, \"Close\": 19.84000015258789, \"Volume\": 15227800, \"Dividends\": 0.0, \"Stock Splits\": 0, \"ticker\": \"SPCE\"}, {\"Date\": \"2021-10-20T00:00:00\", \"Open\": 19.760000228881836, \"High\": 20.540000915527344, \"Low\": 19.65999984741211, \"Close\": 20.149999618530273, \"Volume\": 11115100, \"Dividends\": 0.0, \"Stock Splits\": 0, \"ticker\": \"SPCE\"}, {\"Date\": \"2021-10-21T00:00:00\", \"Open\": 20.209999084472656, \"High\": 20.760000228881836, \"Low\": 19.860000610351562, \"Close\": 20.149999618530273, \"Volume\": 9978400, \"Dividends\": 0.0, \"Stock Splits\": 0, \"ticker\": \"SPCE\"}, {\"Date\": \"2021-10-22T00:00:00\", \"Open\": 20.0, \"High\": 20.010000228881836, \"Low\": 19.229999542236328, \"Close\": 19.65999984741211, \"Volume\": 8635500, \"Dividends\": 0.0, \"Stock Splits\": 0, \"ticker\": \"SPCE\"}, {\"Date\": \"2021-10-25T00:00:00\", \"Open\": 19.739999771118164, \"High\": 20.530000686645508, \"Low\": 19.6299991607666, \"Close\": 20.040000915527344, \"Volume\": 11296100, \"Dividends\": 0.0, \"Stock Splits\": 0, \"ticker\": \"SPCE\"}, {\"Date\": \"2021-10-26T00:00:00\", \"Open\": 20.040000915527344, \"High\": 20.260000228881836, \"Low\": 19.489999771118164, \"Close\": 19.610000610351562, \"Volume\": 10847000, \"Dividends\": 0.0, \"Stock Splits\": 0, \"ticker\": \"SPCE\"}, {\"Date\": \"2021-10-27T00:00:00\", \"Open\": 18.799999237060547, \"High\": 18.90999984741211, \"Low\": 17.979999542236328, \"Close\": 18.239999771118164, \"Volume\": 21577500, \"Dividends\": 0.0, \"Stock Splits\": 0, \"ticker\": \"SPCE\"}, {\"Date\": \"2021-10-28T00:00:00\", \"Open\": 18.360000610351562, \"High\": 18.725000381469727, \"Low\": 18.295000076293945, \"Close\": 18.559999465942383, \"Volume\": 10401300, \"Dividends\": 0.0, \"Stock Splits\": 0, \"ticker\": \"SPCE\"}, {\"Date\": \"2021-10-29T00:00:00\", \"Open\": 18.649999618530273, \"High\": 19.079999923706055, \"Low\": 18.584999084472656, \"Close\": 18.75, \"Volume\": 8307900, \"Dividends\": 0.0, \"Stock Splits\": 0, \"ticker\": \"SPCE\"}, {\"Date\": \"2021-11-01T00:00:00\", \"Open\": 18.860000610351562, \"High\": 19.68000030517578, \"Low\": 18.690000534057617, \"Close\": 19.549999237060547, \"Volume\": 9701900, \"Dividends\": 0.0, \"Stock Splits\": 0, \"ticker\": \"SPCE\"}, {\"Date\": \"2021-11-02T00:00:00\", \"Open\": 19.399999618530273, \"High\": 19.600000381469727, \"Low\": 18.940000534057617, \"Close\": 19.600000381469727, \"Volume\": 7911700, \"Dividends\": 0.0, \"Stock Splits\": 0, \"ticker\": \"SPCE\"}, {\"Date\": \"2021-11-03T00:00:00\", \"Open\": 19.510000228881836, \"High\": 20.040000915527344, \"Low\": 19.450000762939453, \"Close\": 19.940000534057617, \"Volume\": 9040100, \"Dividends\": 0.0, \"Stock Splits\": 0, \"ticker\": \"SPCE\"}, {\"Date\": \"2021-11-04T00:00:00\", \"Open\": 20.030000686645508, \"High\": 20.200000762939453, \"Low\": 19.450000762939453, \"Close\": 19.6200008392334, \"Volume\": 8253000, \"Dividends\": 0.0, \"Stock Splits\": 0, \"ticker\": \"SPCE\"}, {\"Date\": \"2021-11-05T00:00:00\", \"Open\": 19.65999984741211, \"High\": 19.90999984741211, \"Low\": 19.104999542236328, \"Close\": 19.530000686645508, \"Volume\": 7401000, \"Dividends\": 0.0, \"Stock Splits\": 0, \"ticker\": \"SPCE\"}, {\"Date\": \"2021-11-08T00:00:00\", \"Open\": 19.31999969482422, \"High\": 20.020000457763672, \"Low\": 19.290000915527344, \"Close\": 19.889999389648438, \"Volume\": 11882600, \"Dividends\": 0.0, \"Stock Splits\": 0, \"ticker\": \"SPCE\"}, {\"Date\": \"2021-11-09T00:00:00\", \"Open\": 19.889999389648438, \"High\": 21.68000030517578, \"Low\": 19.329999923706055, \"Close\": 20.899999618530273, \"Volume\": 26605300, \"Dividends\": 0.0, \"Stock Splits\": 0, \"ticker\": \"SPCE\"}, {\"Date\": \"2021-11-10T00:00:00\", \"Open\": 20.56999969482422, \"High\": 21.489999771118164, \"Low\": 19.950000762939453, \"Close\": 20.260000228881836, \"Volume\": 12948700, \"Dividends\": 0.0, \"Stock Splits\": 0, \"ticker\": \"SPCE\"}, {\"Date\": \"2021-11-11T00:00:00\", \"Open\": 19.309999465942383, \"High\": 19.540000915527344, \"Low\": 19.079999923706055, \"Close\": 19.270000457763672, \"Volume\": 15965700, \"Dividends\": 0.0, \"Stock Splits\": 0, \"ticker\": \"SPCE\"}, {\"Date\": \"2021-11-12T00:00:00\", \"Open\": 19.299999237060547, \"High\": 19.530000686645508, \"Low\": 19.149999618530273, \"Close\": 19.219999313354492, \"Volume\": 6985700, \"Dividends\": 0.0, \"Stock Splits\": 0, \"ticker\": \"SPCE\"}, {\"Date\": \"2021-11-15T00:00:00\", \"Open\": 19.200000762939453, \"High\": 19.5049991607666, \"Low\": 18.969999313354492, \"Close\": 19.0, \"Volume\": 11356100, \"Dividends\": 0.0, \"Stock Splits\": 0, \"ticker\": \"SPCE\"}, {\"Date\": \"2021-11-16T00:00:00\", \"Open\": 18.75, \"High\": 18.805999755859375, \"Low\": 18.17799949645996, \"Close\": 18.31999969482422, \"Volume\": 15359000, \"Dividends\": 0.0, \"Stock Splits\": 0, \"ticker\": \"SPCE\"}, {\"Date\": \"2021-11-17T00:00:00\", \"Open\": 18.31999969482422, \"High\": 18.549999237060547, \"Low\": 17.729999542236328, \"Close\": 17.90999984741211, \"Volume\": 11587300, \"Dividends\": 0.0, \"Stock Splits\": 0, \"ticker\": \"SPCE\"}, {\"Date\": \"2021-11-18T00:00:00\", \"Open\": 17.969999313354492, \"High\": 18.0, \"Low\": 17.170000076293945, \"Close\": 17.3799991607666, \"Volume\": 9551100, \"Dividends\": 0.0, \"Stock Splits\": 0, \"ticker\": \"SPCE\"}, {\"Date\": \"2021-11-19T00:00:00\", \"Open\": 17.399999618530273, \"High\": 17.709999084472656, \"Low\": 17.059999465942383, \"Close\": 17.25, \"Volume\": 8662500, \"Dividends\": 0.0, \"Stock Splits\": 0, \"ticker\": \"SPCE\"}, {\"Date\": \"2021-08-24T00:00:00\", \"Open\": 66.2626448869715, \"High\": 67.15168006704268, \"Low\": 66.15398461293881, \"Close\": 66.80593872070312, \"Volume\": 975700, \"Dividends\": 0.0, \"Stock Splits\": 0, \"ticker\": \"VDE\"}, {\"Date\": \"2021-08-25T00:00:00\", \"Open\": 66.72692140689324, \"High\": 67.81351664618792, \"Low\": 66.22313353236831, \"Close\": 67.38875579833984, \"Volume\": 784800, \"Dividends\": 0.0, \"Stock Splits\": 0, \"ticker\": \"VDE\"}, {\"Date\": \"2021-08-26T00:00:00\", \"Open\": 67.04302113998051, \"High\": 67.4183882073602, \"Low\": 66.25276595594417, \"Close\": 66.41082000732422, \"Volume\": 716800, \"Dividends\": 0.0, \"Stock Splits\": 0, \"ticker\": \"VDE\"}, {\"Date\": \"2021-08-27T00:00:00\", \"Open\": 67.17143538732346, \"High\": 68.85071825743371, \"Low\": 67.17143538732346, \"Close\": 68.39632415771484, \"Volume\": 875900, \"Dividends\": 0.0, \"Stock Splits\": 0, \"ticker\": \"VDE\"}, {\"Date\": \"2021-08-30T00:00:00\", \"Open\": 68.80132848848223, \"High\": 68.91986148623907, \"Low\": 67.52704600757428, \"Close\": 67.53692626953125, \"Volume\": 692300, \"Dividends\": 0.0, \"Stock Splits\": 0, \"ticker\": \"VDE\"}, {\"Date\": \"2021-08-31T00:00:00\", \"Open\": 67.18131256103516, \"High\": 67.85302718548267, \"Low\": 66.90472551622119, \"Close\": 67.18131256103516, \"Volume\": 830700, \"Dividends\": 0.0, \"Stock Splits\": 0, \"ticker\": \"VDE\"}, {\"Date\": \"2021-09-01T00:00:00\", \"Open\": 67.15168299598638, \"High\": 67.3591232909789, \"Low\": 66.12435424714329, \"Close\": 66.3416748046875, \"Volume\": 877900, \"Dividends\": 0.0, \"Stock Splits\": 0, \"ticker\": \"VDE\"}, {\"Date\": \"2021-09-02T00:00:00\", \"Open\": 67.01338112319293, \"High\": 68.65315801116276, \"Low\": 67.01338112319293, \"Close\": 68.07035064697266, \"Volume\": 1081400, \"Dividends\": 0.0, \"Stock Splits\": 0, \"ticker\": \"VDE\"}, {\"Date\": \"2021-09-03T00:00:00\", \"Open\": 67.97156229934396, \"High\": 68.49510315566906, \"Low\": 67.41838819249963, \"Close\": 67.76412200927734, \"Volume\": 616600, \"Dividends\": 0.0, \"Stock Splits\": 0, \"ticker\": \"VDE\"}, {\"Date\": \"2021-09-07T00:00:00\", \"Open\": 67.31960942686678, \"High\": 68.28766413179406, \"Low\": 67.13192212152222, \"Close\": 67.3689956665039, \"Volume\": 726800, \"Dividends\": 0.0, \"Stock Splits\": 0, \"ticker\": \"VDE\"}, {\"Date\": \"2021-09-08T00:00:00\", \"Open\": 67.74436605796292, \"High\": 68.16912688183437, \"Low\": 66.49971683557168, \"Close\": 66.53923034667969, \"Volume\": 855400, \"Dividends\": 0.0, \"Stock Splits\": 0, \"ticker\": \"VDE\"}, {\"Date\": \"2021-09-09T00:00:00\", \"Open\": 66.12435474359259, \"High\": 67.66534411021061, \"Low\": 65.79837390482886, \"Close\": 66.65777587890625, \"Volume\": 790100, \"Dividends\": 0.0, \"Stock Splits\": 0, \"ticker\": \"VDE\"}, {\"Date\": \"2021-09-10T00:00:00\", \"Open\": 67.76411795356532, \"High\": 67.76411795356532, \"Low\": 66.45032199200932, \"Close\": 66.588623046875, \"Volume\": 616400, \"Dividends\": 0.0, \"Stock Splits\": 0, \"ticker\": \"VDE\"}, {\"Date\": \"2021-09-13T00:00:00\", \"Open\": 67.55668475498241, \"High\": 69.08780141635663, \"Low\": 67.55668475498241, \"Close\": 68.64328002929688, \"Volume\": 1694800, \"Dividends\": 0.0, \"Stock Splits\": 0, \"ticker\": \"VDE\"}, {\"Date\": \"2021-09-14T00:00:00\", \"Open\": 69.20632969086356, \"High\": 69.3545034764168, \"Low\": 67.24057957605706, \"Close\": 67.4974136352539, \"Volume\": 764800, \"Dividends\": 0.0, \"Stock Splits\": 0, \"ticker\": \"VDE\"}, {\"Date\": \"2021-09-15T00:00:00\", \"Open\": 68.51486200618643, \"High\": 70.27317183406299, \"Low\": 68.50498174411078, \"Close\": 70.21390533447266, \"Volume\": 912000, \"Dividends\": 0.0, \"Stock Splits\": 0, \"ticker\": \"VDE\"}, {\"Date\": \"2021-09-16T00:00:00\", \"Open\": 70.1250003542378, \"High\": 70.1250003542378, \"Low\": 68.95937809323638, \"Close\": 69.43353271484375, \"Volume\": 635300, \"Dividends\": 0.0, \"Stock Splits\": 0, \"ticker\": \"VDE\"}, {\"Date\": \"2021-09-17T00:00:00\", \"Open\": 69.05816482712105, \"High\": 70.02621951081645, \"Low\": 68.58401021112498, \"Close\": 68.79145050048828, \"Volume\": 683000, \"Dividends\": 0.0, \"Stock Splits\": 0, \"ticker\": \"VDE\"}, {\"Date\": \"2021-09-20T00:00:00\", \"Open\": 66.92448130792718, \"High\": 67.47765542073297, \"Low\": 65.61068525358137, \"Close\": 66.717041015625, \"Volume\": 1181700, \"Dividends\": 0.0, \"Stock Splits\": 0, \"ticker\": \"VDE\"}, {\"Date\": \"2021-09-21T00:00:00\", \"Open\": 67.58631145690634, \"High\": 67.89253928136341, \"Low\": 66.0947159911299, \"Close\": 66.90472412109375, \"Volume\": 1305700, \"Dividends\": 0.0, \"Stock Splits\": 0, \"ticker\": \"VDE\"}, {\"Date\": \"2021-09-22T00:00:00\", \"Open\": 68.00119204712776, \"High\": 69.74962910202056, \"Low\": 68.00119204712776, \"Close\": 68.93962097167969, \"Volume\": 929100, \"Dividends\": 0.0, \"Stock Splits\": 0, \"ticker\": \"VDE\"}, {\"Date\": \"2021-09-23T00:00:00\", \"Open\": 69.43352785827253, \"High\": 71.54745167819692, \"Low\": 69.09766678803597, \"Close\": 71.34989166259766, \"Volume\": 833700, \"Dividends\": 0.0, \"Stock Splits\": 0, \"ticker\": \"VDE\"}, {\"Date\": \"2021-09-24T00:00:00\", \"Open\": 70.91525268120249, \"High\": 72.25868192900475, \"Low\": 70.84610592005524, \"Close\": 71.93270111083984, \"Volume\": 797000, \"Dividends\": 0.0, \"Stock Splits\": 0, \"ticker\": \"VDE\"}, {\"Date\": \"2021-09-27T00:00:00\", \"Open\": 73.49344980280479, \"High\": 75.0146860616806, \"Low\": 73.33539575887565, \"Close\": 74.6985855102539, \"Volume\": 1402800, \"Dividends\": 0.0, \"Stock Splits\": 0, \"ticker\": \"VDE\"}, {\"Date\": \"2021-09-28T00:00:00\", \"Open\": 75.64689192652745, \"High\": 76.27909306917806, \"Low\": 74.71834320107031, \"Close\": 74.8270034790039, \"Volume\": 1450200, \"Dividends\": 0.0, \"Stock Splits\": 0, \"ticker\": \"VDE\"}, {\"Date\": \"2021-09-29T00:00:00\", \"Open\": 74.76000213623047, \"High\": 75.2300033569336, \"Low\": 73.83000183105469, \"Close\": 74.81999969482422, \"Volume\": 1076800, \"Dividends\": 0.923, \"Stock Splits\": 0, \"ticker\": \"VDE\"}, {\"Date\": \"2021-09-30T00:00:00\", \"Open\": 74.7300033569336, \"High\": 75.1500015258789, \"Low\": 73.7300033569336, \"Close\": 73.9000015258789, \"Volume\": 1757200, \"Dividends\": 0.0, \"Stock Splits\": 0, \"ticker\": \"VDE\"}, {\"Date\": \"2021-10-01T00:00:00\", \"Open\": 74.52999877929688, \"High\": 76.30000305175781, \"Low\": 74.33999633789062, \"Close\": 76.18000030517578, \"Volume\": 1192300, \"Dividends\": 0.0, \"Stock Splits\": 0, \"ticker\": \"VDE\"}, {\"Date\": \"2021-10-04T00:00:00\", \"Open\": 77.0, \"High\": 78.38999938964844, \"Low\": 76.81999969482422, \"Close\": 77.58999633789062, \"Volume\": 2612300, \"Dividends\": 0.0, \"Stock Splits\": 0, \"ticker\": \"VDE\"}, {\"Date\": \"2021-10-05T00:00:00\", \"Open\": 78.72000122070312, \"High\": 79.41000366210938, \"Low\": 77.02999877929688, \"Close\": 77.97000122070312, \"Volume\": 1474000, \"Dividends\": 0.0, \"Stock Splits\": 0, \"ticker\": \"VDE\"}, {\"Date\": \"2021-10-06T00:00:00\", \"Open\": 76.73999786376953, \"High\": 77.5, \"Low\": 75.5999984741211, \"Close\": 76.94999694824219, \"Volume\": 1439200, \"Dividends\": 0.0, \"Stock Splits\": 0, \"ticker\": \"VDE\"}, {\"Date\": \"2021-10-07T00:00:00\", \"Open\": 77.1500015258789, \"High\": 78.16999816894531, \"Low\": 76.73999786376953, \"Close\": 77.7699966430664, \"Volume\": 923300, \"Dividends\": 0.0, \"Stock Splits\": 0, \"ticker\": \"VDE\"}, {\"Date\": \"2021-10-08T00:00:00\", \"Open\": 78.54000091552734, \"High\": 80.19000244140625, \"Low\": 78.54000091552734, \"Close\": 79.95999908447266, \"Volume\": 1568600, \"Dividends\": 0.0, \"Stock Splits\": 0, \"ticker\": \"VDE\"}, {\"Date\": \"2021-10-11T00:00:00\", \"Open\": 81.20999908447266, \"High\": 81.47000122070312, \"Low\": 79.62000274658203, \"Close\": 79.66999816894531, \"Volume\": 1539000, \"Dividends\": 0.0, \"Stock Splits\": 0, \"ticker\": \"VDE\"}, {\"Date\": \"2021-10-12T00:00:00\", \"Open\": 79.5999984741211, \"High\": 80.54000091552734, \"Low\": 79.19000244140625, \"Close\": 79.7300033569336, \"Volume\": 1414800, \"Dividends\": 0.0, \"Stock Splits\": 0, \"ticker\": \"VDE\"}, {\"Date\": \"2021-10-13T00:00:00\", \"Open\": 79.06999969482422, \"High\": 80.08000183105469, \"Low\": 78.1500015258789, \"Close\": 79.69000244140625, \"Volume\": 2041600, \"Dividends\": 0.0, \"Stock Splits\": 0, \"ticker\": \"VDE\"}, {\"Date\": \"2021-10-14T00:00:00\", \"Open\": 80.68000030517578, \"High\": 81.05000305175781, \"Low\": 79.94000244140625, \"Close\": 80.68000030517578, \"Volume\": 892700, \"Dividends\": 0.0, \"Stock Splits\": 0, \"ticker\": \"VDE\"}, {\"Date\": \"2021-10-15T00:00:00\", \"Open\": 81.68000030517578, \"High\": 81.98999786376953, \"Low\": 81.05999755859375, \"Close\": 81.05999755859375, \"Volume\": 951700, \"Dividends\": 0.0, \"Stock Splits\": 0, \"ticker\": \"VDE\"}, {\"Date\": \"2021-10-18T00:00:00\", \"Open\": 81.88999938964844, \"High\": 82.55000305175781, \"Low\": 80.80999755859375, \"Close\": 81.2699966430664, \"Volume\": 1473300, \"Dividends\": 0.0, \"Stock Splits\": 0, \"ticker\": \"VDE\"}, {\"Date\": \"2021-10-19T00:00:00\", \"Open\": 81.70999908447266, \"High\": 82.41000366210938, \"Low\": 81.12999725341797, \"Close\": 82.0999984741211, \"Volume\": 852600, \"Dividends\": 0.0, \"Stock Splits\": 0, \"ticker\": \"VDE\"}, {\"Date\": \"2021-10-20T00:00:00\", \"Open\": 81.47000122070312, \"High\": 82.79000091552734, \"Low\": 81.19999694824219, \"Close\": 82.79000091552734, \"Volume\": 1122400, \"Dividends\": 0.0, \"Stock Splits\": 0, \"ticker\": \"VDE\"}, {\"Date\": \"2021-10-21T00:00:00\", \"Open\": 82.11000061035156, \"High\": 82.43000030517578, \"Low\": 80.58000183105469, \"Close\": 81.23999786376953, \"Volume\": 1080700, \"Dividends\": 0.0, \"Stock Splits\": 0, \"ticker\": \"VDE\"}, {\"Date\": \"2021-10-22T00:00:00\", \"Open\": 81.58999633789062, \"High\": 82.0999984741211, \"Low\": 80.7300033569336, \"Close\": 82.04000091552734, \"Volume\": 626600, \"Dividends\": 0.0, \"Stock Splits\": 0, \"ticker\": \"VDE\"}, {\"Date\": \"2021-10-25T00:00:00\", \"Open\": 83.0, \"High\": 83.9000015258789, \"Low\": 82.68000030517578, \"Close\": 83.3499984741211, \"Volume\": 993200, \"Dividends\": 0.0, \"Stock Splits\": 0, \"ticker\": \"VDE\"}, {\"Date\": \"2021-10-26T00:00:00\", \"Open\": 83.54000091552734, \"High\": 84.20999908447266, \"Low\": 83.25, \"Close\": 83.72000122070312, \"Volume\": 912300, \"Dividends\": 0.0, \"Stock Splits\": 0, \"ticker\": \"VDE\"}, {\"Date\": \"2021-10-27T00:00:00\", \"Open\": 82.81999969482422, \"High\": 83.30999755859375, \"Low\": 81.02999877929688, \"Close\": 81.26000213623047, \"Volume\": 1025300, \"Dividends\": 0.0, \"Stock Splits\": 0, \"ticker\": \"VDE\"}, {\"Date\": \"2021-10-28T00:00:00\", \"Open\": 80.73999786376953, \"High\": 81.8499984741211, \"Low\": 80.73999786376953, \"Close\": 81.73999786376953, \"Volume\": 805100, \"Dividends\": 0.0, \"Stock Splits\": 0, \"ticker\": \"VDE\"}, {\"Date\": \"2021-10-29T00:00:00\", \"Open\": 82.04000091552734, \"High\": 82.30000305175781, \"Low\": 80.81999969482422, \"Close\": 81.22000122070312, \"Volume\": 912300, \"Dividends\": 0.0, \"Stock Splits\": 0, \"ticker\": \"VDE\"}, {\"Date\": \"2021-11-01T00:00:00\", \"Open\": 81.94999694824219, \"High\": 82.87000274658203, \"Low\": 81.83999633789062, \"Close\": 82.62000274658203, \"Volume\": 929400, \"Dividends\": 0.0, \"Stock Splits\": 0, \"ticker\": \"VDE\"}, {\"Date\": \"2021-11-02T00:00:00\", \"Open\": 82.3499984741211, \"High\": 82.8499984741211, \"Low\": 81.58000183105469, \"Close\": 81.87999725341797, \"Volume\": 800200, \"Dividends\": 0.0, \"Stock Splits\": 0, \"ticker\": \"VDE\"}, {\"Date\": \"2021-11-03T00:00:00\", \"Open\": 80.9000015258789, \"High\": 82.05999755859375, \"Low\": 80.62999725341797, \"Close\": 81.19000244140625, \"Volume\": 981400, \"Dividends\": 0.0, \"Stock Splits\": 0, \"ticker\": \"VDE\"}, {\"Date\": \"2021-11-04T00:00:00\", \"Open\": 82.05000305175781, \"High\": 82.66000366210938, \"Low\": 80.48999786376953, \"Close\": 81.18000030517578, \"Volume\": 1174800, \"Dividends\": 0.0, \"Stock Splits\": 0, \"ticker\": \"VDE\"}, {\"Date\": \"2021-11-05T00:00:00\", \"Open\": 82.33999633789062, \"High\": 82.86000061035156, \"Low\": 81.70999908447266, \"Close\": 82.48999786376953, \"Volume\": 933200, \"Dividends\": 0.0, \"Stock Splits\": 0, \"ticker\": \"VDE\"}, {\"Date\": \"2021-11-08T00:00:00\", \"Open\": 83.19999694824219, \"High\": 84.19999694824219, \"Low\": 82.87000274658203, \"Close\": 83.30000305175781, \"Volume\": 960500, \"Dividends\": 0.0, \"Stock Splits\": 0, \"ticker\": \"VDE\"}, {\"Date\": \"2021-11-09T00:00:00\", \"Open\": 83.33999633789062, \"High\": 83.5999984741211, \"Low\": 82.08999633789062, \"Close\": 83.56999969482422, \"Volume\": 940600, \"Dividends\": 0.0, \"Stock Splits\": 0, \"ticker\": \"VDE\"}, {\"Date\": \"2021-11-10T00:00:00\", \"Open\": 83.18000030517578, \"High\": 83.37999725341797, \"Low\": 80.58999633789062, \"Close\": 81.1500015258789, \"Volume\": 1041000, \"Dividends\": 0.0, \"Stock Splits\": 0, \"ticker\": \"VDE\"}, {\"Date\": \"2021-11-11T00:00:00\", \"Open\": 81.37000274658203, \"High\": 82.11000061035156, \"Low\": 81.29000091552734, \"Close\": 81.5, \"Volume\": 804400, \"Dividends\": 0.0, \"Stock Splits\": 0, \"ticker\": \"VDE\"}, {\"Date\": \"2021-11-12T00:00:00\", \"Open\": 81.08999633789062, \"High\": 81.62999725341797, \"Low\": 80.76000213623047, \"Close\": 81.26000213623047, \"Volume\": 680400, \"Dividends\": 0.0, \"Stock Splits\": 0, \"ticker\": \"VDE\"}, {\"Date\": \"2021-11-15T00:00:00\", \"Open\": 81.2300033569336, \"High\": 82.33999633789062, \"Low\": 80.38999938964844, \"Close\": 81.83000183105469, \"Volume\": 750100, \"Dividends\": 0.0, \"Stock Splits\": 0, \"ticker\": \"VDE\"}, {\"Date\": \"2021-11-16T00:00:00\", \"Open\": 82.06999969482422, \"High\": 82.58000183105469, \"Low\": 81.4800033569336, \"Close\": 81.91999816894531, \"Volume\": 856600, \"Dividends\": 0.0, \"Stock Splits\": 0, \"ticker\": \"VDE\"}, {\"Date\": \"2021-11-17T00:00:00\", \"Open\": 81.23999786376953, \"High\": 82.30999755859375, \"Low\": 80.23999786376953, \"Close\": 80.52999877929688, \"Volume\": 1098100, \"Dividends\": 0.0, \"Stock Splits\": 0, \"ticker\": \"VDE\"}, {\"Date\": \"2021-11-18T00:00:00\", \"Open\": 80.43000030517578, \"High\": 81.06999969482422, \"Low\": 79.11000061035156, \"Close\": 80.16999816894531, \"Volume\": 1070700, \"Dividends\": 0.0, \"Stock Splits\": 0, \"ticker\": \"VDE\"}, {\"Date\": \"2021-11-19T00:00:00\", \"Open\": 78.2699966430664, \"High\": 78.5, \"Low\": 76.80999755859375, \"Close\": 77.0, \"Volume\": 4115400, \"Dividends\": 0.0, \"Stock Splits\": 0, \"ticker\": \"VDE\"}]}}, {\"mode\": \"vega-lite\"});\n",
       "</script>"
      ],
      "text/plain": [
       "alt.Chart(...)"
      ]
     },
     "execution_count": 10,
     "metadata": {},
     "output_type": "execute_result"
    }
   ],
   "source": [
    "alt.Chart(hold_stock_detail).mark_line().encode(x='Date',y='Volume', color = 'ticker:N')"
   ]
  },
  {
   "cell_type": "code",
   "execution_count": 44,
   "metadata": {},
   "outputs": [
    {
     "data": {
      "text/plain": [
       "array(['0P00016N6T.TO', 'CASH', 'CASH', 'ENB.TO', 'HGU.TO', 'HUZ.TO',\n",
       "       'HZU.TO', 'SPCE', 'VDE'], dtype=object)"
      ]
     },
     "execution_count": 44,
     "metadata": {},
     "output_type": "execute_result"
    }
   ],
   "source": [
    "stock_curr_smr.ticker.values"
   ]
  },
  {
   "cell_type": "code",
   "execution_count": 45,
   "metadata": {},
   "outputs": [
    {
     "name": "stdout",
     "output_type": "stream",
     "text": [
      "Recent News of 0P00016N6T.TO :\n",
      "================================================================\n"
     ]
    },
    {
     "data": {
      "application/vnd.plotly.v1+json": {
       "config": {
        "plotlyServerURL": "https://plot.ly"
       },
       "data": [
        {
         "hovertemplate": "variable=open<br>date=%{x}<br>value=%{y}<extra></extra>",
         "legendgroup": "open",
         "line": {
          "color": "#636efa",
          "dash": "solid"
         },
         "mode": "lines",
         "name": "open",
         "orientation": "v",
         "showlegend": true,
         "type": "scatter",
         "x": [
          "2021-10-25",
          "2021-10-26",
          "2021-10-27",
          "2021-10-28",
          "2021-10-29",
          "2021-11-01",
          "2021-11-02",
          "2021-11-03",
          "2021-11-04",
          "2021-11-05",
          "2021-11-08",
          "2021-11-09",
          "2021-11-10",
          "2021-11-11",
          "2021-11-12",
          "2021-11-15",
          "2021-11-16",
          "2021-11-17",
          "2021-11-18",
          "2021-11-19"
         ],
         "xaxis": "x",
         "y": [
          39.779998779296875,
          39.31999969482422,
          38.72999954223633,
          39,
          39.36000061035156,
          39.70000076293945,
          39.4900016784668,
          39.630001068115234,
          40.40999984741211,
          39.93000030517578,
          39.7599983215332,
          40.810001373291016,
          39.869998931884766,
          40.7400016784668,
          41.7599983215332,
          41.630001068115234,
          42.540000915527344,
          42.09000015258789,
          41.72999954223633,
          41.630001068115234
         ],
         "yaxis": "y"
        },
        {
         "hovertemplate": "variable=high<br>date=%{x}<br>value=%{y}<extra></extra>",
         "legendgroup": "high",
         "line": {
          "color": "#EF553B",
          "dash": "solid"
         },
         "mode": "lines",
         "name": "high",
         "orientation": "v",
         "showlegend": true,
         "type": "scatter",
         "x": [
          "2021-10-25",
          "2021-10-26",
          "2021-10-27",
          "2021-10-28",
          "2021-10-29",
          "2021-11-01",
          "2021-11-02",
          "2021-11-03",
          "2021-11-04",
          "2021-11-05",
          "2021-11-08",
          "2021-11-09",
          "2021-11-10",
          "2021-11-11",
          "2021-11-12",
          "2021-11-15",
          "2021-11-16",
          "2021-11-17",
          "2021-11-18",
          "2021-11-19"
         ],
         "xaxis": "x",
         "y": [
          39.779998779296875,
          39.31999969482422,
          38.72999954223633,
          39,
          39.36000061035156,
          39.70000076293945,
          39.4900016784668,
          39.630001068115234,
          40.40999984741211,
          39.93000030517578,
          39.7599983215332,
          40.810001373291016,
          39.869998931884766,
          40.7400016784668,
          41.7599983215332,
          41.630001068115234,
          42.540000915527344,
          42.09000015258789,
          41.72999954223633,
          41.630001068115234
         ],
         "yaxis": "y"
        },
        {
         "hovertemplate": "variable=close<br>date=%{x}<br>value=%{y}<extra></extra>",
         "legendgroup": "close",
         "line": {
          "color": "#00cc96",
          "dash": "solid"
         },
         "mode": "lines",
         "name": "close",
         "orientation": "v",
         "showlegend": true,
         "type": "scatter",
         "x": [
          "2021-10-25",
          "2021-10-26",
          "2021-10-27",
          "2021-10-28",
          "2021-10-29",
          "2021-11-01",
          "2021-11-02",
          "2021-11-03",
          "2021-11-04",
          "2021-11-05",
          "2021-11-08",
          "2021-11-09",
          "2021-11-10",
          "2021-11-11",
          "2021-11-12",
          "2021-11-15",
          "2021-11-16",
          "2021-11-17",
          "2021-11-18",
          "2021-11-19"
         ],
         "xaxis": "x",
         "y": [
          39.779998779296875,
          39.31999969482422,
          38.72999954223633,
          39,
          39.36000061035156,
          39.70000076293945,
          39.4900016784668,
          39.630001068115234,
          40.40999984741211,
          39.93000030517578,
          39.7599983215332,
          40.810001373291016,
          39.869998931884766,
          40.7400016784668,
          41.7599983215332,
          41.630001068115234,
          42.540000915527344,
          42.09000015258789,
          41.72999954223633,
          41.630001068115234
         ],
         "yaxis": "y"
        },
        {
         "hovertemplate": "variable=low<br>date=%{x}<br>value=%{y}<extra></extra>",
         "legendgroup": "low",
         "line": {
          "color": "#ab63fa",
          "dash": "solid"
         },
         "mode": "lines",
         "name": "low",
         "orientation": "v",
         "showlegend": true,
         "type": "scatter",
         "x": [
          "2021-10-25",
          "2021-10-26",
          "2021-10-27",
          "2021-10-28",
          "2021-10-29",
          "2021-11-01",
          "2021-11-02",
          "2021-11-03",
          "2021-11-04",
          "2021-11-05",
          "2021-11-08",
          "2021-11-09",
          "2021-11-10",
          "2021-11-11",
          "2021-11-12",
          "2021-11-15",
          "2021-11-16",
          "2021-11-17",
          "2021-11-18",
          "2021-11-19"
         ],
         "xaxis": "x",
         "y": [
          39.779998779296875,
          39.31999969482422,
          38.72999954223633,
          39,
          39.36000061035156,
          39.70000076293945,
          39.4900016784668,
          39.630001068115234,
          40.40999984741211,
          39.93000030517578,
          39.7599983215332,
          40.810001373291016,
          39.869998931884766,
          40.7400016784668,
          41.7599983215332,
          41.630001068115234,
          42.540000915527344,
          42.09000015258789,
          41.72999954223633,
          41.630001068115234
         ],
         "yaxis": "y"
        },
        {
         "hovertemplate": "variable=adjclose<br>date=%{x}<br>value=%{y}<extra></extra>",
         "legendgroup": "adjclose",
         "line": {
          "color": "#FFA15A",
          "dash": "solid"
         },
         "mode": "lines",
         "name": "adjclose",
         "orientation": "v",
         "showlegend": true,
         "type": "scatter",
         "x": [
          "2021-10-25",
          "2021-10-26",
          "2021-10-27",
          "2021-10-28",
          "2021-10-29",
          "2021-11-01",
          "2021-11-02",
          "2021-11-03",
          "2021-11-04",
          "2021-11-05",
          "2021-11-08",
          "2021-11-09",
          "2021-11-10",
          "2021-11-11",
          "2021-11-12",
          "2021-11-15",
          "2021-11-16",
          "2021-11-17",
          "2021-11-18",
          "2021-11-19"
         ],
         "xaxis": "x",
         "y": [
          39.779998779296875,
          39.31999969482422,
          38.72999954223633,
          39,
          39.36000061035156,
          39.70000076293945,
          39.4900016784668,
          39.630001068115234,
          40.40999984741211,
          39.93000030517578,
          39.7599983215332,
          40.810001373291016,
          39.869998931884766,
          40.7400016784668,
          41.7599983215332,
          41.630001068115234,
          42.540000915527344,
          42.09000015258789,
          41.72999954223633,
          41.630001068115234
         ],
         "yaxis": "y"
        }
       ],
       "layout": {
        "legend": {
         "title": {
          "text": "variable"
         },
         "tracegroupgap": 0
        },
        "template": {
         "data": {
          "bar": [
           {
            "error_x": {
             "color": "#2a3f5f"
            },
            "error_y": {
             "color": "#2a3f5f"
            },
            "marker": {
             "line": {
              "color": "#E5ECF6",
              "width": 0.5
             },
             "pattern": {
              "fillmode": "overlay",
              "size": 10,
              "solidity": 0.2
             }
            },
            "type": "bar"
           }
          ],
          "barpolar": [
           {
            "marker": {
             "line": {
              "color": "#E5ECF6",
              "width": 0.5
             },
             "pattern": {
              "fillmode": "overlay",
              "size": 10,
              "solidity": 0.2
             }
            },
            "type": "barpolar"
           }
          ],
          "carpet": [
           {
            "aaxis": {
             "endlinecolor": "#2a3f5f",
             "gridcolor": "white",
             "linecolor": "white",
             "minorgridcolor": "white",
             "startlinecolor": "#2a3f5f"
            },
            "baxis": {
             "endlinecolor": "#2a3f5f",
             "gridcolor": "white",
             "linecolor": "white",
             "minorgridcolor": "white",
             "startlinecolor": "#2a3f5f"
            },
            "type": "carpet"
           }
          ],
          "choropleth": [
           {
            "colorbar": {
             "outlinewidth": 0,
             "ticks": ""
            },
            "type": "choropleth"
           }
          ],
          "contour": [
           {
            "colorbar": {
             "outlinewidth": 0,
             "ticks": ""
            },
            "colorscale": [
             [
              0,
              "#0d0887"
             ],
             [
              0.1111111111111111,
              "#46039f"
             ],
             [
              0.2222222222222222,
              "#7201a8"
             ],
             [
              0.3333333333333333,
              "#9c179e"
             ],
             [
              0.4444444444444444,
              "#bd3786"
             ],
             [
              0.5555555555555556,
              "#d8576b"
             ],
             [
              0.6666666666666666,
              "#ed7953"
             ],
             [
              0.7777777777777778,
              "#fb9f3a"
             ],
             [
              0.8888888888888888,
              "#fdca26"
             ],
             [
              1,
              "#f0f921"
             ]
            ],
            "type": "contour"
           }
          ],
          "contourcarpet": [
           {
            "colorbar": {
             "outlinewidth": 0,
             "ticks": ""
            },
            "type": "contourcarpet"
           }
          ],
          "heatmap": [
           {
            "colorbar": {
             "outlinewidth": 0,
             "ticks": ""
            },
            "colorscale": [
             [
              0,
              "#0d0887"
             ],
             [
              0.1111111111111111,
              "#46039f"
             ],
             [
              0.2222222222222222,
              "#7201a8"
             ],
             [
              0.3333333333333333,
              "#9c179e"
             ],
             [
              0.4444444444444444,
              "#bd3786"
             ],
             [
              0.5555555555555556,
              "#d8576b"
             ],
             [
              0.6666666666666666,
              "#ed7953"
             ],
             [
              0.7777777777777778,
              "#fb9f3a"
             ],
             [
              0.8888888888888888,
              "#fdca26"
             ],
             [
              1,
              "#f0f921"
             ]
            ],
            "type": "heatmap"
           }
          ],
          "heatmapgl": [
           {
            "colorbar": {
             "outlinewidth": 0,
             "ticks": ""
            },
            "colorscale": [
             [
              0,
              "#0d0887"
             ],
             [
              0.1111111111111111,
              "#46039f"
             ],
             [
              0.2222222222222222,
              "#7201a8"
             ],
             [
              0.3333333333333333,
              "#9c179e"
             ],
             [
              0.4444444444444444,
              "#bd3786"
             ],
             [
              0.5555555555555556,
              "#d8576b"
             ],
             [
              0.6666666666666666,
              "#ed7953"
             ],
             [
              0.7777777777777778,
              "#fb9f3a"
             ],
             [
              0.8888888888888888,
              "#fdca26"
             ],
             [
              1,
              "#f0f921"
             ]
            ],
            "type": "heatmapgl"
           }
          ],
          "histogram": [
           {
            "marker": {
             "pattern": {
              "fillmode": "overlay",
              "size": 10,
              "solidity": 0.2
             }
            },
            "type": "histogram"
           }
          ],
          "histogram2d": [
           {
            "colorbar": {
             "outlinewidth": 0,
             "ticks": ""
            },
            "colorscale": [
             [
              0,
              "#0d0887"
             ],
             [
              0.1111111111111111,
              "#46039f"
             ],
             [
              0.2222222222222222,
              "#7201a8"
             ],
             [
              0.3333333333333333,
              "#9c179e"
             ],
             [
              0.4444444444444444,
              "#bd3786"
             ],
             [
              0.5555555555555556,
              "#d8576b"
             ],
             [
              0.6666666666666666,
              "#ed7953"
             ],
             [
              0.7777777777777778,
              "#fb9f3a"
             ],
             [
              0.8888888888888888,
              "#fdca26"
             ],
             [
              1,
              "#f0f921"
             ]
            ],
            "type": "histogram2d"
           }
          ],
          "histogram2dcontour": [
           {
            "colorbar": {
             "outlinewidth": 0,
             "ticks": ""
            },
            "colorscale": [
             [
              0,
              "#0d0887"
             ],
             [
              0.1111111111111111,
              "#46039f"
             ],
             [
              0.2222222222222222,
              "#7201a8"
             ],
             [
              0.3333333333333333,
              "#9c179e"
             ],
             [
              0.4444444444444444,
              "#bd3786"
             ],
             [
              0.5555555555555556,
              "#d8576b"
             ],
             [
              0.6666666666666666,
              "#ed7953"
             ],
             [
              0.7777777777777778,
              "#fb9f3a"
             ],
             [
              0.8888888888888888,
              "#fdca26"
             ],
             [
              1,
              "#f0f921"
             ]
            ],
            "type": "histogram2dcontour"
           }
          ],
          "mesh3d": [
           {
            "colorbar": {
             "outlinewidth": 0,
             "ticks": ""
            },
            "type": "mesh3d"
           }
          ],
          "parcoords": [
           {
            "line": {
             "colorbar": {
              "outlinewidth": 0,
              "ticks": ""
             }
            },
            "type": "parcoords"
           }
          ],
          "pie": [
           {
            "automargin": true,
            "type": "pie"
           }
          ],
          "scatter": [
           {
            "marker": {
             "colorbar": {
              "outlinewidth": 0,
              "ticks": ""
             }
            },
            "type": "scatter"
           }
          ],
          "scatter3d": [
           {
            "line": {
             "colorbar": {
              "outlinewidth": 0,
              "ticks": ""
             }
            },
            "marker": {
             "colorbar": {
              "outlinewidth": 0,
              "ticks": ""
             }
            },
            "type": "scatter3d"
           }
          ],
          "scattercarpet": [
           {
            "marker": {
             "colorbar": {
              "outlinewidth": 0,
              "ticks": ""
             }
            },
            "type": "scattercarpet"
           }
          ],
          "scattergeo": [
           {
            "marker": {
             "colorbar": {
              "outlinewidth": 0,
              "ticks": ""
             }
            },
            "type": "scattergeo"
           }
          ],
          "scattergl": [
           {
            "marker": {
             "colorbar": {
              "outlinewidth": 0,
              "ticks": ""
             }
            },
            "type": "scattergl"
           }
          ],
          "scattermapbox": [
           {
            "marker": {
             "colorbar": {
              "outlinewidth": 0,
              "ticks": ""
             }
            },
            "type": "scattermapbox"
           }
          ],
          "scatterpolar": [
           {
            "marker": {
             "colorbar": {
              "outlinewidth": 0,
              "ticks": ""
             }
            },
            "type": "scatterpolar"
           }
          ],
          "scatterpolargl": [
           {
            "marker": {
             "colorbar": {
              "outlinewidth": 0,
              "ticks": ""
             }
            },
            "type": "scatterpolargl"
           }
          ],
          "scatterternary": [
           {
            "marker": {
             "colorbar": {
              "outlinewidth": 0,
              "ticks": ""
             }
            },
            "type": "scatterternary"
           }
          ],
          "surface": [
           {
            "colorbar": {
             "outlinewidth": 0,
             "ticks": ""
            },
            "colorscale": [
             [
              0,
              "#0d0887"
             ],
             [
              0.1111111111111111,
              "#46039f"
             ],
             [
              0.2222222222222222,
              "#7201a8"
             ],
             [
              0.3333333333333333,
              "#9c179e"
             ],
             [
              0.4444444444444444,
              "#bd3786"
             ],
             [
              0.5555555555555556,
              "#d8576b"
             ],
             [
              0.6666666666666666,
              "#ed7953"
             ],
             [
              0.7777777777777778,
              "#fb9f3a"
             ],
             [
              0.8888888888888888,
              "#fdca26"
             ],
             [
              1,
              "#f0f921"
             ]
            ],
            "type": "surface"
           }
          ],
          "table": [
           {
            "cells": {
             "fill": {
              "color": "#EBF0F8"
             },
             "line": {
              "color": "white"
             }
            },
            "header": {
             "fill": {
              "color": "#C8D4E3"
             },
             "line": {
              "color": "white"
             }
            },
            "type": "table"
           }
          ]
         },
         "layout": {
          "annotationdefaults": {
           "arrowcolor": "#2a3f5f",
           "arrowhead": 0,
           "arrowwidth": 1
          },
          "autotypenumbers": "strict",
          "coloraxis": {
           "colorbar": {
            "outlinewidth": 0,
            "ticks": ""
           }
          },
          "colorscale": {
           "diverging": [
            [
             0,
             "#8e0152"
            ],
            [
             0.1,
             "#c51b7d"
            ],
            [
             0.2,
             "#de77ae"
            ],
            [
             0.3,
             "#f1b6da"
            ],
            [
             0.4,
             "#fde0ef"
            ],
            [
             0.5,
             "#f7f7f7"
            ],
            [
             0.6,
             "#e6f5d0"
            ],
            [
             0.7,
             "#b8e186"
            ],
            [
             0.8,
             "#7fbc41"
            ],
            [
             0.9,
             "#4d9221"
            ],
            [
             1,
             "#276419"
            ]
           ],
           "sequential": [
            [
             0,
             "#0d0887"
            ],
            [
             0.1111111111111111,
             "#46039f"
            ],
            [
             0.2222222222222222,
             "#7201a8"
            ],
            [
             0.3333333333333333,
             "#9c179e"
            ],
            [
             0.4444444444444444,
             "#bd3786"
            ],
            [
             0.5555555555555556,
             "#d8576b"
            ],
            [
             0.6666666666666666,
             "#ed7953"
            ],
            [
             0.7777777777777778,
             "#fb9f3a"
            ],
            [
             0.8888888888888888,
             "#fdca26"
            ],
            [
             1,
             "#f0f921"
            ]
           ],
           "sequentialminus": [
            [
             0,
             "#0d0887"
            ],
            [
             0.1111111111111111,
             "#46039f"
            ],
            [
             0.2222222222222222,
             "#7201a8"
            ],
            [
             0.3333333333333333,
             "#9c179e"
            ],
            [
             0.4444444444444444,
             "#bd3786"
            ],
            [
             0.5555555555555556,
             "#d8576b"
            ],
            [
             0.6666666666666666,
             "#ed7953"
            ],
            [
             0.7777777777777778,
             "#fb9f3a"
            ],
            [
             0.8888888888888888,
             "#fdca26"
            ],
            [
             1,
             "#f0f921"
            ]
           ]
          },
          "colorway": [
           "#636efa",
           "#EF553B",
           "#00cc96",
           "#ab63fa",
           "#FFA15A",
           "#19d3f3",
           "#FF6692",
           "#B6E880",
           "#FF97FF",
           "#FECB52"
          ],
          "font": {
           "color": "#2a3f5f"
          },
          "geo": {
           "bgcolor": "white",
           "lakecolor": "white",
           "landcolor": "#E5ECF6",
           "showlakes": true,
           "showland": true,
           "subunitcolor": "white"
          },
          "hoverlabel": {
           "align": "left"
          },
          "hovermode": "closest",
          "mapbox": {
           "style": "light"
          },
          "paper_bgcolor": "white",
          "plot_bgcolor": "#E5ECF6",
          "polar": {
           "angularaxis": {
            "gridcolor": "white",
            "linecolor": "white",
            "ticks": ""
           },
           "bgcolor": "#E5ECF6",
           "radialaxis": {
            "gridcolor": "white",
            "linecolor": "white",
            "ticks": ""
           }
          },
          "scene": {
           "xaxis": {
            "backgroundcolor": "#E5ECF6",
            "gridcolor": "white",
            "gridwidth": 2,
            "linecolor": "white",
            "showbackground": true,
            "ticks": "",
            "zerolinecolor": "white"
           },
           "yaxis": {
            "backgroundcolor": "#E5ECF6",
            "gridcolor": "white",
            "gridwidth": 2,
            "linecolor": "white",
            "showbackground": true,
            "ticks": "",
            "zerolinecolor": "white"
           },
           "zaxis": {
            "backgroundcolor": "#E5ECF6",
            "gridcolor": "white",
            "gridwidth": 2,
            "linecolor": "white",
            "showbackground": true,
            "ticks": "",
            "zerolinecolor": "white"
           }
          },
          "shapedefaults": {
           "line": {
            "color": "#2a3f5f"
           }
          },
          "ternary": {
           "aaxis": {
            "gridcolor": "white",
            "linecolor": "white",
            "ticks": ""
           },
           "baxis": {
            "gridcolor": "white",
            "linecolor": "white",
            "ticks": ""
           },
           "bgcolor": "#E5ECF6",
           "caxis": {
            "gridcolor": "white",
            "linecolor": "white",
            "ticks": ""
           }
          },
          "title": {
           "x": 0.05
          },
          "xaxis": {
           "automargin": true,
           "gridcolor": "white",
           "linecolor": "white",
           "ticks": "",
           "title": {
            "standoff": 15
           },
           "zerolinecolor": "white",
           "zerolinewidth": 2
          },
          "yaxis": {
           "automargin": true,
           "gridcolor": "white",
           "linecolor": "white",
           "ticks": "",
           "title": {
            "standoff": 15
           },
           "zerolinecolor": "white",
           "zerolinewidth": 2
          }
         }
        },
        "title": {
         "text": "0P00016N6T.TO Historical Price"
        },
        "xaxis": {
         "anchor": "y",
         "domain": [
          0,
          1
         ],
         "title": {
          "text": "date"
         }
        },
        "yaxis": {
         "anchor": "x",
         "domain": [
          0,
          1
         ],
         "title": {
          "text": "value"
         }
        }
       }
      },
      "text/html": [
       "<div>                            <div id=\"59276cdf-aa17-4aee-9b4d-132d4856a63a\" class=\"plotly-graph-div\" style=\"height:525px; width:100%;\"></div>            <script type=\"text/javascript\">                require([\"plotly\"], function(Plotly) {                    window.PLOTLYENV=window.PLOTLYENV || {};                                    if (document.getElementById(\"59276cdf-aa17-4aee-9b4d-132d4856a63a\")) {                    Plotly.newPlot(                        \"59276cdf-aa17-4aee-9b4d-132d4856a63a\",                        [{\"hovertemplate\":\"variable=open<br>date=%{x}<br>value=%{y}<extra></extra>\",\"legendgroup\":\"open\",\"line\":{\"color\":\"#636efa\",\"dash\":\"solid\"},\"mode\":\"lines\",\"name\":\"open\",\"orientation\":\"v\",\"showlegend\":true,\"type\":\"scatter\",\"x\":[\"2021-10-25\",\"2021-10-26\",\"2021-10-27\",\"2021-10-28\",\"2021-10-29\",\"2021-11-01\",\"2021-11-02\",\"2021-11-03\",\"2021-11-04\",\"2021-11-05\",\"2021-11-08\",\"2021-11-09\",\"2021-11-10\",\"2021-11-11\",\"2021-11-12\",\"2021-11-15\",\"2021-11-16\",\"2021-11-17\",\"2021-11-18\",\"2021-11-19\"],\"xaxis\":\"x\",\"y\":[39.779998779296875,39.31999969482422,38.72999954223633,39.0,39.36000061035156,39.70000076293945,39.4900016784668,39.630001068115234,40.40999984741211,39.93000030517578,39.7599983215332,40.810001373291016,39.869998931884766,40.7400016784668,41.7599983215332,41.630001068115234,42.540000915527344,42.09000015258789,41.72999954223633,41.630001068115234],\"yaxis\":\"y\"},{\"hovertemplate\":\"variable=high<br>date=%{x}<br>value=%{y}<extra></extra>\",\"legendgroup\":\"high\",\"line\":{\"color\":\"#EF553B\",\"dash\":\"solid\"},\"mode\":\"lines\",\"name\":\"high\",\"orientation\":\"v\",\"showlegend\":true,\"type\":\"scatter\",\"x\":[\"2021-10-25\",\"2021-10-26\",\"2021-10-27\",\"2021-10-28\",\"2021-10-29\",\"2021-11-01\",\"2021-11-02\",\"2021-11-03\",\"2021-11-04\",\"2021-11-05\",\"2021-11-08\",\"2021-11-09\",\"2021-11-10\",\"2021-11-11\",\"2021-11-12\",\"2021-11-15\",\"2021-11-16\",\"2021-11-17\",\"2021-11-18\",\"2021-11-19\"],\"xaxis\":\"x\",\"y\":[39.779998779296875,39.31999969482422,38.72999954223633,39.0,39.36000061035156,39.70000076293945,39.4900016784668,39.630001068115234,40.40999984741211,39.93000030517578,39.7599983215332,40.810001373291016,39.869998931884766,40.7400016784668,41.7599983215332,41.630001068115234,42.540000915527344,42.09000015258789,41.72999954223633,41.630001068115234],\"yaxis\":\"y\"},{\"hovertemplate\":\"variable=close<br>date=%{x}<br>value=%{y}<extra></extra>\",\"legendgroup\":\"close\",\"line\":{\"color\":\"#00cc96\",\"dash\":\"solid\"},\"mode\":\"lines\",\"name\":\"close\",\"orientation\":\"v\",\"showlegend\":true,\"type\":\"scatter\",\"x\":[\"2021-10-25\",\"2021-10-26\",\"2021-10-27\",\"2021-10-28\",\"2021-10-29\",\"2021-11-01\",\"2021-11-02\",\"2021-11-03\",\"2021-11-04\",\"2021-11-05\",\"2021-11-08\",\"2021-11-09\",\"2021-11-10\",\"2021-11-11\",\"2021-11-12\",\"2021-11-15\",\"2021-11-16\",\"2021-11-17\",\"2021-11-18\",\"2021-11-19\"],\"xaxis\":\"x\",\"y\":[39.779998779296875,39.31999969482422,38.72999954223633,39.0,39.36000061035156,39.70000076293945,39.4900016784668,39.630001068115234,40.40999984741211,39.93000030517578,39.7599983215332,40.810001373291016,39.869998931884766,40.7400016784668,41.7599983215332,41.630001068115234,42.540000915527344,42.09000015258789,41.72999954223633,41.630001068115234],\"yaxis\":\"y\"},{\"hovertemplate\":\"variable=low<br>date=%{x}<br>value=%{y}<extra></extra>\",\"legendgroup\":\"low\",\"line\":{\"color\":\"#ab63fa\",\"dash\":\"solid\"},\"mode\":\"lines\",\"name\":\"low\",\"orientation\":\"v\",\"showlegend\":true,\"type\":\"scatter\",\"x\":[\"2021-10-25\",\"2021-10-26\",\"2021-10-27\",\"2021-10-28\",\"2021-10-29\",\"2021-11-01\",\"2021-11-02\",\"2021-11-03\",\"2021-11-04\",\"2021-11-05\",\"2021-11-08\",\"2021-11-09\",\"2021-11-10\",\"2021-11-11\",\"2021-11-12\",\"2021-11-15\",\"2021-11-16\",\"2021-11-17\",\"2021-11-18\",\"2021-11-19\"],\"xaxis\":\"x\",\"y\":[39.779998779296875,39.31999969482422,38.72999954223633,39.0,39.36000061035156,39.70000076293945,39.4900016784668,39.630001068115234,40.40999984741211,39.93000030517578,39.7599983215332,40.810001373291016,39.869998931884766,40.7400016784668,41.7599983215332,41.630001068115234,42.540000915527344,42.09000015258789,41.72999954223633,41.630001068115234],\"yaxis\":\"y\"},{\"hovertemplate\":\"variable=adjclose<br>date=%{x}<br>value=%{y}<extra></extra>\",\"legendgroup\":\"adjclose\",\"line\":{\"color\":\"#FFA15A\",\"dash\":\"solid\"},\"mode\":\"lines\",\"name\":\"adjclose\",\"orientation\":\"v\",\"showlegend\":true,\"type\":\"scatter\",\"x\":[\"2021-10-25\",\"2021-10-26\",\"2021-10-27\",\"2021-10-28\",\"2021-10-29\",\"2021-11-01\",\"2021-11-02\",\"2021-11-03\",\"2021-11-04\",\"2021-11-05\",\"2021-11-08\",\"2021-11-09\",\"2021-11-10\",\"2021-11-11\",\"2021-11-12\",\"2021-11-15\",\"2021-11-16\",\"2021-11-17\",\"2021-11-18\",\"2021-11-19\"],\"xaxis\":\"x\",\"y\":[39.779998779296875,39.31999969482422,38.72999954223633,39.0,39.36000061035156,39.70000076293945,39.4900016784668,39.630001068115234,40.40999984741211,39.93000030517578,39.7599983215332,40.810001373291016,39.869998931884766,40.7400016784668,41.7599983215332,41.630001068115234,42.540000915527344,42.09000015258789,41.72999954223633,41.630001068115234],\"yaxis\":\"y\"}],                        {\"legend\":{\"title\":{\"text\":\"variable\"},\"tracegroupgap\":0},\"template\":{\"data\":{\"bar\":[{\"error_x\":{\"color\":\"#2a3f5f\"},\"error_y\":{\"color\":\"#2a3f5f\"},\"marker\":{\"line\":{\"color\":\"#E5ECF6\",\"width\":0.5},\"pattern\":{\"fillmode\":\"overlay\",\"size\":10,\"solidity\":0.2}},\"type\":\"bar\"}],\"barpolar\":[{\"marker\":{\"line\":{\"color\":\"#E5ECF6\",\"width\":0.5},\"pattern\":{\"fillmode\":\"overlay\",\"size\":10,\"solidity\":0.2}},\"type\":\"barpolar\"}],\"carpet\":[{\"aaxis\":{\"endlinecolor\":\"#2a3f5f\",\"gridcolor\":\"white\",\"linecolor\":\"white\",\"minorgridcolor\":\"white\",\"startlinecolor\":\"#2a3f5f\"},\"baxis\":{\"endlinecolor\":\"#2a3f5f\",\"gridcolor\":\"white\",\"linecolor\":\"white\",\"minorgridcolor\":\"white\",\"startlinecolor\":\"#2a3f5f\"},\"type\":\"carpet\"}],\"choropleth\":[{\"colorbar\":{\"outlinewidth\":0,\"ticks\":\"\"},\"type\":\"choropleth\"}],\"contour\":[{\"colorbar\":{\"outlinewidth\":0,\"ticks\":\"\"},\"colorscale\":[[0.0,\"#0d0887\"],[0.1111111111111111,\"#46039f\"],[0.2222222222222222,\"#7201a8\"],[0.3333333333333333,\"#9c179e\"],[0.4444444444444444,\"#bd3786\"],[0.5555555555555556,\"#d8576b\"],[0.6666666666666666,\"#ed7953\"],[0.7777777777777778,\"#fb9f3a\"],[0.8888888888888888,\"#fdca26\"],[1.0,\"#f0f921\"]],\"type\":\"contour\"}],\"contourcarpet\":[{\"colorbar\":{\"outlinewidth\":0,\"ticks\":\"\"},\"type\":\"contourcarpet\"}],\"heatmap\":[{\"colorbar\":{\"outlinewidth\":0,\"ticks\":\"\"},\"colorscale\":[[0.0,\"#0d0887\"],[0.1111111111111111,\"#46039f\"],[0.2222222222222222,\"#7201a8\"],[0.3333333333333333,\"#9c179e\"],[0.4444444444444444,\"#bd3786\"],[0.5555555555555556,\"#d8576b\"],[0.6666666666666666,\"#ed7953\"],[0.7777777777777778,\"#fb9f3a\"],[0.8888888888888888,\"#fdca26\"],[1.0,\"#f0f921\"]],\"type\":\"heatmap\"}],\"heatmapgl\":[{\"colorbar\":{\"outlinewidth\":0,\"ticks\":\"\"},\"colorscale\":[[0.0,\"#0d0887\"],[0.1111111111111111,\"#46039f\"],[0.2222222222222222,\"#7201a8\"],[0.3333333333333333,\"#9c179e\"],[0.4444444444444444,\"#bd3786\"],[0.5555555555555556,\"#d8576b\"],[0.6666666666666666,\"#ed7953\"],[0.7777777777777778,\"#fb9f3a\"],[0.8888888888888888,\"#fdca26\"],[1.0,\"#f0f921\"]],\"type\":\"heatmapgl\"}],\"histogram\":[{\"marker\":{\"pattern\":{\"fillmode\":\"overlay\",\"size\":10,\"solidity\":0.2}},\"type\":\"histogram\"}],\"histogram2d\":[{\"colorbar\":{\"outlinewidth\":0,\"ticks\":\"\"},\"colorscale\":[[0.0,\"#0d0887\"],[0.1111111111111111,\"#46039f\"],[0.2222222222222222,\"#7201a8\"],[0.3333333333333333,\"#9c179e\"],[0.4444444444444444,\"#bd3786\"],[0.5555555555555556,\"#d8576b\"],[0.6666666666666666,\"#ed7953\"],[0.7777777777777778,\"#fb9f3a\"],[0.8888888888888888,\"#fdca26\"],[1.0,\"#f0f921\"]],\"type\":\"histogram2d\"}],\"histogram2dcontour\":[{\"colorbar\":{\"outlinewidth\":0,\"ticks\":\"\"},\"colorscale\":[[0.0,\"#0d0887\"],[0.1111111111111111,\"#46039f\"],[0.2222222222222222,\"#7201a8\"],[0.3333333333333333,\"#9c179e\"],[0.4444444444444444,\"#bd3786\"],[0.5555555555555556,\"#d8576b\"],[0.6666666666666666,\"#ed7953\"],[0.7777777777777778,\"#fb9f3a\"],[0.8888888888888888,\"#fdca26\"],[1.0,\"#f0f921\"]],\"type\":\"histogram2dcontour\"}],\"mesh3d\":[{\"colorbar\":{\"outlinewidth\":0,\"ticks\":\"\"},\"type\":\"mesh3d\"}],\"parcoords\":[{\"line\":{\"colorbar\":{\"outlinewidth\":0,\"ticks\":\"\"}},\"type\":\"parcoords\"}],\"pie\":[{\"automargin\":true,\"type\":\"pie\"}],\"scatter\":[{\"marker\":{\"colorbar\":{\"outlinewidth\":0,\"ticks\":\"\"}},\"type\":\"scatter\"}],\"scatter3d\":[{\"line\":{\"colorbar\":{\"outlinewidth\":0,\"ticks\":\"\"}},\"marker\":{\"colorbar\":{\"outlinewidth\":0,\"ticks\":\"\"}},\"type\":\"scatter3d\"}],\"scattercarpet\":[{\"marker\":{\"colorbar\":{\"outlinewidth\":0,\"ticks\":\"\"}},\"type\":\"scattercarpet\"}],\"scattergeo\":[{\"marker\":{\"colorbar\":{\"outlinewidth\":0,\"ticks\":\"\"}},\"type\":\"scattergeo\"}],\"scattergl\":[{\"marker\":{\"colorbar\":{\"outlinewidth\":0,\"ticks\":\"\"}},\"type\":\"scattergl\"}],\"scattermapbox\":[{\"marker\":{\"colorbar\":{\"outlinewidth\":0,\"ticks\":\"\"}},\"type\":\"scattermapbox\"}],\"scatterpolar\":[{\"marker\":{\"colorbar\":{\"outlinewidth\":0,\"ticks\":\"\"}},\"type\":\"scatterpolar\"}],\"scatterpolargl\":[{\"marker\":{\"colorbar\":{\"outlinewidth\":0,\"ticks\":\"\"}},\"type\":\"scatterpolargl\"}],\"scatterternary\":[{\"marker\":{\"colorbar\":{\"outlinewidth\":0,\"ticks\":\"\"}},\"type\":\"scatterternary\"}],\"surface\":[{\"colorbar\":{\"outlinewidth\":0,\"ticks\":\"\"},\"colorscale\":[[0.0,\"#0d0887\"],[0.1111111111111111,\"#46039f\"],[0.2222222222222222,\"#7201a8\"],[0.3333333333333333,\"#9c179e\"],[0.4444444444444444,\"#bd3786\"],[0.5555555555555556,\"#d8576b\"],[0.6666666666666666,\"#ed7953\"],[0.7777777777777778,\"#fb9f3a\"],[0.8888888888888888,\"#fdca26\"],[1.0,\"#f0f921\"]],\"type\":\"surface\"}],\"table\":[{\"cells\":{\"fill\":{\"color\":\"#EBF0F8\"},\"line\":{\"color\":\"white\"}},\"header\":{\"fill\":{\"color\":\"#C8D4E3\"},\"line\":{\"color\":\"white\"}},\"type\":\"table\"}]},\"layout\":{\"annotationdefaults\":{\"arrowcolor\":\"#2a3f5f\",\"arrowhead\":0,\"arrowwidth\":1},\"autotypenumbers\":\"strict\",\"coloraxis\":{\"colorbar\":{\"outlinewidth\":0,\"ticks\":\"\"}},\"colorscale\":{\"diverging\":[[0,\"#8e0152\"],[0.1,\"#c51b7d\"],[0.2,\"#de77ae\"],[0.3,\"#f1b6da\"],[0.4,\"#fde0ef\"],[0.5,\"#f7f7f7\"],[0.6,\"#e6f5d0\"],[0.7,\"#b8e186\"],[0.8,\"#7fbc41\"],[0.9,\"#4d9221\"],[1,\"#276419\"]],\"sequential\":[[0.0,\"#0d0887\"],[0.1111111111111111,\"#46039f\"],[0.2222222222222222,\"#7201a8\"],[0.3333333333333333,\"#9c179e\"],[0.4444444444444444,\"#bd3786\"],[0.5555555555555556,\"#d8576b\"],[0.6666666666666666,\"#ed7953\"],[0.7777777777777778,\"#fb9f3a\"],[0.8888888888888888,\"#fdca26\"],[1.0,\"#f0f921\"]],\"sequentialminus\":[[0.0,\"#0d0887\"],[0.1111111111111111,\"#46039f\"],[0.2222222222222222,\"#7201a8\"],[0.3333333333333333,\"#9c179e\"],[0.4444444444444444,\"#bd3786\"],[0.5555555555555556,\"#d8576b\"],[0.6666666666666666,\"#ed7953\"],[0.7777777777777778,\"#fb9f3a\"],[0.8888888888888888,\"#fdca26\"],[1.0,\"#f0f921\"]]},\"colorway\":[\"#636efa\",\"#EF553B\",\"#00cc96\",\"#ab63fa\",\"#FFA15A\",\"#19d3f3\",\"#FF6692\",\"#B6E880\",\"#FF97FF\",\"#FECB52\"],\"font\":{\"color\":\"#2a3f5f\"},\"geo\":{\"bgcolor\":\"white\",\"lakecolor\":\"white\",\"landcolor\":\"#E5ECF6\",\"showlakes\":true,\"showland\":true,\"subunitcolor\":\"white\"},\"hoverlabel\":{\"align\":\"left\"},\"hovermode\":\"closest\",\"mapbox\":{\"style\":\"light\"},\"paper_bgcolor\":\"white\",\"plot_bgcolor\":\"#E5ECF6\",\"polar\":{\"angularaxis\":{\"gridcolor\":\"white\",\"linecolor\":\"white\",\"ticks\":\"\"},\"bgcolor\":\"#E5ECF6\",\"radialaxis\":{\"gridcolor\":\"white\",\"linecolor\":\"white\",\"ticks\":\"\"}},\"scene\":{\"xaxis\":{\"backgroundcolor\":\"#E5ECF6\",\"gridcolor\":\"white\",\"gridwidth\":2,\"linecolor\":\"white\",\"showbackground\":true,\"ticks\":\"\",\"zerolinecolor\":\"white\"},\"yaxis\":{\"backgroundcolor\":\"#E5ECF6\",\"gridcolor\":\"white\",\"gridwidth\":2,\"linecolor\":\"white\",\"showbackground\":true,\"ticks\":\"\",\"zerolinecolor\":\"white\"},\"zaxis\":{\"backgroundcolor\":\"#E5ECF6\",\"gridcolor\":\"white\",\"gridwidth\":2,\"linecolor\":\"white\",\"showbackground\":true,\"ticks\":\"\",\"zerolinecolor\":\"white\"}},\"shapedefaults\":{\"line\":{\"color\":\"#2a3f5f\"}},\"ternary\":{\"aaxis\":{\"gridcolor\":\"white\",\"linecolor\":\"white\",\"ticks\":\"\"},\"baxis\":{\"gridcolor\":\"white\",\"linecolor\":\"white\",\"ticks\":\"\"},\"bgcolor\":\"#E5ECF6\",\"caxis\":{\"gridcolor\":\"white\",\"linecolor\":\"white\",\"ticks\":\"\"}},\"title\":{\"x\":0.05},\"xaxis\":{\"automargin\":true,\"gridcolor\":\"white\",\"linecolor\":\"white\",\"ticks\":\"\",\"title\":{\"standoff\":15},\"zerolinecolor\":\"white\",\"zerolinewidth\":2},\"yaxis\":{\"automargin\":true,\"gridcolor\":\"white\",\"linecolor\":\"white\",\"ticks\":\"\",\"title\":{\"standoff\":15},\"zerolinecolor\":\"white\",\"zerolinewidth\":2}}},\"title\":{\"text\":\"0P00016N6T.TO Historical Price\"},\"xaxis\":{\"anchor\":\"y\",\"domain\":[0.0,1.0],\"title\":{\"text\":\"date\"}},\"yaxis\":{\"anchor\":\"x\",\"domain\":[0.0,1.0],\"title\":{\"text\":\"value\"}}},                        {\"responsive\": true}                    ).then(function(){\n",
       "                            \n",
       "var gd = document.getElementById('59276cdf-aa17-4aee-9b4d-132d4856a63a');\n",
       "var x = new MutationObserver(function (mutations, observer) {{\n",
       "        var display = window.getComputedStyle(gd).display;\n",
       "        if (!display || display === 'none') {{\n",
       "            console.log([gd, 'removed!']);\n",
       "            Plotly.purge(gd);\n",
       "            observer.disconnect();\n",
       "        }}\n",
       "}});\n",
       "\n",
       "// Listen for the removal of the full notebook cells\n",
       "var notebookContainer = gd.closest('#notebook-container');\n",
       "if (notebookContainer) {{\n",
       "    x.observe(notebookContainer, {childList: true});\n",
       "}}\n",
       "\n",
       "// Listen for the clearing of the current output cell\n",
       "var outputEl = gd.closest('.output');\n",
       "if (outputEl) {{\n",
       "    x.observe(outputEl, {childList: true});\n",
       "}}\n",
       "\n",
       "                        })                };                });            </script>        </div>"
      ]
     },
     "metadata": {},
     "output_type": "display_data"
    },
    {
     "name": "stdout",
     "output_type": "stream",
     "text": [
      "=============================== 0P00016N6T.TO =================================\n",
      "\n",
      "-------------------------- Summary Details ----------------------------\n"
     ]
    },
    {
     "data": {
      "text/html": [
       "<div>\n",
       "<style scoped>\n",
       "    .dataframe tbody tr th:only-of-type {\n",
       "        vertical-align: middle;\n",
       "    }\n",
       "\n",
       "    .dataframe tbody tr th {\n",
       "        vertical-align: top;\n",
       "    }\n",
       "\n",
       "    .dataframe thead th {\n",
       "        text-align: right;\n",
       "    }\n",
       "</style>\n",
       "<table border=\"1\" class=\"dataframe\">\n",
       "  <thead>\n",
       "    <tr style=\"text-align: right;\">\n",
       "      <th></th>\n",
       "      <th>Value</th>\n",
       "    </tr>\n",
       "  </thead>\n",
       "  <tbody>\n",
       "    <tr>\n",
       "      <th>totalAssets</th>\n",
       "      <td>2024229632</td>\n",
       "    </tr>\n",
       "    <tr>\n",
       "      <th>previousClose</th>\n",
       "      <td>41.73</td>\n",
       "    </tr>\n",
       "    <tr>\n",
       "      <th>open</th>\n",
       "      <td>NaN</td>\n",
       "    </tr>\n",
       "    <tr>\n",
       "      <th>fiftyDayAverage</th>\n",
       "      <td>39.279</td>\n",
       "    </tr>\n",
       "    <tr>\n",
       "      <th>fiftyDayAverage</th>\n",
       "      <td>39.279</td>\n",
       "    </tr>\n",
       "    <tr>\n",
       "      <th>fiftyTwoWeekLow</th>\n",
       "      <td>16.73</td>\n",
       "    </tr>\n",
       "    <tr>\n",
       "      <th>fiftyTwoWeekHigh</th>\n",
       "      <td>38.07</td>\n",
       "    </tr>\n",
       "    <tr>\n",
       "      <th>twoHundredDayAverage</th>\n",
       "      <td>36.1896</td>\n",
       "    </tr>\n",
       "    <tr>\n",
       "      <th>volume</th>\n",
       "      <td>NaN</td>\n",
       "    </tr>\n",
       "    <tr>\n",
       "      <th>averageVolume</th>\n",
       "      <td>0</td>\n",
       "    </tr>\n",
       "    <tr>\n",
       "      <th>averageVolume10days</th>\n",
       "      <td>0</td>\n",
       "    </tr>\n",
       "    <tr>\n",
       "      <th>averageDailyVolume10Day</th>\n",
       "      <td>0</td>\n",
       "    </tr>\n",
       "  </tbody>\n",
       "</table>\n",
       "</div>"
      ],
      "text/plain": [
       "                              Value\n",
       "totalAssets              2024229632\n",
       "previousClose                 41.73\n",
       "open                            NaN\n",
       "fiftyDayAverage              39.279\n",
       "fiftyDayAverage              39.279\n",
       "fiftyTwoWeekLow               16.73\n",
       "fiftyTwoWeekHigh              38.07\n",
       "twoHundredDayAverage        36.1896\n",
       "volume                          NaN\n",
       "averageVolume                     0\n",
       "averageVolume10days               0\n",
       "averageDailyVolume10Day           0"
      ]
     },
     "metadata": {},
     "output_type": "display_data"
    },
    {
     "name": "stdout",
     "output_type": "stream",
     "text": [
      "-------------------------- Key Factor ----------------------------\n"
     ]
    },
    {
     "data": {
      "text/html": [
       "<div>\n",
       "<style scoped>\n",
       "    .dataframe tbody tr th:only-of-type {\n",
       "        vertical-align: middle;\n",
       "    }\n",
       "\n",
       "    .dataframe tbody tr th {\n",
       "        vertical-align: top;\n",
       "    }\n",
       "\n",
       "    .dataframe thead th {\n",
       "        text-align: right;\n",
       "    }\n",
       "</style>\n",
       "<table border=\"1\" class=\"dataframe\">\n",
       "  <thead>\n",
       "    <tr style=\"text-align: right;\">\n",
       "      <th></th>\n",
       "      <th>Value</th>\n",
       "    </tr>\n",
       "  </thead>\n",
       "  <tbody>\n",
       "    <tr>\n",
       "      <th>category</th>\n",
       "      <td>None</td>\n",
       "    </tr>\n",
       "    <tr>\n",
       "      <th>fundFamily</th>\n",
       "      <td>None</td>\n",
       "    </tr>\n",
       "    <tr>\n",
       "      <th>fundInceptionDate</th>\n",
       "      <td>2015-10-19 20:00:00</td>\n",
       "    </tr>\n",
       "    <tr>\n",
       "      <th>legalType</th>\n",
       "      <td>None</td>\n",
       "    </tr>\n",
       "  </tbody>\n",
       "</table>\n",
       "</div>"
      ],
      "text/plain": [
       "                                 Value\n",
       "category                          None\n",
       "fundFamily                        None\n",
       "fundInceptionDate  2015-10-19 20:00:00\n",
       "legalType                         None"
      ]
     },
     "metadata": {},
     "output_type": "display_data"
    },
    {
     "name": "stdout",
     "output_type": "stream",
     "text": [
      "-------------------------- Fund Sector ----------------------------\n"
     ]
    },
    {
     "data": {
      "text/html": [
       "<div>\n",
       "<style scoped>\n",
       "    .dataframe tbody tr th:only-of-type {\n",
       "        vertical-align: middle;\n",
       "    }\n",
       "\n",
       "    .dataframe tbody tr th {\n",
       "        vertical-align: top;\n",
       "    }\n",
       "\n",
       "    .dataframe thead th {\n",
       "        text-align: right;\n",
       "    }\n",
       "</style>\n",
       "<table border=\"1\" class=\"dataframe\">\n",
       "  <thead>\n",
       "    <tr style=\"text-align: right;\">\n",
       "      <th></th>\n",
       "      <th>Fund Sector</th>\n",
       "      <th>Percentage</th>\n",
       "    </tr>\n",
       "  </thead>\n",
       "  <tbody>\n",
       "    <tr>\n",
       "      <th>4</th>\n",
       "      <td>technology</td>\n",
       "      <td>0.5880</td>\n",
       "    </tr>\n",
       "    <tr>\n",
       "      <th>5</th>\n",
       "      <td>communication_services</td>\n",
       "      <td>0.1770</td>\n",
       "    </tr>\n",
       "    <tr>\n",
       "      <th>1</th>\n",
       "      <td>consumer_cyclical</td>\n",
       "      <td>0.1681</td>\n",
       "    </tr>\n",
       "    <tr>\n",
       "      <th>6</th>\n",
       "      <td>financial_services</td>\n",
       "      <td>0.0533</td>\n",
       "    </tr>\n",
       "    <tr>\n",
       "      <th>0</th>\n",
       "      <td>realestate</td>\n",
       "      <td>0.0135</td>\n",
       "    </tr>\n",
       "    <tr>\n",
       "      <th>2</th>\n",
       "      <td>basic_materials</td>\n",
       "      <td>0.0000</td>\n",
       "    </tr>\n",
       "    <tr>\n",
       "      <th>3</th>\n",
       "      <td>consumer_defensive</td>\n",
       "      <td>0.0000</td>\n",
       "    </tr>\n",
       "    <tr>\n",
       "      <th>7</th>\n",
       "      <td>utilities</td>\n",
       "      <td>0.0000</td>\n",
       "    </tr>\n",
       "    <tr>\n",
       "      <th>8</th>\n",
       "      <td>industrials</td>\n",
       "      <td>0.0000</td>\n",
       "    </tr>\n",
       "    <tr>\n",
       "      <th>9</th>\n",
       "      <td>energy</td>\n",
       "      <td>0.0000</td>\n",
       "    </tr>\n",
       "    <tr>\n",
       "      <th>10</th>\n",
       "      <td>healthcare</td>\n",
       "      <td>0.0000</td>\n",
       "    </tr>\n",
       "  </tbody>\n",
       "</table>\n",
       "</div>"
      ],
      "text/plain": [
       "               Fund Sector  Percentage\n",
       "4               technology      0.5880\n",
       "5   communication_services      0.1770\n",
       "1        consumer_cyclical      0.1681\n",
       "6       financial_services      0.0533\n",
       "0               realestate      0.0135\n",
       "2          basic_materials      0.0000\n",
       "3       consumer_defensive      0.0000\n",
       "7                utilities      0.0000\n",
       "8              industrials      0.0000\n",
       "9                   energy      0.0000\n",
       "10              healthcare      0.0000"
      ]
     },
     "metadata": {},
     "output_type": "display_data"
    },
    {
     "name": "stdout",
     "output_type": "stream",
     "text": [
      "-------------------------- Holdings ----------------------------\n"
     ]
    },
    {
     "data": {
      "text/html": [
       "<div>\n",
       "<style scoped>\n",
       "    .dataframe tbody tr th:only-of-type {\n",
       "        vertical-align: middle;\n",
       "    }\n",
       "\n",
       "    .dataframe tbody tr th {\n",
       "        vertical-align: top;\n",
       "    }\n",
       "\n",
       "    .dataframe thead th {\n",
       "        text-align: right;\n",
       "    }\n",
       "</style>\n",
       "<table border=\"1\" class=\"dataframe\">\n",
       "  <thead>\n",
       "    <tr style=\"text-align: right;\">\n",
       "      <th></th>\n",
       "      <th>symbol</th>\n",
       "      <th>holdingName</th>\n",
       "      <th>holdingPercent</th>\n",
       "    </tr>\n",
       "  </thead>\n",
       "  <tbody>\n",
       "    <tr>\n",
       "      <th>0</th>\n",
       "      <td>SE.SI</td>\n",
       "      <td>Sea Ltd ADR</td>\n",
       "      <td>0.0542</td>\n",
       "    </tr>\n",
       "    <tr>\n",
       "      <th>1</th>\n",
       "      <td>AMZN</td>\n",
       "      <td>Amazon.com Inc</td>\n",
       "      <td>0.0443</td>\n",
       "    </tr>\n",
       "    <tr>\n",
       "      <th>2</th>\n",
       "      <td>2330.TW</td>\n",
       "      <td>Taiwan Semiconductor Manufacturing Co Ltd</td>\n",
       "      <td>0.0396</td>\n",
       "    </tr>\n",
       "    <tr>\n",
       "      <th>3</th>\n",
       "      <td>SHOP.TO</td>\n",
       "      <td>Shopify Inc A</td>\n",
       "      <td>0.0387</td>\n",
       "    </tr>\n",
       "    <tr>\n",
       "      <th>4</th>\n",
       "      <td>TEAM</td>\n",
       "      <td>Atlassian Corporation PLC A</td>\n",
       "      <td>0.0322</td>\n",
       "    </tr>\n",
       "    <tr>\n",
       "      <th>5</th>\n",
       "      <td>CRWD</td>\n",
       "      <td>CrowdStrike Holdings Inc Class A</td>\n",
       "      <td>0.0308</td>\n",
       "    </tr>\n",
       "    <tr>\n",
       "      <th>6</th>\n",
       "      <td>WDAY</td>\n",
       "      <td>Workday Inc Class A</td>\n",
       "      <td>0.0290</td>\n",
       "    </tr>\n",
       "    <tr>\n",
       "      <th>7</th>\n",
       "      <td>TSLA</td>\n",
       "      <td>Tesla Inc</td>\n",
       "      <td>0.0273</td>\n",
       "    </tr>\n",
       "    <tr>\n",
       "      <th>8</th>\n",
       "      <td>NFLX</td>\n",
       "      <td>Netflix Inc</td>\n",
       "      <td>0.0270</td>\n",
       "    </tr>\n",
       "    <tr>\n",
       "      <th>9</th>\n",
       "      <td>V</td>\n",
       "      <td>Visa Inc Class A</td>\n",
       "      <td>0.0270</td>\n",
       "    </tr>\n",
       "  </tbody>\n",
       "</table>\n",
       "</div>"
      ],
      "text/plain": [
       "    symbol                                holdingName  holdingPercent\n",
       "0    SE.SI                                Sea Ltd ADR          0.0542\n",
       "1     AMZN                             Amazon.com Inc          0.0443\n",
       "2  2330.TW  Taiwan Semiconductor Manufacturing Co Ltd          0.0396\n",
       "3  SHOP.TO                              Shopify Inc A          0.0387\n",
       "4     TEAM                Atlassian Corporation PLC A          0.0322\n",
       "5     CRWD           CrowdStrike Holdings Inc Class A          0.0308\n",
       "6     WDAY                        Workday Inc Class A          0.0290\n",
       "7     TSLA                                  Tesla Inc          0.0273\n",
       "8     NFLX                                Netflix Inc          0.0270\n",
       "9        V                           Visa Inc Class A          0.0270"
      ]
     },
     "metadata": {},
     "output_type": "display_data"
    },
    {
     "name": "stdout",
     "output_type": "stream",
     "text": [
      "-------------------------- Returns ----------------------------\n"
     ]
    },
    {
     "data": {
      "text/html": [
       "<div>\n",
       "<style scoped>\n",
       "    .dataframe tbody tr th:only-of-type {\n",
       "        vertical-align: middle;\n",
       "    }\n",
       "\n",
       "    .dataframe tbody tr th {\n",
       "        vertical-align: top;\n",
       "    }\n",
       "\n",
       "    .dataframe thead th {\n",
       "        text-align: right;\n",
       "    }\n",
       "</style>\n",
       "<table border=\"1\" class=\"dataframe\">\n",
       "  <thead>\n",
       "    <tr style=\"text-align: right;\">\n",
       "      <th></th>\n",
       "      <th>Value</th>\n",
       "    </tr>\n",
       "  </thead>\n",
       "  <tbody>\n",
       "    <tr>\n",
       "      <th>morningStarReturnRating</th>\n",
       "      <td>0.0000</td>\n",
       "    </tr>\n",
       "    <tr>\n",
       "      <th>numYearsUp</th>\n",
       "      <td>4.0000</td>\n",
       "    </tr>\n",
       "    <tr>\n",
       "      <th>numYearsDown</th>\n",
       "      <td>1.0000</td>\n",
       "    </tr>\n",
       "    <tr>\n",
       "      <th>bestOneYrTotalReturn</th>\n",
       "      <td>0.6943</td>\n",
       "    </tr>\n",
       "    <tr>\n",
       "      <th>worstOneYrTotalReturn</th>\n",
       "      <td>-0.0345</td>\n",
       "    </tr>\n",
       "    <tr>\n",
       "      <th>bestThreeYrTotalReturn</th>\n",
       "      <td>0.6943</td>\n",
       "    </tr>\n",
       "    <tr>\n",
       "      <th>worstThreeYrTotalReturn</th>\n",
       "      <td>0.1033</td>\n",
       "    </tr>\n",
       "  </tbody>\n",
       "</table>\n",
       "</div>"
      ],
      "text/plain": [
       "                          Value\n",
       "morningStarReturnRating  0.0000\n",
       "numYearsUp               4.0000\n",
       "numYearsDown             1.0000\n",
       "bestOneYrTotalReturn     0.6943\n",
       "worstOneYrTotalReturn   -0.0345\n",
       "bestThreeYrTotalReturn   0.6943\n",
       "worstThreeYrTotalReturn  0.1033"
      ]
     },
     "metadata": {},
     "output_type": "display_data"
    },
    {
     "name": "stdout",
     "output_type": "stream",
     "text": [
      "\n"
     ]
    },
    {
     "data": {
      "text/html": [
       "<div>\n",
       "<style scoped>\n",
       "    .dataframe tbody tr th:only-of-type {\n",
       "        vertical-align: middle;\n",
       "    }\n",
       "\n",
       "    .dataframe tbody tr th {\n",
       "        vertical-align: top;\n",
       "    }\n",
       "\n",
       "    .dataframe thead th {\n",
       "        text-align: right;\n",
       "    }\n",
       "</style>\n",
       "<table border=\"1\" class=\"dataframe\">\n",
       "  <thead>\n",
       "    <tr style=\"text-align: right;\">\n",
       "      <th></th>\n",
       "      <th>Value</th>\n",
       "    </tr>\n",
       "  </thead>\n",
       "  <tbody>\n",
       "    <tr>\n",
       "      <th>asOfDate</th>\n",
       "      <td>2021-11-18 19:00:00</td>\n",
       "    </tr>\n",
       "    <tr>\n",
       "      <th>ytd</th>\n",
       "      <td>0.272622</td>\n",
       "    </tr>\n",
       "    <tr>\n",
       "      <th>oneMonth</th>\n",
       "      <td>0.0349057</td>\n",
       "    </tr>\n",
       "    <tr>\n",
       "      <th>threeMonth</th>\n",
       "      <td>0.119388</td>\n",
       "    </tr>\n",
       "    <tr>\n",
       "      <th>oneYear</th>\n",
       "      <td>0.430248</td>\n",
       "    </tr>\n",
       "    <tr>\n",
       "      <th>threeYear</th>\n",
       "      <td>0.431457</td>\n",
       "    </tr>\n",
       "    <tr>\n",
       "      <th>fiveYear</th>\n",
       "      <td>0.196435</td>\n",
       "    </tr>\n",
       "    <tr>\n",
       "      <th>tenYear</th>\n",
       "      <td>0</td>\n",
       "    </tr>\n",
       "    <tr>\n",
       "      <th>lastBullMkt</th>\n",
       "      <td>0</td>\n",
       "    </tr>\n",
       "    <tr>\n",
       "      <th>lastBearMkt</th>\n",
       "      <td>0</td>\n",
       "    </tr>\n",
       "  </tbody>\n",
       "</table>\n",
       "</div>"
      ],
      "text/plain": [
       "                           Value\n",
       "asOfDate     2021-11-18 19:00:00\n",
       "ytd                     0.272622\n",
       "oneMonth               0.0349057\n",
       "threeMonth              0.119388\n",
       "oneYear                 0.430248\n",
       "threeYear               0.431457\n",
       "fiveYear                0.196435\n",
       "tenYear                        0\n",
       "lastBullMkt                    0\n",
       "lastBearMkt                    0"
      ]
     },
     "metadata": {},
     "output_type": "display_data"
    },
    {
     "name": "stdout",
     "output_type": "stream",
     "text": [
      "\n"
     ]
    },
    {
     "data": {
      "text/html": [
       "<div>\n",
       "<style scoped>\n",
       "    .dataframe tbody tr th:only-of-type {\n",
       "        vertical-align: middle;\n",
       "    }\n",
       "\n",
       "    .dataframe tbody tr th {\n",
       "        vertical-align: top;\n",
       "    }\n",
       "\n",
       "    .dataframe thead th {\n",
       "        text-align: right;\n",
       "    }\n",
       "</style>\n",
       "<table border=\"1\" class=\"dataframe\">\n",
       "  <thead>\n",
       "    <tr style=\"text-align: right;\">\n",
       "      <th></th>\n",
       "      <th>year</th>\n",
       "      <th>annualValue</th>\n",
       "    </tr>\n",
       "  </thead>\n",
       "  <tbody>\n",
       "    <tr>\n",
       "      <th>0</th>\n",
       "      <td>2021</td>\n",
       "      <td>NaN</td>\n",
       "    </tr>\n",
       "    <tr>\n",
       "      <th>1</th>\n",
       "      <td>2020</td>\n",
       "      <td>0.694287</td>\n",
       "    </tr>\n",
       "    <tr>\n",
       "      <th>2</th>\n",
       "      <td>2019</td>\n",
       "      <td>0.262508</td>\n",
       "    </tr>\n",
       "    <tr>\n",
       "      <th>3</th>\n",
       "      <td>2018</td>\n",
       "      <td>-0.034504</td>\n",
       "    </tr>\n",
       "    <tr>\n",
       "      <th>4</th>\n",
       "      <td>2017</td>\n",
       "      <td>0.364726</td>\n",
       "    </tr>\n",
       "    <tr>\n",
       "      <th>5</th>\n",
       "      <td>2016</td>\n",
       "      <td>0.019197</td>\n",
       "    </tr>\n",
       "  </tbody>\n",
       "</table>\n",
       "</div>"
      ],
      "text/plain": [
       "   year  annualValue\n",
       "0  2021          NaN\n",
       "1  2020     0.694287\n",
       "2  2019     0.262508\n",
       "3  2018    -0.034504\n",
       "4  2017     0.364726\n",
       "5  2016     0.019197"
      ]
     },
     "metadata": {},
     "output_type": "display_data"
    },
    {
     "name": "stdout",
     "output_type": "stream",
     "text": [
      "-------------------------- Risk Factors ----------------------------\n"
     ]
    },
    {
     "data": {
      "text/html": [
       "<div>\n",
       "<style scoped>\n",
       "    .dataframe tbody tr th:only-of-type {\n",
       "        vertical-align: middle;\n",
       "    }\n",
       "\n",
       "    .dataframe tbody tr th {\n",
       "        vertical-align: top;\n",
       "    }\n",
       "\n",
       "    .dataframe thead th {\n",
       "        text-align: right;\n",
       "    }\n",
       "</style>\n",
       "<table border=\"1\" class=\"dataframe\">\n",
       "  <thead>\n",
       "    <tr style=\"text-align: right;\">\n",
       "      <th></th>\n",
       "      <th>year</th>\n",
       "      <th>alpha</th>\n",
       "      <th>beta</th>\n",
       "      <th>meanAnnualReturn</th>\n",
       "      <th>rSquared</th>\n",
       "      <th>stdDev</th>\n",
       "      <th>sharpeRatio</th>\n",
       "      <th>treynorRatio</th>\n",
       "    </tr>\n",
       "  </thead>\n",
       "  <tbody>\n",
       "    <tr>\n",
       "      <th>0</th>\n",
       "      <td>5y</td>\n",
       "      <td>9.48</td>\n",
       "      <td>1.31</td>\n",
       "      <td>2.27</td>\n",
       "      <td>63.09</td>\n",
       "      <td>18.47</td>\n",
       "      <td>1.42</td>\n",
       "      <td>21.20</td>\n",
       "    </tr>\n",
       "    <tr>\n",
       "      <th>1</th>\n",
       "      <td>3y</td>\n",
       "      <td>10.89</td>\n",
       "      <td>1.27</td>\n",
       "      <td>2.22</td>\n",
       "      <td>65.57</td>\n",
       "      <td>20.86</td>\n",
       "      <td>1.22</td>\n",
       "      <td>20.78</td>\n",
       "    </tr>\n",
       "    <tr>\n",
       "      <th>2</th>\n",
       "      <td>10y</td>\n",
       "      <td>NaN</td>\n",
       "      <td>NaN</td>\n",
       "      <td>NaN</td>\n",
       "      <td>NaN</td>\n",
       "      <td>NaN</td>\n",
       "      <td>NaN</td>\n",
       "      <td>NaN</td>\n",
       "    </tr>\n",
       "  </tbody>\n",
       "</table>\n",
       "</div>"
      ],
      "text/plain": [
       "  year  alpha  beta  meanAnnualReturn  rSquared  stdDev  sharpeRatio  \\\n",
       "0   5y   9.48  1.31              2.27     63.09   18.47         1.42   \n",
       "1   3y  10.89  1.27              2.22     65.57   20.86         1.22   \n",
       "2  10y    NaN   NaN               NaN       NaN     NaN          NaN   \n",
       "\n",
       "   treynorRatio  \n",
       "0         21.20  \n",
       "1         20.78  \n",
       "2           NaN  "
      ]
     },
     "metadata": {},
     "output_type": "display_data"
    },
    {
     "name": "stdout",
     "output_type": "stream",
     "text": [
      "=========================================================================\n",
      "Recent News of ENB.TO :\n",
      "-------------------------------------------------------------\n",
      "UPDATE 1-Enbridge says pipeline in flood-hit Canada province transporting natural gas above year-ago level\n",
      "-------------------------------------------------------------\n",
      "Enbridge says pipeline in flood-hit Canada province transporting natural gas above year-ago level\n",
      "-------------------------------------------------------------\n",
      "Get Your Feet Wet in These New Jersey Habitat Conservation Efforts\n",
      "-------------------------------------------------------------\n",
      "Enbridge (ENB) Slips 2.1% Since Q3 Earnings Beat Estimates\n",
      "================================================================\n"
     ]
    },
    {
     "data": {
      "application/vnd.plotly.v1+json": {
       "config": {
        "plotlyServerURL": "https://plot.ly"
       },
       "data": [
        {
         "hovertemplate": "variable=open<br>date=%{x}<br>value=%{y}<extra></extra>",
         "legendgroup": "open",
         "line": {
          "color": "#636efa",
          "dash": "solid"
         },
         "mode": "lines",
         "name": "open",
         "orientation": "v",
         "showlegend": true,
         "type": "scatter",
         "x": [
          "2021-10-25",
          "2021-10-26",
          "2021-10-27",
          "2021-10-28",
          "2021-10-29",
          "2021-11-01",
          "2021-11-02",
          "2021-11-03",
          "2021-11-04",
          "2021-11-05",
          "2021-11-08",
          "2021-11-09",
          "2021-11-10",
          "2021-11-11",
          "2021-11-12",
          "2021-11-15",
          "2021-11-16",
          "2021-11-17",
          "2021-11-18",
          "2021-11-19",
          "2021-11-22",
          "2021-11-23"
         ],
         "xaxis": "x",
         "y": [
          53,
          52.900001525878906,
          52.70000076293945,
          52.130001068115234,
          52.18000030517578,
          52.060001373291016,
          52.40999984741211,
          52.18000030517578,
          52.75,
          52.75,
          53.91999816894531,
          52.75,
          52.790000915527344,
          53,
          51.880001068115234,
          50.84000015258789,
          50.65999984741211,
          50.75,
          50.689998626708984,
          50.209999084472656,
          50.29999923706055,
          50.29999923706055
         ],
         "yaxis": "y"
        },
        {
         "hovertemplate": "variable=high<br>date=%{x}<br>value=%{y}<extra></extra>",
         "legendgroup": "high",
         "line": {
          "color": "#EF553B",
          "dash": "solid"
         },
         "mode": "lines",
         "name": "high",
         "orientation": "v",
         "showlegend": true,
         "type": "scatter",
         "x": [
          "2021-10-25",
          "2021-10-26",
          "2021-10-27",
          "2021-10-28",
          "2021-10-29",
          "2021-11-01",
          "2021-11-02",
          "2021-11-03",
          "2021-11-04",
          "2021-11-05",
          "2021-11-08",
          "2021-11-09",
          "2021-11-10",
          "2021-11-11",
          "2021-11-12",
          "2021-11-15",
          "2021-11-16",
          "2021-11-17",
          "2021-11-18",
          "2021-11-19",
          "2021-11-22",
          "2021-11-23"
         ],
         "xaxis": "x",
         "y": [
          53.04999923706055,
          53.15999984741211,
          52.880001068115234,
          52.2400016784668,
          52.2400016784668,
          52.47999954223633,
          52.45000076293945,
          52.36000061035156,
          52.880001068115234,
          54,
          53.959999084472656,
          53.15999984741211,
          52.83000183105469,
          53,
          51.88999938964844,
          50.97999954223633,
          50.97999954223633,
          51.31999969482422,
          50.7599983215332,
          50.33000183105469,
          50.36000061035156,
          50.58000183105469
         ],
         "yaxis": "y"
        },
        {
         "hovertemplate": "variable=close<br>date=%{x}<br>value=%{y}<extra></extra>",
         "legendgroup": "close",
         "line": {
          "color": "#00cc96",
          "dash": "solid"
         },
         "mode": "lines",
         "name": "close",
         "orientation": "v",
         "showlegend": true,
         "type": "scatter",
         "x": [
          "2021-10-25",
          "2021-10-26",
          "2021-10-27",
          "2021-10-28",
          "2021-10-29",
          "2021-11-01",
          "2021-11-02",
          "2021-11-03",
          "2021-11-04",
          "2021-11-05",
          "2021-11-08",
          "2021-11-09",
          "2021-11-10",
          "2021-11-11",
          "2021-11-12",
          "2021-11-15",
          "2021-11-16",
          "2021-11-17",
          "2021-11-18",
          "2021-11-19",
          "2021-11-22",
          "2021-11-23"
         ],
         "xaxis": "x",
         "y": [
          52.86000061035156,
          52.75,
          52.130001068115234,
          52.18000030517578,
          51.84000015258789,
          52.43000030517578,
          52.2400016784668,
          52.22999954223633,
          52.31999969482422,
          53.880001068115234,
          52.689998626708984,
          52.619998931884766,
          52.7400016784668,
          52.619998931884766,
          50.70000076293945,
          50.59000015258789,
          50.65999984741211,
          50.70000076293945,
          50.470001220703125,
          50.27000045776367,
          50.130001068115234,
          50.45000076293945
         ],
         "yaxis": "y"
        },
        {
         "hovertemplate": "variable=low<br>date=%{x}<br>value=%{y}<extra></extra>",
         "legendgroup": "low",
         "line": {
          "color": "#ab63fa",
          "dash": "solid"
         },
         "mode": "lines",
         "name": "low",
         "orientation": "v",
         "showlegend": true,
         "type": "scatter",
         "x": [
          "2021-10-25",
          "2021-10-26",
          "2021-10-27",
          "2021-10-28",
          "2021-10-29",
          "2021-11-01",
          "2021-11-02",
          "2021-11-03",
          "2021-11-04",
          "2021-11-05",
          "2021-11-08",
          "2021-11-09",
          "2021-11-10",
          "2021-11-11",
          "2021-11-12",
          "2021-11-15",
          "2021-11-16",
          "2021-11-17",
          "2021-11-18",
          "2021-11-19",
          "2021-11-22",
          "2021-11-23"
         ],
         "xaxis": "x",
         "y": [
          52.470001220703125,
          52.720001220703125,
          52.11000061035156,
          51.63999938964844,
          51.720001220703125,
          51.849998474121094,
          52.119998931884766,
          52.099998474121094,
          52.029998779296875,
          52.68000030517578,
          52.630001068115234,
          52.58000183105469,
          52.40999984741211,
          52.599998474121094,
          50.630001068115234,
          50.33000183105469,
          50.56999969482422,
          50.54999923706055,
          50.400001525878906,
          49.65999984741211,
          49.79999923706055,
          50.220001220703125
         ],
         "yaxis": "y"
        },
        {
         "hovertemplate": "variable=adjclose<br>date=%{x}<br>value=%{y}<extra></extra>",
         "legendgroup": "adjclose",
         "line": {
          "color": "#FFA15A",
          "dash": "solid"
         },
         "mode": "lines",
         "name": "adjclose",
         "orientation": "v",
         "showlegend": true,
         "type": "scatter",
         "x": [
          "2021-10-25",
          "2021-10-26",
          "2021-10-27",
          "2021-10-28",
          "2021-10-29",
          "2021-11-01",
          "2021-11-02",
          "2021-11-03",
          "2021-11-04",
          "2021-11-05",
          "2021-11-08",
          "2021-11-09",
          "2021-11-10",
          "2021-11-11",
          "2021-11-12",
          "2021-11-15",
          "2021-11-16",
          "2021-11-17",
          "2021-11-18",
          "2021-11-19",
          "2021-11-22",
          "2021-11-23"
         ],
         "xaxis": "x",
         "y": [
          52.02119064331055,
          51.91293716430664,
          51.30277633666992,
          51.35198211669922,
          51.01737976074219,
          51.59801483154297,
          51.411033630371094,
          51.401187896728516,
          51.48976135253906,
          53.02500534057617,
          51.85388946533203,
          51.78499984741211,
          51.903099060058594,
          51.78499984741211,
          50.70000076293945,
          50.59000015258789,
          50.65999984741211,
          50.70000076293945,
          50.470001220703125,
          50.27000045776367,
          50.130001068115234,
          50.45000076293945
         ],
         "yaxis": "y"
        }
       ],
       "layout": {
        "legend": {
         "title": {
          "text": "variable"
         },
         "tracegroupgap": 0
        },
        "template": {
         "data": {
          "bar": [
           {
            "error_x": {
             "color": "#2a3f5f"
            },
            "error_y": {
             "color": "#2a3f5f"
            },
            "marker": {
             "line": {
              "color": "#E5ECF6",
              "width": 0.5
             },
             "pattern": {
              "fillmode": "overlay",
              "size": 10,
              "solidity": 0.2
             }
            },
            "type": "bar"
           }
          ],
          "barpolar": [
           {
            "marker": {
             "line": {
              "color": "#E5ECF6",
              "width": 0.5
             },
             "pattern": {
              "fillmode": "overlay",
              "size": 10,
              "solidity": 0.2
             }
            },
            "type": "barpolar"
           }
          ],
          "carpet": [
           {
            "aaxis": {
             "endlinecolor": "#2a3f5f",
             "gridcolor": "white",
             "linecolor": "white",
             "minorgridcolor": "white",
             "startlinecolor": "#2a3f5f"
            },
            "baxis": {
             "endlinecolor": "#2a3f5f",
             "gridcolor": "white",
             "linecolor": "white",
             "minorgridcolor": "white",
             "startlinecolor": "#2a3f5f"
            },
            "type": "carpet"
           }
          ],
          "choropleth": [
           {
            "colorbar": {
             "outlinewidth": 0,
             "ticks": ""
            },
            "type": "choropleth"
           }
          ],
          "contour": [
           {
            "colorbar": {
             "outlinewidth": 0,
             "ticks": ""
            },
            "colorscale": [
             [
              0,
              "#0d0887"
             ],
             [
              0.1111111111111111,
              "#46039f"
             ],
             [
              0.2222222222222222,
              "#7201a8"
             ],
             [
              0.3333333333333333,
              "#9c179e"
             ],
             [
              0.4444444444444444,
              "#bd3786"
             ],
             [
              0.5555555555555556,
              "#d8576b"
             ],
             [
              0.6666666666666666,
              "#ed7953"
             ],
             [
              0.7777777777777778,
              "#fb9f3a"
             ],
             [
              0.8888888888888888,
              "#fdca26"
             ],
             [
              1,
              "#f0f921"
             ]
            ],
            "type": "contour"
           }
          ],
          "contourcarpet": [
           {
            "colorbar": {
             "outlinewidth": 0,
             "ticks": ""
            },
            "type": "contourcarpet"
           }
          ],
          "heatmap": [
           {
            "colorbar": {
             "outlinewidth": 0,
             "ticks": ""
            },
            "colorscale": [
             [
              0,
              "#0d0887"
             ],
             [
              0.1111111111111111,
              "#46039f"
             ],
             [
              0.2222222222222222,
              "#7201a8"
             ],
             [
              0.3333333333333333,
              "#9c179e"
             ],
             [
              0.4444444444444444,
              "#bd3786"
             ],
             [
              0.5555555555555556,
              "#d8576b"
             ],
             [
              0.6666666666666666,
              "#ed7953"
             ],
             [
              0.7777777777777778,
              "#fb9f3a"
             ],
             [
              0.8888888888888888,
              "#fdca26"
             ],
             [
              1,
              "#f0f921"
             ]
            ],
            "type": "heatmap"
           }
          ],
          "heatmapgl": [
           {
            "colorbar": {
             "outlinewidth": 0,
             "ticks": ""
            },
            "colorscale": [
             [
              0,
              "#0d0887"
             ],
             [
              0.1111111111111111,
              "#46039f"
             ],
             [
              0.2222222222222222,
              "#7201a8"
             ],
             [
              0.3333333333333333,
              "#9c179e"
             ],
             [
              0.4444444444444444,
              "#bd3786"
             ],
             [
              0.5555555555555556,
              "#d8576b"
             ],
             [
              0.6666666666666666,
              "#ed7953"
             ],
             [
              0.7777777777777778,
              "#fb9f3a"
             ],
             [
              0.8888888888888888,
              "#fdca26"
             ],
             [
              1,
              "#f0f921"
             ]
            ],
            "type": "heatmapgl"
           }
          ],
          "histogram": [
           {
            "marker": {
             "pattern": {
              "fillmode": "overlay",
              "size": 10,
              "solidity": 0.2
             }
            },
            "type": "histogram"
           }
          ],
          "histogram2d": [
           {
            "colorbar": {
             "outlinewidth": 0,
             "ticks": ""
            },
            "colorscale": [
             [
              0,
              "#0d0887"
             ],
             [
              0.1111111111111111,
              "#46039f"
             ],
             [
              0.2222222222222222,
              "#7201a8"
             ],
             [
              0.3333333333333333,
              "#9c179e"
             ],
             [
              0.4444444444444444,
              "#bd3786"
             ],
             [
              0.5555555555555556,
              "#d8576b"
             ],
             [
              0.6666666666666666,
              "#ed7953"
             ],
             [
              0.7777777777777778,
              "#fb9f3a"
             ],
             [
              0.8888888888888888,
              "#fdca26"
             ],
             [
              1,
              "#f0f921"
             ]
            ],
            "type": "histogram2d"
           }
          ],
          "histogram2dcontour": [
           {
            "colorbar": {
             "outlinewidth": 0,
             "ticks": ""
            },
            "colorscale": [
             [
              0,
              "#0d0887"
             ],
             [
              0.1111111111111111,
              "#46039f"
             ],
             [
              0.2222222222222222,
              "#7201a8"
             ],
             [
              0.3333333333333333,
              "#9c179e"
             ],
             [
              0.4444444444444444,
              "#bd3786"
             ],
             [
              0.5555555555555556,
              "#d8576b"
             ],
             [
              0.6666666666666666,
              "#ed7953"
             ],
             [
              0.7777777777777778,
              "#fb9f3a"
             ],
             [
              0.8888888888888888,
              "#fdca26"
             ],
             [
              1,
              "#f0f921"
             ]
            ],
            "type": "histogram2dcontour"
           }
          ],
          "mesh3d": [
           {
            "colorbar": {
             "outlinewidth": 0,
             "ticks": ""
            },
            "type": "mesh3d"
           }
          ],
          "parcoords": [
           {
            "line": {
             "colorbar": {
              "outlinewidth": 0,
              "ticks": ""
             }
            },
            "type": "parcoords"
           }
          ],
          "pie": [
           {
            "automargin": true,
            "type": "pie"
           }
          ],
          "scatter": [
           {
            "marker": {
             "colorbar": {
              "outlinewidth": 0,
              "ticks": ""
             }
            },
            "type": "scatter"
           }
          ],
          "scatter3d": [
           {
            "line": {
             "colorbar": {
              "outlinewidth": 0,
              "ticks": ""
             }
            },
            "marker": {
             "colorbar": {
              "outlinewidth": 0,
              "ticks": ""
             }
            },
            "type": "scatter3d"
           }
          ],
          "scattercarpet": [
           {
            "marker": {
             "colorbar": {
              "outlinewidth": 0,
              "ticks": ""
             }
            },
            "type": "scattercarpet"
           }
          ],
          "scattergeo": [
           {
            "marker": {
             "colorbar": {
              "outlinewidth": 0,
              "ticks": ""
             }
            },
            "type": "scattergeo"
           }
          ],
          "scattergl": [
           {
            "marker": {
             "colorbar": {
              "outlinewidth": 0,
              "ticks": ""
             }
            },
            "type": "scattergl"
           }
          ],
          "scattermapbox": [
           {
            "marker": {
             "colorbar": {
              "outlinewidth": 0,
              "ticks": ""
             }
            },
            "type": "scattermapbox"
           }
          ],
          "scatterpolar": [
           {
            "marker": {
             "colorbar": {
              "outlinewidth": 0,
              "ticks": ""
             }
            },
            "type": "scatterpolar"
           }
          ],
          "scatterpolargl": [
           {
            "marker": {
             "colorbar": {
              "outlinewidth": 0,
              "ticks": ""
             }
            },
            "type": "scatterpolargl"
           }
          ],
          "scatterternary": [
           {
            "marker": {
             "colorbar": {
              "outlinewidth": 0,
              "ticks": ""
             }
            },
            "type": "scatterternary"
           }
          ],
          "surface": [
           {
            "colorbar": {
             "outlinewidth": 0,
             "ticks": ""
            },
            "colorscale": [
             [
              0,
              "#0d0887"
             ],
             [
              0.1111111111111111,
              "#46039f"
             ],
             [
              0.2222222222222222,
              "#7201a8"
             ],
             [
              0.3333333333333333,
              "#9c179e"
             ],
             [
              0.4444444444444444,
              "#bd3786"
             ],
             [
              0.5555555555555556,
              "#d8576b"
             ],
             [
              0.6666666666666666,
              "#ed7953"
             ],
             [
              0.7777777777777778,
              "#fb9f3a"
             ],
             [
              0.8888888888888888,
              "#fdca26"
             ],
             [
              1,
              "#f0f921"
             ]
            ],
            "type": "surface"
           }
          ],
          "table": [
           {
            "cells": {
             "fill": {
              "color": "#EBF0F8"
             },
             "line": {
              "color": "white"
             }
            },
            "header": {
             "fill": {
              "color": "#C8D4E3"
             },
             "line": {
              "color": "white"
             }
            },
            "type": "table"
           }
          ]
         },
         "layout": {
          "annotationdefaults": {
           "arrowcolor": "#2a3f5f",
           "arrowhead": 0,
           "arrowwidth": 1
          },
          "autotypenumbers": "strict",
          "coloraxis": {
           "colorbar": {
            "outlinewidth": 0,
            "ticks": ""
           }
          },
          "colorscale": {
           "diverging": [
            [
             0,
             "#8e0152"
            ],
            [
             0.1,
             "#c51b7d"
            ],
            [
             0.2,
             "#de77ae"
            ],
            [
             0.3,
             "#f1b6da"
            ],
            [
             0.4,
             "#fde0ef"
            ],
            [
             0.5,
             "#f7f7f7"
            ],
            [
             0.6,
             "#e6f5d0"
            ],
            [
             0.7,
             "#b8e186"
            ],
            [
             0.8,
             "#7fbc41"
            ],
            [
             0.9,
             "#4d9221"
            ],
            [
             1,
             "#276419"
            ]
           ],
           "sequential": [
            [
             0,
             "#0d0887"
            ],
            [
             0.1111111111111111,
             "#46039f"
            ],
            [
             0.2222222222222222,
             "#7201a8"
            ],
            [
             0.3333333333333333,
             "#9c179e"
            ],
            [
             0.4444444444444444,
             "#bd3786"
            ],
            [
             0.5555555555555556,
             "#d8576b"
            ],
            [
             0.6666666666666666,
             "#ed7953"
            ],
            [
             0.7777777777777778,
             "#fb9f3a"
            ],
            [
             0.8888888888888888,
             "#fdca26"
            ],
            [
             1,
             "#f0f921"
            ]
           ],
           "sequentialminus": [
            [
             0,
             "#0d0887"
            ],
            [
             0.1111111111111111,
             "#46039f"
            ],
            [
             0.2222222222222222,
             "#7201a8"
            ],
            [
             0.3333333333333333,
             "#9c179e"
            ],
            [
             0.4444444444444444,
             "#bd3786"
            ],
            [
             0.5555555555555556,
             "#d8576b"
            ],
            [
             0.6666666666666666,
             "#ed7953"
            ],
            [
             0.7777777777777778,
             "#fb9f3a"
            ],
            [
             0.8888888888888888,
             "#fdca26"
            ],
            [
             1,
             "#f0f921"
            ]
           ]
          },
          "colorway": [
           "#636efa",
           "#EF553B",
           "#00cc96",
           "#ab63fa",
           "#FFA15A",
           "#19d3f3",
           "#FF6692",
           "#B6E880",
           "#FF97FF",
           "#FECB52"
          ],
          "font": {
           "color": "#2a3f5f"
          },
          "geo": {
           "bgcolor": "white",
           "lakecolor": "white",
           "landcolor": "#E5ECF6",
           "showlakes": true,
           "showland": true,
           "subunitcolor": "white"
          },
          "hoverlabel": {
           "align": "left"
          },
          "hovermode": "closest",
          "mapbox": {
           "style": "light"
          },
          "paper_bgcolor": "white",
          "plot_bgcolor": "#E5ECF6",
          "polar": {
           "angularaxis": {
            "gridcolor": "white",
            "linecolor": "white",
            "ticks": ""
           },
           "bgcolor": "#E5ECF6",
           "radialaxis": {
            "gridcolor": "white",
            "linecolor": "white",
            "ticks": ""
           }
          },
          "scene": {
           "xaxis": {
            "backgroundcolor": "#E5ECF6",
            "gridcolor": "white",
            "gridwidth": 2,
            "linecolor": "white",
            "showbackground": true,
            "ticks": "",
            "zerolinecolor": "white"
           },
           "yaxis": {
            "backgroundcolor": "#E5ECF6",
            "gridcolor": "white",
            "gridwidth": 2,
            "linecolor": "white",
            "showbackground": true,
            "ticks": "",
            "zerolinecolor": "white"
           },
           "zaxis": {
            "backgroundcolor": "#E5ECF6",
            "gridcolor": "white",
            "gridwidth": 2,
            "linecolor": "white",
            "showbackground": true,
            "ticks": "",
            "zerolinecolor": "white"
           }
          },
          "shapedefaults": {
           "line": {
            "color": "#2a3f5f"
           }
          },
          "ternary": {
           "aaxis": {
            "gridcolor": "white",
            "linecolor": "white",
            "ticks": ""
           },
           "baxis": {
            "gridcolor": "white",
            "linecolor": "white",
            "ticks": ""
           },
           "bgcolor": "#E5ECF6",
           "caxis": {
            "gridcolor": "white",
            "linecolor": "white",
            "ticks": ""
           }
          },
          "title": {
           "x": 0.05
          },
          "xaxis": {
           "automargin": true,
           "gridcolor": "white",
           "linecolor": "white",
           "ticks": "",
           "title": {
            "standoff": 15
           },
           "zerolinecolor": "white",
           "zerolinewidth": 2
          },
          "yaxis": {
           "automargin": true,
           "gridcolor": "white",
           "linecolor": "white",
           "ticks": "",
           "title": {
            "standoff": 15
           },
           "zerolinecolor": "white",
           "zerolinewidth": 2
          }
         }
        },
        "title": {
         "text": "ENB.TO Historical Price"
        },
        "xaxis": {
         "anchor": "y",
         "domain": [
          0,
          1
         ],
         "title": {
          "text": "date"
         }
        },
        "yaxis": {
         "anchor": "x",
         "domain": [
          0,
          1
         ],
         "title": {
          "text": "value"
         }
        }
       }
      },
      "text/html": [
       "<div>                            <div id=\"49b30edc-8c07-42cf-b6aa-c72fd2016734\" class=\"plotly-graph-div\" style=\"height:525px; width:100%;\"></div>            <script type=\"text/javascript\">                require([\"plotly\"], function(Plotly) {                    window.PLOTLYENV=window.PLOTLYENV || {};                                    if (document.getElementById(\"49b30edc-8c07-42cf-b6aa-c72fd2016734\")) {                    Plotly.newPlot(                        \"49b30edc-8c07-42cf-b6aa-c72fd2016734\",                        [{\"hovertemplate\":\"variable=open<br>date=%{x}<br>value=%{y}<extra></extra>\",\"legendgroup\":\"open\",\"line\":{\"color\":\"#636efa\",\"dash\":\"solid\"},\"mode\":\"lines\",\"name\":\"open\",\"orientation\":\"v\",\"showlegend\":true,\"type\":\"scatter\",\"x\":[\"2021-10-25\",\"2021-10-26\",\"2021-10-27\",\"2021-10-28\",\"2021-10-29\",\"2021-11-01\",\"2021-11-02\",\"2021-11-03\",\"2021-11-04\",\"2021-11-05\",\"2021-11-08\",\"2021-11-09\",\"2021-11-10\",\"2021-11-11\",\"2021-11-12\",\"2021-11-15\",\"2021-11-16\",\"2021-11-17\",\"2021-11-18\",\"2021-11-19\",\"2021-11-22\",\"2021-11-23\"],\"xaxis\":\"x\",\"y\":[53.0,52.900001525878906,52.70000076293945,52.130001068115234,52.18000030517578,52.060001373291016,52.40999984741211,52.18000030517578,52.75,52.75,53.91999816894531,52.75,52.790000915527344,53.0,51.880001068115234,50.84000015258789,50.65999984741211,50.75,50.689998626708984,50.209999084472656,50.29999923706055,50.29999923706055],\"yaxis\":\"y\"},{\"hovertemplate\":\"variable=high<br>date=%{x}<br>value=%{y}<extra></extra>\",\"legendgroup\":\"high\",\"line\":{\"color\":\"#EF553B\",\"dash\":\"solid\"},\"mode\":\"lines\",\"name\":\"high\",\"orientation\":\"v\",\"showlegend\":true,\"type\":\"scatter\",\"x\":[\"2021-10-25\",\"2021-10-26\",\"2021-10-27\",\"2021-10-28\",\"2021-10-29\",\"2021-11-01\",\"2021-11-02\",\"2021-11-03\",\"2021-11-04\",\"2021-11-05\",\"2021-11-08\",\"2021-11-09\",\"2021-11-10\",\"2021-11-11\",\"2021-11-12\",\"2021-11-15\",\"2021-11-16\",\"2021-11-17\",\"2021-11-18\",\"2021-11-19\",\"2021-11-22\",\"2021-11-23\"],\"xaxis\":\"x\",\"y\":[53.04999923706055,53.15999984741211,52.880001068115234,52.2400016784668,52.2400016784668,52.47999954223633,52.45000076293945,52.36000061035156,52.880001068115234,54.0,53.959999084472656,53.15999984741211,52.83000183105469,53.0,51.88999938964844,50.97999954223633,50.97999954223633,51.31999969482422,50.7599983215332,50.33000183105469,50.36000061035156,50.58000183105469],\"yaxis\":\"y\"},{\"hovertemplate\":\"variable=close<br>date=%{x}<br>value=%{y}<extra></extra>\",\"legendgroup\":\"close\",\"line\":{\"color\":\"#00cc96\",\"dash\":\"solid\"},\"mode\":\"lines\",\"name\":\"close\",\"orientation\":\"v\",\"showlegend\":true,\"type\":\"scatter\",\"x\":[\"2021-10-25\",\"2021-10-26\",\"2021-10-27\",\"2021-10-28\",\"2021-10-29\",\"2021-11-01\",\"2021-11-02\",\"2021-11-03\",\"2021-11-04\",\"2021-11-05\",\"2021-11-08\",\"2021-11-09\",\"2021-11-10\",\"2021-11-11\",\"2021-11-12\",\"2021-11-15\",\"2021-11-16\",\"2021-11-17\",\"2021-11-18\",\"2021-11-19\",\"2021-11-22\",\"2021-11-23\"],\"xaxis\":\"x\",\"y\":[52.86000061035156,52.75,52.130001068115234,52.18000030517578,51.84000015258789,52.43000030517578,52.2400016784668,52.22999954223633,52.31999969482422,53.880001068115234,52.689998626708984,52.619998931884766,52.7400016784668,52.619998931884766,50.70000076293945,50.59000015258789,50.65999984741211,50.70000076293945,50.470001220703125,50.27000045776367,50.130001068115234,50.45000076293945],\"yaxis\":\"y\"},{\"hovertemplate\":\"variable=low<br>date=%{x}<br>value=%{y}<extra></extra>\",\"legendgroup\":\"low\",\"line\":{\"color\":\"#ab63fa\",\"dash\":\"solid\"},\"mode\":\"lines\",\"name\":\"low\",\"orientation\":\"v\",\"showlegend\":true,\"type\":\"scatter\",\"x\":[\"2021-10-25\",\"2021-10-26\",\"2021-10-27\",\"2021-10-28\",\"2021-10-29\",\"2021-11-01\",\"2021-11-02\",\"2021-11-03\",\"2021-11-04\",\"2021-11-05\",\"2021-11-08\",\"2021-11-09\",\"2021-11-10\",\"2021-11-11\",\"2021-11-12\",\"2021-11-15\",\"2021-11-16\",\"2021-11-17\",\"2021-11-18\",\"2021-11-19\",\"2021-11-22\",\"2021-11-23\"],\"xaxis\":\"x\",\"y\":[52.470001220703125,52.720001220703125,52.11000061035156,51.63999938964844,51.720001220703125,51.849998474121094,52.119998931884766,52.099998474121094,52.029998779296875,52.68000030517578,52.630001068115234,52.58000183105469,52.40999984741211,52.599998474121094,50.630001068115234,50.33000183105469,50.56999969482422,50.54999923706055,50.400001525878906,49.65999984741211,49.79999923706055,50.220001220703125],\"yaxis\":\"y\"},{\"hovertemplate\":\"variable=adjclose<br>date=%{x}<br>value=%{y}<extra></extra>\",\"legendgroup\":\"adjclose\",\"line\":{\"color\":\"#FFA15A\",\"dash\":\"solid\"},\"mode\":\"lines\",\"name\":\"adjclose\",\"orientation\":\"v\",\"showlegend\":true,\"type\":\"scatter\",\"x\":[\"2021-10-25\",\"2021-10-26\",\"2021-10-27\",\"2021-10-28\",\"2021-10-29\",\"2021-11-01\",\"2021-11-02\",\"2021-11-03\",\"2021-11-04\",\"2021-11-05\",\"2021-11-08\",\"2021-11-09\",\"2021-11-10\",\"2021-11-11\",\"2021-11-12\",\"2021-11-15\",\"2021-11-16\",\"2021-11-17\",\"2021-11-18\",\"2021-11-19\",\"2021-11-22\",\"2021-11-23\"],\"xaxis\":\"x\",\"y\":[52.02119064331055,51.91293716430664,51.30277633666992,51.35198211669922,51.01737976074219,51.59801483154297,51.411033630371094,51.401187896728516,51.48976135253906,53.02500534057617,51.85388946533203,51.78499984741211,51.903099060058594,51.78499984741211,50.70000076293945,50.59000015258789,50.65999984741211,50.70000076293945,50.470001220703125,50.27000045776367,50.130001068115234,50.45000076293945],\"yaxis\":\"y\"}],                        {\"legend\":{\"title\":{\"text\":\"variable\"},\"tracegroupgap\":0},\"template\":{\"data\":{\"bar\":[{\"error_x\":{\"color\":\"#2a3f5f\"},\"error_y\":{\"color\":\"#2a3f5f\"},\"marker\":{\"line\":{\"color\":\"#E5ECF6\",\"width\":0.5},\"pattern\":{\"fillmode\":\"overlay\",\"size\":10,\"solidity\":0.2}},\"type\":\"bar\"}],\"barpolar\":[{\"marker\":{\"line\":{\"color\":\"#E5ECF6\",\"width\":0.5},\"pattern\":{\"fillmode\":\"overlay\",\"size\":10,\"solidity\":0.2}},\"type\":\"barpolar\"}],\"carpet\":[{\"aaxis\":{\"endlinecolor\":\"#2a3f5f\",\"gridcolor\":\"white\",\"linecolor\":\"white\",\"minorgridcolor\":\"white\",\"startlinecolor\":\"#2a3f5f\"},\"baxis\":{\"endlinecolor\":\"#2a3f5f\",\"gridcolor\":\"white\",\"linecolor\":\"white\",\"minorgridcolor\":\"white\",\"startlinecolor\":\"#2a3f5f\"},\"type\":\"carpet\"}],\"choropleth\":[{\"colorbar\":{\"outlinewidth\":0,\"ticks\":\"\"},\"type\":\"choropleth\"}],\"contour\":[{\"colorbar\":{\"outlinewidth\":0,\"ticks\":\"\"},\"colorscale\":[[0.0,\"#0d0887\"],[0.1111111111111111,\"#46039f\"],[0.2222222222222222,\"#7201a8\"],[0.3333333333333333,\"#9c179e\"],[0.4444444444444444,\"#bd3786\"],[0.5555555555555556,\"#d8576b\"],[0.6666666666666666,\"#ed7953\"],[0.7777777777777778,\"#fb9f3a\"],[0.8888888888888888,\"#fdca26\"],[1.0,\"#f0f921\"]],\"type\":\"contour\"}],\"contourcarpet\":[{\"colorbar\":{\"outlinewidth\":0,\"ticks\":\"\"},\"type\":\"contourcarpet\"}],\"heatmap\":[{\"colorbar\":{\"outlinewidth\":0,\"ticks\":\"\"},\"colorscale\":[[0.0,\"#0d0887\"],[0.1111111111111111,\"#46039f\"],[0.2222222222222222,\"#7201a8\"],[0.3333333333333333,\"#9c179e\"],[0.4444444444444444,\"#bd3786\"],[0.5555555555555556,\"#d8576b\"],[0.6666666666666666,\"#ed7953\"],[0.7777777777777778,\"#fb9f3a\"],[0.8888888888888888,\"#fdca26\"],[1.0,\"#f0f921\"]],\"type\":\"heatmap\"}],\"heatmapgl\":[{\"colorbar\":{\"outlinewidth\":0,\"ticks\":\"\"},\"colorscale\":[[0.0,\"#0d0887\"],[0.1111111111111111,\"#46039f\"],[0.2222222222222222,\"#7201a8\"],[0.3333333333333333,\"#9c179e\"],[0.4444444444444444,\"#bd3786\"],[0.5555555555555556,\"#d8576b\"],[0.6666666666666666,\"#ed7953\"],[0.7777777777777778,\"#fb9f3a\"],[0.8888888888888888,\"#fdca26\"],[1.0,\"#f0f921\"]],\"type\":\"heatmapgl\"}],\"histogram\":[{\"marker\":{\"pattern\":{\"fillmode\":\"overlay\",\"size\":10,\"solidity\":0.2}},\"type\":\"histogram\"}],\"histogram2d\":[{\"colorbar\":{\"outlinewidth\":0,\"ticks\":\"\"},\"colorscale\":[[0.0,\"#0d0887\"],[0.1111111111111111,\"#46039f\"],[0.2222222222222222,\"#7201a8\"],[0.3333333333333333,\"#9c179e\"],[0.4444444444444444,\"#bd3786\"],[0.5555555555555556,\"#d8576b\"],[0.6666666666666666,\"#ed7953\"],[0.7777777777777778,\"#fb9f3a\"],[0.8888888888888888,\"#fdca26\"],[1.0,\"#f0f921\"]],\"type\":\"histogram2d\"}],\"histogram2dcontour\":[{\"colorbar\":{\"outlinewidth\":0,\"ticks\":\"\"},\"colorscale\":[[0.0,\"#0d0887\"],[0.1111111111111111,\"#46039f\"],[0.2222222222222222,\"#7201a8\"],[0.3333333333333333,\"#9c179e\"],[0.4444444444444444,\"#bd3786\"],[0.5555555555555556,\"#d8576b\"],[0.6666666666666666,\"#ed7953\"],[0.7777777777777778,\"#fb9f3a\"],[0.8888888888888888,\"#fdca26\"],[1.0,\"#f0f921\"]],\"type\":\"histogram2dcontour\"}],\"mesh3d\":[{\"colorbar\":{\"outlinewidth\":0,\"ticks\":\"\"},\"type\":\"mesh3d\"}],\"parcoords\":[{\"line\":{\"colorbar\":{\"outlinewidth\":0,\"ticks\":\"\"}},\"type\":\"parcoords\"}],\"pie\":[{\"automargin\":true,\"type\":\"pie\"}],\"scatter\":[{\"marker\":{\"colorbar\":{\"outlinewidth\":0,\"ticks\":\"\"}},\"type\":\"scatter\"}],\"scatter3d\":[{\"line\":{\"colorbar\":{\"outlinewidth\":0,\"ticks\":\"\"}},\"marker\":{\"colorbar\":{\"outlinewidth\":0,\"ticks\":\"\"}},\"type\":\"scatter3d\"}],\"scattercarpet\":[{\"marker\":{\"colorbar\":{\"outlinewidth\":0,\"ticks\":\"\"}},\"type\":\"scattercarpet\"}],\"scattergeo\":[{\"marker\":{\"colorbar\":{\"outlinewidth\":0,\"ticks\":\"\"}},\"type\":\"scattergeo\"}],\"scattergl\":[{\"marker\":{\"colorbar\":{\"outlinewidth\":0,\"ticks\":\"\"}},\"type\":\"scattergl\"}],\"scattermapbox\":[{\"marker\":{\"colorbar\":{\"outlinewidth\":0,\"ticks\":\"\"}},\"type\":\"scattermapbox\"}],\"scatterpolar\":[{\"marker\":{\"colorbar\":{\"outlinewidth\":0,\"ticks\":\"\"}},\"type\":\"scatterpolar\"}],\"scatterpolargl\":[{\"marker\":{\"colorbar\":{\"outlinewidth\":0,\"ticks\":\"\"}},\"type\":\"scatterpolargl\"}],\"scatterternary\":[{\"marker\":{\"colorbar\":{\"outlinewidth\":0,\"ticks\":\"\"}},\"type\":\"scatterternary\"}],\"surface\":[{\"colorbar\":{\"outlinewidth\":0,\"ticks\":\"\"},\"colorscale\":[[0.0,\"#0d0887\"],[0.1111111111111111,\"#46039f\"],[0.2222222222222222,\"#7201a8\"],[0.3333333333333333,\"#9c179e\"],[0.4444444444444444,\"#bd3786\"],[0.5555555555555556,\"#d8576b\"],[0.6666666666666666,\"#ed7953\"],[0.7777777777777778,\"#fb9f3a\"],[0.8888888888888888,\"#fdca26\"],[1.0,\"#f0f921\"]],\"type\":\"surface\"}],\"table\":[{\"cells\":{\"fill\":{\"color\":\"#EBF0F8\"},\"line\":{\"color\":\"white\"}},\"header\":{\"fill\":{\"color\":\"#C8D4E3\"},\"line\":{\"color\":\"white\"}},\"type\":\"table\"}]},\"layout\":{\"annotationdefaults\":{\"arrowcolor\":\"#2a3f5f\",\"arrowhead\":0,\"arrowwidth\":1},\"autotypenumbers\":\"strict\",\"coloraxis\":{\"colorbar\":{\"outlinewidth\":0,\"ticks\":\"\"}},\"colorscale\":{\"diverging\":[[0,\"#8e0152\"],[0.1,\"#c51b7d\"],[0.2,\"#de77ae\"],[0.3,\"#f1b6da\"],[0.4,\"#fde0ef\"],[0.5,\"#f7f7f7\"],[0.6,\"#e6f5d0\"],[0.7,\"#b8e186\"],[0.8,\"#7fbc41\"],[0.9,\"#4d9221\"],[1,\"#276419\"]],\"sequential\":[[0.0,\"#0d0887\"],[0.1111111111111111,\"#46039f\"],[0.2222222222222222,\"#7201a8\"],[0.3333333333333333,\"#9c179e\"],[0.4444444444444444,\"#bd3786\"],[0.5555555555555556,\"#d8576b\"],[0.6666666666666666,\"#ed7953\"],[0.7777777777777778,\"#fb9f3a\"],[0.8888888888888888,\"#fdca26\"],[1.0,\"#f0f921\"]],\"sequentialminus\":[[0.0,\"#0d0887\"],[0.1111111111111111,\"#46039f\"],[0.2222222222222222,\"#7201a8\"],[0.3333333333333333,\"#9c179e\"],[0.4444444444444444,\"#bd3786\"],[0.5555555555555556,\"#d8576b\"],[0.6666666666666666,\"#ed7953\"],[0.7777777777777778,\"#fb9f3a\"],[0.8888888888888888,\"#fdca26\"],[1.0,\"#f0f921\"]]},\"colorway\":[\"#636efa\",\"#EF553B\",\"#00cc96\",\"#ab63fa\",\"#FFA15A\",\"#19d3f3\",\"#FF6692\",\"#B6E880\",\"#FF97FF\",\"#FECB52\"],\"font\":{\"color\":\"#2a3f5f\"},\"geo\":{\"bgcolor\":\"white\",\"lakecolor\":\"white\",\"landcolor\":\"#E5ECF6\",\"showlakes\":true,\"showland\":true,\"subunitcolor\":\"white\"},\"hoverlabel\":{\"align\":\"left\"},\"hovermode\":\"closest\",\"mapbox\":{\"style\":\"light\"},\"paper_bgcolor\":\"white\",\"plot_bgcolor\":\"#E5ECF6\",\"polar\":{\"angularaxis\":{\"gridcolor\":\"white\",\"linecolor\":\"white\",\"ticks\":\"\"},\"bgcolor\":\"#E5ECF6\",\"radialaxis\":{\"gridcolor\":\"white\",\"linecolor\":\"white\",\"ticks\":\"\"}},\"scene\":{\"xaxis\":{\"backgroundcolor\":\"#E5ECF6\",\"gridcolor\":\"white\",\"gridwidth\":2,\"linecolor\":\"white\",\"showbackground\":true,\"ticks\":\"\",\"zerolinecolor\":\"white\"},\"yaxis\":{\"backgroundcolor\":\"#E5ECF6\",\"gridcolor\":\"white\",\"gridwidth\":2,\"linecolor\":\"white\",\"showbackground\":true,\"ticks\":\"\",\"zerolinecolor\":\"white\"},\"zaxis\":{\"backgroundcolor\":\"#E5ECF6\",\"gridcolor\":\"white\",\"gridwidth\":2,\"linecolor\":\"white\",\"showbackground\":true,\"ticks\":\"\",\"zerolinecolor\":\"white\"}},\"shapedefaults\":{\"line\":{\"color\":\"#2a3f5f\"}},\"ternary\":{\"aaxis\":{\"gridcolor\":\"white\",\"linecolor\":\"white\",\"ticks\":\"\"},\"baxis\":{\"gridcolor\":\"white\",\"linecolor\":\"white\",\"ticks\":\"\"},\"bgcolor\":\"#E5ECF6\",\"caxis\":{\"gridcolor\":\"white\",\"linecolor\":\"white\",\"ticks\":\"\"}},\"title\":{\"x\":0.05},\"xaxis\":{\"automargin\":true,\"gridcolor\":\"white\",\"linecolor\":\"white\",\"ticks\":\"\",\"title\":{\"standoff\":15},\"zerolinecolor\":\"white\",\"zerolinewidth\":2},\"yaxis\":{\"automargin\":true,\"gridcolor\":\"white\",\"linecolor\":\"white\",\"ticks\":\"\",\"title\":{\"standoff\":15},\"zerolinecolor\":\"white\",\"zerolinewidth\":2}}},\"title\":{\"text\":\"ENB.TO Historical Price\"},\"xaxis\":{\"anchor\":\"y\",\"domain\":[0.0,1.0],\"title\":{\"text\":\"date\"}},\"yaxis\":{\"anchor\":\"x\",\"domain\":[0.0,1.0],\"title\":{\"text\":\"value\"}}},                        {\"responsive\": true}                    ).then(function(){\n",
       "                            \n",
       "var gd = document.getElementById('49b30edc-8c07-42cf-b6aa-c72fd2016734');\n",
       "var x = new MutationObserver(function (mutations, observer) {{\n",
       "        var display = window.getComputedStyle(gd).display;\n",
       "        if (!display || display === 'none') {{\n",
       "            console.log([gd, 'removed!']);\n",
       "            Plotly.purge(gd);\n",
       "            observer.disconnect();\n",
       "        }}\n",
       "}});\n",
       "\n",
       "// Listen for the removal of the full notebook cells\n",
       "var notebookContainer = gd.closest('#notebook-container');\n",
       "if (notebookContainer) {{\n",
       "    x.observe(notebookContainer, {childList: true});\n",
       "}}\n",
       "\n",
       "// Listen for the clearing of the current output cell\n",
       "var outputEl = gd.closest('.output');\n",
       "if (outputEl) {{\n",
       "    x.observe(outputEl, {childList: true});\n",
       "}}\n",
       "\n",
       "                        })                };                });            </script>        </div>"
      ]
     },
     "metadata": {},
     "output_type": "display_data"
    },
    {
     "name": "stdout",
     "output_type": "stream",
     "text": [
      "=============================== ENB.TO =================================\n",
      "\n",
      "-------------------------- Summary Details ----------------------------\n"
     ]
    },
    {
     "data": {
      "text/html": [
       "<div>\n",
       "<style scoped>\n",
       "    .dataframe tbody tr th:only-of-type {\n",
       "        vertical-align: middle;\n",
       "    }\n",
       "\n",
       "    .dataframe tbody tr th {\n",
       "        vertical-align: top;\n",
       "    }\n",
       "\n",
       "    .dataframe thead th {\n",
       "        text-align: right;\n",
       "    }\n",
       "</style>\n",
       "<table border=\"1\" class=\"dataframe\">\n",
       "  <thead>\n",
       "    <tr style=\"text-align: right;\">\n",
       "      <th></th>\n",
       "      <th>Value</th>\n",
       "    </tr>\n",
       "  </thead>\n",
       "  <tbody>\n",
       "    <tr>\n",
       "      <th>totalAssets</th>\n",
       "      <td>NaN</td>\n",
       "    </tr>\n",
       "    <tr>\n",
       "      <th>previousClose</th>\n",
       "      <td>50.13</td>\n",
       "    </tr>\n",
       "    <tr>\n",
       "      <th>open</th>\n",
       "      <td>50.3</td>\n",
       "    </tr>\n",
       "    <tr>\n",
       "      <th>fiftyDayAverage</th>\n",
       "      <td>51.5546</td>\n",
       "    </tr>\n",
       "    <tr>\n",
       "      <th>fiftyDayAverage</th>\n",
       "      <td>51.5546</td>\n",
       "    </tr>\n",
       "    <tr>\n",
       "      <th>fiftyTwoWeekLow</th>\n",
       "      <td>39.84</td>\n",
       "    </tr>\n",
       "    <tr>\n",
       "      <th>fiftyTwoWeekHigh</th>\n",
       "      <td>54</td>\n",
       "    </tr>\n",
       "    <tr>\n",
       "      <th>twoHundredDayAverage</th>\n",
       "      <td>48.5294</td>\n",
       "    </tr>\n",
       "    <tr>\n",
       "      <th>volume</th>\n",
       "      <td>9541460</td>\n",
       "    </tr>\n",
       "    <tr>\n",
       "      <th>averageVolume</th>\n",
       "      <td>8226401</td>\n",
       "    </tr>\n",
       "    <tr>\n",
       "      <th>averageVolume10days</th>\n",
       "      <td>15059320</td>\n",
       "    </tr>\n",
       "    <tr>\n",
       "      <th>averageDailyVolume10Day</th>\n",
       "      <td>15059320</td>\n",
       "    </tr>\n",
       "  </tbody>\n",
       "</table>\n",
       "</div>"
      ],
      "text/plain": [
       "                            Value\n",
       "totalAssets                   NaN\n",
       "previousClose               50.13\n",
       "open                         50.3\n",
       "fiftyDayAverage           51.5546\n",
       "fiftyDayAverage           51.5546\n",
       "fiftyTwoWeekLow             39.84\n",
       "fiftyTwoWeekHigh               54\n",
       "twoHundredDayAverage      48.5294\n",
       "volume                    9541460\n",
       "averageVolume             8226401\n",
       "averageVolume10days      15059320\n",
       "averageDailyVolume10Day  15059320"
      ]
     },
     "metadata": {},
     "output_type": "display_data"
    },
    {
     "name": "stdout",
     "output_type": "stream",
     "text": [
      "-------------------------- Key Factor ----------------------------\n"
     ]
    },
    {
     "data": {
      "text/html": [
       "<div>\n",
       "<style scoped>\n",
       "    .dataframe tbody tr th:only-of-type {\n",
       "        vertical-align: middle;\n",
       "    }\n",
       "\n",
       "    .dataframe tbody tr th {\n",
       "        vertical-align: top;\n",
       "    }\n",
       "\n",
       "    .dataframe thead th {\n",
       "        text-align: right;\n",
       "    }\n",
       "</style>\n",
       "<table border=\"1\" class=\"dataframe\">\n",
       "  <thead>\n",
       "    <tr style=\"text-align: right;\">\n",
       "      <th></th>\n",
       "      <th>Value</th>\n",
       "    </tr>\n",
       "  </thead>\n",
       "  <tbody>\n",
       "    <tr>\n",
       "      <th>category</th>\n",
       "      <td>None</td>\n",
       "    </tr>\n",
       "    <tr>\n",
       "      <th>fundFamily</th>\n",
       "      <td>None</td>\n",
       "    </tr>\n",
       "    <tr>\n",
       "      <th>legalType</th>\n",
       "      <td>None</td>\n",
       "    </tr>\n",
       "  </tbody>\n",
       "</table>\n",
       "</div>"
      ],
      "text/plain": [
       "           Value\n",
       "category    None\n",
       "fundFamily  None\n",
       "legalType   None"
      ]
     },
     "metadata": {},
     "output_type": "display_data"
    },
    {
     "name": "stdout",
     "output_type": "stream",
     "text": [
      "-------------------------- Fund Sector ----------------------------\n",
      "-------------------------- Holdings ----------------------------\n",
      "-------------------------- Returns ----------------------------\n",
      "-------------------------- Risk Factors ----------------------------\n",
      "=========================================================================\n",
      "Recent News of HGU.TO :\n",
      "================================================================\n"
     ]
    },
    {
     "data": {
      "application/vnd.plotly.v1+json": {
       "config": {
        "plotlyServerURL": "https://plot.ly"
       },
       "data": [
        {
         "hovertemplate": "variable=open<br>date=%{x}<br>value=%{y}<extra></extra>",
         "legendgroup": "open",
         "line": {
          "color": "#636efa",
          "dash": "solid"
         },
         "mode": "lines",
         "name": "open",
         "orientation": "v",
         "showlegend": true,
         "type": "scatter",
         "x": [
          "2021-10-25",
          "2021-10-26",
          "2021-10-27",
          "2021-10-28",
          "2021-10-29",
          "2021-11-01",
          "2021-11-02",
          "2021-11-03",
          "2021-11-04",
          "2021-11-05",
          "2021-11-08",
          "2021-11-09",
          "2021-11-10",
          "2021-11-11",
          "2021-11-12",
          "2021-11-15",
          "2021-11-16",
          "2021-11-17",
          "2021-11-18",
          "2021-11-19",
          "2021-11-22",
          "2021-11-23"
         ],
         "xaxis": "x",
         "y": [
          16.860000610351562,
          16.450000762939453,
          16.43000030517578,
          16.459999084472656,
          15.5,
          15.119999885559082,
          15.079999923706055,
          14.520000457763672,
          15.5,
          15.600000381469727,
          16.639999389648438,
          16.450000762939453,
          17.3700008392334,
          18.450000762939453,
          18.559999465942383,
          18.979999542236328,
          19.079999923706055,
          18.81999969482422,
          19.200000762939453,
          18.5,
          17.239999771118164,
          16.899999618530273
         ],
         "yaxis": "y"
        },
        {
         "hovertemplate": "variable=high<br>date=%{x}<br>value=%{y}<extra></extra>",
         "legendgroup": "high",
         "line": {
          "color": "#EF553B",
          "dash": "solid"
         },
         "mode": "lines",
         "name": "high",
         "orientation": "v",
         "showlegend": true,
         "type": "scatter",
         "x": [
          "2021-10-25",
          "2021-10-26",
          "2021-10-27",
          "2021-10-28",
          "2021-10-29",
          "2021-11-01",
          "2021-11-02",
          "2021-11-03",
          "2021-11-04",
          "2021-11-05",
          "2021-11-08",
          "2021-11-09",
          "2021-11-10",
          "2021-11-11",
          "2021-11-12",
          "2021-11-15",
          "2021-11-16",
          "2021-11-17",
          "2021-11-18",
          "2021-11-19",
          "2021-11-22",
          "2021-11-23"
         ],
         "xaxis": "x",
         "y": [
          17,
          16.719999313354492,
          16.920000076293945,
          16.5,
          15.630000114440918,
          15.350000381469727,
          15.079999923706055,
          15.470000267028809,
          16.270000457763672,
          16.270000457763672,
          16.649999618530273,
          16.989999771118164,
          18.110000610351562,
          18.899999618530273,
          19.329999923706055,
          19.09000015258789,
          19.3700008392334,
          19.469999313354492,
          19.200000762939453,
          18.790000915527344,
          17.850000381469727,
          17.229999542236328
         ],
         "yaxis": "y"
        },
        {
         "hovertemplate": "variable=close<br>date=%{x}<br>value=%{y}<extra></extra>",
         "legendgroup": "close",
         "line": {
          "color": "#00cc96",
          "dash": "solid"
         },
         "mode": "lines",
         "name": "close",
         "orientation": "v",
         "showlegend": true,
         "type": "scatter",
         "x": [
          "2021-10-25",
          "2021-10-26",
          "2021-10-27",
          "2021-10-28",
          "2021-10-29",
          "2021-11-01",
          "2021-11-02",
          "2021-11-03",
          "2021-11-04",
          "2021-11-05",
          "2021-11-08",
          "2021-11-09",
          "2021-11-10",
          "2021-11-11",
          "2021-11-12",
          "2021-11-15",
          "2021-11-16",
          "2021-11-17",
          "2021-11-18",
          "2021-11-19",
          "2021-11-22",
          "2021-11-23"
         ],
         "xaxis": "x",
         "y": [
          16.809999465942383,
          16.6299991607666,
          16.459999084472656,
          16,
          15.109999656677246,
          15.100000381469727,
          14.989999771118164,
          15.369999885559082,
          15.420000076293945,
          16.270000457763672,
          16.31999969482422,
          16.969999313354492,
          17.899999618530273,
          18.84000015258789,
          19,
          18.979999542236328,
          18.639999389648438,
          19.209999084472656,
          18.610000610351562,
          18.079999923706055,
          17.420000076293945,
          16.690000534057617
         ],
         "yaxis": "y"
        },
        {
         "hovertemplate": "variable=low<br>date=%{x}<br>value=%{y}<extra></extra>",
         "legendgroup": "low",
         "line": {
          "color": "#ab63fa",
          "dash": "solid"
         },
         "mode": "lines",
         "name": "low",
         "orientation": "v",
         "showlegend": true,
         "type": "scatter",
         "x": [
          "2021-10-25",
          "2021-10-26",
          "2021-10-27",
          "2021-10-28",
          "2021-10-29",
          "2021-11-01",
          "2021-11-02",
          "2021-11-03",
          "2021-11-04",
          "2021-11-05",
          "2021-11-08",
          "2021-11-09",
          "2021-11-10",
          "2021-11-11",
          "2021-11-12",
          "2021-11-15",
          "2021-11-16",
          "2021-11-17",
          "2021-11-18",
          "2021-11-19",
          "2021-11-22",
          "2021-11-23"
         ],
         "xaxis": "x",
         "y": [
          16.56999969482422,
          16.360000610351562,
          16.260000228881836,
          15.90999984741211,
          15.100000381469727,
          14.859999656677246,
          14.739999771118164,
          14.520000457763672,
          15.390000343322754,
          15.399999618530273,
          16.100000381469727,
          16.299999237060547,
          17.3700008392334,
          18.270000457763672,
          18.559999465942383,
          18.579999923706055,
          18.59000015258789,
          18.81999969482422,
          18.520000457763672,
          18.030000686645508,
          16.940000534057617,
          16.440000534057617
         ],
         "yaxis": "y"
        },
        {
         "hovertemplate": "variable=adjclose<br>date=%{x}<br>value=%{y}<extra></extra>",
         "legendgroup": "adjclose",
         "line": {
          "color": "#FFA15A",
          "dash": "solid"
         },
         "mode": "lines",
         "name": "adjclose",
         "orientation": "v",
         "showlegend": true,
         "type": "scatter",
         "x": [
          "2021-10-25",
          "2021-10-26",
          "2021-10-27",
          "2021-10-28",
          "2021-10-29",
          "2021-11-01",
          "2021-11-02",
          "2021-11-03",
          "2021-11-04",
          "2021-11-05",
          "2021-11-08",
          "2021-11-09",
          "2021-11-10",
          "2021-11-11",
          "2021-11-12",
          "2021-11-15",
          "2021-11-16",
          "2021-11-17",
          "2021-11-18",
          "2021-11-19",
          "2021-11-22",
          "2021-11-23"
         ],
         "xaxis": "x",
         "y": [
          16.809999465942383,
          16.6299991607666,
          16.459999084472656,
          16,
          15.109999656677246,
          15.100000381469727,
          14.989999771118164,
          15.369999885559082,
          15.420000076293945,
          16.270000457763672,
          16.31999969482422,
          16.969999313354492,
          17.899999618530273,
          18.84000015258789,
          19,
          18.979999542236328,
          18.639999389648438,
          19.209999084472656,
          18.610000610351562,
          18.079999923706055,
          17.420000076293945,
          16.690000534057617
         ],
         "yaxis": "y"
        }
       ],
       "layout": {
        "legend": {
         "title": {
          "text": "variable"
         },
         "tracegroupgap": 0
        },
        "template": {
         "data": {
          "bar": [
           {
            "error_x": {
             "color": "#2a3f5f"
            },
            "error_y": {
             "color": "#2a3f5f"
            },
            "marker": {
             "line": {
              "color": "#E5ECF6",
              "width": 0.5
             },
             "pattern": {
              "fillmode": "overlay",
              "size": 10,
              "solidity": 0.2
             }
            },
            "type": "bar"
           }
          ],
          "barpolar": [
           {
            "marker": {
             "line": {
              "color": "#E5ECF6",
              "width": 0.5
             },
             "pattern": {
              "fillmode": "overlay",
              "size": 10,
              "solidity": 0.2
             }
            },
            "type": "barpolar"
           }
          ],
          "carpet": [
           {
            "aaxis": {
             "endlinecolor": "#2a3f5f",
             "gridcolor": "white",
             "linecolor": "white",
             "minorgridcolor": "white",
             "startlinecolor": "#2a3f5f"
            },
            "baxis": {
             "endlinecolor": "#2a3f5f",
             "gridcolor": "white",
             "linecolor": "white",
             "minorgridcolor": "white",
             "startlinecolor": "#2a3f5f"
            },
            "type": "carpet"
           }
          ],
          "choropleth": [
           {
            "colorbar": {
             "outlinewidth": 0,
             "ticks": ""
            },
            "type": "choropleth"
           }
          ],
          "contour": [
           {
            "colorbar": {
             "outlinewidth": 0,
             "ticks": ""
            },
            "colorscale": [
             [
              0,
              "#0d0887"
             ],
             [
              0.1111111111111111,
              "#46039f"
             ],
             [
              0.2222222222222222,
              "#7201a8"
             ],
             [
              0.3333333333333333,
              "#9c179e"
             ],
             [
              0.4444444444444444,
              "#bd3786"
             ],
             [
              0.5555555555555556,
              "#d8576b"
             ],
             [
              0.6666666666666666,
              "#ed7953"
             ],
             [
              0.7777777777777778,
              "#fb9f3a"
             ],
             [
              0.8888888888888888,
              "#fdca26"
             ],
             [
              1,
              "#f0f921"
             ]
            ],
            "type": "contour"
           }
          ],
          "contourcarpet": [
           {
            "colorbar": {
             "outlinewidth": 0,
             "ticks": ""
            },
            "type": "contourcarpet"
           }
          ],
          "heatmap": [
           {
            "colorbar": {
             "outlinewidth": 0,
             "ticks": ""
            },
            "colorscale": [
             [
              0,
              "#0d0887"
             ],
             [
              0.1111111111111111,
              "#46039f"
             ],
             [
              0.2222222222222222,
              "#7201a8"
             ],
             [
              0.3333333333333333,
              "#9c179e"
             ],
             [
              0.4444444444444444,
              "#bd3786"
             ],
             [
              0.5555555555555556,
              "#d8576b"
             ],
             [
              0.6666666666666666,
              "#ed7953"
             ],
             [
              0.7777777777777778,
              "#fb9f3a"
             ],
             [
              0.8888888888888888,
              "#fdca26"
             ],
             [
              1,
              "#f0f921"
             ]
            ],
            "type": "heatmap"
           }
          ],
          "heatmapgl": [
           {
            "colorbar": {
             "outlinewidth": 0,
             "ticks": ""
            },
            "colorscale": [
             [
              0,
              "#0d0887"
             ],
             [
              0.1111111111111111,
              "#46039f"
             ],
             [
              0.2222222222222222,
              "#7201a8"
             ],
             [
              0.3333333333333333,
              "#9c179e"
             ],
             [
              0.4444444444444444,
              "#bd3786"
             ],
             [
              0.5555555555555556,
              "#d8576b"
             ],
             [
              0.6666666666666666,
              "#ed7953"
             ],
             [
              0.7777777777777778,
              "#fb9f3a"
             ],
             [
              0.8888888888888888,
              "#fdca26"
             ],
             [
              1,
              "#f0f921"
             ]
            ],
            "type": "heatmapgl"
           }
          ],
          "histogram": [
           {
            "marker": {
             "pattern": {
              "fillmode": "overlay",
              "size": 10,
              "solidity": 0.2
             }
            },
            "type": "histogram"
           }
          ],
          "histogram2d": [
           {
            "colorbar": {
             "outlinewidth": 0,
             "ticks": ""
            },
            "colorscale": [
             [
              0,
              "#0d0887"
             ],
             [
              0.1111111111111111,
              "#46039f"
             ],
             [
              0.2222222222222222,
              "#7201a8"
             ],
             [
              0.3333333333333333,
              "#9c179e"
             ],
             [
              0.4444444444444444,
              "#bd3786"
             ],
             [
              0.5555555555555556,
              "#d8576b"
             ],
             [
              0.6666666666666666,
              "#ed7953"
             ],
             [
              0.7777777777777778,
              "#fb9f3a"
             ],
             [
              0.8888888888888888,
              "#fdca26"
             ],
             [
              1,
              "#f0f921"
             ]
            ],
            "type": "histogram2d"
           }
          ],
          "histogram2dcontour": [
           {
            "colorbar": {
             "outlinewidth": 0,
             "ticks": ""
            },
            "colorscale": [
             [
              0,
              "#0d0887"
             ],
             [
              0.1111111111111111,
              "#46039f"
             ],
             [
              0.2222222222222222,
              "#7201a8"
             ],
             [
              0.3333333333333333,
              "#9c179e"
             ],
             [
              0.4444444444444444,
              "#bd3786"
             ],
             [
              0.5555555555555556,
              "#d8576b"
             ],
             [
              0.6666666666666666,
              "#ed7953"
             ],
             [
              0.7777777777777778,
              "#fb9f3a"
             ],
             [
              0.8888888888888888,
              "#fdca26"
             ],
             [
              1,
              "#f0f921"
             ]
            ],
            "type": "histogram2dcontour"
           }
          ],
          "mesh3d": [
           {
            "colorbar": {
             "outlinewidth": 0,
             "ticks": ""
            },
            "type": "mesh3d"
           }
          ],
          "parcoords": [
           {
            "line": {
             "colorbar": {
              "outlinewidth": 0,
              "ticks": ""
             }
            },
            "type": "parcoords"
           }
          ],
          "pie": [
           {
            "automargin": true,
            "type": "pie"
           }
          ],
          "scatter": [
           {
            "marker": {
             "colorbar": {
              "outlinewidth": 0,
              "ticks": ""
             }
            },
            "type": "scatter"
           }
          ],
          "scatter3d": [
           {
            "line": {
             "colorbar": {
              "outlinewidth": 0,
              "ticks": ""
             }
            },
            "marker": {
             "colorbar": {
              "outlinewidth": 0,
              "ticks": ""
             }
            },
            "type": "scatter3d"
           }
          ],
          "scattercarpet": [
           {
            "marker": {
             "colorbar": {
              "outlinewidth": 0,
              "ticks": ""
             }
            },
            "type": "scattercarpet"
           }
          ],
          "scattergeo": [
           {
            "marker": {
             "colorbar": {
              "outlinewidth": 0,
              "ticks": ""
             }
            },
            "type": "scattergeo"
           }
          ],
          "scattergl": [
           {
            "marker": {
             "colorbar": {
              "outlinewidth": 0,
              "ticks": ""
             }
            },
            "type": "scattergl"
           }
          ],
          "scattermapbox": [
           {
            "marker": {
             "colorbar": {
              "outlinewidth": 0,
              "ticks": ""
             }
            },
            "type": "scattermapbox"
           }
          ],
          "scatterpolar": [
           {
            "marker": {
             "colorbar": {
              "outlinewidth": 0,
              "ticks": ""
             }
            },
            "type": "scatterpolar"
           }
          ],
          "scatterpolargl": [
           {
            "marker": {
             "colorbar": {
              "outlinewidth": 0,
              "ticks": ""
             }
            },
            "type": "scatterpolargl"
           }
          ],
          "scatterternary": [
           {
            "marker": {
             "colorbar": {
              "outlinewidth": 0,
              "ticks": ""
             }
            },
            "type": "scatterternary"
           }
          ],
          "surface": [
           {
            "colorbar": {
             "outlinewidth": 0,
             "ticks": ""
            },
            "colorscale": [
             [
              0,
              "#0d0887"
             ],
             [
              0.1111111111111111,
              "#46039f"
             ],
             [
              0.2222222222222222,
              "#7201a8"
             ],
             [
              0.3333333333333333,
              "#9c179e"
             ],
             [
              0.4444444444444444,
              "#bd3786"
             ],
             [
              0.5555555555555556,
              "#d8576b"
             ],
             [
              0.6666666666666666,
              "#ed7953"
             ],
             [
              0.7777777777777778,
              "#fb9f3a"
             ],
             [
              0.8888888888888888,
              "#fdca26"
             ],
             [
              1,
              "#f0f921"
             ]
            ],
            "type": "surface"
           }
          ],
          "table": [
           {
            "cells": {
             "fill": {
              "color": "#EBF0F8"
             },
             "line": {
              "color": "white"
             }
            },
            "header": {
             "fill": {
              "color": "#C8D4E3"
             },
             "line": {
              "color": "white"
             }
            },
            "type": "table"
           }
          ]
         },
         "layout": {
          "annotationdefaults": {
           "arrowcolor": "#2a3f5f",
           "arrowhead": 0,
           "arrowwidth": 1
          },
          "autotypenumbers": "strict",
          "coloraxis": {
           "colorbar": {
            "outlinewidth": 0,
            "ticks": ""
           }
          },
          "colorscale": {
           "diverging": [
            [
             0,
             "#8e0152"
            ],
            [
             0.1,
             "#c51b7d"
            ],
            [
             0.2,
             "#de77ae"
            ],
            [
             0.3,
             "#f1b6da"
            ],
            [
             0.4,
             "#fde0ef"
            ],
            [
             0.5,
             "#f7f7f7"
            ],
            [
             0.6,
             "#e6f5d0"
            ],
            [
             0.7,
             "#b8e186"
            ],
            [
             0.8,
             "#7fbc41"
            ],
            [
             0.9,
             "#4d9221"
            ],
            [
             1,
             "#276419"
            ]
           ],
           "sequential": [
            [
             0,
             "#0d0887"
            ],
            [
             0.1111111111111111,
             "#46039f"
            ],
            [
             0.2222222222222222,
             "#7201a8"
            ],
            [
             0.3333333333333333,
             "#9c179e"
            ],
            [
             0.4444444444444444,
             "#bd3786"
            ],
            [
             0.5555555555555556,
             "#d8576b"
            ],
            [
             0.6666666666666666,
             "#ed7953"
            ],
            [
             0.7777777777777778,
             "#fb9f3a"
            ],
            [
             0.8888888888888888,
             "#fdca26"
            ],
            [
             1,
             "#f0f921"
            ]
           ],
           "sequentialminus": [
            [
             0,
             "#0d0887"
            ],
            [
             0.1111111111111111,
             "#46039f"
            ],
            [
             0.2222222222222222,
             "#7201a8"
            ],
            [
             0.3333333333333333,
             "#9c179e"
            ],
            [
             0.4444444444444444,
             "#bd3786"
            ],
            [
             0.5555555555555556,
             "#d8576b"
            ],
            [
             0.6666666666666666,
             "#ed7953"
            ],
            [
             0.7777777777777778,
             "#fb9f3a"
            ],
            [
             0.8888888888888888,
             "#fdca26"
            ],
            [
             1,
             "#f0f921"
            ]
           ]
          },
          "colorway": [
           "#636efa",
           "#EF553B",
           "#00cc96",
           "#ab63fa",
           "#FFA15A",
           "#19d3f3",
           "#FF6692",
           "#B6E880",
           "#FF97FF",
           "#FECB52"
          ],
          "font": {
           "color": "#2a3f5f"
          },
          "geo": {
           "bgcolor": "white",
           "lakecolor": "white",
           "landcolor": "#E5ECF6",
           "showlakes": true,
           "showland": true,
           "subunitcolor": "white"
          },
          "hoverlabel": {
           "align": "left"
          },
          "hovermode": "closest",
          "mapbox": {
           "style": "light"
          },
          "paper_bgcolor": "white",
          "plot_bgcolor": "#E5ECF6",
          "polar": {
           "angularaxis": {
            "gridcolor": "white",
            "linecolor": "white",
            "ticks": ""
           },
           "bgcolor": "#E5ECF6",
           "radialaxis": {
            "gridcolor": "white",
            "linecolor": "white",
            "ticks": ""
           }
          },
          "scene": {
           "xaxis": {
            "backgroundcolor": "#E5ECF6",
            "gridcolor": "white",
            "gridwidth": 2,
            "linecolor": "white",
            "showbackground": true,
            "ticks": "",
            "zerolinecolor": "white"
           },
           "yaxis": {
            "backgroundcolor": "#E5ECF6",
            "gridcolor": "white",
            "gridwidth": 2,
            "linecolor": "white",
            "showbackground": true,
            "ticks": "",
            "zerolinecolor": "white"
           },
           "zaxis": {
            "backgroundcolor": "#E5ECF6",
            "gridcolor": "white",
            "gridwidth": 2,
            "linecolor": "white",
            "showbackground": true,
            "ticks": "",
            "zerolinecolor": "white"
           }
          },
          "shapedefaults": {
           "line": {
            "color": "#2a3f5f"
           }
          },
          "ternary": {
           "aaxis": {
            "gridcolor": "white",
            "linecolor": "white",
            "ticks": ""
           },
           "baxis": {
            "gridcolor": "white",
            "linecolor": "white",
            "ticks": ""
           },
           "bgcolor": "#E5ECF6",
           "caxis": {
            "gridcolor": "white",
            "linecolor": "white",
            "ticks": ""
           }
          },
          "title": {
           "x": 0.05
          },
          "xaxis": {
           "automargin": true,
           "gridcolor": "white",
           "linecolor": "white",
           "ticks": "",
           "title": {
            "standoff": 15
           },
           "zerolinecolor": "white",
           "zerolinewidth": 2
          },
          "yaxis": {
           "automargin": true,
           "gridcolor": "white",
           "linecolor": "white",
           "ticks": "",
           "title": {
            "standoff": 15
           },
           "zerolinecolor": "white",
           "zerolinewidth": 2
          }
         }
        },
        "title": {
         "text": "HGU.TO Historical Price"
        },
        "xaxis": {
         "anchor": "y",
         "domain": [
          0,
          1
         ],
         "title": {
          "text": "date"
         }
        },
        "yaxis": {
         "anchor": "x",
         "domain": [
          0,
          1
         ],
         "title": {
          "text": "value"
         }
        }
       }
      },
      "text/html": [
       "<div>                            <div id=\"d9fa9edc-2fa7-45eb-9929-16b6a347a18f\" class=\"plotly-graph-div\" style=\"height:525px; width:100%;\"></div>            <script type=\"text/javascript\">                require([\"plotly\"], function(Plotly) {                    window.PLOTLYENV=window.PLOTLYENV || {};                                    if (document.getElementById(\"d9fa9edc-2fa7-45eb-9929-16b6a347a18f\")) {                    Plotly.newPlot(                        \"d9fa9edc-2fa7-45eb-9929-16b6a347a18f\",                        [{\"hovertemplate\":\"variable=open<br>date=%{x}<br>value=%{y}<extra></extra>\",\"legendgroup\":\"open\",\"line\":{\"color\":\"#636efa\",\"dash\":\"solid\"},\"mode\":\"lines\",\"name\":\"open\",\"orientation\":\"v\",\"showlegend\":true,\"type\":\"scatter\",\"x\":[\"2021-10-25\",\"2021-10-26\",\"2021-10-27\",\"2021-10-28\",\"2021-10-29\",\"2021-11-01\",\"2021-11-02\",\"2021-11-03\",\"2021-11-04\",\"2021-11-05\",\"2021-11-08\",\"2021-11-09\",\"2021-11-10\",\"2021-11-11\",\"2021-11-12\",\"2021-11-15\",\"2021-11-16\",\"2021-11-17\",\"2021-11-18\",\"2021-11-19\",\"2021-11-22\",\"2021-11-23\"],\"xaxis\":\"x\",\"y\":[16.860000610351562,16.450000762939453,16.43000030517578,16.459999084472656,15.5,15.119999885559082,15.079999923706055,14.520000457763672,15.5,15.600000381469727,16.639999389648438,16.450000762939453,17.3700008392334,18.450000762939453,18.559999465942383,18.979999542236328,19.079999923706055,18.81999969482422,19.200000762939453,18.5,17.239999771118164,16.899999618530273],\"yaxis\":\"y\"},{\"hovertemplate\":\"variable=high<br>date=%{x}<br>value=%{y}<extra></extra>\",\"legendgroup\":\"high\",\"line\":{\"color\":\"#EF553B\",\"dash\":\"solid\"},\"mode\":\"lines\",\"name\":\"high\",\"orientation\":\"v\",\"showlegend\":true,\"type\":\"scatter\",\"x\":[\"2021-10-25\",\"2021-10-26\",\"2021-10-27\",\"2021-10-28\",\"2021-10-29\",\"2021-11-01\",\"2021-11-02\",\"2021-11-03\",\"2021-11-04\",\"2021-11-05\",\"2021-11-08\",\"2021-11-09\",\"2021-11-10\",\"2021-11-11\",\"2021-11-12\",\"2021-11-15\",\"2021-11-16\",\"2021-11-17\",\"2021-11-18\",\"2021-11-19\",\"2021-11-22\",\"2021-11-23\"],\"xaxis\":\"x\",\"y\":[17.0,16.719999313354492,16.920000076293945,16.5,15.630000114440918,15.350000381469727,15.079999923706055,15.470000267028809,16.270000457763672,16.270000457763672,16.649999618530273,16.989999771118164,18.110000610351562,18.899999618530273,19.329999923706055,19.09000015258789,19.3700008392334,19.469999313354492,19.200000762939453,18.790000915527344,17.850000381469727,17.229999542236328],\"yaxis\":\"y\"},{\"hovertemplate\":\"variable=close<br>date=%{x}<br>value=%{y}<extra></extra>\",\"legendgroup\":\"close\",\"line\":{\"color\":\"#00cc96\",\"dash\":\"solid\"},\"mode\":\"lines\",\"name\":\"close\",\"orientation\":\"v\",\"showlegend\":true,\"type\":\"scatter\",\"x\":[\"2021-10-25\",\"2021-10-26\",\"2021-10-27\",\"2021-10-28\",\"2021-10-29\",\"2021-11-01\",\"2021-11-02\",\"2021-11-03\",\"2021-11-04\",\"2021-11-05\",\"2021-11-08\",\"2021-11-09\",\"2021-11-10\",\"2021-11-11\",\"2021-11-12\",\"2021-11-15\",\"2021-11-16\",\"2021-11-17\",\"2021-11-18\",\"2021-11-19\",\"2021-11-22\",\"2021-11-23\"],\"xaxis\":\"x\",\"y\":[16.809999465942383,16.6299991607666,16.459999084472656,16.0,15.109999656677246,15.100000381469727,14.989999771118164,15.369999885559082,15.420000076293945,16.270000457763672,16.31999969482422,16.969999313354492,17.899999618530273,18.84000015258789,19.0,18.979999542236328,18.639999389648438,19.209999084472656,18.610000610351562,18.079999923706055,17.420000076293945,16.690000534057617],\"yaxis\":\"y\"},{\"hovertemplate\":\"variable=low<br>date=%{x}<br>value=%{y}<extra></extra>\",\"legendgroup\":\"low\",\"line\":{\"color\":\"#ab63fa\",\"dash\":\"solid\"},\"mode\":\"lines\",\"name\":\"low\",\"orientation\":\"v\",\"showlegend\":true,\"type\":\"scatter\",\"x\":[\"2021-10-25\",\"2021-10-26\",\"2021-10-27\",\"2021-10-28\",\"2021-10-29\",\"2021-11-01\",\"2021-11-02\",\"2021-11-03\",\"2021-11-04\",\"2021-11-05\",\"2021-11-08\",\"2021-11-09\",\"2021-11-10\",\"2021-11-11\",\"2021-11-12\",\"2021-11-15\",\"2021-11-16\",\"2021-11-17\",\"2021-11-18\",\"2021-11-19\",\"2021-11-22\",\"2021-11-23\"],\"xaxis\":\"x\",\"y\":[16.56999969482422,16.360000610351562,16.260000228881836,15.90999984741211,15.100000381469727,14.859999656677246,14.739999771118164,14.520000457763672,15.390000343322754,15.399999618530273,16.100000381469727,16.299999237060547,17.3700008392334,18.270000457763672,18.559999465942383,18.579999923706055,18.59000015258789,18.81999969482422,18.520000457763672,18.030000686645508,16.940000534057617,16.440000534057617],\"yaxis\":\"y\"},{\"hovertemplate\":\"variable=adjclose<br>date=%{x}<br>value=%{y}<extra></extra>\",\"legendgroup\":\"adjclose\",\"line\":{\"color\":\"#FFA15A\",\"dash\":\"solid\"},\"mode\":\"lines\",\"name\":\"adjclose\",\"orientation\":\"v\",\"showlegend\":true,\"type\":\"scatter\",\"x\":[\"2021-10-25\",\"2021-10-26\",\"2021-10-27\",\"2021-10-28\",\"2021-10-29\",\"2021-11-01\",\"2021-11-02\",\"2021-11-03\",\"2021-11-04\",\"2021-11-05\",\"2021-11-08\",\"2021-11-09\",\"2021-11-10\",\"2021-11-11\",\"2021-11-12\",\"2021-11-15\",\"2021-11-16\",\"2021-11-17\",\"2021-11-18\",\"2021-11-19\",\"2021-11-22\",\"2021-11-23\"],\"xaxis\":\"x\",\"y\":[16.809999465942383,16.6299991607666,16.459999084472656,16.0,15.109999656677246,15.100000381469727,14.989999771118164,15.369999885559082,15.420000076293945,16.270000457763672,16.31999969482422,16.969999313354492,17.899999618530273,18.84000015258789,19.0,18.979999542236328,18.639999389648438,19.209999084472656,18.610000610351562,18.079999923706055,17.420000076293945,16.690000534057617],\"yaxis\":\"y\"}],                        {\"legend\":{\"title\":{\"text\":\"variable\"},\"tracegroupgap\":0},\"template\":{\"data\":{\"bar\":[{\"error_x\":{\"color\":\"#2a3f5f\"},\"error_y\":{\"color\":\"#2a3f5f\"},\"marker\":{\"line\":{\"color\":\"#E5ECF6\",\"width\":0.5},\"pattern\":{\"fillmode\":\"overlay\",\"size\":10,\"solidity\":0.2}},\"type\":\"bar\"}],\"barpolar\":[{\"marker\":{\"line\":{\"color\":\"#E5ECF6\",\"width\":0.5},\"pattern\":{\"fillmode\":\"overlay\",\"size\":10,\"solidity\":0.2}},\"type\":\"barpolar\"}],\"carpet\":[{\"aaxis\":{\"endlinecolor\":\"#2a3f5f\",\"gridcolor\":\"white\",\"linecolor\":\"white\",\"minorgridcolor\":\"white\",\"startlinecolor\":\"#2a3f5f\"},\"baxis\":{\"endlinecolor\":\"#2a3f5f\",\"gridcolor\":\"white\",\"linecolor\":\"white\",\"minorgridcolor\":\"white\",\"startlinecolor\":\"#2a3f5f\"},\"type\":\"carpet\"}],\"choropleth\":[{\"colorbar\":{\"outlinewidth\":0,\"ticks\":\"\"},\"type\":\"choropleth\"}],\"contour\":[{\"colorbar\":{\"outlinewidth\":0,\"ticks\":\"\"},\"colorscale\":[[0.0,\"#0d0887\"],[0.1111111111111111,\"#46039f\"],[0.2222222222222222,\"#7201a8\"],[0.3333333333333333,\"#9c179e\"],[0.4444444444444444,\"#bd3786\"],[0.5555555555555556,\"#d8576b\"],[0.6666666666666666,\"#ed7953\"],[0.7777777777777778,\"#fb9f3a\"],[0.8888888888888888,\"#fdca26\"],[1.0,\"#f0f921\"]],\"type\":\"contour\"}],\"contourcarpet\":[{\"colorbar\":{\"outlinewidth\":0,\"ticks\":\"\"},\"type\":\"contourcarpet\"}],\"heatmap\":[{\"colorbar\":{\"outlinewidth\":0,\"ticks\":\"\"},\"colorscale\":[[0.0,\"#0d0887\"],[0.1111111111111111,\"#46039f\"],[0.2222222222222222,\"#7201a8\"],[0.3333333333333333,\"#9c179e\"],[0.4444444444444444,\"#bd3786\"],[0.5555555555555556,\"#d8576b\"],[0.6666666666666666,\"#ed7953\"],[0.7777777777777778,\"#fb9f3a\"],[0.8888888888888888,\"#fdca26\"],[1.0,\"#f0f921\"]],\"type\":\"heatmap\"}],\"heatmapgl\":[{\"colorbar\":{\"outlinewidth\":0,\"ticks\":\"\"},\"colorscale\":[[0.0,\"#0d0887\"],[0.1111111111111111,\"#46039f\"],[0.2222222222222222,\"#7201a8\"],[0.3333333333333333,\"#9c179e\"],[0.4444444444444444,\"#bd3786\"],[0.5555555555555556,\"#d8576b\"],[0.6666666666666666,\"#ed7953\"],[0.7777777777777778,\"#fb9f3a\"],[0.8888888888888888,\"#fdca26\"],[1.0,\"#f0f921\"]],\"type\":\"heatmapgl\"}],\"histogram\":[{\"marker\":{\"pattern\":{\"fillmode\":\"overlay\",\"size\":10,\"solidity\":0.2}},\"type\":\"histogram\"}],\"histogram2d\":[{\"colorbar\":{\"outlinewidth\":0,\"ticks\":\"\"},\"colorscale\":[[0.0,\"#0d0887\"],[0.1111111111111111,\"#46039f\"],[0.2222222222222222,\"#7201a8\"],[0.3333333333333333,\"#9c179e\"],[0.4444444444444444,\"#bd3786\"],[0.5555555555555556,\"#d8576b\"],[0.6666666666666666,\"#ed7953\"],[0.7777777777777778,\"#fb9f3a\"],[0.8888888888888888,\"#fdca26\"],[1.0,\"#f0f921\"]],\"type\":\"histogram2d\"}],\"histogram2dcontour\":[{\"colorbar\":{\"outlinewidth\":0,\"ticks\":\"\"},\"colorscale\":[[0.0,\"#0d0887\"],[0.1111111111111111,\"#46039f\"],[0.2222222222222222,\"#7201a8\"],[0.3333333333333333,\"#9c179e\"],[0.4444444444444444,\"#bd3786\"],[0.5555555555555556,\"#d8576b\"],[0.6666666666666666,\"#ed7953\"],[0.7777777777777778,\"#fb9f3a\"],[0.8888888888888888,\"#fdca26\"],[1.0,\"#f0f921\"]],\"type\":\"histogram2dcontour\"}],\"mesh3d\":[{\"colorbar\":{\"outlinewidth\":0,\"ticks\":\"\"},\"type\":\"mesh3d\"}],\"parcoords\":[{\"line\":{\"colorbar\":{\"outlinewidth\":0,\"ticks\":\"\"}},\"type\":\"parcoords\"}],\"pie\":[{\"automargin\":true,\"type\":\"pie\"}],\"scatter\":[{\"marker\":{\"colorbar\":{\"outlinewidth\":0,\"ticks\":\"\"}},\"type\":\"scatter\"}],\"scatter3d\":[{\"line\":{\"colorbar\":{\"outlinewidth\":0,\"ticks\":\"\"}},\"marker\":{\"colorbar\":{\"outlinewidth\":0,\"ticks\":\"\"}},\"type\":\"scatter3d\"}],\"scattercarpet\":[{\"marker\":{\"colorbar\":{\"outlinewidth\":0,\"ticks\":\"\"}},\"type\":\"scattercarpet\"}],\"scattergeo\":[{\"marker\":{\"colorbar\":{\"outlinewidth\":0,\"ticks\":\"\"}},\"type\":\"scattergeo\"}],\"scattergl\":[{\"marker\":{\"colorbar\":{\"outlinewidth\":0,\"ticks\":\"\"}},\"type\":\"scattergl\"}],\"scattermapbox\":[{\"marker\":{\"colorbar\":{\"outlinewidth\":0,\"ticks\":\"\"}},\"type\":\"scattermapbox\"}],\"scatterpolar\":[{\"marker\":{\"colorbar\":{\"outlinewidth\":0,\"ticks\":\"\"}},\"type\":\"scatterpolar\"}],\"scatterpolargl\":[{\"marker\":{\"colorbar\":{\"outlinewidth\":0,\"ticks\":\"\"}},\"type\":\"scatterpolargl\"}],\"scatterternary\":[{\"marker\":{\"colorbar\":{\"outlinewidth\":0,\"ticks\":\"\"}},\"type\":\"scatterternary\"}],\"surface\":[{\"colorbar\":{\"outlinewidth\":0,\"ticks\":\"\"},\"colorscale\":[[0.0,\"#0d0887\"],[0.1111111111111111,\"#46039f\"],[0.2222222222222222,\"#7201a8\"],[0.3333333333333333,\"#9c179e\"],[0.4444444444444444,\"#bd3786\"],[0.5555555555555556,\"#d8576b\"],[0.6666666666666666,\"#ed7953\"],[0.7777777777777778,\"#fb9f3a\"],[0.8888888888888888,\"#fdca26\"],[1.0,\"#f0f921\"]],\"type\":\"surface\"}],\"table\":[{\"cells\":{\"fill\":{\"color\":\"#EBF0F8\"},\"line\":{\"color\":\"white\"}},\"header\":{\"fill\":{\"color\":\"#C8D4E3\"},\"line\":{\"color\":\"white\"}},\"type\":\"table\"}]},\"layout\":{\"annotationdefaults\":{\"arrowcolor\":\"#2a3f5f\",\"arrowhead\":0,\"arrowwidth\":1},\"autotypenumbers\":\"strict\",\"coloraxis\":{\"colorbar\":{\"outlinewidth\":0,\"ticks\":\"\"}},\"colorscale\":{\"diverging\":[[0,\"#8e0152\"],[0.1,\"#c51b7d\"],[0.2,\"#de77ae\"],[0.3,\"#f1b6da\"],[0.4,\"#fde0ef\"],[0.5,\"#f7f7f7\"],[0.6,\"#e6f5d0\"],[0.7,\"#b8e186\"],[0.8,\"#7fbc41\"],[0.9,\"#4d9221\"],[1,\"#276419\"]],\"sequential\":[[0.0,\"#0d0887\"],[0.1111111111111111,\"#46039f\"],[0.2222222222222222,\"#7201a8\"],[0.3333333333333333,\"#9c179e\"],[0.4444444444444444,\"#bd3786\"],[0.5555555555555556,\"#d8576b\"],[0.6666666666666666,\"#ed7953\"],[0.7777777777777778,\"#fb9f3a\"],[0.8888888888888888,\"#fdca26\"],[1.0,\"#f0f921\"]],\"sequentialminus\":[[0.0,\"#0d0887\"],[0.1111111111111111,\"#46039f\"],[0.2222222222222222,\"#7201a8\"],[0.3333333333333333,\"#9c179e\"],[0.4444444444444444,\"#bd3786\"],[0.5555555555555556,\"#d8576b\"],[0.6666666666666666,\"#ed7953\"],[0.7777777777777778,\"#fb9f3a\"],[0.8888888888888888,\"#fdca26\"],[1.0,\"#f0f921\"]]},\"colorway\":[\"#636efa\",\"#EF553B\",\"#00cc96\",\"#ab63fa\",\"#FFA15A\",\"#19d3f3\",\"#FF6692\",\"#B6E880\",\"#FF97FF\",\"#FECB52\"],\"font\":{\"color\":\"#2a3f5f\"},\"geo\":{\"bgcolor\":\"white\",\"lakecolor\":\"white\",\"landcolor\":\"#E5ECF6\",\"showlakes\":true,\"showland\":true,\"subunitcolor\":\"white\"},\"hoverlabel\":{\"align\":\"left\"},\"hovermode\":\"closest\",\"mapbox\":{\"style\":\"light\"},\"paper_bgcolor\":\"white\",\"plot_bgcolor\":\"#E5ECF6\",\"polar\":{\"angularaxis\":{\"gridcolor\":\"white\",\"linecolor\":\"white\",\"ticks\":\"\"},\"bgcolor\":\"#E5ECF6\",\"radialaxis\":{\"gridcolor\":\"white\",\"linecolor\":\"white\",\"ticks\":\"\"}},\"scene\":{\"xaxis\":{\"backgroundcolor\":\"#E5ECF6\",\"gridcolor\":\"white\",\"gridwidth\":2,\"linecolor\":\"white\",\"showbackground\":true,\"ticks\":\"\",\"zerolinecolor\":\"white\"},\"yaxis\":{\"backgroundcolor\":\"#E5ECF6\",\"gridcolor\":\"white\",\"gridwidth\":2,\"linecolor\":\"white\",\"showbackground\":true,\"ticks\":\"\",\"zerolinecolor\":\"white\"},\"zaxis\":{\"backgroundcolor\":\"#E5ECF6\",\"gridcolor\":\"white\",\"gridwidth\":2,\"linecolor\":\"white\",\"showbackground\":true,\"ticks\":\"\",\"zerolinecolor\":\"white\"}},\"shapedefaults\":{\"line\":{\"color\":\"#2a3f5f\"}},\"ternary\":{\"aaxis\":{\"gridcolor\":\"white\",\"linecolor\":\"white\",\"ticks\":\"\"},\"baxis\":{\"gridcolor\":\"white\",\"linecolor\":\"white\",\"ticks\":\"\"},\"bgcolor\":\"#E5ECF6\",\"caxis\":{\"gridcolor\":\"white\",\"linecolor\":\"white\",\"ticks\":\"\"}},\"title\":{\"x\":0.05},\"xaxis\":{\"automargin\":true,\"gridcolor\":\"white\",\"linecolor\":\"white\",\"ticks\":\"\",\"title\":{\"standoff\":15},\"zerolinecolor\":\"white\",\"zerolinewidth\":2},\"yaxis\":{\"automargin\":true,\"gridcolor\":\"white\",\"linecolor\":\"white\",\"ticks\":\"\",\"title\":{\"standoff\":15},\"zerolinecolor\":\"white\",\"zerolinewidth\":2}}},\"title\":{\"text\":\"HGU.TO Historical Price\"},\"xaxis\":{\"anchor\":\"y\",\"domain\":[0.0,1.0],\"title\":{\"text\":\"date\"}},\"yaxis\":{\"anchor\":\"x\",\"domain\":[0.0,1.0],\"title\":{\"text\":\"value\"}}},                        {\"responsive\": true}                    ).then(function(){\n",
       "                            \n",
       "var gd = document.getElementById('d9fa9edc-2fa7-45eb-9929-16b6a347a18f');\n",
       "var x = new MutationObserver(function (mutations, observer) {{\n",
       "        var display = window.getComputedStyle(gd).display;\n",
       "        if (!display || display === 'none') {{\n",
       "            console.log([gd, 'removed!']);\n",
       "            Plotly.purge(gd);\n",
       "            observer.disconnect();\n",
       "        }}\n",
       "}});\n",
       "\n",
       "// Listen for the removal of the full notebook cells\n",
       "var notebookContainer = gd.closest('#notebook-container');\n",
       "if (notebookContainer) {{\n",
       "    x.observe(notebookContainer, {childList: true});\n",
       "}}\n",
       "\n",
       "// Listen for the clearing of the current output cell\n",
       "var outputEl = gd.closest('.output');\n",
       "if (outputEl) {{\n",
       "    x.observe(outputEl, {childList: true});\n",
       "}}\n",
       "\n",
       "                        })                };                });            </script>        </div>"
      ]
     },
     "metadata": {},
     "output_type": "display_data"
    },
    {
     "name": "stdout",
     "output_type": "stream",
     "text": [
      "=============================== HGU.TO =================================\n",
      "\n",
      "-------------------------- Summary Details ----------------------------\n",
      "-------------------------- Key Factor ----------------------------\n",
      "-------------------------- Fund Sector ----------------------------\n",
      "-------------------------- Holdings ----------------------------\n",
      "-------------------------- Returns ----------------------------\n",
      "-------------------------- Risk Factors ----------------------------\n",
      "=========================================================================\n",
      "Recent News of HUZ.TO :\n",
      "================================================================\n"
     ]
    },
    {
     "data": {
      "application/vnd.plotly.v1+json": {
       "config": {
        "plotlyServerURL": "https://plot.ly"
       },
       "data": [
        {
         "hovertemplate": "variable=open<br>date=%{x}<br>value=%{y}<extra></extra>",
         "legendgroup": "open",
         "line": {
          "color": "#636efa",
          "dash": "solid"
         },
         "mode": "lines",
         "name": "open",
         "orientation": "v",
         "showlegend": true,
         "type": "scatter",
         "x": [
          "2021-10-25",
          "2021-10-26",
          "2021-10-27",
          "2021-10-28",
          "2021-10-29",
          "2021-11-01",
          "2021-11-02",
          "2021-11-03",
          "2021-11-04",
          "2021-11-05",
          "2021-11-08",
          "2021-11-09",
          "2021-11-10",
          "2021-11-11",
          "2021-11-12",
          "2021-11-15",
          "2021-11-16",
          "2021-11-17",
          "2021-11-18",
          "2021-11-19",
          "2021-11-22",
          "2021-11-23"
         ],
         "xaxis": "x",
         "y": [
          11.829999923706055,
          11.649999618530273,
          11.640000343322754,
          11.630000114440918,
          11.479999542236328,
          11.550000190734863,
          11.550000190734863,
          11.109999656677246,
          11.489999771118164,
          11.539999961853027,
          11.710000038146973,
          11.729999542236328,
          12.020000457763672,
          12.069999694824219,
          12.0600004196167,
          12.0600004196167,
          12.039999961853027,
          12.050000190734863,
          11.970000267028809,
          11.9399995803833,
          11.770000457763672,
          11.260000228881836
         ],
         "yaxis": "y"
        },
        {
         "hovertemplate": "variable=high<br>date=%{x}<br>value=%{y}<extra></extra>",
         "legendgroup": "high",
         "line": {
          "color": "#EF553B",
          "dash": "solid"
         },
         "mode": "lines",
         "name": "high",
         "orientation": "v",
         "showlegend": true,
         "type": "scatter",
         "x": [
          "2021-10-25",
          "2021-10-26",
          "2021-10-27",
          "2021-10-28",
          "2021-10-29",
          "2021-11-01",
          "2021-11-02",
          "2021-11-03",
          "2021-11-04",
          "2021-11-05",
          "2021-11-08",
          "2021-11-09",
          "2021-11-10",
          "2021-11-11",
          "2021-11-12",
          "2021-11-15",
          "2021-11-16",
          "2021-11-17",
          "2021-11-18",
          "2021-11-19",
          "2021-11-22",
          "2021-11-23"
         ],
         "xaxis": "x",
         "y": [
          11.84000015258789,
          11.649999618530273,
          11.640000343322754,
          11.630000114440918,
          11.479999542236328,
          11.59000015258789,
          11.550000190734863,
          11.3100004196167,
          11.489999771118164,
          11.619999885559082,
          11.800000190734863,
          11.729999542236328,
          12.069999694824219,
          12.15999984741211,
          12.199999809265137,
          12.079999923706055,
          12.039999961853027,
          12.100000381469727,
          11.970000267028809,
          11.970000267028809,
          11.770000457763672,
          11.350000381469727
         ],
         "yaxis": "y"
        },
        {
         "hovertemplate": "variable=close<br>date=%{x}<br>value=%{y}<extra></extra>",
         "legendgroup": "close",
         "line": {
          "color": "#00cc96",
          "dash": "solid"
         },
         "mode": "lines",
         "name": "close",
         "orientation": "v",
         "showlegend": true,
         "type": "scatter",
         "x": [
          "2021-10-25",
          "2021-10-26",
          "2021-10-27",
          "2021-10-28",
          "2021-10-29",
          "2021-11-01",
          "2021-11-02",
          "2021-11-03",
          "2021-11-04",
          "2021-11-05",
          "2021-11-08",
          "2021-11-09",
          "2021-11-10",
          "2021-11-11",
          "2021-11-12",
          "2021-11-15",
          "2021-11-16",
          "2021-11-17",
          "2021-11-18",
          "2021-11-19",
          "2021-11-22",
          "2021-11-23"
         ],
         "xaxis": "x",
         "y": [
          11.819999694824219,
          11.630000114440918,
          11.579999923706055,
          11.59000015258789,
          11.479999542236328,
          11.550000190734863,
          11.550000190734863,
          11.3100004196167,
          11.430000305175781,
          11.619999885559082,
          11.770000457763672,
          11.680000305175781,
          11.819999694824219,
          12.069999694824219,
          12.199999809265137,
          12.050000190734863,
          11.9399995803833,
          12.050000190734863,
          11.930000305175781,
          11.8100004196167,
          11.600000381469727,
          11.350000381469727
         ],
         "yaxis": "y"
        },
        {
         "hovertemplate": "variable=low<br>date=%{x}<br>value=%{y}<extra></extra>",
         "legendgroup": "low",
         "line": {
          "color": "#ab63fa",
          "dash": "solid"
         },
         "mode": "lines",
         "name": "low",
         "orientation": "v",
         "showlegend": true,
         "type": "scatter",
         "x": [
          "2021-10-25",
          "2021-10-26",
          "2021-10-27",
          "2021-10-28",
          "2021-10-29",
          "2021-11-01",
          "2021-11-02",
          "2021-11-03",
          "2021-11-04",
          "2021-11-05",
          "2021-11-08",
          "2021-11-09",
          "2021-11-10",
          "2021-11-11",
          "2021-11-12",
          "2021-11-15",
          "2021-11-16",
          "2021-11-17",
          "2021-11-18",
          "2021-11-19",
          "2021-11-22",
          "2021-11-23"
         ],
         "xaxis": "x",
         "y": [
          11.800000190734863,
          11.529999732971191,
          11.579999923706055,
          11.579999923706055,
          11.369999885559082,
          11.520000457763672,
          11.550000190734863,
          11.109999656677246,
          11.430000305175781,
          11.539999961853027,
          11.710000038146973,
          11.630000114440918,
          11.819999694824219,
          12.069999694824219,
          12.050000190734863,
          12.010000228881836,
          11.9399995803833,
          12.050000190734863,
          11.930000305175781,
          11.8100004196167,
          11.600000381469727,
          11.199999809265137
         ],
         "yaxis": "y"
        },
        {
         "hovertemplate": "variable=adjclose<br>date=%{x}<br>value=%{y}<extra></extra>",
         "legendgroup": "adjclose",
         "line": {
          "color": "#FFA15A",
          "dash": "solid"
         },
         "mode": "lines",
         "name": "adjclose",
         "orientation": "v",
         "showlegend": true,
         "type": "scatter",
         "x": [
          "2021-10-25",
          "2021-10-26",
          "2021-10-27",
          "2021-10-28",
          "2021-10-29",
          "2021-11-01",
          "2021-11-02",
          "2021-11-03",
          "2021-11-04",
          "2021-11-05",
          "2021-11-08",
          "2021-11-09",
          "2021-11-10",
          "2021-11-11",
          "2021-11-12",
          "2021-11-15",
          "2021-11-16",
          "2021-11-17",
          "2021-11-18",
          "2021-11-19",
          "2021-11-22",
          "2021-11-23"
         ],
         "xaxis": "x",
         "y": [
          11.819999694824219,
          11.630000114440918,
          11.579999923706055,
          11.59000015258789,
          11.479999542236328,
          11.550000190734863,
          11.550000190734863,
          11.3100004196167,
          11.430000305175781,
          11.619999885559082,
          11.770000457763672,
          11.680000305175781,
          11.819999694824219,
          12.069999694824219,
          12.199999809265137,
          12.050000190734863,
          11.9399995803833,
          12.050000190734863,
          11.930000305175781,
          11.8100004196167,
          11.600000381469727,
          11.350000381469727
         ],
         "yaxis": "y"
        }
       ],
       "layout": {
        "legend": {
         "title": {
          "text": "variable"
         },
         "tracegroupgap": 0
        },
        "template": {
         "data": {
          "bar": [
           {
            "error_x": {
             "color": "#2a3f5f"
            },
            "error_y": {
             "color": "#2a3f5f"
            },
            "marker": {
             "line": {
              "color": "#E5ECF6",
              "width": 0.5
             },
             "pattern": {
              "fillmode": "overlay",
              "size": 10,
              "solidity": 0.2
             }
            },
            "type": "bar"
           }
          ],
          "barpolar": [
           {
            "marker": {
             "line": {
              "color": "#E5ECF6",
              "width": 0.5
             },
             "pattern": {
              "fillmode": "overlay",
              "size": 10,
              "solidity": 0.2
             }
            },
            "type": "barpolar"
           }
          ],
          "carpet": [
           {
            "aaxis": {
             "endlinecolor": "#2a3f5f",
             "gridcolor": "white",
             "linecolor": "white",
             "minorgridcolor": "white",
             "startlinecolor": "#2a3f5f"
            },
            "baxis": {
             "endlinecolor": "#2a3f5f",
             "gridcolor": "white",
             "linecolor": "white",
             "minorgridcolor": "white",
             "startlinecolor": "#2a3f5f"
            },
            "type": "carpet"
           }
          ],
          "choropleth": [
           {
            "colorbar": {
             "outlinewidth": 0,
             "ticks": ""
            },
            "type": "choropleth"
           }
          ],
          "contour": [
           {
            "colorbar": {
             "outlinewidth": 0,
             "ticks": ""
            },
            "colorscale": [
             [
              0,
              "#0d0887"
             ],
             [
              0.1111111111111111,
              "#46039f"
             ],
             [
              0.2222222222222222,
              "#7201a8"
             ],
             [
              0.3333333333333333,
              "#9c179e"
             ],
             [
              0.4444444444444444,
              "#bd3786"
             ],
             [
              0.5555555555555556,
              "#d8576b"
             ],
             [
              0.6666666666666666,
              "#ed7953"
             ],
             [
              0.7777777777777778,
              "#fb9f3a"
             ],
             [
              0.8888888888888888,
              "#fdca26"
             ],
             [
              1,
              "#f0f921"
             ]
            ],
            "type": "contour"
           }
          ],
          "contourcarpet": [
           {
            "colorbar": {
             "outlinewidth": 0,
             "ticks": ""
            },
            "type": "contourcarpet"
           }
          ],
          "heatmap": [
           {
            "colorbar": {
             "outlinewidth": 0,
             "ticks": ""
            },
            "colorscale": [
             [
              0,
              "#0d0887"
             ],
             [
              0.1111111111111111,
              "#46039f"
             ],
             [
              0.2222222222222222,
              "#7201a8"
             ],
             [
              0.3333333333333333,
              "#9c179e"
             ],
             [
              0.4444444444444444,
              "#bd3786"
             ],
             [
              0.5555555555555556,
              "#d8576b"
             ],
             [
              0.6666666666666666,
              "#ed7953"
             ],
             [
              0.7777777777777778,
              "#fb9f3a"
             ],
             [
              0.8888888888888888,
              "#fdca26"
             ],
             [
              1,
              "#f0f921"
             ]
            ],
            "type": "heatmap"
           }
          ],
          "heatmapgl": [
           {
            "colorbar": {
             "outlinewidth": 0,
             "ticks": ""
            },
            "colorscale": [
             [
              0,
              "#0d0887"
             ],
             [
              0.1111111111111111,
              "#46039f"
             ],
             [
              0.2222222222222222,
              "#7201a8"
             ],
             [
              0.3333333333333333,
              "#9c179e"
             ],
             [
              0.4444444444444444,
              "#bd3786"
             ],
             [
              0.5555555555555556,
              "#d8576b"
             ],
             [
              0.6666666666666666,
              "#ed7953"
             ],
             [
              0.7777777777777778,
              "#fb9f3a"
             ],
             [
              0.8888888888888888,
              "#fdca26"
             ],
             [
              1,
              "#f0f921"
             ]
            ],
            "type": "heatmapgl"
           }
          ],
          "histogram": [
           {
            "marker": {
             "pattern": {
              "fillmode": "overlay",
              "size": 10,
              "solidity": 0.2
             }
            },
            "type": "histogram"
           }
          ],
          "histogram2d": [
           {
            "colorbar": {
             "outlinewidth": 0,
             "ticks": ""
            },
            "colorscale": [
             [
              0,
              "#0d0887"
             ],
             [
              0.1111111111111111,
              "#46039f"
             ],
             [
              0.2222222222222222,
              "#7201a8"
             ],
             [
              0.3333333333333333,
              "#9c179e"
             ],
             [
              0.4444444444444444,
              "#bd3786"
             ],
             [
              0.5555555555555556,
              "#d8576b"
             ],
             [
              0.6666666666666666,
              "#ed7953"
             ],
             [
              0.7777777777777778,
              "#fb9f3a"
             ],
             [
              0.8888888888888888,
              "#fdca26"
             ],
             [
              1,
              "#f0f921"
             ]
            ],
            "type": "histogram2d"
           }
          ],
          "histogram2dcontour": [
           {
            "colorbar": {
             "outlinewidth": 0,
             "ticks": ""
            },
            "colorscale": [
             [
              0,
              "#0d0887"
             ],
             [
              0.1111111111111111,
              "#46039f"
             ],
             [
              0.2222222222222222,
              "#7201a8"
             ],
             [
              0.3333333333333333,
              "#9c179e"
             ],
             [
              0.4444444444444444,
              "#bd3786"
             ],
             [
              0.5555555555555556,
              "#d8576b"
             ],
             [
              0.6666666666666666,
              "#ed7953"
             ],
             [
              0.7777777777777778,
              "#fb9f3a"
             ],
             [
              0.8888888888888888,
              "#fdca26"
             ],
             [
              1,
              "#f0f921"
             ]
            ],
            "type": "histogram2dcontour"
           }
          ],
          "mesh3d": [
           {
            "colorbar": {
             "outlinewidth": 0,
             "ticks": ""
            },
            "type": "mesh3d"
           }
          ],
          "parcoords": [
           {
            "line": {
             "colorbar": {
              "outlinewidth": 0,
              "ticks": ""
             }
            },
            "type": "parcoords"
           }
          ],
          "pie": [
           {
            "automargin": true,
            "type": "pie"
           }
          ],
          "scatter": [
           {
            "marker": {
             "colorbar": {
              "outlinewidth": 0,
              "ticks": ""
             }
            },
            "type": "scatter"
           }
          ],
          "scatter3d": [
           {
            "line": {
             "colorbar": {
              "outlinewidth": 0,
              "ticks": ""
             }
            },
            "marker": {
             "colorbar": {
              "outlinewidth": 0,
              "ticks": ""
             }
            },
            "type": "scatter3d"
           }
          ],
          "scattercarpet": [
           {
            "marker": {
             "colorbar": {
              "outlinewidth": 0,
              "ticks": ""
             }
            },
            "type": "scattercarpet"
           }
          ],
          "scattergeo": [
           {
            "marker": {
             "colorbar": {
              "outlinewidth": 0,
              "ticks": ""
             }
            },
            "type": "scattergeo"
           }
          ],
          "scattergl": [
           {
            "marker": {
             "colorbar": {
              "outlinewidth": 0,
              "ticks": ""
             }
            },
            "type": "scattergl"
           }
          ],
          "scattermapbox": [
           {
            "marker": {
             "colorbar": {
              "outlinewidth": 0,
              "ticks": ""
             }
            },
            "type": "scattermapbox"
           }
          ],
          "scatterpolar": [
           {
            "marker": {
             "colorbar": {
              "outlinewidth": 0,
              "ticks": ""
             }
            },
            "type": "scatterpolar"
           }
          ],
          "scatterpolargl": [
           {
            "marker": {
             "colorbar": {
              "outlinewidth": 0,
              "ticks": ""
             }
            },
            "type": "scatterpolargl"
           }
          ],
          "scatterternary": [
           {
            "marker": {
             "colorbar": {
              "outlinewidth": 0,
              "ticks": ""
             }
            },
            "type": "scatterternary"
           }
          ],
          "surface": [
           {
            "colorbar": {
             "outlinewidth": 0,
             "ticks": ""
            },
            "colorscale": [
             [
              0,
              "#0d0887"
             ],
             [
              0.1111111111111111,
              "#46039f"
             ],
             [
              0.2222222222222222,
              "#7201a8"
             ],
             [
              0.3333333333333333,
              "#9c179e"
             ],
             [
              0.4444444444444444,
              "#bd3786"
             ],
             [
              0.5555555555555556,
              "#d8576b"
             ],
             [
              0.6666666666666666,
              "#ed7953"
             ],
             [
              0.7777777777777778,
              "#fb9f3a"
             ],
             [
              0.8888888888888888,
              "#fdca26"
             ],
             [
              1,
              "#f0f921"
             ]
            ],
            "type": "surface"
           }
          ],
          "table": [
           {
            "cells": {
             "fill": {
              "color": "#EBF0F8"
             },
             "line": {
              "color": "white"
             }
            },
            "header": {
             "fill": {
              "color": "#C8D4E3"
             },
             "line": {
              "color": "white"
             }
            },
            "type": "table"
           }
          ]
         },
         "layout": {
          "annotationdefaults": {
           "arrowcolor": "#2a3f5f",
           "arrowhead": 0,
           "arrowwidth": 1
          },
          "autotypenumbers": "strict",
          "coloraxis": {
           "colorbar": {
            "outlinewidth": 0,
            "ticks": ""
           }
          },
          "colorscale": {
           "diverging": [
            [
             0,
             "#8e0152"
            ],
            [
             0.1,
             "#c51b7d"
            ],
            [
             0.2,
             "#de77ae"
            ],
            [
             0.3,
             "#f1b6da"
            ],
            [
             0.4,
             "#fde0ef"
            ],
            [
             0.5,
             "#f7f7f7"
            ],
            [
             0.6,
             "#e6f5d0"
            ],
            [
             0.7,
             "#b8e186"
            ],
            [
             0.8,
             "#7fbc41"
            ],
            [
             0.9,
             "#4d9221"
            ],
            [
             1,
             "#276419"
            ]
           ],
           "sequential": [
            [
             0,
             "#0d0887"
            ],
            [
             0.1111111111111111,
             "#46039f"
            ],
            [
             0.2222222222222222,
             "#7201a8"
            ],
            [
             0.3333333333333333,
             "#9c179e"
            ],
            [
             0.4444444444444444,
             "#bd3786"
            ],
            [
             0.5555555555555556,
             "#d8576b"
            ],
            [
             0.6666666666666666,
             "#ed7953"
            ],
            [
             0.7777777777777778,
             "#fb9f3a"
            ],
            [
             0.8888888888888888,
             "#fdca26"
            ],
            [
             1,
             "#f0f921"
            ]
           ],
           "sequentialminus": [
            [
             0,
             "#0d0887"
            ],
            [
             0.1111111111111111,
             "#46039f"
            ],
            [
             0.2222222222222222,
             "#7201a8"
            ],
            [
             0.3333333333333333,
             "#9c179e"
            ],
            [
             0.4444444444444444,
             "#bd3786"
            ],
            [
             0.5555555555555556,
             "#d8576b"
            ],
            [
             0.6666666666666666,
             "#ed7953"
            ],
            [
             0.7777777777777778,
             "#fb9f3a"
            ],
            [
             0.8888888888888888,
             "#fdca26"
            ],
            [
             1,
             "#f0f921"
            ]
           ]
          },
          "colorway": [
           "#636efa",
           "#EF553B",
           "#00cc96",
           "#ab63fa",
           "#FFA15A",
           "#19d3f3",
           "#FF6692",
           "#B6E880",
           "#FF97FF",
           "#FECB52"
          ],
          "font": {
           "color": "#2a3f5f"
          },
          "geo": {
           "bgcolor": "white",
           "lakecolor": "white",
           "landcolor": "#E5ECF6",
           "showlakes": true,
           "showland": true,
           "subunitcolor": "white"
          },
          "hoverlabel": {
           "align": "left"
          },
          "hovermode": "closest",
          "mapbox": {
           "style": "light"
          },
          "paper_bgcolor": "white",
          "plot_bgcolor": "#E5ECF6",
          "polar": {
           "angularaxis": {
            "gridcolor": "white",
            "linecolor": "white",
            "ticks": ""
           },
           "bgcolor": "#E5ECF6",
           "radialaxis": {
            "gridcolor": "white",
            "linecolor": "white",
            "ticks": ""
           }
          },
          "scene": {
           "xaxis": {
            "backgroundcolor": "#E5ECF6",
            "gridcolor": "white",
            "gridwidth": 2,
            "linecolor": "white",
            "showbackground": true,
            "ticks": "",
            "zerolinecolor": "white"
           },
           "yaxis": {
            "backgroundcolor": "#E5ECF6",
            "gridcolor": "white",
            "gridwidth": 2,
            "linecolor": "white",
            "showbackground": true,
            "ticks": "",
            "zerolinecolor": "white"
           },
           "zaxis": {
            "backgroundcolor": "#E5ECF6",
            "gridcolor": "white",
            "gridwidth": 2,
            "linecolor": "white",
            "showbackground": true,
            "ticks": "",
            "zerolinecolor": "white"
           }
          },
          "shapedefaults": {
           "line": {
            "color": "#2a3f5f"
           }
          },
          "ternary": {
           "aaxis": {
            "gridcolor": "white",
            "linecolor": "white",
            "ticks": ""
           },
           "baxis": {
            "gridcolor": "white",
            "linecolor": "white",
            "ticks": ""
           },
           "bgcolor": "#E5ECF6",
           "caxis": {
            "gridcolor": "white",
            "linecolor": "white",
            "ticks": ""
           }
          },
          "title": {
           "x": 0.05
          },
          "xaxis": {
           "automargin": true,
           "gridcolor": "white",
           "linecolor": "white",
           "ticks": "",
           "title": {
            "standoff": 15
           },
           "zerolinecolor": "white",
           "zerolinewidth": 2
          },
          "yaxis": {
           "automargin": true,
           "gridcolor": "white",
           "linecolor": "white",
           "ticks": "",
           "title": {
            "standoff": 15
           },
           "zerolinecolor": "white",
           "zerolinewidth": 2
          }
         }
        },
        "title": {
         "text": "HUZ.TO Historical Price"
        },
        "xaxis": {
         "anchor": "y",
         "domain": [
          0,
          1
         ],
         "title": {
          "text": "date"
         }
        },
        "yaxis": {
         "anchor": "x",
         "domain": [
          0,
          1
         ],
         "title": {
          "text": "value"
         }
        }
       }
      },
      "text/html": [
       "<div>                            <div id=\"c9ff3888-d349-4028-ad15-0f2a393dc8a6\" class=\"plotly-graph-div\" style=\"height:525px; width:100%;\"></div>            <script type=\"text/javascript\">                require([\"plotly\"], function(Plotly) {                    window.PLOTLYENV=window.PLOTLYENV || {};                                    if (document.getElementById(\"c9ff3888-d349-4028-ad15-0f2a393dc8a6\")) {                    Plotly.newPlot(                        \"c9ff3888-d349-4028-ad15-0f2a393dc8a6\",                        [{\"hovertemplate\":\"variable=open<br>date=%{x}<br>value=%{y}<extra></extra>\",\"legendgroup\":\"open\",\"line\":{\"color\":\"#636efa\",\"dash\":\"solid\"},\"mode\":\"lines\",\"name\":\"open\",\"orientation\":\"v\",\"showlegend\":true,\"type\":\"scatter\",\"x\":[\"2021-10-25\",\"2021-10-26\",\"2021-10-27\",\"2021-10-28\",\"2021-10-29\",\"2021-11-01\",\"2021-11-02\",\"2021-11-03\",\"2021-11-04\",\"2021-11-05\",\"2021-11-08\",\"2021-11-09\",\"2021-11-10\",\"2021-11-11\",\"2021-11-12\",\"2021-11-15\",\"2021-11-16\",\"2021-11-17\",\"2021-11-18\",\"2021-11-19\",\"2021-11-22\",\"2021-11-23\"],\"xaxis\":\"x\",\"y\":[11.829999923706055,11.649999618530273,11.640000343322754,11.630000114440918,11.479999542236328,11.550000190734863,11.550000190734863,11.109999656677246,11.489999771118164,11.539999961853027,11.710000038146973,11.729999542236328,12.020000457763672,12.069999694824219,12.0600004196167,12.0600004196167,12.039999961853027,12.050000190734863,11.970000267028809,11.9399995803833,11.770000457763672,11.260000228881836],\"yaxis\":\"y\"},{\"hovertemplate\":\"variable=high<br>date=%{x}<br>value=%{y}<extra></extra>\",\"legendgroup\":\"high\",\"line\":{\"color\":\"#EF553B\",\"dash\":\"solid\"},\"mode\":\"lines\",\"name\":\"high\",\"orientation\":\"v\",\"showlegend\":true,\"type\":\"scatter\",\"x\":[\"2021-10-25\",\"2021-10-26\",\"2021-10-27\",\"2021-10-28\",\"2021-10-29\",\"2021-11-01\",\"2021-11-02\",\"2021-11-03\",\"2021-11-04\",\"2021-11-05\",\"2021-11-08\",\"2021-11-09\",\"2021-11-10\",\"2021-11-11\",\"2021-11-12\",\"2021-11-15\",\"2021-11-16\",\"2021-11-17\",\"2021-11-18\",\"2021-11-19\",\"2021-11-22\",\"2021-11-23\"],\"xaxis\":\"x\",\"y\":[11.84000015258789,11.649999618530273,11.640000343322754,11.630000114440918,11.479999542236328,11.59000015258789,11.550000190734863,11.3100004196167,11.489999771118164,11.619999885559082,11.800000190734863,11.729999542236328,12.069999694824219,12.15999984741211,12.199999809265137,12.079999923706055,12.039999961853027,12.100000381469727,11.970000267028809,11.970000267028809,11.770000457763672,11.350000381469727],\"yaxis\":\"y\"},{\"hovertemplate\":\"variable=close<br>date=%{x}<br>value=%{y}<extra></extra>\",\"legendgroup\":\"close\",\"line\":{\"color\":\"#00cc96\",\"dash\":\"solid\"},\"mode\":\"lines\",\"name\":\"close\",\"orientation\":\"v\",\"showlegend\":true,\"type\":\"scatter\",\"x\":[\"2021-10-25\",\"2021-10-26\",\"2021-10-27\",\"2021-10-28\",\"2021-10-29\",\"2021-11-01\",\"2021-11-02\",\"2021-11-03\",\"2021-11-04\",\"2021-11-05\",\"2021-11-08\",\"2021-11-09\",\"2021-11-10\",\"2021-11-11\",\"2021-11-12\",\"2021-11-15\",\"2021-11-16\",\"2021-11-17\",\"2021-11-18\",\"2021-11-19\",\"2021-11-22\",\"2021-11-23\"],\"xaxis\":\"x\",\"y\":[11.819999694824219,11.630000114440918,11.579999923706055,11.59000015258789,11.479999542236328,11.550000190734863,11.550000190734863,11.3100004196167,11.430000305175781,11.619999885559082,11.770000457763672,11.680000305175781,11.819999694824219,12.069999694824219,12.199999809265137,12.050000190734863,11.9399995803833,12.050000190734863,11.930000305175781,11.8100004196167,11.600000381469727,11.350000381469727],\"yaxis\":\"y\"},{\"hovertemplate\":\"variable=low<br>date=%{x}<br>value=%{y}<extra></extra>\",\"legendgroup\":\"low\",\"line\":{\"color\":\"#ab63fa\",\"dash\":\"solid\"},\"mode\":\"lines\",\"name\":\"low\",\"orientation\":\"v\",\"showlegend\":true,\"type\":\"scatter\",\"x\":[\"2021-10-25\",\"2021-10-26\",\"2021-10-27\",\"2021-10-28\",\"2021-10-29\",\"2021-11-01\",\"2021-11-02\",\"2021-11-03\",\"2021-11-04\",\"2021-11-05\",\"2021-11-08\",\"2021-11-09\",\"2021-11-10\",\"2021-11-11\",\"2021-11-12\",\"2021-11-15\",\"2021-11-16\",\"2021-11-17\",\"2021-11-18\",\"2021-11-19\",\"2021-11-22\",\"2021-11-23\"],\"xaxis\":\"x\",\"y\":[11.800000190734863,11.529999732971191,11.579999923706055,11.579999923706055,11.369999885559082,11.520000457763672,11.550000190734863,11.109999656677246,11.430000305175781,11.539999961853027,11.710000038146973,11.630000114440918,11.819999694824219,12.069999694824219,12.050000190734863,12.010000228881836,11.9399995803833,12.050000190734863,11.930000305175781,11.8100004196167,11.600000381469727,11.199999809265137],\"yaxis\":\"y\"},{\"hovertemplate\":\"variable=adjclose<br>date=%{x}<br>value=%{y}<extra></extra>\",\"legendgroup\":\"adjclose\",\"line\":{\"color\":\"#FFA15A\",\"dash\":\"solid\"},\"mode\":\"lines\",\"name\":\"adjclose\",\"orientation\":\"v\",\"showlegend\":true,\"type\":\"scatter\",\"x\":[\"2021-10-25\",\"2021-10-26\",\"2021-10-27\",\"2021-10-28\",\"2021-10-29\",\"2021-11-01\",\"2021-11-02\",\"2021-11-03\",\"2021-11-04\",\"2021-11-05\",\"2021-11-08\",\"2021-11-09\",\"2021-11-10\",\"2021-11-11\",\"2021-11-12\",\"2021-11-15\",\"2021-11-16\",\"2021-11-17\",\"2021-11-18\",\"2021-11-19\",\"2021-11-22\",\"2021-11-23\"],\"xaxis\":\"x\",\"y\":[11.819999694824219,11.630000114440918,11.579999923706055,11.59000015258789,11.479999542236328,11.550000190734863,11.550000190734863,11.3100004196167,11.430000305175781,11.619999885559082,11.770000457763672,11.680000305175781,11.819999694824219,12.069999694824219,12.199999809265137,12.050000190734863,11.9399995803833,12.050000190734863,11.930000305175781,11.8100004196167,11.600000381469727,11.350000381469727],\"yaxis\":\"y\"}],                        {\"legend\":{\"title\":{\"text\":\"variable\"},\"tracegroupgap\":0},\"template\":{\"data\":{\"bar\":[{\"error_x\":{\"color\":\"#2a3f5f\"},\"error_y\":{\"color\":\"#2a3f5f\"},\"marker\":{\"line\":{\"color\":\"#E5ECF6\",\"width\":0.5},\"pattern\":{\"fillmode\":\"overlay\",\"size\":10,\"solidity\":0.2}},\"type\":\"bar\"}],\"barpolar\":[{\"marker\":{\"line\":{\"color\":\"#E5ECF6\",\"width\":0.5},\"pattern\":{\"fillmode\":\"overlay\",\"size\":10,\"solidity\":0.2}},\"type\":\"barpolar\"}],\"carpet\":[{\"aaxis\":{\"endlinecolor\":\"#2a3f5f\",\"gridcolor\":\"white\",\"linecolor\":\"white\",\"minorgridcolor\":\"white\",\"startlinecolor\":\"#2a3f5f\"},\"baxis\":{\"endlinecolor\":\"#2a3f5f\",\"gridcolor\":\"white\",\"linecolor\":\"white\",\"minorgridcolor\":\"white\",\"startlinecolor\":\"#2a3f5f\"},\"type\":\"carpet\"}],\"choropleth\":[{\"colorbar\":{\"outlinewidth\":0,\"ticks\":\"\"},\"type\":\"choropleth\"}],\"contour\":[{\"colorbar\":{\"outlinewidth\":0,\"ticks\":\"\"},\"colorscale\":[[0.0,\"#0d0887\"],[0.1111111111111111,\"#46039f\"],[0.2222222222222222,\"#7201a8\"],[0.3333333333333333,\"#9c179e\"],[0.4444444444444444,\"#bd3786\"],[0.5555555555555556,\"#d8576b\"],[0.6666666666666666,\"#ed7953\"],[0.7777777777777778,\"#fb9f3a\"],[0.8888888888888888,\"#fdca26\"],[1.0,\"#f0f921\"]],\"type\":\"contour\"}],\"contourcarpet\":[{\"colorbar\":{\"outlinewidth\":0,\"ticks\":\"\"},\"type\":\"contourcarpet\"}],\"heatmap\":[{\"colorbar\":{\"outlinewidth\":0,\"ticks\":\"\"},\"colorscale\":[[0.0,\"#0d0887\"],[0.1111111111111111,\"#46039f\"],[0.2222222222222222,\"#7201a8\"],[0.3333333333333333,\"#9c179e\"],[0.4444444444444444,\"#bd3786\"],[0.5555555555555556,\"#d8576b\"],[0.6666666666666666,\"#ed7953\"],[0.7777777777777778,\"#fb9f3a\"],[0.8888888888888888,\"#fdca26\"],[1.0,\"#f0f921\"]],\"type\":\"heatmap\"}],\"heatmapgl\":[{\"colorbar\":{\"outlinewidth\":0,\"ticks\":\"\"},\"colorscale\":[[0.0,\"#0d0887\"],[0.1111111111111111,\"#46039f\"],[0.2222222222222222,\"#7201a8\"],[0.3333333333333333,\"#9c179e\"],[0.4444444444444444,\"#bd3786\"],[0.5555555555555556,\"#d8576b\"],[0.6666666666666666,\"#ed7953\"],[0.7777777777777778,\"#fb9f3a\"],[0.8888888888888888,\"#fdca26\"],[1.0,\"#f0f921\"]],\"type\":\"heatmapgl\"}],\"histogram\":[{\"marker\":{\"pattern\":{\"fillmode\":\"overlay\",\"size\":10,\"solidity\":0.2}},\"type\":\"histogram\"}],\"histogram2d\":[{\"colorbar\":{\"outlinewidth\":0,\"ticks\":\"\"},\"colorscale\":[[0.0,\"#0d0887\"],[0.1111111111111111,\"#46039f\"],[0.2222222222222222,\"#7201a8\"],[0.3333333333333333,\"#9c179e\"],[0.4444444444444444,\"#bd3786\"],[0.5555555555555556,\"#d8576b\"],[0.6666666666666666,\"#ed7953\"],[0.7777777777777778,\"#fb9f3a\"],[0.8888888888888888,\"#fdca26\"],[1.0,\"#f0f921\"]],\"type\":\"histogram2d\"}],\"histogram2dcontour\":[{\"colorbar\":{\"outlinewidth\":0,\"ticks\":\"\"},\"colorscale\":[[0.0,\"#0d0887\"],[0.1111111111111111,\"#46039f\"],[0.2222222222222222,\"#7201a8\"],[0.3333333333333333,\"#9c179e\"],[0.4444444444444444,\"#bd3786\"],[0.5555555555555556,\"#d8576b\"],[0.6666666666666666,\"#ed7953\"],[0.7777777777777778,\"#fb9f3a\"],[0.8888888888888888,\"#fdca26\"],[1.0,\"#f0f921\"]],\"type\":\"histogram2dcontour\"}],\"mesh3d\":[{\"colorbar\":{\"outlinewidth\":0,\"ticks\":\"\"},\"type\":\"mesh3d\"}],\"parcoords\":[{\"line\":{\"colorbar\":{\"outlinewidth\":0,\"ticks\":\"\"}},\"type\":\"parcoords\"}],\"pie\":[{\"automargin\":true,\"type\":\"pie\"}],\"scatter\":[{\"marker\":{\"colorbar\":{\"outlinewidth\":0,\"ticks\":\"\"}},\"type\":\"scatter\"}],\"scatter3d\":[{\"line\":{\"colorbar\":{\"outlinewidth\":0,\"ticks\":\"\"}},\"marker\":{\"colorbar\":{\"outlinewidth\":0,\"ticks\":\"\"}},\"type\":\"scatter3d\"}],\"scattercarpet\":[{\"marker\":{\"colorbar\":{\"outlinewidth\":0,\"ticks\":\"\"}},\"type\":\"scattercarpet\"}],\"scattergeo\":[{\"marker\":{\"colorbar\":{\"outlinewidth\":0,\"ticks\":\"\"}},\"type\":\"scattergeo\"}],\"scattergl\":[{\"marker\":{\"colorbar\":{\"outlinewidth\":0,\"ticks\":\"\"}},\"type\":\"scattergl\"}],\"scattermapbox\":[{\"marker\":{\"colorbar\":{\"outlinewidth\":0,\"ticks\":\"\"}},\"type\":\"scattermapbox\"}],\"scatterpolar\":[{\"marker\":{\"colorbar\":{\"outlinewidth\":0,\"ticks\":\"\"}},\"type\":\"scatterpolar\"}],\"scatterpolargl\":[{\"marker\":{\"colorbar\":{\"outlinewidth\":0,\"ticks\":\"\"}},\"type\":\"scatterpolargl\"}],\"scatterternary\":[{\"marker\":{\"colorbar\":{\"outlinewidth\":0,\"ticks\":\"\"}},\"type\":\"scatterternary\"}],\"surface\":[{\"colorbar\":{\"outlinewidth\":0,\"ticks\":\"\"},\"colorscale\":[[0.0,\"#0d0887\"],[0.1111111111111111,\"#46039f\"],[0.2222222222222222,\"#7201a8\"],[0.3333333333333333,\"#9c179e\"],[0.4444444444444444,\"#bd3786\"],[0.5555555555555556,\"#d8576b\"],[0.6666666666666666,\"#ed7953\"],[0.7777777777777778,\"#fb9f3a\"],[0.8888888888888888,\"#fdca26\"],[1.0,\"#f0f921\"]],\"type\":\"surface\"}],\"table\":[{\"cells\":{\"fill\":{\"color\":\"#EBF0F8\"},\"line\":{\"color\":\"white\"}},\"header\":{\"fill\":{\"color\":\"#C8D4E3\"},\"line\":{\"color\":\"white\"}},\"type\":\"table\"}]},\"layout\":{\"annotationdefaults\":{\"arrowcolor\":\"#2a3f5f\",\"arrowhead\":0,\"arrowwidth\":1},\"autotypenumbers\":\"strict\",\"coloraxis\":{\"colorbar\":{\"outlinewidth\":0,\"ticks\":\"\"}},\"colorscale\":{\"diverging\":[[0,\"#8e0152\"],[0.1,\"#c51b7d\"],[0.2,\"#de77ae\"],[0.3,\"#f1b6da\"],[0.4,\"#fde0ef\"],[0.5,\"#f7f7f7\"],[0.6,\"#e6f5d0\"],[0.7,\"#b8e186\"],[0.8,\"#7fbc41\"],[0.9,\"#4d9221\"],[1,\"#276419\"]],\"sequential\":[[0.0,\"#0d0887\"],[0.1111111111111111,\"#46039f\"],[0.2222222222222222,\"#7201a8\"],[0.3333333333333333,\"#9c179e\"],[0.4444444444444444,\"#bd3786\"],[0.5555555555555556,\"#d8576b\"],[0.6666666666666666,\"#ed7953\"],[0.7777777777777778,\"#fb9f3a\"],[0.8888888888888888,\"#fdca26\"],[1.0,\"#f0f921\"]],\"sequentialminus\":[[0.0,\"#0d0887\"],[0.1111111111111111,\"#46039f\"],[0.2222222222222222,\"#7201a8\"],[0.3333333333333333,\"#9c179e\"],[0.4444444444444444,\"#bd3786\"],[0.5555555555555556,\"#d8576b\"],[0.6666666666666666,\"#ed7953\"],[0.7777777777777778,\"#fb9f3a\"],[0.8888888888888888,\"#fdca26\"],[1.0,\"#f0f921\"]]},\"colorway\":[\"#636efa\",\"#EF553B\",\"#00cc96\",\"#ab63fa\",\"#FFA15A\",\"#19d3f3\",\"#FF6692\",\"#B6E880\",\"#FF97FF\",\"#FECB52\"],\"font\":{\"color\":\"#2a3f5f\"},\"geo\":{\"bgcolor\":\"white\",\"lakecolor\":\"white\",\"landcolor\":\"#E5ECF6\",\"showlakes\":true,\"showland\":true,\"subunitcolor\":\"white\"},\"hoverlabel\":{\"align\":\"left\"},\"hovermode\":\"closest\",\"mapbox\":{\"style\":\"light\"},\"paper_bgcolor\":\"white\",\"plot_bgcolor\":\"#E5ECF6\",\"polar\":{\"angularaxis\":{\"gridcolor\":\"white\",\"linecolor\":\"white\",\"ticks\":\"\"},\"bgcolor\":\"#E5ECF6\",\"radialaxis\":{\"gridcolor\":\"white\",\"linecolor\":\"white\",\"ticks\":\"\"}},\"scene\":{\"xaxis\":{\"backgroundcolor\":\"#E5ECF6\",\"gridcolor\":\"white\",\"gridwidth\":2,\"linecolor\":\"white\",\"showbackground\":true,\"ticks\":\"\",\"zerolinecolor\":\"white\"},\"yaxis\":{\"backgroundcolor\":\"#E5ECF6\",\"gridcolor\":\"white\",\"gridwidth\":2,\"linecolor\":\"white\",\"showbackground\":true,\"ticks\":\"\",\"zerolinecolor\":\"white\"},\"zaxis\":{\"backgroundcolor\":\"#E5ECF6\",\"gridcolor\":\"white\",\"gridwidth\":2,\"linecolor\":\"white\",\"showbackground\":true,\"ticks\":\"\",\"zerolinecolor\":\"white\"}},\"shapedefaults\":{\"line\":{\"color\":\"#2a3f5f\"}},\"ternary\":{\"aaxis\":{\"gridcolor\":\"white\",\"linecolor\":\"white\",\"ticks\":\"\"},\"baxis\":{\"gridcolor\":\"white\",\"linecolor\":\"white\",\"ticks\":\"\"},\"bgcolor\":\"#E5ECF6\",\"caxis\":{\"gridcolor\":\"white\",\"linecolor\":\"white\",\"ticks\":\"\"}},\"title\":{\"x\":0.05},\"xaxis\":{\"automargin\":true,\"gridcolor\":\"white\",\"linecolor\":\"white\",\"ticks\":\"\",\"title\":{\"standoff\":15},\"zerolinecolor\":\"white\",\"zerolinewidth\":2},\"yaxis\":{\"automargin\":true,\"gridcolor\":\"white\",\"linecolor\":\"white\",\"ticks\":\"\",\"title\":{\"standoff\":15},\"zerolinecolor\":\"white\",\"zerolinewidth\":2}}},\"title\":{\"text\":\"HUZ.TO Historical Price\"},\"xaxis\":{\"anchor\":\"y\",\"domain\":[0.0,1.0],\"title\":{\"text\":\"date\"}},\"yaxis\":{\"anchor\":\"x\",\"domain\":[0.0,1.0],\"title\":{\"text\":\"value\"}}},                        {\"responsive\": true}                    ).then(function(){\n",
       "                            \n",
       "var gd = document.getElementById('c9ff3888-d349-4028-ad15-0f2a393dc8a6');\n",
       "var x = new MutationObserver(function (mutations, observer) {{\n",
       "        var display = window.getComputedStyle(gd).display;\n",
       "        if (!display || display === 'none') {{\n",
       "            console.log([gd, 'removed!']);\n",
       "            Plotly.purge(gd);\n",
       "            observer.disconnect();\n",
       "        }}\n",
       "}});\n",
       "\n",
       "// Listen for the removal of the full notebook cells\n",
       "var notebookContainer = gd.closest('#notebook-container');\n",
       "if (notebookContainer) {{\n",
       "    x.observe(notebookContainer, {childList: true});\n",
       "}}\n",
       "\n",
       "// Listen for the clearing of the current output cell\n",
       "var outputEl = gd.closest('.output');\n",
       "if (outputEl) {{\n",
       "    x.observe(outputEl, {childList: true});\n",
       "}}\n",
       "\n",
       "                        })                };                });            </script>        </div>"
      ]
     },
     "metadata": {},
     "output_type": "display_data"
    },
    {
     "name": "stdout",
     "output_type": "stream",
     "text": [
      "=============================== HUZ.TO =================================\n",
      "\n",
      "-------------------------- Summary Details ----------------------------\n",
      "-------------------------- Key Factor ----------------------------\n",
      "-------------------------- Fund Sector ----------------------------\n",
      "-------------------------- Holdings ----------------------------\n",
      "-------------------------- Returns ----------------------------\n",
      "-------------------------- Risk Factors ----------------------------\n",
      "=========================================================================\n",
      "Recent News of HZU.TO :\n",
      "================================================================\n"
     ]
    },
    {
     "data": {
      "application/vnd.plotly.v1+json": {
       "config": {
        "plotlyServerURL": "https://plot.ly"
       },
       "data": [
        {
         "hovertemplate": "variable=open<br>date=%{x}<br>value=%{y}<extra></extra>",
         "legendgroup": "open",
         "line": {
          "color": "#636efa",
          "dash": "solid"
         },
         "mode": "lines",
         "name": "open",
         "orientation": "v",
         "showlegend": true,
         "type": "scatter",
         "x": [
          "2021-10-25",
          "2021-10-26",
          "2021-10-27",
          "2021-10-28",
          "2021-10-29",
          "2021-11-01",
          "2021-11-02",
          "2021-11-03",
          "2021-11-04",
          "2021-11-05",
          "2021-11-08",
          "2021-11-09",
          "2021-11-10",
          "2021-11-11",
          "2021-11-12",
          "2021-11-15",
          "2021-11-16",
          "2021-11-17",
          "2021-11-18",
          "2021-11-19",
          "2021-11-22",
          "2021-11-23"
         ],
         "xaxis": "x",
         "y": [
          15.100000381469727,
          14.630000114440918,
          14.550000190734863,
          14.59000015258789,
          14.1899995803833,
          14.399999618530273,
          14,
          13.289999961853027,
          14.199999809265137,
          14.399999618530273,
          14.789999961853027,
          14.75,
          15.539999961853027,
          15.6899995803833,
          15.59000015258789,
          15.630000114440918,
          15.539999961853027,
          15.65999984741211,
          15.380000114440918,
          15.350000381469727,
          14.850000381469727,
          13.59000015258789
         ],
         "yaxis": "y"
        },
        {
         "hovertemplate": "variable=high<br>date=%{x}<br>value=%{y}<extra></extra>",
         "legendgroup": "high",
         "line": {
          "color": "#EF553B",
          "dash": "solid"
         },
         "mode": "lines",
         "name": "high",
         "orientation": "v",
         "showlegend": true,
         "type": "scatter",
         "x": [
          "2021-10-25",
          "2021-10-26",
          "2021-10-27",
          "2021-10-28",
          "2021-10-29",
          "2021-11-01",
          "2021-11-02",
          "2021-11-03",
          "2021-11-04",
          "2021-11-05",
          "2021-11-08",
          "2021-11-09",
          "2021-11-10",
          "2021-11-11",
          "2021-11-12",
          "2021-11-15",
          "2021-11-16",
          "2021-11-17",
          "2021-11-18",
          "2021-11-19",
          "2021-11-22",
          "2021-11-23"
         ],
         "xaxis": "x",
         "y": [
          15.149999618530273,
          14.630000114440918,
          14.670000076293945,
          14.649999618530273,
          14.289999961853027,
          14.489999771118164,
          14.010000228881836,
          13.8100004196167,
          14.380000114440918,
          14.529999732971191,
          14.970000267028809,
          14.850000381469727,
          15.699999809265137,
          15.90999984741211,
          16.020000457763672,
          15.75,
          15.729999542236328,
          15.800000190734863,
          15.460000038146973,
          15.479999542236328,
          14.970000267028809,
          13.819999694824219
         ],
         "yaxis": "y"
        },
        {
         "hovertemplate": "variable=close<br>date=%{x}<br>value=%{y}<extra></extra>",
         "legendgroup": "close",
         "line": {
          "color": "#00cc96",
          "dash": "solid"
         },
         "mode": "lines",
         "name": "close",
         "orientation": "v",
         "showlegend": true,
         "type": "scatter",
         "x": [
          "2021-10-25",
          "2021-10-26",
          "2021-10-27",
          "2021-10-28",
          "2021-10-29",
          "2021-11-01",
          "2021-11-02",
          "2021-11-03",
          "2021-11-04",
          "2021-11-05",
          "2021-11-08",
          "2021-11-09",
          "2021-11-10",
          "2021-11-11",
          "2021-11-12",
          "2021-11-15",
          "2021-11-16",
          "2021-11-17",
          "2021-11-18",
          "2021-11-19",
          "2021-11-22",
          "2021-11-23"
         ],
         "xaxis": "x",
         "y": [
          15.069999694824219,
          14.569999694824219,
          14.470000267028809,
          14.4399995803833,
          14.220000267028809,
          14.390000343322754,
          13.800000190734863,
          13.800000190734863,
          14.09000015258789,
          14.529999732971191,
          14.90999984741211,
          14.720000267028809,
          15.15999984741211,
          15.880000114440918,
          15.920000076293945,
          15.619999885559082,
          15.289999961853027,
          15.600000381469727,
          15.289999961853027,
          14.989999771118164,
          14.470000267028809,
          13.819999694824219
         ],
         "yaxis": "y"
        },
        {
         "hovertemplate": "variable=low<br>date=%{x}<br>value=%{y}<extra></extra>",
         "legendgroup": "low",
         "line": {
          "color": "#ab63fa",
          "dash": "solid"
         },
         "mode": "lines",
         "name": "low",
         "orientation": "v",
         "showlegend": true,
         "type": "scatter",
         "x": [
          "2021-10-25",
          "2021-10-26",
          "2021-10-27",
          "2021-10-28",
          "2021-10-29",
          "2021-11-01",
          "2021-11-02",
          "2021-11-03",
          "2021-11-04",
          "2021-11-05",
          "2021-11-08",
          "2021-11-09",
          "2021-11-10",
          "2021-11-11",
          "2021-11-12",
          "2021-11-15",
          "2021-11-16",
          "2021-11-17",
          "2021-11-18",
          "2021-11-19",
          "2021-11-22",
          "2021-11-23"
         ],
         "xaxis": "x",
         "y": [
          14.84000015258789,
          14.220000267028809,
          14.329999923706055,
          14.34000015258789,
          13.949999809265137,
          14.319999694824219,
          13.619999885559082,
          13.180000305175781,
          14.050000190734863,
          14.119999885559082,
          14.680000305175781,
          14.430000305175781,
          14.970000267028809,
          15.619999885559082,
          15.579999923706055,
          15.4399995803833,
          15.25,
          15.479999542236328,
          15.229999542236328,
          14.970000267028809,
          14.399999618530273,
          13.359999656677246
         ],
         "yaxis": "y"
        },
        {
         "hovertemplate": "variable=adjclose<br>date=%{x}<br>value=%{y}<extra></extra>",
         "legendgroup": "adjclose",
         "line": {
          "color": "#FFA15A",
          "dash": "solid"
         },
         "mode": "lines",
         "name": "adjclose",
         "orientation": "v",
         "showlegend": true,
         "type": "scatter",
         "x": [
          "2021-10-25",
          "2021-10-26",
          "2021-10-27",
          "2021-10-28",
          "2021-10-29",
          "2021-11-01",
          "2021-11-02",
          "2021-11-03",
          "2021-11-04",
          "2021-11-05",
          "2021-11-08",
          "2021-11-09",
          "2021-11-10",
          "2021-11-11",
          "2021-11-12",
          "2021-11-15",
          "2021-11-16",
          "2021-11-17",
          "2021-11-18",
          "2021-11-19",
          "2021-11-22",
          "2021-11-23"
         ],
         "xaxis": "x",
         "y": [
          15.069999694824219,
          14.569999694824219,
          14.470000267028809,
          14.4399995803833,
          14.220000267028809,
          14.390000343322754,
          13.800000190734863,
          13.800000190734863,
          14.09000015258789,
          14.529999732971191,
          14.90999984741211,
          14.720000267028809,
          15.15999984741211,
          15.880000114440918,
          15.920000076293945,
          15.619999885559082,
          15.289999961853027,
          15.600000381469727,
          15.289999961853027,
          14.989999771118164,
          14.470000267028809,
          13.819999694824219
         ],
         "yaxis": "y"
        }
       ],
       "layout": {
        "legend": {
         "title": {
          "text": "variable"
         },
         "tracegroupgap": 0
        },
        "template": {
         "data": {
          "bar": [
           {
            "error_x": {
             "color": "#2a3f5f"
            },
            "error_y": {
             "color": "#2a3f5f"
            },
            "marker": {
             "line": {
              "color": "#E5ECF6",
              "width": 0.5
             },
             "pattern": {
              "fillmode": "overlay",
              "size": 10,
              "solidity": 0.2
             }
            },
            "type": "bar"
           }
          ],
          "barpolar": [
           {
            "marker": {
             "line": {
              "color": "#E5ECF6",
              "width": 0.5
             },
             "pattern": {
              "fillmode": "overlay",
              "size": 10,
              "solidity": 0.2
             }
            },
            "type": "barpolar"
           }
          ],
          "carpet": [
           {
            "aaxis": {
             "endlinecolor": "#2a3f5f",
             "gridcolor": "white",
             "linecolor": "white",
             "minorgridcolor": "white",
             "startlinecolor": "#2a3f5f"
            },
            "baxis": {
             "endlinecolor": "#2a3f5f",
             "gridcolor": "white",
             "linecolor": "white",
             "minorgridcolor": "white",
             "startlinecolor": "#2a3f5f"
            },
            "type": "carpet"
           }
          ],
          "choropleth": [
           {
            "colorbar": {
             "outlinewidth": 0,
             "ticks": ""
            },
            "type": "choropleth"
           }
          ],
          "contour": [
           {
            "colorbar": {
             "outlinewidth": 0,
             "ticks": ""
            },
            "colorscale": [
             [
              0,
              "#0d0887"
             ],
             [
              0.1111111111111111,
              "#46039f"
             ],
             [
              0.2222222222222222,
              "#7201a8"
             ],
             [
              0.3333333333333333,
              "#9c179e"
             ],
             [
              0.4444444444444444,
              "#bd3786"
             ],
             [
              0.5555555555555556,
              "#d8576b"
             ],
             [
              0.6666666666666666,
              "#ed7953"
             ],
             [
              0.7777777777777778,
              "#fb9f3a"
             ],
             [
              0.8888888888888888,
              "#fdca26"
             ],
             [
              1,
              "#f0f921"
             ]
            ],
            "type": "contour"
           }
          ],
          "contourcarpet": [
           {
            "colorbar": {
             "outlinewidth": 0,
             "ticks": ""
            },
            "type": "contourcarpet"
           }
          ],
          "heatmap": [
           {
            "colorbar": {
             "outlinewidth": 0,
             "ticks": ""
            },
            "colorscale": [
             [
              0,
              "#0d0887"
             ],
             [
              0.1111111111111111,
              "#46039f"
             ],
             [
              0.2222222222222222,
              "#7201a8"
             ],
             [
              0.3333333333333333,
              "#9c179e"
             ],
             [
              0.4444444444444444,
              "#bd3786"
             ],
             [
              0.5555555555555556,
              "#d8576b"
             ],
             [
              0.6666666666666666,
              "#ed7953"
             ],
             [
              0.7777777777777778,
              "#fb9f3a"
             ],
             [
              0.8888888888888888,
              "#fdca26"
             ],
             [
              1,
              "#f0f921"
             ]
            ],
            "type": "heatmap"
           }
          ],
          "heatmapgl": [
           {
            "colorbar": {
             "outlinewidth": 0,
             "ticks": ""
            },
            "colorscale": [
             [
              0,
              "#0d0887"
             ],
             [
              0.1111111111111111,
              "#46039f"
             ],
             [
              0.2222222222222222,
              "#7201a8"
             ],
             [
              0.3333333333333333,
              "#9c179e"
             ],
             [
              0.4444444444444444,
              "#bd3786"
             ],
             [
              0.5555555555555556,
              "#d8576b"
             ],
             [
              0.6666666666666666,
              "#ed7953"
             ],
             [
              0.7777777777777778,
              "#fb9f3a"
             ],
             [
              0.8888888888888888,
              "#fdca26"
             ],
             [
              1,
              "#f0f921"
             ]
            ],
            "type": "heatmapgl"
           }
          ],
          "histogram": [
           {
            "marker": {
             "pattern": {
              "fillmode": "overlay",
              "size": 10,
              "solidity": 0.2
             }
            },
            "type": "histogram"
           }
          ],
          "histogram2d": [
           {
            "colorbar": {
             "outlinewidth": 0,
             "ticks": ""
            },
            "colorscale": [
             [
              0,
              "#0d0887"
             ],
             [
              0.1111111111111111,
              "#46039f"
             ],
             [
              0.2222222222222222,
              "#7201a8"
             ],
             [
              0.3333333333333333,
              "#9c179e"
             ],
             [
              0.4444444444444444,
              "#bd3786"
             ],
             [
              0.5555555555555556,
              "#d8576b"
             ],
             [
              0.6666666666666666,
              "#ed7953"
             ],
             [
              0.7777777777777778,
              "#fb9f3a"
             ],
             [
              0.8888888888888888,
              "#fdca26"
             ],
             [
              1,
              "#f0f921"
             ]
            ],
            "type": "histogram2d"
           }
          ],
          "histogram2dcontour": [
           {
            "colorbar": {
             "outlinewidth": 0,
             "ticks": ""
            },
            "colorscale": [
             [
              0,
              "#0d0887"
             ],
             [
              0.1111111111111111,
              "#46039f"
             ],
             [
              0.2222222222222222,
              "#7201a8"
             ],
             [
              0.3333333333333333,
              "#9c179e"
             ],
             [
              0.4444444444444444,
              "#bd3786"
             ],
             [
              0.5555555555555556,
              "#d8576b"
             ],
             [
              0.6666666666666666,
              "#ed7953"
             ],
             [
              0.7777777777777778,
              "#fb9f3a"
             ],
             [
              0.8888888888888888,
              "#fdca26"
             ],
             [
              1,
              "#f0f921"
             ]
            ],
            "type": "histogram2dcontour"
           }
          ],
          "mesh3d": [
           {
            "colorbar": {
             "outlinewidth": 0,
             "ticks": ""
            },
            "type": "mesh3d"
           }
          ],
          "parcoords": [
           {
            "line": {
             "colorbar": {
              "outlinewidth": 0,
              "ticks": ""
             }
            },
            "type": "parcoords"
           }
          ],
          "pie": [
           {
            "automargin": true,
            "type": "pie"
           }
          ],
          "scatter": [
           {
            "marker": {
             "colorbar": {
              "outlinewidth": 0,
              "ticks": ""
             }
            },
            "type": "scatter"
           }
          ],
          "scatter3d": [
           {
            "line": {
             "colorbar": {
              "outlinewidth": 0,
              "ticks": ""
             }
            },
            "marker": {
             "colorbar": {
              "outlinewidth": 0,
              "ticks": ""
             }
            },
            "type": "scatter3d"
           }
          ],
          "scattercarpet": [
           {
            "marker": {
             "colorbar": {
              "outlinewidth": 0,
              "ticks": ""
             }
            },
            "type": "scattercarpet"
           }
          ],
          "scattergeo": [
           {
            "marker": {
             "colorbar": {
              "outlinewidth": 0,
              "ticks": ""
             }
            },
            "type": "scattergeo"
           }
          ],
          "scattergl": [
           {
            "marker": {
             "colorbar": {
              "outlinewidth": 0,
              "ticks": ""
             }
            },
            "type": "scattergl"
           }
          ],
          "scattermapbox": [
           {
            "marker": {
             "colorbar": {
              "outlinewidth": 0,
              "ticks": ""
             }
            },
            "type": "scattermapbox"
           }
          ],
          "scatterpolar": [
           {
            "marker": {
             "colorbar": {
              "outlinewidth": 0,
              "ticks": ""
             }
            },
            "type": "scatterpolar"
           }
          ],
          "scatterpolargl": [
           {
            "marker": {
             "colorbar": {
              "outlinewidth": 0,
              "ticks": ""
             }
            },
            "type": "scatterpolargl"
           }
          ],
          "scatterternary": [
           {
            "marker": {
             "colorbar": {
              "outlinewidth": 0,
              "ticks": ""
             }
            },
            "type": "scatterternary"
           }
          ],
          "surface": [
           {
            "colorbar": {
             "outlinewidth": 0,
             "ticks": ""
            },
            "colorscale": [
             [
              0,
              "#0d0887"
             ],
             [
              0.1111111111111111,
              "#46039f"
             ],
             [
              0.2222222222222222,
              "#7201a8"
             ],
             [
              0.3333333333333333,
              "#9c179e"
             ],
             [
              0.4444444444444444,
              "#bd3786"
             ],
             [
              0.5555555555555556,
              "#d8576b"
             ],
             [
              0.6666666666666666,
              "#ed7953"
             ],
             [
              0.7777777777777778,
              "#fb9f3a"
             ],
             [
              0.8888888888888888,
              "#fdca26"
             ],
             [
              1,
              "#f0f921"
             ]
            ],
            "type": "surface"
           }
          ],
          "table": [
           {
            "cells": {
             "fill": {
              "color": "#EBF0F8"
             },
             "line": {
              "color": "white"
             }
            },
            "header": {
             "fill": {
              "color": "#C8D4E3"
             },
             "line": {
              "color": "white"
             }
            },
            "type": "table"
           }
          ]
         },
         "layout": {
          "annotationdefaults": {
           "arrowcolor": "#2a3f5f",
           "arrowhead": 0,
           "arrowwidth": 1
          },
          "autotypenumbers": "strict",
          "coloraxis": {
           "colorbar": {
            "outlinewidth": 0,
            "ticks": ""
           }
          },
          "colorscale": {
           "diverging": [
            [
             0,
             "#8e0152"
            ],
            [
             0.1,
             "#c51b7d"
            ],
            [
             0.2,
             "#de77ae"
            ],
            [
             0.3,
             "#f1b6da"
            ],
            [
             0.4,
             "#fde0ef"
            ],
            [
             0.5,
             "#f7f7f7"
            ],
            [
             0.6,
             "#e6f5d0"
            ],
            [
             0.7,
             "#b8e186"
            ],
            [
             0.8,
             "#7fbc41"
            ],
            [
             0.9,
             "#4d9221"
            ],
            [
             1,
             "#276419"
            ]
           ],
           "sequential": [
            [
             0,
             "#0d0887"
            ],
            [
             0.1111111111111111,
             "#46039f"
            ],
            [
             0.2222222222222222,
             "#7201a8"
            ],
            [
             0.3333333333333333,
             "#9c179e"
            ],
            [
             0.4444444444444444,
             "#bd3786"
            ],
            [
             0.5555555555555556,
             "#d8576b"
            ],
            [
             0.6666666666666666,
             "#ed7953"
            ],
            [
             0.7777777777777778,
             "#fb9f3a"
            ],
            [
             0.8888888888888888,
             "#fdca26"
            ],
            [
             1,
             "#f0f921"
            ]
           ],
           "sequentialminus": [
            [
             0,
             "#0d0887"
            ],
            [
             0.1111111111111111,
             "#46039f"
            ],
            [
             0.2222222222222222,
             "#7201a8"
            ],
            [
             0.3333333333333333,
             "#9c179e"
            ],
            [
             0.4444444444444444,
             "#bd3786"
            ],
            [
             0.5555555555555556,
             "#d8576b"
            ],
            [
             0.6666666666666666,
             "#ed7953"
            ],
            [
             0.7777777777777778,
             "#fb9f3a"
            ],
            [
             0.8888888888888888,
             "#fdca26"
            ],
            [
             1,
             "#f0f921"
            ]
           ]
          },
          "colorway": [
           "#636efa",
           "#EF553B",
           "#00cc96",
           "#ab63fa",
           "#FFA15A",
           "#19d3f3",
           "#FF6692",
           "#B6E880",
           "#FF97FF",
           "#FECB52"
          ],
          "font": {
           "color": "#2a3f5f"
          },
          "geo": {
           "bgcolor": "white",
           "lakecolor": "white",
           "landcolor": "#E5ECF6",
           "showlakes": true,
           "showland": true,
           "subunitcolor": "white"
          },
          "hoverlabel": {
           "align": "left"
          },
          "hovermode": "closest",
          "mapbox": {
           "style": "light"
          },
          "paper_bgcolor": "white",
          "plot_bgcolor": "#E5ECF6",
          "polar": {
           "angularaxis": {
            "gridcolor": "white",
            "linecolor": "white",
            "ticks": ""
           },
           "bgcolor": "#E5ECF6",
           "radialaxis": {
            "gridcolor": "white",
            "linecolor": "white",
            "ticks": ""
           }
          },
          "scene": {
           "xaxis": {
            "backgroundcolor": "#E5ECF6",
            "gridcolor": "white",
            "gridwidth": 2,
            "linecolor": "white",
            "showbackground": true,
            "ticks": "",
            "zerolinecolor": "white"
           },
           "yaxis": {
            "backgroundcolor": "#E5ECF6",
            "gridcolor": "white",
            "gridwidth": 2,
            "linecolor": "white",
            "showbackground": true,
            "ticks": "",
            "zerolinecolor": "white"
           },
           "zaxis": {
            "backgroundcolor": "#E5ECF6",
            "gridcolor": "white",
            "gridwidth": 2,
            "linecolor": "white",
            "showbackground": true,
            "ticks": "",
            "zerolinecolor": "white"
           }
          },
          "shapedefaults": {
           "line": {
            "color": "#2a3f5f"
           }
          },
          "ternary": {
           "aaxis": {
            "gridcolor": "white",
            "linecolor": "white",
            "ticks": ""
           },
           "baxis": {
            "gridcolor": "white",
            "linecolor": "white",
            "ticks": ""
           },
           "bgcolor": "#E5ECF6",
           "caxis": {
            "gridcolor": "white",
            "linecolor": "white",
            "ticks": ""
           }
          },
          "title": {
           "x": 0.05
          },
          "xaxis": {
           "automargin": true,
           "gridcolor": "white",
           "linecolor": "white",
           "ticks": "",
           "title": {
            "standoff": 15
           },
           "zerolinecolor": "white",
           "zerolinewidth": 2
          },
          "yaxis": {
           "automargin": true,
           "gridcolor": "white",
           "linecolor": "white",
           "ticks": "",
           "title": {
            "standoff": 15
           },
           "zerolinecolor": "white",
           "zerolinewidth": 2
          }
         }
        },
        "title": {
         "text": "HZU.TO Historical Price"
        },
        "xaxis": {
         "anchor": "y",
         "domain": [
          0,
          1
         ],
         "title": {
          "text": "date"
         }
        },
        "yaxis": {
         "anchor": "x",
         "domain": [
          0,
          1
         ],
         "title": {
          "text": "value"
         }
        }
       }
      },
      "text/html": [
       "<div>                            <div id=\"b53c45a2-a5a8-463a-bffd-efe466614fd9\" class=\"plotly-graph-div\" style=\"height:525px; width:100%;\"></div>            <script type=\"text/javascript\">                require([\"plotly\"], function(Plotly) {                    window.PLOTLYENV=window.PLOTLYENV || {};                                    if (document.getElementById(\"b53c45a2-a5a8-463a-bffd-efe466614fd9\")) {                    Plotly.newPlot(                        \"b53c45a2-a5a8-463a-bffd-efe466614fd9\",                        [{\"hovertemplate\":\"variable=open<br>date=%{x}<br>value=%{y}<extra></extra>\",\"legendgroup\":\"open\",\"line\":{\"color\":\"#636efa\",\"dash\":\"solid\"},\"mode\":\"lines\",\"name\":\"open\",\"orientation\":\"v\",\"showlegend\":true,\"type\":\"scatter\",\"x\":[\"2021-10-25\",\"2021-10-26\",\"2021-10-27\",\"2021-10-28\",\"2021-10-29\",\"2021-11-01\",\"2021-11-02\",\"2021-11-03\",\"2021-11-04\",\"2021-11-05\",\"2021-11-08\",\"2021-11-09\",\"2021-11-10\",\"2021-11-11\",\"2021-11-12\",\"2021-11-15\",\"2021-11-16\",\"2021-11-17\",\"2021-11-18\",\"2021-11-19\",\"2021-11-22\",\"2021-11-23\"],\"xaxis\":\"x\",\"y\":[15.100000381469727,14.630000114440918,14.550000190734863,14.59000015258789,14.1899995803833,14.399999618530273,14.0,13.289999961853027,14.199999809265137,14.399999618530273,14.789999961853027,14.75,15.539999961853027,15.6899995803833,15.59000015258789,15.630000114440918,15.539999961853027,15.65999984741211,15.380000114440918,15.350000381469727,14.850000381469727,13.59000015258789],\"yaxis\":\"y\"},{\"hovertemplate\":\"variable=high<br>date=%{x}<br>value=%{y}<extra></extra>\",\"legendgroup\":\"high\",\"line\":{\"color\":\"#EF553B\",\"dash\":\"solid\"},\"mode\":\"lines\",\"name\":\"high\",\"orientation\":\"v\",\"showlegend\":true,\"type\":\"scatter\",\"x\":[\"2021-10-25\",\"2021-10-26\",\"2021-10-27\",\"2021-10-28\",\"2021-10-29\",\"2021-11-01\",\"2021-11-02\",\"2021-11-03\",\"2021-11-04\",\"2021-11-05\",\"2021-11-08\",\"2021-11-09\",\"2021-11-10\",\"2021-11-11\",\"2021-11-12\",\"2021-11-15\",\"2021-11-16\",\"2021-11-17\",\"2021-11-18\",\"2021-11-19\",\"2021-11-22\",\"2021-11-23\"],\"xaxis\":\"x\",\"y\":[15.149999618530273,14.630000114440918,14.670000076293945,14.649999618530273,14.289999961853027,14.489999771118164,14.010000228881836,13.8100004196167,14.380000114440918,14.529999732971191,14.970000267028809,14.850000381469727,15.699999809265137,15.90999984741211,16.020000457763672,15.75,15.729999542236328,15.800000190734863,15.460000038146973,15.479999542236328,14.970000267028809,13.819999694824219],\"yaxis\":\"y\"},{\"hovertemplate\":\"variable=close<br>date=%{x}<br>value=%{y}<extra></extra>\",\"legendgroup\":\"close\",\"line\":{\"color\":\"#00cc96\",\"dash\":\"solid\"},\"mode\":\"lines\",\"name\":\"close\",\"orientation\":\"v\",\"showlegend\":true,\"type\":\"scatter\",\"x\":[\"2021-10-25\",\"2021-10-26\",\"2021-10-27\",\"2021-10-28\",\"2021-10-29\",\"2021-11-01\",\"2021-11-02\",\"2021-11-03\",\"2021-11-04\",\"2021-11-05\",\"2021-11-08\",\"2021-11-09\",\"2021-11-10\",\"2021-11-11\",\"2021-11-12\",\"2021-11-15\",\"2021-11-16\",\"2021-11-17\",\"2021-11-18\",\"2021-11-19\",\"2021-11-22\",\"2021-11-23\"],\"xaxis\":\"x\",\"y\":[15.069999694824219,14.569999694824219,14.470000267028809,14.4399995803833,14.220000267028809,14.390000343322754,13.800000190734863,13.800000190734863,14.09000015258789,14.529999732971191,14.90999984741211,14.720000267028809,15.15999984741211,15.880000114440918,15.920000076293945,15.619999885559082,15.289999961853027,15.600000381469727,15.289999961853027,14.989999771118164,14.470000267028809,13.819999694824219],\"yaxis\":\"y\"},{\"hovertemplate\":\"variable=low<br>date=%{x}<br>value=%{y}<extra></extra>\",\"legendgroup\":\"low\",\"line\":{\"color\":\"#ab63fa\",\"dash\":\"solid\"},\"mode\":\"lines\",\"name\":\"low\",\"orientation\":\"v\",\"showlegend\":true,\"type\":\"scatter\",\"x\":[\"2021-10-25\",\"2021-10-26\",\"2021-10-27\",\"2021-10-28\",\"2021-10-29\",\"2021-11-01\",\"2021-11-02\",\"2021-11-03\",\"2021-11-04\",\"2021-11-05\",\"2021-11-08\",\"2021-11-09\",\"2021-11-10\",\"2021-11-11\",\"2021-11-12\",\"2021-11-15\",\"2021-11-16\",\"2021-11-17\",\"2021-11-18\",\"2021-11-19\",\"2021-11-22\",\"2021-11-23\"],\"xaxis\":\"x\",\"y\":[14.84000015258789,14.220000267028809,14.329999923706055,14.34000015258789,13.949999809265137,14.319999694824219,13.619999885559082,13.180000305175781,14.050000190734863,14.119999885559082,14.680000305175781,14.430000305175781,14.970000267028809,15.619999885559082,15.579999923706055,15.4399995803833,15.25,15.479999542236328,15.229999542236328,14.970000267028809,14.399999618530273,13.359999656677246],\"yaxis\":\"y\"},{\"hovertemplate\":\"variable=adjclose<br>date=%{x}<br>value=%{y}<extra></extra>\",\"legendgroup\":\"adjclose\",\"line\":{\"color\":\"#FFA15A\",\"dash\":\"solid\"},\"mode\":\"lines\",\"name\":\"adjclose\",\"orientation\":\"v\",\"showlegend\":true,\"type\":\"scatter\",\"x\":[\"2021-10-25\",\"2021-10-26\",\"2021-10-27\",\"2021-10-28\",\"2021-10-29\",\"2021-11-01\",\"2021-11-02\",\"2021-11-03\",\"2021-11-04\",\"2021-11-05\",\"2021-11-08\",\"2021-11-09\",\"2021-11-10\",\"2021-11-11\",\"2021-11-12\",\"2021-11-15\",\"2021-11-16\",\"2021-11-17\",\"2021-11-18\",\"2021-11-19\",\"2021-11-22\",\"2021-11-23\"],\"xaxis\":\"x\",\"y\":[15.069999694824219,14.569999694824219,14.470000267028809,14.4399995803833,14.220000267028809,14.390000343322754,13.800000190734863,13.800000190734863,14.09000015258789,14.529999732971191,14.90999984741211,14.720000267028809,15.15999984741211,15.880000114440918,15.920000076293945,15.619999885559082,15.289999961853027,15.600000381469727,15.289999961853027,14.989999771118164,14.470000267028809,13.819999694824219],\"yaxis\":\"y\"}],                        {\"legend\":{\"title\":{\"text\":\"variable\"},\"tracegroupgap\":0},\"template\":{\"data\":{\"bar\":[{\"error_x\":{\"color\":\"#2a3f5f\"},\"error_y\":{\"color\":\"#2a3f5f\"},\"marker\":{\"line\":{\"color\":\"#E5ECF6\",\"width\":0.5},\"pattern\":{\"fillmode\":\"overlay\",\"size\":10,\"solidity\":0.2}},\"type\":\"bar\"}],\"barpolar\":[{\"marker\":{\"line\":{\"color\":\"#E5ECF6\",\"width\":0.5},\"pattern\":{\"fillmode\":\"overlay\",\"size\":10,\"solidity\":0.2}},\"type\":\"barpolar\"}],\"carpet\":[{\"aaxis\":{\"endlinecolor\":\"#2a3f5f\",\"gridcolor\":\"white\",\"linecolor\":\"white\",\"minorgridcolor\":\"white\",\"startlinecolor\":\"#2a3f5f\"},\"baxis\":{\"endlinecolor\":\"#2a3f5f\",\"gridcolor\":\"white\",\"linecolor\":\"white\",\"minorgridcolor\":\"white\",\"startlinecolor\":\"#2a3f5f\"},\"type\":\"carpet\"}],\"choropleth\":[{\"colorbar\":{\"outlinewidth\":0,\"ticks\":\"\"},\"type\":\"choropleth\"}],\"contour\":[{\"colorbar\":{\"outlinewidth\":0,\"ticks\":\"\"},\"colorscale\":[[0.0,\"#0d0887\"],[0.1111111111111111,\"#46039f\"],[0.2222222222222222,\"#7201a8\"],[0.3333333333333333,\"#9c179e\"],[0.4444444444444444,\"#bd3786\"],[0.5555555555555556,\"#d8576b\"],[0.6666666666666666,\"#ed7953\"],[0.7777777777777778,\"#fb9f3a\"],[0.8888888888888888,\"#fdca26\"],[1.0,\"#f0f921\"]],\"type\":\"contour\"}],\"contourcarpet\":[{\"colorbar\":{\"outlinewidth\":0,\"ticks\":\"\"},\"type\":\"contourcarpet\"}],\"heatmap\":[{\"colorbar\":{\"outlinewidth\":0,\"ticks\":\"\"},\"colorscale\":[[0.0,\"#0d0887\"],[0.1111111111111111,\"#46039f\"],[0.2222222222222222,\"#7201a8\"],[0.3333333333333333,\"#9c179e\"],[0.4444444444444444,\"#bd3786\"],[0.5555555555555556,\"#d8576b\"],[0.6666666666666666,\"#ed7953\"],[0.7777777777777778,\"#fb9f3a\"],[0.8888888888888888,\"#fdca26\"],[1.0,\"#f0f921\"]],\"type\":\"heatmap\"}],\"heatmapgl\":[{\"colorbar\":{\"outlinewidth\":0,\"ticks\":\"\"},\"colorscale\":[[0.0,\"#0d0887\"],[0.1111111111111111,\"#46039f\"],[0.2222222222222222,\"#7201a8\"],[0.3333333333333333,\"#9c179e\"],[0.4444444444444444,\"#bd3786\"],[0.5555555555555556,\"#d8576b\"],[0.6666666666666666,\"#ed7953\"],[0.7777777777777778,\"#fb9f3a\"],[0.8888888888888888,\"#fdca26\"],[1.0,\"#f0f921\"]],\"type\":\"heatmapgl\"}],\"histogram\":[{\"marker\":{\"pattern\":{\"fillmode\":\"overlay\",\"size\":10,\"solidity\":0.2}},\"type\":\"histogram\"}],\"histogram2d\":[{\"colorbar\":{\"outlinewidth\":0,\"ticks\":\"\"},\"colorscale\":[[0.0,\"#0d0887\"],[0.1111111111111111,\"#46039f\"],[0.2222222222222222,\"#7201a8\"],[0.3333333333333333,\"#9c179e\"],[0.4444444444444444,\"#bd3786\"],[0.5555555555555556,\"#d8576b\"],[0.6666666666666666,\"#ed7953\"],[0.7777777777777778,\"#fb9f3a\"],[0.8888888888888888,\"#fdca26\"],[1.0,\"#f0f921\"]],\"type\":\"histogram2d\"}],\"histogram2dcontour\":[{\"colorbar\":{\"outlinewidth\":0,\"ticks\":\"\"},\"colorscale\":[[0.0,\"#0d0887\"],[0.1111111111111111,\"#46039f\"],[0.2222222222222222,\"#7201a8\"],[0.3333333333333333,\"#9c179e\"],[0.4444444444444444,\"#bd3786\"],[0.5555555555555556,\"#d8576b\"],[0.6666666666666666,\"#ed7953\"],[0.7777777777777778,\"#fb9f3a\"],[0.8888888888888888,\"#fdca26\"],[1.0,\"#f0f921\"]],\"type\":\"histogram2dcontour\"}],\"mesh3d\":[{\"colorbar\":{\"outlinewidth\":0,\"ticks\":\"\"},\"type\":\"mesh3d\"}],\"parcoords\":[{\"line\":{\"colorbar\":{\"outlinewidth\":0,\"ticks\":\"\"}},\"type\":\"parcoords\"}],\"pie\":[{\"automargin\":true,\"type\":\"pie\"}],\"scatter\":[{\"marker\":{\"colorbar\":{\"outlinewidth\":0,\"ticks\":\"\"}},\"type\":\"scatter\"}],\"scatter3d\":[{\"line\":{\"colorbar\":{\"outlinewidth\":0,\"ticks\":\"\"}},\"marker\":{\"colorbar\":{\"outlinewidth\":0,\"ticks\":\"\"}},\"type\":\"scatter3d\"}],\"scattercarpet\":[{\"marker\":{\"colorbar\":{\"outlinewidth\":0,\"ticks\":\"\"}},\"type\":\"scattercarpet\"}],\"scattergeo\":[{\"marker\":{\"colorbar\":{\"outlinewidth\":0,\"ticks\":\"\"}},\"type\":\"scattergeo\"}],\"scattergl\":[{\"marker\":{\"colorbar\":{\"outlinewidth\":0,\"ticks\":\"\"}},\"type\":\"scattergl\"}],\"scattermapbox\":[{\"marker\":{\"colorbar\":{\"outlinewidth\":0,\"ticks\":\"\"}},\"type\":\"scattermapbox\"}],\"scatterpolar\":[{\"marker\":{\"colorbar\":{\"outlinewidth\":0,\"ticks\":\"\"}},\"type\":\"scatterpolar\"}],\"scatterpolargl\":[{\"marker\":{\"colorbar\":{\"outlinewidth\":0,\"ticks\":\"\"}},\"type\":\"scatterpolargl\"}],\"scatterternary\":[{\"marker\":{\"colorbar\":{\"outlinewidth\":0,\"ticks\":\"\"}},\"type\":\"scatterternary\"}],\"surface\":[{\"colorbar\":{\"outlinewidth\":0,\"ticks\":\"\"},\"colorscale\":[[0.0,\"#0d0887\"],[0.1111111111111111,\"#46039f\"],[0.2222222222222222,\"#7201a8\"],[0.3333333333333333,\"#9c179e\"],[0.4444444444444444,\"#bd3786\"],[0.5555555555555556,\"#d8576b\"],[0.6666666666666666,\"#ed7953\"],[0.7777777777777778,\"#fb9f3a\"],[0.8888888888888888,\"#fdca26\"],[1.0,\"#f0f921\"]],\"type\":\"surface\"}],\"table\":[{\"cells\":{\"fill\":{\"color\":\"#EBF0F8\"},\"line\":{\"color\":\"white\"}},\"header\":{\"fill\":{\"color\":\"#C8D4E3\"},\"line\":{\"color\":\"white\"}},\"type\":\"table\"}]},\"layout\":{\"annotationdefaults\":{\"arrowcolor\":\"#2a3f5f\",\"arrowhead\":0,\"arrowwidth\":1},\"autotypenumbers\":\"strict\",\"coloraxis\":{\"colorbar\":{\"outlinewidth\":0,\"ticks\":\"\"}},\"colorscale\":{\"diverging\":[[0,\"#8e0152\"],[0.1,\"#c51b7d\"],[0.2,\"#de77ae\"],[0.3,\"#f1b6da\"],[0.4,\"#fde0ef\"],[0.5,\"#f7f7f7\"],[0.6,\"#e6f5d0\"],[0.7,\"#b8e186\"],[0.8,\"#7fbc41\"],[0.9,\"#4d9221\"],[1,\"#276419\"]],\"sequential\":[[0.0,\"#0d0887\"],[0.1111111111111111,\"#46039f\"],[0.2222222222222222,\"#7201a8\"],[0.3333333333333333,\"#9c179e\"],[0.4444444444444444,\"#bd3786\"],[0.5555555555555556,\"#d8576b\"],[0.6666666666666666,\"#ed7953\"],[0.7777777777777778,\"#fb9f3a\"],[0.8888888888888888,\"#fdca26\"],[1.0,\"#f0f921\"]],\"sequentialminus\":[[0.0,\"#0d0887\"],[0.1111111111111111,\"#46039f\"],[0.2222222222222222,\"#7201a8\"],[0.3333333333333333,\"#9c179e\"],[0.4444444444444444,\"#bd3786\"],[0.5555555555555556,\"#d8576b\"],[0.6666666666666666,\"#ed7953\"],[0.7777777777777778,\"#fb9f3a\"],[0.8888888888888888,\"#fdca26\"],[1.0,\"#f0f921\"]]},\"colorway\":[\"#636efa\",\"#EF553B\",\"#00cc96\",\"#ab63fa\",\"#FFA15A\",\"#19d3f3\",\"#FF6692\",\"#B6E880\",\"#FF97FF\",\"#FECB52\"],\"font\":{\"color\":\"#2a3f5f\"},\"geo\":{\"bgcolor\":\"white\",\"lakecolor\":\"white\",\"landcolor\":\"#E5ECF6\",\"showlakes\":true,\"showland\":true,\"subunitcolor\":\"white\"},\"hoverlabel\":{\"align\":\"left\"},\"hovermode\":\"closest\",\"mapbox\":{\"style\":\"light\"},\"paper_bgcolor\":\"white\",\"plot_bgcolor\":\"#E5ECF6\",\"polar\":{\"angularaxis\":{\"gridcolor\":\"white\",\"linecolor\":\"white\",\"ticks\":\"\"},\"bgcolor\":\"#E5ECF6\",\"radialaxis\":{\"gridcolor\":\"white\",\"linecolor\":\"white\",\"ticks\":\"\"}},\"scene\":{\"xaxis\":{\"backgroundcolor\":\"#E5ECF6\",\"gridcolor\":\"white\",\"gridwidth\":2,\"linecolor\":\"white\",\"showbackground\":true,\"ticks\":\"\",\"zerolinecolor\":\"white\"},\"yaxis\":{\"backgroundcolor\":\"#E5ECF6\",\"gridcolor\":\"white\",\"gridwidth\":2,\"linecolor\":\"white\",\"showbackground\":true,\"ticks\":\"\",\"zerolinecolor\":\"white\"},\"zaxis\":{\"backgroundcolor\":\"#E5ECF6\",\"gridcolor\":\"white\",\"gridwidth\":2,\"linecolor\":\"white\",\"showbackground\":true,\"ticks\":\"\",\"zerolinecolor\":\"white\"}},\"shapedefaults\":{\"line\":{\"color\":\"#2a3f5f\"}},\"ternary\":{\"aaxis\":{\"gridcolor\":\"white\",\"linecolor\":\"white\",\"ticks\":\"\"},\"baxis\":{\"gridcolor\":\"white\",\"linecolor\":\"white\",\"ticks\":\"\"},\"bgcolor\":\"#E5ECF6\",\"caxis\":{\"gridcolor\":\"white\",\"linecolor\":\"white\",\"ticks\":\"\"}},\"title\":{\"x\":0.05},\"xaxis\":{\"automargin\":true,\"gridcolor\":\"white\",\"linecolor\":\"white\",\"ticks\":\"\",\"title\":{\"standoff\":15},\"zerolinecolor\":\"white\",\"zerolinewidth\":2},\"yaxis\":{\"automargin\":true,\"gridcolor\":\"white\",\"linecolor\":\"white\",\"ticks\":\"\",\"title\":{\"standoff\":15},\"zerolinecolor\":\"white\",\"zerolinewidth\":2}}},\"title\":{\"text\":\"HZU.TO Historical Price\"},\"xaxis\":{\"anchor\":\"y\",\"domain\":[0.0,1.0],\"title\":{\"text\":\"date\"}},\"yaxis\":{\"anchor\":\"x\",\"domain\":[0.0,1.0],\"title\":{\"text\":\"value\"}}},                        {\"responsive\": true}                    ).then(function(){\n",
       "                            \n",
       "var gd = document.getElementById('b53c45a2-a5a8-463a-bffd-efe466614fd9');\n",
       "var x = new MutationObserver(function (mutations, observer) {{\n",
       "        var display = window.getComputedStyle(gd).display;\n",
       "        if (!display || display === 'none') {{\n",
       "            console.log([gd, 'removed!']);\n",
       "            Plotly.purge(gd);\n",
       "            observer.disconnect();\n",
       "        }}\n",
       "}});\n",
       "\n",
       "// Listen for the removal of the full notebook cells\n",
       "var notebookContainer = gd.closest('#notebook-container');\n",
       "if (notebookContainer) {{\n",
       "    x.observe(notebookContainer, {childList: true});\n",
       "}}\n",
       "\n",
       "// Listen for the clearing of the current output cell\n",
       "var outputEl = gd.closest('.output');\n",
       "if (outputEl) {{\n",
       "    x.observe(outputEl, {childList: true});\n",
       "}}\n",
       "\n",
       "                        })                };                });            </script>        </div>"
      ]
     },
     "metadata": {},
     "output_type": "display_data"
    },
    {
     "name": "stdout",
     "output_type": "stream",
     "text": [
      "=============================== HZU.TO =================================\n",
      "\n",
      "-------------------------- Summary Details ----------------------------\n",
      "-------------------------- Key Factor ----------------------------\n",
      "-------------------------- Fund Sector ----------------------------\n",
      "-------------------------- Holdings ----------------------------\n",
      "-------------------------- Returns ----------------------------\n",
      "-------------------------- Risk Factors ----------------------------\n",
      "=========================================================================\n",
      "Recent News of SPCE :\n",
      "-------------------------------------------------------------\n",
      "Virgin Galactic Stock Could Be Worth the Gamble, But We Won’t Know for Years\n",
      "-------------------------------------------------------------\n",
      "Virgin Galactic Earnings: What Happened with SPCE\n",
      "-------------------------------------------------------------\n",
      "Strong ticket sales boost Virgin Galactic during earnings\n",
      "================================================================\n"
     ]
    },
    {
     "data": {
      "application/vnd.plotly.v1+json": {
       "config": {
        "plotlyServerURL": "https://plot.ly"
       },
       "data": [
        {
         "hovertemplate": "variable=open<br>date=%{x}<br>value=%{y}<extra></extra>",
         "legendgroup": "open",
         "line": {
          "color": "#636efa",
          "dash": "solid"
         },
         "mode": "lines",
         "name": "open",
         "orientation": "v",
         "showlegend": true,
         "type": "scatter",
         "x": [
          "2021-10-25",
          "2021-10-26",
          "2021-10-27",
          "2021-10-28",
          "2021-10-29",
          "2021-11-01",
          "2021-11-02",
          "2021-11-03",
          "2021-11-04",
          "2021-11-05",
          "2021-11-08",
          "2021-11-09",
          "2021-11-10",
          "2021-11-11",
          "2021-11-12",
          "2021-11-15",
          "2021-11-16",
          "2021-11-17",
          "2021-11-18",
          "2021-11-19",
          "2021-11-22",
          "2021-11-23"
         ],
         "xaxis": "x",
         "y": [
          19.739999771118164,
          20.040000915527344,
          18.799999237060547,
          18.360000610351562,
          18.649999618530273,
          18.860000610351562,
          19.399999618530273,
          19.510000228881836,
          20.030000686645508,
          19.65999984741211,
          19.31999969482422,
          19.889999389648438,
          20.56999969482422,
          19.309999465942383,
          19.299999237060547,
          19.200000762939453,
          18.75,
          18.31999969482422,
          17.969999313354492,
          17.399999618530273,
          17.454999923706055,
          17.040000915527344
         ],
         "yaxis": "y"
        },
        {
         "hovertemplate": "variable=high<br>date=%{x}<br>value=%{y}<extra></extra>",
         "legendgroup": "high",
         "line": {
          "color": "#EF553B",
          "dash": "solid"
         },
         "mode": "lines",
         "name": "high",
         "orientation": "v",
         "showlegend": true,
         "type": "scatter",
         "x": [
          "2021-10-25",
          "2021-10-26",
          "2021-10-27",
          "2021-10-28",
          "2021-10-29",
          "2021-11-01",
          "2021-11-02",
          "2021-11-03",
          "2021-11-04",
          "2021-11-05",
          "2021-11-08",
          "2021-11-09",
          "2021-11-10",
          "2021-11-11",
          "2021-11-12",
          "2021-11-15",
          "2021-11-16",
          "2021-11-17",
          "2021-11-18",
          "2021-11-19",
          "2021-11-22",
          "2021-11-23"
         ],
         "xaxis": "x",
         "y": [
          20.530000686645508,
          20.260000228881836,
          18.90999984741211,
          18.725000381469727,
          19.079999923706055,
          19.68000030517578,
          19.600000381469727,
          20.040000915527344,
          20.200000762939453,
          19.90999984741211,
          20.020000457763672,
          21.68000030517578,
          21.489999771118164,
          19.540000915527344,
          19.530000686645508,
          19.5049991607666,
          18.805999755859375,
          18.549999237060547,
          18,
          17.709999084472656,
          17.649999618530273,
          17.34000015258789
         ],
         "yaxis": "y"
        },
        {
         "hovertemplate": "variable=close<br>date=%{x}<br>value=%{y}<extra></extra>",
         "legendgroup": "close",
         "line": {
          "color": "#00cc96",
          "dash": "solid"
         },
         "mode": "lines",
         "name": "close",
         "orientation": "v",
         "showlegend": true,
         "type": "scatter",
         "x": [
          "2021-10-25",
          "2021-10-26",
          "2021-10-27",
          "2021-10-28",
          "2021-10-29",
          "2021-11-01",
          "2021-11-02",
          "2021-11-03",
          "2021-11-04",
          "2021-11-05",
          "2021-11-08",
          "2021-11-09",
          "2021-11-10",
          "2021-11-11",
          "2021-11-12",
          "2021-11-15",
          "2021-11-16",
          "2021-11-17",
          "2021-11-18",
          "2021-11-19",
          "2021-11-22",
          "2021-11-23"
         ],
         "xaxis": "x",
         "y": [
          20.040000915527344,
          19.610000610351562,
          18.239999771118164,
          18.559999465942383,
          18.75,
          19.549999237060547,
          19.600000381469727,
          19.940000534057617,
          19.6200008392334,
          19.530000686645508,
          19.889999389648438,
          20.899999618530273,
          20.260000228881836,
          19.270000457763672,
          19.219999313354492,
          19,
          18.31999969482422,
          17.90999984741211,
          17.3799991607666,
          17.25,
          17.079999923706055,
          16.829999923706055
         ],
         "yaxis": "y"
        },
        {
         "hovertemplate": "variable=low<br>date=%{x}<br>value=%{y}<extra></extra>",
         "legendgroup": "low",
         "line": {
          "color": "#ab63fa",
          "dash": "solid"
         },
         "mode": "lines",
         "name": "low",
         "orientation": "v",
         "showlegend": true,
         "type": "scatter",
         "x": [
          "2021-10-25",
          "2021-10-26",
          "2021-10-27",
          "2021-10-28",
          "2021-10-29",
          "2021-11-01",
          "2021-11-02",
          "2021-11-03",
          "2021-11-04",
          "2021-11-05",
          "2021-11-08",
          "2021-11-09",
          "2021-11-10",
          "2021-11-11",
          "2021-11-12",
          "2021-11-15",
          "2021-11-16",
          "2021-11-17",
          "2021-11-18",
          "2021-11-19",
          "2021-11-22",
          "2021-11-23"
         ],
         "xaxis": "x",
         "y": [
          19.6299991607666,
          19.489999771118164,
          17.979999542236328,
          18.295000076293945,
          18.584999084472656,
          18.690000534057617,
          18.940000534057617,
          19.450000762939453,
          19.450000762939453,
          19.104999542236328,
          19.290000915527344,
          19.329999923706055,
          19.950000762939453,
          19.079999923706055,
          19.149999618530273,
          18.969999313354492,
          18.17799949645996,
          17.729999542236328,
          17.170000076293945,
          17.059999465942383,
          16.829999923706055,
          16.364999771118164
         ],
         "yaxis": "y"
        },
        {
         "hovertemplate": "variable=adjclose<br>date=%{x}<br>value=%{y}<extra></extra>",
         "legendgroup": "adjclose",
         "line": {
          "color": "#FFA15A",
          "dash": "solid"
         },
         "mode": "lines",
         "name": "adjclose",
         "orientation": "v",
         "showlegend": true,
         "type": "scatter",
         "x": [
          "2021-10-25",
          "2021-10-26",
          "2021-10-27",
          "2021-10-28",
          "2021-10-29",
          "2021-11-01",
          "2021-11-02",
          "2021-11-03",
          "2021-11-04",
          "2021-11-05",
          "2021-11-08",
          "2021-11-09",
          "2021-11-10",
          "2021-11-11",
          "2021-11-12",
          "2021-11-15",
          "2021-11-16",
          "2021-11-17",
          "2021-11-18",
          "2021-11-19",
          "2021-11-22",
          "2021-11-23"
         ],
         "xaxis": "x",
         "y": [
          20.040000915527344,
          19.610000610351562,
          18.239999771118164,
          18.559999465942383,
          18.75,
          19.549999237060547,
          19.600000381469727,
          19.940000534057617,
          19.6200008392334,
          19.530000686645508,
          19.889999389648438,
          20.899999618530273,
          20.260000228881836,
          19.270000457763672,
          19.219999313354492,
          19,
          18.31999969482422,
          17.90999984741211,
          17.3799991607666,
          17.25,
          17.079999923706055,
          16.829999923706055
         ],
         "yaxis": "y"
        }
       ],
       "layout": {
        "legend": {
         "title": {
          "text": "variable"
         },
         "tracegroupgap": 0
        },
        "template": {
         "data": {
          "bar": [
           {
            "error_x": {
             "color": "#2a3f5f"
            },
            "error_y": {
             "color": "#2a3f5f"
            },
            "marker": {
             "line": {
              "color": "#E5ECF6",
              "width": 0.5
             },
             "pattern": {
              "fillmode": "overlay",
              "size": 10,
              "solidity": 0.2
             }
            },
            "type": "bar"
           }
          ],
          "barpolar": [
           {
            "marker": {
             "line": {
              "color": "#E5ECF6",
              "width": 0.5
             },
             "pattern": {
              "fillmode": "overlay",
              "size": 10,
              "solidity": 0.2
             }
            },
            "type": "barpolar"
           }
          ],
          "carpet": [
           {
            "aaxis": {
             "endlinecolor": "#2a3f5f",
             "gridcolor": "white",
             "linecolor": "white",
             "minorgridcolor": "white",
             "startlinecolor": "#2a3f5f"
            },
            "baxis": {
             "endlinecolor": "#2a3f5f",
             "gridcolor": "white",
             "linecolor": "white",
             "minorgridcolor": "white",
             "startlinecolor": "#2a3f5f"
            },
            "type": "carpet"
           }
          ],
          "choropleth": [
           {
            "colorbar": {
             "outlinewidth": 0,
             "ticks": ""
            },
            "type": "choropleth"
           }
          ],
          "contour": [
           {
            "colorbar": {
             "outlinewidth": 0,
             "ticks": ""
            },
            "colorscale": [
             [
              0,
              "#0d0887"
             ],
             [
              0.1111111111111111,
              "#46039f"
             ],
             [
              0.2222222222222222,
              "#7201a8"
             ],
             [
              0.3333333333333333,
              "#9c179e"
             ],
             [
              0.4444444444444444,
              "#bd3786"
             ],
             [
              0.5555555555555556,
              "#d8576b"
             ],
             [
              0.6666666666666666,
              "#ed7953"
             ],
             [
              0.7777777777777778,
              "#fb9f3a"
             ],
             [
              0.8888888888888888,
              "#fdca26"
             ],
             [
              1,
              "#f0f921"
             ]
            ],
            "type": "contour"
           }
          ],
          "contourcarpet": [
           {
            "colorbar": {
             "outlinewidth": 0,
             "ticks": ""
            },
            "type": "contourcarpet"
           }
          ],
          "heatmap": [
           {
            "colorbar": {
             "outlinewidth": 0,
             "ticks": ""
            },
            "colorscale": [
             [
              0,
              "#0d0887"
             ],
             [
              0.1111111111111111,
              "#46039f"
             ],
             [
              0.2222222222222222,
              "#7201a8"
             ],
             [
              0.3333333333333333,
              "#9c179e"
             ],
             [
              0.4444444444444444,
              "#bd3786"
             ],
             [
              0.5555555555555556,
              "#d8576b"
             ],
             [
              0.6666666666666666,
              "#ed7953"
             ],
             [
              0.7777777777777778,
              "#fb9f3a"
             ],
             [
              0.8888888888888888,
              "#fdca26"
             ],
             [
              1,
              "#f0f921"
             ]
            ],
            "type": "heatmap"
           }
          ],
          "heatmapgl": [
           {
            "colorbar": {
             "outlinewidth": 0,
             "ticks": ""
            },
            "colorscale": [
             [
              0,
              "#0d0887"
             ],
             [
              0.1111111111111111,
              "#46039f"
             ],
             [
              0.2222222222222222,
              "#7201a8"
             ],
             [
              0.3333333333333333,
              "#9c179e"
             ],
             [
              0.4444444444444444,
              "#bd3786"
             ],
             [
              0.5555555555555556,
              "#d8576b"
             ],
             [
              0.6666666666666666,
              "#ed7953"
             ],
             [
              0.7777777777777778,
              "#fb9f3a"
             ],
             [
              0.8888888888888888,
              "#fdca26"
             ],
             [
              1,
              "#f0f921"
             ]
            ],
            "type": "heatmapgl"
           }
          ],
          "histogram": [
           {
            "marker": {
             "pattern": {
              "fillmode": "overlay",
              "size": 10,
              "solidity": 0.2
             }
            },
            "type": "histogram"
           }
          ],
          "histogram2d": [
           {
            "colorbar": {
             "outlinewidth": 0,
             "ticks": ""
            },
            "colorscale": [
             [
              0,
              "#0d0887"
             ],
             [
              0.1111111111111111,
              "#46039f"
             ],
             [
              0.2222222222222222,
              "#7201a8"
             ],
             [
              0.3333333333333333,
              "#9c179e"
             ],
             [
              0.4444444444444444,
              "#bd3786"
             ],
             [
              0.5555555555555556,
              "#d8576b"
             ],
             [
              0.6666666666666666,
              "#ed7953"
             ],
             [
              0.7777777777777778,
              "#fb9f3a"
             ],
             [
              0.8888888888888888,
              "#fdca26"
             ],
             [
              1,
              "#f0f921"
             ]
            ],
            "type": "histogram2d"
           }
          ],
          "histogram2dcontour": [
           {
            "colorbar": {
             "outlinewidth": 0,
             "ticks": ""
            },
            "colorscale": [
             [
              0,
              "#0d0887"
             ],
             [
              0.1111111111111111,
              "#46039f"
             ],
             [
              0.2222222222222222,
              "#7201a8"
             ],
             [
              0.3333333333333333,
              "#9c179e"
             ],
             [
              0.4444444444444444,
              "#bd3786"
             ],
             [
              0.5555555555555556,
              "#d8576b"
             ],
             [
              0.6666666666666666,
              "#ed7953"
             ],
             [
              0.7777777777777778,
              "#fb9f3a"
             ],
             [
              0.8888888888888888,
              "#fdca26"
             ],
             [
              1,
              "#f0f921"
             ]
            ],
            "type": "histogram2dcontour"
           }
          ],
          "mesh3d": [
           {
            "colorbar": {
             "outlinewidth": 0,
             "ticks": ""
            },
            "type": "mesh3d"
           }
          ],
          "parcoords": [
           {
            "line": {
             "colorbar": {
              "outlinewidth": 0,
              "ticks": ""
             }
            },
            "type": "parcoords"
           }
          ],
          "pie": [
           {
            "automargin": true,
            "type": "pie"
           }
          ],
          "scatter": [
           {
            "marker": {
             "colorbar": {
              "outlinewidth": 0,
              "ticks": ""
             }
            },
            "type": "scatter"
           }
          ],
          "scatter3d": [
           {
            "line": {
             "colorbar": {
              "outlinewidth": 0,
              "ticks": ""
             }
            },
            "marker": {
             "colorbar": {
              "outlinewidth": 0,
              "ticks": ""
             }
            },
            "type": "scatter3d"
           }
          ],
          "scattercarpet": [
           {
            "marker": {
             "colorbar": {
              "outlinewidth": 0,
              "ticks": ""
             }
            },
            "type": "scattercarpet"
           }
          ],
          "scattergeo": [
           {
            "marker": {
             "colorbar": {
              "outlinewidth": 0,
              "ticks": ""
             }
            },
            "type": "scattergeo"
           }
          ],
          "scattergl": [
           {
            "marker": {
             "colorbar": {
              "outlinewidth": 0,
              "ticks": ""
             }
            },
            "type": "scattergl"
           }
          ],
          "scattermapbox": [
           {
            "marker": {
             "colorbar": {
              "outlinewidth": 0,
              "ticks": ""
             }
            },
            "type": "scattermapbox"
           }
          ],
          "scatterpolar": [
           {
            "marker": {
             "colorbar": {
              "outlinewidth": 0,
              "ticks": ""
             }
            },
            "type": "scatterpolar"
           }
          ],
          "scatterpolargl": [
           {
            "marker": {
             "colorbar": {
              "outlinewidth": 0,
              "ticks": ""
             }
            },
            "type": "scatterpolargl"
           }
          ],
          "scatterternary": [
           {
            "marker": {
             "colorbar": {
              "outlinewidth": 0,
              "ticks": ""
             }
            },
            "type": "scatterternary"
           }
          ],
          "surface": [
           {
            "colorbar": {
             "outlinewidth": 0,
             "ticks": ""
            },
            "colorscale": [
             [
              0,
              "#0d0887"
             ],
             [
              0.1111111111111111,
              "#46039f"
             ],
             [
              0.2222222222222222,
              "#7201a8"
             ],
             [
              0.3333333333333333,
              "#9c179e"
             ],
             [
              0.4444444444444444,
              "#bd3786"
             ],
             [
              0.5555555555555556,
              "#d8576b"
             ],
             [
              0.6666666666666666,
              "#ed7953"
             ],
             [
              0.7777777777777778,
              "#fb9f3a"
             ],
             [
              0.8888888888888888,
              "#fdca26"
             ],
             [
              1,
              "#f0f921"
             ]
            ],
            "type": "surface"
           }
          ],
          "table": [
           {
            "cells": {
             "fill": {
              "color": "#EBF0F8"
             },
             "line": {
              "color": "white"
             }
            },
            "header": {
             "fill": {
              "color": "#C8D4E3"
             },
             "line": {
              "color": "white"
             }
            },
            "type": "table"
           }
          ]
         },
         "layout": {
          "annotationdefaults": {
           "arrowcolor": "#2a3f5f",
           "arrowhead": 0,
           "arrowwidth": 1
          },
          "autotypenumbers": "strict",
          "coloraxis": {
           "colorbar": {
            "outlinewidth": 0,
            "ticks": ""
           }
          },
          "colorscale": {
           "diverging": [
            [
             0,
             "#8e0152"
            ],
            [
             0.1,
             "#c51b7d"
            ],
            [
             0.2,
             "#de77ae"
            ],
            [
             0.3,
             "#f1b6da"
            ],
            [
             0.4,
             "#fde0ef"
            ],
            [
             0.5,
             "#f7f7f7"
            ],
            [
             0.6,
             "#e6f5d0"
            ],
            [
             0.7,
             "#b8e186"
            ],
            [
             0.8,
             "#7fbc41"
            ],
            [
             0.9,
             "#4d9221"
            ],
            [
             1,
             "#276419"
            ]
           ],
           "sequential": [
            [
             0,
             "#0d0887"
            ],
            [
             0.1111111111111111,
             "#46039f"
            ],
            [
             0.2222222222222222,
             "#7201a8"
            ],
            [
             0.3333333333333333,
             "#9c179e"
            ],
            [
             0.4444444444444444,
             "#bd3786"
            ],
            [
             0.5555555555555556,
             "#d8576b"
            ],
            [
             0.6666666666666666,
             "#ed7953"
            ],
            [
             0.7777777777777778,
             "#fb9f3a"
            ],
            [
             0.8888888888888888,
             "#fdca26"
            ],
            [
             1,
             "#f0f921"
            ]
           ],
           "sequentialminus": [
            [
             0,
             "#0d0887"
            ],
            [
             0.1111111111111111,
             "#46039f"
            ],
            [
             0.2222222222222222,
             "#7201a8"
            ],
            [
             0.3333333333333333,
             "#9c179e"
            ],
            [
             0.4444444444444444,
             "#bd3786"
            ],
            [
             0.5555555555555556,
             "#d8576b"
            ],
            [
             0.6666666666666666,
             "#ed7953"
            ],
            [
             0.7777777777777778,
             "#fb9f3a"
            ],
            [
             0.8888888888888888,
             "#fdca26"
            ],
            [
             1,
             "#f0f921"
            ]
           ]
          },
          "colorway": [
           "#636efa",
           "#EF553B",
           "#00cc96",
           "#ab63fa",
           "#FFA15A",
           "#19d3f3",
           "#FF6692",
           "#B6E880",
           "#FF97FF",
           "#FECB52"
          ],
          "font": {
           "color": "#2a3f5f"
          },
          "geo": {
           "bgcolor": "white",
           "lakecolor": "white",
           "landcolor": "#E5ECF6",
           "showlakes": true,
           "showland": true,
           "subunitcolor": "white"
          },
          "hoverlabel": {
           "align": "left"
          },
          "hovermode": "closest",
          "mapbox": {
           "style": "light"
          },
          "paper_bgcolor": "white",
          "plot_bgcolor": "#E5ECF6",
          "polar": {
           "angularaxis": {
            "gridcolor": "white",
            "linecolor": "white",
            "ticks": ""
           },
           "bgcolor": "#E5ECF6",
           "radialaxis": {
            "gridcolor": "white",
            "linecolor": "white",
            "ticks": ""
           }
          },
          "scene": {
           "xaxis": {
            "backgroundcolor": "#E5ECF6",
            "gridcolor": "white",
            "gridwidth": 2,
            "linecolor": "white",
            "showbackground": true,
            "ticks": "",
            "zerolinecolor": "white"
           },
           "yaxis": {
            "backgroundcolor": "#E5ECF6",
            "gridcolor": "white",
            "gridwidth": 2,
            "linecolor": "white",
            "showbackground": true,
            "ticks": "",
            "zerolinecolor": "white"
           },
           "zaxis": {
            "backgroundcolor": "#E5ECF6",
            "gridcolor": "white",
            "gridwidth": 2,
            "linecolor": "white",
            "showbackground": true,
            "ticks": "",
            "zerolinecolor": "white"
           }
          },
          "shapedefaults": {
           "line": {
            "color": "#2a3f5f"
           }
          },
          "ternary": {
           "aaxis": {
            "gridcolor": "white",
            "linecolor": "white",
            "ticks": ""
           },
           "baxis": {
            "gridcolor": "white",
            "linecolor": "white",
            "ticks": ""
           },
           "bgcolor": "#E5ECF6",
           "caxis": {
            "gridcolor": "white",
            "linecolor": "white",
            "ticks": ""
           }
          },
          "title": {
           "x": 0.05
          },
          "xaxis": {
           "automargin": true,
           "gridcolor": "white",
           "linecolor": "white",
           "ticks": "",
           "title": {
            "standoff": 15
           },
           "zerolinecolor": "white",
           "zerolinewidth": 2
          },
          "yaxis": {
           "automargin": true,
           "gridcolor": "white",
           "linecolor": "white",
           "ticks": "",
           "title": {
            "standoff": 15
           },
           "zerolinecolor": "white",
           "zerolinewidth": 2
          }
         }
        },
        "title": {
         "text": "SPCE Historical Price"
        },
        "xaxis": {
         "anchor": "y",
         "domain": [
          0,
          1
         ],
         "title": {
          "text": "date"
         }
        },
        "yaxis": {
         "anchor": "x",
         "domain": [
          0,
          1
         ],
         "title": {
          "text": "value"
         }
        }
       }
      },
      "text/html": [
       "<div>                            <div id=\"14be1ffa-42ff-4e25-98b3-438fb1b3bfc2\" class=\"plotly-graph-div\" style=\"height:525px; width:100%;\"></div>            <script type=\"text/javascript\">                require([\"plotly\"], function(Plotly) {                    window.PLOTLYENV=window.PLOTLYENV || {};                                    if (document.getElementById(\"14be1ffa-42ff-4e25-98b3-438fb1b3bfc2\")) {                    Plotly.newPlot(                        \"14be1ffa-42ff-4e25-98b3-438fb1b3bfc2\",                        [{\"hovertemplate\":\"variable=open<br>date=%{x}<br>value=%{y}<extra></extra>\",\"legendgroup\":\"open\",\"line\":{\"color\":\"#636efa\",\"dash\":\"solid\"},\"mode\":\"lines\",\"name\":\"open\",\"orientation\":\"v\",\"showlegend\":true,\"type\":\"scatter\",\"x\":[\"2021-10-25\",\"2021-10-26\",\"2021-10-27\",\"2021-10-28\",\"2021-10-29\",\"2021-11-01\",\"2021-11-02\",\"2021-11-03\",\"2021-11-04\",\"2021-11-05\",\"2021-11-08\",\"2021-11-09\",\"2021-11-10\",\"2021-11-11\",\"2021-11-12\",\"2021-11-15\",\"2021-11-16\",\"2021-11-17\",\"2021-11-18\",\"2021-11-19\",\"2021-11-22\",\"2021-11-23\"],\"xaxis\":\"x\",\"y\":[19.739999771118164,20.040000915527344,18.799999237060547,18.360000610351562,18.649999618530273,18.860000610351562,19.399999618530273,19.510000228881836,20.030000686645508,19.65999984741211,19.31999969482422,19.889999389648438,20.56999969482422,19.309999465942383,19.299999237060547,19.200000762939453,18.75,18.31999969482422,17.969999313354492,17.399999618530273,17.454999923706055,17.040000915527344],\"yaxis\":\"y\"},{\"hovertemplate\":\"variable=high<br>date=%{x}<br>value=%{y}<extra></extra>\",\"legendgroup\":\"high\",\"line\":{\"color\":\"#EF553B\",\"dash\":\"solid\"},\"mode\":\"lines\",\"name\":\"high\",\"orientation\":\"v\",\"showlegend\":true,\"type\":\"scatter\",\"x\":[\"2021-10-25\",\"2021-10-26\",\"2021-10-27\",\"2021-10-28\",\"2021-10-29\",\"2021-11-01\",\"2021-11-02\",\"2021-11-03\",\"2021-11-04\",\"2021-11-05\",\"2021-11-08\",\"2021-11-09\",\"2021-11-10\",\"2021-11-11\",\"2021-11-12\",\"2021-11-15\",\"2021-11-16\",\"2021-11-17\",\"2021-11-18\",\"2021-11-19\",\"2021-11-22\",\"2021-11-23\"],\"xaxis\":\"x\",\"y\":[20.530000686645508,20.260000228881836,18.90999984741211,18.725000381469727,19.079999923706055,19.68000030517578,19.600000381469727,20.040000915527344,20.200000762939453,19.90999984741211,20.020000457763672,21.68000030517578,21.489999771118164,19.540000915527344,19.530000686645508,19.5049991607666,18.805999755859375,18.549999237060547,18.0,17.709999084472656,17.649999618530273,17.34000015258789],\"yaxis\":\"y\"},{\"hovertemplate\":\"variable=close<br>date=%{x}<br>value=%{y}<extra></extra>\",\"legendgroup\":\"close\",\"line\":{\"color\":\"#00cc96\",\"dash\":\"solid\"},\"mode\":\"lines\",\"name\":\"close\",\"orientation\":\"v\",\"showlegend\":true,\"type\":\"scatter\",\"x\":[\"2021-10-25\",\"2021-10-26\",\"2021-10-27\",\"2021-10-28\",\"2021-10-29\",\"2021-11-01\",\"2021-11-02\",\"2021-11-03\",\"2021-11-04\",\"2021-11-05\",\"2021-11-08\",\"2021-11-09\",\"2021-11-10\",\"2021-11-11\",\"2021-11-12\",\"2021-11-15\",\"2021-11-16\",\"2021-11-17\",\"2021-11-18\",\"2021-11-19\",\"2021-11-22\",\"2021-11-23\"],\"xaxis\":\"x\",\"y\":[20.040000915527344,19.610000610351562,18.239999771118164,18.559999465942383,18.75,19.549999237060547,19.600000381469727,19.940000534057617,19.6200008392334,19.530000686645508,19.889999389648438,20.899999618530273,20.260000228881836,19.270000457763672,19.219999313354492,19.0,18.31999969482422,17.90999984741211,17.3799991607666,17.25,17.079999923706055,16.829999923706055],\"yaxis\":\"y\"},{\"hovertemplate\":\"variable=low<br>date=%{x}<br>value=%{y}<extra></extra>\",\"legendgroup\":\"low\",\"line\":{\"color\":\"#ab63fa\",\"dash\":\"solid\"},\"mode\":\"lines\",\"name\":\"low\",\"orientation\":\"v\",\"showlegend\":true,\"type\":\"scatter\",\"x\":[\"2021-10-25\",\"2021-10-26\",\"2021-10-27\",\"2021-10-28\",\"2021-10-29\",\"2021-11-01\",\"2021-11-02\",\"2021-11-03\",\"2021-11-04\",\"2021-11-05\",\"2021-11-08\",\"2021-11-09\",\"2021-11-10\",\"2021-11-11\",\"2021-11-12\",\"2021-11-15\",\"2021-11-16\",\"2021-11-17\",\"2021-11-18\",\"2021-11-19\",\"2021-11-22\",\"2021-11-23\"],\"xaxis\":\"x\",\"y\":[19.6299991607666,19.489999771118164,17.979999542236328,18.295000076293945,18.584999084472656,18.690000534057617,18.940000534057617,19.450000762939453,19.450000762939453,19.104999542236328,19.290000915527344,19.329999923706055,19.950000762939453,19.079999923706055,19.149999618530273,18.969999313354492,18.17799949645996,17.729999542236328,17.170000076293945,17.059999465942383,16.829999923706055,16.364999771118164],\"yaxis\":\"y\"},{\"hovertemplate\":\"variable=adjclose<br>date=%{x}<br>value=%{y}<extra></extra>\",\"legendgroup\":\"adjclose\",\"line\":{\"color\":\"#FFA15A\",\"dash\":\"solid\"},\"mode\":\"lines\",\"name\":\"adjclose\",\"orientation\":\"v\",\"showlegend\":true,\"type\":\"scatter\",\"x\":[\"2021-10-25\",\"2021-10-26\",\"2021-10-27\",\"2021-10-28\",\"2021-10-29\",\"2021-11-01\",\"2021-11-02\",\"2021-11-03\",\"2021-11-04\",\"2021-11-05\",\"2021-11-08\",\"2021-11-09\",\"2021-11-10\",\"2021-11-11\",\"2021-11-12\",\"2021-11-15\",\"2021-11-16\",\"2021-11-17\",\"2021-11-18\",\"2021-11-19\",\"2021-11-22\",\"2021-11-23\"],\"xaxis\":\"x\",\"y\":[20.040000915527344,19.610000610351562,18.239999771118164,18.559999465942383,18.75,19.549999237060547,19.600000381469727,19.940000534057617,19.6200008392334,19.530000686645508,19.889999389648438,20.899999618530273,20.260000228881836,19.270000457763672,19.219999313354492,19.0,18.31999969482422,17.90999984741211,17.3799991607666,17.25,17.079999923706055,16.829999923706055],\"yaxis\":\"y\"}],                        {\"legend\":{\"title\":{\"text\":\"variable\"},\"tracegroupgap\":0},\"template\":{\"data\":{\"bar\":[{\"error_x\":{\"color\":\"#2a3f5f\"},\"error_y\":{\"color\":\"#2a3f5f\"},\"marker\":{\"line\":{\"color\":\"#E5ECF6\",\"width\":0.5},\"pattern\":{\"fillmode\":\"overlay\",\"size\":10,\"solidity\":0.2}},\"type\":\"bar\"}],\"barpolar\":[{\"marker\":{\"line\":{\"color\":\"#E5ECF6\",\"width\":0.5},\"pattern\":{\"fillmode\":\"overlay\",\"size\":10,\"solidity\":0.2}},\"type\":\"barpolar\"}],\"carpet\":[{\"aaxis\":{\"endlinecolor\":\"#2a3f5f\",\"gridcolor\":\"white\",\"linecolor\":\"white\",\"minorgridcolor\":\"white\",\"startlinecolor\":\"#2a3f5f\"},\"baxis\":{\"endlinecolor\":\"#2a3f5f\",\"gridcolor\":\"white\",\"linecolor\":\"white\",\"minorgridcolor\":\"white\",\"startlinecolor\":\"#2a3f5f\"},\"type\":\"carpet\"}],\"choropleth\":[{\"colorbar\":{\"outlinewidth\":0,\"ticks\":\"\"},\"type\":\"choropleth\"}],\"contour\":[{\"colorbar\":{\"outlinewidth\":0,\"ticks\":\"\"},\"colorscale\":[[0.0,\"#0d0887\"],[0.1111111111111111,\"#46039f\"],[0.2222222222222222,\"#7201a8\"],[0.3333333333333333,\"#9c179e\"],[0.4444444444444444,\"#bd3786\"],[0.5555555555555556,\"#d8576b\"],[0.6666666666666666,\"#ed7953\"],[0.7777777777777778,\"#fb9f3a\"],[0.8888888888888888,\"#fdca26\"],[1.0,\"#f0f921\"]],\"type\":\"contour\"}],\"contourcarpet\":[{\"colorbar\":{\"outlinewidth\":0,\"ticks\":\"\"},\"type\":\"contourcarpet\"}],\"heatmap\":[{\"colorbar\":{\"outlinewidth\":0,\"ticks\":\"\"},\"colorscale\":[[0.0,\"#0d0887\"],[0.1111111111111111,\"#46039f\"],[0.2222222222222222,\"#7201a8\"],[0.3333333333333333,\"#9c179e\"],[0.4444444444444444,\"#bd3786\"],[0.5555555555555556,\"#d8576b\"],[0.6666666666666666,\"#ed7953\"],[0.7777777777777778,\"#fb9f3a\"],[0.8888888888888888,\"#fdca26\"],[1.0,\"#f0f921\"]],\"type\":\"heatmap\"}],\"heatmapgl\":[{\"colorbar\":{\"outlinewidth\":0,\"ticks\":\"\"},\"colorscale\":[[0.0,\"#0d0887\"],[0.1111111111111111,\"#46039f\"],[0.2222222222222222,\"#7201a8\"],[0.3333333333333333,\"#9c179e\"],[0.4444444444444444,\"#bd3786\"],[0.5555555555555556,\"#d8576b\"],[0.6666666666666666,\"#ed7953\"],[0.7777777777777778,\"#fb9f3a\"],[0.8888888888888888,\"#fdca26\"],[1.0,\"#f0f921\"]],\"type\":\"heatmapgl\"}],\"histogram\":[{\"marker\":{\"pattern\":{\"fillmode\":\"overlay\",\"size\":10,\"solidity\":0.2}},\"type\":\"histogram\"}],\"histogram2d\":[{\"colorbar\":{\"outlinewidth\":0,\"ticks\":\"\"},\"colorscale\":[[0.0,\"#0d0887\"],[0.1111111111111111,\"#46039f\"],[0.2222222222222222,\"#7201a8\"],[0.3333333333333333,\"#9c179e\"],[0.4444444444444444,\"#bd3786\"],[0.5555555555555556,\"#d8576b\"],[0.6666666666666666,\"#ed7953\"],[0.7777777777777778,\"#fb9f3a\"],[0.8888888888888888,\"#fdca26\"],[1.0,\"#f0f921\"]],\"type\":\"histogram2d\"}],\"histogram2dcontour\":[{\"colorbar\":{\"outlinewidth\":0,\"ticks\":\"\"},\"colorscale\":[[0.0,\"#0d0887\"],[0.1111111111111111,\"#46039f\"],[0.2222222222222222,\"#7201a8\"],[0.3333333333333333,\"#9c179e\"],[0.4444444444444444,\"#bd3786\"],[0.5555555555555556,\"#d8576b\"],[0.6666666666666666,\"#ed7953\"],[0.7777777777777778,\"#fb9f3a\"],[0.8888888888888888,\"#fdca26\"],[1.0,\"#f0f921\"]],\"type\":\"histogram2dcontour\"}],\"mesh3d\":[{\"colorbar\":{\"outlinewidth\":0,\"ticks\":\"\"},\"type\":\"mesh3d\"}],\"parcoords\":[{\"line\":{\"colorbar\":{\"outlinewidth\":0,\"ticks\":\"\"}},\"type\":\"parcoords\"}],\"pie\":[{\"automargin\":true,\"type\":\"pie\"}],\"scatter\":[{\"marker\":{\"colorbar\":{\"outlinewidth\":0,\"ticks\":\"\"}},\"type\":\"scatter\"}],\"scatter3d\":[{\"line\":{\"colorbar\":{\"outlinewidth\":0,\"ticks\":\"\"}},\"marker\":{\"colorbar\":{\"outlinewidth\":0,\"ticks\":\"\"}},\"type\":\"scatter3d\"}],\"scattercarpet\":[{\"marker\":{\"colorbar\":{\"outlinewidth\":0,\"ticks\":\"\"}},\"type\":\"scattercarpet\"}],\"scattergeo\":[{\"marker\":{\"colorbar\":{\"outlinewidth\":0,\"ticks\":\"\"}},\"type\":\"scattergeo\"}],\"scattergl\":[{\"marker\":{\"colorbar\":{\"outlinewidth\":0,\"ticks\":\"\"}},\"type\":\"scattergl\"}],\"scattermapbox\":[{\"marker\":{\"colorbar\":{\"outlinewidth\":0,\"ticks\":\"\"}},\"type\":\"scattermapbox\"}],\"scatterpolar\":[{\"marker\":{\"colorbar\":{\"outlinewidth\":0,\"ticks\":\"\"}},\"type\":\"scatterpolar\"}],\"scatterpolargl\":[{\"marker\":{\"colorbar\":{\"outlinewidth\":0,\"ticks\":\"\"}},\"type\":\"scatterpolargl\"}],\"scatterternary\":[{\"marker\":{\"colorbar\":{\"outlinewidth\":0,\"ticks\":\"\"}},\"type\":\"scatterternary\"}],\"surface\":[{\"colorbar\":{\"outlinewidth\":0,\"ticks\":\"\"},\"colorscale\":[[0.0,\"#0d0887\"],[0.1111111111111111,\"#46039f\"],[0.2222222222222222,\"#7201a8\"],[0.3333333333333333,\"#9c179e\"],[0.4444444444444444,\"#bd3786\"],[0.5555555555555556,\"#d8576b\"],[0.6666666666666666,\"#ed7953\"],[0.7777777777777778,\"#fb9f3a\"],[0.8888888888888888,\"#fdca26\"],[1.0,\"#f0f921\"]],\"type\":\"surface\"}],\"table\":[{\"cells\":{\"fill\":{\"color\":\"#EBF0F8\"},\"line\":{\"color\":\"white\"}},\"header\":{\"fill\":{\"color\":\"#C8D4E3\"},\"line\":{\"color\":\"white\"}},\"type\":\"table\"}]},\"layout\":{\"annotationdefaults\":{\"arrowcolor\":\"#2a3f5f\",\"arrowhead\":0,\"arrowwidth\":1},\"autotypenumbers\":\"strict\",\"coloraxis\":{\"colorbar\":{\"outlinewidth\":0,\"ticks\":\"\"}},\"colorscale\":{\"diverging\":[[0,\"#8e0152\"],[0.1,\"#c51b7d\"],[0.2,\"#de77ae\"],[0.3,\"#f1b6da\"],[0.4,\"#fde0ef\"],[0.5,\"#f7f7f7\"],[0.6,\"#e6f5d0\"],[0.7,\"#b8e186\"],[0.8,\"#7fbc41\"],[0.9,\"#4d9221\"],[1,\"#276419\"]],\"sequential\":[[0.0,\"#0d0887\"],[0.1111111111111111,\"#46039f\"],[0.2222222222222222,\"#7201a8\"],[0.3333333333333333,\"#9c179e\"],[0.4444444444444444,\"#bd3786\"],[0.5555555555555556,\"#d8576b\"],[0.6666666666666666,\"#ed7953\"],[0.7777777777777778,\"#fb9f3a\"],[0.8888888888888888,\"#fdca26\"],[1.0,\"#f0f921\"]],\"sequentialminus\":[[0.0,\"#0d0887\"],[0.1111111111111111,\"#46039f\"],[0.2222222222222222,\"#7201a8\"],[0.3333333333333333,\"#9c179e\"],[0.4444444444444444,\"#bd3786\"],[0.5555555555555556,\"#d8576b\"],[0.6666666666666666,\"#ed7953\"],[0.7777777777777778,\"#fb9f3a\"],[0.8888888888888888,\"#fdca26\"],[1.0,\"#f0f921\"]]},\"colorway\":[\"#636efa\",\"#EF553B\",\"#00cc96\",\"#ab63fa\",\"#FFA15A\",\"#19d3f3\",\"#FF6692\",\"#B6E880\",\"#FF97FF\",\"#FECB52\"],\"font\":{\"color\":\"#2a3f5f\"},\"geo\":{\"bgcolor\":\"white\",\"lakecolor\":\"white\",\"landcolor\":\"#E5ECF6\",\"showlakes\":true,\"showland\":true,\"subunitcolor\":\"white\"},\"hoverlabel\":{\"align\":\"left\"},\"hovermode\":\"closest\",\"mapbox\":{\"style\":\"light\"},\"paper_bgcolor\":\"white\",\"plot_bgcolor\":\"#E5ECF6\",\"polar\":{\"angularaxis\":{\"gridcolor\":\"white\",\"linecolor\":\"white\",\"ticks\":\"\"},\"bgcolor\":\"#E5ECF6\",\"radialaxis\":{\"gridcolor\":\"white\",\"linecolor\":\"white\",\"ticks\":\"\"}},\"scene\":{\"xaxis\":{\"backgroundcolor\":\"#E5ECF6\",\"gridcolor\":\"white\",\"gridwidth\":2,\"linecolor\":\"white\",\"showbackground\":true,\"ticks\":\"\",\"zerolinecolor\":\"white\"},\"yaxis\":{\"backgroundcolor\":\"#E5ECF6\",\"gridcolor\":\"white\",\"gridwidth\":2,\"linecolor\":\"white\",\"showbackground\":true,\"ticks\":\"\",\"zerolinecolor\":\"white\"},\"zaxis\":{\"backgroundcolor\":\"#E5ECF6\",\"gridcolor\":\"white\",\"gridwidth\":2,\"linecolor\":\"white\",\"showbackground\":true,\"ticks\":\"\",\"zerolinecolor\":\"white\"}},\"shapedefaults\":{\"line\":{\"color\":\"#2a3f5f\"}},\"ternary\":{\"aaxis\":{\"gridcolor\":\"white\",\"linecolor\":\"white\",\"ticks\":\"\"},\"baxis\":{\"gridcolor\":\"white\",\"linecolor\":\"white\",\"ticks\":\"\"},\"bgcolor\":\"#E5ECF6\",\"caxis\":{\"gridcolor\":\"white\",\"linecolor\":\"white\",\"ticks\":\"\"}},\"title\":{\"x\":0.05},\"xaxis\":{\"automargin\":true,\"gridcolor\":\"white\",\"linecolor\":\"white\",\"ticks\":\"\",\"title\":{\"standoff\":15},\"zerolinecolor\":\"white\",\"zerolinewidth\":2},\"yaxis\":{\"automargin\":true,\"gridcolor\":\"white\",\"linecolor\":\"white\",\"ticks\":\"\",\"title\":{\"standoff\":15},\"zerolinecolor\":\"white\",\"zerolinewidth\":2}}},\"title\":{\"text\":\"SPCE Historical Price\"},\"xaxis\":{\"anchor\":\"y\",\"domain\":[0.0,1.0],\"title\":{\"text\":\"date\"}},\"yaxis\":{\"anchor\":\"x\",\"domain\":[0.0,1.0],\"title\":{\"text\":\"value\"}}},                        {\"responsive\": true}                    ).then(function(){\n",
       "                            \n",
       "var gd = document.getElementById('14be1ffa-42ff-4e25-98b3-438fb1b3bfc2');\n",
       "var x = new MutationObserver(function (mutations, observer) {{\n",
       "        var display = window.getComputedStyle(gd).display;\n",
       "        if (!display || display === 'none') {{\n",
       "            console.log([gd, 'removed!']);\n",
       "            Plotly.purge(gd);\n",
       "            observer.disconnect();\n",
       "        }}\n",
       "}});\n",
       "\n",
       "// Listen for the removal of the full notebook cells\n",
       "var notebookContainer = gd.closest('#notebook-container');\n",
       "if (notebookContainer) {{\n",
       "    x.observe(notebookContainer, {childList: true});\n",
       "}}\n",
       "\n",
       "// Listen for the clearing of the current output cell\n",
       "var outputEl = gd.closest('.output');\n",
       "if (outputEl) {{\n",
       "    x.observe(outputEl, {childList: true});\n",
       "}}\n",
       "\n",
       "                        })                };                });            </script>        </div>"
      ]
     },
     "metadata": {},
     "output_type": "display_data"
    },
    {
     "name": "stdout",
     "output_type": "stream",
     "text": [
      "=============================== SPCE =================================\n",
      "\n",
      "-------------------------- Summary Details ----------------------------\n"
     ]
    },
    {
     "data": {
      "text/html": [
       "<div>\n",
       "<style scoped>\n",
       "    .dataframe tbody tr th:only-of-type {\n",
       "        vertical-align: middle;\n",
       "    }\n",
       "\n",
       "    .dataframe tbody tr th {\n",
       "        vertical-align: top;\n",
       "    }\n",
       "\n",
       "    .dataframe thead th {\n",
       "        text-align: right;\n",
       "    }\n",
       "</style>\n",
       "<table border=\"1\" class=\"dataframe\">\n",
       "  <thead>\n",
       "    <tr style=\"text-align: right;\">\n",
       "      <th></th>\n",
       "      <th>Value</th>\n",
       "    </tr>\n",
       "  </thead>\n",
       "  <tbody>\n",
       "    <tr>\n",
       "      <th>totalAssets</th>\n",
       "      <td>NaN</td>\n",
       "    </tr>\n",
       "    <tr>\n",
       "      <th>previousClose</th>\n",
       "      <td>17.08</td>\n",
       "    </tr>\n",
       "    <tr>\n",
       "      <th>open</th>\n",
       "      <td>17.04</td>\n",
       "    </tr>\n",
       "    <tr>\n",
       "      <th>fiftyDayAverage</th>\n",
       "      <td>21.4802</td>\n",
       "    </tr>\n",
       "    <tr>\n",
       "      <th>fiftyDayAverage</th>\n",
       "      <td>21.4802</td>\n",
       "    </tr>\n",
       "    <tr>\n",
       "      <th>fiftyTwoWeekLow</th>\n",
       "      <td>14.27</td>\n",
       "    </tr>\n",
       "    <tr>\n",
       "      <th>fiftyTwoWeekHigh</th>\n",
       "      <td>62.8</td>\n",
       "    </tr>\n",
       "    <tr>\n",
       "      <th>twoHundredDayAverage</th>\n",
       "      <td>29.0261</td>\n",
       "    </tr>\n",
       "    <tr>\n",
       "      <th>volume</th>\n",
       "      <td>9836229</td>\n",
       "    </tr>\n",
       "    <tr>\n",
       "      <th>averageVolume</th>\n",
       "      <td>13636534</td>\n",
       "    </tr>\n",
       "    <tr>\n",
       "      <th>averageVolume10days</th>\n",
       "      <td>12834450</td>\n",
       "    </tr>\n",
       "    <tr>\n",
       "      <th>averageDailyVolume10Day</th>\n",
       "      <td>12834450</td>\n",
       "    </tr>\n",
       "  </tbody>\n",
       "</table>\n",
       "</div>"
      ],
      "text/plain": [
       "                            Value\n",
       "totalAssets                   NaN\n",
       "previousClose               17.08\n",
       "open                        17.04\n",
       "fiftyDayAverage           21.4802\n",
       "fiftyDayAverage           21.4802\n",
       "fiftyTwoWeekLow             14.27\n",
       "fiftyTwoWeekHigh             62.8\n",
       "twoHundredDayAverage      29.0261\n",
       "volume                    9836229\n",
       "averageVolume            13636534\n",
       "averageVolume10days      12834450\n",
       "averageDailyVolume10Day  12834450"
      ]
     },
     "metadata": {},
     "output_type": "display_data"
    },
    {
     "name": "stdout",
     "output_type": "stream",
     "text": [
      "-------------------------- Key Factor ----------------------------\n"
     ]
    },
    {
     "data": {
      "text/html": [
       "<div>\n",
       "<style scoped>\n",
       "    .dataframe tbody tr th:only-of-type {\n",
       "        vertical-align: middle;\n",
       "    }\n",
       "\n",
       "    .dataframe tbody tr th {\n",
       "        vertical-align: top;\n",
       "    }\n",
       "\n",
       "    .dataframe thead th {\n",
       "        text-align: right;\n",
       "    }\n",
       "</style>\n",
       "<table border=\"1\" class=\"dataframe\">\n",
       "  <thead>\n",
       "    <tr style=\"text-align: right;\">\n",
       "      <th></th>\n",
       "      <th>Value</th>\n",
       "    </tr>\n",
       "  </thead>\n",
       "  <tbody>\n",
       "    <tr>\n",
       "      <th>category</th>\n",
       "      <td>None</td>\n",
       "    </tr>\n",
       "    <tr>\n",
       "      <th>fundFamily</th>\n",
       "      <td>None</td>\n",
       "    </tr>\n",
       "    <tr>\n",
       "      <th>legalType</th>\n",
       "      <td>None</td>\n",
       "    </tr>\n",
       "  </tbody>\n",
       "</table>\n",
       "</div>"
      ],
      "text/plain": [
       "           Value\n",
       "category    None\n",
       "fundFamily  None\n",
       "legalType   None"
      ]
     },
     "metadata": {},
     "output_type": "display_data"
    },
    {
     "name": "stdout",
     "output_type": "stream",
     "text": [
      "-------------------------- Fund Sector ----------------------------\n",
      "-------------------------- Holdings ----------------------------\n",
      "-------------------------- Returns ----------------------------\n",
      "-------------------------- Risk Factors ----------------------------\n",
      "=========================================================================\n",
      "Recent News of VDE :\n",
      "================================================================\n"
     ]
    },
    {
     "data": {
      "application/vnd.plotly.v1+json": {
       "config": {
        "plotlyServerURL": "https://plot.ly"
       },
       "data": [
        {
         "hovertemplate": "variable=open<br>date=%{x}<br>value=%{y}<extra></extra>",
         "legendgroup": "open",
         "line": {
          "color": "#636efa",
          "dash": "solid"
         },
         "mode": "lines",
         "name": "open",
         "orientation": "v",
         "showlegend": true,
         "type": "scatter",
         "x": [
          "2021-10-25",
          "2021-10-26",
          "2021-10-27",
          "2021-10-28",
          "2021-10-29",
          "2021-11-01",
          "2021-11-02",
          "2021-11-03",
          "2021-11-04",
          "2021-11-05",
          "2021-11-08",
          "2021-11-09",
          "2021-11-10",
          "2021-11-11",
          "2021-11-12",
          "2021-11-15",
          "2021-11-16",
          "2021-11-17",
          "2021-11-18",
          "2021-11-19",
          "2021-11-22",
          "2021-11-23"
         ],
         "xaxis": "x",
         "y": [
          83,
          83.54000091552734,
          82.81999969482422,
          80.73999786376953,
          82.04000091552734,
          81.94999694824219,
          82.3499984741211,
          80.9000015258789,
          82.05000305175781,
          82.33999633789062,
          83.19999694824219,
          83.33999633789062,
          83.18000030517578,
          81.37000274658203,
          81.08999633789062,
          81.2300033569336,
          82.06999969482422,
          81.23999786376953,
          80.43000030517578,
          78.2699966430664,
          76.87999725341797,
          79.2300033569336
         ],
         "yaxis": "y"
        },
        {
         "hovertemplate": "variable=high<br>date=%{x}<br>value=%{y}<extra></extra>",
         "legendgroup": "high",
         "line": {
          "color": "#EF553B",
          "dash": "solid"
         },
         "mode": "lines",
         "name": "high",
         "orientation": "v",
         "showlegend": true,
         "type": "scatter",
         "x": [
          "2021-10-25",
          "2021-10-26",
          "2021-10-27",
          "2021-10-28",
          "2021-10-29",
          "2021-11-01",
          "2021-11-02",
          "2021-11-03",
          "2021-11-04",
          "2021-11-05",
          "2021-11-08",
          "2021-11-09",
          "2021-11-10",
          "2021-11-11",
          "2021-11-12",
          "2021-11-15",
          "2021-11-16",
          "2021-11-17",
          "2021-11-18",
          "2021-11-19",
          "2021-11-22",
          "2021-11-23"
         ],
         "xaxis": "x",
         "y": [
          83.9000015258789,
          84.20999908447266,
          83.30999755859375,
          81.8499984741211,
          82.30000305175781,
          82.87000274658203,
          82.8499984741211,
          82.05999755859375,
          82.66000366210938,
          82.86000061035156,
          84.19999694824219,
          83.5999984741211,
          83.37999725341797,
          82.11000061035156,
          81.62999725341797,
          82.33999633789062,
          82.58000183105469,
          82.30999755859375,
          81.06999969482422,
          78.5,
          79.47000122070312,
          80.91999816894531
         ],
         "yaxis": "y"
        },
        {
         "hovertemplate": "variable=close<br>date=%{x}<br>value=%{y}<extra></extra>",
         "legendgroup": "close",
         "line": {
          "color": "#00cc96",
          "dash": "solid"
         },
         "mode": "lines",
         "name": "close",
         "orientation": "v",
         "showlegend": true,
         "type": "scatter",
         "x": [
          "2021-10-25",
          "2021-10-26",
          "2021-10-27",
          "2021-10-28",
          "2021-10-29",
          "2021-11-01",
          "2021-11-02",
          "2021-11-03",
          "2021-11-04",
          "2021-11-05",
          "2021-11-08",
          "2021-11-09",
          "2021-11-10",
          "2021-11-11",
          "2021-11-12",
          "2021-11-15",
          "2021-11-16",
          "2021-11-17",
          "2021-11-18",
          "2021-11-19",
          "2021-11-22",
          "2021-11-23"
         ],
         "xaxis": "x",
         "y": [
          83.3499984741211,
          83.72000122070312,
          81.26000213623047,
          81.73999786376953,
          81.22000122070312,
          82.62000274658203,
          81.87999725341797,
          81.19000244140625,
          81.18000030517578,
          82.48999786376953,
          83.30000305175781,
          83.56999969482422,
          81.1500015258789,
          81.5,
          81.26000213623047,
          81.83000183105469,
          81.91999816894531,
          80.52999877929688,
          80.16999816894531,
          77,
          78.2300033569336,
          80.66999816894531
         ],
         "yaxis": "y"
        },
        {
         "hovertemplate": "variable=low<br>date=%{x}<br>value=%{y}<extra></extra>",
         "legendgroup": "low",
         "line": {
          "color": "#ab63fa",
          "dash": "solid"
         },
         "mode": "lines",
         "name": "low",
         "orientation": "v",
         "showlegend": true,
         "type": "scatter",
         "x": [
          "2021-10-25",
          "2021-10-26",
          "2021-10-27",
          "2021-10-28",
          "2021-10-29",
          "2021-11-01",
          "2021-11-02",
          "2021-11-03",
          "2021-11-04",
          "2021-11-05",
          "2021-11-08",
          "2021-11-09",
          "2021-11-10",
          "2021-11-11",
          "2021-11-12",
          "2021-11-15",
          "2021-11-16",
          "2021-11-17",
          "2021-11-18",
          "2021-11-19",
          "2021-11-22",
          "2021-11-23"
         ],
         "xaxis": "x",
         "y": [
          82.68000030517578,
          83.25,
          81.02999877929688,
          80.73999786376953,
          80.81999969482422,
          81.83999633789062,
          81.58000183105469,
          80.62999725341797,
          80.48999786376953,
          81.70999908447266,
          82.87000274658203,
          82.08999633789062,
          80.58999633789062,
          81.29000091552734,
          80.76000213623047,
          80.38999938964844,
          81.4800033569336,
          80.23999786376953,
          79.11000061035156,
          76.80999755859375,
          76.87999725341797,
          79.2300033569336
         ],
         "yaxis": "y"
        },
        {
         "hovertemplate": "variable=adjclose<br>date=%{x}<br>value=%{y}<extra></extra>",
         "legendgroup": "adjclose",
         "line": {
          "color": "#FFA15A",
          "dash": "solid"
         },
         "mode": "lines",
         "name": "adjclose",
         "orientation": "v",
         "showlegend": true,
         "type": "scatter",
         "x": [
          "2021-10-25",
          "2021-10-26",
          "2021-10-27",
          "2021-10-28",
          "2021-10-29",
          "2021-11-01",
          "2021-11-02",
          "2021-11-03",
          "2021-11-04",
          "2021-11-05",
          "2021-11-08",
          "2021-11-09",
          "2021-11-10",
          "2021-11-11",
          "2021-11-12",
          "2021-11-15",
          "2021-11-16",
          "2021-11-17",
          "2021-11-18",
          "2021-11-19",
          "2021-11-22",
          "2021-11-23"
         ],
         "xaxis": "x",
         "y": [
          83.3499984741211,
          83.72000122070312,
          81.26000213623047,
          81.73999786376953,
          81.22000122070312,
          82.62000274658203,
          81.87999725341797,
          81.19000244140625,
          81.18000030517578,
          82.48999786376953,
          83.30000305175781,
          83.56999969482422,
          81.1500015258789,
          81.5,
          81.26000213623047,
          81.83000183105469,
          81.91999816894531,
          80.52999877929688,
          80.16999816894531,
          77,
          78.2300033569336,
          80.66999816894531
         ],
         "yaxis": "y"
        }
       ],
       "layout": {
        "legend": {
         "title": {
          "text": "variable"
         },
         "tracegroupgap": 0
        },
        "template": {
         "data": {
          "bar": [
           {
            "error_x": {
             "color": "#2a3f5f"
            },
            "error_y": {
             "color": "#2a3f5f"
            },
            "marker": {
             "line": {
              "color": "#E5ECF6",
              "width": 0.5
             },
             "pattern": {
              "fillmode": "overlay",
              "size": 10,
              "solidity": 0.2
             }
            },
            "type": "bar"
           }
          ],
          "barpolar": [
           {
            "marker": {
             "line": {
              "color": "#E5ECF6",
              "width": 0.5
             },
             "pattern": {
              "fillmode": "overlay",
              "size": 10,
              "solidity": 0.2
             }
            },
            "type": "barpolar"
           }
          ],
          "carpet": [
           {
            "aaxis": {
             "endlinecolor": "#2a3f5f",
             "gridcolor": "white",
             "linecolor": "white",
             "minorgridcolor": "white",
             "startlinecolor": "#2a3f5f"
            },
            "baxis": {
             "endlinecolor": "#2a3f5f",
             "gridcolor": "white",
             "linecolor": "white",
             "minorgridcolor": "white",
             "startlinecolor": "#2a3f5f"
            },
            "type": "carpet"
           }
          ],
          "choropleth": [
           {
            "colorbar": {
             "outlinewidth": 0,
             "ticks": ""
            },
            "type": "choropleth"
           }
          ],
          "contour": [
           {
            "colorbar": {
             "outlinewidth": 0,
             "ticks": ""
            },
            "colorscale": [
             [
              0,
              "#0d0887"
             ],
             [
              0.1111111111111111,
              "#46039f"
             ],
             [
              0.2222222222222222,
              "#7201a8"
             ],
             [
              0.3333333333333333,
              "#9c179e"
             ],
             [
              0.4444444444444444,
              "#bd3786"
             ],
             [
              0.5555555555555556,
              "#d8576b"
             ],
             [
              0.6666666666666666,
              "#ed7953"
             ],
             [
              0.7777777777777778,
              "#fb9f3a"
             ],
             [
              0.8888888888888888,
              "#fdca26"
             ],
             [
              1,
              "#f0f921"
             ]
            ],
            "type": "contour"
           }
          ],
          "contourcarpet": [
           {
            "colorbar": {
             "outlinewidth": 0,
             "ticks": ""
            },
            "type": "contourcarpet"
           }
          ],
          "heatmap": [
           {
            "colorbar": {
             "outlinewidth": 0,
             "ticks": ""
            },
            "colorscale": [
             [
              0,
              "#0d0887"
             ],
             [
              0.1111111111111111,
              "#46039f"
             ],
             [
              0.2222222222222222,
              "#7201a8"
             ],
             [
              0.3333333333333333,
              "#9c179e"
             ],
             [
              0.4444444444444444,
              "#bd3786"
             ],
             [
              0.5555555555555556,
              "#d8576b"
             ],
             [
              0.6666666666666666,
              "#ed7953"
             ],
             [
              0.7777777777777778,
              "#fb9f3a"
             ],
             [
              0.8888888888888888,
              "#fdca26"
             ],
             [
              1,
              "#f0f921"
             ]
            ],
            "type": "heatmap"
           }
          ],
          "heatmapgl": [
           {
            "colorbar": {
             "outlinewidth": 0,
             "ticks": ""
            },
            "colorscale": [
             [
              0,
              "#0d0887"
             ],
             [
              0.1111111111111111,
              "#46039f"
             ],
             [
              0.2222222222222222,
              "#7201a8"
             ],
             [
              0.3333333333333333,
              "#9c179e"
             ],
             [
              0.4444444444444444,
              "#bd3786"
             ],
             [
              0.5555555555555556,
              "#d8576b"
             ],
             [
              0.6666666666666666,
              "#ed7953"
             ],
             [
              0.7777777777777778,
              "#fb9f3a"
             ],
             [
              0.8888888888888888,
              "#fdca26"
             ],
             [
              1,
              "#f0f921"
             ]
            ],
            "type": "heatmapgl"
           }
          ],
          "histogram": [
           {
            "marker": {
             "pattern": {
              "fillmode": "overlay",
              "size": 10,
              "solidity": 0.2
             }
            },
            "type": "histogram"
           }
          ],
          "histogram2d": [
           {
            "colorbar": {
             "outlinewidth": 0,
             "ticks": ""
            },
            "colorscale": [
             [
              0,
              "#0d0887"
             ],
             [
              0.1111111111111111,
              "#46039f"
             ],
             [
              0.2222222222222222,
              "#7201a8"
             ],
             [
              0.3333333333333333,
              "#9c179e"
             ],
             [
              0.4444444444444444,
              "#bd3786"
             ],
             [
              0.5555555555555556,
              "#d8576b"
             ],
             [
              0.6666666666666666,
              "#ed7953"
             ],
             [
              0.7777777777777778,
              "#fb9f3a"
             ],
             [
              0.8888888888888888,
              "#fdca26"
             ],
             [
              1,
              "#f0f921"
             ]
            ],
            "type": "histogram2d"
           }
          ],
          "histogram2dcontour": [
           {
            "colorbar": {
             "outlinewidth": 0,
             "ticks": ""
            },
            "colorscale": [
             [
              0,
              "#0d0887"
             ],
             [
              0.1111111111111111,
              "#46039f"
             ],
             [
              0.2222222222222222,
              "#7201a8"
             ],
             [
              0.3333333333333333,
              "#9c179e"
             ],
             [
              0.4444444444444444,
              "#bd3786"
             ],
             [
              0.5555555555555556,
              "#d8576b"
             ],
             [
              0.6666666666666666,
              "#ed7953"
             ],
             [
              0.7777777777777778,
              "#fb9f3a"
             ],
             [
              0.8888888888888888,
              "#fdca26"
             ],
             [
              1,
              "#f0f921"
             ]
            ],
            "type": "histogram2dcontour"
           }
          ],
          "mesh3d": [
           {
            "colorbar": {
             "outlinewidth": 0,
             "ticks": ""
            },
            "type": "mesh3d"
           }
          ],
          "parcoords": [
           {
            "line": {
             "colorbar": {
              "outlinewidth": 0,
              "ticks": ""
             }
            },
            "type": "parcoords"
           }
          ],
          "pie": [
           {
            "automargin": true,
            "type": "pie"
           }
          ],
          "scatter": [
           {
            "marker": {
             "colorbar": {
              "outlinewidth": 0,
              "ticks": ""
             }
            },
            "type": "scatter"
           }
          ],
          "scatter3d": [
           {
            "line": {
             "colorbar": {
              "outlinewidth": 0,
              "ticks": ""
             }
            },
            "marker": {
             "colorbar": {
              "outlinewidth": 0,
              "ticks": ""
             }
            },
            "type": "scatter3d"
           }
          ],
          "scattercarpet": [
           {
            "marker": {
             "colorbar": {
              "outlinewidth": 0,
              "ticks": ""
             }
            },
            "type": "scattercarpet"
           }
          ],
          "scattergeo": [
           {
            "marker": {
             "colorbar": {
              "outlinewidth": 0,
              "ticks": ""
             }
            },
            "type": "scattergeo"
           }
          ],
          "scattergl": [
           {
            "marker": {
             "colorbar": {
              "outlinewidth": 0,
              "ticks": ""
             }
            },
            "type": "scattergl"
           }
          ],
          "scattermapbox": [
           {
            "marker": {
             "colorbar": {
              "outlinewidth": 0,
              "ticks": ""
             }
            },
            "type": "scattermapbox"
           }
          ],
          "scatterpolar": [
           {
            "marker": {
             "colorbar": {
              "outlinewidth": 0,
              "ticks": ""
             }
            },
            "type": "scatterpolar"
           }
          ],
          "scatterpolargl": [
           {
            "marker": {
             "colorbar": {
              "outlinewidth": 0,
              "ticks": ""
             }
            },
            "type": "scatterpolargl"
           }
          ],
          "scatterternary": [
           {
            "marker": {
             "colorbar": {
              "outlinewidth": 0,
              "ticks": ""
             }
            },
            "type": "scatterternary"
           }
          ],
          "surface": [
           {
            "colorbar": {
             "outlinewidth": 0,
             "ticks": ""
            },
            "colorscale": [
             [
              0,
              "#0d0887"
             ],
             [
              0.1111111111111111,
              "#46039f"
             ],
             [
              0.2222222222222222,
              "#7201a8"
             ],
             [
              0.3333333333333333,
              "#9c179e"
             ],
             [
              0.4444444444444444,
              "#bd3786"
             ],
             [
              0.5555555555555556,
              "#d8576b"
             ],
             [
              0.6666666666666666,
              "#ed7953"
             ],
             [
              0.7777777777777778,
              "#fb9f3a"
             ],
             [
              0.8888888888888888,
              "#fdca26"
             ],
             [
              1,
              "#f0f921"
             ]
            ],
            "type": "surface"
           }
          ],
          "table": [
           {
            "cells": {
             "fill": {
              "color": "#EBF0F8"
             },
             "line": {
              "color": "white"
             }
            },
            "header": {
             "fill": {
              "color": "#C8D4E3"
             },
             "line": {
              "color": "white"
             }
            },
            "type": "table"
           }
          ]
         },
         "layout": {
          "annotationdefaults": {
           "arrowcolor": "#2a3f5f",
           "arrowhead": 0,
           "arrowwidth": 1
          },
          "autotypenumbers": "strict",
          "coloraxis": {
           "colorbar": {
            "outlinewidth": 0,
            "ticks": ""
           }
          },
          "colorscale": {
           "diverging": [
            [
             0,
             "#8e0152"
            ],
            [
             0.1,
             "#c51b7d"
            ],
            [
             0.2,
             "#de77ae"
            ],
            [
             0.3,
             "#f1b6da"
            ],
            [
             0.4,
             "#fde0ef"
            ],
            [
             0.5,
             "#f7f7f7"
            ],
            [
             0.6,
             "#e6f5d0"
            ],
            [
             0.7,
             "#b8e186"
            ],
            [
             0.8,
             "#7fbc41"
            ],
            [
             0.9,
             "#4d9221"
            ],
            [
             1,
             "#276419"
            ]
           ],
           "sequential": [
            [
             0,
             "#0d0887"
            ],
            [
             0.1111111111111111,
             "#46039f"
            ],
            [
             0.2222222222222222,
             "#7201a8"
            ],
            [
             0.3333333333333333,
             "#9c179e"
            ],
            [
             0.4444444444444444,
             "#bd3786"
            ],
            [
             0.5555555555555556,
             "#d8576b"
            ],
            [
             0.6666666666666666,
             "#ed7953"
            ],
            [
             0.7777777777777778,
             "#fb9f3a"
            ],
            [
             0.8888888888888888,
             "#fdca26"
            ],
            [
             1,
             "#f0f921"
            ]
           ],
           "sequentialminus": [
            [
             0,
             "#0d0887"
            ],
            [
             0.1111111111111111,
             "#46039f"
            ],
            [
             0.2222222222222222,
             "#7201a8"
            ],
            [
             0.3333333333333333,
             "#9c179e"
            ],
            [
             0.4444444444444444,
             "#bd3786"
            ],
            [
             0.5555555555555556,
             "#d8576b"
            ],
            [
             0.6666666666666666,
             "#ed7953"
            ],
            [
             0.7777777777777778,
             "#fb9f3a"
            ],
            [
             0.8888888888888888,
             "#fdca26"
            ],
            [
             1,
             "#f0f921"
            ]
           ]
          },
          "colorway": [
           "#636efa",
           "#EF553B",
           "#00cc96",
           "#ab63fa",
           "#FFA15A",
           "#19d3f3",
           "#FF6692",
           "#B6E880",
           "#FF97FF",
           "#FECB52"
          ],
          "font": {
           "color": "#2a3f5f"
          },
          "geo": {
           "bgcolor": "white",
           "lakecolor": "white",
           "landcolor": "#E5ECF6",
           "showlakes": true,
           "showland": true,
           "subunitcolor": "white"
          },
          "hoverlabel": {
           "align": "left"
          },
          "hovermode": "closest",
          "mapbox": {
           "style": "light"
          },
          "paper_bgcolor": "white",
          "plot_bgcolor": "#E5ECF6",
          "polar": {
           "angularaxis": {
            "gridcolor": "white",
            "linecolor": "white",
            "ticks": ""
           },
           "bgcolor": "#E5ECF6",
           "radialaxis": {
            "gridcolor": "white",
            "linecolor": "white",
            "ticks": ""
           }
          },
          "scene": {
           "xaxis": {
            "backgroundcolor": "#E5ECF6",
            "gridcolor": "white",
            "gridwidth": 2,
            "linecolor": "white",
            "showbackground": true,
            "ticks": "",
            "zerolinecolor": "white"
           },
           "yaxis": {
            "backgroundcolor": "#E5ECF6",
            "gridcolor": "white",
            "gridwidth": 2,
            "linecolor": "white",
            "showbackground": true,
            "ticks": "",
            "zerolinecolor": "white"
           },
           "zaxis": {
            "backgroundcolor": "#E5ECF6",
            "gridcolor": "white",
            "gridwidth": 2,
            "linecolor": "white",
            "showbackground": true,
            "ticks": "",
            "zerolinecolor": "white"
           }
          },
          "shapedefaults": {
           "line": {
            "color": "#2a3f5f"
           }
          },
          "ternary": {
           "aaxis": {
            "gridcolor": "white",
            "linecolor": "white",
            "ticks": ""
           },
           "baxis": {
            "gridcolor": "white",
            "linecolor": "white",
            "ticks": ""
           },
           "bgcolor": "#E5ECF6",
           "caxis": {
            "gridcolor": "white",
            "linecolor": "white",
            "ticks": ""
           }
          },
          "title": {
           "x": 0.05
          },
          "xaxis": {
           "automargin": true,
           "gridcolor": "white",
           "linecolor": "white",
           "ticks": "",
           "title": {
            "standoff": 15
           },
           "zerolinecolor": "white",
           "zerolinewidth": 2
          },
          "yaxis": {
           "automargin": true,
           "gridcolor": "white",
           "linecolor": "white",
           "ticks": "",
           "title": {
            "standoff": 15
           },
           "zerolinecolor": "white",
           "zerolinewidth": 2
          }
         }
        },
        "title": {
         "text": "VDE Historical Price"
        },
        "xaxis": {
         "anchor": "y",
         "domain": [
          0,
          1
         ],
         "title": {
          "text": "date"
         }
        },
        "yaxis": {
         "anchor": "x",
         "domain": [
          0,
          1
         ],
         "title": {
          "text": "value"
         }
        }
       }
      },
      "text/html": [
       "<div>                            <div id=\"4bad7199-3eb7-4eb2-b01d-17d2b56e0229\" class=\"plotly-graph-div\" style=\"height:525px; width:100%;\"></div>            <script type=\"text/javascript\">                require([\"plotly\"], function(Plotly) {                    window.PLOTLYENV=window.PLOTLYENV || {};                                    if (document.getElementById(\"4bad7199-3eb7-4eb2-b01d-17d2b56e0229\")) {                    Plotly.newPlot(                        \"4bad7199-3eb7-4eb2-b01d-17d2b56e0229\",                        [{\"hovertemplate\":\"variable=open<br>date=%{x}<br>value=%{y}<extra></extra>\",\"legendgroup\":\"open\",\"line\":{\"color\":\"#636efa\",\"dash\":\"solid\"},\"mode\":\"lines\",\"name\":\"open\",\"orientation\":\"v\",\"showlegend\":true,\"type\":\"scatter\",\"x\":[\"2021-10-25\",\"2021-10-26\",\"2021-10-27\",\"2021-10-28\",\"2021-10-29\",\"2021-11-01\",\"2021-11-02\",\"2021-11-03\",\"2021-11-04\",\"2021-11-05\",\"2021-11-08\",\"2021-11-09\",\"2021-11-10\",\"2021-11-11\",\"2021-11-12\",\"2021-11-15\",\"2021-11-16\",\"2021-11-17\",\"2021-11-18\",\"2021-11-19\",\"2021-11-22\",\"2021-11-23\"],\"xaxis\":\"x\",\"y\":[83.0,83.54000091552734,82.81999969482422,80.73999786376953,82.04000091552734,81.94999694824219,82.3499984741211,80.9000015258789,82.05000305175781,82.33999633789062,83.19999694824219,83.33999633789062,83.18000030517578,81.37000274658203,81.08999633789062,81.2300033569336,82.06999969482422,81.23999786376953,80.43000030517578,78.2699966430664,76.87999725341797,79.2300033569336],\"yaxis\":\"y\"},{\"hovertemplate\":\"variable=high<br>date=%{x}<br>value=%{y}<extra></extra>\",\"legendgroup\":\"high\",\"line\":{\"color\":\"#EF553B\",\"dash\":\"solid\"},\"mode\":\"lines\",\"name\":\"high\",\"orientation\":\"v\",\"showlegend\":true,\"type\":\"scatter\",\"x\":[\"2021-10-25\",\"2021-10-26\",\"2021-10-27\",\"2021-10-28\",\"2021-10-29\",\"2021-11-01\",\"2021-11-02\",\"2021-11-03\",\"2021-11-04\",\"2021-11-05\",\"2021-11-08\",\"2021-11-09\",\"2021-11-10\",\"2021-11-11\",\"2021-11-12\",\"2021-11-15\",\"2021-11-16\",\"2021-11-17\",\"2021-11-18\",\"2021-11-19\",\"2021-11-22\",\"2021-11-23\"],\"xaxis\":\"x\",\"y\":[83.9000015258789,84.20999908447266,83.30999755859375,81.8499984741211,82.30000305175781,82.87000274658203,82.8499984741211,82.05999755859375,82.66000366210938,82.86000061035156,84.19999694824219,83.5999984741211,83.37999725341797,82.11000061035156,81.62999725341797,82.33999633789062,82.58000183105469,82.30999755859375,81.06999969482422,78.5,79.47000122070312,80.91999816894531],\"yaxis\":\"y\"},{\"hovertemplate\":\"variable=close<br>date=%{x}<br>value=%{y}<extra></extra>\",\"legendgroup\":\"close\",\"line\":{\"color\":\"#00cc96\",\"dash\":\"solid\"},\"mode\":\"lines\",\"name\":\"close\",\"orientation\":\"v\",\"showlegend\":true,\"type\":\"scatter\",\"x\":[\"2021-10-25\",\"2021-10-26\",\"2021-10-27\",\"2021-10-28\",\"2021-10-29\",\"2021-11-01\",\"2021-11-02\",\"2021-11-03\",\"2021-11-04\",\"2021-11-05\",\"2021-11-08\",\"2021-11-09\",\"2021-11-10\",\"2021-11-11\",\"2021-11-12\",\"2021-11-15\",\"2021-11-16\",\"2021-11-17\",\"2021-11-18\",\"2021-11-19\",\"2021-11-22\",\"2021-11-23\"],\"xaxis\":\"x\",\"y\":[83.3499984741211,83.72000122070312,81.26000213623047,81.73999786376953,81.22000122070312,82.62000274658203,81.87999725341797,81.19000244140625,81.18000030517578,82.48999786376953,83.30000305175781,83.56999969482422,81.1500015258789,81.5,81.26000213623047,81.83000183105469,81.91999816894531,80.52999877929688,80.16999816894531,77.0,78.2300033569336,80.66999816894531],\"yaxis\":\"y\"},{\"hovertemplate\":\"variable=low<br>date=%{x}<br>value=%{y}<extra></extra>\",\"legendgroup\":\"low\",\"line\":{\"color\":\"#ab63fa\",\"dash\":\"solid\"},\"mode\":\"lines\",\"name\":\"low\",\"orientation\":\"v\",\"showlegend\":true,\"type\":\"scatter\",\"x\":[\"2021-10-25\",\"2021-10-26\",\"2021-10-27\",\"2021-10-28\",\"2021-10-29\",\"2021-11-01\",\"2021-11-02\",\"2021-11-03\",\"2021-11-04\",\"2021-11-05\",\"2021-11-08\",\"2021-11-09\",\"2021-11-10\",\"2021-11-11\",\"2021-11-12\",\"2021-11-15\",\"2021-11-16\",\"2021-11-17\",\"2021-11-18\",\"2021-11-19\",\"2021-11-22\",\"2021-11-23\"],\"xaxis\":\"x\",\"y\":[82.68000030517578,83.25,81.02999877929688,80.73999786376953,80.81999969482422,81.83999633789062,81.58000183105469,80.62999725341797,80.48999786376953,81.70999908447266,82.87000274658203,82.08999633789062,80.58999633789062,81.29000091552734,80.76000213623047,80.38999938964844,81.4800033569336,80.23999786376953,79.11000061035156,76.80999755859375,76.87999725341797,79.2300033569336],\"yaxis\":\"y\"},{\"hovertemplate\":\"variable=adjclose<br>date=%{x}<br>value=%{y}<extra></extra>\",\"legendgroup\":\"adjclose\",\"line\":{\"color\":\"#FFA15A\",\"dash\":\"solid\"},\"mode\":\"lines\",\"name\":\"adjclose\",\"orientation\":\"v\",\"showlegend\":true,\"type\":\"scatter\",\"x\":[\"2021-10-25\",\"2021-10-26\",\"2021-10-27\",\"2021-10-28\",\"2021-10-29\",\"2021-11-01\",\"2021-11-02\",\"2021-11-03\",\"2021-11-04\",\"2021-11-05\",\"2021-11-08\",\"2021-11-09\",\"2021-11-10\",\"2021-11-11\",\"2021-11-12\",\"2021-11-15\",\"2021-11-16\",\"2021-11-17\",\"2021-11-18\",\"2021-11-19\",\"2021-11-22\",\"2021-11-23\"],\"xaxis\":\"x\",\"y\":[83.3499984741211,83.72000122070312,81.26000213623047,81.73999786376953,81.22000122070312,82.62000274658203,81.87999725341797,81.19000244140625,81.18000030517578,82.48999786376953,83.30000305175781,83.56999969482422,81.1500015258789,81.5,81.26000213623047,81.83000183105469,81.91999816894531,80.52999877929688,80.16999816894531,77.0,78.2300033569336,80.66999816894531],\"yaxis\":\"y\"}],                        {\"legend\":{\"title\":{\"text\":\"variable\"},\"tracegroupgap\":0},\"template\":{\"data\":{\"bar\":[{\"error_x\":{\"color\":\"#2a3f5f\"},\"error_y\":{\"color\":\"#2a3f5f\"},\"marker\":{\"line\":{\"color\":\"#E5ECF6\",\"width\":0.5},\"pattern\":{\"fillmode\":\"overlay\",\"size\":10,\"solidity\":0.2}},\"type\":\"bar\"}],\"barpolar\":[{\"marker\":{\"line\":{\"color\":\"#E5ECF6\",\"width\":0.5},\"pattern\":{\"fillmode\":\"overlay\",\"size\":10,\"solidity\":0.2}},\"type\":\"barpolar\"}],\"carpet\":[{\"aaxis\":{\"endlinecolor\":\"#2a3f5f\",\"gridcolor\":\"white\",\"linecolor\":\"white\",\"minorgridcolor\":\"white\",\"startlinecolor\":\"#2a3f5f\"},\"baxis\":{\"endlinecolor\":\"#2a3f5f\",\"gridcolor\":\"white\",\"linecolor\":\"white\",\"minorgridcolor\":\"white\",\"startlinecolor\":\"#2a3f5f\"},\"type\":\"carpet\"}],\"choropleth\":[{\"colorbar\":{\"outlinewidth\":0,\"ticks\":\"\"},\"type\":\"choropleth\"}],\"contour\":[{\"colorbar\":{\"outlinewidth\":0,\"ticks\":\"\"},\"colorscale\":[[0.0,\"#0d0887\"],[0.1111111111111111,\"#46039f\"],[0.2222222222222222,\"#7201a8\"],[0.3333333333333333,\"#9c179e\"],[0.4444444444444444,\"#bd3786\"],[0.5555555555555556,\"#d8576b\"],[0.6666666666666666,\"#ed7953\"],[0.7777777777777778,\"#fb9f3a\"],[0.8888888888888888,\"#fdca26\"],[1.0,\"#f0f921\"]],\"type\":\"contour\"}],\"contourcarpet\":[{\"colorbar\":{\"outlinewidth\":0,\"ticks\":\"\"},\"type\":\"contourcarpet\"}],\"heatmap\":[{\"colorbar\":{\"outlinewidth\":0,\"ticks\":\"\"},\"colorscale\":[[0.0,\"#0d0887\"],[0.1111111111111111,\"#46039f\"],[0.2222222222222222,\"#7201a8\"],[0.3333333333333333,\"#9c179e\"],[0.4444444444444444,\"#bd3786\"],[0.5555555555555556,\"#d8576b\"],[0.6666666666666666,\"#ed7953\"],[0.7777777777777778,\"#fb9f3a\"],[0.8888888888888888,\"#fdca26\"],[1.0,\"#f0f921\"]],\"type\":\"heatmap\"}],\"heatmapgl\":[{\"colorbar\":{\"outlinewidth\":0,\"ticks\":\"\"},\"colorscale\":[[0.0,\"#0d0887\"],[0.1111111111111111,\"#46039f\"],[0.2222222222222222,\"#7201a8\"],[0.3333333333333333,\"#9c179e\"],[0.4444444444444444,\"#bd3786\"],[0.5555555555555556,\"#d8576b\"],[0.6666666666666666,\"#ed7953\"],[0.7777777777777778,\"#fb9f3a\"],[0.8888888888888888,\"#fdca26\"],[1.0,\"#f0f921\"]],\"type\":\"heatmapgl\"}],\"histogram\":[{\"marker\":{\"pattern\":{\"fillmode\":\"overlay\",\"size\":10,\"solidity\":0.2}},\"type\":\"histogram\"}],\"histogram2d\":[{\"colorbar\":{\"outlinewidth\":0,\"ticks\":\"\"},\"colorscale\":[[0.0,\"#0d0887\"],[0.1111111111111111,\"#46039f\"],[0.2222222222222222,\"#7201a8\"],[0.3333333333333333,\"#9c179e\"],[0.4444444444444444,\"#bd3786\"],[0.5555555555555556,\"#d8576b\"],[0.6666666666666666,\"#ed7953\"],[0.7777777777777778,\"#fb9f3a\"],[0.8888888888888888,\"#fdca26\"],[1.0,\"#f0f921\"]],\"type\":\"histogram2d\"}],\"histogram2dcontour\":[{\"colorbar\":{\"outlinewidth\":0,\"ticks\":\"\"},\"colorscale\":[[0.0,\"#0d0887\"],[0.1111111111111111,\"#46039f\"],[0.2222222222222222,\"#7201a8\"],[0.3333333333333333,\"#9c179e\"],[0.4444444444444444,\"#bd3786\"],[0.5555555555555556,\"#d8576b\"],[0.6666666666666666,\"#ed7953\"],[0.7777777777777778,\"#fb9f3a\"],[0.8888888888888888,\"#fdca26\"],[1.0,\"#f0f921\"]],\"type\":\"histogram2dcontour\"}],\"mesh3d\":[{\"colorbar\":{\"outlinewidth\":0,\"ticks\":\"\"},\"type\":\"mesh3d\"}],\"parcoords\":[{\"line\":{\"colorbar\":{\"outlinewidth\":0,\"ticks\":\"\"}},\"type\":\"parcoords\"}],\"pie\":[{\"automargin\":true,\"type\":\"pie\"}],\"scatter\":[{\"marker\":{\"colorbar\":{\"outlinewidth\":0,\"ticks\":\"\"}},\"type\":\"scatter\"}],\"scatter3d\":[{\"line\":{\"colorbar\":{\"outlinewidth\":0,\"ticks\":\"\"}},\"marker\":{\"colorbar\":{\"outlinewidth\":0,\"ticks\":\"\"}},\"type\":\"scatter3d\"}],\"scattercarpet\":[{\"marker\":{\"colorbar\":{\"outlinewidth\":0,\"ticks\":\"\"}},\"type\":\"scattercarpet\"}],\"scattergeo\":[{\"marker\":{\"colorbar\":{\"outlinewidth\":0,\"ticks\":\"\"}},\"type\":\"scattergeo\"}],\"scattergl\":[{\"marker\":{\"colorbar\":{\"outlinewidth\":0,\"ticks\":\"\"}},\"type\":\"scattergl\"}],\"scattermapbox\":[{\"marker\":{\"colorbar\":{\"outlinewidth\":0,\"ticks\":\"\"}},\"type\":\"scattermapbox\"}],\"scatterpolar\":[{\"marker\":{\"colorbar\":{\"outlinewidth\":0,\"ticks\":\"\"}},\"type\":\"scatterpolar\"}],\"scatterpolargl\":[{\"marker\":{\"colorbar\":{\"outlinewidth\":0,\"ticks\":\"\"}},\"type\":\"scatterpolargl\"}],\"scatterternary\":[{\"marker\":{\"colorbar\":{\"outlinewidth\":0,\"ticks\":\"\"}},\"type\":\"scatterternary\"}],\"surface\":[{\"colorbar\":{\"outlinewidth\":0,\"ticks\":\"\"},\"colorscale\":[[0.0,\"#0d0887\"],[0.1111111111111111,\"#46039f\"],[0.2222222222222222,\"#7201a8\"],[0.3333333333333333,\"#9c179e\"],[0.4444444444444444,\"#bd3786\"],[0.5555555555555556,\"#d8576b\"],[0.6666666666666666,\"#ed7953\"],[0.7777777777777778,\"#fb9f3a\"],[0.8888888888888888,\"#fdca26\"],[1.0,\"#f0f921\"]],\"type\":\"surface\"}],\"table\":[{\"cells\":{\"fill\":{\"color\":\"#EBF0F8\"},\"line\":{\"color\":\"white\"}},\"header\":{\"fill\":{\"color\":\"#C8D4E3\"},\"line\":{\"color\":\"white\"}},\"type\":\"table\"}]},\"layout\":{\"annotationdefaults\":{\"arrowcolor\":\"#2a3f5f\",\"arrowhead\":0,\"arrowwidth\":1},\"autotypenumbers\":\"strict\",\"coloraxis\":{\"colorbar\":{\"outlinewidth\":0,\"ticks\":\"\"}},\"colorscale\":{\"diverging\":[[0,\"#8e0152\"],[0.1,\"#c51b7d\"],[0.2,\"#de77ae\"],[0.3,\"#f1b6da\"],[0.4,\"#fde0ef\"],[0.5,\"#f7f7f7\"],[0.6,\"#e6f5d0\"],[0.7,\"#b8e186\"],[0.8,\"#7fbc41\"],[0.9,\"#4d9221\"],[1,\"#276419\"]],\"sequential\":[[0.0,\"#0d0887\"],[0.1111111111111111,\"#46039f\"],[0.2222222222222222,\"#7201a8\"],[0.3333333333333333,\"#9c179e\"],[0.4444444444444444,\"#bd3786\"],[0.5555555555555556,\"#d8576b\"],[0.6666666666666666,\"#ed7953\"],[0.7777777777777778,\"#fb9f3a\"],[0.8888888888888888,\"#fdca26\"],[1.0,\"#f0f921\"]],\"sequentialminus\":[[0.0,\"#0d0887\"],[0.1111111111111111,\"#46039f\"],[0.2222222222222222,\"#7201a8\"],[0.3333333333333333,\"#9c179e\"],[0.4444444444444444,\"#bd3786\"],[0.5555555555555556,\"#d8576b\"],[0.6666666666666666,\"#ed7953\"],[0.7777777777777778,\"#fb9f3a\"],[0.8888888888888888,\"#fdca26\"],[1.0,\"#f0f921\"]]},\"colorway\":[\"#636efa\",\"#EF553B\",\"#00cc96\",\"#ab63fa\",\"#FFA15A\",\"#19d3f3\",\"#FF6692\",\"#B6E880\",\"#FF97FF\",\"#FECB52\"],\"font\":{\"color\":\"#2a3f5f\"},\"geo\":{\"bgcolor\":\"white\",\"lakecolor\":\"white\",\"landcolor\":\"#E5ECF6\",\"showlakes\":true,\"showland\":true,\"subunitcolor\":\"white\"},\"hoverlabel\":{\"align\":\"left\"},\"hovermode\":\"closest\",\"mapbox\":{\"style\":\"light\"},\"paper_bgcolor\":\"white\",\"plot_bgcolor\":\"#E5ECF6\",\"polar\":{\"angularaxis\":{\"gridcolor\":\"white\",\"linecolor\":\"white\",\"ticks\":\"\"},\"bgcolor\":\"#E5ECF6\",\"radialaxis\":{\"gridcolor\":\"white\",\"linecolor\":\"white\",\"ticks\":\"\"}},\"scene\":{\"xaxis\":{\"backgroundcolor\":\"#E5ECF6\",\"gridcolor\":\"white\",\"gridwidth\":2,\"linecolor\":\"white\",\"showbackground\":true,\"ticks\":\"\",\"zerolinecolor\":\"white\"},\"yaxis\":{\"backgroundcolor\":\"#E5ECF6\",\"gridcolor\":\"white\",\"gridwidth\":2,\"linecolor\":\"white\",\"showbackground\":true,\"ticks\":\"\",\"zerolinecolor\":\"white\"},\"zaxis\":{\"backgroundcolor\":\"#E5ECF6\",\"gridcolor\":\"white\",\"gridwidth\":2,\"linecolor\":\"white\",\"showbackground\":true,\"ticks\":\"\",\"zerolinecolor\":\"white\"}},\"shapedefaults\":{\"line\":{\"color\":\"#2a3f5f\"}},\"ternary\":{\"aaxis\":{\"gridcolor\":\"white\",\"linecolor\":\"white\",\"ticks\":\"\"},\"baxis\":{\"gridcolor\":\"white\",\"linecolor\":\"white\",\"ticks\":\"\"},\"bgcolor\":\"#E5ECF6\",\"caxis\":{\"gridcolor\":\"white\",\"linecolor\":\"white\",\"ticks\":\"\"}},\"title\":{\"x\":0.05},\"xaxis\":{\"automargin\":true,\"gridcolor\":\"white\",\"linecolor\":\"white\",\"ticks\":\"\",\"title\":{\"standoff\":15},\"zerolinecolor\":\"white\",\"zerolinewidth\":2},\"yaxis\":{\"automargin\":true,\"gridcolor\":\"white\",\"linecolor\":\"white\",\"ticks\":\"\",\"title\":{\"standoff\":15},\"zerolinecolor\":\"white\",\"zerolinewidth\":2}}},\"title\":{\"text\":\"VDE Historical Price\"},\"xaxis\":{\"anchor\":\"y\",\"domain\":[0.0,1.0],\"title\":{\"text\":\"date\"}},\"yaxis\":{\"anchor\":\"x\",\"domain\":[0.0,1.0],\"title\":{\"text\":\"value\"}}},                        {\"responsive\": true}                    ).then(function(){\n",
       "                            \n",
       "var gd = document.getElementById('4bad7199-3eb7-4eb2-b01d-17d2b56e0229');\n",
       "var x = new MutationObserver(function (mutations, observer) {{\n",
       "        var display = window.getComputedStyle(gd).display;\n",
       "        if (!display || display === 'none') {{\n",
       "            console.log([gd, 'removed!']);\n",
       "            Plotly.purge(gd);\n",
       "            observer.disconnect();\n",
       "        }}\n",
       "}});\n",
       "\n",
       "// Listen for the removal of the full notebook cells\n",
       "var notebookContainer = gd.closest('#notebook-container');\n",
       "if (notebookContainer) {{\n",
       "    x.observe(notebookContainer, {childList: true});\n",
       "}}\n",
       "\n",
       "// Listen for the clearing of the current output cell\n",
       "var outputEl = gd.closest('.output');\n",
       "if (outputEl) {{\n",
       "    x.observe(outputEl, {childList: true});\n",
       "}}\n",
       "\n",
       "                        })                };                });            </script>        </div>"
      ]
     },
     "metadata": {},
     "output_type": "display_data"
    },
    {
     "name": "stdout",
     "output_type": "stream",
     "text": [
      "=============================== VDE =================================\n",
      "\n",
      "-------------------------- Summary Details ----------------------------\n"
     ]
    },
    {
     "data": {
      "text/html": [
       "<div>\n",
       "<style scoped>\n",
       "    .dataframe tbody tr th:only-of-type {\n",
       "        vertical-align: middle;\n",
       "    }\n",
       "\n",
       "    .dataframe tbody tr th {\n",
       "        vertical-align: top;\n",
       "    }\n",
       "\n",
       "    .dataframe thead th {\n",
       "        text-align: right;\n",
       "    }\n",
       "</style>\n",
       "<table border=\"1\" class=\"dataframe\">\n",
       "  <thead>\n",
       "    <tr style=\"text-align: right;\">\n",
       "      <th></th>\n",
       "      <th>Value</th>\n",
       "    </tr>\n",
       "  </thead>\n",
       "  <tbody>\n",
       "    <tr>\n",
       "      <th>totalAssets</th>\n",
       "      <td>6696737792</td>\n",
       "    </tr>\n",
       "    <tr>\n",
       "      <th>previousClose</th>\n",
       "      <td>78.23</td>\n",
       "    </tr>\n",
       "    <tr>\n",
       "      <th>open</th>\n",
       "      <td>79.23</td>\n",
       "    </tr>\n",
       "    <tr>\n",
       "      <th>fiftyDayAverage</th>\n",
       "      <td>78.3468</td>\n",
       "    </tr>\n",
       "    <tr>\n",
       "      <th>fiftyDayAverage</th>\n",
       "      <td>78.3468</td>\n",
       "    </tr>\n",
       "    <tr>\n",
       "      <th>fiftyTwoWeekLow</th>\n",
       "      <td>49.74</td>\n",
       "    </tr>\n",
       "    <tr>\n",
       "      <th>fiftyTwoWeekHigh</th>\n",
       "      <td>84.21</td>\n",
       "    </tr>\n",
       "    <tr>\n",
       "      <th>twoHundredDayAverage</th>\n",
       "      <td>72.3908</td>\n",
       "    </tr>\n",
       "    <tr>\n",
       "      <th>volume</th>\n",
       "      <td>1030480</td>\n",
       "    </tr>\n",
       "    <tr>\n",
       "      <th>averageVolume</th>\n",
       "      <td>1098553</td>\n",
       "    </tr>\n",
       "    <tr>\n",
       "      <th>averageVolume10days</th>\n",
       "      <td>1280970</td>\n",
       "    </tr>\n",
       "    <tr>\n",
       "      <th>averageDailyVolume10Day</th>\n",
       "      <td>1280970</td>\n",
       "    </tr>\n",
       "  </tbody>\n",
       "</table>\n",
       "</div>"
      ],
      "text/plain": [
       "                              Value\n",
       "totalAssets              6696737792\n",
       "previousClose                 78.23\n",
       "open                          79.23\n",
       "fiftyDayAverage             78.3468\n",
       "fiftyDayAverage             78.3468\n",
       "fiftyTwoWeekLow               49.74\n",
       "fiftyTwoWeekHigh              84.21\n",
       "twoHundredDayAverage        72.3908\n",
       "volume                      1030480\n",
       "averageVolume               1098553\n",
       "averageVolume10days         1280970\n",
       "averageDailyVolume10Day     1280970"
      ]
     },
     "metadata": {},
     "output_type": "display_data"
    },
    {
     "name": "stdout",
     "output_type": "stream",
     "text": [
      "-------------------------- Key Factor ----------------------------\n"
     ]
    },
    {
     "data": {
      "text/html": [
       "<div>\n",
       "<style scoped>\n",
       "    .dataframe tbody tr th:only-of-type {\n",
       "        vertical-align: middle;\n",
       "    }\n",
       "\n",
       "    .dataframe tbody tr th {\n",
       "        vertical-align: top;\n",
       "    }\n",
       "\n",
       "    .dataframe thead th {\n",
       "        text-align: right;\n",
       "    }\n",
       "</style>\n",
       "<table border=\"1\" class=\"dataframe\">\n",
       "  <thead>\n",
       "    <tr style=\"text-align: right;\">\n",
       "      <th></th>\n",
       "      <th>Value</th>\n",
       "    </tr>\n",
       "  </thead>\n",
       "  <tbody>\n",
       "    <tr>\n",
       "      <th>category</th>\n",
       "      <td>Equity Energy</td>\n",
       "    </tr>\n",
       "    <tr>\n",
       "      <th>ytdReturn</th>\n",
       "      <td>0.6417</td>\n",
       "    </tr>\n",
       "    <tr>\n",
       "      <th>fundFamily</th>\n",
       "      <td>Vanguard</td>\n",
       "    </tr>\n",
       "    <tr>\n",
       "      <th>fundInceptionDate</th>\n",
       "      <td>2004-09-22 20:00:00</td>\n",
       "    </tr>\n",
       "    <tr>\n",
       "      <th>legalType</th>\n",
       "      <td>Exchange Traded Fund</td>\n",
       "    </tr>\n",
       "  </tbody>\n",
       "</table>\n",
       "</div>"
      ],
      "text/plain": [
       "                                  Value\n",
       "category                  Equity Energy\n",
       "ytdReturn                        0.6417\n",
       "fundFamily                     Vanguard\n",
       "fundInceptionDate   2004-09-22 20:00:00\n",
       "legalType          Exchange Traded Fund"
      ]
     },
     "metadata": {},
     "output_type": "display_data"
    },
    {
     "name": "stdout",
     "output_type": "stream",
     "text": [
      "-------------------------- Fund Sector ----------------------------\n"
     ]
    },
    {
     "data": {
      "text/html": [
       "<div>\n",
       "<style scoped>\n",
       "    .dataframe tbody tr th:only-of-type {\n",
       "        vertical-align: middle;\n",
       "    }\n",
       "\n",
       "    .dataframe tbody tr th {\n",
       "        vertical-align: top;\n",
       "    }\n",
       "\n",
       "    .dataframe thead th {\n",
       "        text-align: right;\n",
       "    }\n",
       "</style>\n",
       "<table border=\"1\" class=\"dataframe\">\n",
       "  <thead>\n",
       "    <tr style=\"text-align: right;\">\n",
       "      <th></th>\n",
       "      <th>Fund Sector</th>\n",
       "      <th>Percentage</th>\n",
       "    </tr>\n",
       "  </thead>\n",
       "  <tbody>\n",
       "    <tr>\n",
       "      <th>9</th>\n",
       "      <td>energy</td>\n",
       "      <td>0.9977</td>\n",
       "    </tr>\n",
       "    <tr>\n",
       "      <th>2</th>\n",
       "      <td>basic_materials</td>\n",
       "      <td>0.0019</td>\n",
       "    </tr>\n",
       "    <tr>\n",
       "      <th>8</th>\n",
       "      <td>industrials</td>\n",
       "      <td>0.0005</td>\n",
       "    </tr>\n",
       "    <tr>\n",
       "      <th>0</th>\n",
       "      <td>realestate</td>\n",
       "      <td>0.0000</td>\n",
       "    </tr>\n",
       "    <tr>\n",
       "      <th>1</th>\n",
       "      <td>consumer_cyclical</td>\n",
       "      <td>0.0000</td>\n",
       "    </tr>\n",
       "    <tr>\n",
       "      <th>3</th>\n",
       "      <td>consumer_defensive</td>\n",
       "      <td>0.0000</td>\n",
       "    </tr>\n",
       "    <tr>\n",
       "      <th>4</th>\n",
       "      <td>technology</td>\n",
       "      <td>0.0000</td>\n",
       "    </tr>\n",
       "    <tr>\n",
       "      <th>5</th>\n",
       "      <td>communication_services</td>\n",
       "      <td>0.0000</td>\n",
       "    </tr>\n",
       "    <tr>\n",
       "      <th>6</th>\n",
       "      <td>financial_services</td>\n",
       "      <td>0.0000</td>\n",
       "    </tr>\n",
       "    <tr>\n",
       "      <th>7</th>\n",
       "      <td>utilities</td>\n",
       "      <td>0.0000</td>\n",
       "    </tr>\n",
       "    <tr>\n",
       "      <th>10</th>\n",
       "      <td>healthcare</td>\n",
       "      <td>0.0000</td>\n",
       "    </tr>\n",
       "  </tbody>\n",
       "</table>\n",
       "</div>"
      ],
      "text/plain": [
       "               Fund Sector  Percentage\n",
       "9                   energy      0.9977\n",
       "2          basic_materials      0.0019\n",
       "8              industrials      0.0005\n",
       "0               realestate      0.0000\n",
       "1        consumer_cyclical      0.0000\n",
       "3       consumer_defensive      0.0000\n",
       "4               technology      0.0000\n",
       "5   communication_services      0.0000\n",
       "6       financial_services      0.0000\n",
       "7                utilities      0.0000\n",
       "10              healthcare      0.0000"
      ]
     },
     "metadata": {},
     "output_type": "display_data"
    },
    {
     "name": "stdout",
     "output_type": "stream",
     "text": [
      "-------------------------- Holdings ----------------------------\n"
     ]
    },
    {
     "data": {
      "text/html": [
       "<div>\n",
       "<style scoped>\n",
       "    .dataframe tbody tr th:only-of-type {\n",
       "        vertical-align: middle;\n",
       "    }\n",
       "\n",
       "    .dataframe tbody tr th {\n",
       "        vertical-align: top;\n",
       "    }\n",
       "\n",
       "    .dataframe thead th {\n",
       "        text-align: right;\n",
       "    }\n",
       "</style>\n",
       "<table border=\"1\" class=\"dataframe\">\n",
       "  <thead>\n",
       "    <tr style=\"text-align: right;\">\n",
       "      <th></th>\n",
       "      <th>symbol</th>\n",
       "      <th>holdingName</th>\n",
       "      <th>holdingPercent</th>\n",
       "    </tr>\n",
       "  </thead>\n",
       "  <tbody>\n",
       "    <tr>\n",
       "      <th>0</th>\n",
       "      <td>XOM</td>\n",
       "      <td>Exxon Mobil Corp</td>\n",
       "      <td>0.2195</td>\n",
       "    </tr>\n",
       "    <tr>\n",
       "      <th>1</th>\n",
       "      <td>CVX</td>\n",
       "      <td>Chevron Corp</td>\n",
       "      <td>0.1656</td>\n",
       "    </tr>\n",
       "    <tr>\n",
       "      <th>2</th>\n",
       "      <td>COP</td>\n",
       "      <td>ConocoPhillips</td>\n",
       "      <td>0.0617</td>\n",
       "    </tr>\n",
       "    <tr>\n",
       "      <th>3</th>\n",
       "      <td>EOG</td>\n",
       "      <td>EOG Resources Inc</td>\n",
       "      <td>0.0401</td>\n",
       "    </tr>\n",
       "    <tr>\n",
       "      <th>4</th>\n",
       "      <td>SLB</td>\n",
       "      <td>Schlumberger Ltd</td>\n",
       "      <td>0.0353</td>\n",
       "    </tr>\n",
       "    <tr>\n",
       "      <th>5</th>\n",
       "      <td>MPC</td>\n",
       "      <td>Marathon Petroleum Corp</td>\n",
       "      <td>0.0327</td>\n",
       "    </tr>\n",
       "    <tr>\n",
       "      <th>6</th>\n",
       "      <td>PSX</td>\n",
       "      <td>Phillips 66</td>\n",
       "      <td>0.0312</td>\n",
       "    </tr>\n",
       "    <tr>\n",
       "      <th>7</th>\n",
       "      <td>KMI</td>\n",
       "      <td>Kinder Morgan Inc Class P</td>\n",
       "      <td>0.0306</td>\n",
       "    </tr>\n",
       "    <tr>\n",
       "      <th>8</th>\n",
       "      <td>PXD</td>\n",
       "      <td>Pioneer Natural Resources Co</td>\n",
       "      <td>0.0281</td>\n",
       "    </tr>\n",
       "    <tr>\n",
       "      <th>9</th>\n",
       "      <td>WMB</td>\n",
       "      <td>Williams Companies Inc</td>\n",
       "      <td>0.0266</td>\n",
       "    </tr>\n",
       "  </tbody>\n",
       "</table>\n",
       "</div>"
      ],
      "text/plain": [
       "  symbol                   holdingName  holdingPercent\n",
       "0    XOM              Exxon Mobil Corp          0.2195\n",
       "1    CVX                  Chevron Corp          0.1656\n",
       "2    COP                ConocoPhillips          0.0617\n",
       "3    EOG             EOG Resources Inc          0.0401\n",
       "4    SLB              Schlumberger Ltd          0.0353\n",
       "5    MPC       Marathon Petroleum Corp          0.0327\n",
       "6    PSX                   Phillips 66          0.0312\n",
       "7    KMI     Kinder Morgan Inc Class P          0.0306\n",
       "8    PXD  Pioneer Natural Resources Co          0.0281\n",
       "9    WMB        Williams Companies Inc          0.0266"
      ]
     },
     "metadata": {},
     "output_type": "display_data"
    },
    {
     "name": "stdout",
     "output_type": "stream",
     "text": [
      "-------------------------- Returns ----------------------------\n"
     ]
    },
    {
     "data": {
      "text/html": [
       "<div>\n",
       "<style scoped>\n",
       "    .dataframe tbody tr th:only-of-type {\n",
       "        vertical-align: middle;\n",
       "    }\n",
       "\n",
       "    .dataframe tbody tr th {\n",
       "        vertical-align: top;\n",
       "    }\n",
       "\n",
       "    .dataframe thead th {\n",
       "        text-align: right;\n",
       "    }\n",
       "</style>\n",
       "<table border=\"1\" class=\"dataframe\">\n",
       "  <thead>\n",
       "    <tr style=\"text-align: right;\">\n",
       "      <th></th>\n",
       "      <th>Value</th>\n",
       "    </tr>\n",
       "  </thead>\n",
       "  <tbody>\n",
       "    <tr>\n",
       "      <th>asOfDate</th>\n",
       "      <td>2021-10-27 20:00:00</td>\n",
       "    </tr>\n",
       "    <tr>\n",
       "      <th>ytdReturnPct</th>\n",
       "      <td>0.6417</td>\n",
       "    </tr>\n",
       "    <tr>\n",
       "      <th>oneYearTotalReturn</th>\n",
       "      <td>1.2193</td>\n",
       "    </tr>\n",
       "    <tr>\n",
       "      <th>threeYearTotalReturn</th>\n",
       "      <td>0.0005</td>\n",
       "    </tr>\n",
       "  </tbody>\n",
       "</table>\n",
       "</div>"
      ],
      "text/plain": [
       "                                    Value\n",
       "asOfDate              2021-10-27 20:00:00\n",
       "ytdReturnPct                       0.6417\n",
       "oneYearTotalReturn                 1.2193\n",
       "threeYearTotalReturn               0.0005"
      ]
     },
     "metadata": {},
     "output_type": "display_data"
    },
    {
     "name": "stdout",
     "output_type": "stream",
     "text": [
      "\n"
     ]
    },
    {
     "data": {
      "text/html": [
       "<div>\n",
       "<style scoped>\n",
       "    .dataframe tbody tr th:only-of-type {\n",
       "        vertical-align: middle;\n",
       "    }\n",
       "\n",
       "    .dataframe tbody tr th {\n",
       "        vertical-align: top;\n",
       "    }\n",
       "\n",
       "    .dataframe thead th {\n",
       "        text-align: right;\n",
       "    }\n",
       "</style>\n",
       "<table border=\"1\" class=\"dataframe\">\n",
       "  <thead>\n",
       "    <tr style=\"text-align: right;\">\n",
       "      <th></th>\n",
       "      <th>Value</th>\n",
       "    </tr>\n",
       "  </thead>\n",
       "  <tbody>\n",
       "    <tr>\n",
       "      <th>asOfDate</th>\n",
       "      <td>2021-06-29 20:00:00</td>\n",
       "    </tr>\n",
       "    <tr>\n",
       "      <th>ytd</th>\n",
       "      <td>0.4905</td>\n",
       "    </tr>\n",
       "    <tr>\n",
       "      <th>oneMonth</th>\n",
       "      <td>0.052</td>\n",
       "    </tr>\n",
       "    <tr>\n",
       "      <th>threeMonth</th>\n",
       "      <td>0.1257</td>\n",
       "    </tr>\n",
       "    <tr>\n",
       "      <th>oneYear</th>\n",
       "      <td>0.5738</td>\n",
       "    </tr>\n",
       "    <tr>\n",
       "      <th>threeYear</th>\n",
       "      <td>-0.0673</td>\n",
       "    </tr>\n",
       "    <tr>\n",
       "      <th>fiveYear</th>\n",
       "      <td>-0.0107</td>\n",
       "    </tr>\n",
       "    <tr>\n",
       "      <th>tenYear</th>\n",
       "      <td>-0.0087</td>\n",
       "    </tr>\n",
       "    <tr>\n",
       "      <th>lastBullMkt</th>\n",
       "      <td>0</td>\n",
       "    </tr>\n",
       "    <tr>\n",
       "      <th>lastBearMkt</th>\n",
       "      <td>0</td>\n",
       "    </tr>\n",
       "  </tbody>\n",
       "</table>\n",
       "</div>"
      ],
      "text/plain": [
       "                           Value\n",
       "asOfDate     2021-06-29 20:00:00\n",
       "ytd                       0.4905\n",
       "oneMonth                   0.052\n",
       "threeMonth                0.1257\n",
       "oneYear                   0.5738\n",
       "threeYear                -0.0673\n",
       "fiveYear                 -0.0107\n",
       "tenYear                  -0.0087\n",
       "lastBullMkt                    0\n",
       "lastBearMkt                    0"
      ]
     },
     "metadata": {},
     "output_type": "display_data"
    },
    {
     "name": "stdout",
     "output_type": "stream",
     "text": [
      "\n"
     ]
    },
    {
     "data": {
      "text/html": [
       "<div>\n",
       "<style scoped>\n",
       "    .dataframe tbody tr th:only-of-type {\n",
       "        vertical-align: middle;\n",
       "    }\n",
       "\n",
       "    .dataframe tbody tr th {\n",
       "        vertical-align: top;\n",
       "    }\n",
       "\n",
       "    .dataframe thead th {\n",
       "        text-align: right;\n",
       "    }\n",
       "</style>\n",
       "<table border=\"1\" class=\"dataframe\">\n",
       "  <thead>\n",
       "    <tr style=\"text-align: right;\">\n",
       "      <th></th>\n",
       "      <th>year</th>\n",
       "      <th>annualValue</th>\n",
       "    </tr>\n",
       "  </thead>\n",
       "  <tbody>\n",
       "    <tr>\n",
       "      <th>0</th>\n",
       "      <td>2021</td>\n",
       "      <td>NaN</td>\n",
       "    </tr>\n",
       "    <tr>\n",
       "      <th>1</th>\n",
       "      <td>2020</td>\n",
       "      <td>-0.330443</td>\n",
       "    </tr>\n",
       "    <tr>\n",
       "      <th>2</th>\n",
       "      <td>2019</td>\n",
       "      <td>0.093183</td>\n",
       "    </tr>\n",
       "    <tr>\n",
       "      <th>3</th>\n",
       "      <td>2018</td>\n",
       "      <td>-0.199139</td>\n",
       "    </tr>\n",
       "    <tr>\n",
       "      <th>4</th>\n",
       "      <td>2017</td>\n",
       "      <td>-0.024044</td>\n",
       "    </tr>\n",
       "    <tr>\n",
       "      <th>5</th>\n",
       "      <td>2016</td>\n",
       "      <td>0.289601</td>\n",
       "    </tr>\n",
       "    <tr>\n",
       "      <th>6</th>\n",
       "      <td>2015</td>\n",
       "      <td>-0.232150</td>\n",
       "    </tr>\n",
       "    <tr>\n",
       "      <th>7</th>\n",
       "      <td>2014</td>\n",
       "      <td>-0.099182</td>\n",
       "    </tr>\n",
       "    <tr>\n",
       "      <th>8</th>\n",
       "      <td>2013</td>\n",
       "      <td>0.257750</td>\n",
       "    </tr>\n",
       "    <tr>\n",
       "      <th>9</th>\n",
       "      <td>2012</td>\n",
       "      <td>0.034584</td>\n",
       "    </tr>\n",
       "    <tr>\n",
       "      <th>10</th>\n",
       "      <td>2011</td>\n",
       "      <td>0.027980</td>\n",
       "    </tr>\n",
       "    <tr>\n",
       "      <th>11</th>\n",
       "      <td>2010</td>\n",
       "      <td>0.210897</td>\n",
       "    </tr>\n",
       "    <tr>\n",
       "      <th>12</th>\n",
       "      <td>2009</td>\n",
       "      <td>0.249044</td>\n",
       "    </tr>\n",
       "    <tr>\n",
       "      <th>13</th>\n",
       "      <td>2008</td>\n",
       "      <td>-0.393130</td>\n",
       "    </tr>\n",
       "    <tr>\n",
       "      <th>14</th>\n",
       "      <td>2007</td>\n",
       "      <td>0.348651</td>\n",
       "    </tr>\n",
       "    <tr>\n",
       "      <th>15</th>\n",
       "      <td>2006</td>\n",
       "      <td>0.189829</td>\n",
       "    </tr>\n",
       "    <tr>\n",
       "      <th>16</th>\n",
       "      <td>2005</td>\n",
       "      <td>0.390454</td>\n",
       "    </tr>\n",
       "    <tr>\n",
       "      <th>17</th>\n",
       "      <td>2004</td>\n",
       "      <td>NaN</td>\n",
       "    </tr>\n",
       "  </tbody>\n",
       "</table>\n",
       "</div>"
      ],
      "text/plain": [
       "    year  annualValue\n",
       "0   2021          NaN\n",
       "1   2020    -0.330443\n",
       "2   2019     0.093183\n",
       "3   2018    -0.199139\n",
       "4   2017    -0.024044\n",
       "5   2016     0.289601\n",
       "6   2015    -0.232150\n",
       "7   2014    -0.099182\n",
       "8   2013     0.257750\n",
       "9   2012     0.034584\n",
       "10  2011     0.027980\n",
       "11  2010     0.210897\n",
       "12  2009     0.249044\n",
       "13  2008    -0.393130\n",
       "14  2007     0.348651\n",
       "15  2006     0.189829\n",
       "16  2005     0.390454\n",
       "17  2004          NaN"
      ]
     },
     "metadata": {},
     "output_type": "display_data"
    },
    {
     "name": "stdout",
     "output_type": "stream",
     "text": [
      "-------------------------- Risk Factors ----------------------------\n"
     ]
    },
    {
     "data": {
      "text/html": [
       "<div>\n",
       "<style scoped>\n",
       "    .dataframe tbody tr th:only-of-type {\n",
       "        vertical-align: middle;\n",
       "    }\n",
       "\n",
       "    .dataframe tbody tr th {\n",
       "        vertical-align: top;\n",
       "    }\n",
       "\n",
       "    .dataframe thead th {\n",
       "        text-align: right;\n",
       "    }\n",
       "</style>\n",
       "<table border=\"1\" class=\"dataframe\">\n",
       "  <thead>\n",
       "    <tr style=\"text-align: right;\">\n",
       "      <th></th>\n",
       "      <th>year</th>\n",
       "      <th>alpha</th>\n",
       "      <th>beta</th>\n",
       "      <th>meanAnnualReturn</th>\n",
       "      <th>rSquared</th>\n",
       "      <th>stdDev</th>\n",
       "      <th>sharpeRatio</th>\n",
       "      <th>treynorRatio</th>\n",
       "    </tr>\n",
       "  </thead>\n",
       "  <tbody>\n",
       "    <tr>\n",
       "      <th>0</th>\n",
       "      <td>5y</td>\n",
       "      <td>-22.00</td>\n",
       "      <td>1.90</td>\n",
       "      <td>0.42</td>\n",
       "      <td>63.79</td>\n",
       "      <td>34.58</td>\n",
       "      <td>0.11</td>\n",
       "      <td>-1.16</td>\n",
       "    </tr>\n",
       "    <tr>\n",
       "      <th>1</th>\n",
       "      <td>3y</td>\n",
       "      <td>-27.51</td>\n",
       "      <td>2.03</td>\n",
       "      <td>0.18</td>\n",
       "      <td>73.38</td>\n",
       "      <td>42.61</td>\n",
       "      <td>0.02</td>\n",
       "      <td>-3.90</td>\n",
       "    </tr>\n",
       "    <tr>\n",
       "      <th>2</th>\n",
       "      <td>10y</td>\n",
       "      <td>-13.01</td>\n",
       "      <td>1.58</td>\n",
       "      <td>0.27</td>\n",
       "      <td>61.25</td>\n",
       "      <td>28.45</td>\n",
       "      <td>0.09</td>\n",
       "      <td>-0.94</td>\n",
       "    </tr>\n",
       "  </tbody>\n",
       "</table>\n",
       "</div>"
      ],
      "text/plain": [
       "  year  alpha  beta  meanAnnualReturn  rSquared  stdDev  sharpeRatio  \\\n",
       "0   5y -22.00  1.90              0.42     63.79   34.58         0.11   \n",
       "1   3y -27.51  2.03              0.18     73.38   42.61         0.02   \n",
       "2  10y -13.01  1.58              0.27     61.25   28.45         0.09   \n",
       "\n",
       "   treynorRatio  \n",
       "0         -1.16  \n",
       "1         -3.90  \n",
       "2         -0.94  "
      ]
     },
     "metadata": {},
     "output_type": "display_data"
    },
    {
     "name": "stdout",
     "output_type": "stream",
     "text": [
      "=========================================================================\n"
     ]
    }
   ],
   "source": [
    "for ticker in stock_curr_smr.ticker.values:\n",
    "    if ticker != 'CASH':\n",
    "        print_news_title(ticker, td)\n",
    "        get_etf_holding(ticker, '1mo')"
   ]
  },
  {
   "cell_type": "markdown",
   "metadata": {},
   "source": [
    "## Watch List"
   ]
  },
  {
   "cell_type": "code",
   "execution_count": 13,
   "metadata": {},
   "outputs": [],
   "source": [
    "watchlist = pd.read_excel(os.path.join(path,file), sheet_name = 'watchlist')\n",
    "watchlist_df = get_stock_details(watchlist[\"ticker\"].unique(), lstqtr, td)\n",
    "# watchlist_df.head(3)"
   ]
  },
  {
   "cell_type": "code",
   "execution_count": 12,
   "metadata": {},
   "outputs": [
    {
     "data": {
      "text/html": [
       "\n",
       "<div id=\"altair-viz-bfe74bdedc8149de95f9077ddad217eb\"></div>\n",
       "<script type=\"text/javascript\">\n",
       "  (function(spec, embedOpt){\n",
       "    let outputDiv = document.currentScript.previousElementSibling;\n",
       "    if (outputDiv.id !== \"altair-viz-bfe74bdedc8149de95f9077ddad217eb\") {\n",
       "      outputDiv = document.getElementById(\"altair-viz-bfe74bdedc8149de95f9077ddad217eb\");\n",
       "    }\n",
       "    const paths = {\n",
       "      \"vega\": \"https://cdn.jsdelivr.net/npm//vega@5?noext\",\n",
       "      \"vega-lib\": \"https://cdn.jsdelivr.net/npm//vega-lib?noext\",\n",
       "      \"vega-lite\": \"https://cdn.jsdelivr.net/npm//vega-lite@4.8.1?noext\",\n",
       "      \"vega-embed\": \"https://cdn.jsdelivr.net/npm//vega-embed@6?noext\",\n",
       "    };\n",
       "\n",
       "    function loadScript(lib) {\n",
       "      return new Promise(function(resolve, reject) {\n",
       "        var s = document.createElement('script');\n",
       "        s.src = paths[lib];\n",
       "        s.async = true;\n",
       "        s.onload = () => resolve(paths[lib]);\n",
       "        s.onerror = () => reject(`Error loading script: ${paths[lib]}`);\n",
       "        document.getElementsByTagName(\"head\")[0].appendChild(s);\n",
       "      });\n",
       "    }\n",
       "\n",
       "    function showError(err) {\n",
       "      outputDiv.innerHTML = `<div class=\"error\" style=\"color:red;\">${err}</div>`;\n",
       "      throw err;\n",
       "    }\n",
       "\n",
       "    function displayChart(vegaEmbed) {\n",
       "      vegaEmbed(outputDiv, spec, embedOpt)\n",
       "        .catch(err => showError(`Javascript Error: ${err.message}<br>This usually means there's a typo in your chart specification. See the javascript console for the full traceback.`));\n",
       "    }\n",
       "\n",
       "    if(typeof define === \"function\" && define.amd) {\n",
       "      requirejs.config({paths});\n",
       "      require([\"vega-embed\"], displayChart, err => showError(`Error loading script: ${err.message}`));\n",
       "    } else if (typeof vegaEmbed === \"function\") {\n",
       "      displayChart(vegaEmbed);\n",
       "    } else {\n",
       "      loadScript(\"vega\")\n",
       "        .then(() => loadScript(\"vega-lite\"))\n",
       "        .then(() => loadScript(\"vega-embed\"))\n",
       "        .catch(showError)\n",
       "        .then(() => displayChart(vegaEmbed));\n",
       "    }\n",
       "  })({\"config\": {\"view\": {\"continuousWidth\": 400, \"continuousHeight\": 300}}, \"data\": {\"name\": \"data-a1bc43c7bbe76f4d938b358e3b288182\"}, \"mark\": \"line\", \"encoding\": {\"color\": {\"type\": \"nominal\", \"field\": \"ticker\"}, \"x\": {\"type\": \"temporal\", \"field\": \"Date\"}, \"y\": {\"type\": \"quantitative\", \"field\": \"Volume\"}}, \"$schema\": \"https://vega.github.io/schema/vega-lite/v4.8.1.json\", \"datasets\": {\"data-a1bc43c7bbe76f4d938b358e3b288182\": [{\"Date\": \"2021-08-24T00:00:00\", \"Open\": 22.6200008392334, \"High\": 23.084999084472656, \"Low\": 22.56999969482422, \"Close\": 23.030000686645508, \"Volume\": 7344000, \"Dividends\": 0, \"Stock Splits\": 0, \"ticker\": \"JETS\"}, {\"Date\": \"2021-08-25T00:00:00\", \"Open\": 23.0, \"High\": 23.34600067138672, \"Low\": 22.850000381469727, \"Close\": 23.209999084472656, \"Volume\": 4472100, \"Dividends\": 0, \"Stock Splits\": 0, \"ticker\": \"JETS\"}, {\"Date\": \"2021-08-26T00:00:00\", \"Open\": 23.149999618530273, \"High\": 23.344999313354492, \"Low\": 22.80500030517578, \"Close\": 22.969999313354492, \"Volume\": 8729000, \"Dividends\": 0, \"Stock Splits\": 0, \"ticker\": \"JETS\"}, {\"Date\": \"2021-08-27T00:00:00\", \"Open\": 23.059999465942383, \"High\": 23.424999237060547, \"Low\": 23.020000457763672, \"Close\": 23.329999923706055, \"Volume\": 3543900, \"Dividends\": 0, \"Stock Splits\": 0, \"ticker\": \"JETS\"}, {\"Date\": \"2021-08-30T00:00:00\", \"Open\": 23.459999084472656, \"High\": 23.459999084472656, \"Low\": 22.760000228881836, \"Close\": 22.760000228881836, \"Volume\": 4867300, \"Dividends\": 0, \"Stock Splits\": 0, \"ticker\": \"JETS\"}, {\"Date\": \"2021-08-31T00:00:00\", \"Open\": 22.690000534057617, \"High\": 23.1299991607666, \"Low\": 22.690000534057617, \"Close\": 22.979999542236328, \"Volume\": 4124100, \"Dividends\": 0, \"Stock Splits\": 0, \"ticker\": \"JETS\"}, {\"Date\": \"2021-09-01T00:00:00\", \"Open\": 23.09000015258789, \"High\": 23.239999771118164, \"Low\": 22.90999984741211, \"Close\": 22.950000762939453, \"Volume\": 3978600, \"Dividends\": 0, \"Stock Splits\": 0, \"ticker\": \"JETS\"}, {\"Date\": \"2021-09-02T00:00:00\", \"Open\": 23.010000228881836, \"High\": 23.31999969482422, \"Low\": 22.84000015258789, \"Close\": 23.09000015258789, \"Volume\": 3988700, \"Dividends\": 0, \"Stock Splits\": 0, \"ticker\": \"JETS\"}, {\"Date\": \"2021-09-03T00:00:00\", \"Open\": 23.010000228881836, \"High\": 23.204999923706055, \"Low\": 22.770000457763672, \"Close\": 22.81999969482422, \"Volume\": 3750300, \"Dividends\": 0, \"Stock Splits\": 0, \"ticker\": \"JETS\"}, {\"Date\": \"2021-09-07T00:00:00\", \"Open\": 22.760000228881836, \"High\": 22.96500015258789, \"Low\": 22.65999984741211, \"Close\": 22.889999389648438, \"Volume\": 3225200, \"Dividends\": 0, \"Stock Splits\": 0, \"ticker\": \"JETS\"}, {\"Date\": \"2021-09-08T00:00:00\", \"Open\": 22.889999389648438, \"High\": 23.110000610351562, \"Low\": 22.520000457763672, \"Close\": 22.540000915527344, \"Volume\": 4302300, \"Dividends\": 0, \"Stock Splits\": 0, \"ticker\": \"JETS\"}, {\"Date\": \"2021-09-09T00:00:00\", \"Open\": 22.5, \"High\": 23.34000015258789, \"Low\": 22.459999084472656, \"Close\": 22.969999313354492, \"Volume\": 7988100, \"Dividends\": 0, \"Stock Splits\": 0, \"ticker\": \"JETS\"}, {\"Date\": \"2021-09-10T00:00:00\", \"Open\": 23.100000381469727, \"High\": 23.100000381469727, \"Low\": 22.18000030517578, \"Close\": 22.219999313354492, \"Volume\": 6784800, \"Dividends\": 0, \"Stock Splits\": 0, \"ticker\": \"JETS\"}, {\"Date\": \"2021-09-13T00:00:00\", \"Open\": 22.40999984741211, \"High\": 22.700000762939453, \"Low\": 22.09000015258789, \"Close\": 22.6200008392334, \"Volume\": 4540900, \"Dividends\": 0, \"Stock Splits\": 0, \"ticker\": \"JETS\"}, {\"Date\": \"2021-09-14T00:00:00\", \"Open\": 22.690000534057617, \"High\": 22.725000381469727, \"Low\": 22.239999771118164, \"Close\": 22.34000015258789, \"Volume\": 3591700, \"Dividends\": 0, \"Stock Splits\": 0, \"ticker\": \"JETS\"}, {\"Date\": \"2021-09-15T00:00:00\", \"Open\": 22.290000915527344, \"High\": 22.479999542236328, \"Low\": 22.06999969482422, \"Close\": 22.459999084472656, \"Volume\": 5384200, \"Dividends\": 0, \"Stock Splits\": 0, \"ticker\": \"JETS\"}, {\"Date\": \"2021-09-16T00:00:00\", \"Open\": 22.5, \"High\": 22.90999984741211, \"Low\": 22.479999542236328, \"Close\": 22.690000534057617, \"Volume\": 4244900, \"Dividends\": 0, \"Stock Splits\": 0, \"ticker\": \"JETS\"}, {\"Date\": \"2021-09-17T00:00:00\", \"Open\": 22.790000915527344, \"High\": 23.075000762939453, \"Low\": 22.56999969482422, \"Close\": 22.75, \"Volume\": 5818300, \"Dividends\": 0, \"Stock Splits\": 0, \"ticker\": \"JETS\"}, {\"Date\": \"2021-09-20T00:00:00\", \"Open\": 22.639999389648438, \"High\": 22.920000076293945, \"Low\": 22.34000015258789, \"Close\": 22.889999389648438, \"Volume\": 9170500, \"Dividends\": 0, \"Stock Splits\": 0, \"ticker\": \"JETS\"}, {\"Date\": \"2021-09-21T00:00:00\", \"Open\": 23.1299991607666, \"High\": 23.280000686645508, \"Low\": 22.545000076293945, \"Close\": 22.670000076293945, \"Volume\": 5919800, \"Dividends\": 0, \"Stock Splits\": 0, \"ticker\": \"JETS\"}, {\"Date\": \"2021-09-22T00:00:00\", \"Open\": 22.790000915527344, \"High\": 23.4950008392334, \"Low\": 22.790000915527344, \"Close\": 23.280000686645508, \"Volume\": 9495800, \"Dividends\": 0, \"Stock Splits\": 0, \"ticker\": \"JETS\"}, {\"Date\": \"2021-09-23T00:00:00\", \"Open\": 23.459999084472656, \"High\": 24.049999237060547, \"Low\": 23.450000762939453, \"Close\": 23.920000076293945, \"Volume\": 10329800, \"Dividends\": 0, \"Stock Splits\": 0, \"ticker\": \"JETS\"}, {\"Date\": \"2021-09-24T00:00:00\", \"Open\": 23.799999237060547, \"High\": 24.389999389648438, \"Low\": 23.799999237060547, \"Close\": 24.290000915527344, \"Volume\": 11614400, \"Dividends\": 0, \"Stock Splits\": 0, \"ticker\": \"JETS\"}, {\"Date\": \"2021-09-27T00:00:00\", \"Open\": 24.5, \"High\": 24.979999542236328, \"Low\": 24.469999313354492, \"Close\": 24.469999313354492, \"Volume\": 8107600, \"Dividends\": 0, \"Stock Splits\": 0, \"ticker\": \"JETS\"}, {\"Date\": \"2021-09-28T00:00:00\", \"Open\": 24.3799991607666, \"High\": 24.635000228881836, \"Low\": 24.09000015258789, \"Close\": 24.15999984741211, \"Volume\": 7023000, \"Dividends\": 0, \"Stock Splits\": 0, \"ticker\": \"JETS\"}, {\"Date\": \"2021-09-29T00:00:00\", \"Open\": 24.309999465942383, \"High\": 24.3799991607666, \"Low\": 23.920000076293945, \"Close\": 24.040000915527344, \"Volume\": 3219100, \"Dividends\": 0, \"Stock Splits\": 0, \"ticker\": \"JETS\"}, {\"Date\": \"2021-09-30T00:00:00\", \"Open\": 23.979999542236328, \"High\": 23.989999771118164, \"Low\": 23.549999237060547, \"Close\": 23.6299991607666, \"Volume\": 7406700, \"Dividends\": 0, \"Stock Splits\": 0, \"ticker\": \"JETS\"}, {\"Date\": \"2021-10-01T00:00:00\", \"Open\": 24.190000534057617, \"High\": 24.969999313354492, \"Low\": 24.15999984741211, \"Close\": 24.889999389648438, \"Volume\": 15920800, \"Dividends\": 0, \"Stock Splits\": 0, \"ticker\": \"JETS\"}, {\"Date\": \"2021-10-04T00:00:00\", \"Open\": 24.989999771118164, \"High\": 25.19499969482422, \"Low\": 24.600000381469727, \"Close\": 24.739999771118164, \"Volume\": 10850400, \"Dividends\": 0, \"Stock Splits\": 0, \"ticker\": \"JETS\"}, {\"Date\": \"2021-10-05T00:00:00\", \"Open\": 24.799999237060547, \"High\": 24.979999542236328, \"Low\": 24.459999084472656, \"Close\": 24.56999969482422, \"Volume\": 10303600, \"Dividends\": 0, \"Stock Splits\": 0, \"ticker\": \"JETS\"}, {\"Date\": \"2021-10-06T00:00:00\", \"Open\": 24.100000381469727, \"High\": 24.2549991607666, \"Low\": 23.719999313354492, \"Close\": 24.219999313354492, \"Volume\": 8902500, \"Dividends\": 0, \"Stock Splits\": 0, \"ticker\": \"JETS\"}, {\"Date\": \"2021-10-07T00:00:00\", \"Open\": 24.43000030517578, \"High\": 24.459999084472656, \"Low\": 23.940000534057617, \"Close\": 24.0, \"Volume\": 5365400, \"Dividends\": 0, \"Stock Splits\": 0, \"ticker\": \"JETS\"}, {\"Date\": \"2021-10-08T00:00:00\", \"Open\": 24.06999969482422, \"High\": 24.170000076293945, \"Low\": 23.809999465942383, \"Close\": 23.979999542236328, \"Volume\": 4968800, \"Dividends\": 0, \"Stock Splits\": 0, \"ticker\": \"JETS\"}, {\"Date\": \"2021-10-11T00:00:00\", \"Open\": 23.850000381469727, \"High\": 24.25, \"Low\": 23.739999771118164, \"Close\": 23.799999237060547, \"Volume\": 7532500, \"Dividends\": 0, \"Stock Splits\": 0, \"ticker\": \"JETS\"}, {\"Date\": \"2021-10-12T00:00:00\", \"Open\": 23.940000534057617, \"High\": 24.065000534057617, \"Low\": 23.700000762939453, \"Close\": 24.0, \"Volume\": 4213300, \"Dividends\": 0, \"Stock Splits\": 0, \"ticker\": \"JETS\"}, {\"Date\": \"2021-10-13T00:00:00\", \"Open\": 23.920000076293945, \"High\": 23.920000076293945, \"Low\": 23.290000915527344, \"Close\": 23.40999984741211, \"Volume\": 7564200, \"Dividends\": 0, \"Stock Splits\": 0, \"ticker\": \"JETS\"}, {\"Date\": \"2021-10-14T00:00:00\", \"Open\": 23.610000610351562, \"High\": 23.719999313354492, \"Low\": 23.510000228881836, \"Close\": 23.579999923706055, \"Volume\": 4424800, \"Dividends\": 0, \"Stock Splits\": 0, \"ticker\": \"JETS\"}, {\"Date\": \"2021-10-15T00:00:00\", \"Open\": 23.969999313354492, \"High\": 24.059999465942383, \"Low\": 23.579999923706055, \"Close\": 23.579999923706055, \"Volume\": 5009600, \"Dividends\": 0, \"Stock Splits\": 0, \"ticker\": \"JETS\"}, {\"Date\": \"2021-10-18T00:00:00\", \"Open\": 23.459999084472656, \"High\": 23.59000015258789, \"Low\": 23.309999465942383, \"Close\": 23.34000015258789, \"Volume\": 4312800, \"Dividends\": 0, \"Stock Splits\": 0, \"ticker\": \"JETS\"}, {\"Date\": \"2021-10-19T00:00:00\", \"Open\": 23.40999984741211, \"High\": 23.40999984741211, \"Low\": 23.049999237060547, \"Close\": 23.09000015258789, \"Volume\": 4946300, \"Dividends\": 0, \"Stock Splits\": 0, \"ticker\": \"JETS\"}, {\"Date\": \"2021-10-20T00:00:00\", \"Open\": 23.149999618530273, \"High\": 23.21500015258789, \"Low\": 22.770000457763672, \"Close\": 22.940000534057617, \"Volume\": 9059300, \"Dividends\": 0, \"Stock Splits\": 0, \"ticker\": \"JETS\"}, {\"Date\": \"2021-10-21T00:00:00\", \"Open\": 22.93000030517578, \"High\": 23.104999542236328, \"Low\": 22.809999465942383, \"Close\": 22.920000076293945, \"Volume\": 3970500, \"Dividends\": 0, \"Stock Splits\": 0, \"ticker\": \"JETS\"}, {\"Date\": \"2021-10-22T00:00:00\", \"Open\": 22.84000015258789, \"High\": 22.8700008392334, \"Low\": 22.510000228881836, \"Close\": 22.600000381469727, \"Volume\": 4368900, \"Dividends\": 0, \"Stock Splits\": 0, \"ticker\": \"JETS\"}, {\"Date\": \"2021-10-25T00:00:00\", \"Open\": 22.6200008392334, \"High\": 22.69499969482422, \"Low\": 22.40999984741211, \"Close\": 22.579999923706055, \"Volume\": 4558600, \"Dividends\": 0, \"Stock Splits\": 0, \"ticker\": \"JETS\"}, {\"Date\": \"2021-10-26T00:00:00\", \"Open\": 22.739999771118164, \"High\": 22.864999771118164, \"Low\": 22.459999084472656, \"Close\": 22.579999923706055, \"Volume\": 4957900, \"Dividends\": 0, \"Stock Splits\": 0, \"ticker\": \"JETS\"}, {\"Date\": \"2021-10-27T00:00:00\", \"Open\": 22.65999984741211, \"High\": 22.670000076293945, \"Low\": 22.170000076293945, \"Close\": 22.190000534057617, \"Volume\": 4754600, \"Dividends\": 0, \"Stock Splits\": 0, \"ticker\": \"JETS\"}, {\"Date\": \"2021-10-28T00:00:00\", \"Open\": 22.290000915527344, \"High\": 22.417999267578125, \"Low\": 22.139999389648438, \"Close\": 22.360000610351562, \"Volume\": 4544500, \"Dividends\": 0, \"Stock Splits\": 0, \"ticker\": \"JETS\"}, {\"Date\": \"2021-10-29T00:00:00\", \"Open\": 22.34000015258789, \"High\": 22.440000534057617, \"Low\": 22.09000015258789, \"Close\": 22.219999313354492, \"Volume\": 3661300, \"Dividends\": 0, \"Stock Splits\": 0, \"ticker\": \"JETS\"}, {\"Date\": \"2021-11-01T00:00:00\", \"Open\": 22.209999084472656, \"High\": 22.8700008392334, \"Low\": 22.149999618530273, \"Close\": 22.850000381469727, \"Volume\": 5596100, \"Dividends\": 0, \"Stock Splits\": 0, \"ticker\": \"JETS\"}, {\"Date\": \"2021-11-02T00:00:00\", \"Open\": 22.8799991607666, \"High\": 22.889999389648438, \"Low\": 22.606000900268555, \"Close\": 22.729999542236328, \"Volume\": 3963800, \"Dividends\": 0, \"Stock Splits\": 0, \"ticker\": \"JETS\"}, {\"Date\": \"2021-11-03T00:00:00\", \"Open\": 22.700000762939453, \"High\": 23.309999465942383, \"Low\": 22.59000015258789, \"Close\": 23.290000915527344, \"Volume\": 7601200, \"Dividends\": 0, \"Stock Splits\": 0, \"ticker\": \"JETS\"}, {\"Date\": \"2021-11-04T00:00:00\", \"Open\": 23.440000534057617, \"High\": 23.440000534057617, \"Low\": 23.03499984741211, \"Close\": 23.149999618530273, \"Volume\": 5968300, \"Dividends\": 0, \"Stock Splits\": 0, \"ticker\": \"JETS\"}, {\"Date\": \"2021-11-05T00:00:00\", \"Open\": 24.329999923706055, \"High\": 24.639999389648438, \"Low\": 24.150999069213867, \"Close\": 24.6299991607666, \"Volume\": 19747100, \"Dividends\": 0, \"Stock Splits\": 0, \"ticker\": \"JETS\"}, {\"Date\": \"2021-11-08T00:00:00\", \"Open\": 24.950000762939453, \"High\": 25.059999465942383, \"Low\": 24.700000762939453, \"Close\": 24.790000915527344, \"Volume\": 24483200, \"Dividends\": 0, \"Stock Splits\": 0, \"ticker\": \"JETS\"}, {\"Date\": \"2021-11-09T00:00:00\", \"Open\": 24.700000762939453, \"High\": 24.729999542236328, \"Low\": 24.261999130249023, \"Close\": 24.670000076293945, \"Volume\": 9736300, \"Dividends\": 0, \"Stock Splits\": 0, \"ticker\": \"JETS\"}, {\"Date\": \"2021-11-10T00:00:00\", \"Open\": 24.31999969482422, \"High\": 24.549999237060547, \"Low\": 23.96500015258789, \"Close\": 24.040000915527344, \"Volume\": 6529500, \"Dividends\": 0, \"Stock Splits\": 0, \"ticker\": \"JETS\"}, {\"Date\": \"2021-11-11T00:00:00\", \"Open\": 24.040000915527344, \"High\": 24.209999084472656, \"Low\": 23.860000610351562, \"Close\": 23.8700008392334, \"Volume\": 4550900, \"Dividends\": 0, \"Stock Splits\": 0, \"ticker\": \"JETS\"}, {\"Date\": \"2021-11-12T00:00:00\", \"Open\": 23.899999618530273, \"High\": 23.93000030517578, \"Low\": 23.229999542236328, \"Close\": 23.40999984741211, \"Volume\": 6564500, \"Dividends\": 0, \"Stock Splits\": 0, \"ticker\": \"JETS\"}, {\"Date\": \"2021-11-15T00:00:00\", \"Open\": 23.600000381469727, \"High\": 23.729999542236328, \"Low\": 23.450000762939453, \"Close\": 23.559999465942383, \"Volume\": 4936300, \"Dividends\": 0, \"Stock Splits\": 0, \"ticker\": \"JETS\"}, {\"Date\": \"2021-11-16T00:00:00\", \"Open\": 23.5, \"High\": 23.510000228881836, \"Low\": 22.889999389648438, \"Close\": 22.989999771118164, \"Volume\": 8456400, \"Dividends\": 0, \"Stock Splits\": 0, \"ticker\": \"JETS\"}, {\"Date\": \"2021-11-17T00:00:00\", \"Open\": 22.920000076293945, \"High\": 23.049999237060547, \"Low\": 22.6200008392334, \"Close\": 22.84000015258789, \"Volume\": 5049600, \"Dividends\": 0, \"Stock Splits\": 0, \"ticker\": \"JETS\"}, {\"Date\": \"2021-11-18T00:00:00\", \"Open\": 22.90999984741211, \"High\": 22.90999984741211, \"Low\": 22.260000228881836, \"Close\": 22.469999313354492, \"Volume\": 6331200, \"Dividends\": 0, \"Stock Splits\": 0, \"ticker\": \"JETS\"}, {\"Date\": \"2021-11-19T00:00:00\", \"Open\": 22.25, \"High\": 22.25, \"Low\": 21.79199981689453, \"Close\": 22.079999923706055, \"Volume\": 12258000, \"Dividends\": 0, \"Stock Splits\": 0, \"ticker\": \"JETS\"}, {\"Date\": \"2021-08-24T00:00:00\", \"Open\": 2150.0, \"High\": 2249.780029296875, \"Low\": 2138.52001953125, \"Close\": 2233.110107421875, \"Volume\": 459600, \"Dividends\": 0, \"Stock Splits\": 0, \"ticker\": \"BKNG\"}, {\"Date\": \"2021-08-25T00:00:00\", \"Open\": 2240.330078125, \"High\": 2278.5, \"Low\": 2210.169921875, \"Close\": 2263.7900390625, \"Volume\": 340000, \"Dividends\": 0, \"Stock Splits\": 0, \"ticker\": \"BKNG\"}, {\"Date\": \"2021-08-26T00:00:00\", \"Open\": 2250.0, \"High\": 2292.389892578125, \"Low\": 2250.0, \"Close\": 2276.800048828125, \"Volume\": 292600, \"Dividends\": 0, \"Stock Splits\": 0, \"ticker\": \"BKNG\"}, {\"Date\": \"2021-08-27T00:00:00\", \"Open\": 2279.0, \"High\": 2319.6298828125, \"Low\": 2278.530029296875, \"Close\": 2305.469970703125, \"Volume\": 240500, \"Dividends\": 0, \"Stock Splits\": 0, \"ticker\": \"BKNG\"}, {\"Date\": \"2021-08-30T00:00:00\", \"Open\": 2300.0, \"High\": 2306.570068359375, \"Low\": 2270.419921875, \"Close\": 2277.7099609375, \"Volume\": 244900, \"Dividends\": 0, \"Stock Splits\": 0, \"ticker\": \"BKNG\"}, {\"Date\": \"2021-08-31T00:00:00\", \"Open\": 2286.02001953125, \"High\": 2316.080078125, \"Low\": 2284.139892578125, \"Close\": 2299.669921875, \"Volume\": 388400, \"Dividends\": 0, \"Stock Splits\": 0, \"ticker\": \"BKNG\"}, {\"Date\": \"2021-09-01T00:00:00\", \"Open\": 2305.860107421875, \"High\": 2330.0, \"Low\": 2285.0, \"Close\": 2286.85009765625, \"Volume\": 324700, \"Dividends\": 0, \"Stock Splits\": 0, \"ticker\": \"BKNG\"}, {\"Date\": \"2021-09-02T00:00:00\", \"Open\": 2304.239990234375, \"High\": 2326.7900390625, \"Low\": 2282.77001953125, \"Close\": 2300.4599609375, \"Volume\": 231800, \"Dividends\": 0, \"Stock Splits\": 0, \"ticker\": \"BKNG\"}, {\"Date\": \"2021-09-03T00:00:00\", \"Open\": 2284.280029296875, \"High\": 2311.739990234375, \"Low\": 2276.5, \"Close\": 2304.449951171875, \"Volume\": 196500, \"Dividends\": 0, \"Stock Splits\": 0, \"ticker\": \"BKNG\"}, {\"Date\": \"2021-09-07T00:00:00\", \"Open\": 2307.909912109375, \"High\": 2342.010009765625, \"Low\": 2305.280029296875, \"Close\": 2338.570068359375, \"Volume\": 238900, \"Dividends\": 0, \"Stock Splits\": 0, \"ticker\": \"BKNG\"}, {\"Date\": \"2021-09-08T00:00:00\", \"Open\": 2340.0, \"High\": 2356.0, \"Low\": 2296.35009765625, \"Close\": 2315.949951171875, \"Volume\": 264700, \"Dividends\": 0, \"Stock Splits\": 0, \"ticker\": \"BKNG\"}, {\"Date\": \"2021-09-09T00:00:00\", \"Open\": 2306.280029296875, \"High\": 2345.429931640625, \"Low\": 2304.1298828125, \"Close\": 2318.669921875, \"Volume\": 223700, \"Dividends\": 0, \"Stock Splits\": 0, \"ticker\": \"BKNG\"}, {\"Date\": \"2021-09-10T00:00:00\", \"Open\": 2330.0, \"High\": 2345.0, \"Low\": 2301.6298828125, \"Close\": 2304.800048828125, \"Volume\": 242200, \"Dividends\": 0, \"Stock Splits\": 0, \"ticker\": \"BKNG\"}, {\"Date\": \"2021-09-13T00:00:00\", \"Open\": 2314.5, \"High\": 2329.0, \"Low\": 2275.169921875, \"Close\": 2322.1201171875, \"Volume\": 232300, \"Dividends\": 0, \"Stock Splits\": 0, \"ticker\": \"BKNG\"}, {\"Date\": \"2021-09-14T00:00:00\", \"Open\": 2323.050048828125, \"High\": 2343.56005859375, \"Low\": 2310.64990234375, \"Close\": 2328.659912109375, \"Volume\": 172000, \"Dividends\": 0, \"Stock Splits\": 0, \"ticker\": \"BKNG\"}, {\"Date\": \"2021-09-15T00:00:00\", \"Open\": 2328.800048828125, \"High\": 2378.10009765625, \"Low\": 2315.320068359375, \"Close\": 2375.969970703125, \"Volume\": 249000, \"Dividends\": 0, \"Stock Splits\": 0, \"ticker\": \"BKNG\"}, {\"Date\": \"2021-09-16T00:00:00\", \"Open\": 2368.1201171875, \"High\": 2387.77001953125, \"Low\": 2338.169921875, \"Close\": 2345.0, \"Volume\": 243000, \"Dividends\": 0, \"Stock Splits\": 0, \"ticker\": \"BKNG\"}, {\"Date\": \"2021-09-17T00:00:00\", \"Open\": 2350.830078125, \"High\": 2365.179931640625, \"Low\": 2320.0, \"Close\": 2325.3701171875, \"Volume\": 369200, \"Dividends\": 0, \"Stock Splits\": 0, \"ticker\": \"BKNG\"}, {\"Date\": \"2021-09-20T00:00:00\", \"Open\": 2310.0, \"High\": 2345.7900390625, \"Low\": 2285.89990234375, \"Close\": 2340.739990234375, \"Volume\": 311800, \"Dividends\": 0, \"Stock Splits\": 0, \"ticker\": \"BKNG\"}, {\"Date\": \"2021-09-21T00:00:00\", \"Open\": 2363.52001953125, \"High\": 2363.52001953125, \"Low\": 2322.389892578125, \"Close\": 2325.6201171875, \"Volume\": 211100, \"Dividends\": 0, \"Stock Splits\": 0, \"ticker\": \"BKNG\"}, {\"Date\": \"2021-09-22T00:00:00\", \"Open\": 2338.85009765625, \"High\": 2427.2900390625, \"Low\": 2338.85009765625, \"Close\": 2406.110107421875, \"Volume\": 417000, \"Dividends\": 0, \"Stock Splits\": 0, \"ticker\": \"BKNG\"}, {\"Date\": \"2021-09-23T00:00:00\", \"Open\": 2410.64990234375, \"High\": 2488.929931640625, \"Low\": 2410.64990234375, \"Close\": 2475.510009765625, \"Volume\": 419500, \"Dividends\": 0, \"Stock Splits\": 0, \"ticker\": \"BKNG\"}, {\"Date\": \"2021-09-24T00:00:00\", \"Open\": 2452.3798828125, \"High\": 2502.489990234375, \"Low\": 2452.3798828125, \"Close\": 2491.35009765625, \"Volume\": 298900, \"Dividends\": 0, \"Stock Splits\": 0, \"ticker\": \"BKNG\"}, {\"Date\": \"2021-09-27T00:00:00\", \"Open\": 2494.159912109375, \"High\": 2540.0, \"Low\": 2465.760009765625, \"Close\": 2476.52001953125, \"Volume\": 320800, \"Dividends\": 0, \"Stock Splits\": 0, \"ticker\": \"BKNG\"}, {\"Date\": \"2021-09-28T00:00:00\", \"Open\": 2460.0, \"High\": 2479.360107421875, \"Low\": 2422.8798828125, \"Close\": 2432.75, \"Volume\": 309800, \"Dividends\": 0, \"Stock Splits\": 0, \"ticker\": \"BKNG\"}, {\"Date\": \"2021-09-29T00:00:00\", \"Open\": 2436.639892578125, \"High\": 2447.610107421875, \"Low\": 2374.77001953125, \"Close\": 2377.820068359375, \"Volume\": 294300, \"Dividends\": 0, \"Stock Splits\": 0, \"ticker\": \"BKNG\"}, {\"Date\": \"2021-09-30T00:00:00\", \"Open\": 2382.929931640625, \"High\": 2406.39990234375, \"Low\": 2355.0, \"Close\": 2373.8701171875, \"Volume\": 311600, \"Dividends\": 0, \"Stock Splits\": 0, \"ticker\": \"BKNG\"}, {\"Date\": \"2021-10-01T00:00:00\", \"Open\": 2416.840087890625, \"High\": 2476.77001953125, \"Low\": 2416.840087890625, \"Close\": 2455.8701171875, \"Volume\": 306600, \"Dividends\": 0, \"Stock Splits\": 0, \"ticker\": \"BKNG\"}, {\"Date\": \"2021-10-04T00:00:00\", \"Open\": 2455.8701171875, \"High\": 2488.85009765625, \"Low\": 2421.75, \"Close\": 2459.52001953125, \"Volume\": 257400, \"Dividends\": 0, \"Stock Splits\": 0, \"ticker\": \"BKNG\"}, {\"Date\": \"2021-10-05T00:00:00\", \"Open\": 2459.0, \"High\": 2486.909912109375, \"Low\": 2426.070068359375, \"Close\": 2432.340087890625, \"Volume\": 267300, \"Dividends\": 0, \"Stock Splits\": 0, \"ticker\": \"BKNG\"}, {\"Date\": \"2021-10-06T00:00:00\", \"Open\": 2400.0, \"High\": 2452.360107421875, \"Low\": 2384.0, \"Close\": 2448.199951171875, \"Volume\": 239900, \"Dividends\": 0, \"Stock Splits\": 0, \"ticker\": \"BKNG\"}, {\"Date\": \"2021-10-07T00:00:00\", \"Open\": 2473.02001953125, \"High\": 2497.18994140625, \"Low\": 2466.449951171875, \"Close\": 2469.0, \"Volume\": 156800, \"Dividends\": 0, \"Stock Splits\": 0, \"ticker\": \"BKNG\"}, {\"Date\": \"2021-10-08T00:00:00\", \"Open\": 2473.68994140625, \"High\": 2490.989990234375, \"Low\": 2462.840087890625, \"Close\": 2474.3701171875, \"Volume\": 164300, \"Dividends\": 0, \"Stock Splits\": 0, \"ticker\": \"BKNG\"}, {\"Date\": \"2021-10-11T00:00:00\", \"Open\": 2480.489990234375, \"High\": 2507.909912109375, \"Low\": 2463.18994140625, \"Close\": 2467.409912109375, \"Volume\": 150500, \"Dividends\": 0, \"Stock Splits\": 0, \"ticker\": \"BKNG\"}, {\"Date\": \"2021-10-12T00:00:00\", \"Open\": 2470.489990234375, \"High\": 2497.85009765625, \"Low\": 2453.449951171875, \"Close\": 2464.699951171875, \"Volume\": 220100, \"Dividends\": 0, \"Stock Splits\": 0, \"ticker\": \"BKNG\"}, {\"Date\": \"2021-10-13T00:00:00\", \"Open\": 2465.0, \"High\": 2481.97998046875, \"Low\": 2436.27001953125, \"Close\": 2462.530029296875, \"Volume\": 178500, \"Dividends\": 0, \"Stock Splits\": 0, \"ticker\": \"BKNG\"}, {\"Date\": \"2021-10-14T00:00:00\", \"Open\": 2482.60009765625, \"High\": 2515.719970703125, \"Low\": 2474.5, \"Close\": 2496.219970703125, \"Volume\": 278400, \"Dividends\": 0, \"Stock Splits\": 0, \"ticker\": \"BKNG\"}, {\"Date\": \"2021-10-15T00:00:00\", \"Open\": 2520.0, \"High\": 2540.0, \"Low\": 2515.5, \"Close\": 2538.340087890625, \"Volume\": 233300, \"Dividends\": 0, \"Stock Splits\": 0, \"ticker\": \"BKNG\"}, {\"Date\": \"2021-10-18T00:00:00\", \"Open\": 2520.35009765625, \"High\": 2538.0, \"Low\": 2494.3701171875, \"Close\": 2502.1298828125, \"Volume\": 209800, \"Dividends\": 0, \"Stock Splits\": 0, \"ticker\": \"BKNG\"}, {\"Date\": \"2021-10-19T00:00:00\", \"Open\": 2502.52001953125, \"High\": 2503.260009765625, \"Low\": 2455.780029296875, \"Close\": 2463.10009765625, \"Volume\": 274600, \"Dividends\": 0, \"Stock Splits\": 0, \"ticker\": \"BKNG\"}, {\"Date\": \"2021-10-20T00:00:00\", \"Open\": 2465.010009765625, \"High\": 2465.010009765625, \"Low\": 2368.739990234375, \"Close\": 2384.179931640625, \"Volume\": 406900, \"Dividends\": 0, \"Stock Splits\": 0, \"ticker\": \"BKNG\"}, {\"Date\": \"2021-10-21T00:00:00\", \"Open\": 2400.550048828125, \"High\": 2419.830078125, \"Low\": 2390.030029296875, \"Close\": 2411.1298828125, \"Volume\": 212500, \"Dividends\": 0, \"Stock Splits\": 0, \"ticker\": \"BKNG\"}, {\"Date\": \"2021-10-22T00:00:00\", \"Open\": 2407.110107421875, \"High\": 2438.9599609375, \"Low\": 2385.719970703125, \"Close\": 2394.590087890625, \"Volume\": 161900, \"Dividends\": 0, \"Stock Splits\": 0, \"ticker\": \"BKNG\"}, {\"Date\": \"2021-10-25T00:00:00\", \"Open\": 2397.840087890625, \"High\": 2420.52001953125, \"Low\": 2371.81005859375, \"Close\": 2412.97998046875, \"Volume\": 142400, \"Dividends\": 0, \"Stock Splits\": 0, \"ticker\": \"BKNG\"}, {\"Date\": \"2021-10-26T00:00:00\", \"Open\": 2422.89990234375, \"High\": 2465.0, \"Low\": 2422.89990234375, \"Close\": 2443.030029296875, \"Volume\": 175400, \"Dividends\": 0, \"Stock Splits\": 0, \"ticker\": \"BKNG\"}, {\"Date\": \"2021-10-27T00:00:00\", \"Open\": 2431.3701171875, \"High\": 2457.590087890625, \"Low\": 2410.0, \"Close\": 2428.090087890625, \"Volume\": 195800, \"Dividends\": 0, \"Stock Splits\": 0, \"ticker\": \"BKNG\"}, {\"Date\": \"2021-10-28T00:00:00\", \"Open\": 2426.02001953125, \"High\": 2431.239990234375, \"Low\": 2395.590087890625, \"Close\": 2429.77001953125, \"Volume\": 149400, \"Dividends\": 0, \"Stock Splits\": 0, \"ticker\": \"BKNG\"}, {\"Date\": \"2021-10-29T00:00:00\", \"Open\": 2418.889892578125, \"High\": 2430.110107421875, \"Low\": 2392.18994140625, \"Close\": 2420.780029296875, \"Volume\": 216500, \"Dividends\": 0, \"Stock Splits\": 0, \"ticker\": \"BKNG\"}, {\"Date\": \"2021-11-01T00:00:00\", \"Open\": 2420.1298828125, \"High\": 2490.0, \"Low\": 2420.1298828125, \"Close\": 2489.68994140625, \"Volume\": 289800, \"Dividends\": 0, \"Stock Splits\": 0, \"ticker\": \"BKNG\"}, {\"Date\": \"2021-11-02T00:00:00\", \"Open\": 2475.679931640625, \"High\": 2494.0400390625, \"Low\": 2420.639892578125, \"Close\": 2453.830078125, \"Volume\": 273000, \"Dividends\": 0, \"Stock Splits\": 0, \"ticker\": \"BKNG\"}, {\"Date\": \"2021-11-03T00:00:00\", \"Open\": 2443.320068359375, \"High\": 2474.989990234375, \"Low\": 2405.0, \"Close\": 2435.330078125, \"Volume\": 361500, \"Dividends\": 0, \"Stock Splits\": 0, \"ticker\": \"BKNG\"}, {\"Date\": \"2021-11-04T00:00:00\", \"Open\": 2539.0, \"High\": 2539.3798828125, \"Low\": 2432.2900390625, \"Close\": 2437.010009765625, \"Volume\": 533100, \"Dividends\": 0, \"Stock Splits\": 0, \"ticker\": \"BKNG\"}, {\"Date\": \"2021-11-05T00:00:00\", \"Open\": 2544.340087890625, \"High\": 2631.679931640625, \"Low\": 2515.64990234375, \"Close\": 2618.969970703125, \"Volume\": 755000, \"Dividends\": 0, \"Stock Splits\": 0, \"ticker\": \"BKNG\"}, {\"Date\": \"2021-11-08T00:00:00\", \"Open\": 2659.0, \"High\": 2687.2900390625, \"Low\": 2600.050048828125, \"Close\": 2639.860107421875, \"Volume\": 497200, \"Dividends\": 0, \"Stock Splits\": 0, \"ticker\": \"BKNG\"}, {\"Date\": \"2021-11-09T00:00:00\", \"Open\": 2639.0, \"High\": 2687.0, \"Low\": 2621.18994140625, \"Close\": 2648.199951171875, \"Volume\": 407300, \"Dividends\": 0, \"Stock Splits\": 0, \"ticker\": \"BKNG\"}, {\"Date\": \"2021-11-10T00:00:00\", \"Open\": 2658.860107421875, \"High\": 2669.909912109375, \"Low\": 2560.0, \"Close\": 2569.780029296875, \"Volume\": 366100, \"Dividends\": 0, \"Stock Splits\": 0, \"ticker\": \"BKNG\"}, {\"Date\": \"2021-11-11T00:00:00\", \"Open\": 2573.260009765625, \"High\": 2575.330078125, \"Low\": 2475.18994140625, \"Close\": 2479.0400390625, \"Volume\": 342300, \"Dividends\": 0, \"Stock Splits\": 0, \"ticker\": \"BKNG\"}, {\"Date\": \"2021-11-12T00:00:00\", \"Open\": 2495.659912109375, \"High\": 2495.659912109375, \"Low\": 2442.419921875, \"Close\": 2451.64990234375, \"Volume\": 316800, \"Dividends\": 0, \"Stock Splits\": 0, \"ticker\": \"BKNG\"}, {\"Date\": \"2021-11-15T00:00:00\", \"Open\": 2455.0, \"High\": 2464.0, \"Low\": 2400.22998046875, \"Close\": 2405.010009765625, \"Volume\": 337100, \"Dividends\": 0, \"Stock Splits\": 0, \"ticker\": \"BKNG\"}, {\"Date\": \"2021-11-16T00:00:00\", \"Open\": 2412.1298828125, \"High\": 2412.1298828125, \"Low\": 2367.02001953125, \"Close\": 2380.330078125, \"Volume\": 431200, \"Dividends\": 0, \"Stock Splits\": 0, \"ticker\": \"BKNG\"}, {\"Date\": \"2021-11-17T00:00:00\", \"Open\": 2386.2099609375, \"High\": 2402.7900390625, \"Low\": 2354.8701171875, \"Close\": 2366.3798828125, \"Volume\": 457800, \"Dividends\": 0, \"Stock Splits\": 0, \"ticker\": \"BKNG\"}, {\"Date\": \"2021-11-18T00:00:00\", \"Open\": 2374.14990234375, \"High\": 2387.050048828125, \"Low\": 2335.840087890625, \"Close\": 2375.97998046875, \"Volume\": 340500, \"Dividends\": 0, \"Stock Splits\": 0, \"ticker\": \"BKNG\"}, {\"Date\": \"2021-11-19T00:00:00\", \"Open\": 2314.8701171875, \"High\": 2358.070068359375, \"Low\": 2278.0, \"Close\": 2339.989990234375, \"Volume\": 485400, \"Dividends\": 0, \"Stock Splits\": 0, \"ticker\": \"BKNG\"}, {\"Date\": \"2021-08-24T00:00:00\", \"Open\": 25.81999969482422, \"High\": 26.5, \"Low\": 25.540000915527344, \"Close\": 26.5, \"Volume\": 428400, \"Dividends\": 0, \"Stock Splits\": 0, \"ticker\": \"AWAY\"}, {\"Date\": \"2021-08-25T00:00:00\", \"Open\": 26.65999984741211, \"High\": 26.947999954223633, \"Low\": 26.5, \"Close\": 26.90999984741211, \"Volume\": 195300, \"Dividends\": 0, \"Stock Splits\": 0, \"ticker\": \"AWAY\"}, {\"Date\": \"2021-08-26T00:00:00\", \"Open\": 26.899999618530273, \"High\": 26.948999404907227, \"Low\": 26.354000091552734, \"Close\": 26.420000076293945, \"Volume\": 104900, \"Dividends\": 0, \"Stock Splits\": 0, \"ticker\": \"AWAY\"}, {\"Date\": \"2021-08-27T00:00:00\", \"Open\": 26.559999465942383, \"High\": 26.8799991607666, \"Low\": 26.503000259399414, \"Close\": 26.729999542236328, \"Volume\": 68800, \"Dividends\": 0, \"Stock Splits\": 0, \"ticker\": \"AWAY\"}, {\"Date\": \"2021-08-30T00:00:00\", \"Open\": 26.950000762939453, \"High\": 26.950000762939453, \"Low\": 26.538999557495117, \"Close\": 26.59000015258789, \"Volume\": 105700, \"Dividends\": 0, \"Stock Splits\": 0, \"ticker\": \"AWAY\"}, {\"Date\": \"2021-08-31T00:00:00\", \"Open\": 26.739999771118164, \"High\": 27.003000259399414, \"Low\": 26.65999984741211, \"Close\": 26.950000762939453, \"Volume\": 83100, \"Dividends\": 0, \"Stock Splits\": 0, \"ticker\": \"AWAY\"}, {\"Date\": \"2021-09-01T00:00:00\", \"Open\": 27.360000610351562, \"High\": 27.575000762939453, \"Low\": 27.219999313354492, \"Close\": 27.3700008392334, \"Volume\": 82200, \"Dividends\": 0, \"Stock Splits\": 0, \"ticker\": \"AWAY\"}, {\"Date\": \"2021-09-02T00:00:00\", \"Open\": 27.239999771118164, \"High\": 27.479000091552734, \"Low\": 27.030000686645508, \"Close\": 27.06999969482422, \"Volume\": 144700, \"Dividends\": 0, \"Stock Splits\": 0, \"ticker\": \"AWAY\"}, {\"Date\": \"2021-09-03T00:00:00\", \"Open\": 27.100000381469727, \"High\": 27.260000228881836, \"Low\": 26.854999542236328, \"Close\": 27.040000915527344, \"Volume\": 58500, \"Dividends\": 0, \"Stock Splits\": 0, \"ticker\": \"AWAY\"}, {\"Date\": \"2021-09-07T00:00:00\", \"Open\": 27.100000381469727, \"High\": 27.389999389648438, \"Low\": 27.010000228881836, \"Close\": 27.360000610351562, \"Volume\": 98500, \"Dividends\": 0, \"Stock Splits\": 0, \"ticker\": \"AWAY\"}, {\"Date\": \"2021-09-08T00:00:00\", \"Open\": 27.5, \"High\": 27.59000015258789, \"Low\": 27.049999237060547, \"Close\": 27.239999771118164, \"Volume\": 102800, \"Dividends\": 0, \"Stock Splits\": 0, \"ticker\": \"AWAY\"}, {\"Date\": \"2021-09-09T00:00:00\", \"Open\": 27.170000076293945, \"High\": 27.420000076293945, \"Low\": 27.020000457763672, \"Close\": 27.260000228881836, \"Volume\": 207300, \"Dividends\": 0, \"Stock Splits\": 0, \"ticker\": \"AWAY\"}, {\"Date\": \"2021-09-10T00:00:00\", \"Open\": 27.299999237060547, \"High\": 27.68000030517578, \"Low\": 26.969999313354492, \"Close\": 27.0, \"Volume\": 91900, \"Dividends\": 0, \"Stock Splits\": 0, \"ticker\": \"AWAY\"}, {\"Date\": \"2021-09-13T00:00:00\", \"Open\": 27.09000015258789, \"High\": 27.280000686645508, \"Low\": 26.700000762939453, \"Close\": 27.06999969482422, \"Volume\": 176900, \"Dividends\": 0, \"Stock Splits\": 0, \"ticker\": \"AWAY\"}, {\"Date\": \"2021-09-14T00:00:00\", \"Open\": 27.31999969482422, \"High\": 27.31999969482422, \"Low\": 26.809999465942383, \"Close\": 26.889999389648438, \"Volume\": 74800, \"Dividends\": 0, \"Stock Splits\": 0, \"ticker\": \"AWAY\"}, {\"Date\": \"2021-09-15T00:00:00\", \"Open\": 26.690000534057617, \"High\": 26.940000534057617, \"Low\": 26.5, \"Close\": 26.84000015258789, \"Volume\": 277700, \"Dividends\": 0, \"Stock Splits\": 0, \"ticker\": \"AWAY\"}, {\"Date\": \"2021-09-16T00:00:00\", \"Open\": 26.639999389648438, \"High\": 26.899999618530273, \"Low\": 26.549999237060547, \"Close\": 26.829999923706055, \"Volume\": 62600, \"Dividends\": 0, \"Stock Splits\": 0, \"ticker\": \"AWAY\"}, {\"Date\": \"2021-09-17T00:00:00\", \"Open\": 27.0, \"High\": 27.15999984741211, \"Low\": 26.799999237060547, \"Close\": 26.860000610351562, \"Volume\": 42700, \"Dividends\": 0, \"Stock Splits\": 0, \"ticker\": \"AWAY\"}, {\"Date\": \"2021-09-20T00:00:00\", \"Open\": 26.079999923706055, \"High\": 26.6200008392334, \"Low\": 26.040000915527344, \"Close\": 26.399999618530273, \"Volume\": 101800, \"Dividends\": 0, \"Stock Splits\": 0, \"ticker\": \"AWAY\"}, {\"Date\": \"2021-09-21T00:00:00\", \"Open\": 27.049999237060547, \"High\": 27.350000381469727, \"Low\": 27.010000228881836, \"Close\": 27.25, \"Volume\": 217800, \"Dividends\": 0, \"Stock Splits\": 0, \"ticker\": \"AWAY\"}, {\"Date\": \"2021-09-22T00:00:00\", \"Open\": 27.420000076293945, \"High\": 27.760000228881836, \"Low\": 27.420000076293945, \"Close\": 27.59000015258789, \"Volume\": 128900, \"Dividends\": 0, \"Stock Splits\": 0, \"ticker\": \"AWAY\"}, {\"Date\": \"2021-09-23T00:00:00\", \"Open\": 27.93000030517578, \"High\": 28.510000228881836, \"Low\": 27.93000030517578, \"Close\": 28.510000228881836, \"Volume\": 685900, \"Dividends\": 0, \"Stock Splits\": 0, \"ticker\": \"AWAY\"}, {\"Date\": \"2021-09-24T00:00:00\", \"Open\": 28.299999237060547, \"High\": 28.739999771118164, \"Low\": 28.299999237060547, \"Close\": 28.729999542236328, \"Volume\": 232900, \"Dividends\": 0, \"Stock Splits\": 0, \"ticker\": \"AWAY\"}, {\"Date\": \"2021-09-27T00:00:00\", \"Open\": 28.84000015258789, \"High\": 29.1200008392334, \"Low\": 28.84000015258789, \"Close\": 28.969999313354492, \"Volume\": 485500, \"Dividends\": 0, \"Stock Splits\": 0, \"ticker\": \"AWAY\"}, {\"Date\": \"2021-09-28T00:00:00\", \"Open\": 28.780000686645508, \"High\": 28.780000686645508, \"Low\": 28.1200008392334, \"Close\": 28.139999389648438, \"Volume\": 184200, \"Dividends\": 0, \"Stock Splits\": 0, \"ticker\": \"AWAY\"}, {\"Date\": \"2021-09-29T00:00:00\", \"Open\": 28.360000610351562, \"High\": 28.6299991607666, \"Low\": 27.96500015258789, \"Close\": 28.0, \"Volume\": 90800, \"Dividends\": 0, \"Stock Splits\": 0, \"ticker\": \"AWAY\"}, {\"Date\": \"2021-09-30T00:00:00\", \"Open\": 28.25, \"High\": 28.454999923706055, \"Low\": 28.049999237060547, \"Close\": 28.389999389648438, \"Volume\": 151600, \"Dividends\": 0, \"Stock Splits\": 0, \"ticker\": \"AWAY\"}, {\"Date\": \"2021-10-01T00:00:00\", \"Open\": 28.600000381469727, \"High\": 29.264999389648438, \"Low\": 28.600000381469727, \"Close\": 29.260000228881836, \"Volume\": 216300, \"Dividends\": 0, \"Stock Splits\": 0, \"ticker\": \"AWAY\"}, {\"Date\": \"2021-10-04T00:00:00\", \"Open\": 29.110000610351562, \"High\": 29.166000366210938, \"Low\": 28.475000381469727, \"Close\": 28.540000915527344, \"Volume\": 232900, \"Dividends\": 0, \"Stock Splits\": 0, \"ticker\": \"AWAY\"}, {\"Date\": \"2021-10-05T00:00:00\", \"Open\": 28.770000457763672, \"High\": 28.920000076293945, \"Low\": 28.540000915527344, \"Close\": 28.670000076293945, \"Volume\": 111900, \"Dividends\": 0, \"Stock Splits\": 0, \"ticker\": \"AWAY\"}, {\"Date\": \"2021-10-06T00:00:00\", \"Open\": 27.889999389648438, \"High\": 28.290000915527344, \"Low\": 27.610000610351562, \"Close\": 28.209999084472656, \"Volume\": 117200, \"Dividends\": 0, \"Stock Splits\": 0, \"ticker\": \"AWAY\"}, {\"Date\": \"2021-10-07T00:00:00\", \"Open\": 28.489999771118164, \"High\": 28.649999618530273, \"Low\": 28.350000381469727, \"Close\": 28.56999969482422, \"Volume\": 842700, \"Dividends\": 0, \"Stock Splits\": 0, \"ticker\": \"AWAY\"}, {\"Date\": \"2021-10-08T00:00:00\", \"Open\": 28.829999923706055, \"High\": 29.09000015258789, \"Low\": 28.719999313354492, \"Close\": 28.8700008392334, \"Volume\": 91000, \"Dividends\": 0, \"Stock Splits\": 0, \"ticker\": \"AWAY\"}, {\"Date\": \"2021-10-11T00:00:00\", \"Open\": 28.889999389648438, \"High\": 28.954999923706055, \"Low\": 28.459999084472656, \"Close\": 28.5, \"Volume\": 77800, \"Dividends\": 0, \"Stock Splits\": 0, \"ticker\": \"AWAY\"}, {\"Date\": \"2021-10-12T00:00:00\", \"Open\": 28.59000015258789, \"High\": 28.670000076293945, \"Low\": 28.40999984741211, \"Close\": 28.459999084472656, \"Volume\": 82500, \"Dividends\": 0, \"Stock Splits\": 0, \"ticker\": \"AWAY\"}, {\"Date\": \"2021-10-13T00:00:00\", \"Open\": 28.610000610351562, \"High\": 28.739999771118164, \"Low\": 28.399999618530273, \"Close\": 28.6200008392334, \"Volume\": 70300, \"Dividends\": 0, \"Stock Splits\": 0, \"ticker\": \"AWAY\"}, {\"Date\": \"2021-10-14T00:00:00\", \"Open\": 28.81999969482422, \"High\": 28.850000381469727, \"Low\": 28.65999984741211, \"Close\": 28.739999771118164, \"Volume\": 110300, \"Dividends\": 0, \"Stock Splits\": 0, \"ticker\": \"AWAY\"}, {\"Date\": \"2021-10-15T00:00:00\", \"Open\": 29.049999237060547, \"High\": 29.280000686645508, \"Low\": 29.010000228881836, \"Close\": 29.139999389648438, \"Volume\": 134900, \"Dividends\": 0, \"Stock Splits\": 0, \"ticker\": \"AWAY\"}, {\"Date\": \"2021-10-18T00:00:00\", \"Open\": 28.969999313354492, \"High\": 29.059999465942383, \"Low\": 28.809999465942383, \"Close\": 28.860000610351562, \"Volume\": 169500, \"Dividends\": 0, \"Stock Splits\": 0, \"ticker\": \"AWAY\"}, {\"Date\": \"2021-10-19T00:00:00\", \"Open\": 28.90999984741211, \"High\": 28.90999984741211, \"Low\": 28.719999313354492, \"Close\": 28.739999771118164, \"Volume\": 154000, \"Dividends\": 0, \"Stock Splits\": 0, \"ticker\": \"AWAY\"}, {\"Date\": \"2021-10-20T00:00:00\", \"Open\": 28.700000762939453, \"High\": 28.700000762939453, \"Low\": 28.309999465942383, \"Close\": 28.350000381469727, \"Volume\": 144200, \"Dividends\": 0, \"Stock Splits\": 0, \"ticker\": \"AWAY\"}, {\"Date\": \"2021-10-21T00:00:00\", \"Open\": 28.110000610351562, \"High\": 28.240999221801758, \"Low\": 27.950000762939453, \"Close\": 28.0, \"Volume\": 855700, \"Dividends\": 0, \"Stock Splits\": 0, \"ticker\": \"AWAY\"}, {\"Date\": \"2021-10-22T00:00:00\", \"Open\": 27.940000534057617, \"High\": 27.940000534057617, \"Low\": 27.360000610351562, \"Close\": 27.43000030517578, \"Volume\": 174000, \"Dividends\": 0, \"Stock Splits\": 0, \"ticker\": \"AWAY\"}, {\"Date\": \"2021-10-25T00:00:00\", \"Open\": 27.450000762939453, \"High\": 27.530000686645508, \"Low\": 27.187000274658203, \"Close\": 27.399999618530273, \"Volume\": 407300, \"Dividends\": 0, \"Stock Splits\": 0, \"ticker\": \"AWAY\"}, {\"Date\": \"2021-10-26T00:00:00\", \"Open\": 27.610000610351562, \"High\": 27.770000457763672, \"Low\": 27.334999084472656, \"Close\": 27.399999618530273, \"Volume\": 127200, \"Dividends\": 0, \"Stock Splits\": 0, \"ticker\": \"AWAY\"}, {\"Date\": \"2021-10-27T00:00:00\", \"Open\": 27.31999969482422, \"High\": 27.450000762939453, \"Low\": 27.200000762939453, \"Close\": 27.239999771118164, \"Volume\": 107500, \"Dividends\": 0, \"Stock Splits\": 0, \"ticker\": \"AWAY\"}, {\"Date\": \"2021-10-28T00:00:00\", \"Open\": 27.350000381469727, \"High\": 27.6299991607666, \"Low\": 27.219999313354492, \"Close\": 27.600000381469727, \"Volume\": 61700, \"Dividends\": 0, \"Stock Splits\": 0, \"ticker\": \"AWAY\"}, {\"Date\": \"2021-10-29T00:00:00\", \"Open\": 27.459999084472656, \"High\": 27.549999237060547, \"Low\": 27.100000381469727, \"Close\": 27.239999771118164, \"Volume\": 158600, \"Dividends\": 0, \"Stock Splits\": 0, \"ticker\": \"AWAY\"}, {\"Date\": \"2021-11-01T00:00:00\", \"Open\": 27.309999465942383, \"High\": 27.799999237060547, \"Low\": 27.309999465942383, \"Close\": 27.790000915527344, \"Volume\": 107500, \"Dividends\": 0, \"Stock Splits\": 0, \"ticker\": \"AWAY\"}, {\"Date\": \"2021-11-02T00:00:00\", \"Open\": 27.799999237060547, \"High\": 27.899999618530273, \"Low\": 27.149999618530273, \"Close\": 27.200000762939453, \"Volume\": 232900, \"Dividends\": 0, \"Stock Splits\": 0, \"ticker\": \"AWAY\"}, {\"Date\": \"2021-11-03T00:00:00\", \"Open\": 27.299999237060547, \"High\": 27.5, \"Low\": 27.100000381469727, \"Close\": 27.469999313354492, \"Volume\": 234100, \"Dividends\": 0, \"Stock Splits\": 0, \"ticker\": \"AWAY\"}, {\"Date\": \"2021-11-04T00:00:00\", \"Open\": 27.579999923706055, \"High\": 27.579999923706055, \"Low\": 27.15999984741211, \"Close\": 27.219999313354492, \"Volume\": 253800, \"Dividends\": 0, \"Stock Splits\": 0, \"ticker\": \"AWAY\"}, {\"Date\": \"2021-11-05T00:00:00\", \"Open\": 28.420000076293945, \"High\": 28.719999313354492, \"Low\": 28.280000686645508, \"Close\": 28.700000762939453, \"Volume\": 1390500, \"Dividends\": 0, \"Stock Splits\": 0, \"ticker\": \"AWAY\"}, {\"Date\": \"2021-11-08T00:00:00\", \"Open\": 29.850000381469727, \"High\": 29.860000610351562, \"Low\": 29.360000610351562, \"Close\": 29.389999389648438, \"Volume\": 968900, \"Dividends\": 0, \"Stock Splits\": 0, \"ticker\": \"AWAY\"}, {\"Date\": \"2021-11-09T00:00:00\", \"Open\": 29.290000915527344, \"High\": 29.290000915527344, \"Low\": 28.6299991607666, \"Close\": 28.889999389648438, \"Volume\": 393300, \"Dividends\": 0, \"Stock Splits\": 0, \"ticker\": \"AWAY\"}, {\"Date\": \"2021-11-10T00:00:00\", \"Open\": 28.610000610351562, \"High\": 28.700000762939453, \"Low\": 27.940000534057617, \"Close\": 28.15999984741211, \"Volume\": 563700, \"Dividends\": 0, \"Stock Splits\": 0, \"ticker\": \"AWAY\"}, {\"Date\": \"2021-11-11T00:00:00\", \"Open\": 28.440000534057617, \"High\": 28.440000534057617, \"Low\": 28.030000686645508, \"Close\": 28.09000015258789, \"Volume\": 197600, \"Dividends\": 0, \"Stock Splits\": 0, \"ticker\": \"AWAY\"}, {\"Date\": \"2021-11-12T00:00:00\", \"Open\": 28.09000015258789, \"High\": 28.1200008392334, \"Low\": 27.915000915527344, \"Close\": 28.100000381469727, \"Volume\": 222600, \"Dividends\": 0, \"Stock Splits\": 0, \"ticker\": \"AWAY\"}, {\"Date\": \"2021-11-15T00:00:00\", \"Open\": 28.31999969482422, \"High\": 28.31999969482422, \"Low\": 27.959999084472656, \"Close\": 28.010000228881836, \"Volume\": 159400, \"Dividends\": 0, \"Stock Splits\": 0, \"ticker\": \"AWAY\"}, {\"Date\": \"2021-11-16T00:00:00\", \"Open\": 28.0, \"High\": 28.0, \"Low\": 27.579999923706055, \"Close\": 27.649999618530273, \"Volume\": 345800, \"Dividends\": 0, \"Stock Splits\": 0, \"ticker\": \"AWAY\"}, {\"Date\": \"2021-11-17T00:00:00\", \"Open\": 27.530000686645508, \"High\": 27.75, \"Low\": 27.18000030517578, \"Close\": 27.260000228881836, \"Volume\": 388100, \"Dividends\": 0, \"Stock Splits\": 0, \"ticker\": \"AWAY\"}, {\"Date\": \"2021-11-18T00:00:00\", \"Open\": 27.239999771118164, \"High\": 27.239999771118164, \"Low\": 26.68000030517578, \"Close\": 27.049999237060547, \"Volume\": 310400, \"Dividends\": 0, \"Stock Splits\": 0, \"ticker\": \"AWAY\"}, {\"Date\": \"2021-11-19T00:00:00\", \"Open\": 26.719999313354492, \"High\": 26.719999313354492, \"Low\": 26.450000762939453, \"Close\": 26.520000457763672, \"Volume\": 311800, \"Dividends\": 0, \"Stock Splits\": 0, \"ticker\": \"AWAY\"}]}}, {\"mode\": \"vega-lite\"});\n",
       "</script>"
      ],
      "text/plain": [
       "alt.Chart(...)"
      ]
     },
     "execution_count": 12,
     "metadata": {},
     "output_type": "execute_result"
    }
   ],
   "source": [
    "alt.Chart(watchlist_df).mark_line().encode(x='Date',y='Volume', color = 'ticker:N')"
   ]
  },
  {
   "cell_type": "code",
   "execution_count": 83,
   "metadata": {},
   "outputs": [
    {
     "name": "stdout",
     "output_type": "stream",
     "text": [
      "Recent News of JETS :\n",
      "================================================================\n"
     ]
    },
    {
     "data": {
      "application/vnd.plotly.v1+json": {
       "config": {
        "plotlyServerURL": "https://plot.ly"
       },
       "data": [
        {
         "hovertemplate": "variable=open<br>date=%{x}<br>value=%{y}<extra></extra>",
         "legendgroup": "open",
         "line": {
          "color": "#636efa",
          "dash": "solid"
         },
         "mode": "lines",
         "name": "open",
         "orientation": "v",
         "showlegend": true,
         "type": "scatter",
         "x": [
          "2021-10-25",
          "2021-10-26",
          "2021-10-27",
          "2021-10-28",
          "2021-10-29",
          "2021-11-01",
          "2021-11-02",
          "2021-11-03",
          "2021-11-04",
          "2021-11-05",
          "2021-11-08",
          "2021-11-09",
          "2021-11-10",
          "2021-11-11",
          "2021-11-12",
          "2021-11-15",
          "2021-11-16",
          "2021-11-17",
          "2021-11-18",
          "2021-11-19",
          "2021-11-22",
          "2021-11-23"
         ],
         "xaxis": "x",
         "y": [
          22.6200008392334,
          22.739999771118164,
          22.65999984741211,
          22.290000915527344,
          22.34000015258789,
          22.209999084472656,
          22.8799991607666,
          22.700000762939453,
          23.440000534057617,
          24.329999923706055,
          24.950000762939453,
          24.700000762939453,
          24.31999969482422,
          24.040000915527344,
          23.899999618530273,
          23.600000381469727,
          23.5,
          22.920000076293945,
          22.90999984741211,
          22.25,
          22.239999771118164,
          22.329999923706055
         ],
         "yaxis": "y"
        },
        {
         "hovertemplate": "variable=high<br>date=%{x}<br>value=%{y}<extra></extra>",
         "legendgroup": "high",
         "line": {
          "color": "#EF553B",
          "dash": "solid"
         },
         "mode": "lines",
         "name": "high",
         "orientation": "v",
         "showlegend": true,
         "type": "scatter",
         "x": [
          "2021-10-25",
          "2021-10-26",
          "2021-10-27",
          "2021-10-28",
          "2021-10-29",
          "2021-11-01",
          "2021-11-02",
          "2021-11-03",
          "2021-11-04",
          "2021-11-05",
          "2021-11-08",
          "2021-11-09",
          "2021-11-10",
          "2021-11-11",
          "2021-11-12",
          "2021-11-15",
          "2021-11-16",
          "2021-11-17",
          "2021-11-18",
          "2021-11-19",
          "2021-11-22",
          "2021-11-23"
         ],
         "xaxis": "x",
         "y": [
          22.69499969482422,
          22.864999771118164,
          22.670000076293945,
          22.417999267578125,
          22.440000534057617,
          22.8700008392334,
          22.889999389648438,
          23.309999465942383,
          23.440000534057617,
          24.639999389648438,
          25.059999465942383,
          24.729999542236328,
          24.549999237060547,
          24.209999084472656,
          23.93000030517578,
          23.729999542236328,
          23.510000228881836,
          23.049999237060547,
          22.90999984741211,
          22.25,
          22.40999984741211,
          22.5
         ],
         "yaxis": "y"
        },
        {
         "hovertemplate": "variable=close<br>date=%{x}<br>value=%{y}<extra></extra>",
         "legendgroup": "close",
         "line": {
          "color": "#00cc96",
          "dash": "solid"
         },
         "mode": "lines",
         "name": "close",
         "orientation": "v",
         "showlegend": true,
         "type": "scatter",
         "x": [
          "2021-10-25",
          "2021-10-26",
          "2021-10-27",
          "2021-10-28",
          "2021-10-29",
          "2021-11-01",
          "2021-11-02",
          "2021-11-03",
          "2021-11-04",
          "2021-11-05",
          "2021-11-08",
          "2021-11-09",
          "2021-11-10",
          "2021-11-11",
          "2021-11-12",
          "2021-11-15",
          "2021-11-16",
          "2021-11-17",
          "2021-11-18",
          "2021-11-19",
          "2021-11-22",
          "2021-11-23"
         ],
         "xaxis": "x",
         "y": [
          22.579999923706055,
          22.579999923706055,
          22.190000534057617,
          22.360000610351562,
          22.219999313354492,
          22.850000381469727,
          22.729999542236328,
          23.290000915527344,
          23.149999618530273,
          24.6299991607666,
          24.790000915527344,
          24.670000076293945,
          24.040000915527344,
          23.8700008392334,
          23.40999984741211,
          23.559999465942383,
          22.989999771118164,
          22.84000015258789,
          22.469999313354492,
          22.079999923706055,
          22.200000762939453,
          22.100000381469727
         ],
         "yaxis": "y"
        },
        {
         "hovertemplate": "variable=low<br>date=%{x}<br>value=%{y}<extra></extra>",
         "legendgroup": "low",
         "line": {
          "color": "#ab63fa",
          "dash": "solid"
         },
         "mode": "lines",
         "name": "low",
         "orientation": "v",
         "showlegend": true,
         "type": "scatter",
         "x": [
          "2021-10-25",
          "2021-10-26",
          "2021-10-27",
          "2021-10-28",
          "2021-10-29",
          "2021-11-01",
          "2021-11-02",
          "2021-11-03",
          "2021-11-04",
          "2021-11-05",
          "2021-11-08",
          "2021-11-09",
          "2021-11-10",
          "2021-11-11",
          "2021-11-12",
          "2021-11-15",
          "2021-11-16",
          "2021-11-17",
          "2021-11-18",
          "2021-11-19",
          "2021-11-22",
          "2021-11-23"
         ],
         "xaxis": "x",
         "y": [
          22.40999984741211,
          22.459999084472656,
          22.170000076293945,
          22.139999389648438,
          22.09000015258789,
          22.149999618530273,
          22.606000900268555,
          22.59000015258789,
          23.03499984741211,
          24.150999069213867,
          24.700000762939453,
          24.261999130249023,
          23.96500015258789,
          23.860000610351562,
          23.229999542236328,
          23.450000762939453,
          22.889999389648438,
          22.6200008392334,
          22.260000228881836,
          21.79199981689453,
          21.969999313354492,
          21.979999542236328
         ],
         "yaxis": "y"
        },
        {
         "hovertemplate": "variable=adjclose<br>date=%{x}<br>value=%{y}<extra></extra>",
         "legendgroup": "adjclose",
         "line": {
          "color": "#FFA15A",
          "dash": "solid"
         },
         "mode": "lines",
         "name": "adjclose",
         "orientation": "v",
         "showlegend": true,
         "type": "scatter",
         "x": [
          "2021-10-25",
          "2021-10-26",
          "2021-10-27",
          "2021-10-28",
          "2021-10-29",
          "2021-11-01",
          "2021-11-02",
          "2021-11-03",
          "2021-11-04",
          "2021-11-05",
          "2021-11-08",
          "2021-11-09",
          "2021-11-10",
          "2021-11-11",
          "2021-11-12",
          "2021-11-15",
          "2021-11-16",
          "2021-11-17",
          "2021-11-18",
          "2021-11-19",
          "2021-11-22",
          "2021-11-23"
         ],
         "xaxis": "x",
         "y": [
          22.579999923706055,
          22.579999923706055,
          22.190000534057617,
          22.360000610351562,
          22.219999313354492,
          22.850000381469727,
          22.729999542236328,
          23.290000915527344,
          23.149999618530273,
          24.6299991607666,
          24.790000915527344,
          24.670000076293945,
          24.040000915527344,
          23.8700008392334,
          23.40999984741211,
          23.559999465942383,
          22.989999771118164,
          22.84000015258789,
          22.469999313354492,
          22.079999923706055,
          22.200000762939453,
          22.100000381469727
         ],
         "yaxis": "y"
        }
       ],
       "layout": {
        "legend": {
         "title": {
          "text": "variable"
         },
         "tracegroupgap": 0
        },
        "template": {
         "data": {
          "bar": [
           {
            "error_x": {
             "color": "#2a3f5f"
            },
            "error_y": {
             "color": "#2a3f5f"
            },
            "marker": {
             "line": {
              "color": "#E5ECF6",
              "width": 0.5
             },
             "pattern": {
              "fillmode": "overlay",
              "size": 10,
              "solidity": 0.2
             }
            },
            "type": "bar"
           }
          ],
          "barpolar": [
           {
            "marker": {
             "line": {
              "color": "#E5ECF6",
              "width": 0.5
             },
             "pattern": {
              "fillmode": "overlay",
              "size": 10,
              "solidity": 0.2
             }
            },
            "type": "barpolar"
           }
          ],
          "carpet": [
           {
            "aaxis": {
             "endlinecolor": "#2a3f5f",
             "gridcolor": "white",
             "linecolor": "white",
             "minorgridcolor": "white",
             "startlinecolor": "#2a3f5f"
            },
            "baxis": {
             "endlinecolor": "#2a3f5f",
             "gridcolor": "white",
             "linecolor": "white",
             "minorgridcolor": "white",
             "startlinecolor": "#2a3f5f"
            },
            "type": "carpet"
           }
          ],
          "choropleth": [
           {
            "colorbar": {
             "outlinewidth": 0,
             "ticks": ""
            },
            "type": "choropleth"
           }
          ],
          "contour": [
           {
            "colorbar": {
             "outlinewidth": 0,
             "ticks": ""
            },
            "colorscale": [
             [
              0,
              "#0d0887"
             ],
             [
              0.1111111111111111,
              "#46039f"
             ],
             [
              0.2222222222222222,
              "#7201a8"
             ],
             [
              0.3333333333333333,
              "#9c179e"
             ],
             [
              0.4444444444444444,
              "#bd3786"
             ],
             [
              0.5555555555555556,
              "#d8576b"
             ],
             [
              0.6666666666666666,
              "#ed7953"
             ],
             [
              0.7777777777777778,
              "#fb9f3a"
             ],
             [
              0.8888888888888888,
              "#fdca26"
             ],
             [
              1,
              "#f0f921"
             ]
            ],
            "type": "contour"
           }
          ],
          "contourcarpet": [
           {
            "colorbar": {
             "outlinewidth": 0,
             "ticks": ""
            },
            "type": "contourcarpet"
           }
          ],
          "heatmap": [
           {
            "colorbar": {
             "outlinewidth": 0,
             "ticks": ""
            },
            "colorscale": [
             [
              0,
              "#0d0887"
             ],
             [
              0.1111111111111111,
              "#46039f"
             ],
             [
              0.2222222222222222,
              "#7201a8"
             ],
             [
              0.3333333333333333,
              "#9c179e"
             ],
             [
              0.4444444444444444,
              "#bd3786"
             ],
             [
              0.5555555555555556,
              "#d8576b"
             ],
             [
              0.6666666666666666,
              "#ed7953"
             ],
             [
              0.7777777777777778,
              "#fb9f3a"
             ],
             [
              0.8888888888888888,
              "#fdca26"
             ],
             [
              1,
              "#f0f921"
             ]
            ],
            "type": "heatmap"
           }
          ],
          "heatmapgl": [
           {
            "colorbar": {
             "outlinewidth": 0,
             "ticks": ""
            },
            "colorscale": [
             [
              0,
              "#0d0887"
             ],
             [
              0.1111111111111111,
              "#46039f"
             ],
             [
              0.2222222222222222,
              "#7201a8"
             ],
             [
              0.3333333333333333,
              "#9c179e"
             ],
             [
              0.4444444444444444,
              "#bd3786"
             ],
             [
              0.5555555555555556,
              "#d8576b"
             ],
             [
              0.6666666666666666,
              "#ed7953"
             ],
             [
              0.7777777777777778,
              "#fb9f3a"
             ],
             [
              0.8888888888888888,
              "#fdca26"
             ],
             [
              1,
              "#f0f921"
             ]
            ],
            "type": "heatmapgl"
           }
          ],
          "histogram": [
           {
            "marker": {
             "pattern": {
              "fillmode": "overlay",
              "size": 10,
              "solidity": 0.2
             }
            },
            "type": "histogram"
           }
          ],
          "histogram2d": [
           {
            "colorbar": {
             "outlinewidth": 0,
             "ticks": ""
            },
            "colorscale": [
             [
              0,
              "#0d0887"
             ],
             [
              0.1111111111111111,
              "#46039f"
             ],
             [
              0.2222222222222222,
              "#7201a8"
             ],
             [
              0.3333333333333333,
              "#9c179e"
             ],
             [
              0.4444444444444444,
              "#bd3786"
             ],
             [
              0.5555555555555556,
              "#d8576b"
             ],
             [
              0.6666666666666666,
              "#ed7953"
             ],
             [
              0.7777777777777778,
              "#fb9f3a"
             ],
             [
              0.8888888888888888,
              "#fdca26"
             ],
             [
              1,
              "#f0f921"
             ]
            ],
            "type": "histogram2d"
           }
          ],
          "histogram2dcontour": [
           {
            "colorbar": {
             "outlinewidth": 0,
             "ticks": ""
            },
            "colorscale": [
             [
              0,
              "#0d0887"
             ],
             [
              0.1111111111111111,
              "#46039f"
             ],
             [
              0.2222222222222222,
              "#7201a8"
             ],
             [
              0.3333333333333333,
              "#9c179e"
             ],
             [
              0.4444444444444444,
              "#bd3786"
             ],
             [
              0.5555555555555556,
              "#d8576b"
             ],
             [
              0.6666666666666666,
              "#ed7953"
             ],
             [
              0.7777777777777778,
              "#fb9f3a"
             ],
             [
              0.8888888888888888,
              "#fdca26"
             ],
             [
              1,
              "#f0f921"
             ]
            ],
            "type": "histogram2dcontour"
           }
          ],
          "mesh3d": [
           {
            "colorbar": {
             "outlinewidth": 0,
             "ticks": ""
            },
            "type": "mesh3d"
           }
          ],
          "parcoords": [
           {
            "line": {
             "colorbar": {
              "outlinewidth": 0,
              "ticks": ""
             }
            },
            "type": "parcoords"
           }
          ],
          "pie": [
           {
            "automargin": true,
            "type": "pie"
           }
          ],
          "scatter": [
           {
            "marker": {
             "colorbar": {
              "outlinewidth": 0,
              "ticks": ""
             }
            },
            "type": "scatter"
           }
          ],
          "scatter3d": [
           {
            "line": {
             "colorbar": {
              "outlinewidth": 0,
              "ticks": ""
             }
            },
            "marker": {
             "colorbar": {
              "outlinewidth": 0,
              "ticks": ""
             }
            },
            "type": "scatter3d"
           }
          ],
          "scattercarpet": [
           {
            "marker": {
             "colorbar": {
              "outlinewidth": 0,
              "ticks": ""
             }
            },
            "type": "scattercarpet"
           }
          ],
          "scattergeo": [
           {
            "marker": {
             "colorbar": {
              "outlinewidth": 0,
              "ticks": ""
             }
            },
            "type": "scattergeo"
           }
          ],
          "scattergl": [
           {
            "marker": {
             "colorbar": {
              "outlinewidth": 0,
              "ticks": ""
             }
            },
            "type": "scattergl"
           }
          ],
          "scattermapbox": [
           {
            "marker": {
             "colorbar": {
              "outlinewidth": 0,
              "ticks": ""
             }
            },
            "type": "scattermapbox"
           }
          ],
          "scatterpolar": [
           {
            "marker": {
             "colorbar": {
              "outlinewidth": 0,
              "ticks": ""
             }
            },
            "type": "scatterpolar"
           }
          ],
          "scatterpolargl": [
           {
            "marker": {
             "colorbar": {
              "outlinewidth": 0,
              "ticks": ""
             }
            },
            "type": "scatterpolargl"
           }
          ],
          "scatterternary": [
           {
            "marker": {
             "colorbar": {
              "outlinewidth": 0,
              "ticks": ""
             }
            },
            "type": "scatterternary"
           }
          ],
          "surface": [
           {
            "colorbar": {
             "outlinewidth": 0,
             "ticks": ""
            },
            "colorscale": [
             [
              0,
              "#0d0887"
             ],
             [
              0.1111111111111111,
              "#46039f"
             ],
             [
              0.2222222222222222,
              "#7201a8"
             ],
             [
              0.3333333333333333,
              "#9c179e"
             ],
             [
              0.4444444444444444,
              "#bd3786"
             ],
             [
              0.5555555555555556,
              "#d8576b"
             ],
             [
              0.6666666666666666,
              "#ed7953"
             ],
             [
              0.7777777777777778,
              "#fb9f3a"
             ],
             [
              0.8888888888888888,
              "#fdca26"
             ],
             [
              1,
              "#f0f921"
             ]
            ],
            "type": "surface"
           }
          ],
          "table": [
           {
            "cells": {
             "fill": {
              "color": "#EBF0F8"
             },
             "line": {
              "color": "white"
             }
            },
            "header": {
             "fill": {
              "color": "#C8D4E3"
             },
             "line": {
              "color": "white"
             }
            },
            "type": "table"
           }
          ]
         },
         "layout": {
          "annotationdefaults": {
           "arrowcolor": "#2a3f5f",
           "arrowhead": 0,
           "arrowwidth": 1
          },
          "autotypenumbers": "strict",
          "coloraxis": {
           "colorbar": {
            "outlinewidth": 0,
            "ticks": ""
           }
          },
          "colorscale": {
           "diverging": [
            [
             0,
             "#8e0152"
            ],
            [
             0.1,
             "#c51b7d"
            ],
            [
             0.2,
             "#de77ae"
            ],
            [
             0.3,
             "#f1b6da"
            ],
            [
             0.4,
             "#fde0ef"
            ],
            [
             0.5,
             "#f7f7f7"
            ],
            [
             0.6,
             "#e6f5d0"
            ],
            [
             0.7,
             "#b8e186"
            ],
            [
             0.8,
             "#7fbc41"
            ],
            [
             0.9,
             "#4d9221"
            ],
            [
             1,
             "#276419"
            ]
           ],
           "sequential": [
            [
             0,
             "#0d0887"
            ],
            [
             0.1111111111111111,
             "#46039f"
            ],
            [
             0.2222222222222222,
             "#7201a8"
            ],
            [
             0.3333333333333333,
             "#9c179e"
            ],
            [
             0.4444444444444444,
             "#bd3786"
            ],
            [
             0.5555555555555556,
             "#d8576b"
            ],
            [
             0.6666666666666666,
             "#ed7953"
            ],
            [
             0.7777777777777778,
             "#fb9f3a"
            ],
            [
             0.8888888888888888,
             "#fdca26"
            ],
            [
             1,
             "#f0f921"
            ]
           ],
           "sequentialminus": [
            [
             0,
             "#0d0887"
            ],
            [
             0.1111111111111111,
             "#46039f"
            ],
            [
             0.2222222222222222,
             "#7201a8"
            ],
            [
             0.3333333333333333,
             "#9c179e"
            ],
            [
             0.4444444444444444,
             "#bd3786"
            ],
            [
             0.5555555555555556,
             "#d8576b"
            ],
            [
             0.6666666666666666,
             "#ed7953"
            ],
            [
             0.7777777777777778,
             "#fb9f3a"
            ],
            [
             0.8888888888888888,
             "#fdca26"
            ],
            [
             1,
             "#f0f921"
            ]
           ]
          },
          "colorway": [
           "#636efa",
           "#EF553B",
           "#00cc96",
           "#ab63fa",
           "#FFA15A",
           "#19d3f3",
           "#FF6692",
           "#B6E880",
           "#FF97FF",
           "#FECB52"
          ],
          "font": {
           "color": "#2a3f5f"
          },
          "geo": {
           "bgcolor": "white",
           "lakecolor": "white",
           "landcolor": "#E5ECF6",
           "showlakes": true,
           "showland": true,
           "subunitcolor": "white"
          },
          "hoverlabel": {
           "align": "left"
          },
          "hovermode": "closest",
          "mapbox": {
           "style": "light"
          },
          "paper_bgcolor": "white",
          "plot_bgcolor": "#E5ECF6",
          "polar": {
           "angularaxis": {
            "gridcolor": "white",
            "linecolor": "white",
            "ticks": ""
           },
           "bgcolor": "#E5ECF6",
           "radialaxis": {
            "gridcolor": "white",
            "linecolor": "white",
            "ticks": ""
           }
          },
          "scene": {
           "xaxis": {
            "backgroundcolor": "#E5ECF6",
            "gridcolor": "white",
            "gridwidth": 2,
            "linecolor": "white",
            "showbackground": true,
            "ticks": "",
            "zerolinecolor": "white"
           },
           "yaxis": {
            "backgroundcolor": "#E5ECF6",
            "gridcolor": "white",
            "gridwidth": 2,
            "linecolor": "white",
            "showbackground": true,
            "ticks": "",
            "zerolinecolor": "white"
           },
           "zaxis": {
            "backgroundcolor": "#E5ECF6",
            "gridcolor": "white",
            "gridwidth": 2,
            "linecolor": "white",
            "showbackground": true,
            "ticks": "",
            "zerolinecolor": "white"
           }
          },
          "shapedefaults": {
           "line": {
            "color": "#2a3f5f"
           }
          },
          "ternary": {
           "aaxis": {
            "gridcolor": "white",
            "linecolor": "white",
            "ticks": ""
           },
           "baxis": {
            "gridcolor": "white",
            "linecolor": "white",
            "ticks": ""
           },
           "bgcolor": "#E5ECF6",
           "caxis": {
            "gridcolor": "white",
            "linecolor": "white",
            "ticks": ""
           }
          },
          "title": {
           "x": 0.05
          },
          "xaxis": {
           "automargin": true,
           "gridcolor": "white",
           "linecolor": "white",
           "ticks": "",
           "title": {
            "standoff": 15
           },
           "zerolinecolor": "white",
           "zerolinewidth": 2
          },
          "yaxis": {
           "automargin": true,
           "gridcolor": "white",
           "linecolor": "white",
           "ticks": "",
           "title": {
            "standoff": 15
           },
           "zerolinecolor": "white",
           "zerolinewidth": 2
          }
         }
        },
        "title": {
         "text": "JETS Historical Price"
        },
        "xaxis": {
         "anchor": "y",
         "domain": [
          0,
          1
         ],
         "title": {
          "text": "date"
         }
        },
        "yaxis": {
         "anchor": "x",
         "domain": [
          0,
          1
         ],
         "title": {
          "text": "value"
         }
        }
       }
      },
      "text/html": [
       "<div>                            <div id=\"e7508ffc-436e-4611-aca5-810ef48f777e\" class=\"plotly-graph-div\" style=\"height:525px; width:100%;\"></div>            <script type=\"text/javascript\">                require([\"plotly\"], function(Plotly) {                    window.PLOTLYENV=window.PLOTLYENV || {};                                    if (document.getElementById(\"e7508ffc-436e-4611-aca5-810ef48f777e\")) {                    Plotly.newPlot(                        \"e7508ffc-436e-4611-aca5-810ef48f777e\",                        [{\"hovertemplate\":\"variable=open<br>date=%{x}<br>value=%{y}<extra></extra>\",\"legendgroup\":\"open\",\"line\":{\"color\":\"#636efa\",\"dash\":\"solid\"},\"mode\":\"lines\",\"name\":\"open\",\"orientation\":\"v\",\"showlegend\":true,\"type\":\"scatter\",\"x\":[\"2021-10-25\",\"2021-10-26\",\"2021-10-27\",\"2021-10-28\",\"2021-10-29\",\"2021-11-01\",\"2021-11-02\",\"2021-11-03\",\"2021-11-04\",\"2021-11-05\",\"2021-11-08\",\"2021-11-09\",\"2021-11-10\",\"2021-11-11\",\"2021-11-12\",\"2021-11-15\",\"2021-11-16\",\"2021-11-17\",\"2021-11-18\",\"2021-11-19\",\"2021-11-22\",\"2021-11-23\"],\"xaxis\":\"x\",\"y\":[22.6200008392334,22.739999771118164,22.65999984741211,22.290000915527344,22.34000015258789,22.209999084472656,22.8799991607666,22.700000762939453,23.440000534057617,24.329999923706055,24.950000762939453,24.700000762939453,24.31999969482422,24.040000915527344,23.899999618530273,23.600000381469727,23.5,22.920000076293945,22.90999984741211,22.25,22.239999771118164,22.329999923706055],\"yaxis\":\"y\"},{\"hovertemplate\":\"variable=high<br>date=%{x}<br>value=%{y}<extra></extra>\",\"legendgroup\":\"high\",\"line\":{\"color\":\"#EF553B\",\"dash\":\"solid\"},\"mode\":\"lines\",\"name\":\"high\",\"orientation\":\"v\",\"showlegend\":true,\"type\":\"scatter\",\"x\":[\"2021-10-25\",\"2021-10-26\",\"2021-10-27\",\"2021-10-28\",\"2021-10-29\",\"2021-11-01\",\"2021-11-02\",\"2021-11-03\",\"2021-11-04\",\"2021-11-05\",\"2021-11-08\",\"2021-11-09\",\"2021-11-10\",\"2021-11-11\",\"2021-11-12\",\"2021-11-15\",\"2021-11-16\",\"2021-11-17\",\"2021-11-18\",\"2021-11-19\",\"2021-11-22\",\"2021-11-23\"],\"xaxis\":\"x\",\"y\":[22.69499969482422,22.864999771118164,22.670000076293945,22.417999267578125,22.440000534057617,22.8700008392334,22.889999389648438,23.309999465942383,23.440000534057617,24.639999389648438,25.059999465942383,24.729999542236328,24.549999237060547,24.209999084472656,23.93000030517578,23.729999542236328,23.510000228881836,23.049999237060547,22.90999984741211,22.25,22.40999984741211,22.5],\"yaxis\":\"y\"},{\"hovertemplate\":\"variable=close<br>date=%{x}<br>value=%{y}<extra></extra>\",\"legendgroup\":\"close\",\"line\":{\"color\":\"#00cc96\",\"dash\":\"solid\"},\"mode\":\"lines\",\"name\":\"close\",\"orientation\":\"v\",\"showlegend\":true,\"type\":\"scatter\",\"x\":[\"2021-10-25\",\"2021-10-26\",\"2021-10-27\",\"2021-10-28\",\"2021-10-29\",\"2021-11-01\",\"2021-11-02\",\"2021-11-03\",\"2021-11-04\",\"2021-11-05\",\"2021-11-08\",\"2021-11-09\",\"2021-11-10\",\"2021-11-11\",\"2021-11-12\",\"2021-11-15\",\"2021-11-16\",\"2021-11-17\",\"2021-11-18\",\"2021-11-19\",\"2021-11-22\",\"2021-11-23\"],\"xaxis\":\"x\",\"y\":[22.579999923706055,22.579999923706055,22.190000534057617,22.360000610351562,22.219999313354492,22.850000381469727,22.729999542236328,23.290000915527344,23.149999618530273,24.6299991607666,24.790000915527344,24.670000076293945,24.040000915527344,23.8700008392334,23.40999984741211,23.559999465942383,22.989999771118164,22.84000015258789,22.469999313354492,22.079999923706055,22.200000762939453,22.100000381469727],\"yaxis\":\"y\"},{\"hovertemplate\":\"variable=low<br>date=%{x}<br>value=%{y}<extra></extra>\",\"legendgroup\":\"low\",\"line\":{\"color\":\"#ab63fa\",\"dash\":\"solid\"},\"mode\":\"lines\",\"name\":\"low\",\"orientation\":\"v\",\"showlegend\":true,\"type\":\"scatter\",\"x\":[\"2021-10-25\",\"2021-10-26\",\"2021-10-27\",\"2021-10-28\",\"2021-10-29\",\"2021-11-01\",\"2021-11-02\",\"2021-11-03\",\"2021-11-04\",\"2021-11-05\",\"2021-11-08\",\"2021-11-09\",\"2021-11-10\",\"2021-11-11\",\"2021-11-12\",\"2021-11-15\",\"2021-11-16\",\"2021-11-17\",\"2021-11-18\",\"2021-11-19\",\"2021-11-22\",\"2021-11-23\"],\"xaxis\":\"x\",\"y\":[22.40999984741211,22.459999084472656,22.170000076293945,22.139999389648438,22.09000015258789,22.149999618530273,22.606000900268555,22.59000015258789,23.03499984741211,24.150999069213867,24.700000762939453,24.261999130249023,23.96500015258789,23.860000610351562,23.229999542236328,23.450000762939453,22.889999389648438,22.6200008392334,22.260000228881836,21.79199981689453,21.969999313354492,21.979999542236328],\"yaxis\":\"y\"},{\"hovertemplate\":\"variable=adjclose<br>date=%{x}<br>value=%{y}<extra></extra>\",\"legendgroup\":\"adjclose\",\"line\":{\"color\":\"#FFA15A\",\"dash\":\"solid\"},\"mode\":\"lines\",\"name\":\"adjclose\",\"orientation\":\"v\",\"showlegend\":true,\"type\":\"scatter\",\"x\":[\"2021-10-25\",\"2021-10-26\",\"2021-10-27\",\"2021-10-28\",\"2021-10-29\",\"2021-11-01\",\"2021-11-02\",\"2021-11-03\",\"2021-11-04\",\"2021-11-05\",\"2021-11-08\",\"2021-11-09\",\"2021-11-10\",\"2021-11-11\",\"2021-11-12\",\"2021-11-15\",\"2021-11-16\",\"2021-11-17\",\"2021-11-18\",\"2021-11-19\",\"2021-11-22\",\"2021-11-23\"],\"xaxis\":\"x\",\"y\":[22.579999923706055,22.579999923706055,22.190000534057617,22.360000610351562,22.219999313354492,22.850000381469727,22.729999542236328,23.290000915527344,23.149999618530273,24.6299991607666,24.790000915527344,24.670000076293945,24.040000915527344,23.8700008392334,23.40999984741211,23.559999465942383,22.989999771118164,22.84000015258789,22.469999313354492,22.079999923706055,22.200000762939453,22.100000381469727],\"yaxis\":\"y\"}],                        {\"legend\":{\"title\":{\"text\":\"variable\"},\"tracegroupgap\":0},\"template\":{\"data\":{\"bar\":[{\"error_x\":{\"color\":\"#2a3f5f\"},\"error_y\":{\"color\":\"#2a3f5f\"},\"marker\":{\"line\":{\"color\":\"#E5ECF6\",\"width\":0.5},\"pattern\":{\"fillmode\":\"overlay\",\"size\":10,\"solidity\":0.2}},\"type\":\"bar\"}],\"barpolar\":[{\"marker\":{\"line\":{\"color\":\"#E5ECF6\",\"width\":0.5},\"pattern\":{\"fillmode\":\"overlay\",\"size\":10,\"solidity\":0.2}},\"type\":\"barpolar\"}],\"carpet\":[{\"aaxis\":{\"endlinecolor\":\"#2a3f5f\",\"gridcolor\":\"white\",\"linecolor\":\"white\",\"minorgridcolor\":\"white\",\"startlinecolor\":\"#2a3f5f\"},\"baxis\":{\"endlinecolor\":\"#2a3f5f\",\"gridcolor\":\"white\",\"linecolor\":\"white\",\"minorgridcolor\":\"white\",\"startlinecolor\":\"#2a3f5f\"},\"type\":\"carpet\"}],\"choropleth\":[{\"colorbar\":{\"outlinewidth\":0,\"ticks\":\"\"},\"type\":\"choropleth\"}],\"contour\":[{\"colorbar\":{\"outlinewidth\":0,\"ticks\":\"\"},\"colorscale\":[[0.0,\"#0d0887\"],[0.1111111111111111,\"#46039f\"],[0.2222222222222222,\"#7201a8\"],[0.3333333333333333,\"#9c179e\"],[0.4444444444444444,\"#bd3786\"],[0.5555555555555556,\"#d8576b\"],[0.6666666666666666,\"#ed7953\"],[0.7777777777777778,\"#fb9f3a\"],[0.8888888888888888,\"#fdca26\"],[1.0,\"#f0f921\"]],\"type\":\"contour\"}],\"contourcarpet\":[{\"colorbar\":{\"outlinewidth\":0,\"ticks\":\"\"},\"type\":\"contourcarpet\"}],\"heatmap\":[{\"colorbar\":{\"outlinewidth\":0,\"ticks\":\"\"},\"colorscale\":[[0.0,\"#0d0887\"],[0.1111111111111111,\"#46039f\"],[0.2222222222222222,\"#7201a8\"],[0.3333333333333333,\"#9c179e\"],[0.4444444444444444,\"#bd3786\"],[0.5555555555555556,\"#d8576b\"],[0.6666666666666666,\"#ed7953\"],[0.7777777777777778,\"#fb9f3a\"],[0.8888888888888888,\"#fdca26\"],[1.0,\"#f0f921\"]],\"type\":\"heatmap\"}],\"heatmapgl\":[{\"colorbar\":{\"outlinewidth\":0,\"ticks\":\"\"},\"colorscale\":[[0.0,\"#0d0887\"],[0.1111111111111111,\"#46039f\"],[0.2222222222222222,\"#7201a8\"],[0.3333333333333333,\"#9c179e\"],[0.4444444444444444,\"#bd3786\"],[0.5555555555555556,\"#d8576b\"],[0.6666666666666666,\"#ed7953\"],[0.7777777777777778,\"#fb9f3a\"],[0.8888888888888888,\"#fdca26\"],[1.0,\"#f0f921\"]],\"type\":\"heatmapgl\"}],\"histogram\":[{\"marker\":{\"pattern\":{\"fillmode\":\"overlay\",\"size\":10,\"solidity\":0.2}},\"type\":\"histogram\"}],\"histogram2d\":[{\"colorbar\":{\"outlinewidth\":0,\"ticks\":\"\"},\"colorscale\":[[0.0,\"#0d0887\"],[0.1111111111111111,\"#46039f\"],[0.2222222222222222,\"#7201a8\"],[0.3333333333333333,\"#9c179e\"],[0.4444444444444444,\"#bd3786\"],[0.5555555555555556,\"#d8576b\"],[0.6666666666666666,\"#ed7953\"],[0.7777777777777778,\"#fb9f3a\"],[0.8888888888888888,\"#fdca26\"],[1.0,\"#f0f921\"]],\"type\":\"histogram2d\"}],\"histogram2dcontour\":[{\"colorbar\":{\"outlinewidth\":0,\"ticks\":\"\"},\"colorscale\":[[0.0,\"#0d0887\"],[0.1111111111111111,\"#46039f\"],[0.2222222222222222,\"#7201a8\"],[0.3333333333333333,\"#9c179e\"],[0.4444444444444444,\"#bd3786\"],[0.5555555555555556,\"#d8576b\"],[0.6666666666666666,\"#ed7953\"],[0.7777777777777778,\"#fb9f3a\"],[0.8888888888888888,\"#fdca26\"],[1.0,\"#f0f921\"]],\"type\":\"histogram2dcontour\"}],\"mesh3d\":[{\"colorbar\":{\"outlinewidth\":0,\"ticks\":\"\"},\"type\":\"mesh3d\"}],\"parcoords\":[{\"line\":{\"colorbar\":{\"outlinewidth\":0,\"ticks\":\"\"}},\"type\":\"parcoords\"}],\"pie\":[{\"automargin\":true,\"type\":\"pie\"}],\"scatter\":[{\"marker\":{\"colorbar\":{\"outlinewidth\":0,\"ticks\":\"\"}},\"type\":\"scatter\"}],\"scatter3d\":[{\"line\":{\"colorbar\":{\"outlinewidth\":0,\"ticks\":\"\"}},\"marker\":{\"colorbar\":{\"outlinewidth\":0,\"ticks\":\"\"}},\"type\":\"scatter3d\"}],\"scattercarpet\":[{\"marker\":{\"colorbar\":{\"outlinewidth\":0,\"ticks\":\"\"}},\"type\":\"scattercarpet\"}],\"scattergeo\":[{\"marker\":{\"colorbar\":{\"outlinewidth\":0,\"ticks\":\"\"}},\"type\":\"scattergeo\"}],\"scattergl\":[{\"marker\":{\"colorbar\":{\"outlinewidth\":0,\"ticks\":\"\"}},\"type\":\"scattergl\"}],\"scattermapbox\":[{\"marker\":{\"colorbar\":{\"outlinewidth\":0,\"ticks\":\"\"}},\"type\":\"scattermapbox\"}],\"scatterpolar\":[{\"marker\":{\"colorbar\":{\"outlinewidth\":0,\"ticks\":\"\"}},\"type\":\"scatterpolar\"}],\"scatterpolargl\":[{\"marker\":{\"colorbar\":{\"outlinewidth\":0,\"ticks\":\"\"}},\"type\":\"scatterpolargl\"}],\"scatterternary\":[{\"marker\":{\"colorbar\":{\"outlinewidth\":0,\"ticks\":\"\"}},\"type\":\"scatterternary\"}],\"surface\":[{\"colorbar\":{\"outlinewidth\":0,\"ticks\":\"\"},\"colorscale\":[[0.0,\"#0d0887\"],[0.1111111111111111,\"#46039f\"],[0.2222222222222222,\"#7201a8\"],[0.3333333333333333,\"#9c179e\"],[0.4444444444444444,\"#bd3786\"],[0.5555555555555556,\"#d8576b\"],[0.6666666666666666,\"#ed7953\"],[0.7777777777777778,\"#fb9f3a\"],[0.8888888888888888,\"#fdca26\"],[1.0,\"#f0f921\"]],\"type\":\"surface\"}],\"table\":[{\"cells\":{\"fill\":{\"color\":\"#EBF0F8\"},\"line\":{\"color\":\"white\"}},\"header\":{\"fill\":{\"color\":\"#C8D4E3\"},\"line\":{\"color\":\"white\"}},\"type\":\"table\"}]},\"layout\":{\"annotationdefaults\":{\"arrowcolor\":\"#2a3f5f\",\"arrowhead\":0,\"arrowwidth\":1},\"autotypenumbers\":\"strict\",\"coloraxis\":{\"colorbar\":{\"outlinewidth\":0,\"ticks\":\"\"}},\"colorscale\":{\"diverging\":[[0,\"#8e0152\"],[0.1,\"#c51b7d\"],[0.2,\"#de77ae\"],[0.3,\"#f1b6da\"],[0.4,\"#fde0ef\"],[0.5,\"#f7f7f7\"],[0.6,\"#e6f5d0\"],[0.7,\"#b8e186\"],[0.8,\"#7fbc41\"],[0.9,\"#4d9221\"],[1,\"#276419\"]],\"sequential\":[[0.0,\"#0d0887\"],[0.1111111111111111,\"#46039f\"],[0.2222222222222222,\"#7201a8\"],[0.3333333333333333,\"#9c179e\"],[0.4444444444444444,\"#bd3786\"],[0.5555555555555556,\"#d8576b\"],[0.6666666666666666,\"#ed7953\"],[0.7777777777777778,\"#fb9f3a\"],[0.8888888888888888,\"#fdca26\"],[1.0,\"#f0f921\"]],\"sequentialminus\":[[0.0,\"#0d0887\"],[0.1111111111111111,\"#46039f\"],[0.2222222222222222,\"#7201a8\"],[0.3333333333333333,\"#9c179e\"],[0.4444444444444444,\"#bd3786\"],[0.5555555555555556,\"#d8576b\"],[0.6666666666666666,\"#ed7953\"],[0.7777777777777778,\"#fb9f3a\"],[0.8888888888888888,\"#fdca26\"],[1.0,\"#f0f921\"]]},\"colorway\":[\"#636efa\",\"#EF553B\",\"#00cc96\",\"#ab63fa\",\"#FFA15A\",\"#19d3f3\",\"#FF6692\",\"#B6E880\",\"#FF97FF\",\"#FECB52\"],\"font\":{\"color\":\"#2a3f5f\"},\"geo\":{\"bgcolor\":\"white\",\"lakecolor\":\"white\",\"landcolor\":\"#E5ECF6\",\"showlakes\":true,\"showland\":true,\"subunitcolor\":\"white\"},\"hoverlabel\":{\"align\":\"left\"},\"hovermode\":\"closest\",\"mapbox\":{\"style\":\"light\"},\"paper_bgcolor\":\"white\",\"plot_bgcolor\":\"#E5ECF6\",\"polar\":{\"angularaxis\":{\"gridcolor\":\"white\",\"linecolor\":\"white\",\"ticks\":\"\"},\"bgcolor\":\"#E5ECF6\",\"radialaxis\":{\"gridcolor\":\"white\",\"linecolor\":\"white\",\"ticks\":\"\"}},\"scene\":{\"xaxis\":{\"backgroundcolor\":\"#E5ECF6\",\"gridcolor\":\"white\",\"gridwidth\":2,\"linecolor\":\"white\",\"showbackground\":true,\"ticks\":\"\",\"zerolinecolor\":\"white\"},\"yaxis\":{\"backgroundcolor\":\"#E5ECF6\",\"gridcolor\":\"white\",\"gridwidth\":2,\"linecolor\":\"white\",\"showbackground\":true,\"ticks\":\"\",\"zerolinecolor\":\"white\"},\"zaxis\":{\"backgroundcolor\":\"#E5ECF6\",\"gridcolor\":\"white\",\"gridwidth\":2,\"linecolor\":\"white\",\"showbackground\":true,\"ticks\":\"\",\"zerolinecolor\":\"white\"}},\"shapedefaults\":{\"line\":{\"color\":\"#2a3f5f\"}},\"ternary\":{\"aaxis\":{\"gridcolor\":\"white\",\"linecolor\":\"white\",\"ticks\":\"\"},\"baxis\":{\"gridcolor\":\"white\",\"linecolor\":\"white\",\"ticks\":\"\"},\"bgcolor\":\"#E5ECF6\",\"caxis\":{\"gridcolor\":\"white\",\"linecolor\":\"white\",\"ticks\":\"\"}},\"title\":{\"x\":0.05},\"xaxis\":{\"automargin\":true,\"gridcolor\":\"white\",\"linecolor\":\"white\",\"ticks\":\"\",\"title\":{\"standoff\":15},\"zerolinecolor\":\"white\",\"zerolinewidth\":2},\"yaxis\":{\"automargin\":true,\"gridcolor\":\"white\",\"linecolor\":\"white\",\"ticks\":\"\",\"title\":{\"standoff\":15},\"zerolinecolor\":\"white\",\"zerolinewidth\":2}}},\"title\":{\"text\":\"JETS Historical Price\"},\"xaxis\":{\"anchor\":\"y\",\"domain\":[0.0,1.0],\"title\":{\"text\":\"date\"}},\"yaxis\":{\"anchor\":\"x\",\"domain\":[0.0,1.0],\"title\":{\"text\":\"value\"}}},                        {\"responsive\": true}                    ).then(function(){\n",
       "                            \n",
       "var gd = document.getElementById('e7508ffc-436e-4611-aca5-810ef48f777e');\n",
       "var x = new MutationObserver(function (mutations, observer) {{\n",
       "        var display = window.getComputedStyle(gd).display;\n",
       "        if (!display || display === 'none') {{\n",
       "            console.log([gd, 'removed!']);\n",
       "            Plotly.purge(gd);\n",
       "            observer.disconnect();\n",
       "        }}\n",
       "}});\n",
       "\n",
       "// Listen for the removal of the full notebook cells\n",
       "var notebookContainer = gd.closest('#notebook-container');\n",
       "if (notebookContainer) {{\n",
       "    x.observe(notebookContainer, {childList: true});\n",
       "}}\n",
       "\n",
       "// Listen for the clearing of the current output cell\n",
       "var outputEl = gd.closest('.output');\n",
       "if (outputEl) {{\n",
       "    x.observe(outputEl, {childList: true});\n",
       "}}\n",
       "\n",
       "                        })                };                });            </script>        </div>"
      ]
     },
     "metadata": {},
     "output_type": "display_data"
    },
    {
     "name": "stdout",
     "output_type": "stream",
     "text": [
      "=============================== JETS =================================\n",
      "\n",
      "-------------------------- Summary Details ----------------------------\n"
     ]
    },
    {
     "data": {
      "text/html": [
       "<div>\n",
       "<style scoped>\n",
       "    .dataframe tbody tr th:only-of-type {\n",
       "        vertical-align: middle;\n",
       "    }\n",
       "\n",
       "    .dataframe tbody tr th {\n",
       "        vertical-align: top;\n",
       "    }\n",
       "\n",
       "    .dataframe thead th {\n",
       "        text-align: right;\n",
       "    }\n",
       "</style>\n",
       "<table border=\"1\" class=\"dataframe\">\n",
       "  <thead>\n",
       "    <tr style=\"text-align: right;\">\n",
       "      <th></th>\n",
       "      <th>Value</th>\n",
       "    </tr>\n",
       "  </thead>\n",
       "  <tbody>\n",
       "    <tr>\n",
       "      <th>totalAssets</th>\n",
       "      <td>3616804864</td>\n",
       "    </tr>\n",
       "    <tr>\n",
       "      <th>previousClose</th>\n",
       "      <td>22.2</td>\n",
       "    </tr>\n",
       "    <tr>\n",
       "      <th>open</th>\n",
       "      <td>22.33</td>\n",
       "    </tr>\n",
       "    <tr>\n",
       "      <th>fiftyDayAverage</th>\n",
       "      <td>23.375</td>\n",
       "    </tr>\n",
       "    <tr>\n",
       "      <th>fiftyDayAverage</th>\n",
       "      <td>23.375</td>\n",
       "    </tr>\n",
       "    <tr>\n",
       "      <th>fiftyTwoWeekLow</th>\n",
       "      <td>21.14</td>\n",
       "    </tr>\n",
       "    <tr>\n",
       "      <th>fiftyTwoWeekHigh</th>\n",
       "      <td>28.98</td>\n",
       "    </tr>\n",
       "    <tr>\n",
       "      <th>twoHundredDayAverage</th>\n",
       "      <td>24.6394</td>\n",
       "    </tr>\n",
       "    <tr>\n",
       "      <th>volume</th>\n",
       "      <td>5488686</td>\n",
       "    </tr>\n",
       "    <tr>\n",
       "      <th>averageVolume</th>\n",
       "      <td>6848787</td>\n",
       "    </tr>\n",
       "    <tr>\n",
       "      <th>averageVolume10days</th>\n",
       "      <td>7380700</td>\n",
       "    </tr>\n",
       "    <tr>\n",
       "      <th>averageDailyVolume10Day</th>\n",
       "      <td>7380700</td>\n",
       "    </tr>\n",
       "  </tbody>\n",
       "</table>\n",
       "</div>"
      ],
      "text/plain": [
       "                              Value\n",
       "totalAssets              3616804864\n",
       "previousClose                  22.2\n",
       "open                          22.33\n",
       "fiftyDayAverage              23.375\n",
       "fiftyDayAverage              23.375\n",
       "fiftyTwoWeekLow               21.14\n",
       "fiftyTwoWeekHigh              28.98\n",
       "twoHundredDayAverage        24.6394\n",
       "volume                      5488686\n",
       "averageVolume               6848787\n",
       "averageVolume10days         7380700\n",
       "averageDailyVolume10Day     7380700"
      ]
     },
     "metadata": {},
     "output_type": "display_data"
    },
    {
     "name": "stdout",
     "output_type": "stream",
     "text": [
      "-------------------------- Key Factor ----------------------------\n"
     ]
    },
    {
     "data": {
      "text/html": [
       "<div>\n",
       "<style scoped>\n",
       "    .dataframe tbody tr th:only-of-type {\n",
       "        vertical-align: middle;\n",
       "    }\n",
       "\n",
       "    .dataframe tbody tr th {\n",
       "        vertical-align: top;\n",
       "    }\n",
       "\n",
       "    .dataframe thead th {\n",
       "        text-align: right;\n",
       "    }\n",
       "</style>\n",
       "<table border=\"1\" class=\"dataframe\">\n",
       "  <thead>\n",
       "    <tr style=\"text-align: right;\">\n",
       "      <th></th>\n",
       "      <th>Value</th>\n",
       "    </tr>\n",
       "  </thead>\n",
       "  <tbody>\n",
       "    <tr>\n",
       "      <th>category</th>\n",
       "      <td>Miscellaneous Sector</td>\n",
       "    </tr>\n",
       "    <tr>\n",
       "      <th>ytdReturn</th>\n",
       "      <td>0.035</td>\n",
       "    </tr>\n",
       "    <tr>\n",
       "      <th>fundFamily</th>\n",
       "      <td>U.S. Global Investors</td>\n",
       "    </tr>\n",
       "    <tr>\n",
       "      <th>fundInceptionDate</th>\n",
       "      <td>2015-04-29 20:00:00</td>\n",
       "    </tr>\n",
       "    <tr>\n",
       "      <th>legalType</th>\n",
       "      <td>Exchange Traded Fund</td>\n",
       "    </tr>\n",
       "  </tbody>\n",
       "</table>\n",
       "</div>"
      ],
      "text/plain": [
       "                                   Value\n",
       "category            Miscellaneous Sector\n",
       "ytdReturn                          0.035\n",
       "fundFamily         U.S. Global Investors\n",
       "fundInceptionDate    2015-04-29 20:00:00\n",
       "legalType           Exchange Traded Fund"
      ]
     },
     "metadata": {},
     "output_type": "display_data"
    },
    {
     "name": "stdout",
     "output_type": "stream",
     "text": [
      "-------------------------- Fund Sector ----------------------------\n"
     ]
    },
    {
     "data": {
      "text/html": [
       "<div>\n",
       "<style scoped>\n",
       "    .dataframe tbody tr th:only-of-type {\n",
       "        vertical-align: middle;\n",
       "    }\n",
       "\n",
       "    .dataframe tbody tr th {\n",
       "        vertical-align: top;\n",
       "    }\n",
       "\n",
       "    .dataframe thead th {\n",
       "        text-align: right;\n",
       "    }\n",
       "</style>\n",
       "<table border=\"1\" class=\"dataframe\">\n",
       "  <thead>\n",
       "    <tr style=\"text-align: right;\">\n",
       "      <th></th>\n",
       "      <th>Fund Sector</th>\n",
       "      <th>Percentage</th>\n",
       "    </tr>\n",
       "  </thead>\n",
       "  <tbody>\n",
       "    <tr>\n",
       "      <th>8</th>\n",
       "      <td>industrials</td>\n",
       "      <td>0.9158</td>\n",
       "    </tr>\n",
       "    <tr>\n",
       "      <th>1</th>\n",
       "      <td>consumer_cyclical</td>\n",
       "      <td>0.0740</td>\n",
       "    </tr>\n",
       "    <tr>\n",
       "      <th>4</th>\n",
       "      <td>technology</td>\n",
       "      <td>0.0102</td>\n",
       "    </tr>\n",
       "    <tr>\n",
       "      <th>0</th>\n",
       "      <td>realestate</td>\n",
       "      <td>0.0000</td>\n",
       "    </tr>\n",
       "    <tr>\n",
       "      <th>2</th>\n",
       "      <td>basic_materials</td>\n",
       "      <td>0.0000</td>\n",
       "    </tr>\n",
       "    <tr>\n",
       "      <th>3</th>\n",
       "      <td>consumer_defensive</td>\n",
       "      <td>0.0000</td>\n",
       "    </tr>\n",
       "    <tr>\n",
       "      <th>5</th>\n",
       "      <td>communication_services</td>\n",
       "      <td>0.0000</td>\n",
       "    </tr>\n",
       "    <tr>\n",
       "      <th>6</th>\n",
       "      <td>financial_services</td>\n",
       "      <td>0.0000</td>\n",
       "    </tr>\n",
       "    <tr>\n",
       "      <th>7</th>\n",
       "      <td>utilities</td>\n",
       "      <td>0.0000</td>\n",
       "    </tr>\n",
       "    <tr>\n",
       "      <th>9</th>\n",
       "      <td>energy</td>\n",
       "      <td>0.0000</td>\n",
       "    </tr>\n",
       "    <tr>\n",
       "      <th>10</th>\n",
       "      <td>healthcare</td>\n",
       "      <td>0.0000</td>\n",
       "    </tr>\n",
       "  </tbody>\n",
       "</table>\n",
       "</div>"
      ],
      "text/plain": [
       "               Fund Sector  Percentage\n",
       "8              industrials      0.9158\n",
       "1        consumer_cyclical      0.0740\n",
       "4               technology      0.0102\n",
       "0               realestate      0.0000\n",
       "2          basic_materials      0.0000\n",
       "3       consumer_defensive      0.0000\n",
       "5   communication_services      0.0000\n",
       "6       financial_services      0.0000\n",
       "7                utilities      0.0000\n",
       "9                   energy      0.0000\n",
       "10              healthcare      0.0000"
      ]
     },
     "metadata": {},
     "output_type": "display_data"
    },
    {
     "name": "stdout",
     "output_type": "stream",
     "text": [
      "-------------------------- Holdings ----------------------------\n"
     ]
    },
    {
     "data": {
      "text/html": [
       "<div>\n",
       "<style scoped>\n",
       "    .dataframe tbody tr th:only-of-type {\n",
       "        vertical-align: middle;\n",
       "    }\n",
       "\n",
       "    .dataframe tbody tr th {\n",
       "        vertical-align: top;\n",
       "    }\n",
       "\n",
       "    .dataframe thead th {\n",
       "        text-align: right;\n",
       "    }\n",
       "</style>\n",
       "<table border=\"1\" class=\"dataframe\">\n",
       "  <thead>\n",
       "    <tr style=\"text-align: right;\">\n",
       "      <th></th>\n",
       "      <th>symbol</th>\n",
       "      <th>holdingName</th>\n",
       "      <th>holdingPercent</th>\n",
       "    </tr>\n",
       "  </thead>\n",
       "  <tbody>\n",
       "    <tr>\n",
       "      <th>0</th>\n",
       "      <td>DAL</td>\n",
       "      <td>Delta Air Lines Inc</td>\n",
       "      <td>0.1001</td>\n",
       "    </tr>\n",
       "    <tr>\n",
       "      <th>1</th>\n",
       "      <td>UAL</td>\n",
       "      <td>United Airlines Holdings Inc</td>\n",
       "      <td>0.0987</td>\n",
       "    </tr>\n",
       "    <tr>\n",
       "      <th>2</th>\n",
       "      <td>LUV</td>\n",
       "      <td>Southwest Airlines Co</td>\n",
       "      <td>0.0981</td>\n",
       "    </tr>\n",
       "    <tr>\n",
       "      <th>3</th>\n",
       "      <td>AAL</td>\n",
       "      <td>American Airlines Group Inc</td>\n",
       "      <td>0.0953</td>\n",
       "    </tr>\n",
       "    <tr>\n",
       "      <th>4</th>\n",
       "      <td>ALK</td>\n",
       "      <td>Alaska Air Group Inc</td>\n",
       "      <td>0.0298</td>\n",
       "    </tr>\n",
       "    <tr>\n",
       "      <th>5</th>\n",
       "      <td>SNCY</td>\n",
       "      <td>Sun Country Airlines Holdings Inc</td>\n",
       "      <td>0.0297</td>\n",
       "    </tr>\n",
       "    <tr>\n",
       "      <th>6</th>\n",
       "      <td>ALGT</td>\n",
       "      <td>Allegiant Travel Co</td>\n",
       "      <td>0.0294</td>\n",
       "    </tr>\n",
       "    <tr>\n",
       "      <th>7</th>\n",
       "      <td>JBLU</td>\n",
       "      <td>JetBlue Airways Corp</td>\n",
       "      <td>0.0286</td>\n",
       "    </tr>\n",
       "    <tr>\n",
       "      <th>8</th>\n",
       "      <td>SKYW</td>\n",
       "      <td>SkyWest Inc</td>\n",
       "      <td>0.0285</td>\n",
       "    </tr>\n",
       "    <tr>\n",
       "      <th>9</th>\n",
       "      <td>AC.TO</td>\n",
       "      <td>Air Canada Class B</td>\n",
       "      <td>0.0284</td>\n",
       "    </tr>\n",
       "  </tbody>\n",
       "</table>\n",
       "</div>"
      ],
      "text/plain": [
       "  symbol                        holdingName  holdingPercent\n",
       "0    DAL                Delta Air Lines Inc          0.1001\n",
       "1    UAL       United Airlines Holdings Inc          0.0987\n",
       "2    LUV              Southwest Airlines Co          0.0981\n",
       "3    AAL        American Airlines Group Inc          0.0953\n",
       "4    ALK               Alaska Air Group Inc          0.0298\n",
       "5   SNCY  Sun Country Airlines Holdings Inc          0.0297\n",
       "6   ALGT                Allegiant Travel Co          0.0294\n",
       "7   JBLU               JetBlue Airways Corp          0.0286\n",
       "8   SKYW                        SkyWest Inc          0.0285\n",
       "9  AC.TO                 Air Canada Class B          0.0284"
      ]
     },
     "metadata": {},
     "output_type": "display_data"
    },
    {
     "name": "stdout",
     "output_type": "stream",
     "text": [
      "-------------------------- Returns ----------------------------\n"
     ]
    },
    {
     "data": {
      "text/html": [
       "<div>\n",
       "<style scoped>\n",
       "    .dataframe tbody tr th:only-of-type {\n",
       "        vertical-align: middle;\n",
       "    }\n",
       "\n",
       "    .dataframe tbody tr th {\n",
       "        vertical-align: top;\n",
       "    }\n",
       "\n",
       "    .dataframe thead th {\n",
       "        text-align: right;\n",
       "    }\n",
       "</style>\n",
       "<table border=\"1\" class=\"dataframe\">\n",
       "  <thead>\n",
       "    <tr style=\"text-align: right;\">\n",
       "      <th></th>\n",
       "      <th>Value</th>\n",
       "    </tr>\n",
       "  </thead>\n",
       "  <tbody>\n",
       "    <tr>\n",
       "      <th>asOfDate</th>\n",
       "      <td>2021-10-27 20:00:00</td>\n",
       "    </tr>\n",
       "    <tr>\n",
       "      <th>ytdReturnPct</th>\n",
       "      <td>0.035</td>\n",
       "    </tr>\n",
       "    <tr>\n",
       "      <th>oneYearTotalReturn</th>\n",
       "      <td>0.3484</td>\n",
       "    </tr>\n",
       "    <tr>\n",
       "      <th>threeYearTotalReturn</th>\n",
       "      <td>-0.0834</td>\n",
       "    </tr>\n",
       "  </tbody>\n",
       "</table>\n",
       "</div>"
      ],
      "text/plain": [
       "                                    Value\n",
       "asOfDate              2021-10-27 20:00:00\n",
       "ytdReturnPct                        0.035\n",
       "oneYearTotalReturn                 0.3484\n",
       "threeYearTotalReturn              -0.0834"
      ]
     },
     "metadata": {},
     "output_type": "display_data"
    },
    {
     "name": "stdout",
     "output_type": "stream",
     "text": [
      "\n"
     ]
    },
    {
     "data": {
      "text/html": [
       "<div>\n",
       "<style scoped>\n",
       "    .dataframe tbody tr th:only-of-type {\n",
       "        vertical-align: middle;\n",
       "    }\n",
       "\n",
       "    .dataframe tbody tr th {\n",
       "        vertical-align: top;\n",
       "    }\n",
       "\n",
       "    .dataframe thead th {\n",
       "        text-align: right;\n",
       "    }\n",
       "</style>\n",
       "<table border=\"1\" class=\"dataframe\">\n",
       "  <thead>\n",
       "    <tr style=\"text-align: right;\">\n",
       "      <th></th>\n",
       "      <th>Value</th>\n",
       "    </tr>\n",
       "  </thead>\n",
       "  <tbody>\n",
       "    <tr>\n",
       "      <th>asOfDate</th>\n",
       "      <td>2021-06-29 20:00:00</td>\n",
       "    </tr>\n",
       "    <tr>\n",
       "      <th>ytd</th>\n",
       "      <td>0.0804</td>\n",
       "    </tr>\n",
       "    <tr>\n",
       "      <th>oneMonth</th>\n",
       "      <td>-0.0994</td>\n",
       "    </tr>\n",
       "    <tr>\n",
       "      <th>threeMonth</th>\n",
       "      <td>-0.1014</td>\n",
       "    </tr>\n",
       "    <tr>\n",
       "      <th>oneYear</th>\n",
       "      <td>0.4529</td>\n",
       "    </tr>\n",
       "    <tr>\n",
       "      <th>threeYear</th>\n",
       "      <td>-0.0517</td>\n",
       "    </tr>\n",
       "    <tr>\n",
       "      <th>fiveYear</th>\n",
       "      <td>0.0353</td>\n",
       "    </tr>\n",
       "    <tr>\n",
       "      <th>tenYear</th>\n",
       "      <td>0</td>\n",
       "    </tr>\n",
       "    <tr>\n",
       "      <th>lastBullMkt</th>\n",
       "      <td>0</td>\n",
       "    </tr>\n",
       "    <tr>\n",
       "      <th>lastBearMkt</th>\n",
       "      <td>0</td>\n",
       "    </tr>\n",
       "  </tbody>\n",
       "</table>\n",
       "</div>"
      ],
      "text/plain": [
       "                           Value\n",
       "asOfDate     2021-06-29 20:00:00\n",
       "ytd                       0.0804\n",
       "oneMonth                 -0.0994\n",
       "threeMonth               -0.1014\n",
       "oneYear                   0.4529\n",
       "threeYear                -0.0517\n",
       "fiveYear                  0.0353\n",
       "tenYear                        0\n",
       "lastBullMkt                    0\n",
       "lastBearMkt                    0"
      ]
     },
     "metadata": {},
     "output_type": "display_data"
    },
    {
     "name": "stdout",
     "output_type": "stream",
     "text": [
      "\n"
     ]
    },
    {
     "data": {
      "text/html": [
       "<div>\n",
       "<style scoped>\n",
       "    .dataframe tbody tr th:only-of-type {\n",
       "        vertical-align: middle;\n",
       "    }\n",
       "\n",
       "    .dataframe tbody tr th {\n",
       "        vertical-align: top;\n",
       "    }\n",
       "\n",
       "    .dataframe thead th {\n",
       "        text-align: right;\n",
       "    }\n",
       "</style>\n",
       "<table border=\"1\" class=\"dataframe\">\n",
       "  <thead>\n",
       "    <tr style=\"text-align: right;\">\n",
       "      <th></th>\n",
       "      <th>year</th>\n",
       "      <th>annualValue</th>\n",
       "    </tr>\n",
       "  </thead>\n",
       "  <tbody>\n",
       "    <tr>\n",
       "      <th>0</th>\n",
       "      <td>2021</td>\n",
       "      <td>NaN</td>\n",
       "    </tr>\n",
       "    <tr>\n",
       "      <th>1</th>\n",
       "      <td>2020</td>\n",
       "      <td>-0.289900</td>\n",
       "    </tr>\n",
       "    <tr>\n",
       "      <th>2</th>\n",
       "      <td>2019</td>\n",
       "      <td>0.141013</td>\n",
       "    </tr>\n",
       "    <tr>\n",
       "      <th>3</th>\n",
       "      <td>2018</td>\n",
       "      <td>-0.137607</td>\n",
       "    </tr>\n",
       "    <tr>\n",
       "      <th>4</th>\n",
       "      <td>2017</td>\n",
       "      <td>0.183987</td>\n",
       "    </tr>\n",
       "    <tr>\n",
       "      <th>5</th>\n",
       "      <td>2016</td>\n",
       "      <td>0.131517</td>\n",
       "    </tr>\n",
       "    <tr>\n",
       "      <th>6</th>\n",
       "      <td>2015</td>\n",
       "      <td>NaN</td>\n",
       "    </tr>\n",
       "  </tbody>\n",
       "</table>\n",
       "</div>"
      ],
      "text/plain": [
       "   year  annualValue\n",
       "0  2021          NaN\n",
       "1  2020    -0.289900\n",
       "2  2019     0.141013\n",
       "3  2018    -0.137607\n",
       "4  2017     0.183987\n",
       "5  2016     0.131517\n",
       "6  2015          NaN"
      ]
     },
     "metadata": {},
     "output_type": "display_data"
    },
    {
     "name": "stdout",
     "output_type": "stream",
     "text": [
      "-------------------------- Risk Factors ----------------------------\n"
     ]
    },
    {
     "data": {
      "text/html": [
       "<div>\n",
       "<style scoped>\n",
       "    .dataframe tbody tr th:only-of-type {\n",
       "        vertical-align: middle;\n",
       "    }\n",
       "\n",
       "    .dataframe tbody tr th {\n",
       "        vertical-align: top;\n",
       "    }\n",
       "\n",
       "    .dataframe thead th {\n",
       "        text-align: right;\n",
       "    }\n",
       "</style>\n",
       "<table border=\"1\" class=\"dataframe\">\n",
       "  <thead>\n",
       "    <tr style=\"text-align: right;\">\n",
       "      <th></th>\n",
       "      <th>year</th>\n",
       "      <th>alpha</th>\n",
       "      <th>beta</th>\n",
       "      <th>meanAnnualReturn</th>\n",
       "      <th>rSquared</th>\n",
       "      <th>stdDev</th>\n",
       "      <th>sharpeRatio</th>\n",
       "      <th>treynorRatio</th>\n",
       "    </tr>\n",
       "  </thead>\n",
       "  <tbody>\n",
       "    <tr>\n",
       "      <th>0</th>\n",
       "      <td>5y</td>\n",
       "      <td>-15.0</td>\n",
       "      <td>1.70</td>\n",
       "      <td>0.77</td>\n",
       "      <td>55.71</td>\n",
       "      <td>33.07</td>\n",
       "      <td>0.24</td>\n",
       "      <td>1.40</td>\n",
       "    </tr>\n",
       "    <tr>\n",
       "      <th>1</th>\n",
       "      <td>3y</td>\n",
       "      <td>-23.3</td>\n",
       "      <td>1.82</td>\n",
       "      <td>0.29</td>\n",
       "      <td>64.17</td>\n",
       "      <td>40.90</td>\n",
       "      <td>0.06</td>\n",
       "      <td>-3.52</td>\n",
       "    </tr>\n",
       "    <tr>\n",
       "      <th>2</th>\n",
       "      <td>10y</td>\n",
       "      <td>0.0</td>\n",
       "      <td>0.00</td>\n",
       "      <td>0.00</td>\n",
       "      <td>0.00</td>\n",
       "      <td>0.00</td>\n",
       "      <td>0.00</td>\n",
       "      <td>0.00</td>\n",
       "    </tr>\n",
       "  </tbody>\n",
       "</table>\n",
       "</div>"
      ],
      "text/plain": [
       "  year  alpha  beta  meanAnnualReturn  rSquared  stdDev  sharpeRatio  \\\n",
       "0   5y  -15.0  1.70              0.77     55.71   33.07         0.24   \n",
       "1   3y  -23.3  1.82              0.29     64.17   40.90         0.06   \n",
       "2  10y    0.0  0.00              0.00      0.00    0.00         0.00   \n",
       "\n",
       "   treynorRatio  \n",
       "0          1.40  \n",
       "1         -3.52  \n",
       "2          0.00  "
      ]
     },
     "metadata": {},
     "output_type": "display_data"
    },
    {
     "name": "stdout",
     "output_type": "stream",
     "text": [
      "=========================================================================\n",
      "Recent News of BKNG :\n",
      "-------------------------------------------------------------\n",
      "Booking Holdings to Buy Flights Partner ETraveli Group for $1.8 Billion\n",
      "2021-11-16 00:00:00\n",
      "-------------------------------------------------------------\n",
      "Booking Holdings plans $1.8 billion acquisition of Swedish flight-booking company\n",
      "2021-11-16 00:00:00\n",
      "-------------------------------------------------------------\n",
      "Booking Holdings Enters Into An Agreement With CVC Capital Partners To Acquire Etraveli Group\n",
      "2021-11-16 00:00:00\n",
      "-------------------------------------------------------------\n",
      "'The cup is half full at the moment' for the travel industry: Moody's Senior Vice President\n",
      "2021-11-22 00:00:00\n",
      "-------------------------------------------------------------\n",
      "Video Highlights: Tech Meets Vacation – Join CEO of Vacasa, Managing Partner of TPG Pace Group in Fireside Chat\n",
      "2021-11-22 00:00:00\n",
      "-------------------------------------------------------------\n",
      "4 Stocks That Can Turn $100,000 Into $500,000 by the Time You Retire\n",
      "2021-11-22 00:00:00\n",
      "================================================================\n"
     ]
    },
    {
     "data": {
      "application/vnd.plotly.v1+json": {
       "config": {
        "plotlyServerURL": "https://plot.ly"
       },
       "data": [
        {
         "hovertemplate": "variable=open<br>date=%{x}<br>value=%{y}<extra></extra>",
         "legendgroup": "open",
         "line": {
          "color": "#636efa",
          "dash": "solid"
         },
         "mode": "lines",
         "name": "open",
         "orientation": "v",
         "showlegend": true,
         "type": "scatter",
         "x": [
          "2021-10-25",
          "2021-10-26",
          "2021-10-27",
          "2021-10-28",
          "2021-10-29",
          "2021-11-01",
          "2021-11-02",
          "2021-11-03",
          "2021-11-04",
          "2021-11-05",
          "2021-11-08",
          "2021-11-09",
          "2021-11-10",
          "2021-11-11",
          "2021-11-12",
          "2021-11-15",
          "2021-11-16",
          "2021-11-17",
          "2021-11-18",
          "2021-11-19",
          "2021-11-22",
          "2021-11-23"
         ],
         "xaxis": "x",
         "y": [
          2397.840087890625,
          2422.89990234375,
          2431.3701171875,
          2426.02001953125,
          2418.889892578125,
          2420.1298828125,
          2475.679931640625,
          2443.320068359375,
          2539,
          2544.340087890625,
          2659,
          2639,
          2658.860107421875,
          2573.260009765625,
          2495.659912109375,
          2455,
          2412.1298828125,
          2386.2099609375,
          2374.14990234375,
          2314.8701171875,
          2330.81005859375,
          2312.239990234375
         ],
         "yaxis": "y"
        },
        {
         "hovertemplate": "variable=high<br>date=%{x}<br>value=%{y}<extra></extra>",
         "legendgroup": "high",
         "line": {
          "color": "#EF553B",
          "dash": "solid"
         },
         "mode": "lines",
         "name": "high",
         "orientation": "v",
         "showlegend": true,
         "type": "scatter",
         "x": [
          "2021-10-25",
          "2021-10-26",
          "2021-10-27",
          "2021-10-28",
          "2021-10-29",
          "2021-11-01",
          "2021-11-02",
          "2021-11-03",
          "2021-11-04",
          "2021-11-05",
          "2021-11-08",
          "2021-11-09",
          "2021-11-10",
          "2021-11-11",
          "2021-11-12",
          "2021-11-15",
          "2021-11-16",
          "2021-11-17",
          "2021-11-18",
          "2021-11-19",
          "2021-11-22",
          "2021-11-23"
         ],
         "xaxis": "x",
         "y": [
          2420.52001953125,
          2465,
          2457.590087890625,
          2431.239990234375,
          2430.110107421875,
          2490,
          2494.0400390625,
          2474.989990234375,
          2539.3798828125,
          2631.679931640625,
          2687.2900390625,
          2687,
          2669.909912109375,
          2575.330078125,
          2495.659912109375,
          2464,
          2412.1298828125,
          2402.7900390625,
          2387.050048828125,
          2358.070068359375,
          2366.030029296875,
          2349.580078125
         ],
         "yaxis": "y"
        },
        {
         "hovertemplate": "variable=close<br>date=%{x}<br>value=%{y}<extra></extra>",
         "legendgroup": "close",
         "line": {
          "color": "#00cc96",
          "dash": "solid"
         },
         "mode": "lines",
         "name": "close",
         "orientation": "v",
         "showlegend": true,
         "type": "scatter",
         "x": [
          "2021-10-25",
          "2021-10-26",
          "2021-10-27",
          "2021-10-28",
          "2021-10-29",
          "2021-11-01",
          "2021-11-02",
          "2021-11-03",
          "2021-11-04",
          "2021-11-05",
          "2021-11-08",
          "2021-11-09",
          "2021-11-10",
          "2021-11-11",
          "2021-11-12",
          "2021-11-15",
          "2021-11-16",
          "2021-11-17",
          "2021-11-18",
          "2021-11-19",
          "2021-11-22",
          "2021-11-23"
         ],
         "xaxis": "x",
         "y": [
          2412.97998046875,
          2443.030029296875,
          2428.090087890625,
          2429.77001953125,
          2420.780029296875,
          2489.68994140625,
          2453.830078125,
          2435.330078125,
          2437.010009765625,
          2618.969970703125,
          2639.860107421875,
          2648.199951171875,
          2569.780029296875,
          2479.0400390625,
          2451.64990234375,
          2405.010009765625,
          2380.330078125,
          2366.3798828125,
          2375.97998046875,
          2339.989990234375,
          2297.1298828125,
          2341.1298828125
         ],
         "yaxis": "y"
        },
        {
         "hovertemplate": "variable=low<br>date=%{x}<br>value=%{y}<extra></extra>",
         "legendgroup": "low",
         "line": {
          "color": "#ab63fa",
          "dash": "solid"
         },
         "mode": "lines",
         "name": "low",
         "orientation": "v",
         "showlegend": true,
         "type": "scatter",
         "x": [
          "2021-10-25",
          "2021-10-26",
          "2021-10-27",
          "2021-10-28",
          "2021-10-29",
          "2021-11-01",
          "2021-11-02",
          "2021-11-03",
          "2021-11-04",
          "2021-11-05",
          "2021-11-08",
          "2021-11-09",
          "2021-11-10",
          "2021-11-11",
          "2021-11-12",
          "2021-11-15",
          "2021-11-16",
          "2021-11-17",
          "2021-11-18",
          "2021-11-19",
          "2021-11-22",
          "2021-11-23"
         ],
         "xaxis": "x",
         "y": [
          2371.81005859375,
          2422.89990234375,
          2410,
          2395.590087890625,
          2392.18994140625,
          2420.1298828125,
          2420.639892578125,
          2405,
          2432.2900390625,
          2515.64990234375,
          2600.050048828125,
          2621.18994140625,
          2560,
          2475.18994140625,
          2442.419921875,
          2400.22998046875,
          2367.02001953125,
          2354.8701171875,
          2335.840087890625,
          2278,
          2293.330078125,
          2302.889892578125
         ],
         "yaxis": "y"
        },
        {
         "hovertemplate": "variable=adjclose<br>date=%{x}<br>value=%{y}<extra></extra>",
         "legendgroup": "adjclose",
         "line": {
          "color": "#FFA15A",
          "dash": "solid"
         },
         "mode": "lines",
         "name": "adjclose",
         "orientation": "v",
         "showlegend": true,
         "type": "scatter",
         "x": [
          "2021-10-25",
          "2021-10-26",
          "2021-10-27",
          "2021-10-28",
          "2021-10-29",
          "2021-11-01",
          "2021-11-02",
          "2021-11-03",
          "2021-11-04",
          "2021-11-05",
          "2021-11-08",
          "2021-11-09",
          "2021-11-10",
          "2021-11-11",
          "2021-11-12",
          "2021-11-15",
          "2021-11-16",
          "2021-11-17",
          "2021-11-18",
          "2021-11-19",
          "2021-11-22",
          "2021-11-23"
         ],
         "xaxis": "x",
         "y": [
          2412.97998046875,
          2443.030029296875,
          2428.090087890625,
          2429.77001953125,
          2420.780029296875,
          2489.68994140625,
          2453.830078125,
          2435.330078125,
          2437.010009765625,
          2618.969970703125,
          2639.860107421875,
          2648.199951171875,
          2569.780029296875,
          2479.0400390625,
          2451.64990234375,
          2405.010009765625,
          2380.330078125,
          2366.3798828125,
          2375.97998046875,
          2339.989990234375,
          2297.1298828125,
          2341.1298828125
         ],
         "yaxis": "y"
        }
       ],
       "layout": {
        "legend": {
         "title": {
          "text": "variable"
         },
         "tracegroupgap": 0
        },
        "template": {
         "data": {
          "bar": [
           {
            "error_x": {
             "color": "#2a3f5f"
            },
            "error_y": {
             "color": "#2a3f5f"
            },
            "marker": {
             "line": {
              "color": "#E5ECF6",
              "width": 0.5
             },
             "pattern": {
              "fillmode": "overlay",
              "size": 10,
              "solidity": 0.2
             }
            },
            "type": "bar"
           }
          ],
          "barpolar": [
           {
            "marker": {
             "line": {
              "color": "#E5ECF6",
              "width": 0.5
             },
             "pattern": {
              "fillmode": "overlay",
              "size": 10,
              "solidity": 0.2
             }
            },
            "type": "barpolar"
           }
          ],
          "carpet": [
           {
            "aaxis": {
             "endlinecolor": "#2a3f5f",
             "gridcolor": "white",
             "linecolor": "white",
             "minorgridcolor": "white",
             "startlinecolor": "#2a3f5f"
            },
            "baxis": {
             "endlinecolor": "#2a3f5f",
             "gridcolor": "white",
             "linecolor": "white",
             "minorgridcolor": "white",
             "startlinecolor": "#2a3f5f"
            },
            "type": "carpet"
           }
          ],
          "choropleth": [
           {
            "colorbar": {
             "outlinewidth": 0,
             "ticks": ""
            },
            "type": "choropleth"
           }
          ],
          "contour": [
           {
            "colorbar": {
             "outlinewidth": 0,
             "ticks": ""
            },
            "colorscale": [
             [
              0,
              "#0d0887"
             ],
             [
              0.1111111111111111,
              "#46039f"
             ],
             [
              0.2222222222222222,
              "#7201a8"
             ],
             [
              0.3333333333333333,
              "#9c179e"
             ],
             [
              0.4444444444444444,
              "#bd3786"
             ],
             [
              0.5555555555555556,
              "#d8576b"
             ],
             [
              0.6666666666666666,
              "#ed7953"
             ],
             [
              0.7777777777777778,
              "#fb9f3a"
             ],
             [
              0.8888888888888888,
              "#fdca26"
             ],
             [
              1,
              "#f0f921"
             ]
            ],
            "type": "contour"
           }
          ],
          "contourcarpet": [
           {
            "colorbar": {
             "outlinewidth": 0,
             "ticks": ""
            },
            "type": "contourcarpet"
           }
          ],
          "heatmap": [
           {
            "colorbar": {
             "outlinewidth": 0,
             "ticks": ""
            },
            "colorscale": [
             [
              0,
              "#0d0887"
             ],
             [
              0.1111111111111111,
              "#46039f"
             ],
             [
              0.2222222222222222,
              "#7201a8"
             ],
             [
              0.3333333333333333,
              "#9c179e"
             ],
             [
              0.4444444444444444,
              "#bd3786"
             ],
             [
              0.5555555555555556,
              "#d8576b"
             ],
             [
              0.6666666666666666,
              "#ed7953"
             ],
             [
              0.7777777777777778,
              "#fb9f3a"
             ],
             [
              0.8888888888888888,
              "#fdca26"
             ],
             [
              1,
              "#f0f921"
             ]
            ],
            "type": "heatmap"
           }
          ],
          "heatmapgl": [
           {
            "colorbar": {
             "outlinewidth": 0,
             "ticks": ""
            },
            "colorscale": [
             [
              0,
              "#0d0887"
             ],
             [
              0.1111111111111111,
              "#46039f"
             ],
             [
              0.2222222222222222,
              "#7201a8"
             ],
             [
              0.3333333333333333,
              "#9c179e"
             ],
             [
              0.4444444444444444,
              "#bd3786"
             ],
             [
              0.5555555555555556,
              "#d8576b"
             ],
             [
              0.6666666666666666,
              "#ed7953"
             ],
             [
              0.7777777777777778,
              "#fb9f3a"
             ],
             [
              0.8888888888888888,
              "#fdca26"
             ],
             [
              1,
              "#f0f921"
             ]
            ],
            "type": "heatmapgl"
           }
          ],
          "histogram": [
           {
            "marker": {
             "pattern": {
              "fillmode": "overlay",
              "size": 10,
              "solidity": 0.2
             }
            },
            "type": "histogram"
           }
          ],
          "histogram2d": [
           {
            "colorbar": {
             "outlinewidth": 0,
             "ticks": ""
            },
            "colorscale": [
             [
              0,
              "#0d0887"
             ],
             [
              0.1111111111111111,
              "#46039f"
             ],
             [
              0.2222222222222222,
              "#7201a8"
             ],
             [
              0.3333333333333333,
              "#9c179e"
             ],
             [
              0.4444444444444444,
              "#bd3786"
             ],
             [
              0.5555555555555556,
              "#d8576b"
             ],
             [
              0.6666666666666666,
              "#ed7953"
             ],
             [
              0.7777777777777778,
              "#fb9f3a"
             ],
             [
              0.8888888888888888,
              "#fdca26"
             ],
             [
              1,
              "#f0f921"
             ]
            ],
            "type": "histogram2d"
           }
          ],
          "histogram2dcontour": [
           {
            "colorbar": {
             "outlinewidth": 0,
             "ticks": ""
            },
            "colorscale": [
             [
              0,
              "#0d0887"
             ],
             [
              0.1111111111111111,
              "#46039f"
             ],
             [
              0.2222222222222222,
              "#7201a8"
             ],
             [
              0.3333333333333333,
              "#9c179e"
             ],
             [
              0.4444444444444444,
              "#bd3786"
             ],
             [
              0.5555555555555556,
              "#d8576b"
             ],
             [
              0.6666666666666666,
              "#ed7953"
             ],
             [
              0.7777777777777778,
              "#fb9f3a"
             ],
             [
              0.8888888888888888,
              "#fdca26"
             ],
             [
              1,
              "#f0f921"
             ]
            ],
            "type": "histogram2dcontour"
           }
          ],
          "mesh3d": [
           {
            "colorbar": {
             "outlinewidth": 0,
             "ticks": ""
            },
            "type": "mesh3d"
           }
          ],
          "parcoords": [
           {
            "line": {
             "colorbar": {
              "outlinewidth": 0,
              "ticks": ""
             }
            },
            "type": "parcoords"
           }
          ],
          "pie": [
           {
            "automargin": true,
            "type": "pie"
           }
          ],
          "scatter": [
           {
            "marker": {
             "colorbar": {
              "outlinewidth": 0,
              "ticks": ""
             }
            },
            "type": "scatter"
           }
          ],
          "scatter3d": [
           {
            "line": {
             "colorbar": {
              "outlinewidth": 0,
              "ticks": ""
             }
            },
            "marker": {
             "colorbar": {
              "outlinewidth": 0,
              "ticks": ""
             }
            },
            "type": "scatter3d"
           }
          ],
          "scattercarpet": [
           {
            "marker": {
             "colorbar": {
              "outlinewidth": 0,
              "ticks": ""
             }
            },
            "type": "scattercarpet"
           }
          ],
          "scattergeo": [
           {
            "marker": {
             "colorbar": {
              "outlinewidth": 0,
              "ticks": ""
             }
            },
            "type": "scattergeo"
           }
          ],
          "scattergl": [
           {
            "marker": {
             "colorbar": {
              "outlinewidth": 0,
              "ticks": ""
             }
            },
            "type": "scattergl"
           }
          ],
          "scattermapbox": [
           {
            "marker": {
             "colorbar": {
              "outlinewidth": 0,
              "ticks": ""
             }
            },
            "type": "scattermapbox"
           }
          ],
          "scatterpolar": [
           {
            "marker": {
             "colorbar": {
              "outlinewidth": 0,
              "ticks": ""
             }
            },
            "type": "scatterpolar"
           }
          ],
          "scatterpolargl": [
           {
            "marker": {
             "colorbar": {
              "outlinewidth": 0,
              "ticks": ""
             }
            },
            "type": "scatterpolargl"
           }
          ],
          "scatterternary": [
           {
            "marker": {
             "colorbar": {
              "outlinewidth": 0,
              "ticks": ""
             }
            },
            "type": "scatterternary"
           }
          ],
          "surface": [
           {
            "colorbar": {
             "outlinewidth": 0,
             "ticks": ""
            },
            "colorscale": [
             [
              0,
              "#0d0887"
             ],
             [
              0.1111111111111111,
              "#46039f"
             ],
             [
              0.2222222222222222,
              "#7201a8"
             ],
             [
              0.3333333333333333,
              "#9c179e"
             ],
             [
              0.4444444444444444,
              "#bd3786"
             ],
             [
              0.5555555555555556,
              "#d8576b"
             ],
             [
              0.6666666666666666,
              "#ed7953"
             ],
             [
              0.7777777777777778,
              "#fb9f3a"
             ],
             [
              0.8888888888888888,
              "#fdca26"
             ],
             [
              1,
              "#f0f921"
             ]
            ],
            "type": "surface"
           }
          ],
          "table": [
           {
            "cells": {
             "fill": {
              "color": "#EBF0F8"
             },
             "line": {
              "color": "white"
             }
            },
            "header": {
             "fill": {
              "color": "#C8D4E3"
             },
             "line": {
              "color": "white"
             }
            },
            "type": "table"
           }
          ]
         },
         "layout": {
          "annotationdefaults": {
           "arrowcolor": "#2a3f5f",
           "arrowhead": 0,
           "arrowwidth": 1
          },
          "autotypenumbers": "strict",
          "coloraxis": {
           "colorbar": {
            "outlinewidth": 0,
            "ticks": ""
           }
          },
          "colorscale": {
           "diverging": [
            [
             0,
             "#8e0152"
            ],
            [
             0.1,
             "#c51b7d"
            ],
            [
             0.2,
             "#de77ae"
            ],
            [
             0.3,
             "#f1b6da"
            ],
            [
             0.4,
             "#fde0ef"
            ],
            [
             0.5,
             "#f7f7f7"
            ],
            [
             0.6,
             "#e6f5d0"
            ],
            [
             0.7,
             "#b8e186"
            ],
            [
             0.8,
             "#7fbc41"
            ],
            [
             0.9,
             "#4d9221"
            ],
            [
             1,
             "#276419"
            ]
           ],
           "sequential": [
            [
             0,
             "#0d0887"
            ],
            [
             0.1111111111111111,
             "#46039f"
            ],
            [
             0.2222222222222222,
             "#7201a8"
            ],
            [
             0.3333333333333333,
             "#9c179e"
            ],
            [
             0.4444444444444444,
             "#bd3786"
            ],
            [
             0.5555555555555556,
             "#d8576b"
            ],
            [
             0.6666666666666666,
             "#ed7953"
            ],
            [
             0.7777777777777778,
             "#fb9f3a"
            ],
            [
             0.8888888888888888,
             "#fdca26"
            ],
            [
             1,
             "#f0f921"
            ]
           ],
           "sequentialminus": [
            [
             0,
             "#0d0887"
            ],
            [
             0.1111111111111111,
             "#46039f"
            ],
            [
             0.2222222222222222,
             "#7201a8"
            ],
            [
             0.3333333333333333,
             "#9c179e"
            ],
            [
             0.4444444444444444,
             "#bd3786"
            ],
            [
             0.5555555555555556,
             "#d8576b"
            ],
            [
             0.6666666666666666,
             "#ed7953"
            ],
            [
             0.7777777777777778,
             "#fb9f3a"
            ],
            [
             0.8888888888888888,
             "#fdca26"
            ],
            [
             1,
             "#f0f921"
            ]
           ]
          },
          "colorway": [
           "#636efa",
           "#EF553B",
           "#00cc96",
           "#ab63fa",
           "#FFA15A",
           "#19d3f3",
           "#FF6692",
           "#B6E880",
           "#FF97FF",
           "#FECB52"
          ],
          "font": {
           "color": "#2a3f5f"
          },
          "geo": {
           "bgcolor": "white",
           "lakecolor": "white",
           "landcolor": "#E5ECF6",
           "showlakes": true,
           "showland": true,
           "subunitcolor": "white"
          },
          "hoverlabel": {
           "align": "left"
          },
          "hovermode": "closest",
          "mapbox": {
           "style": "light"
          },
          "paper_bgcolor": "white",
          "plot_bgcolor": "#E5ECF6",
          "polar": {
           "angularaxis": {
            "gridcolor": "white",
            "linecolor": "white",
            "ticks": ""
           },
           "bgcolor": "#E5ECF6",
           "radialaxis": {
            "gridcolor": "white",
            "linecolor": "white",
            "ticks": ""
           }
          },
          "scene": {
           "xaxis": {
            "backgroundcolor": "#E5ECF6",
            "gridcolor": "white",
            "gridwidth": 2,
            "linecolor": "white",
            "showbackground": true,
            "ticks": "",
            "zerolinecolor": "white"
           },
           "yaxis": {
            "backgroundcolor": "#E5ECF6",
            "gridcolor": "white",
            "gridwidth": 2,
            "linecolor": "white",
            "showbackground": true,
            "ticks": "",
            "zerolinecolor": "white"
           },
           "zaxis": {
            "backgroundcolor": "#E5ECF6",
            "gridcolor": "white",
            "gridwidth": 2,
            "linecolor": "white",
            "showbackground": true,
            "ticks": "",
            "zerolinecolor": "white"
           }
          },
          "shapedefaults": {
           "line": {
            "color": "#2a3f5f"
           }
          },
          "ternary": {
           "aaxis": {
            "gridcolor": "white",
            "linecolor": "white",
            "ticks": ""
           },
           "baxis": {
            "gridcolor": "white",
            "linecolor": "white",
            "ticks": ""
           },
           "bgcolor": "#E5ECF6",
           "caxis": {
            "gridcolor": "white",
            "linecolor": "white",
            "ticks": ""
           }
          },
          "title": {
           "x": 0.05
          },
          "xaxis": {
           "automargin": true,
           "gridcolor": "white",
           "linecolor": "white",
           "ticks": "",
           "title": {
            "standoff": 15
           },
           "zerolinecolor": "white",
           "zerolinewidth": 2
          },
          "yaxis": {
           "automargin": true,
           "gridcolor": "white",
           "linecolor": "white",
           "ticks": "",
           "title": {
            "standoff": 15
           },
           "zerolinecolor": "white",
           "zerolinewidth": 2
          }
         }
        },
        "title": {
         "text": "BKNG Historical Price"
        },
        "xaxis": {
         "anchor": "y",
         "domain": [
          0,
          1
         ],
         "title": {
          "text": "date"
         }
        },
        "yaxis": {
         "anchor": "x",
         "domain": [
          0,
          1
         ],
         "title": {
          "text": "value"
         }
        }
       }
      },
      "text/html": [
       "<div>                            <div id=\"8a24551e-8b27-4975-a9e7-3570222311c0\" class=\"plotly-graph-div\" style=\"height:525px; width:100%;\"></div>            <script type=\"text/javascript\">                require([\"plotly\"], function(Plotly) {                    window.PLOTLYENV=window.PLOTLYENV || {};                                    if (document.getElementById(\"8a24551e-8b27-4975-a9e7-3570222311c0\")) {                    Plotly.newPlot(                        \"8a24551e-8b27-4975-a9e7-3570222311c0\",                        [{\"hovertemplate\":\"variable=open<br>date=%{x}<br>value=%{y}<extra></extra>\",\"legendgroup\":\"open\",\"line\":{\"color\":\"#636efa\",\"dash\":\"solid\"},\"mode\":\"lines\",\"name\":\"open\",\"orientation\":\"v\",\"showlegend\":true,\"type\":\"scatter\",\"x\":[\"2021-10-25\",\"2021-10-26\",\"2021-10-27\",\"2021-10-28\",\"2021-10-29\",\"2021-11-01\",\"2021-11-02\",\"2021-11-03\",\"2021-11-04\",\"2021-11-05\",\"2021-11-08\",\"2021-11-09\",\"2021-11-10\",\"2021-11-11\",\"2021-11-12\",\"2021-11-15\",\"2021-11-16\",\"2021-11-17\",\"2021-11-18\",\"2021-11-19\",\"2021-11-22\",\"2021-11-23\"],\"xaxis\":\"x\",\"y\":[2397.840087890625,2422.89990234375,2431.3701171875,2426.02001953125,2418.889892578125,2420.1298828125,2475.679931640625,2443.320068359375,2539.0,2544.340087890625,2659.0,2639.0,2658.860107421875,2573.260009765625,2495.659912109375,2455.0,2412.1298828125,2386.2099609375,2374.14990234375,2314.8701171875,2330.81005859375,2312.239990234375],\"yaxis\":\"y\"},{\"hovertemplate\":\"variable=high<br>date=%{x}<br>value=%{y}<extra></extra>\",\"legendgroup\":\"high\",\"line\":{\"color\":\"#EF553B\",\"dash\":\"solid\"},\"mode\":\"lines\",\"name\":\"high\",\"orientation\":\"v\",\"showlegend\":true,\"type\":\"scatter\",\"x\":[\"2021-10-25\",\"2021-10-26\",\"2021-10-27\",\"2021-10-28\",\"2021-10-29\",\"2021-11-01\",\"2021-11-02\",\"2021-11-03\",\"2021-11-04\",\"2021-11-05\",\"2021-11-08\",\"2021-11-09\",\"2021-11-10\",\"2021-11-11\",\"2021-11-12\",\"2021-11-15\",\"2021-11-16\",\"2021-11-17\",\"2021-11-18\",\"2021-11-19\",\"2021-11-22\",\"2021-11-23\"],\"xaxis\":\"x\",\"y\":[2420.52001953125,2465.0,2457.590087890625,2431.239990234375,2430.110107421875,2490.0,2494.0400390625,2474.989990234375,2539.3798828125,2631.679931640625,2687.2900390625,2687.0,2669.909912109375,2575.330078125,2495.659912109375,2464.0,2412.1298828125,2402.7900390625,2387.050048828125,2358.070068359375,2366.030029296875,2349.580078125],\"yaxis\":\"y\"},{\"hovertemplate\":\"variable=close<br>date=%{x}<br>value=%{y}<extra></extra>\",\"legendgroup\":\"close\",\"line\":{\"color\":\"#00cc96\",\"dash\":\"solid\"},\"mode\":\"lines\",\"name\":\"close\",\"orientation\":\"v\",\"showlegend\":true,\"type\":\"scatter\",\"x\":[\"2021-10-25\",\"2021-10-26\",\"2021-10-27\",\"2021-10-28\",\"2021-10-29\",\"2021-11-01\",\"2021-11-02\",\"2021-11-03\",\"2021-11-04\",\"2021-11-05\",\"2021-11-08\",\"2021-11-09\",\"2021-11-10\",\"2021-11-11\",\"2021-11-12\",\"2021-11-15\",\"2021-11-16\",\"2021-11-17\",\"2021-11-18\",\"2021-11-19\",\"2021-11-22\",\"2021-11-23\"],\"xaxis\":\"x\",\"y\":[2412.97998046875,2443.030029296875,2428.090087890625,2429.77001953125,2420.780029296875,2489.68994140625,2453.830078125,2435.330078125,2437.010009765625,2618.969970703125,2639.860107421875,2648.199951171875,2569.780029296875,2479.0400390625,2451.64990234375,2405.010009765625,2380.330078125,2366.3798828125,2375.97998046875,2339.989990234375,2297.1298828125,2341.1298828125],\"yaxis\":\"y\"},{\"hovertemplate\":\"variable=low<br>date=%{x}<br>value=%{y}<extra></extra>\",\"legendgroup\":\"low\",\"line\":{\"color\":\"#ab63fa\",\"dash\":\"solid\"},\"mode\":\"lines\",\"name\":\"low\",\"orientation\":\"v\",\"showlegend\":true,\"type\":\"scatter\",\"x\":[\"2021-10-25\",\"2021-10-26\",\"2021-10-27\",\"2021-10-28\",\"2021-10-29\",\"2021-11-01\",\"2021-11-02\",\"2021-11-03\",\"2021-11-04\",\"2021-11-05\",\"2021-11-08\",\"2021-11-09\",\"2021-11-10\",\"2021-11-11\",\"2021-11-12\",\"2021-11-15\",\"2021-11-16\",\"2021-11-17\",\"2021-11-18\",\"2021-11-19\",\"2021-11-22\",\"2021-11-23\"],\"xaxis\":\"x\",\"y\":[2371.81005859375,2422.89990234375,2410.0,2395.590087890625,2392.18994140625,2420.1298828125,2420.639892578125,2405.0,2432.2900390625,2515.64990234375,2600.050048828125,2621.18994140625,2560.0,2475.18994140625,2442.419921875,2400.22998046875,2367.02001953125,2354.8701171875,2335.840087890625,2278.0,2293.330078125,2302.889892578125],\"yaxis\":\"y\"},{\"hovertemplate\":\"variable=adjclose<br>date=%{x}<br>value=%{y}<extra></extra>\",\"legendgroup\":\"adjclose\",\"line\":{\"color\":\"#FFA15A\",\"dash\":\"solid\"},\"mode\":\"lines\",\"name\":\"adjclose\",\"orientation\":\"v\",\"showlegend\":true,\"type\":\"scatter\",\"x\":[\"2021-10-25\",\"2021-10-26\",\"2021-10-27\",\"2021-10-28\",\"2021-10-29\",\"2021-11-01\",\"2021-11-02\",\"2021-11-03\",\"2021-11-04\",\"2021-11-05\",\"2021-11-08\",\"2021-11-09\",\"2021-11-10\",\"2021-11-11\",\"2021-11-12\",\"2021-11-15\",\"2021-11-16\",\"2021-11-17\",\"2021-11-18\",\"2021-11-19\",\"2021-11-22\",\"2021-11-23\"],\"xaxis\":\"x\",\"y\":[2412.97998046875,2443.030029296875,2428.090087890625,2429.77001953125,2420.780029296875,2489.68994140625,2453.830078125,2435.330078125,2437.010009765625,2618.969970703125,2639.860107421875,2648.199951171875,2569.780029296875,2479.0400390625,2451.64990234375,2405.010009765625,2380.330078125,2366.3798828125,2375.97998046875,2339.989990234375,2297.1298828125,2341.1298828125],\"yaxis\":\"y\"}],                        {\"legend\":{\"title\":{\"text\":\"variable\"},\"tracegroupgap\":0},\"template\":{\"data\":{\"bar\":[{\"error_x\":{\"color\":\"#2a3f5f\"},\"error_y\":{\"color\":\"#2a3f5f\"},\"marker\":{\"line\":{\"color\":\"#E5ECF6\",\"width\":0.5},\"pattern\":{\"fillmode\":\"overlay\",\"size\":10,\"solidity\":0.2}},\"type\":\"bar\"}],\"barpolar\":[{\"marker\":{\"line\":{\"color\":\"#E5ECF6\",\"width\":0.5},\"pattern\":{\"fillmode\":\"overlay\",\"size\":10,\"solidity\":0.2}},\"type\":\"barpolar\"}],\"carpet\":[{\"aaxis\":{\"endlinecolor\":\"#2a3f5f\",\"gridcolor\":\"white\",\"linecolor\":\"white\",\"minorgridcolor\":\"white\",\"startlinecolor\":\"#2a3f5f\"},\"baxis\":{\"endlinecolor\":\"#2a3f5f\",\"gridcolor\":\"white\",\"linecolor\":\"white\",\"minorgridcolor\":\"white\",\"startlinecolor\":\"#2a3f5f\"},\"type\":\"carpet\"}],\"choropleth\":[{\"colorbar\":{\"outlinewidth\":0,\"ticks\":\"\"},\"type\":\"choropleth\"}],\"contour\":[{\"colorbar\":{\"outlinewidth\":0,\"ticks\":\"\"},\"colorscale\":[[0.0,\"#0d0887\"],[0.1111111111111111,\"#46039f\"],[0.2222222222222222,\"#7201a8\"],[0.3333333333333333,\"#9c179e\"],[0.4444444444444444,\"#bd3786\"],[0.5555555555555556,\"#d8576b\"],[0.6666666666666666,\"#ed7953\"],[0.7777777777777778,\"#fb9f3a\"],[0.8888888888888888,\"#fdca26\"],[1.0,\"#f0f921\"]],\"type\":\"contour\"}],\"contourcarpet\":[{\"colorbar\":{\"outlinewidth\":0,\"ticks\":\"\"},\"type\":\"contourcarpet\"}],\"heatmap\":[{\"colorbar\":{\"outlinewidth\":0,\"ticks\":\"\"},\"colorscale\":[[0.0,\"#0d0887\"],[0.1111111111111111,\"#46039f\"],[0.2222222222222222,\"#7201a8\"],[0.3333333333333333,\"#9c179e\"],[0.4444444444444444,\"#bd3786\"],[0.5555555555555556,\"#d8576b\"],[0.6666666666666666,\"#ed7953\"],[0.7777777777777778,\"#fb9f3a\"],[0.8888888888888888,\"#fdca26\"],[1.0,\"#f0f921\"]],\"type\":\"heatmap\"}],\"heatmapgl\":[{\"colorbar\":{\"outlinewidth\":0,\"ticks\":\"\"},\"colorscale\":[[0.0,\"#0d0887\"],[0.1111111111111111,\"#46039f\"],[0.2222222222222222,\"#7201a8\"],[0.3333333333333333,\"#9c179e\"],[0.4444444444444444,\"#bd3786\"],[0.5555555555555556,\"#d8576b\"],[0.6666666666666666,\"#ed7953\"],[0.7777777777777778,\"#fb9f3a\"],[0.8888888888888888,\"#fdca26\"],[1.0,\"#f0f921\"]],\"type\":\"heatmapgl\"}],\"histogram\":[{\"marker\":{\"pattern\":{\"fillmode\":\"overlay\",\"size\":10,\"solidity\":0.2}},\"type\":\"histogram\"}],\"histogram2d\":[{\"colorbar\":{\"outlinewidth\":0,\"ticks\":\"\"},\"colorscale\":[[0.0,\"#0d0887\"],[0.1111111111111111,\"#46039f\"],[0.2222222222222222,\"#7201a8\"],[0.3333333333333333,\"#9c179e\"],[0.4444444444444444,\"#bd3786\"],[0.5555555555555556,\"#d8576b\"],[0.6666666666666666,\"#ed7953\"],[0.7777777777777778,\"#fb9f3a\"],[0.8888888888888888,\"#fdca26\"],[1.0,\"#f0f921\"]],\"type\":\"histogram2d\"}],\"histogram2dcontour\":[{\"colorbar\":{\"outlinewidth\":0,\"ticks\":\"\"},\"colorscale\":[[0.0,\"#0d0887\"],[0.1111111111111111,\"#46039f\"],[0.2222222222222222,\"#7201a8\"],[0.3333333333333333,\"#9c179e\"],[0.4444444444444444,\"#bd3786\"],[0.5555555555555556,\"#d8576b\"],[0.6666666666666666,\"#ed7953\"],[0.7777777777777778,\"#fb9f3a\"],[0.8888888888888888,\"#fdca26\"],[1.0,\"#f0f921\"]],\"type\":\"histogram2dcontour\"}],\"mesh3d\":[{\"colorbar\":{\"outlinewidth\":0,\"ticks\":\"\"},\"type\":\"mesh3d\"}],\"parcoords\":[{\"line\":{\"colorbar\":{\"outlinewidth\":0,\"ticks\":\"\"}},\"type\":\"parcoords\"}],\"pie\":[{\"automargin\":true,\"type\":\"pie\"}],\"scatter\":[{\"marker\":{\"colorbar\":{\"outlinewidth\":0,\"ticks\":\"\"}},\"type\":\"scatter\"}],\"scatter3d\":[{\"line\":{\"colorbar\":{\"outlinewidth\":0,\"ticks\":\"\"}},\"marker\":{\"colorbar\":{\"outlinewidth\":0,\"ticks\":\"\"}},\"type\":\"scatter3d\"}],\"scattercarpet\":[{\"marker\":{\"colorbar\":{\"outlinewidth\":0,\"ticks\":\"\"}},\"type\":\"scattercarpet\"}],\"scattergeo\":[{\"marker\":{\"colorbar\":{\"outlinewidth\":0,\"ticks\":\"\"}},\"type\":\"scattergeo\"}],\"scattergl\":[{\"marker\":{\"colorbar\":{\"outlinewidth\":0,\"ticks\":\"\"}},\"type\":\"scattergl\"}],\"scattermapbox\":[{\"marker\":{\"colorbar\":{\"outlinewidth\":0,\"ticks\":\"\"}},\"type\":\"scattermapbox\"}],\"scatterpolar\":[{\"marker\":{\"colorbar\":{\"outlinewidth\":0,\"ticks\":\"\"}},\"type\":\"scatterpolar\"}],\"scatterpolargl\":[{\"marker\":{\"colorbar\":{\"outlinewidth\":0,\"ticks\":\"\"}},\"type\":\"scatterpolargl\"}],\"scatterternary\":[{\"marker\":{\"colorbar\":{\"outlinewidth\":0,\"ticks\":\"\"}},\"type\":\"scatterternary\"}],\"surface\":[{\"colorbar\":{\"outlinewidth\":0,\"ticks\":\"\"},\"colorscale\":[[0.0,\"#0d0887\"],[0.1111111111111111,\"#46039f\"],[0.2222222222222222,\"#7201a8\"],[0.3333333333333333,\"#9c179e\"],[0.4444444444444444,\"#bd3786\"],[0.5555555555555556,\"#d8576b\"],[0.6666666666666666,\"#ed7953\"],[0.7777777777777778,\"#fb9f3a\"],[0.8888888888888888,\"#fdca26\"],[1.0,\"#f0f921\"]],\"type\":\"surface\"}],\"table\":[{\"cells\":{\"fill\":{\"color\":\"#EBF0F8\"},\"line\":{\"color\":\"white\"}},\"header\":{\"fill\":{\"color\":\"#C8D4E3\"},\"line\":{\"color\":\"white\"}},\"type\":\"table\"}]},\"layout\":{\"annotationdefaults\":{\"arrowcolor\":\"#2a3f5f\",\"arrowhead\":0,\"arrowwidth\":1},\"autotypenumbers\":\"strict\",\"coloraxis\":{\"colorbar\":{\"outlinewidth\":0,\"ticks\":\"\"}},\"colorscale\":{\"diverging\":[[0,\"#8e0152\"],[0.1,\"#c51b7d\"],[0.2,\"#de77ae\"],[0.3,\"#f1b6da\"],[0.4,\"#fde0ef\"],[0.5,\"#f7f7f7\"],[0.6,\"#e6f5d0\"],[0.7,\"#b8e186\"],[0.8,\"#7fbc41\"],[0.9,\"#4d9221\"],[1,\"#276419\"]],\"sequential\":[[0.0,\"#0d0887\"],[0.1111111111111111,\"#46039f\"],[0.2222222222222222,\"#7201a8\"],[0.3333333333333333,\"#9c179e\"],[0.4444444444444444,\"#bd3786\"],[0.5555555555555556,\"#d8576b\"],[0.6666666666666666,\"#ed7953\"],[0.7777777777777778,\"#fb9f3a\"],[0.8888888888888888,\"#fdca26\"],[1.0,\"#f0f921\"]],\"sequentialminus\":[[0.0,\"#0d0887\"],[0.1111111111111111,\"#46039f\"],[0.2222222222222222,\"#7201a8\"],[0.3333333333333333,\"#9c179e\"],[0.4444444444444444,\"#bd3786\"],[0.5555555555555556,\"#d8576b\"],[0.6666666666666666,\"#ed7953\"],[0.7777777777777778,\"#fb9f3a\"],[0.8888888888888888,\"#fdca26\"],[1.0,\"#f0f921\"]]},\"colorway\":[\"#636efa\",\"#EF553B\",\"#00cc96\",\"#ab63fa\",\"#FFA15A\",\"#19d3f3\",\"#FF6692\",\"#B6E880\",\"#FF97FF\",\"#FECB52\"],\"font\":{\"color\":\"#2a3f5f\"},\"geo\":{\"bgcolor\":\"white\",\"lakecolor\":\"white\",\"landcolor\":\"#E5ECF6\",\"showlakes\":true,\"showland\":true,\"subunitcolor\":\"white\"},\"hoverlabel\":{\"align\":\"left\"},\"hovermode\":\"closest\",\"mapbox\":{\"style\":\"light\"},\"paper_bgcolor\":\"white\",\"plot_bgcolor\":\"#E5ECF6\",\"polar\":{\"angularaxis\":{\"gridcolor\":\"white\",\"linecolor\":\"white\",\"ticks\":\"\"},\"bgcolor\":\"#E5ECF6\",\"radialaxis\":{\"gridcolor\":\"white\",\"linecolor\":\"white\",\"ticks\":\"\"}},\"scene\":{\"xaxis\":{\"backgroundcolor\":\"#E5ECF6\",\"gridcolor\":\"white\",\"gridwidth\":2,\"linecolor\":\"white\",\"showbackground\":true,\"ticks\":\"\",\"zerolinecolor\":\"white\"},\"yaxis\":{\"backgroundcolor\":\"#E5ECF6\",\"gridcolor\":\"white\",\"gridwidth\":2,\"linecolor\":\"white\",\"showbackground\":true,\"ticks\":\"\",\"zerolinecolor\":\"white\"},\"zaxis\":{\"backgroundcolor\":\"#E5ECF6\",\"gridcolor\":\"white\",\"gridwidth\":2,\"linecolor\":\"white\",\"showbackground\":true,\"ticks\":\"\",\"zerolinecolor\":\"white\"}},\"shapedefaults\":{\"line\":{\"color\":\"#2a3f5f\"}},\"ternary\":{\"aaxis\":{\"gridcolor\":\"white\",\"linecolor\":\"white\",\"ticks\":\"\"},\"baxis\":{\"gridcolor\":\"white\",\"linecolor\":\"white\",\"ticks\":\"\"},\"bgcolor\":\"#E5ECF6\",\"caxis\":{\"gridcolor\":\"white\",\"linecolor\":\"white\",\"ticks\":\"\"}},\"title\":{\"x\":0.05},\"xaxis\":{\"automargin\":true,\"gridcolor\":\"white\",\"linecolor\":\"white\",\"ticks\":\"\",\"title\":{\"standoff\":15},\"zerolinecolor\":\"white\",\"zerolinewidth\":2},\"yaxis\":{\"automargin\":true,\"gridcolor\":\"white\",\"linecolor\":\"white\",\"ticks\":\"\",\"title\":{\"standoff\":15},\"zerolinecolor\":\"white\",\"zerolinewidth\":2}}},\"title\":{\"text\":\"BKNG Historical Price\"},\"xaxis\":{\"anchor\":\"y\",\"domain\":[0.0,1.0],\"title\":{\"text\":\"date\"}},\"yaxis\":{\"anchor\":\"x\",\"domain\":[0.0,1.0],\"title\":{\"text\":\"value\"}}},                        {\"responsive\": true}                    ).then(function(){\n",
       "                            \n",
       "var gd = document.getElementById('8a24551e-8b27-4975-a9e7-3570222311c0');\n",
       "var x = new MutationObserver(function (mutations, observer) {{\n",
       "        var display = window.getComputedStyle(gd).display;\n",
       "        if (!display || display === 'none') {{\n",
       "            console.log([gd, 'removed!']);\n",
       "            Plotly.purge(gd);\n",
       "            observer.disconnect();\n",
       "        }}\n",
       "}});\n",
       "\n",
       "// Listen for the removal of the full notebook cells\n",
       "var notebookContainer = gd.closest('#notebook-container');\n",
       "if (notebookContainer) {{\n",
       "    x.observe(notebookContainer, {childList: true});\n",
       "}}\n",
       "\n",
       "// Listen for the clearing of the current output cell\n",
       "var outputEl = gd.closest('.output');\n",
       "if (outputEl) {{\n",
       "    x.observe(outputEl, {childList: true});\n",
       "}}\n",
       "\n",
       "                        })                };                });            </script>        </div>"
      ]
     },
     "metadata": {},
     "output_type": "display_data"
    },
    {
     "name": "stdout",
     "output_type": "stream",
     "text": [
      "=============================== BKNG =================================\n",
      "\n",
      "-------------------------- Summary Details ----------------------------\n"
     ]
    },
    {
     "data": {
      "text/html": [
       "<div>\n",
       "<style scoped>\n",
       "    .dataframe tbody tr th:only-of-type {\n",
       "        vertical-align: middle;\n",
       "    }\n",
       "\n",
       "    .dataframe tbody tr th {\n",
       "        vertical-align: top;\n",
       "    }\n",
       "\n",
       "    .dataframe thead th {\n",
       "        text-align: right;\n",
       "    }\n",
       "</style>\n",
       "<table border=\"1\" class=\"dataframe\">\n",
       "  <thead>\n",
       "    <tr style=\"text-align: right;\">\n",
       "      <th></th>\n",
       "      <th>Value</th>\n",
       "    </tr>\n",
       "  </thead>\n",
       "  <tbody>\n",
       "    <tr>\n",
       "      <th>totalAssets</th>\n",
       "      <td>NaN</td>\n",
       "    </tr>\n",
       "    <tr>\n",
       "      <th>previousClose</th>\n",
       "      <td>2297.13</td>\n",
       "    </tr>\n",
       "    <tr>\n",
       "      <th>open</th>\n",
       "      <td>2312.24</td>\n",
       "    </tr>\n",
       "    <tr>\n",
       "      <th>fiftyDayAverage</th>\n",
       "      <td>2438.43</td>\n",
       "    </tr>\n",
       "    <tr>\n",
       "      <th>fiftyDayAverage</th>\n",
       "      <td>2438.43</td>\n",
       "    </tr>\n",
       "    <tr>\n",
       "      <th>fiftyTwoWeekLow</th>\n",
       "      <td>1860.73</td>\n",
       "    </tr>\n",
       "    <tr>\n",
       "      <th>fiftyTwoWeekHigh</th>\n",
       "      <td>2687.29</td>\n",
       "    </tr>\n",
       "    <tr>\n",
       "      <th>twoHundredDayAverage</th>\n",
       "      <td>2320.85</td>\n",
       "    </tr>\n",
       "    <tr>\n",
       "      <th>volume</th>\n",
       "      <td>253482</td>\n",
       "    </tr>\n",
       "    <tr>\n",
       "      <th>averageVolume</th>\n",
       "      <td>297106</td>\n",
       "    </tr>\n",
       "    <tr>\n",
       "      <th>averageVolume10days</th>\n",
       "      <td>385810</td>\n",
       "    </tr>\n",
       "    <tr>\n",
       "      <th>averageDailyVolume10Day</th>\n",
       "      <td>385810</td>\n",
       "    </tr>\n",
       "  </tbody>\n",
       "</table>\n",
       "</div>"
      ],
      "text/plain": [
       "                           Value\n",
       "totalAssets                  NaN\n",
       "previousClose            2297.13\n",
       "open                     2312.24\n",
       "fiftyDayAverage          2438.43\n",
       "fiftyDayAverage          2438.43\n",
       "fiftyTwoWeekLow          1860.73\n",
       "fiftyTwoWeekHigh         2687.29\n",
       "twoHundredDayAverage     2320.85\n",
       "volume                    253482\n",
       "averageVolume             297106\n",
       "averageVolume10days       385810\n",
       "averageDailyVolume10Day   385810"
      ]
     },
     "metadata": {},
     "output_type": "display_data"
    },
    {
     "name": "stdout",
     "output_type": "stream",
     "text": [
      "-------------------------- Key Factor ----------------------------\n"
     ]
    },
    {
     "data": {
      "text/html": [
       "<div>\n",
       "<style scoped>\n",
       "    .dataframe tbody tr th:only-of-type {\n",
       "        vertical-align: middle;\n",
       "    }\n",
       "\n",
       "    .dataframe tbody tr th {\n",
       "        vertical-align: top;\n",
       "    }\n",
       "\n",
       "    .dataframe thead th {\n",
       "        text-align: right;\n",
       "    }\n",
       "</style>\n",
       "<table border=\"1\" class=\"dataframe\">\n",
       "  <thead>\n",
       "    <tr style=\"text-align: right;\">\n",
       "      <th></th>\n",
       "      <th>Value</th>\n",
       "    </tr>\n",
       "  </thead>\n",
       "  <tbody>\n",
       "    <tr>\n",
       "      <th>category</th>\n",
       "      <td>None</td>\n",
       "    </tr>\n",
       "    <tr>\n",
       "      <th>fundFamily</th>\n",
       "      <td>None</td>\n",
       "    </tr>\n",
       "    <tr>\n",
       "      <th>legalType</th>\n",
       "      <td>None</td>\n",
       "    </tr>\n",
       "  </tbody>\n",
       "</table>\n",
       "</div>"
      ],
      "text/plain": [
       "           Value\n",
       "category    None\n",
       "fundFamily  None\n",
       "legalType   None"
      ]
     },
     "metadata": {},
     "output_type": "display_data"
    },
    {
     "name": "stdout",
     "output_type": "stream",
     "text": [
      "-------------------------- Fund Sector ----------------------------\n",
      "-------------------------- Holdings ----------------------------\n",
      "-------------------------- Returns ----------------------------\n",
      "-------------------------- Risk Factors ----------------------------\n",
      "=========================================================================\n",
      "Recent News of AWAY :\n",
      "================================================================\n"
     ]
    },
    {
     "data": {
      "application/vnd.plotly.v1+json": {
       "config": {
        "plotlyServerURL": "https://plot.ly"
       },
       "data": [
        {
         "hovertemplate": "variable=open<br>date=%{x}<br>value=%{y}<extra></extra>",
         "legendgroup": "open",
         "line": {
          "color": "#636efa",
          "dash": "solid"
         },
         "mode": "lines",
         "name": "open",
         "orientation": "v",
         "showlegend": true,
         "type": "scatter",
         "x": [
          "2021-10-25",
          "2021-10-26",
          "2021-10-27",
          "2021-10-28",
          "2021-10-29",
          "2021-11-01",
          "2021-11-02",
          "2021-11-03",
          "2021-11-04",
          "2021-11-05",
          "2021-11-08",
          "2021-11-09",
          "2021-11-10",
          "2021-11-11",
          "2021-11-12",
          "2021-11-15",
          "2021-11-16",
          "2021-11-17",
          "2021-11-18",
          "2021-11-19",
          "2021-11-22",
          "2021-11-23"
         ],
         "xaxis": "x",
         "y": [
          27.450000762939453,
          27.610000610351562,
          27.31999969482422,
          27.350000381469727,
          27.459999084472656,
          27.309999465942383,
          27.799999237060547,
          27.299999237060547,
          27.579999923706055,
          28.420000076293945,
          29.850000381469727,
          29.290000915527344,
          28.610000610351562,
          28.440000534057617,
          28.09000015258789,
          28.31999969482422,
          28,
          27.530000686645508,
          27.239999771118164,
          26.719999313354492,
          26.420000076293945,
          25.739999771118164
         ],
         "yaxis": "y"
        },
        {
         "hovertemplate": "variable=high<br>date=%{x}<br>value=%{y}<extra></extra>",
         "legendgroup": "high",
         "line": {
          "color": "#EF553B",
          "dash": "solid"
         },
         "mode": "lines",
         "name": "high",
         "orientation": "v",
         "showlegend": true,
         "type": "scatter",
         "x": [
          "2021-10-25",
          "2021-10-26",
          "2021-10-27",
          "2021-10-28",
          "2021-10-29",
          "2021-11-01",
          "2021-11-02",
          "2021-11-03",
          "2021-11-04",
          "2021-11-05",
          "2021-11-08",
          "2021-11-09",
          "2021-11-10",
          "2021-11-11",
          "2021-11-12",
          "2021-11-15",
          "2021-11-16",
          "2021-11-17",
          "2021-11-18",
          "2021-11-19",
          "2021-11-22",
          "2021-11-23"
         ],
         "xaxis": "x",
         "y": [
          27.530000686645508,
          27.770000457763672,
          27.450000762939453,
          27.6299991607666,
          27.549999237060547,
          27.799999237060547,
          27.899999618530273,
          27.5,
          27.579999923706055,
          28.719999313354492,
          29.860000610351562,
          29.290000915527344,
          28.700000762939453,
          28.440000534057617,
          28.1200008392334,
          28.31999969482422,
          28,
          27.75,
          27.239999771118164,
          26.719999313354492,
          26.420000076293945,
          25.969999313354492
         ],
         "yaxis": "y"
        },
        {
         "hovertemplate": "variable=close<br>date=%{x}<br>value=%{y}<extra></extra>",
         "legendgroup": "close",
         "line": {
          "color": "#00cc96",
          "dash": "solid"
         },
         "mode": "lines",
         "name": "close",
         "orientation": "v",
         "showlegend": true,
         "type": "scatter",
         "x": [
          "2021-10-25",
          "2021-10-26",
          "2021-10-27",
          "2021-10-28",
          "2021-10-29",
          "2021-11-01",
          "2021-11-02",
          "2021-11-03",
          "2021-11-04",
          "2021-11-05",
          "2021-11-08",
          "2021-11-09",
          "2021-11-10",
          "2021-11-11",
          "2021-11-12",
          "2021-11-15",
          "2021-11-16",
          "2021-11-17",
          "2021-11-18",
          "2021-11-19",
          "2021-11-22",
          "2021-11-23"
         ],
         "xaxis": "x",
         "y": [
          27.399999618530273,
          27.399999618530273,
          27.239999771118164,
          27.600000381469727,
          27.239999771118164,
          27.790000915527344,
          27.200000762939453,
          27.469999313354492,
          27.219999313354492,
          28.700000762939453,
          29.389999389648438,
          28.889999389648438,
          28.15999984741211,
          28.09000015258789,
          28.100000381469727,
          28.010000228881836,
          27.649999618530273,
          27.260000228881836,
          27.049999237060547,
          26.520000457763672,
          25.780000686645508,
          25.690000534057617
         ],
         "yaxis": "y"
        },
        {
         "hovertemplate": "variable=low<br>date=%{x}<br>value=%{y}<extra></extra>",
         "legendgroup": "low",
         "line": {
          "color": "#ab63fa",
          "dash": "solid"
         },
         "mode": "lines",
         "name": "low",
         "orientation": "v",
         "showlegend": true,
         "type": "scatter",
         "x": [
          "2021-10-25",
          "2021-10-26",
          "2021-10-27",
          "2021-10-28",
          "2021-10-29",
          "2021-11-01",
          "2021-11-02",
          "2021-11-03",
          "2021-11-04",
          "2021-11-05",
          "2021-11-08",
          "2021-11-09",
          "2021-11-10",
          "2021-11-11",
          "2021-11-12",
          "2021-11-15",
          "2021-11-16",
          "2021-11-17",
          "2021-11-18",
          "2021-11-19",
          "2021-11-22",
          "2021-11-23"
         ],
         "xaxis": "x",
         "y": [
          27.187000274658203,
          27.334999084472656,
          27.200000762939453,
          27.219999313354492,
          27.100000381469727,
          27.309999465942383,
          27.149999618530273,
          27.100000381469727,
          27.15999984741211,
          28.280000686645508,
          29.360000610351562,
          28.6299991607666,
          27.940000534057617,
          28.030000686645508,
          27.915000915527344,
          27.959999084472656,
          27.579999923706055,
          27.18000030517578,
          26.68000030517578,
          26.450000762939453,
          25.670000076293945,
          25.450000762939453
         ],
         "yaxis": "y"
        },
        {
         "hovertemplate": "variable=adjclose<br>date=%{x}<br>value=%{y}<extra></extra>",
         "legendgroup": "adjclose",
         "line": {
          "color": "#FFA15A",
          "dash": "solid"
         },
         "mode": "lines",
         "name": "adjclose",
         "orientation": "v",
         "showlegend": true,
         "type": "scatter",
         "x": [
          "2021-10-25",
          "2021-10-26",
          "2021-10-27",
          "2021-10-28",
          "2021-10-29",
          "2021-11-01",
          "2021-11-02",
          "2021-11-03",
          "2021-11-04",
          "2021-11-05",
          "2021-11-08",
          "2021-11-09",
          "2021-11-10",
          "2021-11-11",
          "2021-11-12",
          "2021-11-15",
          "2021-11-16",
          "2021-11-17",
          "2021-11-18",
          "2021-11-19",
          "2021-11-22",
          "2021-11-23"
         ],
         "xaxis": "x",
         "y": [
          27.399999618530273,
          27.399999618530273,
          27.239999771118164,
          27.600000381469727,
          27.239999771118164,
          27.790000915527344,
          27.200000762939453,
          27.469999313354492,
          27.219999313354492,
          28.700000762939453,
          29.389999389648438,
          28.889999389648438,
          28.15999984741211,
          28.09000015258789,
          28.100000381469727,
          28.010000228881836,
          27.649999618530273,
          27.260000228881836,
          27.049999237060547,
          26.520000457763672,
          25.780000686645508,
          25.690000534057617
         ],
         "yaxis": "y"
        }
       ],
       "layout": {
        "legend": {
         "title": {
          "text": "variable"
         },
         "tracegroupgap": 0
        },
        "template": {
         "data": {
          "bar": [
           {
            "error_x": {
             "color": "#2a3f5f"
            },
            "error_y": {
             "color": "#2a3f5f"
            },
            "marker": {
             "line": {
              "color": "#E5ECF6",
              "width": 0.5
             },
             "pattern": {
              "fillmode": "overlay",
              "size": 10,
              "solidity": 0.2
             }
            },
            "type": "bar"
           }
          ],
          "barpolar": [
           {
            "marker": {
             "line": {
              "color": "#E5ECF6",
              "width": 0.5
             },
             "pattern": {
              "fillmode": "overlay",
              "size": 10,
              "solidity": 0.2
             }
            },
            "type": "barpolar"
           }
          ],
          "carpet": [
           {
            "aaxis": {
             "endlinecolor": "#2a3f5f",
             "gridcolor": "white",
             "linecolor": "white",
             "minorgridcolor": "white",
             "startlinecolor": "#2a3f5f"
            },
            "baxis": {
             "endlinecolor": "#2a3f5f",
             "gridcolor": "white",
             "linecolor": "white",
             "minorgridcolor": "white",
             "startlinecolor": "#2a3f5f"
            },
            "type": "carpet"
           }
          ],
          "choropleth": [
           {
            "colorbar": {
             "outlinewidth": 0,
             "ticks": ""
            },
            "type": "choropleth"
           }
          ],
          "contour": [
           {
            "colorbar": {
             "outlinewidth": 0,
             "ticks": ""
            },
            "colorscale": [
             [
              0,
              "#0d0887"
             ],
             [
              0.1111111111111111,
              "#46039f"
             ],
             [
              0.2222222222222222,
              "#7201a8"
             ],
             [
              0.3333333333333333,
              "#9c179e"
             ],
             [
              0.4444444444444444,
              "#bd3786"
             ],
             [
              0.5555555555555556,
              "#d8576b"
             ],
             [
              0.6666666666666666,
              "#ed7953"
             ],
             [
              0.7777777777777778,
              "#fb9f3a"
             ],
             [
              0.8888888888888888,
              "#fdca26"
             ],
             [
              1,
              "#f0f921"
             ]
            ],
            "type": "contour"
           }
          ],
          "contourcarpet": [
           {
            "colorbar": {
             "outlinewidth": 0,
             "ticks": ""
            },
            "type": "contourcarpet"
           }
          ],
          "heatmap": [
           {
            "colorbar": {
             "outlinewidth": 0,
             "ticks": ""
            },
            "colorscale": [
             [
              0,
              "#0d0887"
             ],
             [
              0.1111111111111111,
              "#46039f"
             ],
             [
              0.2222222222222222,
              "#7201a8"
             ],
             [
              0.3333333333333333,
              "#9c179e"
             ],
             [
              0.4444444444444444,
              "#bd3786"
             ],
             [
              0.5555555555555556,
              "#d8576b"
             ],
             [
              0.6666666666666666,
              "#ed7953"
             ],
             [
              0.7777777777777778,
              "#fb9f3a"
             ],
             [
              0.8888888888888888,
              "#fdca26"
             ],
             [
              1,
              "#f0f921"
             ]
            ],
            "type": "heatmap"
           }
          ],
          "heatmapgl": [
           {
            "colorbar": {
             "outlinewidth": 0,
             "ticks": ""
            },
            "colorscale": [
             [
              0,
              "#0d0887"
             ],
             [
              0.1111111111111111,
              "#46039f"
             ],
             [
              0.2222222222222222,
              "#7201a8"
             ],
             [
              0.3333333333333333,
              "#9c179e"
             ],
             [
              0.4444444444444444,
              "#bd3786"
             ],
             [
              0.5555555555555556,
              "#d8576b"
             ],
             [
              0.6666666666666666,
              "#ed7953"
             ],
             [
              0.7777777777777778,
              "#fb9f3a"
             ],
             [
              0.8888888888888888,
              "#fdca26"
             ],
             [
              1,
              "#f0f921"
             ]
            ],
            "type": "heatmapgl"
           }
          ],
          "histogram": [
           {
            "marker": {
             "pattern": {
              "fillmode": "overlay",
              "size": 10,
              "solidity": 0.2
             }
            },
            "type": "histogram"
           }
          ],
          "histogram2d": [
           {
            "colorbar": {
             "outlinewidth": 0,
             "ticks": ""
            },
            "colorscale": [
             [
              0,
              "#0d0887"
             ],
             [
              0.1111111111111111,
              "#46039f"
             ],
             [
              0.2222222222222222,
              "#7201a8"
             ],
             [
              0.3333333333333333,
              "#9c179e"
             ],
             [
              0.4444444444444444,
              "#bd3786"
             ],
             [
              0.5555555555555556,
              "#d8576b"
             ],
             [
              0.6666666666666666,
              "#ed7953"
             ],
             [
              0.7777777777777778,
              "#fb9f3a"
             ],
             [
              0.8888888888888888,
              "#fdca26"
             ],
             [
              1,
              "#f0f921"
             ]
            ],
            "type": "histogram2d"
           }
          ],
          "histogram2dcontour": [
           {
            "colorbar": {
             "outlinewidth": 0,
             "ticks": ""
            },
            "colorscale": [
             [
              0,
              "#0d0887"
             ],
             [
              0.1111111111111111,
              "#46039f"
             ],
             [
              0.2222222222222222,
              "#7201a8"
             ],
             [
              0.3333333333333333,
              "#9c179e"
             ],
             [
              0.4444444444444444,
              "#bd3786"
             ],
             [
              0.5555555555555556,
              "#d8576b"
             ],
             [
              0.6666666666666666,
              "#ed7953"
             ],
             [
              0.7777777777777778,
              "#fb9f3a"
             ],
             [
              0.8888888888888888,
              "#fdca26"
             ],
             [
              1,
              "#f0f921"
             ]
            ],
            "type": "histogram2dcontour"
           }
          ],
          "mesh3d": [
           {
            "colorbar": {
             "outlinewidth": 0,
             "ticks": ""
            },
            "type": "mesh3d"
           }
          ],
          "parcoords": [
           {
            "line": {
             "colorbar": {
              "outlinewidth": 0,
              "ticks": ""
             }
            },
            "type": "parcoords"
           }
          ],
          "pie": [
           {
            "automargin": true,
            "type": "pie"
           }
          ],
          "scatter": [
           {
            "marker": {
             "colorbar": {
              "outlinewidth": 0,
              "ticks": ""
             }
            },
            "type": "scatter"
           }
          ],
          "scatter3d": [
           {
            "line": {
             "colorbar": {
              "outlinewidth": 0,
              "ticks": ""
             }
            },
            "marker": {
             "colorbar": {
              "outlinewidth": 0,
              "ticks": ""
             }
            },
            "type": "scatter3d"
           }
          ],
          "scattercarpet": [
           {
            "marker": {
             "colorbar": {
              "outlinewidth": 0,
              "ticks": ""
             }
            },
            "type": "scattercarpet"
           }
          ],
          "scattergeo": [
           {
            "marker": {
             "colorbar": {
              "outlinewidth": 0,
              "ticks": ""
             }
            },
            "type": "scattergeo"
           }
          ],
          "scattergl": [
           {
            "marker": {
             "colorbar": {
              "outlinewidth": 0,
              "ticks": ""
             }
            },
            "type": "scattergl"
           }
          ],
          "scattermapbox": [
           {
            "marker": {
             "colorbar": {
              "outlinewidth": 0,
              "ticks": ""
             }
            },
            "type": "scattermapbox"
           }
          ],
          "scatterpolar": [
           {
            "marker": {
             "colorbar": {
              "outlinewidth": 0,
              "ticks": ""
             }
            },
            "type": "scatterpolar"
           }
          ],
          "scatterpolargl": [
           {
            "marker": {
             "colorbar": {
              "outlinewidth": 0,
              "ticks": ""
             }
            },
            "type": "scatterpolargl"
           }
          ],
          "scatterternary": [
           {
            "marker": {
             "colorbar": {
              "outlinewidth": 0,
              "ticks": ""
             }
            },
            "type": "scatterternary"
           }
          ],
          "surface": [
           {
            "colorbar": {
             "outlinewidth": 0,
             "ticks": ""
            },
            "colorscale": [
             [
              0,
              "#0d0887"
             ],
             [
              0.1111111111111111,
              "#46039f"
             ],
             [
              0.2222222222222222,
              "#7201a8"
             ],
             [
              0.3333333333333333,
              "#9c179e"
             ],
             [
              0.4444444444444444,
              "#bd3786"
             ],
             [
              0.5555555555555556,
              "#d8576b"
             ],
             [
              0.6666666666666666,
              "#ed7953"
             ],
             [
              0.7777777777777778,
              "#fb9f3a"
             ],
             [
              0.8888888888888888,
              "#fdca26"
             ],
             [
              1,
              "#f0f921"
             ]
            ],
            "type": "surface"
           }
          ],
          "table": [
           {
            "cells": {
             "fill": {
              "color": "#EBF0F8"
             },
             "line": {
              "color": "white"
             }
            },
            "header": {
             "fill": {
              "color": "#C8D4E3"
             },
             "line": {
              "color": "white"
             }
            },
            "type": "table"
           }
          ]
         },
         "layout": {
          "annotationdefaults": {
           "arrowcolor": "#2a3f5f",
           "arrowhead": 0,
           "arrowwidth": 1
          },
          "autotypenumbers": "strict",
          "coloraxis": {
           "colorbar": {
            "outlinewidth": 0,
            "ticks": ""
           }
          },
          "colorscale": {
           "diverging": [
            [
             0,
             "#8e0152"
            ],
            [
             0.1,
             "#c51b7d"
            ],
            [
             0.2,
             "#de77ae"
            ],
            [
             0.3,
             "#f1b6da"
            ],
            [
             0.4,
             "#fde0ef"
            ],
            [
             0.5,
             "#f7f7f7"
            ],
            [
             0.6,
             "#e6f5d0"
            ],
            [
             0.7,
             "#b8e186"
            ],
            [
             0.8,
             "#7fbc41"
            ],
            [
             0.9,
             "#4d9221"
            ],
            [
             1,
             "#276419"
            ]
           ],
           "sequential": [
            [
             0,
             "#0d0887"
            ],
            [
             0.1111111111111111,
             "#46039f"
            ],
            [
             0.2222222222222222,
             "#7201a8"
            ],
            [
             0.3333333333333333,
             "#9c179e"
            ],
            [
             0.4444444444444444,
             "#bd3786"
            ],
            [
             0.5555555555555556,
             "#d8576b"
            ],
            [
             0.6666666666666666,
             "#ed7953"
            ],
            [
             0.7777777777777778,
             "#fb9f3a"
            ],
            [
             0.8888888888888888,
             "#fdca26"
            ],
            [
             1,
             "#f0f921"
            ]
           ],
           "sequentialminus": [
            [
             0,
             "#0d0887"
            ],
            [
             0.1111111111111111,
             "#46039f"
            ],
            [
             0.2222222222222222,
             "#7201a8"
            ],
            [
             0.3333333333333333,
             "#9c179e"
            ],
            [
             0.4444444444444444,
             "#bd3786"
            ],
            [
             0.5555555555555556,
             "#d8576b"
            ],
            [
             0.6666666666666666,
             "#ed7953"
            ],
            [
             0.7777777777777778,
             "#fb9f3a"
            ],
            [
             0.8888888888888888,
             "#fdca26"
            ],
            [
             1,
             "#f0f921"
            ]
           ]
          },
          "colorway": [
           "#636efa",
           "#EF553B",
           "#00cc96",
           "#ab63fa",
           "#FFA15A",
           "#19d3f3",
           "#FF6692",
           "#B6E880",
           "#FF97FF",
           "#FECB52"
          ],
          "font": {
           "color": "#2a3f5f"
          },
          "geo": {
           "bgcolor": "white",
           "lakecolor": "white",
           "landcolor": "#E5ECF6",
           "showlakes": true,
           "showland": true,
           "subunitcolor": "white"
          },
          "hoverlabel": {
           "align": "left"
          },
          "hovermode": "closest",
          "mapbox": {
           "style": "light"
          },
          "paper_bgcolor": "white",
          "plot_bgcolor": "#E5ECF6",
          "polar": {
           "angularaxis": {
            "gridcolor": "white",
            "linecolor": "white",
            "ticks": ""
           },
           "bgcolor": "#E5ECF6",
           "radialaxis": {
            "gridcolor": "white",
            "linecolor": "white",
            "ticks": ""
           }
          },
          "scene": {
           "xaxis": {
            "backgroundcolor": "#E5ECF6",
            "gridcolor": "white",
            "gridwidth": 2,
            "linecolor": "white",
            "showbackground": true,
            "ticks": "",
            "zerolinecolor": "white"
           },
           "yaxis": {
            "backgroundcolor": "#E5ECF6",
            "gridcolor": "white",
            "gridwidth": 2,
            "linecolor": "white",
            "showbackground": true,
            "ticks": "",
            "zerolinecolor": "white"
           },
           "zaxis": {
            "backgroundcolor": "#E5ECF6",
            "gridcolor": "white",
            "gridwidth": 2,
            "linecolor": "white",
            "showbackground": true,
            "ticks": "",
            "zerolinecolor": "white"
           }
          },
          "shapedefaults": {
           "line": {
            "color": "#2a3f5f"
           }
          },
          "ternary": {
           "aaxis": {
            "gridcolor": "white",
            "linecolor": "white",
            "ticks": ""
           },
           "baxis": {
            "gridcolor": "white",
            "linecolor": "white",
            "ticks": ""
           },
           "bgcolor": "#E5ECF6",
           "caxis": {
            "gridcolor": "white",
            "linecolor": "white",
            "ticks": ""
           }
          },
          "title": {
           "x": 0.05
          },
          "xaxis": {
           "automargin": true,
           "gridcolor": "white",
           "linecolor": "white",
           "ticks": "",
           "title": {
            "standoff": 15
           },
           "zerolinecolor": "white",
           "zerolinewidth": 2
          },
          "yaxis": {
           "automargin": true,
           "gridcolor": "white",
           "linecolor": "white",
           "ticks": "",
           "title": {
            "standoff": 15
           },
           "zerolinecolor": "white",
           "zerolinewidth": 2
          }
         }
        },
        "title": {
         "text": "AWAY Historical Price"
        },
        "xaxis": {
         "anchor": "y",
         "domain": [
          0,
          1
         ],
         "title": {
          "text": "date"
         }
        },
        "yaxis": {
         "anchor": "x",
         "domain": [
          0,
          1
         ],
         "title": {
          "text": "value"
         }
        }
       }
      },
      "text/html": [
       "<div>                            <div id=\"d25f8567-77f2-4617-a0e7-4b414f42f3f4\" class=\"plotly-graph-div\" style=\"height:525px; width:100%;\"></div>            <script type=\"text/javascript\">                require([\"plotly\"], function(Plotly) {                    window.PLOTLYENV=window.PLOTLYENV || {};                                    if (document.getElementById(\"d25f8567-77f2-4617-a0e7-4b414f42f3f4\")) {                    Plotly.newPlot(                        \"d25f8567-77f2-4617-a0e7-4b414f42f3f4\",                        [{\"hovertemplate\":\"variable=open<br>date=%{x}<br>value=%{y}<extra></extra>\",\"legendgroup\":\"open\",\"line\":{\"color\":\"#636efa\",\"dash\":\"solid\"},\"mode\":\"lines\",\"name\":\"open\",\"orientation\":\"v\",\"showlegend\":true,\"type\":\"scatter\",\"x\":[\"2021-10-25\",\"2021-10-26\",\"2021-10-27\",\"2021-10-28\",\"2021-10-29\",\"2021-11-01\",\"2021-11-02\",\"2021-11-03\",\"2021-11-04\",\"2021-11-05\",\"2021-11-08\",\"2021-11-09\",\"2021-11-10\",\"2021-11-11\",\"2021-11-12\",\"2021-11-15\",\"2021-11-16\",\"2021-11-17\",\"2021-11-18\",\"2021-11-19\",\"2021-11-22\",\"2021-11-23\"],\"xaxis\":\"x\",\"y\":[27.450000762939453,27.610000610351562,27.31999969482422,27.350000381469727,27.459999084472656,27.309999465942383,27.799999237060547,27.299999237060547,27.579999923706055,28.420000076293945,29.850000381469727,29.290000915527344,28.610000610351562,28.440000534057617,28.09000015258789,28.31999969482422,28.0,27.530000686645508,27.239999771118164,26.719999313354492,26.420000076293945,25.739999771118164],\"yaxis\":\"y\"},{\"hovertemplate\":\"variable=high<br>date=%{x}<br>value=%{y}<extra></extra>\",\"legendgroup\":\"high\",\"line\":{\"color\":\"#EF553B\",\"dash\":\"solid\"},\"mode\":\"lines\",\"name\":\"high\",\"orientation\":\"v\",\"showlegend\":true,\"type\":\"scatter\",\"x\":[\"2021-10-25\",\"2021-10-26\",\"2021-10-27\",\"2021-10-28\",\"2021-10-29\",\"2021-11-01\",\"2021-11-02\",\"2021-11-03\",\"2021-11-04\",\"2021-11-05\",\"2021-11-08\",\"2021-11-09\",\"2021-11-10\",\"2021-11-11\",\"2021-11-12\",\"2021-11-15\",\"2021-11-16\",\"2021-11-17\",\"2021-11-18\",\"2021-11-19\",\"2021-11-22\",\"2021-11-23\"],\"xaxis\":\"x\",\"y\":[27.530000686645508,27.770000457763672,27.450000762939453,27.6299991607666,27.549999237060547,27.799999237060547,27.899999618530273,27.5,27.579999923706055,28.719999313354492,29.860000610351562,29.290000915527344,28.700000762939453,28.440000534057617,28.1200008392334,28.31999969482422,28.0,27.75,27.239999771118164,26.719999313354492,26.420000076293945,25.969999313354492],\"yaxis\":\"y\"},{\"hovertemplate\":\"variable=close<br>date=%{x}<br>value=%{y}<extra></extra>\",\"legendgroup\":\"close\",\"line\":{\"color\":\"#00cc96\",\"dash\":\"solid\"},\"mode\":\"lines\",\"name\":\"close\",\"orientation\":\"v\",\"showlegend\":true,\"type\":\"scatter\",\"x\":[\"2021-10-25\",\"2021-10-26\",\"2021-10-27\",\"2021-10-28\",\"2021-10-29\",\"2021-11-01\",\"2021-11-02\",\"2021-11-03\",\"2021-11-04\",\"2021-11-05\",\"2021-11-08\",\"2021-11-09\",\"2021-11-10\",\"2021-11-11\",\"2021-11-12\",\"2021-11-15\",\"2021-11-16\",\"2021-11-17\",\"2021-11-18\",\"2021-11-19\",\"2021-11-22\",\"2021-11-23\"],\"xaxis\":\"x\",\"y\":[27.399999618530273,27.399999618530273,27.239999771118164,27.600000381469727,27.239999771118164,27.790000915527344,27.200000762939453,27.469999313354492,27.219999313354492,28.700000762939453,29.389999389648438,28.889999389648438,28.15999984741211,28.09000015258789,28.100000381469727,28.010000228881836,27.649999618530273,27.260000228881836,27.049999237060547,26.520000457763672,25.780000686645508,25.690000534057617],\"yaxis\":\"y\"},{\"hovertemplate\":\"variable=low<br>date=%{x}<br>value=%{y}<extra></extra>\",\"legendgroup\":\"low\",\"line\":{\"color\":\"#ab63fa\",\"dash\":\"solid\"},\"mode\":\"lines\",\"name\":\"low\",\"orientation\":\"v\",\"showlegend\":true,\"type\":\"scatter\",\"x\":[\"2021-10-25\",\"2021-10-26\",\"2021-10-27\",\"2021-10-28\",\"2021-10-29\",\"2021-11-01\",\"2021-11-02\",\"2021-11-03\",\"2021-11-04\",\"2021-11-05\",\"2021-11-08\",\"2021-11-09\",\"2021-11-10\",\"2021-11-11\",\"2021-11-12\",\"2021-11-15\",\"2021-11-16\",\"2021-11-17\",\"2021-11-18\",\"2021-11-19\",\"2021-11-22\",\"2021-11-23\"],\"xaxis\":\"x\",\"y\":[27.187000274658203,27.334999084472656,27.200000762939453,27.219999313354492,27.100000381469727,27.309999465942383,27.149999618530273,27.100000381469727,27.15999984741211,28.280000686645508,29.360000610351562,28.6299991607666,27.940000534057617,28.030000686645508,27.915000915527344,27.959999084472656,27.579999923706055,27.18000030517578,26.68000030517578,26.450000762939453,25.670000076293945,25.450000762939453],\"yaxis\":\"y\"},{\"hovertemplate\":\"variable=adjclose<br>date=%{x}<br>value=%{y}<extra></extra>\",\"legendgroup\":\"adjclose\",\"line\":{\"color\":\"#FFA15A\",\"dash\":\"solid\"},\"mode\":\"lines\",\"name\":\"adjclose\",\"orientation\":\"v\",\"showlegend\":true,\"type\":\"scatter\",\"x\":[\"2021-10-25\",\"2021-10-26\",\"2021-10-27\",\"2021-10-28\",\"2021-10-29\",\"2021-11-01\",\"2021-11-02\",\"2021-11-03\",\"2021-11-04\",\"2021-11-05\",\"2021-11-08\",\"2021-11-09\",\"2021-11-10\",\"2021-11-11\",\"2021-11-12\",\"2021-11-15\",\"2021-11-16\",\"2021-11-17\",\"2021-11-18\",\"2021-11-19\",\"2021-11-22\",\"2021-11-23\"],\"xaxis\":\"x\",\"y\":[27.399999618530273,27.399999618530273,27.239999771118164,27.600000381469727,27.239999771118164,27.790000915527344,27.200000762939453,27.469999313354492,27.219999313354492,28.700000762939453,29.389999389648438,28.889999389648438,28.15999984741211,28.09000015258789,28.100000381469727,28.010000228881836,27.649999618530273,27.260000228881836,27.049999237060547,26.520000457763672,25.780000686645508,25.690000534057617],\"yaxis\":\"y\"}],                        {\"legend\":{\"title\":{\"text\":\"variable\"},\"tracegroupgap\":0},\"template\":{\"data\":{\"bar\":[{\"error_x\":{\"color\":\"#2a3f5f\"},\"error_y\":{\"color\":\"#2a3f5f\"},\"marker\":{\"line\":{\"color\":\"#E5ECF6\",\"width\":0.5},\"pattern\":{\"fillmode\":\"overlay\",\"size\":10,\"solidity\":0.2}},\"type\":\"bar\"}],\"barpolar\":[{\"marker\":{\"line\":{\"color\":\"#E5ECF6\",\"width\":0.5},\"pattern\":{\"fillmode\":\"overlay\",\"size\":10,\"solidity\":0.2}},\"type\":\"barpolar\"}],\"carpet\":[{\"aaxis\":{\"endlinecolor\":\"#2a3f5f\",\"gridcolor\":\"white\",\"linecolor\":\"white\",\"minorgridcolor\":\"white\",\"startlinecolor\":\"#2a3f5f\"},\"baxis\":{\"endlinecolor\":\"#2a3f5f\",\"gridcolor\":\"white\",\"linecolor\":\"white\",\"minorgridcolor\":\"white\",\"startlinecolor\":\"#2a3f5f\"},\"type\":\"carpet\"}],\"choropleth\":[{\"colorbar\":{\"outlinewidth\":0,\"ticks\":\"\"},\"type\":\"choropleth\"}],\"contour\":[{\"colorbar\":{\"outlinewidth\":0,\"ticks\":\"\"},\"colorscale\":[[0.0,\"#0d0887\"],[0.1111111111111111,\"#46039f\"],[0.2222222222222222,\"#7201a8\"],[0.3333333333333333,\"#9c179e\"],[0.4444444444444444,\"#bd3786\"],[0.5555555555555556,\"#d8576b\"],[0.6666666666666666,\"#ed7953\"],[0.7777777777777778,\"#fb9f3a\"],[0.8888888888888888,\"#fdca26\"],[1.0,\"#f0f921\"]],\"type\":\"contour\"}],\"contourcarpet\":[{\"colorbar\":{\"outlinewidth\":0,\"ticks\":\"\"},\"type\":\"contourcarpet\"}],\"heatmap\":[{\"colorbar\":{\"outlinewidth\":0,\"ticks\":\"\"},\"colorscale\":[[0.0,\"#0d0887\"],[0.1111111111111111,\"#46039f\"],[0.2222222222222222,\"#7201a8\"],[0.3333333333333333,\"#9c179e\"],[0.4444444444444444,\"#bd3786\"],[0.5555555555555556,\"#d8576b\"],[0.6666666666666666,\"#ed7953\"],[0.7777777777777778,\"#fb9f3a\"],[0.8888888888888888,\"#fdca26\"],[1.0,\"#f0f921\"]],\"type\":\"heatmap\"}],\"heatmapgl\":[{\"colorbar\":{\"outlinewidth\":0,\"ticks\":\"\"},\"colorscale\":[[0.0,\"#0d0887\"],[0.1111111111111111,\"#46039f\"],[0.2222222222222222,\"#7201a8\"],[0.3333333333333333,\"#9c179e\"],[0.4444444444444444,\"#bd3786\"],[0.5555555555555556,\"#d8576b\"],[0.6666666666666666,\"#ed7953\"],[0.7777777777777778,\"#fb9f3a\"],[0.8888888888888888,\"#fdca26\"],[1.0,\"#f0f921\"]],\"type\":\"heatmapgl\"}],\"histogram\":[{\"marker\":{\"pattern\":{\"fillmode\":\"overlay\",\"size\":10,\"solidity\":0.2}},\"type\":\"histogram\"}],\"histogram2d\":[{\"colorbar\":{\"outlinewidth\":0,\"ticks\":\"\"},\"colorscale\":[[0.0,\"#0d0887\"],[0.1111111111111111,\"#46039f\"],[0.2222222222222222,\"#7201a8\"],[0.3333333333333333,\"#9c179e\"],[0.4444444444444444,\"#bd3786\"],[0.5555555555555556,\"#d8576b\"],[0.6666666666666666,\"#ed7953\"],[0.7777777777777778,\"#fb9f3a\"],[0.8888888888888888,\"#fdca26\"],[1.0,\"#f0f921\"]],\"type\":\"histogram2d\"}],\"histogram2dcontour\":[{\"colorbar\":{\"outlinewidth\":0,\"ticks\":\"\"},\"colorscale\":[[0.0,\"#0d0887\"],[0.1111111111111111,\"#46039f\"],[0.2222222222222222,\"#7201a8\"],[0.3333333333333333,\"#9c179e\"],[0.4444444444444444,\"#bd3786\"],[0.5555555555555556,\"#d8576b\"],[0.6666666666666666,\"#ed7953\"],[0.7777777777777778,\"#fb9f3a\"],[0.8888888888888888,\"#fdca26\"],[1.0,\"#f0f921\"]],\"type\":\"histogram2dcontour\"}],\"mesh3d\":[{\"colorbar\":{\"outlinewidth\":0,\"ticks\":\"\"},\"type\":\"mesh3d\"}],\"parcoords\":[{\"line\":{\"colorbar\":{\"outlinewidth\":0,\"ticks\":\"\"}},\"type\":\"parcoords\"}],\"pie\":[{\"automargin\":true,\"type\":\"pie\"}],\"scatter\":[{\"marker\":{\"colorbar\":{\"outlinewidth\":0,\"ticks\":\"\"}},\"type\":\"scatter\"}],\"scatter3d\":[{\"line\":{\"colorbar\":{\"outlinewidth\":0,\"ticks\":\"\"}},\"marker\":{\"colorbar\":{\"outlinewidth\":0,\"ticks\":\"\"}},\"type\":\"scatter3d\"}],\"scattercarpet\":[{\"marker\":{\"colorbar\":{\"outlinewidth\":0,\"ticks\":\"\"}},\"type\":\"scattercarpet\"}],\"scattergeo\":[{\"marker\":{\"colorbar\":{\"outlinewidth\":0,\"ticks\":\"\"}},\"type\":\"scattergeo\"}],\"scattergl\":[{\"marker\":{\"colorbar\":{\"outlinewidth\":0,\"ticks\":\"\"}},\"type\":\"scattergl\"}],\"scattermapbox\":[{\"marker\":{\"colorbar\":{\"outlinewidth\":0,\"ticks\":\"\"}},\"type\":\"scattermapbox\"}],\"scatterpolar\":[{\"marker\":{\"colorbar\":{\"outlinewidth\":0,\"ticks\":\"\"}},\"type\":\"scatterpolar\"}],\"scatterpolargl\":[{\"marker\":{\"colorbar\":{\"outlinewidth\":0,\"ticks\":\"\"}},\"type\":\"scatterpolargl\"}],\"scatterternary\":[{\"marker\":{\"colorbar\":{\"outlinewidth\":0,\"ticks\":\"\"}},\"type\":\"scatterternary\"}],\"surface\":[{\"colorbar\":{\"outlinewidth\":0,\"ticks\":\"\"},\"colorscale\":[[0.0,\"#0d0887\"],[0.1111111111111111,\"#46039f\"],[0.2222222222222222,\"#7201a8\"],[0.3333333333333333,\"#9c179e\"],[0.4444444444444444,\"#bd3786\"],[0.5555555555555556,\"#d8576b\"],[0.6666666666666666,\"#ed7953\"],[0.7777777777777778,\"#fb9f3a\"],[0.8888888888888888,\"#fdca26\"],[1.0,\"#f0f921\"]],\"type\":\"surface\"}],\"table\":[{\"cells\":{\"fill\":{\"color\":\"#EBF0F8\"},\"line\":{\"color\":\"white\"}},\"header\":{\"fill\":{\"color\":\"#C8D4E3\"},\"line\":{\"color\":\"white\"}},\"type\":\"table\"}]},\"layout\":{\"annotationdefaults\":{\"arrowcolor\":\"#2a3f5f\",\"arrowhead\":0,\"arrowwidth\":1},\"autotypenumbers\":\"strict\",\"coloraxis\":{\"colorbar\":{\"outlinewidth\":0,\"ticks\":\"\"}},\"colorscale\":{\"diverging\":[[0,\"#8e0152\"],[0.1,\"#c51b7d\"],[0.2,\"#de77ae\"],[0.3,\"#f1b6da\"],[0.4,\"#fde0ef\"],[0.5,\"#f7f7f7\"],[0.6,\"#e6f5d0\"],[0.7,\"#b8e186\"],[0.8,\"#7fbc41\"],[0.9,\"#4d9221\"],[1,\"#276419\"]],\"sequential\":[[0.0,\"#0d0887\"],[0.1111111111111111,\"#46039f\"],[0.2222222222222222,\"#7201a8\"],[0.3333333333333333,\"#9c179e\"],[0.4444444444444444,\"#bd3786\"],[0.5555555555555556,\"#d8576b\"],[0.6666666666666666,\"#ed7953\"],[0.7777777777777778,\"#fb9f3a\"],[0.8888888888888888,\"#fdca26\"],[1.0,\"#f0f921\"]],\"sequentialminus\":[[0.0,\"#0d0887\"],[0.1111111111111111,\"#46039f\"],[0.2222222222222222,\"#7201a8\"],[0.3333333333333333,\"#9c179e\"],[0.4444444444444444,\"#bd3786\"],[0.5555555555555556,\"#d8576b\"],[0.6666666666666666,\"#ed7953\"],[0.7777777777777778,\"#fb9f3a\"],[0.8888888888888888,\"#fdca26\"],[1.0,\"#f0f921\"]]},\"colorway\":[\"#636efa\",\"#EF553B\",\"#00cc96\",\"#ab63fa\",\"#FFA15A\",\"#19d3f3\",\"#FF6692\",\"#B6E880\",\"#FF97FF\",\"#FECB52\"],\"font\":{\"color\":\"#2a3f5f\"},\"geo\":{\"bgcolor\":\"white\",\"lakecolor\":\"white\",\"landcolor\":\"#E5ECF6\",\"showlakes\":true,\"showland\":true,\"subunitcolor\":\"white\"},\"hoverlabel\":{\"align\":\"left\"},\"hovermode\":\"closest\",\"mapbox\":{\"style\":\"light\"},\"paper_bgcolor\":\"white\",\"plot_bgcolor\":\"#E5ECF6\",\"polar\":{\"angularaxis\":{\"gridcolor\":\"white\",\"linecolor\":\"white\",\"ticks\":\"\"},\"bgcolor\":\"#E5ECF6\",\"radialaxis\":{\"gridcolor\":\"white\",\"linecolor\":\"white\",\"ticks\":\"\"}},\"scene\":{\"xaxis\":{\"backgroundcolor\":\"#E5ECF6\",\"gridcolor\":\"white\",\"gridwidth\":2,\"linecolor\":\"white\",\"showbackground\":true,\"ticks\":\"\",\"zerolinecolor\":\"white\"},\"yaxis\":{\"backgroundcolor\":\"#E5ECF6\",\"gridcolor\":\"white\",\"gridwidth\":2,\"linecolor\":\"white\",\"showbackground\":true,\"ticks\":\"\",\"zerolinecolor\":\"white\"},\"zaxis\":{\"backgroundcolor\":\"#E5ECF6\",\"gridcolor\":\"white\",\"gridwidth\":2,\"linecolor\":\"white\",\"showbackground\":true,\"ticks\":\"\",\"zerolinecolor\":\"white\"}},\"shapedefaults\":{\"line\":{\"color\":\"#2a3f5f\"}},\"ternary\":{\"aaxis\":{\"gridcolor\":\"white\",\"linecolor\":\"white\",\"ticks\":\"\"},\"baxis\":{\"gridcolor\":\"white\",\"linecolor\":\"white\",\"ticks\":\"\"},\"bgcolor\":\"#E5ECF6\",\"caxis\":{\"gridcolor\":\"white\",\"linecolor\":\"white\",\"ticks\":\"\"}},\"title\":{\"x\":0.05},\"xaxis\":{\"automargin\":true,\"gridcolor\":\"white\",\"linecolor\":\"white\",\"ticks\":\"\",\"title\":{\"standoff\":15},\"zerolinecolor\":\"white\",\"zerolinewidth\":2},\"yaxis\":{\"automargin\":true,\"gridcolor\":\"white\",\"linecolor\":\"white\",\"ticks\":\"\",\"title\":{\"standoff\":15},\"zerolinecolor\":\"white\",\"zerolinewidth\":2}}},\"title\":{\"text\":\"AWAY Historical Price\"},\"xaxis\":{\"anchor\":\"y\",\"domain\":[0.0,1.0],\"title\":{\"text\":\"date\"}},\"yaxis\":{\"anchor\":\"x\",\"domain\":[0.0,1.0],\"title\":{\"text\":\"value\"}}},                        {\"responsive\": true}                    ).then(function(){\n",
       "                            \n",
       "var gd = document.getElementById('d25f8567-77f2-4617-a0e7-4b414f42f3f4');\n",
       "var x = new MutationObserver(function (mutations, observer) {{\n",
       "        var display = window.getComputedStyle(gd).display;\n",
       "        if (!display || display === 'none') {{\n",
       "            console.log([gd, 'removed!']);\n",
       "            Plotly.purge(gd);\n",
       "            observer.disconnect();\n",
       "        }}\n",
       "}});\n",
       "\n",
       "// Listen for the removal of the full notebook cells\n",
       "var notebookContainer = gd.closest('#notebook-container');\n",
       "if (notebookContainer) {{\n",
       "    x.observe(notebookContainer, {childList: true});\n",
       "}}\n",
       "\n",
       "// Listen for the clearing of the current output cell\n",
       "var outputEl = gd.closest('.output');\n",
       "if (outputEl) {{\n",
       "    x.observe(outputEl, {childList: true});\n",
       "}}\n",
       "\n",
       "                        })                };                });            </script>        </div>"
      ]
     },
     "metadata": {},
     "output_type": "display_data"
    },
    {
     "name": "stdout",
     "output_type": "stream",
     "text": [
      "=============================== AWAY =================================\n",
      "\n",
      "-------------------------- Summary Details ----------------------------\n"
     ]
    },
    {
     "data": {
      "text/html": [
       "<div>\n",
       "<style scoped>\n",
       "    .dataframe tbody tr th:only-of-type {\n",
       "        vertical-align: middle;\n",
       "    }\n",
       "\n",
       "    .dataframe tbody tr th {\n",
       "        vertical-align: top;\n",
       "    }\n",
       "\n",
       "    .dataframe thead th {\n",
       "        text-align: right;\n",
       "    }\n",
       "</style>\n",
       "<table border=\"1\" class=\"dataframe\">\n",
       "  <thead>\n",
       "    <tr style=\"text-align: right;\">\n",
       "      <th></th>\n",
       "      <th>Value</th>\n",
       "    </tr>\n",
       "  </thead>\n",
       "  <tbody>\n",
       "    <tr>\n",
       "      <th>totalAssets</th>\n",
       "      <td>381284480</td>\n",
       "    </tr>\n",
       "    <tr>\n",
       "      <th>previousClose</th>\n",
       "      <td>25.78</td>\n",
       "    </tr>\n",
       "    <tr>\n",
       "      <th>open</th>\n",
       "      <td>25.74</td>\n",
       "    </tr>\n",
       "    <tr>\n",
       "      <th>fiftyDayAverage</th>\n",
       "      <td>27.9304</td>\n",
       "    </tr>\n",
       "    <tr>\n",
       "      <th>fiftyDayAverage</th>\n",
       "      <td>27.9304</td>\n",
       "    </tr>\n",
       "    <tr>\n",
       "      <th>fiftyTwoWeekLow</th>\n",
       "      <td>24.25</td>\n",
       "    </tr>\n",
       "    <tr>\n",
       "      <th>fiftyTwoWeekHigh</th>\n",
       "      <td>34.54</td>\n",
       "    </tr>\n",
       "    <tr>\n",
       "      <th>twoHundredDayAverage</th>\n",
       "      <td>29.1832</td>\n",
       "    </tr>\n",
       "    <tr>\n",
       "      <th>volume</th>\n",
       "      <td>247192</td>\n",
       "    </tr>\n",
       "    <tr>\n",
       "      <th>averageVolume</th>\n",
       "      <td>242400</td>\n",
       "    </tr>\n",
       "    <tr>\n",
       "      <th>averageVolume10days</th>\n",
       "      <td>319220</td>\n",
       "    </tr>\n",
       "    <tr>\n",
       "      <th>averageDailyVolume10Day</th>\n",
       "      <td>319220</td>\n",
       "    </tr>\n",
       "  </tbody>\n",
       "</table>\n",
       "</div>"
      ],
      "text/plain": [
       "                             Value\n",
       "totalAssets              381284480\n",
       "previousClose                25.78\n",
       "open                         25.74\n",
       "fiftyDayAverage            27.9304\n",
       "fiftyDayAverage            27.9304\n",
       "fiftyTwoWeekLow              24.25\n",
       "fiftyTwoWeekHigh             34.54\n",
       "twoHundredDayAverage       29.1832\n",
       "volume                      247192\n",
       "averageVolume               242400\n",
       "averageVolume10days         319220\n",
       "averageDailyVolume10Day     319220"
      ]
     },
     "metadata": {},
     "output_type": "display_data"
    },
    {
     "name": "stdout",
     "output_type": "stream",
     "text": [
      "-------------------------- Key Factor ----------------------------\n"
     ]
    },
    {
     "data": {
      "text/html": [
       "<div>\n",
       "<style scoped>\n",
       "    .dataframe tbody tr th:only-of-type {\n",
       "        vertical-align: middle;\n",
       "    }\n",
       "\n",
       "    .dataframe tbody tr th {\n",
       "        vertical-align: top;\n",
       "    }\n",
       "\n",
       "    .dataframe thead th {\n",
       "        text-align: right;\n",
       "    }\n",
       "</style>\n",
       "<table border=\"1\" class=\"dataframe\">\n",
       "  <thead>\n",
       "    <tr style=\"text-align: right;\">\n",
       "      <th></th>\n",
       "      <th>Value</th>\n",
       "    </tr>\n",
       "  </thead>\n",
       "  <tbody>\n",
       "    <tr>\n",
       "      <th>category</th>\n",
       "      <td>Consumer Cyclical</td>\n",
       "    </tr>\n",
       "    <tr>\n",
       "      <th>ytdReturn</th>\n",
       "      <td>0.0569</td>\n",
       "    </tr>\n",
       "    <tr>\n",
       "      <th>fundFamily</th>\n",
       "      <td>ETFMG</td>\n",
       "    </tr>\n",
       "    <tr>\n",
       "      <th>fundInceptionDate</th>\n",
       "      <td>2020-02-11 19:00:00</td>\n",
       "    </tr>\n",
       "    <tr>\n",
       "      <th>legalType</th>\n",
       "      <td>Exchange Traded Fund</td>\n",
       "    </tr>\n",
       "  </tbody>\n",
       "</table>\n",
       "</div>"
      ],
      "text/plain": [
       "                                  Value\n",
       "category              Consumer Cyclical\n",
       "ytdReturn                        0.0569\n",
       "fundFamily                        ETFMG\n",
       "fundInceptionDate   2020-02-11 19:00:00\n",
       "legalType          Exchange Traded Fund"
      ]
     },
     "metadata": {},
     "output_type": "display_data"
    },
    {
     "name": "stdout",
     "output_type": "stream",
     "text": [
      "-------------------------- Fund Sector ----------------------------\n"
     ]
    },
    {
     "data": {
      "text/html": [
       "<div>\n",
       "<style scoped>\n",
       "    .dataframe tbody tr th:only-of-type {\n",
       "        vertical-align: middle;\n",
       "    }\n",
       "\n",
       "    .dataframe tbody tr th {\n",
       "        vertical-align: top;\n",
       "    }\n",
       "\n",
       "    .dataframe thead th {\n",
       "        text-align: right;\n",
       "    }\n",
       "</style>\n",
       "<table border=\"1\" class=\"dataframe\">\n",
       "  <thead>\n",
       "    <tr style=\"text-align: right;\">\n",
       "      <th></th>\n",
       "      <th>Fund Sector</th>\n",
       "      <th>Percentage</th>\n",
       "    </tr>\n",
       "  </thead>\n",
       "  <tbody>\n",
       "    <tr>\n",
       "      <th>1</th>\n",
       "      <td>consumer_cyclical</td>\n",
       "      <td>0.6179</td>\n",
       "    </tr>\n",
       "    <tr>\n",
       "      <th>4</th>\n",
       "      <td>technology</td>\n",
       "      <td>0.2597</td>\n",
       "    </tr>\n",
       "    <tr>\n",
       "      <th>5</th>\n",
       "      <td>communication_services</td>\n",
       "      <td>0.1224</td>\n",
       "    </tr>\n",
       "    <tr>\n",
       "      <th>0</th>\n",
       "      <td>realestate</td>\n",
       "      <td>0.0000</td>\n",
       "    </tr>\n",
       "    <tr>\n",
       "      <th>2</th>\n",
       "      <td>basic_materials</td>\n",
       "      <td>0.0000</td>\n",
       "    </tr>\n",
       "    <tr>\n",
       "      <th>3</th>\n",
       "      <td>consumer_defensive</td>\n",
       "      <td>0.0000</td>\n",
       "    </tr>\n",
       "    <tr>\n",
       "      <th>6</th>\n",
       "      <td>financial_services</td>\n",
       "      <td>0.0000</td>\n",
       "    </tr>\n",
       "    <tr>\n",
       "      <th>7</th>\n",
       "      <td>utilities</td>\n",
       "      <td>0.0000</td>\n",
       "    </tr>\n",
       "    <tr>\n",
       "      <th>8</th>\n",
       "      <td>industrials</td>\n",
       "      <td>0.0000</td>\n",
       "    </tr>\n",
       "    <tr>\n",
       "      <th>9</th>\n",
       "      <td>energy</td>\n",
       "      <td>0.0000</td>\n",
       "    </tr>\n",
       "    <tr>\n",
       "      <th>10</th>\n",
       "      <td>healthcare</td>\n",
       "      <td>0.0000</td>\n",
       "    </tr>\n",
       "  </tbody>\n",
       "</table>\n",
       "</div>"
      ],
      "text/plain": [
       "               Fund Sector  Percentage\n",
       "1        consumer_cyclical      0.6179\n",
       "4               technology      0.2597\n",
       "5   communication_services      0.1224\n",
       "0               realestate      0.0000\n",
       "2          basic_materials      0.0000\n",
       "3       consumer_defensive      0.0000\n",
       "6       financial_services      0.0000\n",
       "7                utilities      0.0000\n",
       "8              industrials      0.0000\n",
       "9                   energy      0.0000\n",
       "10              healthcare      0.0000"
      ]
     },
     "metadata": {},
     "output_type": "display_data"
    },
    {
     "name": "stdout",
     "output_type": "stream",
     "text": [
      "-------------------------- Holdings ----------------------------\n"
     ]
    },
    {
     "data": {
      "text/html": [
       "<div>\n",
       "<style scoped>\n",
       "    .dataframe tbody tr th:only-of-type {\n",
       "        vertical-align: middle;\n",
       "    }\n",
       "\n",
       "    .dataframe tbody tr th {\n",
       "        vertical-align: top;\n",
       "    }\n",
       "\n",
       "    .dataframe thead th {\n",
       "        text-align: right;\n",
       "    }\n",
       "</style>\n",
       "<table border=\"1\" class=\"dataframe\">\n",
       "  <thead>\n",
       "    <tr style=\"text-align: right;\">\n",
       "      <th></th>\n",
       "      <th>symbol</th>\n",
       "      <th>holdingName</th>\n",
       "      <th>holdingPercent</th>\n",
       "    </tr>\n",
       "  </thead>\n",
       "  <tbody>\n",
       "    <tr>\n",
       "      <th>0</th>\n",
       "      <td>ABNB</td>\n",
       "      <td>Airbnb Inc Ordinary Shares - Class A</td>\n",
       "      <td>0.0495</td>\n",
       "    </tr>\n",
       "    <tr>\n",
       "      <th>1</th>\n",
       "      <td>UBER</td>\n",
       "      <td>Uber Technologies Inc</td>\n",
       "      <td>0.0480</td>\n",
       "    </tr>\n",
       "    <tr>\n",
       "      <th>2</th>\n",
       "      <td>BKNG</td>\n",
       "      <td>Booking Holdings Inc</td>\n",
       "      <td>0.0445</td>\n",
       "    </tr>\n",
       "    <tr>\n",
       "      <th>3</th>\n",
       "      <td>LYFT</td>\n",
       "      <td>Lyft Inc Class A</td>\n",
       "      <td>0.0445</td>\n",
       "    </tr>\n",
       "    <tr>\n",
       "      <th>4</th>\n",
       "      <td>MMYT.BO</td>\n",
       "      <td>MakeMyTrip Ltd</td>\n",
       "      <td>0.0440</td>\n",
       "    </tr>\n",
       "    <tr>\n",
       "      <th>5</th>\n",
       "      <td>TRN.L</td>\n",
       "      <td>Trainline PLC</td>\n",
       "      <td>0.0428</td>\n",
       "    </tr>\n",
       "    <tr>\n",
       "      <th>6</th>\n",
       "      <td>TCOM</td>\n",
       "      <td>Trip.com Group Ltd ADR</td>\n",
       "      <td>0.0422</td>\n",
       "    </tr>\n",
       "    <tr>\n",
       "      <th>7</th>\n",
       "      <td>00696</td>\n",
       "      <td>TravelSky Technology Ltd Class H</td>\n",
       "      <td>0.0411</td>\n",
       "    </tr>\n",
       "    <tr>\n",
       "      <th>8</th>\n",
       "      <td>EXPE</td>\n",
       "      <td>Expedia Group Inc</td>\n",
       "      <td>0.0398</td>\n",
       "    </tr>\n",
       "    <tr>\n",
       "      <th>9</th>\n",
       "      <td>TRIP</td>\n",
       "      <td>TripAdvisor Inc</td>\n",
       "      <td>0.0395</td>\n",
       "    </tr>\n",
       "  </tbody>\n",
       "</table>\n",
       "</div>"
      ],
      "text/plain": [
       "    symbol                           holdingName  holdingPercent\n",
       "0     ABNB  Airbnb Inc Ordinary Shares - Class A          0.0495\n",
       "1     UBER                 Uber Technologies Inc          0.0480\n",
       "2     BKNG                  Booking Holdings Inc          0.0445\n",
       "3     LYFT                      Lyft Inc Class A          0.0445\n",
       "4  MMYT.BO                        MakeMyTrip Ltd          0.0440\n",
       "5    TRN.L                         Trainline PLC          0.0428\n",
       "6     TCOM                Trip.com Group Ltd ADR          0.0422\n",
       "7    00696      TravelSky Technology Ltd Class H          0.0411\n",
       "8     EXPE                     Expedia Group Inc          0.0398\n",
       "9     TRIP                       TripAdvisor Inc          0.0395"
      ]
     },
     "metadata": {},
     "output_type": "display_data"
    },
    {
     "name": "stdout",
     "output_type": "stream",
     "text": [
      "-------------------------- Returns ----------------------------\n"
     ]
    },
    {
     "data": {
      "text/html": [
       "<div>\n",
       "<style scoped>\n",
       "    .dataframe tbody tr th:only-of-type {\n",
       "        vertical-align: middle;\n",
       "    }\n",
       "\n",
       "    .dataframe tbody tr th {\n",
       "        vertical-align: top;\n",
       "    }\n",
       "\n",
       "    .dataframe thead th {\n",
       "        text-align: right;\n",
       "    }\n",
       "</style>\n",
       "<table border=\"1\" class=\"dataframe\">\n",
       "  <thead>\n",
       "    <tr style=\"text-align: right;\">\n",
       "      <th></th>\n",
       "      <th>Value</th>\n",
       "    </tr>\n",
       "  </thead>\n",
       "  <tbody>\n",
       "    <tr>\n",
       "      <th>asOfDate</th>\n",
       "      <td>2021-10-27 20:00:00</td>\n",
       "    </tr>\n",
       "    <tr>\n",
       "      <th>ytdReturnPct</th>\n",
       "      <td>0.0569</td>\n",
       "    </tr>\n",
       "    <tr>\n",
       "      <th>oneYearTotalReturn</th>\n",
       "      <td>0.4645</td>\n",
       "    </tr>\n",
       "    <tr>\n",
       "      <th>threeYearTotalReturn</th>\n",
       "      <td>0</td>\n",
       "    </tr>\n",
       "  </tbody>\n",
       "</table>\n",
       "</div>"
      ],
      "text/plain": [
       "                                    Value\n",
       "asOfDate              2021-10-27 20:00:00\n",
       "ytdReturnPct                       0.0569\n",
       "oneYearTotalReturn                 0.4645\n",
       "threeYearTotalReturn                    0"
      ]
     },
     "metadata": {},
     "output_type": "display_data"
    },
    {
     "name": "stdout",
     "output_type": "stream",
     "text": [
      "\n"
     ]
    },
    {
     "data": {
      "text/html": [
       "<div>\n",
       "<style scoped>\n",
       "    .dataframe tbody tr th:only-of-type {\n",
       "        vertical-align: middle;\n",
       "    }\n",
       "\n",
       "    .dataframe tbody tr th {\n",
       "        vertical-align: top;\n",
       "    }\n",
       "\n",
       "    .dataframe thead th {\n",
       "        text-align: right;\n",
       "    }\n",
       "</style>\n",
       "<table border=\"1\" class=\"dataframe\">\n",
       "  <thead>\n",
       "    <tr style=\"text-align: right;\">\n",
       "      <th></th>\n",
       "      <th>Value</th>\n",
       "    </tr>\n",
       "  </thead>\n",
       "  <tbody>\n",
       "    <tr>\n",
       "      <th>asOfDate</th>\n",
       "      <td>2021-06-29 20:00:00</td>\n",
       "    </tr>\n",
       "    <tr>\n",
       "      <th>ytd</th>\n",
       "      <td>0.1506</td>\n",
       "    </tr>\n",
       "    <tr>\n",
       "      <th>oneMonth</th>\n",
       "      <td>-0.044</td>\n",
       "    </tr>\n",
       "    <tr>\n",
       "      <th>threeMonth</th>\n",
       "      <td>-0.0467</td>\n",
       "    </tr>\n",
       "    <tr>\n",
       "      <th>oneYear</th>\n",
       "      <td>0.6184</td>\n",
       "    </tr>\n",
       "    <tr>\n",
       "      <th>threeYear</th>\n",
       "      <td>0</td>\n",
       "    </tr>\n",
       "    <tr>\n",
       "      <th>fiveYear</th>\n",
       "      <td>0</td>\n",
       "    </tr>\n",
       "    <tr>\n",
       "      <th>tenYear</th>\n",
       "      <td>0</td>\n",
       "    </tr>\n",
       "    <tr>\n",
       "      <th>lastBullMkt</th>\n",
       "      <td>0</td>\n",
       "    </tr>\n",
       "    <tr>\n",
       "      <th>lastBearMkt</th>\n",
       "      <td>0</td>\n",
       "    </tr>\n",
       "  </tbody>\n",
       "</table>\n",
       "</div>"
      ],
      "text/plain": [
       "                           Value\n",
       "asOfDate     2021-06-29 20:00:00\n",
       "ytd                       0.1506\n",
       "oneMonth                  -0.044\n",
       "threeMonth               -0.0467\n",
       "oneYear                   0.6184\n",
       "threeYear                      0\n",
       "fiveYear                       0\n",
       "tenYear                        0\n",
       "lastBullMkt                    0\n",
       "lastBearMkt                    0"
      ]
     },
     "metadata": {},
     "output_type": "display_data"
    },
    {
     "name": "stdout",
     "output_type": "stream",
     "text": [
      "\n"
     ]
    },
    {
     "data": {
      "text/html": [
       "<div>\n",
       "<style scoped>\n",
       "    .dataframe tbody tr th:only-of-type {\n",
       "        vertical-align: middle;\n",
       "    }\n",
       "\n",
       "    .dataframe tbody tr th {\n",
       "        vertical-align: top;\n",
       "    }\n",
       "\n",
       "    .dataframe thead th {\n",
       "        text-align: right;\n",
       "    }\n",
       "</style>\n",
       "<table border=\"1\" class=\"dataframe\">\n",
       "  <thead>\n",
       "    <tr style=\"text-align: right;\">\n",
       "      <th></th>\n",
       "      <th>year</th>\n",
       "    </tr>\n",
       "  </thead>\n",
       "  <tbody>\n",
       "    <tr>\n",
       "      <th>0</th>\n",
       "      <td>2021</td>\n",
       "    </tr>\n",
       "    <tr>\n",
       "      <th>1</th>\n",
       "      <td>2020</td>\n",
       "    </tr>\n",
       "  </tbody>\n",
       "</table>\n",
       "</div>"
      ],
      "text/plain": [
       "   year\n",
       "0  2021\n",
       "1  2020"
      ]
     },
     "metadata": {},
     "output_type": "display_data"
    },
    {
     "name": "stdout",
     "output_type": "stream",
     "text": [
      "-------------------------- Risk Factors ----------------------------\n"
     ]
    },
    {
     "data": {
      "text/html": [
       "<div>\n",
       "<style scoped>\n",
       "    .dataframe tbody tr th:only-of-type {\n",
       "        vertical-align: middle;\n",
       "    }\n",
       "\n",
       "    .dataframe tbody tr th {\n",
       "        vertical-align: top;\n",
       "    }\n",
       "\n",
       "    .dataframe thead th {\n",
       "        text-align: right;\n",
       "    }\n",
       "</style>\n",
       "<table border=\"1\" class=\"dataframe\">\n",
       "  <thead>\n",
       "    <tr style=\"text-align: right;\">\n",
       "      <th></th>\n",
       "      <th>year</th>\n",
       "      <th>alpha</th>\n",
       "      <th>beta</th>\n",
       "      <th>meanAnnualReturn</th>\n",
       "      <th>rSquared</th>\n",
       "      <th>stdDev</th>\n",
       "      <th>sharpeRatio</th>\n",
       "      <th>treynorRatio</th>\n",
       "    </tr>\n",
       "  </thead>\n",
       "  <tbody>\n",
       "    <tr>\n",
       "      <th>0</th>\n",
       "      <td>5y</td>\n",
       "      <td>0.0</td>\n",
       "      <td>0.0</td>\n",
       "      <td>0.0</td>\n",
       "      <td>0.0</td>\n",
       "      <td>0.0</td>\n",
       "      <td>0.0</td>\n",
       "      <td>0.0</td>\n",
       "    </tr>\n",
       "    <tr>\n",
       "      <th>1</th>\n",
       "      <td>3y</td>\n",
       "      <td>0.0</td>\n",
       "      <td>0.0</td>\n",
       "      <td>0.0</td>\n",
       "      <td>0.0</td>\n",
       "      <td>0.0</td>\n",
       "      <td>0.0</td>\n",
       "      <td>0.0</td>\n",
       "    </tr>\n",
       "    <tr>\n",
       "      <th>2</th>\n",
       "      <td>10y</td>\n",
       "      <td>0.0</td>\n",
       "      <td>0.0</td>\n",
       "      <td>0.0</td>\n",
       "      <td>0.0</td>\n",
       "      <td>0.0</td>\n",
       "      <td>0.0</td>\n",
       "      <td>0.0</td>\n",
       "    </tr>\n",
       "  </tbody>\n",
       "</table>\n",
       "</div>"
      ],
      "text/plain": [
       "  year  alpha  beta  meanAnnualReturn  rSquared  stdDev  sharpeRatio  \\\n",
       "0   5y    0.0   0.0               0.0       0.0     0.0          0.0   \n",
       "1   3y    0.0   0.0               0.0       0.0     0.0          0.0   \n",
       "2  10y    0.0   0.0               0.0       0.0     0.0          0.0   \n",
       "\n",
       "   treynorRatio  \n",
       "0           0.0  \n",
       "1           0.0  \n",
       "2           0.0  "
      ]
     },
     "metadata": {},
     "output_type": "display_data"
    },
    {
     "name": "stdout",
     "output_type": "stream",
     "text": [
      "=========================================================================\n"
     ]
    }
   ],
   "source": [
    "for ticker in watchlist.ticker.values:\n",
    "    print_news_title(ticker, td)\n",
    "    get_etf_holding(ticker, '1mo')"
   ]
  },
  {
   "cell_type": "markdown",
   "metadata": {},
   "source": [
    "## News Details"
   ]
  },
  {
   "cell_type": "code",
   "execution_count": 81,
   "metadata": {},
   "outputs": [
    {
     "data": {
      "text/html": [
       "<div>\n",
       "<style scoped>\n",
       "    .dataframe tbody tr th:only-of-type {\n",
       "        vertical-align: middle;\n",
       "    }\n",
       "\n",
       "    .dataframe tbody tr th {\n",
       "        vertical-align: top;\n",
       "    }\n",
       "\n",
       "    .dataframe thead th {\n",
       "        text-align: right;\n",
       "    }\n",
       "</style>\n",
       "<table border=\"1\" class=\"dataframe\">\n",
       "  <thead>\n",
       "    <tr style=\"text-align: right;\">\n",
       "      <th></th>\n",
       "      <th>title</th>\n",
       "      <th>summary</th>\n",
       "      <th>link</th>\n",
       "    </tr>\n",
       "  </thead>\n",
       "  <tbody>\n",
       "    <tr>\n",
       "      <th>0</th>\n",
       "      <td>Here’s everything new coming to Netflix in Dec...</td>\n",
       "      <td>New seasons of 'The Witcher,' 'Emily in Paris,...</td>\n",
       "      <td>https://finance.yahoo.com/m/35ac2a52-9350-328d...</td>\n",
       "    </tr>\n",
       "    <tr>\n",
       "      <th>1</th>\n",
       "      <td>‘Red Notice’ on Track to Be Netflix’s All-Time...</td>\n",
       "      <td>“Red Notice,” the art-heist thriller starring ...</td>\n",
       "      <td>https://variety.com/2021/digital/news/red-noti...</td>\n",
       "    </tr>\n",
       "    <tr>\n",
       "      <th>2</th>\n",
       "      <td>UPDATE 1-Spain to force streaming platforms to...</td>\n",
       "      <td>Spain will force streaming platforms, such as ...</td>\n",
       "      <td>https://finance.yahoo.com/news/1-spain-force-s...</td>\n",
       "    </tr>\n",
       "    <tr>\n",
       "      <th>3</th>\n",
       "      <td>Top Analyst Reports for Johnson &amp; Johnson, Net...</td>\n",
       "      <td>Today's Research Daily features new research r...</td>\n",
       "      <td>https://finance.yahoo.com/news/top-analyst-rep...</td>\n",
       "    </tr>\n",
       "    <tr>\n",
       "      <th>4</th>\n",
       "      <td>Spotify launches 'Netflix Hub' on its app to a...</td>\n",
       "      <td>The Netflix Hub, as the companies are calling ...</td>\n",
       "      <td>https://finance.yahoo.com/news/spotify-launche...</td>\n",
       "    </tr>\n",
       "    <tr>\n",
       "      <th>5</th>\n",
       "      <td>Market check: Stocks mixed as tech remains und...</td>\n",
       "      <td>Yahoo Finance’s Jared Blikre reports on how st...</td>\n",
       "      <td>https://finance.yahoo.com/video/market-check-s...</td>\n",
       "    </tr>\n",
       "    <tr>\n",
       "      <th>6</th>\n",
       "      <td>3 Stocks You Can Be Grateful For</td>\n",
       "      <td>The stock market can be a great way for indivi...</td>\n",
       "      <td>https://finance.yahoo.com/m/54e9fa31-c8ba-3b89...</td>\n",
       "    </tr>\n",
       "    <tr>\n",
       "      <th>7</th>\n",
       "      <td>Two Netflix workers who complained about Dave ...</td>\n",
       "      <td>Chappelle's \"The Closer\" first aired on Oct. 1...</td>\n",
       "      <td>https://finance.yahoo.com/m/f0828ea6-f234-3888...</td>\n",
       "    </tr>\n",
       "    <tr>\n",
       "      <th>8</th>\n",
       "      <td>Cathie Wood is backing up the truck on these 3...</td>\n",
       "      <td>Wood’s top picks have delivered enormous retur...</td>\n",
       "      <td>https://finance.yahoo.com/news/cathie-wood-bac...</td>\n",
       "    </tr>\n",
       "    <tr>\n",
       "      <th>9</th>\n",
       "      <td>Netflix employee at the center of protests aga...</td>\n",
       "      <td>A Netflix employee at the center of protests o...</td>\n",
       "      <td>https://finance.yahoo.com/news/netflix-employe...</td>\n",
       "    </tr>\n",
       "    <tr>\n",
       "      <th>10</th>\n",
       "      <td>Disney Stock Is Down. This Analyst Sees Stream...</td>\n",
       "      <td>Slowing subscriber growth at Disney+ worried i...</td>\n",
       "      <td>https://finance.yahoo.com/m/a0decade-497a-34c1...</td>\n",
       "    </tr>\n",
       "    <tr>\n",
       "      <th>11</th>\n",
       "      <td>Netflix to Acquire Scanline VFX, Effects Studi...</td>\n",
       "      <td>Netflix is snapping up premiere visual-effects...</td>\n",
       "      <td>https://variety.com/2021/digital/news/netflix-...</td>\n",
       "    </tr>\n",
       "    <tr>\n",
       "      <th>12</th>\n",
       "      <td>Fed Chair Powell renomination 'is good news fo...</td>\n",
       "      <td>Michael Arone of State Street Global Advisors ...</td>\n",
       "      <td>https://finance.yahoo.com/video/fed-chair-powe...</td>\n",
       "    </tr>\n",
       "    <tr>\n",
       "      <th>13</th>\n",
       "      <td>Apple encourages employees to discuss wages, w...</td>\n",
       "      <td>Yahoo Finance Live Anchors Julie Hyman and Bri...</td>\n",
       "      <td>https://finance.yahoo.com/video/apple-encourag...</td>\n",
       "    </tr>\n",
       "    <tr>\n",
       "      <th>14</th>\n",
       "      <td>4 Stocks Insiders Are Selling</td>\n",
       "      <td>When insiders sell shares, it indicates their ...</td>\n",
       "      <td>https://finance.yahoo.com/news/4-stocks-inside...</td>\n",
       "    </tr>\n",
       "  </tbody>\n",
       "</table>\n",
       "</div>"
      ],
      "text/plain": [
       "                                                title  \\\n",
       "0   Here’s everything new coming to Netflix in Dec...   \n",
       "1   ‘Red Notice’ on Track to Be Netflix’s All-Time...   \n",
       "2   UPDATE 1-Spain to force streaming platforms to...   \n",
       "3   Top Analyst Reports for Johnson & Johnson, Net...   \n",
       "4   Spotify launches 'Netflix Hub' on its app to a...   \n",
       "5   Market check: Stocks mixed as tech remains und...   \n",
       "6                    3 Stocks You Can Be Grateful For   \n",
       "7   Two Netflix workers who complained about Dave ...   \n",
       "8   Cathie Wood is backing up the truck on these 3...   \n",
       "9   Netflix employee at the center of protests aga...   \n",
       "10  Disney Stock Is Down. This Analyst Sees Stream...   \n",
       "11  Netflix to Acquire Scanline VFX, Effects Studi...   \n",
       "12  Fed Chair Powell renomination 'is good news fo...   \n",
       "13  Apple encourages employees to discuss wages, w...   \n",
       "14                      4 Stocks Insiders Are Selling   \n",
       "\n",
       "                                              summary  \\\n",
       "0   New seasons of 'The Witcher,' 'Emily in Paris,...   \n",
       "1   “Red Notice,” the art-heist thriller starring ...   \n",
       "2   Spain will force streaming platforms, such as ...   \n",
       "3   Today's Research Daily features new research r...   \n",
       "4   The Netflix Hub, as the companies are calling ...   \n",
       "5   Yahoo Finance’s Jared Blikre reports on how st...   \n",
       "6   The stock market can be a great way for indivi...   \n",
       "7   Chappelle's \"The Closer\" first aired on Oct. 1...   \n",
       "8   Wood’s top picks have delivered enormous retur...   \n",
       "9   A Netflix employee at the center of protests o...   \n",
       "10  Slowing subscriber growth at Disney+ worried i...   \n",
       "11  Netflix is snapping up premiere visual-effects...   \n",
       "12  Michael Arone of State Street Global Advisors ...   \n",
       "13  Yahoo Finance Live Anchors Julie Hyman and Bri...   \n",
       "14  When insiders sell shares, it indicates their ...   \n",
       "\n",
       "                                                 link  \n",
       "0   https://finance.yahoo.com/m/35ac2a52-9350-328d...  \n",
       "1   https://variety.com/2021/digital/news/red-noti...  \n",
       "2   https://finance.yahoo.com/news/1-spain-force-s...  \n",
       "3   https://finance.yahoo.com/news/top-analyst-rep...  \n",
       "4   https://finance.yahoo.com/news/spotify-launche...  \n",
       "5   https://finance.yahoo.com/video/market-check-s...  \n",
       "6   https://finance.yahoo.com/m/54e9fa31-c8ba-3b89...  \n",
       "7   https://finance.yahoo.com/m/f0828ea6-f234-3888...  \n",
       "8   https://finance.yahoo.com/news/cathie-wood-bac...  \n",
       "9   https://finance.yahoo.com/news/netflix-employe...  \n",
       "10  https://finance.yahoo.com/m/a0decade-497a-34c1...  \n",
       "11  https://variety.com/2021/digital/news/netflix-...  \n",
       "12  https://finance.yahoo.com/video/fed-chair-powe...  \n",
       "13  https://finance.yahoo.com/video/apple-encourag...  \n",
       "14  https://finance.yahoo.com/news/4-stocks-inside...  "
      ]
     },
     "metadata": {},
     "output_type": "display_data"
    }
   ],
   "source": [
    "def get_news_given_ticker(ticker, filter_date):\n",
    "    news_raw = news.get_yf_rss(ticker)\n",
    "    n_news = len(news_raw)\n",
    "    cols = ['title','date','summary','link']\n",
    "    output = pd.DataFrame(columns=cols)\n",
    "    for i in range(n_news):\n",
    "        newsdate = news_raw[i].published\n",
    "        newsdate = datetime(int(newsdate.split(' ')[3]), int(strptime(newsdate.split(' ')[2],'%b').tm_mon), int(newsdate.split(' ')[1]), 0, 0, 0)\n",
    "        output.loc[i,'title'] = news_raw[i].title\n",
    "        output.loc[i,'date'] = newsdate\n",
    "        output.loc[i,'summary'] = news_raw[i].summary\n",
    "        output.loc[i,'link'] = news_raw[i].link\n",
    "    output = output[output.date >= timestring.Date(filter_date).date].drop(columns = 'date')\n",
    "    return output\n",
    "\n",
    "test = get_news_given_ticker('nflx', td)\n",
    "display(test)"
   ]
  },
  {
   "cell_type": "code",
   "execution_count": 82,
   "metadata": {},
   "outputs": [
    {
     "name": "stdout",
     "output_type": "stream",
     "text": [
      "Recent News of JETS :\n",
      "================================================================\n"
     ]
    }
   ],
   "source": [
    "def print_news_title(ticker, filter_date):\n",
    "    news_raw = news.get_yf_rss(ticker)\n",
    "    n_news = len(news_raw)\n",
    "    print('Recent News of', ticker, ':')\n",
    "    for i in range(n_news):\n",
    "        newsdate = news_raw[i].published\n",
    "        newsdate = datetime(int(newsdate.split(' ')[3]), int(strptime(newsdate.split(' ')[2],'%b').tm_mon), int(newsdate.split(' ')[1]), 0, 0, 0)\n",
    "        if newsdate >= timestring.Date(filter_date).date:\n",
    "            print('-------------------------------------------------------------')\n",
    "            print(news_raw[i].title)\n",
    "            print(timestring.Date(news_raw[i].published).date)\n",
    "    print('================================================================')\n",
    "\n",
    "print_news_title('JETS', td)\n"
   ]
  },
  {
   "cell_type": "code",
   "execution_count": 69,
   "metadata": {},
   "outputs": [
    {
     "data": {
      "text/plain": [
       "datetime.date(2021, 8, 24)"
      ]
     },
     "execution_count": 69,
     "metadata": {},
     "output_type": "execute_result"
    }
   ],
   "source": [
    "from datetime import date\n",
    "from time import strptime\n",
    "strtest = 'Tue, 24 Aug 2021 12:14:20 +0000'\n",
    "\n",
    "\n"
   ]
  }
 ],
 "metadata": {
  "kernelspec": {
   "display_name": "Python 3",
   "language": "python",
   "name": "python3"
  },
  "language_info": {
   "codemirror_mode": {
    "name": "ipython",
    "version": 3
   },
   "file_extension": ".py",
   "mimetype": "text/x-python",
   "name": "python",
   "nbconvert_exporter": "python",
   "pygments_lexer": "ipython3",
   "version": "3.8.5"
  }
 },
 "nbformat": 4,
 "nbformat_minor": 2
}
