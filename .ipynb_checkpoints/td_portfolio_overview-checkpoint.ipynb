{
 "cells": [
  {
   "cell_type": "markdown",
   "metadata": {},
   "source": [
    "# Current TD Portfolio"
   ]
  },
  {
   "cell_type": "markdown",
   "metadata": {},
   "source": [
    "HTML('''<script>\n",
    "code_show=true; \n",
    "function code_toggle() {\n",
    " if (code_show){\n",
    " $('div.input').hide();\n",
    " } else {\n",
    " $('div.input').show();\n",
    " }\n",
    " code_show = !code_show\n",
    "} \n",
    "$( document ).ready(code_toggle);\n",
    "</script>\n",
    "The raw code for this IPython notebook is by default hidden for easier reading.\n",
    "To toggle on/off the raw code, click <a href=\"javascript:code_toggle()\">here</a>.''')"
   ]
  },
  {
   "cell_type": "markdown",
   "metadata": {},
   "source": [
    "## Fund Summary"
   ]
  },
  {
   "cell_type": "code",
   "execution_count": 9,
   "metadata": {},
   "outputs": [
    {
     "data": {
      "text/plain": [
       "'English_United States.1252'"
      ]
     },
     "execution_count": 9,
     "metadata": {},
     "output_type": "execute_result"
    }
   ],
   "source": [
    "import warnings\n",
    "import numpy as np\n",
    "warnings.filterwarnings('ignore')\n",
    "import os\n",
    "import pandas as pd\n",
    "path = 'C:\\\\Users\\\\luoyan011\\\\Desktop\\\\PersonalLearning\\\\GitHub\\\\private_data'\n",
    "from IPython.display import Markdown as md\n",
    "from IPython.display import display, HTML\n",
    "import xlrd\n",
    "from yahoo_fin.stock_info import *\n",
    "from yahoo_fin import stock_info as si\n",
    "\n",
    "import matplotlib.pyplot as plt\n",
    "from palettable.colorbrewer.qualitative import Pastel1_7\n",
    "import altair as alt\n",
    "\n",
    "import yahooquery\n",
    "from yahooquery import Ticker\n",
    "import yfinance as yf\n",
    "import locale\n",
    "locale.setlocale( locale.LC_ALL, '' ) #this used to format currency\n"
   ]
  },
  {
   "cell_type": "code",
   "execution_count": 71,
   "metadata": {},
   "outputs": [],
   "source": [
    "# def get_stock_details(tickers, startdate, enddate):\n",
    "#     output = pd.DataFrame()\n",
    "#     for ticker in tickers:\n",
    "#         tmp = si.get_data(ticker, start_date = startdate, end_date = enddate)\n",
    "#         output = output.append(tmp)\n",
    "#     output['date'] = output.index\n",
    "#     return output\n",
    "def get_stock_details(tickers, startdate, enddate):\n",
    "    output = pd.DataFrame()\n",
    "    for ticker in tickers:\n",
    "        tmp = yf.Ticker(ticker).history(start = startdate, end = enddate)\n",
    "        tmp['ticker'] = ticker\n",
    "        output = output.append(tmp)\n",
    "    output = output.reset_index()\n",
    "    return output\n",
    "\n",
    "\n",
    "def plot_pie_chart_dist(data, group_by_feature, dist_feature):\n",
    "    # plot link: https://python-graph-gallery.com/161-custom-matplotlib-donut-plot/\n",
    "    data_smr = pd.DataFrame(data.groupby(group_by_feature)[dist_feature].agg('sum').round(0))\n",
    "    display(HTML(data_smr.to_html()))\n",
    "    data_smr[group_by_feature] = data_smr.index\n",
    "\n",
    "    my_circle=plt.Circle( (0,0), 0.5, color='white')\n",
    "    fig, ax = plt.subplots(figsize=(8, 8), subplot_kw=dict(aspect=\"equal\"))\n",
    "    plt.pie(data_smr[dist_feature], \n",
    "            labels=data_smr[group_by_feature], \n",
    "            colors=Pastel1_7.hex_colors, \n",
    "            autopct='%1.1f%%',\n",
    "            wedgeprops = { 'linewidth' : 7, 'edgecolor' : 'white' })\n",
    "    p=plt.gcf()\n",
    "    p.gca().add_artist(my_circle)\n",
    "    plt.title(dist_feature + ' distribution by different ' + group_by_feature)\n",
    "    plt.show()\n",
    "\n",
    "    \n",
    "def get_etf_holding(ticker, price_period = '2y'):\n",
    "    t = Ticker(ticker)\n",
    "    hist_price = t.history(period=price_period, interval='1d')\n",
    "    hist_price = hist_price.reset_index()\n",
    "    price = pd.melt(hist_price, id_vars=['date'], value_vars=['open', 'high', 'close', 'low', 'adjclose'])\n",
    "    fig = px.line(price, x='date', y='value', color='variable',\n",
    "                 title=ticker+' Historical Price')\n",
    "    fig.show()\n",
    "    fig = px.line(hist_price, x='date', y='volume', \n",
    "                 title=ticker+' Volume')\n",
    "    fig.show()\n",
    "    print('===============================',ticker,'=================================')\n",
    "    print()\n",
    "    print('-------------------------- Summary Details ----------------------------')\n",
    "    smr_details = pd.DataFrame(t.summary_detail[ticker], index=[0]).T.set_axis(['Value'], axis=1, inplace=False)\n",
    "    keep_cols = ['totalAssets', 'previousClose', 'open', 'fiftyDayAverage','fiftyDayAverage',\n",
    "             'fiftyTwoWeekLow', 'fiftyTwoWeekHigh', 'twoHundredDayAverage',\n",
    "             'volume','averageVolume', 'averageVolume10days','averageDailyVolume10Day']\n",
    "    smr_details = smr_details[smr_details.index.isin(keep_cols)]\n",
    "    smr_details = smr_details.reindex(keep_cols)\n",
    "    print(smr_details)\n",
    "    print('-------------------------- Key Factor ----------------------------')\n",
    "    key_factor = pd.DataFrame(t.key_stats[ticker], index=[0]).T.set_axis(['Value'], axis=1, inplace=False)\n",
    "    key_factor = key_factor[key_factor.index.isin(['category','ytdReturn','fundFamily', 'fundInceptionDate', 'legalType'])]\n",
    "    print(key_factor)\n",
    "    print('-------------------------- Fund Sector ----------------------------')\n",
    "    fund_sector = t.fund_sector_weightings\n",
    "    if len(fund_sector) >1:\n",
    "        fund_sector.insert(0,'Fund Sector',fund_sector.index)\n",
    "        fund_sector = fund_sector.reset_index(drop=True)\n",
    "        fund_sector.columns = ['Fund Sector','Percentage']\n",
    "        fund_sector = fund_sector.sort_values(by='Percentage', ascending=False)\n",
    "    print(fund_sector)\n",
    "    print('-------------------------- Holdings ----------------------------')\n",
    "    if type(t.fund_holding_info[ticker]) != str:\n",
    "        print(pd.DataFrame(t.fund_holding_info[ticker]['holdings']))\n",
    "    print('-------------------------- Returns ----------------------------')\n",
    "    if type(t.fund_performance[ticker]) != str:\n",
    "        print(pd.DataFrame(t.fund_performance[ticker]['performanceOverview'], index=[0]).T.set_axis(['Value'], axis=1, inplace=False))\n",
    "        print()\n",
    "        print(pd.DataFrame(t.fund_performance[ticker]['trailingReturns'], index=[0]).T.set_axis(['Value'], axis=1, inplace=False))\n",
    "        print()\n",
    "        print(pd.DataFrame(t.fund_performance[ticker]['annualTotalReturns']['returns']))\n",
    "    print('-------------------------- Risk Factors ----------------------------')\n",
    "    if type(t.fund_performance[ticker]) != str:\n",
    "        print(pd.DataFrame(t.fund_performance[ticker]['riskOverviewStatistics']['riskStatistics']))\n",
    "    print('=========================================================================')\n",
    "                           "
   ]
  },
  {
   "cell_type": "code",
   "execution_count": 51,
   "metadata": {},
   "outputs": [
    {
     "data": {
      "text/html": [
       "<div>\n",
       "<style scoped>\n",
       "    .dataframe tbody tr th:only-of-type {\n",
       "        vertical-align: middle;\n",
       "    }\n",
       "\n",
       "    .dataframe tbody tr th {\n",
       "        vertical-align: top;\n",
       "    }\n",
       "\n",
       "    .dataframe thead th {\n",
       "        text-align: right;\n",
       "    }\n",
       "</style>\n",
       "<table border=\"1\" class=\"dataframe\">\n",
       "  <thead>\n",
       "    <tr style=\"text-align: right;\">\n",
       "      <th></th>\n",
       "      <th>date</th>\n",
       "      <th>currency</th>\n",
       "      <th>value</th>\n",
       "    </tr>\n",
       "  </thead>\n",
       "  <tbody>\n",
       "    <tr>\n",
       "      <th>0</th>\n",
       "      <td>2020-01-01</td>\n",
       "      <td>CAD</td>\n",
       "      <td>41327.0</td>\n",
       "    </tr>\n",
       "    <tr>\n",
       "      <th>1</th>\n",
       "      <td>2020-01-01</td>\n",
       "      <td>USD</td>\n",
       "      <td>21347.0</td>\n",
       "    </tr>\n",
       "    <tr>\n",
       "      <th>2</th>\n",
       "      <td>2021-07-03</td>\n",
       "      <td>CAD</td>\n",
       "      <td>NaN</td>\n",
       "    </tr>\n",
       "  </tbody>\n",
       "</table>\n",
       "</div>"
      ],
      "text/plain": [
       "        date currency    value\n",
       "0 2020-01-01      CAD  41327.0\n",
       "1 2020-01-01      USD  21347.0\n",
       "2 2021-07-03      CAD      NaN"
      ]
     },
     "execution_count": 51,
     "metadata": {},
     "output_type": "execute_result"
    }
   ],
   "source": [
    "# Load File\n",
    "file = 'stock_smr.xlsx'\n",
    "holding_tranc = 'holding_transaction'\n",
    "cash_tranc = 'cash_transaction'\n",
    "\n",
    "from datetime import datetime, timedelta\n",
    "# td = str((datetime.today() - timedelta(days = max(1, (datetime.today().weekday() + 6) % 7 - 3))).strftime('%m/%d/%Y'))\n",
    "# lstyear = str((datetime.strptime(td, '%m/%d/%Y') + timedelta(days = -365)).strftime('%m/%d/%Y'))\n",
    "# lstqtr = str((datetime.strptime(td, '%m/%d/%Y') + timedelta(days = -90)).strftime('%m/%d/%Y'))\n",
    "# tmr = str((datetime.strptime(td, '%m/%d/%Y') + timedelta(days = 1)).strftime('%m/%d/%Y'))\n",
    "\n",
    "lstyear = str((datetime.strptime(td, '%Y-%m-%d') + timedelta(days = -365)).strftime('%Y-%m-%d'))\n",
    "lstqtr = str((datetime.strptime(td, '%Y-%m-%d') + timedelta(days = -90)).strftime('%Y-%m-%d'))\n",
    "td = str((datetime.today() - timedelta(days = max(1, (datetime.today().weekday() + 6) % 7 - 3))).strftime('%Y-%m-%d'))\n",
    "tmr = str((datetime.strptime(td, '%Y-%m-%d') + timedelta(days = 1)).strftime('%Y-%m-%d'))\n",
    "\n",
    "\n",
    "initial_fund = pd.read_excel(os.path.join(path,file), sheet_name = cash_tranc)\n",
    "stock_tranc = pd.read_excel(os.path.join(path,file), sheet_name = holding_tranc)\n",
    "stock_tranc['total_amt'] = -1 * stock_tranc['amount_per_share'] * stock_tranc['share']\n",
    "\n",
    "initial_fund\n",
    "\n"
   ]
  },
  {
   "cell_type": "code",
   "execution_count": 72,
   "metadata": {},
   "outputs": [],
   "source": [
    "# Get Cash Value\n",
    "initial_fund = initial_fund[initial_fund.date<datetime.strptime(td,'%Y-%m-%d')]\n",
    "stock_tranc = stock_tranc[stock_tranc.date<datetime.strptime(td,'%Y-%m-%d')]\n",
    "\n",
    "initial_fund_CAD = initial_fund[initial_fund.currency == 'CAD']['value'].sum()\n",
    "initial_fund_USD = initial_fund[initial_fund.currency == 'USD']['value'].sum()\n",
    "current_cash_CAD = initial_fund[initial_fund.currency == 'CAD']['value'].sum() + stock_tranc[stock_tranc.currency=='CAD']['total_amt'].agg('sum')\n",
    "current_cash_USD = initial_fund[initial_fund.currency == 'USD']['value'].sum() + stock_tranc[stock_tranc.currency=='USD']['total_amt'].agg('sum')\n",
    "current_cash ={\n",
    "    'currency': ['CAD','USD'],\n",
    "    'value': [current_cash_CAD, current_cash_USD]\n",
    "}\n",
    "current_cash = pd.DataFrame(current_cash)\n",
    "# curr_cadusd = pd.to_numeric(si.get_data('CADUSD=X', start_date = td, end_date = tmr).sort_index(ascending=False).head(1).adjclose)[0]\n",
    "curr_cadusd = yf.Ticker(\"CADUSD=X\").history(start = td, end = tmr).sort_index(ascending=True).head(1).Close[0]\n"
   ]
  },
  {
   "cell_type": "code",
   "execution_count": 73,
   "metadata": {},
   "outputs": [
    {
     "name": "stdout",
     "output_type": "stream",
     "text": [
      "          ticker   share  total_amt   cost category currency products\n",
      "0  0P00016N6T.TO  109.17 -3999.9888 -36.64       IT      CAD   MUTUAL\n",
      "1         ENB.TO   80.00 -2889.6000 -36.12      OIL      CAD    STOCK\n",
      "2         HGU.TO   75.00 -2440.5000 -32.54     GOLD      CAD      ETF\n",
      "3         HUZ.TO  250.00 -3092.5000 -12.37   SILVER      CAD      ETF\n",
      "4         HZU.TO   90.00 -2106.9000 -23.41   SILVER      CAD      ETF\n",
      "5           SPCE   70.00 -1185.8000 -16.94    SPACE      USD    STOCK\n",
      "6            VDE   57.00 -2953.7400 -51.82      OIL      USD      ETF\n"
     ]
    },
    {
     "data": {
      "text/html": [
       "<div>\n",
       "<style scoped>\n",
       "    .dataframe tbody tr th:only-of-type {\n",
       "        vertical-align: middle;\n",
       "    }\n",
       "\n",
       "    .dataframe tbody tr th {\n",
       "        vertical-align: top;\n",
       "    }\n",
       "\n",
       "    .dataframe thead th {\n",
       "        text-align: right;\n",
       "    }\n",
       "</style>\n",
       "<table border=\"1\" class=\"dataframe\">\n",
       "  <thead>\n",
       "    <tr style=\"text-align: right;\">\n",
       "      <th></th>\n",
       "      <th>Date</th>\n",
       "      <th>Open</th>\n",
       "      <th>High</th>\n",
       "      <th>Low</th>\n",
       "      <th>Close</th>\n",
       "      <th>Volume</th>\n",
       "      <th>Dividends</th>\n",
       "      <th>Stock Splits</th>\n",
       "      <th>ticker</th>\n",
       "      <th>rank</th>\n",
       "    </tr>\n",
       "  </thead>\n",
       "  <tbody>\n",
       "    <tr>\n",
       "      <th>433</th>\n",
       "      <td>2021-11-18</td>\n",
       "      <td>80.430000</td>\n",
       "      <td>81.070000</td>\n",
       "      <td>79.110001</td>\n",
       "      <td>80.169998</td>\n",
       "      <td>1070700</td>\n",
       "      <td>0.0</td>\n",
       "      <td>0</td>\n",
       "      <td>VDE</td>\n",
       "      <td>1.0</td>\n",
       "    </tr>\n",
       "    <tr>\n",
       "      <th>307</th>\n",
       "      <td>2021-11-18</td>\n",
       "      <td>15.380000</td>\n",
       "      <td>15.460000</td>\n",
       "      <td>15.230000</td>\n",
       "      <td>15.290000</td>\n",
       "      <td>47700</td>\n",
       "      <td>0.0</td>\n",
       "      <td>0</td>\n",
       "      <td>HZU.TO</td>\n",
       "      <td>1.0</td>\n",
       "    </tr>\n",
       "    <tr>\n",
       "      <th>183</th>\n",
       "      <td>2021-11-18</td>\n",
       "      <td>19.200001</td>\n",
       "      <td>19.200001</td>\n",
       "      <td>18.520000</td>\n",
       "      <td>18.610001</td>\n",
       "      <td>217400</td>\n",
       "      <td>0.0</td>\n",
       "      <td>0</td>\n",
       "      <td>HGU.TO</td>\n",
       "      <td>1.0</td>\n",
       "    </tr>\n",
       "    <tr>\n",
       "      <th>370</th>\n",
       "      <td>2021-11-18</td>\n",
       "      <td>17.969999</td>\n",
       "      <td>18.000000</td>\n",
       "      <td>17.170000</td>\n",
       "      <td>17.379999</td>\n",
       "      <td>9551100</td>\n",
       "      <td>0.0</td>\n",
       "      <td>0</td>\n",
       "      <td>SPCE</td>\n",
       "      <td>1.0</td>\n",
       "    </tr>\n",
       "    <tr>\n",
       "      <th>121</th>\n",
       "      <td>2021-11-18</td>\n",
       "      <td>50.689999</td>\n",
       "      <td>50.759998</td>\n",
       "      <td>50.400002</td>\n",
       "      <td>50.470001</td>\n",
       "      <td>4628500</td>\n",
       "      <td>0.0</td>\n",
       "      <td>0</td>\n",
       "      <td>ENB.TO</td>\n",
       "      <td>1.0</td>\n",
       "    </tr>\n",
       "    <tr>\n",
       "      <th>245</th>\n",
       "      <td>2021-11-18</td>\n",
       "      <td>11.970000</td>\n",
       "      <td>11.970000</td>\n",
       "      <td>11.930000</td>\n",
       "      <td>11.930000</td>\n",
       "      <td>1700</td>\n",
       "      <td>0.0</td>\n",
       "      <td>0</td>\n",
       "      <td>HUZ.TO</td>\n",
       "      <td>1.0</td>\n",
       "    </tr>\n",
       "    <tr>\n",
       "      <th>244</th>\n",
       "      <td>2021-11-17</td>\n",
       "      <td>12.050000</td>\n",
       "      <td>12.100000</td>\n",
       "      <td>12.050000</td>\n",
       "      <td>12.050000</td>\n",
       "      <td>1600</td>\n",
       "      <td>0.0</td>\n",
       "      <td>0</td>\n",
       "      <td>HUZ.TO</td>\n",
       "      <td>2.0</td>\n",
       "    </tr>\n",
       "    <tr>\n",
       "      <th>59</th>\n",
       "      <td>2021-11-17</td>\n",
       "      <td>42.090000</td>\n",
       "      <td>42.090000</td>\n",
       "      <td>42.090000</td>\n",
       "      <td>42.090000</td>\n",
       "      <td>0</td>\n",
       "      <td>0.0</td>\n",
       "      <td>0</td>\n",
       "      <td>0P00016N6T.TO</td>\n",
       "      <td>1.0</td>\n",
       "    </tr>\n",
       "    <tr>\n",
       "      <th>306</th>\n",
       "      <td>2021-11-17</td>\n",
       "      <td>15.660000</td>\n",
       "      <td>15.800000</td>\n",
       "      <td>15.480000</td>\n",
       "      <td>15.600000</td>\n",
       "      <td>41400</td>\n",
       "      <td>0.0</td>\n",
       "      <td>0</td>\n",
       "      <td>HZU.TO</td>\n",
       "      <td>2.0</td>\n",
       "    </tr>\n",
       "    <tr>\n",
       "      <th>182</th>\n",
       "      <td>2021-11-17</td>\n",
       "      <td>18.820000</td>\n",
       "      <td>19.469999</td>\n",
       "      <td>18.820000</td>\n",
       "      <td>19.209999</td>\n",
       "      <td>200700</td>\n",
       "      <td>0.0</td>\n",
       "      <td>0</td>\n",
       "      <td>HGU.TO</td>\n",
       "      <td>2.0</td>\n",
       "    </tr>\n",
       "    <tr>\n",
       "      <th>120</th>\n",
       "      <td>2021-11-17</td>\n",
       "      <td>50.750000</td>\n",
       "      <td>51.320000</td>\n",
       "      <td>50.549999</td>\n",
       "      <td>50.700001</td>\n",
       "      <td>13496600</td>\n",
       "      <td>0.0</td>\n",
       "      <td>0</td>\n",
       "      <td>ENB.TO</td>\n",
       "      <td>2.0</td>\n",
       "    </tr>\n",
       "    <tr>\n",
       "      <th>369</th>\n",
       "      <td>2021-11-17</td>\n",
       "      <td>18.320000</td>\n",
       "      <td>18.549999</td>\n",
       "      <td>17.730000</td>\n",
       "      <td>17.910000</td>\n",
       "      <td>11587300</td>\n",
       "      <td>0.0</td>\n",
       "      <td>0</td>\n",
       "      <td>SPCE</td>\n",
       "      <td>2.0</td>\n",
       "    </tr>\n",
       "    <tr>\n",
       "      <th>432</th>\n",
       "      <td>2021-11-17</td>\n",
       "      <td>81.239998</td>\n",
       "      <td>82.309998</td>\n",
       "      <td>80.239998</td>\n",
       "      <td>80.529999</td>\n",
       "      <td>1098100</td>\n",
       "      <td>0.0</td>\n",
       "      <td>0</td>\n",
       "      <td>VDE</td>\n",
       "      <td>2.0</td>\n",
       "    </tr>\n",
       "    <tr>\n",
       "      <th>305</th>\n",
       "      <td>2021-11-16</td>\n",
       "      <td>15.540000</td>\n",
       "      <td>15.730000</td>\n",
       "      <td>15.250000</td>\n",
       "      <td>15.290000</td>\n",
       "      <td>89800</td>\n",
       "      <td>0.0</td>\n",
       "      <td>0</td>\n",
       "      <td>HZU.TO</td>\n",
       "      <td>3.0</td>\n",
       "    </tr>\n",
       "    <tr>\n",
       "      <th>243</th>\n",
       "      <td>2021-11-16</td>\n",
       "      <td>12.040000</td>\n",
       "      <td>12.040000</td>\n",
       "      <td>11.940000</td>\n",
       "      <td>11.940000</td>\n",
       "      <td>2600</td>\n",
       "      <td>0.0</td>\n",
       "      <td>0</td>\n",
       "      <td>HUZ.TO</td>\n",
       "      <td>3.0</td>\n",
       "    </tr>\n",
       "    <tr>\n",
       "      <th>181</th>\n",
       "      <td>2021-11-16</td>\n",
       "      <td>19.080000</td>\n",
       "      <td>19.370001</td>\n",
       "      <td>18.590000</td>\n",
       "      <td>18.639999</td>\n",
       "      <td>215600</td>\n",
       "      <td>0.0</td>\n",
       "      <td>0</td>\n",
       "      <td>HGU.TO</td>\n",
       "      <td>3.0</td>\n",
       "    </tr>\n",
       "    <tr>\n",
       "      <th>431</th>\n",
       "      <td>2021-11-16</td>\n",
       "      <td>82.070000</td>\n",
       "      <td>82.580002</td>\n",
       "      <td>81.480003</td>\n",
       "      <td>81.919998</td>\n",
       "      <td>856600</td>\n",
       "      <td>0.0</td>\n",
       "      <td>0</td>\n",
       "      <td>VDE</td>\n",
       "      <td>3.0</td>\n",
       "    </tr>\n",
       "    <tr>\n",
       "      <th>58</th>\n",
       "      <td>2021-11-16</td>\n",
       "      <td>42.540001</td>\n",
       "      <td>42.540001</td>\n",
       "      <td>42.540001</td>\n",
       "      <td>42.540001</td>\n",
       "      <td>0</td>\n",
       "      <td>0.0</td>\n",
       "      <td>0</td>\n",
       "      <td>0P00016N6T.TO</td>\n",
       "      <td>2.0</td>\n",
       "    </tr>\n",
       "    <tr>\n",
       "      <th>368</th>\n",
       "      <td>2021-11-16</td>\n",
       "      <td>18.750000</td>\n",
       "      <td>18.806000</td>\n",
       "      <td>18.177999</td>\n",
       "      <td>18.320000</td>\n",
       "      <td>15359000</td>\n",
       "      <td>0.0</td>\n",
       "      <td>0</td>\n",
       "      <td>SPCE</td>\n",
       "      <td>3.0</td>\n",
       "    </tr>\n",
       "    <tr>\n",
       "      <th>119</th>\n",
       "      <td>2021-11-16</td>\n",
       "      <td>50.660000</td>\n",
       "      <td>50.980000</td>\n",
       "      <td>50.570000</td>\n",
       "      <td>50.660000</td>\n",
       "      <td>14943300</td>\n",
       "      <td>0.0</td>\n",
       "      <td>0</td>\n",
       "      <td>ENB.TO</td>\n",
       "      <td>3.0</td>\n",
       "    </tr>\n",
       "    <tr>\n",
       "      <th>57</th>\n",
       "      <td>2021-11-12</td>\n",
       "      <td>41.759998</td>\n",
       "      <td>41.759998</td>\n",
       "      <td>41.759998</td>\n",
       "      <td>41.759998</td>\n",
       "      <td>0</td>\n",
       "      <td>0.0</td>\n",
       "      <td>0</td>\n",
       "      <td>0P00016N6T.TO</td>\n",
       "      <td>3.0</td>\n",
       "    </tr>\n",
       "  </tbody>\n",
       "</table>\n",
       "</div>"
      ],
      "text/plain": [
       "          Date       Open       High        Low      Close    Volume  \\\n",
       "433 2021-11-18  80.430000  81.070000  79.110001  80.169998   1070700   \n",
       "307 2021-11-18  15.380000  15.460000  15.230000  15.290000     47700   \n",
       "183 2021-11-18  19.200001  19.200001  18.520000  18.610001    217400   \n",
       "370 2021-11-18  17.969999  18.000000  17.170000  17.379999   9551100   \n",
       "121 2021-11-18  50.689999  50.759998  50.400002  50.470001   4628500   \n",
       "245 2021-11-18  11.970000  11.970000  11.930000  11.930000      1700   \n",
       "244 2021-11-17  12.050000  12.100000  12.050000  12.050000      1600   \n",
       "59  2021-11-17  42.090000  42.090000  42.090000  42.090000         0   \n",
       "306 2021-11-17  15.660000  15.800000  15.480000  15.600000     41400   \n",
       "182 2021-11-17  18.820000  19.469999  18.820000  19.209999    200700   \n",
       "120 2021-11-17  50.750000  51.320000  50.549999  50.700001  13496600   \n",
       "369 2021-11-17  18.320000  18.549999  17.730000  17.910000  11587300   \n",
       "432 2021-11-17  81.239998  82.309998  80.239998  80.529999   1098100   \n",
       "305 2021-11-16  15.540000  15.730000  15.250000  15.290000     89800   \n",
       "243 2021-11-16  12.040000  12.040000  11.940000  11.940000      2600   \n",
       "181 2021-11-16  19.080000  19.370001  18.590000  18.639999    215600   \n",
       "431 2021-11-16  82.070000  82.580002  81.480003  81.919998    856600   \n",
       "58  2021-11-16  42.540001  42.540001  42.540001  42.540001         0   \n",
       "368 2021-11-16  18.750000  18.806000  18.177999  18.320000  15359000   \n",
       "119 2021-11-16  50.660000  50.980000  50.570000  50.660000  14943300   \n",
       "57  2021-11-12  41.759998  41.759998  41.759998  41.759998         0   \n",
       "\n",
       "     Dividends  Stock Splits         ticker  rank  \n",
       "433        0.0             0            VDE   1.0  \n",
       "307        0.0             0         HZU.TO   1.0  \n",
       "183        0.0             0         HGU.TO   1.0  \n",
       "370        0.0             0           SPCE   1.0  \n",
       "121        0.0             0         ENB.TO   1.0  \n",
       "245        0.0             0         HUZ.TO   1.0  \n",
       "244        0.0             0         HUZ.TO   2.0  \n",
       "59         0.0             0  0P00016N6T.TO   1.0  \n",
       "306        0.0             0         HZU.TO   2.0  \n",
       "182        0.0             0         HGU.TO   2.0  \n",
       "120        0.0             0         ENB.TO   2.0  \n",
       "369        0.0             0           SPCE   2.0  \n",
       "432        0.0             0            VDE   2.0  \n",
       "305        0.0             0         HZU.TO   3.0  \n",
       "243        0.0             0         HUZ.TO   3.0  \n",
       "181        0.0             0         HGU.TO   3.0  \n",
       "431        0.0             0            VDE   3.0  \n",
       "58         0.0             0  0P00016N6T.TO   2.0  \n",
       "368        0.0             0           SPCE   3.0  \n",
       "119        0.0             0         ENB.TO   3.0  \n",
       "57         0.0             0  0P00016N6T.TO   3.0  "
      ]
     },
     "execution_count": 73,
     "metadata": {},
     "output_type": "execute_result"
    }
   ],
   "source": [
    "current_hold = stock_tranc.groupby('ticker')['share','total_amt'].agg('sum')\n",
    "current_hold['cost'] = current_hold.total_amt / current_hold.share\n",
    "current_hold = current_hold.reset_index()\n",
    "current_hold = current_hold.merge(stock_tranc[['ticker', 'category', 'currency', 'products']], how = 'left', on = 'ticker')\n",
    "print(current_hold)\n",
    "\n",
    "active_stock_ticker = current_hold.ticker.unique()\n",
    "hold_stock_detail = get_stock_details(active_stock_ticker, lstqtr, td)\n",
    "\n",
    "from pandasql import sqldf, load_meat, load_births\n",
    "pysqldf = lambda q: sqldf(q, globals())\n",
    "\n",
    "stock_curr_price = hold_stock_detail[hold_stock_detail.Close.notnull()].sort_values(by = ['Date'], ascending=False).groupby('ticker').head(3)\n",
    "stock_curr_price['rank'] = stock_curr_price.groupby('ticker')['Date'].rank(method = 'first', ascending = False)\n",
    "stock_curr_price"
   ]
  },
  {
   "cell_type": "code",
   "execution_count": 74,
   "metadata": {
    "scrolled": false
   },
   "outputs": [
    {
     "name": "stdout",
     "output_type": "stream",
     "text": [
      "          ticker   share  total_amt   cost category currency products\n",
      "0  0P00016N6T.TO  109.17 -3999.9888 -36.64       IT      CAD   MUTUAL\n",
      "1         ENB.TO   80.00 -2889.6000 -36.12      OIL      CAD    STOCK\n",
      "2         HGU.TO   75.00 -2440.5000 -32.54     GOLD      CAD      ETF\n",
      "3         HUZ.TO  250.00 -3092.5000 -12.37   SILVER      CAD      ETF\n",
      "4         HZU.TO   90.00 -2106.9000 -23.41   SILVER      CAD      ETF\n",
      "5           SPCE   70.00 -1185.8000 -16.94    SPACE      USD    STOCK\n",
      "6            VDE   57.00 -2953.7400 -51.82      OIL      USD      ETF\n"
     ]
    },
    {
     "data": {
      "text/html": [
       "<div>\n",
       "<style scoped>\n",
       "    .dataframe tbody tr th:only-of-type {\n",
       "        vertical-align: middle;\n",
       "    }\n",
       "\n",
       "    .dataframe tbody tr th {\n",
       "        vertical-align: top;\n",
       "    }\n",
       "\n",
       "    .dataframe thead th {\n",
       "        text-align: right;\n",
       "    }\n",
       "</style>\n",
       "<table border=\"1\" class=\"dataframe\">\n",
       "  <thead>\n",
       "    <tr style=\"text-align: right;\">\n",
       "      <th></th>\n",
       "      <th>ticker</th>\n",
       "      <th>currency</th>\n",
       "      <th>share</th>\n",
       "      <th>cost_per_share</th>\n",
       "      <th>lastday_price</th>\n",
       "      <th>today_price</th>\n",
       "      <th>total_cost</th>\n",
       "      <th>curr_value</th>\n",
       "      <th>profit</th>\n",
       "      <th>today_roe</th>\n",
       "      <th>today_ir</th>\n",
       "      <th>curr_value_in_cad</th>\n",
       "      <th>category</th>\n",
       "      <th>products</th>\n",
       "    </tr>\n",
       "  </thead>\n",
       "  <tbody>\n",
       "    <tr>\n",
       "      <th>0</th>\n",
       "      <td>0P00016N6T.TO</td>\n",
       "      <td>CAD</td>\n",
       "      <td>109.17</td>\n",
       "      <td>-36.64</td>\n",
       "      <td>42.54</td>\n",
       "      <td>42.09</td>\n",
       "      <td>-3999.99</td>\n",
       "      <td>4595.0000</td>\n",
       "      <td>595</td>\n",
       "      <td>0.148745</td>\n",
       "      <td>-0.0105783</td>\n",
       "      <td>4595.000000</td>\n",
       "      <td>IT</td>\n",
       "      <td>MUTUAL</td>\n",
       "    </tr>\n",
       "    <tr>\n",
       "      <th>1</th>\n",
       "      <td>CASH</td>\n",
       "      <td>CAD</td>\n",
       "      <td></td>\n",
       "      <td></td>\n",
       "      <td></td>\n",
       "      <td></td>\n",
       "      <td></td>\n",
       "      <td>26797.5112</td>\n",
       "      <td></td>\n",
       "      <td></td>\n",
       "      <td></td>\n",
       "      <td>26797.511200</td>\n",
       "      <td>CASH</td>\n",
       "      <td>CASH</td>\n",
       "    </tr>\n",
       "    <tr>\n",
       "      <th>2</th>\n",
       "      <td>CASH</td>\n",
       "      <td>USD</td>\n",
       "      <td></td>\n",
       "      <td></td>\n",
       "      <td></td>\n",
       "      <td></td>\n",
       "      <td></td>\n",
       "      <td>17207.4600</td>\n",
       "      <td></td>\n",
       "      <td></td>\n",
       "      <td></td>\n",
       "      <td>21687.422439</td>\n",
       "      <td>CASH</td>\n",
       "      <td>CASH</td>\n",
       "    </tr>\n",
       "    <tr>\n",
       "      <th>3</th>\n",
       "      <td>ENB.TO</td>\n",
       "      <td>CAD</td>\n",
       "      <td>80</td>\n",
       "      <td>-36.12</td>\n",
       "      <td>50.7</td>\n",
       "      <td>50.47</td>\n",
       "      <td>-2889.6</td>\n",
       "      <td>4038.0000</td>\n",
       "      <td>1148</td>\n",
       "      <td>0.397287</td>\n",
       "      <td>-0.00453648</td>\n",
       "      <td>4038.000000</td>\n",
       "      <td>OIL</td>\n",
       "      <td>STOCK</td>\n",
       "    </tr>\n",
       "    <tr>\n",
       "      <th>4</th>\n",
       "      <td>HGU.TO</td>\n",
       "      <td>CAD</td>\n",
       "      <td>75</td>\n",
       "      <td>-32.54</td>\n",
       "      <td>19.21</td>\n",
       "      <td>18.61</td>\n",
       "      <td>-2440.5</td>\n",
       "      <td>1396.0000</td>\n",
       "      <td>-1045</td>\n",
       "      <td>-0.428088</td>\n",
       "      <td>-0.0312337</td>\n",
       "      <td>1396.000000</td>\n",
       "      <td>GOLD</td>\n",
       "      <td>ETF</td>\n",
       "    </tr>\n",
       "    <tr>\n",
       "      <th>5</th>\n",
       "      <td>HUZ.TO</td>\n",
       "      <td>CAD</td>\n",
       "      <td>250</td>\n",
       "      <td>-12.37</td>\n",
       "      <td>12.05</td>\n",
       "      <td>11.93</td>\n",
       "      <td>-3092.5</td>\n",
       "      <td>2983.0000</td>\n",
       "      <td>-110</td>\n",
       "      <td>-0.0355699</td>\n",
       "      <td>-0.0099585</td>\n",
       "      <td>2983.000000</td>\n",
       "      <td>SILVER</td>\n",
       "      <td>ETF</td>\n",
       "    </tr>\n",
       "    <tr>\n",
       "      <th>6</th>\n",
       "      <td>HZU.TO</td>\n",
       "      <td>CAD</td>\n",
       "      <td>90</td>\n",
       "      <td>-23.41</td>\n",
       "      <td>15.6</td>\n",
       "      <td>15.29</td>\n",
       "      <td>-2106.9</td>\n",
       "      <td>1376.0000</td>\n",
       "      <td>-731</td>\n",
       "      <td>-0.34686</td>\n",
       "      <td>-0.0198718</td>\n",
       "      <td>1376.000000</td>\n",
       "      <td>SILVER</td>\n",
       "      <td>ETF</td>\n",
       "    </tr>\n",
       "    <tr>\n",
       "      <th>7</th>\n",
       "      <td>SPCE</td>\n",
       "      <td>USD</td>\n",
       "      <td>70</td>\n",
       "      <td>-16.94</td>\n",
       "      <td>17.91</td>\n",
       "      <td>17.38</td>\n",
       "      <td>-1185.8</td>\n",
       "      <td>1217.0000</td>\n",
       "      <td>31</td>\n",
       "      <td>0.025974</td>\n",
       "      <td>-0.0295924</td>\n",
       "      <td>1533.845966</td>\n",
       "      <td>SPACE</td>\n",
       "      <td>STOCK</td>\n",
       "    </tr>\n",
       "    <tr>\n",
       "      <th>8</th>\n",
       "      <td>VDE</td>\n",
       "      <td>USD</td>\n",
       "      <td>57</td>\n",
       "      <td>-51.82</td>\n",
       "      <td>80.53</td>\n",
       "      <td>80.17</td>\n",
       "      <td>-2953.74</td>\n",
       "      <td>4570.0000</td>\n",
       "      <td>1616</td>\n",
       "      <td>0.547086</td>\n",
       "      <td>-0.00447039</td>\n",
       "      <td>5759.799561</td>\n",
       "      <td>OIL</td>\n",
       "      <td>ETF</td>\n",
       "    </tr>\n",
       "  </tbody>\n",
       "</table>\n",
       "</div>"
      ],
      "text/plain": [
       "          ticker currency   share cost_per_share lastday_price today_price  \\\n",
       "0  0P00016N6T.TO      CAD  109.17         -36.64         42.54       42.09   \n",
       "1           CASH      CAD                                                    \n",
       "2           CASH      USD                                                    \n",
       "3         ENB.TO      CAD      80         -36.12          50.7       50.47   \n",
       "4         HGU.TO      CAD      75         -32.54         19.21       18.61   \n",
       "5         HUZ.TO      CAD     250         -12.37         12.05       11.93   \n",
       "6         HZU.TO      CAD      90         -23.41          15.6       15.29   \n",
       "7           SPCE      USD      70         -16.94         17.91       17.38   \n",
       "8            VDE      USD      57         -51.82         80.53       80.17   \n",
       "\n",
       "  total_cost  curr_value profit  today_roe    today_ir  curr_value_in_cad  \\\n",
       "0   -3999.99   4595.0000    595   0.148745  -0.0105783        4595.000000   \n",
       "1             26797.5112                                     26797.511200   \n",
       "2             17207.4600                                     21687.422439   \n",
       "3    -2889.6   4038.0000   1148   0.397287 -0.00453648        4038.000000   \n",
       "4    -2440.5   1396.0000  -1045  -0.428088  -0.0312337        1396.000000   \n",
       "5    -3092.5   2983.0000   -110 -0.0355699  -0.0099585        2983.000000   \n",
       "6    -2106.9   1376.0000   -731   -0.34686  -0.0198718        1376.000000   \n",
       "7    -1185.8   1217.0000     31   0.025974  -0.0295924        1533.845966   \n",
       "8   -2953.74   4570.0000   1616   0.547086 -0.00447039        5759.799561   \n",
       "\n",
       "  category products  \n",
       "0       IT   MUTUAL  \n",
       "1     CASH     CASH  \n",
       "2     CASH     CASH  \n",
       "3      OIL    STOCK  \n",
       "4     GOLD      ETF  \n",
       "5   SILVER      ETF  \n",
       "6   SILVER      ETF  \n",
       "7    SPACE    STOCK  \n",
       "8      OIL      ETF  "
      ]
     },
     "metadata": {},
     "output_type": "display_data"
    }
   ],
   "source": [
    "# Get Current Holdings\n",
    "current_hold = stock_tranc.groupby('ticker')['share','total_amt'].agg('sum')\n",
    "current_hold['cost'] = current_hold.total_amt / current_hold.share\n",
    "current_hold = current_hold.reset_index()\n",
    "current_hold = current_hold.merge(stock_tranc[['ticker', 'category', 'currency', 'products']], how = 'left', on = 'ticker')\n",
    "print(current_hold)\n",
    "\n",
    "active_stock_ticker = current_hold.ticker.unique()\n",
    "hold_stock_detail = get_stock_details(active_stock_ticker, lstqtr, td)\n",
    "\n",
    "from pandasql import sqldf, load_meat, load_births\n",
    "pysqldf = lambda q: sqldf(q, globals())\n",
    "\n",
    "stock_curr_price = hold_stock_detail[hold_stock_detail.Close.notnull()].sort_values(by = ['Date'], ascending=False).groupby('ticker').head(3)\n",
    "stock_curr_price['rank'] = stock_curr_price.groupby('ticker')['Date'].rank(method = 'first', ascending = False)\n",
    "query = \"\"\"\n",
    "    SELECT \n",
    "        A.ticker\n",
    "        , A.currency\n",
    "        , A.share\n",
    "        , A.cost as cost_per_share\n",
    "        , C.Close as lastday_price\n",
    "        , B.Close as today_price\n",
    "        , A.total_amt as total_cost\n",
    "        , round(case when A.ticker = 'CASH' then A.cost else B.Close * A.share end) as curr_value\n",
    "        , round((B.Close + A.cost) * A.share) as profit\n",
    "        , -1 * B.Close / A.cost - 1 as today_roe\n",
    "        , B.Close / C.Close - 1 as today_ir\n",
    "        , A.category\n",
    "        , A.products\n",
    "    FROM \n",
    "        current_hold A\n",
    "    LEFT JOIN \n",
    "        stock_curr_price B on A.ticker = B.ticker and B.rank = 1\n",
    "    LEFT JOIN \n",
    "        stock_curr_price C on A.ticker = C.ticker and C.rank = 2\n",
    "        \n",
    "    UNION\n",
    "    \n",
    "    SELECT \n",
    "        'CASH' as ticker\n",
    "        , currency\n",
    "        , '' as share\n",
    "        , '' as cost_per_share\n",
    "        , '' as lastday_price\n",
    "        , '' as today_price\n",
    "        , '' as total_cost\n",
    "        , value as curr_value\n",
    "        , '' as profit\n",
    "        , '' as today_roe\n",
    "        , '' as today_ir\n",
    "        , 'CASH' as category\n",
    "        , 'CASH' as products\n",
    "    \n",
    "    FROM current_cash\n",
    "    \"\"\"\n",
    "stock_curr_smr = pysqldf(query)\n",
    "stock_curr_smr.insert(11,'curr_value_in_cad', np.where(stock_curr_smr['currency'] == 'CAD', stock_curr_smr['curr_value'], stock_curr_smr['curr_value']/curr_cadusd))\n",
    "display(stock_curr_smr)\n"
   ]
  },
  {
   "cell_type": "markdown",
   "metadata": {
    "variables": {
     "               \"{:.1%}\".format((stock_curr_smr[stock_curr_smr.currency=='CAD']['curr_value'].sum() + stock_curr_smr[stock_curr_smr.currency=='USD']['curr_value'].sum()/curr_cadusd - current_cash_CAD - current_cash_USD/curr_cadusd) / (stock_curr_smr[stock_curr_smr.currency=='CAD']['curr_value'].sum() + stock_curr_smr[stock_curr_smr.currency=='USD']['curr_value'].sum()/curr_cadusd))": "30.9%",
     " \"{:.1%}\".format(((stock_curr_smr[stock_curr_smr.currency=='CAD']['curr_value'].sum() - initial_fund_CAD) + (stock_curr_smr[stock_curr_smr.currency=='USD']['curr_value'].sum() - initial_fund_USD) /curr_cadusd)/(initial_fund_CAD + initial_fund_USD/curr_cadusd)) ": "2.8%",
     " \"{:.1%}\".format((stock_curr_smr[stock_curr_smr.currency=='CAD']['curr_value'].sum() - initial_fund_CAD)/initial_fund_CAD) ": "-0.3%",
     " \"{:.1%}\".format((stock_curr_smr[stock_curr_smr.currency=='CAD']['curr_value'].sum()-current_cash_CAD)/stock_curr_smr[stock_curr_smr.currency=='CAD']['curr_value'].sum())": "34.9%",
     " \"{:.1%}\".format((stock_curr_smr[stock_curr_smr.currency=='USD']['curr_value'].sum() - initial_fund_USD)/initial_fund_USD) ": "7.7%",
     " \"{:.1%}\".format((stock_curr_smr[stock_curr_smr.currency=='USD']['curr_value'].sum()-current_cash_USD)/stock_curr_smr[stock_curr_smr.currency=='USD']['curr_value'].sum())": "25.2%",
     " locale.currency(initial_fund_CAD + initial_fund_USD/curr_cadusd, grouping=True)": "$68,231.69",
     " locale.currency(initial_fund_CAD, grouping=True) ": "$41,327.00",
     " locale.currency(initial_fund_USD, grouping=True)": "$21,347.00",
     " td ": "2021-11-19",
     "locale.currency((stock_curr_smr[stock_curr_smr.currency=='CAD']['curr_value'].sum() - initial_fund_CAD) + (stock_curr_smr[stock_curr_smr.currency=='USD']['curr_value'].sum() - initial_fund_USD) /curr_cadusd , grouping=True)": "$1,934.89",
     "locale.currency(current_cash_CAD + current_cash_USD/curr_cadusd, grouping=True)": "$48,484.93",
     "locale.currency(current_cash_CAD, grouping=True)": "$26,797.51",
     "locale.currency(current_cash_USD, grouping=True)": "$17,207.46",
     "locale.currency(stock_curr_smr[stock_curr_smr.currency=='CAD']['curr_value'].sum() + stock_curr_smr[stock_curr_smr.currency=='USD']['curr_value'].sum()/curr_cadusd, grouping=True) ": "$70,166.58",
     "locale.currency(stock_curr_smr[stock_curr_smr.currency=='CAD']['curr_value'].sum() - initial_fund_CAD, grouping=True)": "($141.49)",
     "locale.currency(stock_curr_smr[stock_curr_smr.currency=='CAD']['curr_value'].sum(), grouping=True)": "$41,185.51",
     "locale.currency(stock_curr_smr[stock_curr_smr.currency=='USD']['curr_value'].sum() - initial_fund_USD, grouping=True)": "$1,647.46",
     "locale.currency(stock_curr_smr[stock_curr_smr.currency=='USD']['curr_value'].sum(), grouping=True)": "$22,994.46"
    }
   },
   "source": [
    "## Holdings Summary\n",
    "**Portfolio Summary {{ td }}**\n",
    "* **Initial Fund**: *CAD*: {{ locale.currency(initial_fund_CAD, grouping=True) }}, *USD*: {{ locale.currency(initial_fund_USD, grouping=True)}}, *All in CAD*: {{ locale.currency(initial_fund_CAD + initial_fund_USD/curr_cadusd, grouping=True)}}.\n",
    "* **Current Cash**: *CAD*: {{locale.currency(current_cash_CAD, grouping=True)}}, *USD*: {{locale.currency(current_cash_USD, grouping=True)}}, *All in CAD*: {{locale.currency(current_cash_CAD + current_cash_USD/curr_cadusd, grouping=True)}}\n",
    "* **Investment Percentage**: *CAD*: {{ \"{:.1%}\".format((stock_curr_smr[stock_curr_smr.currency=='CAD']['curr_value'].sum()-current_cash_CAD)/stock_curr_smr[stock_curr_smr.currency=='CAD']['curr_value'].sum())}}, *USD*: {{ \"{:.1%}\".format((stock_curr_smr[stock_curr_smr.currency=='USD']['curr_value'].sum()-current_cash_USD)/stock_curr_smr[stock_curr_smr.currency=='USD']['curr_value'].sum())}}, *Overall*: {{               \"{:.1%}\".format((stock_curr_smr[stock_curr_smr.currency=='CAD']['curr_value'].sum() + stock_curr_smr[stock_curr_smr.currency=='USD']['curr_value'].sum()/curr_cadusd - current_cash_CAD - current_cash_USD/curr_cadusd) / (stock_curr_smr[stock_curr_smr.currency=='CAD']['curr_value'].sum() + stock_curr_smr[stock_curr_smr.currency=='USD']['curr_value'].sum()/curr_cadusd))}}\n",
    "* **Market Value**: *CAD*: {{locale.currency(stock_curr_smr[stock_curr_smr.currency=='CAD']['curr_value'].sum(), grouping=True)}}, *USD*: {{locale.currency(stock_curr_smr[stock_curr_smr.currency=='USD']['curr_value'].sum(), grouping=True)}},  *All in CAD*: {{locale.currency(stock_curr_smr[stock_curr_smr.currency=='CAD']['curr_value'].sum() + stock_curr_smr[stock_curr_smr.currency=='USD']['curr_value'].sum()/curr_cadusd, grouping=True) }}\n",
    "* **Profit**: *CAD*: {{locale.currency(stock_curr_smr[stock_curr_smr.currency=='CAD']['curr_value'].sum() - initial_fund_CAD, grouping=True)}}, *USD*: {{locale.currency(stock_curr_smr[stock_curr_smr.currency=='USD']['curr_value'].sum() - initial_fund_USD, grouping=True)}}, *All in CAD*: {{locale.currency((stock_curr_smr[stock_curr_smr.currency=='CAD']['curr_value'].sum() - initial_fund_CAD) + (stock_curr_smr[stock_curr_smr.currency=='USD']['curr_value'].sum() - initial_fund_USD) /curr_cadusd , grouping=True)}}\n",
    "* **ROE**: *CAD*: {{ \"{:.1%}\".format((stock_curr_smr[stock_curr_smr.currency=='CAD']['curr_value'].sum() - initial_fund_CAD)/initial_fund_CAD) }}, *USD*: {{ \"{:.1%}\".format((stock_curr_smr[stock_curr_smr.currency=='USD']['curr_value'].sum() - initial_fund_USD)/initial_fund_USD) }}, *Overall*: {{ \"{:.1%}\".format(((stock_curr_smr[stock_curr_smr.currency=='CAD']['curr_value'].sum() - initial_fund_CAD) + (stock_curr_smr[stock_curr_smr.currency=='USD']['curr_value'].sum() - initial_fund_USD) /curr_cadusd)/(initial_fund_CAD + initial_fund_USD/curr_cadusd)) }}"
   ]
  },
  {
   "cell_type": "markdown",
   "metadata": {},
   "source": [
    "## Fund Distribution"
   ]
  },
  {
   "cell_type": "code",
   "execution_count": 70,
   "metadata": {},
   "outputs": [
    {
     "data": {
      "text/html": [
       "<table border=\"1\" class=\"dataframe\">\n",
       "  <thead>\n",
       "    <tr style=\"text-align: right;\">\n",
       "      <th></th>\n",
       "      <th>curr_value</th>\n",
       "    </tr>\n",
       "    <tr>\n",
       "      <th>products</th>\n",
       "      <th></th>\n",
       "    </tr>\n",
       "  </thead>\n",
       "  <tbody>\n",
       "    <tr>\n",
       "      <th>CASH</th>\n",
       "      <td>17207.0</td>\n",
       "    </tr>\n",
       "    <tr>\n",
       "      <th>ETF</th>\n",
       "      <td>45.0</td>\n",
       "    </tr>\n",
       "    <tr>\n",
       "      <th>STOCK</th>\n",
       "      <td>56.0</td>\n",
       "    </tr>\n",
       "  </tbody>\n",
       "</table>"
      ],
      "text/plain": [
       "<IPython.core.display.HTML object>"
      ]
     },
     "metadata": {},
     "output_type": "display_data"
    },
    {
     "data": {
      "image/png": "[encoded data removed]",
      "text/plain": [
       "<Figure size 576x576 with 1 Axes>"
      ]
     },
     "metadata": {},
     "output_type": "display_data"
    }
   ],
   "source": [
    "plot_pie_chart_dist(stock_curr_smr[stock_curr_smr.currency=='USD'], 'products', 'curr_value')"
   ]
  },
  {
   "cell_type": "code",
   "execution_count": 75,
   "metadata": {},
   "outputs": [
    {
     "data": {
      "text/html": [
       "<table border=\"1\" class=\"dataframe\">\n",
       "  <thead>\n",
       "    <tr style=\"text-align: right;\">\n",
       "      <th></th>\n",
       "      <th>curr_value</th>\n",
       "    </tr>\n",
       "    <tr>\n",
       "      <th>products</th>\n",
       "      <th></th>\n",
       "    </tr>\n",
       "  </thead>\n",
       "  <tbody>\n",
       "    <tr>\n",
       "      <th>CASH</th>\n",
       "      <td>26798.0</td>\n",
       "    </tr>\n",
       "    <tr>\n",
       "      <th>ETF</th>\n",
       "      <td>5755.0</td>\n",
       "    </tr>\n",
       "    <tr>\n",
       "      <th>MUTUAL</th>\n",
       "      <td>4595.0</td>\n",
       "    </tr>\n",
       "    <tr>\n",
       "      <th>STOCK</th>\n",
       "      <td>4038.0</td>\n",
       "    </tr>\n",
       "  </tbody>\n",
       "</table>"
      ],
      "text/plain": [
       "<IPython.core.display.HTML object>"
      ]
     },
     "metadata": {},
     "output_type": "display_data"
    },
    {
     "data": {
      "image/png": "[encoded data removed]",
      "text/plain": [
       "<Figure size 576x576 with 1 Axes>"
      ]
     },
     "metadata": {},
     "output_type": "display_data"
    }
   ],
   "source": [
    "plot_pie_chart_dist(stock_curr_smr[stock_curr_smr.currency=='CAD'], 'products', 'curr_value')"
   ]
  },
  {
   "cell_type": "code",
   "execution_count": 77,
   "metadata": {},
   "outputs": [
    {
     "data": {
      "text/html": [
       "<table border=\"1\" class=\"dataframe\">\n",
       "  <thead>\n",
       "    <tr style=\"text-align: right;\">\n",
       "      <th></th>\n",
       "      <th>curr_value_in_cad</th>\n",
       "    </tr>\n",
       "    <tr>\n",
       "      <th>category</th>\n",
       "      <th></th>\n",
       "    </tr>\n",
       "  </thead>\n",
       "  <tbody>\n",
       "    <tr>\n",
       "      <th>CASH</th>\n",
       "      <td>48485.0</td>\n",
       "    </tr>\n",
       "    <tr>\n",
       "      <th>GOLD</th>\n",
       "      <td>1396.0</td>\n",
       "    </tr>\n",
       "    <tr>\n",
       "      <th>IT</th>\n",
       "      <td>4595.0</td>\n",
       "    </tr>\n",
       "    <tr>\n",
       "      <th>OIL</th>\n",
       "      <td>9798.0</td>\n",
       "    </tr>\n",
       "    <tr>\n",
       "      <th>SILVER</th>\n",
       "      <td>4359.0</td>\n",
       "    </tr>\n",
       "    <tr>\n",
       "      <th>SPACE</th>\n",
       "      <td>1534.0</td>\n",
       "    </tr>\n",
       "  </tbody>\n",
       "</table>"
      ],
      "text/plain": [
       "<IPython.core.display.HTML object>"
      ]
     },
     "metadata": {},
     "output_type": "display_data"
    },
    {
     "data": {
      "image/png": "[encoded data removed]",
      "text/plain": [
       "<Figure size 576x576 with 1 Axes>"
      ]
     },
     "metadata": {},
     "output_type": "display_data"
    }
   ],
   "source": [
    "plot_pie_chart_dist(stock_curr_smr, 'category', 'curr_value_in_cad')"
   ]
  },
  {
   "cell_type": "code",
   "execution_count": null,
   "metadata": {},
   "outputs": [],
   "source": []
  },
  {
   "cell_type": "markdown",
   "metadata": {},
   "source": [
    "## Current Holdings Market Watch"
   ]
  },
  {
   "cell_type": "code",
   "execution_count": 9,
   "metadata": {},
   "outputs": [
    {
     "data": {
      "text/html": [
       "\n",
       "<div id=\"altair-viz-e9aa51b7df584a44a2974f640e376c72\"></div>\n",
       "<script type=\"text/javascript\">\n",
       "  (function(spec, embedOpt){\n",
       "    let outputDiv = document.currentScript.previousElementSibling;\n",
       "    if (outputDiv.id !== \"altair-viz-e9aa51b7df584a44a2974f640e376c72\") {\n",
       "      outputDiv = document.getElementById(\"altair-viz-e9aa51b7df584a44a2974f640e376c72\");\n",
       "    }\n",
       "    const paths = {\n",
       "      \"vega\": \"https://cdn.jsdelivr.net/npm//vega@5?noext\",\n",
       "      \"vega-lib\": \"https://cdn.jsdelivr.net/npm//vega-lib?noext\",\n",
       "      \"vega-lite\": \"https://cdn.jsdelivr.net/npm//vega-lite@4.8.1?noext\",\n",
       "      \"vega-embed\": \"https://cdn.jsdelivr.net/npm//vega-embed@6?noext\",\n",
       "    };\n",
       "\n",
       "    function loadScript(lib) {\n",
       "      return new Promise(function(resolve, reject) {\n",
       "        var s = document.createElement('script');\n",
       "        s.src = paths[lib];\n",
       "        s.async = true;\n",
       "        s.onload = () => resolve(paths[lib]);\n",
       "        s.onerror = () => reject(`Error loading script: ${paths[lib]}`);\n",
       "        document.getElementsByTagName(\"head\")[0].appendChild(s);\n",
       "      });\n",
       "    }\n",
       "\n",
       "    function showError(err) {\n",
       "      outputDiv.innerHTML = `<div class=\"error\" style=\"color:red;\">${err}</div>`;\n",
       "      throw err;\n",
       "    }\n",
       "\n",
       "    function displayChart(vegaEmbed) {\n",
       "      vegaEmbed(outputDiv, spec, embedOpt)\n",
       "        .catch(err => showError(`Javascript Error: ${err.message}<br>This usually means there's a typo in your chart specification. See the javascript console for the full traceback.`));\n",
       "    }\n",
       "\n",
       "    if(typeof define === \"function\" && define.amd) {\n",
       "      requirejs.config({paths});\n",
       "      require([\"vega-embed\"], displayChart, err => showError(`Error loading script: ${err.message}`));\n",
       "    } else if (typeof vegaEmbed === \"function\") {\n",
       "      displayChart(vegaEmbed);\n",
       "    } else {\n",
       "      loadScript(\"vega\")\n",
       "        .then(() => loadScript(\"vega-lite\"))\n",
       "        .then(() => loadScript(\"vega-embed\"))\n",
       "        .catch(showError)\n",
       "        .then(() => displayChart(vegaEmbed));\n",
       "    }\n",
       "  })({\"config\": {\"view\": {\"continuousWidth\": 400, \"continuousHeight\": 300}}, \"data\": {\"name\": \"data-4e4a9e541c90ee6afa272c89218f9630\"}, \"mark\": \"line\", \"encoding\": {\"color\": {\"type\": \"nominal\", \"field\": \"ticker\"}, \"x\": {\"type\": \"temporal\", \"field\": \"date\"}, \"y\": {\"type\": \"quantitative\", \"field\": \"volume\"}}, \"$schema\": \"https://vega.github.io/schema/vega-lite/v4.8.1.json\", \"datasets\": {\"data-4e4a9e541c90ee6afa272c89218f9630\": [{\"open\": 33.439998626708984, \"high\": 33.439998626708984, \"low\": 33.439998626708984, \"close\": 33.439998626708984, \"adjclose\": 33.439998626708984, \"volume\": 0.0, \"ticker\": \"0P00016N6T.TO\", \"date\": \"2021-04-05T00:00:00\"}, {\"open\": 33.900001525878906, \"high\": 33.900001525878906, \"low\": 33.900001525878906, \"close\": 33.900001525878906, \"adjclose\": 33.900001525878906, \"volume\": 0.0, \"ticker\": \"0P00016N6T.TO\", \"date\": \"2021-04-06T00:00:00\"}, {\"open\": 33.79999923706055, \"high\": 33.79999923706055, \"low\": 33.79999923706055, \"close\": 33.79999923706055, \"adjclose\": 33.79999923706055, \"volume\": 0.0, \"ticker\": \"0P00016N6T.TO\", \"date\": \"2021-04-07T00:00:00\"}, {\"open\": 34.470001220703125, \"high\": 34.470001220703125, \"low\": 34.470001220703125, \"close\": 34.470001220703125, \"adjclose\": 34.470001220703125, \"volume\": 0.0, \"ticker\": \"0P00016N6T.TO\", \"date\": \"2021-04-08T00:00:00\"}, {\"open\": 34.439998626708984, \"high\": 34.439998626708984, \"low\": 34.439998626708984, \"close\": 34.439998626708984, \"adjclose\": 34.439998626708984, \"volume\": 0.0, \"ticker\": \"0P00016N6T.TO\", \"date\": \"2021-04-09T00:00:00\"}, {\"open\": 34.4900016784668, \"high\": 34.4900016784668, \"low\": 34.4900016784668, \"close\": 34.4900016784668, \"adjclose\": 34.4900016784668, \"volume\": 0.0, \"ticker\": \"0P00016N6T.TO\", \"date\": \"2021-04-12T00:00:00\"}, {\"open\": 35.2599983215332, \"high\": 35.2599983215332, \"low\": 35.2599983215332, \"close\": 35.2599983215332, \"adjclose\": 35.2599983215332, \"volume\": 0.0, \"ticker\": \"0P00016N6T.TO\", \"date\": \"2021-04-13T00:00:00\"}, {\"open\": 34.52000045776367, \"high\": 34.52000045776367, \"low\": 34.52000045776367, \"close\": 34.52000045776367, \"adjclose\": 34.52000045776367, \"volume\": 0.0, \"ticker\": \"0P00016N6T.TO\", \"date\": \"2021-04-14T00:00:00\"}, {\"open\": 35.16999816894531, \"high\": 35.16999816894531, \"low\": 35.16999816894531, \"close\": 35.16999816894531, \"adjclose\": 35.16999816894531, \"volume\": 0.0, \"ticker\": \"0P00016N6T.TO\", \"date\": \"2021-04-15T00:00:00\"}, {\"open\": 34.84000015258789, \"high\": 34.84000015258789, \"low\": 34.84000015258789, \"close\": 34.84000015258789, \"adjclose\": 34.84000015258789, \"volume\": 0.0, \"ticker\": \"0P00016N6T.TO\", \"date\": \"2021-04-16T00:00:00\"}, {\"open\": 34.31999969482422, \"high\": 34.31999969482422, \"low\": 34.31999969482422, \"close\": 34.31999969482422, \"adjclose\": 34.31999969482422, \"volume\": 0.0, \"ticker\": \"0P00016N6T.TO\", \"date\": \"2021-04-19T00:00:00\"}, {\"open\": 33.939998626708984, \"high\": 33.939998626708984, \"low\": 33.939998626708984, \"close\": 33.939998626708984, \"adjclose\": 33.939998626708984, \"volume\": 0.0, \"ticker\": \"0P00016N6T.TO\", \"date\": \"2021-04-20T00:00:00\"}, {\"open\": 34.04999923706055, \"high\": 34.04999923706055, \"low\": 34.04999923706055, \"close\": 34.04999923706055, \"adjclose\": 34.04999923706055, \"volume\": 0.0, \"ticker\": \"0P00016N6T.TO\", \"date\": \"2021-04-21T00:00:00\"}, {\"open\": 34.150001525878906, \"high\": 34.150001525878906, \"low\": 34.150001525878906, \"close\": 34.150001525878906, \"adjclose\": 34.150001525878906, \"volume\": 0.0, \"ticker\": \"0P00016N6T.TO\", \"date\": \"2021-04-22T00:00:00\"}, {\"open\": 34.86000061035156, \"high\": 34.86000061035156, \"low\": 34.86000061035156, \"close\": 34.86000061035156, \"adjclose\": 34.86000061035156, \"volume\": 0.0, \"ticker\": \"0P00016N6T.TO\", \"date\": \"2021-04-23T00:00:00\"}, {\"open\": 35.33000183105469, \"high\": 35.33000183105469, \"low\": 35.33000183105469, \"close\": 35.33000183105469, \"adjclose\": 35.33000183105469, \"volume\": 0.0, \"ticker\": \"0P00016N6T.TO\", \"date\": \"2021-04-26T00:00:00\"}, {\"open\": 35.150001525878906, \"high\": 35.150001525878906, \"low\": 35.150001525878906, \"close\": 35.150001525878906, \"adjclose\": 35.150001525878906, \"volume\": 0.0, \"ticker\": \"0P00016N6T.TO\", \"date\": \"2021-04-27T00:00:00\"}, {\"open\": 35.029998779296875, \"high\": 35.029998779296875, \"low\": 35.029998779296875, \"close\": 35.029998779296875, \"adjclose\": 35.029998779296875, \"volume\": 0.0, \"ticker\": \"0P00016N6T.TO\", \"date\": \"2021-04-28T00:00:00\"}, {\"open\": 34.290000915527344, \"high\": 34.290000915527344, \"low\": 34.290000915527344, \"close\": 34.290000915527344, \"adjclose\": 34.290000915527344, \"volume\": 0.0, \"ticker\": \"0P00016N6T.TO\", \"date\": \"2021-04-29T00:00:00\"}, {\"open\": 33.93000030517578, \"high\": 33.93000030517578, \"low\": 33.93000030517578, \"close\": 33.93000030517578, \"adjclose\": 33.93000030517578, \"volume\": 0.0, \"ticker\": \"0P00016N6T.TO\", \"date\": \"2021-04-30T00:00:00\"}, {\"open\": 33.27000045776367, \"high\": 33.27000045776367, \"low\": 33.27000045776367, \"close\": 33.27000045776367, \"adjclose\": 33.27000045776367, \"volume\": 0.0, \"ticker\": \"0P00016N6T.TO\", \"date\": \"2021-05-03T00:00:00\"}, {\"open\": 32.560001373291016, \"high\": 32.560001373291016, \"low\": 32.560001373291016, \"close\": 32.560001373291016, \"adjclose\": 32.560001373291016, \"volume\": 0.0, \"ticker\": \"0P00016N6T.TO\", \"date\": \"2021-05-04T00:00:00\"}, {\"open\": 32.11000061035156, \"high\": 32.11000061035156, \"low\": 32.11000061035156, \"close\": 32.11000061035156, \"adjclose\": 32.11000061035156, \"volume\": 0.0, \"ticker\": \"0P00016N6T.TO\", \"date\": \"2021-05-05T00:00:00\"}, {\"open\": 31.309999465942383, \"high\": 31.309999465942383, \"low\": 31.309999465942383, \"close\": 31.309999465942383, \"adjclose\": 31.309999465942383, \"volume\": 0.0, \"ticker\": \"0P00016N6T.TO\", \"date\": \"2021-05-06T00:00:00\"}, {\"open\": 31.68000030517578, \"high\": 31.68000030517578, \"low\": 31.68000030517578, \"close\": 31.68000030517578, \"adjclose\": 31.68000030517578, \"volume\": 0.0, \"ticker\": \"0P00016N6T.TO\", \"date\": \"2021-05-07T00:00:00\"}, {\"open\": 30.360000610351562, \"high\": 30.360000610351562, \"low\": 30.360000610351562, \"close\": 30.360000610351562, \"adjclose\": 30.360000610351562, \"volume\": 0.0, \"ticker\": \"0P00016N6T.TO\", \"date\": \"2021-05-10T00:00:00\"}, {\"open\": 31.09000015258789, \"high\": 31.09000015258789, \"low\": 31.09000015258789, \"close\": 31.09000015258789, \"adjclose\": 31.09000015258789, \"volume\": 0.0, \"ticker\": \"0P00016N6T.TO\", \"date\": \"2021-05-11T00:00:00\"}, {\"open\": 29.989999771118164, \"high\": 29.989999771118164, \"low\": 29.989999771118164, \"close\": 29.989999771118164, \"adjclose\": 29.989999771118164, \"volume\": 0.0, \"ticker\": \"0P00016N6T.TO\", \"date\": \"2021-05-12T00:00:00\"}, {\"open\": 29.549999237060547, \"high\": 29.549999237060547, \"low\": 29.549999237060547, \"close\": 29.549999237060547, \"adjclose\": 29.549999237060547, \"volume\": 0.0, \"ticker\": \"0P00016N6T.TO\", \"date\": \"2021-05-13T00:00:00\"}, {\"open\": 30.579999923706055, \"high\": 30.579999923706055, \"low\": 30.579999923706055, \"close\": 30.579999923706055, \"adjclose\": 30.579999923706055, \"volume\": 0.0, \"ticker\": \"0P00016N6T.TO\", \"date\": \"2021-05-14T00:00:00\"}, {\"open\": 30.34000015258789, \"high\": 30.34000015258789, \"low\": 30.34000015258789, \"close\": 30.34000015258789, \"adjclose\": 30.34000015258789, \"volume\": 0.0, \"ticker\": \"0P00016N6T.TO\", \"date\": \"2021-05-17T00:00:00\"}, {\"open\": 30.670000076293945, \"high\": 30.670000076293945, \"low\": 30.670000076293945, \"close\": 30.670000076293945, \"adjclose\": 30.670000076293945, \"volume\": 0.0, \"ticker\": \"0P00016N6T.TO\", \"date\": \"2021-05-18T00:00:00\"}, {\"open\": 30.809999465942383, \"high\": 30.809999465942383, \"low\": 30.809999465942383, \"close\": 30.809999465942383, \"adjclose\": 30.809999465942383, \"volume\": 0.0, \"ticker\": \"0P00016N6T.TO\", \"date\": \"2021-05-19T00:00:00\"}, {\"open\": 31.610000610351562, \"high\": 31.610000610351562, \"low\": 31.610000610351562, \"close\": 31.610000610351562, \"adjclose\": 31.610000610351562, \"volume\": 0.0, \"ticker\": \"0P00016N6T.TO\", \"date\": \"2021-05-20T00:00:00\"}, {\"open\": 31.6299991607666, \"high\": 31.6299991607666, \"low\": 31.6299991607666, \"close\": 31.6299991607666, \"adjclose\": 31.6299991607666, \"volume\": 0.0, \"ticker\": \"0P00016N6T.TO\", \"date\": \"2021-05-21T00:00:00\"}, {\"open\": 32.36000061035156, \"high\": 32.36000061035156, \"low\": 32.36000061035156, \"close\": 32.36000061035156, \"adjclose\": 32.36000061035156, \"volume\": 0.0, \"ticker\": \"0P00016N6T.TO\", \"date\": \"2021-05-25T00:00:00\"}, {\"open\": 32.79999923706055, \"high\": 32.79999923706055, \"low\": 32.79999923706055, \"close\": 32.79999923706055, \"adjclose\": 32.79999923706055, \"volume\": 0.0, \"ticker\": \"0P00016N6T.TO\", \"date\": \"2021-05-26T00:00:00\"}, {\"open\": 32.869998931884766, \"high\": 32.869998931884766, \"low\": 32.869998931884766, \"close\": 32.869998931884766, \"adjclose\": 32.869998931884766, \"volume\": 0.0, \"ticker\": \"0P00016N6T.TO\", \"date\": \"2021-05-27T00:00:00\"}, {\"open\": 32.84000015258789, \"high\": 32.84000015258789, \"low\": 32.84000015258789, \"close\": 32.84000015258789, \"adjclose\": 32.84000015258789, \"volume\": 0.0, \"ticker\": \"0P00016N6T.TO\", \"date\": \"2021-05-28T00:00:00\"}, {\"open\": 32.83000183105469, \"high\": 32.83000183105469, \"low\": 32.83000183105469, \"close\": 32.83000183105469, \"adjclose\": 32.83000183105469, \"volume\": 0.0, \"ticker\": \"0P00016N6T.TO\", \"date\": \"2021-05-31T00:00:00\"}, {\"open\": 32.880001068115234, \"high\": 32.880001068115234, \"low\": 32.880001068115234, \"close\": 32.880001068115234, \"adjclose\": 32.880001068115234, \"volume\": 0.0, \"ticker\": \"0P00016N6T.TO\", \"date\": \"2021-06-01T00:00:00\"}, {\"open\": 32.7400016784668, \"high\": 32.7400016784668, \"low\": 32.7400016784668, \"close\": 32.7400016784668, \"adjclose\": 32.7400016784668, \"volume\": 0.0, \"ticker\": \"0P00016N6T.TO\", \"date\": \"2021-06-02T00:00:00\"}, {\"open\": 32.060001373291016, \"high\": 32.060001373291016, \"low\": 32.060001373291016, \"close\": 32.060001373291016, \"adjclose\": 32.060001373291016, \"volume\": 0.0, \"ticker\": \"0P00016N6T.TO\", \"date\": \"2021-06-03T00:00:00\"}, {\"open\": 32.45000076293945, \"high\": 32.45000076293945, \"low\": 32.45000076293945, \"close\": 32.45000076293945, \"adjclose\": 32.45000076293945, \"volume\": 0.0, \"ticker\": \"0P00016N6T.TO\", \"date\": \"2021-06-04T00:00:00\"}, {\"open\": 32.61000061035156, \"high\": 32.61000061035156, \"low\": 32.61000061035156, \"close\": 32.61000061035156, \"adjclose\": 32.61000061035156, \"volume\": 0.0, \"ticker\": \"0P00016N6T.TO\", \"date\": \"2021-06-07T00:00:00\"}, {\"open\": 32.79999923706055, \"high\": 32.79999923706055, \"low\": 32.79999923706055, \"close\": 32.79999923706055, \"adjclose\": 32.79999923706055, \"volume\": 0.0, \"ticker\": \"0P00016N6T.TO\", \"date\": \"2021-06-08T00:00:00\"}, {\"open\": 32.58000183105469, \"high\": 32.58000183105469, \"low\": 32.58000183105469, \"close\": 32.58000183105469, \"adjclose\": 32.58000183105469, \"volume\": 0.0, \"ticker\": \"0P00016N6T.TO\", \"date\": \"2021-06-09T00:00:00\"}, {\"open\": 33.20000076293945, \"high\": 33.20000076293945, \"low\": 33.20000076293945, \"close\": 33.20000076293945, \"adjclose\": 33.20000076293945, \"volume\": 0.0, \"ticker\": \"0P00016N6T.TO\", \"date\": \"2021-06-10T00:00:00\"}, {\"open\": 33.91999816894531, \"high\": 33.91999816894531, \"low\": 33.91999816894531, \"close\": 33.91999816894531, \"adjclose\": 33.91999816894531, \"volume\": 0.0, \"ticker\": \"0P00016N6T.TO\", \"date\": \"2021-06-11T00:00:00\"}, {\"open\": 34.209999084472656, \"high\": 34.209999084472656, \"low\": 34.209999084472656, \"close\": 34.209999084472656, \"adjclose\": 34.209999084472656, \"volume\": 0.0, \"ticker\": \"0P00016N6T.TO\", \"date\": \"2021-06-14T00:00:00\"}, {\"open\": 34.0099983215332, \"high\": 34.0099983215332, \"low\": 34.0099983215332, \"close\": 34.0099983215332, \"adjclose\": 34.0099983215332, \"volume\": 0.0, \"ticker\": \"0P00016N6T.TO\", \"date\": \"2021-06-15T00:00:00\"}, {\"open\": 34.279998779296875, \"high\": 34.279998779296875, \"low\": 34.279998779296875, \"close\": 34.279998779296875, \"adjclose\": 34.279998779296875, \"volume\": 0.0, \"ticker\": \"0P00016N6T.TO\", \"date\": \"2021-06-16T00:00:00\"}, {\"open\": 35.650001525878906, \"high\": 35.650001525878906, \"low\": 35.650001525878906, \"close\": 35.650001525878906, \"adjclose\": 35.650001525878906, \"volume\": 0.0, \"ticker\": \"0P00016N6T.TO\", \"date\": \"2021-06-17T00:00:00\"}, {\"open\": 36.029998779296875, \"high\": 36.029998779296875, \"low\": 36.029998779296875, \"close\": 36.029998779296875, \"adjclose\": 36.029998779296875, \"volume\": 0.0, \"ticker\": \"0P00016N6T.TO\", \"date\": \"2021-06-18T00:00:00\"}, {\"open\": 35.68000030517578, \"high\": 35.68000030517578, \"low\": 35.68000030517578, \"close\": 35.68000030517578, \"adjclose\": 35.68000030517578, \"volume\": 0.0, \"ticker\": \"0P00016N6T.TO\", \"date\": \"2021-06-21T00:00:00\"}, {\"open\": 36.02000045776367, \"high\": 36.02000045776367, \"low\": 36.02000045776367, \"close\": 36.02000045776367, \"adjclose\": 36.02000045776367, \"volume\": 0.0, \"ticker\": \"0P00016N6T.TO\", \"date\": \"2021-06-22T00:00:00\"}, {\"open\": 36.22999954223633, \"high\": 36.22999954223633, \"low\": 36.22999954223633, \"close\": 36.22999954223633, \"adjclose\": 36.22999954223633, \"volume\": 0.0, \"ticker\": \"0P00016N6T.TO\", \"date\": \"2021-06-23T00:00:00\"}, {\"open\": 36.529998779296875, \"high\": 36.529998779296875, \"low\": 36.529998779296875, \"close\": 36.529998779296875, \"adjclose\": 36.529998779296875, \"volume\": 0.0, \"ticker\": \"0P00016N6T.TO\", \"date\": \"2021-06-24T00:00:00\"}, {\"open\": 36.33000183105469, \"high\": 36.33000183105469, \"low\": 36.33000183105469, \"close\": 36.33000183105469, \"adjclose\": 36.33000183105469, \"volume\": 0.0, \"ticker\": \"0P00016N6T.TO\", \"date\": \"2021-06-25T00:00:00\"}, {\"open\": null, \"high\": null, \"low\": null, \"close\": null, \"adjclose\": null, \"volume\": null, \"ticker\": \"0P00016N6T.TO\", \"date\": \"2021-06-28T00:00:00\"}, {\"open\": 37.34000015258789, \"high\": 37.34000015258789, \"low\": 37.34000015258789, \"close\": 37.34000015258789, \"adjclose\": 37.34000015258789, \"volume\": 0.0, \"ticker\": \"0P00016N6T.TO\", \"date\": \"2021-06-29T00:00:00\"}, {\"open\": 36.72999954223633, \"high\": 36.72999954223633, \"low\": 36.72999954223633, \"close\": 36.72999954223633, \"adjclose\": 36.72999954223633, \"volume\": 0.0, \"ticker\": \"0P00016N6T.TO\", \"date\": \"2021-06-30T00:00:00\"}, {\"open\": 46.279998779296875, \"high\": 46.33000183105469, \"low\": 45.86000061035156, \"close\": 46.290000915527344, \"adjclose\": 45.489749908447266, \"volume\": 2116700.0, \"ticker\": \"ENB.TO\", \"date\": \"2021-04-05T00:00:00\"}, {\"open\": 46.349998474121094, \"high\": 46.400001525878906, \"low\": 46.029998779296875, \"close\": 46.25, \"adjclose\": 45.450439453125, \"volume\": 2388900.0, \"ticker\": \"ENB.TO\", \"date\": \"2021-04-06T00:00:00\"}, {\"open\": 46.349998474121094, \"high\": 46.439998626708984, \"low\": 46.2400016784668, \"close\": 46.369998931884766, \"adjclose\": 45.568363189697266, \"volume\": 2812900.0, \"ticker\": \"ENB.TO\", \"date\": \"2021-04-07T00:00:00\"}, {\"open\": 46.2400016784668, \"high\": 46.63999938964844, \"low\": 45.95000076293945, \"close\": 46.630001068115234, \"adjclose\": 45.82387161254883, \"volume\": 4067900.0, \"ticker\": \"ENB.TO\", \"date\": \"2021-04-08T00:00:00\"}, {\"open\": 46.56999969482422, \"high\": 46.61000061035156, \"low\": 46.09000015258789, \"close\": 46.220001220703125, \"adjclose\": 45.42095947265625, \"volume\": 2938300.0, \"ticker\": \"ENB.TO\", \"date\": \"2021-04-09T00:00:00\"}, {\"open\": 46.380001068115234, \"high\": 46.380001068115234, \"low\": 45.91999816894531, \"close\": 46.11000061035156, \"adjclose\": 45.312862396240234, \"volume\": 6141700.0, \"ticker\": \"ENB.TO\", \"date\": \"2021-04-12T00:00:00\"}, {\"open\": 46.099998474121094, \"high\": 46.29999923706055, \"low\": 45.970001220703125, \"close\": 46.02000045776367, \"adjclose\": 45.22441482543945, \"volume\": 3576000.0, \"ticker\": \"ENB.TO\", \"date\": \"2021-04-13T00:00:00\"}, {\"open\": 46.2599983215332, \"high\": 46.619998931884766, \"low\": 46.2400016784668, \"close\": 46.400001525878906, \"adjclose\": 45.59784698486328, \"volume\": 4068500.0, \"ticker\": \"ENB.TO\", \"date\": \"2021-04-14T00:00:00\"}, {\"open\": 46.5, \"high\": 46.77000045776367, \"low\": 46.400001525878906, \"close\": 46.7400016784668, \"adjclose\": 45.931968688964844, \"volume\": 4663200.0, \"ticker\": \"ENB.TO\", \"date\": \"2021-04-15T00:00:00\"}, {\"open\": 46.86000061035156, \"high\": 46.880001068115234, \"low\": 46.36000061035156, \"close\": 46.630001068115234, \"adjclose\": 45.82387161254883, \"volume\": 7888000.0, \"ticker\": \"ENB.TO\", \"date\": \"2021-04-16T00:00:00\"}, {\"open\": 46.70000076293945, \"high\": 46.95000076293945, \"low\": 46.66999816894531, \"close\": 46.81999969482422, \"adjclose\": 46.01058578491211, \"volume\": 19283200.0, \"ticker\": \"ENB.TO\", \"date\": \"2021-04-19T00:00:00\"}, {\"open\": 46.68000030517578, \"high\": 46.79999923706055, \"low\": 46.310001373291016, \"close\": 46.400001525878906, \"adjclose\": 45.59784698486328, \"volume\": 5385500.0, \"ticker\": \"ENB.TO\", \"date\": \"2021-04-20T00:00:00\"}, {\"open\": 46.290000915527344, \"high\": 46.650001525878906, \"low\": 46.220001220703125, \"close\": 46.63999938964844, \"adjclose\": 45.83369827270508, \"volume\": 3192800.0, \"ticker\": \"ENB.TO\", \"date\": \"2021-04-21T00:00:00\"}, {\"open\": 46.650001525878906, \"high\": 46.68000030517578, \"low\": 46.25, \"close\": 46.29999923706055, \"adjclose\": 45.49957275390625, \"volume\": 5392800.0, \"ticker\": \"ENB.TO\", \"date\": \"2021-04-22T00:00:00\"}, {\"open\": 46.29999923706055, \"high\": 46.40999984741211, \"low\": 46.02000045776367, \"close\": 46.2599983215332, \"adjclose\": 45.46026611328125, \"volume\": 8375200.0, \"ticker\": \"ENB.TO\", \"date\": \"2021-04-23T00:00:00\"}, {\"open\": 46.150001525878906, \"high\": 46.22999954223633, \"low\": 46.0, \"close\": 46.099998474121094, \"adjclose\": 45.30303192138672, \"volume\": 9165300.0, \"ticker\": \"ENB.TO\", \"date\": \"2021-04-26T00:00:00\"}, {\"open\": 46.20000076293945, \"high\": 46.79999923706055, \"low\": 46.060001373291016, \"close\": 46.72999954223633, \"adjclose\": 45.922142028808594, \"volume\": 5242000.0, \"ticker\": \"ENB.TO\", \"date\": \"2021-04-27T00:00:00\"}, {\"open\": 46.849998474121094, \"high\": 47.369998931884766, \"low\": 46.7599983215332, \"close\": 46.9900016784668, \"adjclose\": 46.17764663696289, \"volume\": 6476200.0, \"ticker\": \"ENB.TO\", \"date\": \"2021-04-28T00:00:00\"}, {\"open\": 47.25, \"high\": 47.43000030517578, \"low\": 47.060001373291016, \"close\": 47.310001373291016, \"adjclose\": 46.49211502075195, \"volume\": 5054900.0, \"ticker\": \"ENB.TO\", \"date\": \"2021-04-29T00:00:00\"}, {\"open\": 47.290000915527344, \"high\": 47.560001373291016, \"low\": 46.90999984741211, \"close\": 47.40999984741211, \"adjclose\": 46.59038543701172, \"volume\": 4785500.0, \"ticker\": \"ENB.TO\", \"date\": \"2021-04-30T00:00:00\"}, {\"open\": 47.560001373291016, \"high\": 47.79999923706055, \"low\": 47.369998931884766, \"close\": 47.599998474121094, \"adjclose\": 46.777099609375, \"volume\": 5792500.0, \"ticker\": \"ENB.TO\", \"date\": \"2021-05-03T00:00:00\"}, {\"open\": 47.79999923706055, \"high\": 48.0, \"low\": 47.650001525878906, \"close\": 47.97999954223633, \"adjclose\": 47.15053176879883, \"volume\": 7563700.0, \"ticker\": \"ENB.TO\", \"date\": \"2021-05-04T00:00:00\"}, {\"open\": 48.150001525878906, \"high\": 49.130001068115234, \"low\": 48.119998931884766, \"close\": 49.0, \"adjclose\": 48.152896881103516, \"volume\": 23759600.0, \"ticker\": \"ENB.TO\", \"date\": \"2021-05-05T00:00:00\"}, {\"open\": 49.0, \"high\": 49.0, \"low\": 48.2599983215332, \"close\": 48.41999816894531, \"adjclose\": 47.582923889160156, \"volume\": 31481300.0, \"ticker\": \"ENB.TO\", \"date\": \"2021-05-06T00:00:00\"}, {\"open\": 47.0, \"high\": 48.22999954223633, \"low\": 46.95000076293945, \"close\": 48.09000015258789, \"adjclose\": 47.258628845214844, \"volume\": 14516900.0, \"ticker\": \"ENB.TO\", \"date\": \"2021-05-07T00:00:00\"}, {\"open\": 48.20000076293945, \"high\": 48.86000061035156, \"low\": 48.18000030517578, \"close\": 48.43000030517578, \"adjclose\": 47.59275436401367, \"volume\": 12241800.0, \"ticker\": \"ENB.TO\", \"date\": \"2021-05-10T00:00:00\"}, {\"open\": 48.15999984741211, \"high\": 48.47999954223633, \"low\": 47.91999816894531, \"close\": 48.189998626708984, \"adjclose\": 47.35689926147461, \"volume\": 24535800.0, \"ticker\": \"ENB.TO\", \"date\": \"2021-05-11T00:00:00\"}, {\"open\": 47.720001220703125, \"high\": 48.83000183105469, \"low\": 47.720001220703125, \"close\": 48.29999923706055, \"adjclose\": 47.46500015258789, \"volume\": 12808000.0, \"ticker\": \"ENB.TO\", \"date\": \"2021-05-12T00:00:00\"}, {\"open\": 47.09000015258789, \"high\": 47.40999984741211, \"low\": 46.5, \"close\": 46.70000076293945, \"adjclose\": 46.70000076293945, \"volume\": 20509200.0, \"ticker\": \"ENB.TO\", \"date\": \"2021-05-13T00:00:00\"}, {\"open\": 46.95000076293945, \"high\": 47.43000030517578, \"low\": 46.869998931884766, \"close\": 47.20000076293945, \"adjclose\": 47.20000076293945, \"volume\": 16520800.0, \"ticker\": \"ENB.TO\", \"date\": \"2021-05-14T00:00:00\"}, {\"open\": 47.040000915527344, \"high\": 47.290000915527344, \"low\": 46.65999984741211, \"close\": 46.81999969482422, \"adjclose\": 46.81999969482422, \"volume\": 17069300.0, \"ticker\": \"ENB.TO\", \"date\": \"2021-05-17T00:00:00\"}, {\"open\": 46.81999969482422, \"high\": 47.0, \"low\": 46.380001068115234, \"close\": 46.95000076293945, \"adjclose\": 46.95000076293945, \"volume\": 7949800.0, \"ticker\": \"ENB.TO\", \"date\": \"2021-05-18T00:00:00\"}, {\"open\": 46.529998779296875, \"high\": 46.630001068115234, \"low\": 45.810001373291016, \"close\": 46.040000915527344, \"adjclose\": 46.040000915527344, \"volume\": 26781600.0, \"ticker\": \"ENB.TO\", \"date\": \"2021-05-19T00:00:00\"}, {\"open\": 46.09000015258789, \"high\": 46.65999984741211, \"low\": 45.7599983215332, \"close\": 46.54999923706055, \"adjclose\": 46.54999923706055, \"volume\": 12066300.0, \"ticker\": \"ENB.TO\", \"date\": \"2021-05-20T00:00:00\"}, {\"open\": 46.790000915527344, \"high\": 46.83000183105469, \"low\": 46.40999984741211, \"close\": 46.540000915527344, \"adjclose\": 46.540000915527344, \"volume\": 3086100.0, \"ticker\": \"ENB.TO\", \"date\": \"2021-05-21T00:00:00\"}, {\"open\": 46.79999923706055, \"high\": 46.849998474121094, \"low\": 46.349998474121094, \"close\": 46.369998931884766, \"adjclose\": 46.369998931884766, \"volume\": 13487000.0, \"ticker\": \"ENB.TO\", \"date\": \"2021-05-25T00:00:00\"}, {\"open\": 46.619998931884766, \"high\": 46.869998931884766, \"low\": 46.52000045776367, \"close\": 46.779998779296875, \"adjclose\": 46.779998779296875, \"volume\": 8591300.0, \"ticker\": \"ENB.TO\", \"date\": \"2021-05-26T00:00:00\"}, {\"open\": 46.70000076293945, \"high\": 46.869998931884766, \"low\": 46.47999954223633, \"close\": 46.650001525878906, \"adjclose\": 46.650001525878906, \"volume\": 6474700.0, \"ticker\": \"ENB.TO\", \"date\": \"2021-05-27T00:00:00\"}, {\"open\": 46.81999969482422, \"high\": 46.900001525878906, \"low\": 46.40999984741211, \"close\": 46.470001220703125, \"adjclose\": 46.470001220703125, \"volume\": 4110200.0, \"ticker\": \"ENB.TO\", \"date\": \"2021-05-28T00:00:00\"}, {\"open\": 46.68000030517578, \"high\": 46.68000030517578, \"low\": 45.880001068115234, \"close\": 45.900001525878906, \"adjclose\": 45.900001525878906, \"volume\": 3168700.0, \"ticker\": \"ENB.TO\", \"date\": \"2021-05-31T00:00:00\"}, {\"open\": 46.459999084472656, \"high\": 46.88999938964844, \"low\": 46.41999816894531, \"close\": 46.63999938964844, \"adjclose\": 46.63999938964844, \"volume\": 6891600.0, \"ticker\": \"ENB.TO\", \"date\": \"2021-06-01T00:00:00\"}, {\"open\": 46.93000030517578, \"high\": 46.939998626708984, \"low\": 46.689998626708984, \"close\": 46.79999923706055, \"adjclose\": 46.79999923706055, \"volume\": 6109800.0, \"ticker\": \"ENB.TO\", \"date\": \"2021-06-02T00:00:00\"}, {\"open\": 46.84000015258789, \"high\": 46.93000030517578, \"low\": 46.68000030517578, \"close\": 46.72999954223633, \"adjclose\": 46.72999954223633, \"volume\": 4819700.0, \"ticker\": \"ENB.TO\", \"date\": \"2021-06-03T00:00:00\"}, {\"open\": 46.900001525878906, \"high\": 47.18000030517578, \"low\": 46.83000183105469, \"close\": 47.16999816894531, \"adjclose\": 47.16999816894531, \"volume\": 4579000.0, \"ticker\": \"ENB.TO\", \"date\": \"2021-06-04T00:00:00\"}, {\"open\": 47.27000045776367, \"high\": 47.77000045776367, \"low\": 47.27000045776367, \"close\": 47.7400016784668, \"adjclose\": 47.7400016784668, \"volume\": 7964800.0, \"ticker\": \"ENB.TO\", \"date\": \"2021-06-07T00:00:00\"}, {\"open\": 47.95000076293945, \"high\": 48.189998626708984, \"low\": 47.79999923706055, \"close\": 48.0099983215332, \"adjclose\": 48.0099983215332, \"volume\": 8150000.0, \"ticker\": \"ENB.TO\", \"date\": \"2021-06-08T00:00:00\"}, {\"open\": 48.099998474121094, \"high\": 48.2400016784668, \"low\": 47.79999923706055, \"close\": 48.189998626708984, \"adjclose\": 48.189998626708984, \"volume\": 3383600.0, \"ticker\": \"ENB.TO\", \"date\": \"2021-06-09T00:00:00\"}, {\"open\": 48.349998474121094, \"high\": 48.47999954223633, \"low\": 47.88999938964844, \"close\": 48.060001373291016, \"adjclose\": 48.060001373291016, \"volume\": 6358900.0, \"ticker\": \"ENB.TO\", \"date\": \"2021-06-10T00:00:00\"}, {\"open\": 48.220001220703125, \"high\": 48.31999969482422, \"low\": 48.119998931884766, \"close\": 48.27000045776367, \"adjclose\": 48.27000045776367, \"volume\": 7452500.0, \"ticker\": \"ENB.TO\", \"date\": \"2021-06-11T00:00:00\"}, {\"open\": 48.29999923706055, \"high\": 49.459999084472656, \"low\": 48.2599983215332, \"close\": 49.43000030517578, \"adjclose\": 49.43000030517578, \"volume\": 17041900.0, \"ticker\": \"ENB.TO\", \"date\": \"2021-06-14T00:00:00\"}, {\"open\": 49.720001220703125, \"high\": 49.869998931884766, \"low\": 49.41999816894531, \"close\": 49.70000076293945, \"adjclose\": 49.70000076293945, \"volume\": 3826200.0, \"ticker\": \"ENB.TO\", \"date\": \"2021-06-15T00:00:00\"}, {\"open\": 49.90999984741211, \"high\": 50.0, \"low\": 49.66999816894531, \"close\": 49.86000061035156, \"adjclose\": 49.86000061035156, \"volume\": 7480600.0, \"ticker\": \"ENB.TO\", \"date\": \"2021-06-16T00:00:00\"}, {\"open\": 50.150001525878906, \"high\": 50.189998626708984, \"low\": 49.540000915527344, \"close\": 49.970001220703125, \"adjclose\": 49.970001220703125, \"volume\": 8870200.0, \"ticker\": \"ENB.TO\", \"date\": \"2021-06-17T00:00:00\"}, {\"open\": 49.560001373291016, \"high\": 49.72999954223633, \"low\": 48.88999938964844, \"close\": 49.43000030517578, \"adjclose\": 49.43000030517578, \"volume\": 10229200.0, \"ticker\": \"ENB.TO\", \"date\": \"2021-06-18T00:00:00\"}, {\"open\": 49.5, \"high\": 49.66999816894531, \"low\": 49.11000061035156, \"close\": 49.470001220703125, \"adjclose\": 49.470001220703125, \"volume\": 2376300.0, \"ticker\": \"ENB.TO\", \"date\": \"2021-06-21T00:00:00\"}, {\"open\": 49.52000045776367, \"high\": 49.52000045776367, \"low\": 48.84000015258789, \"close\": 49.290000915527344, \"adjclose\": 49.290000915527344, \"volume\": 5822800.0, \"ticker\": \"ENB.TO\", \"date\": \"2021-06-22T00:00:00\"}, {\"open\": 49.38999938964844, \"high\": 49.400001525878906, \"low\": 49.04999923706055, \"close\": 49.08000183105469, \"adjclose\": 49.08000183105469, \"volume\": 3206800.0, \"ticker\": \"ENB.TO\", \"date\": \"2021-06-23T00:00:00\"}, {\"open\": 49.18000030517578, \"high\": 49.470001220703125, \"low\": 49.0, \"close\": 49.400001525878906, \"adjclose\": 49.400001525878906, \"volume\": 2791500.0, \"ticker\": \"ENB.TO\", \"date\": \"2021-06-24T00:00:00\"}, {\"open\": 49.43000030517578, \"high\": 49.58000183105469, \"low\": 49.16999816894531, \"close\": 49.47999954223633, \"adjclose\": 49.47999954223633, \"volume\": 1993800.0, \"ticker\": \"ENB.TO\", \"date\": \"2021-06-25T00:00:00\"}, {\"open\": 49.47999954223633, \"high\": 49.5, \"low\": 49.06999969482422, \"close\": 49.15999984741211, \"adjclose\": 49.15999984741211, \"volume\": 5395500.0, \"ticker\": \"ENB.TO\", \"date\": \"2021-06-28T00:00:00\"}, {\"open\": 49.31999969482422, \"high\": 49.470001220703125, \"low\": 49.220001220703125, \"close\": 49.400001525878906, \"adjclose\": 49.400001525878906, \"volume\": 2264700.0, \"ticker\": \"ENB.TO\", \"date\": \"2021-06-29T00:00:00\"}, {\"open\": 49.459999084472656, \"high\": 49.7400016784668, \"low\": 49.25, \"close\": 49.630001068115234, \"adjclose\": 49.630001068115234, \"volume\": 5776200.0, \"ticker\": \"ENB.TO\", \"date\": \"2021-06-30T00:00:00\"}, {\"open\": 16.940000534057617, \"high\": 17.260000228881836, \"low\": 16.600000381469727, \"close\": 16.959999084472656, \"adjclose\": 16.959999084472656, \"volume\": 278200.0, \"ticker\": \"HGU.TO\", \"date\": \"2021-04-05T00:00:00\"}, {\"open\": 17.25, \"high\": 17.920000076293945, \"low\": 17.06999969482422, \"close\": 17.649999618530273, \"adjclose\": 17.649999618530273, \"volume\": 323200.0, \"ticker\": \"HGU.TO\", \"date\": \"2021-04-06T00:00:00\"}, {\"open\": 17.549999237060547, \"high\": 17.739999771118164, \"low\": 17.309999465942383, \"close\": 17.389999389648438, \"adjclose\": 17.389999389648438, \"volume\": 292200.0, \"ticker\": \"HGU.TO\", \"date\": \"2021-04-07T00:00:00\"}, {\"open\": 17.809999465942383, \"high\": 18.200000762939453, \"low\": 17.809999465942383, \"close\": 18.149999618530273, \"adjclose\": 18.149999618530273, \"volume\": 264300.0, \"ticker\": \"HGU.TO\", \"date\": \"2021-04-08T00:00:00\"}, {\"open\": 17.56999969482422, \"high\": 18.260000228881836, \"low\": 17.540000915527344, \"close\": 18.200000762939453, \"adjclose\": 18.200000762939453, \"volume\": 195700.0, \"ticker\": \"HGU.TO\", \"date\": \"2021-04-09T00:00:00\"}, {\"open\": 18.100000381469727, \"high\": 18.100000381469727, \"low\": 17.579999923706055, \"close\": 17.700000762939453, \"adjclose\": 17.700000762939453, \"volume\": 237100.0, \"ticker\": \"HGU.TO\", \"date\": \"2021-04-12T00:00:00\"}, {\"open\": 18.079999923706055, \"high\": 18.520000457763672, \"low\": 17.940000534057617, \"close\": 18.020000457763672, \"adjclose\": 18.020000457763672, \"volume\": 297000.0, \"ticker\": \"HGU.TO\", \"date\": \"2021-04-13T00:00:00\"}, {\"open\": 17.989999771118164, \"high\": 18.100000381469727, \"low\": 17.469999313354492, \"close\": 17.6200008392334, \"adjclose\": 17.6200008392334, \"volume\": 270000.0, \"ticker\": \"HGU.TO\", \"date\": \"2021-04-14T00:00:00\"}, {\"open\": 18.059999465942383, \"high\": 19.299999237060547, \"low\": 18.059999465942383, \"close\": 18.979999542236328, \"adjclose\": 18.979999542236328, \"volume\": 503100.0, \"ticker\": \"HGU.TO\", \"date\": \"2021-04-15T00:00:00\"}, {\"open\": 19.5, \"high\": 19.5, \"low\": 18.979999542236328, \"close\": 19.299999237060547, \"adjclose\": 19.299999237060547, \"volume\": 259600.0, \"ticker\": \"HGU.TO\", \"date\": \"2021-04-16T00:00:00\"}, {\"open\": 19.200000762939453, \"high\": 19.450000762939453, \"low\": 19.049999237060547, \"close\": 19.229999542236328, \"adjclose\": 19.229999542236328, \"volume\": 173900.0, \"ticker\": \"HGU.TO\", \"date\": \"2021-04-19T00:00:00\"}, {\"open\": 19.030000686645508, \"high\": 20.010000228881836, \"low\": 19.010000228881836, \"close\": 19.93000030517578, \"adjclose\": 19.93000030517578, \"volume\": 357700.0, \"ticker\": \"HGU.TO\", \"date\": \"2021-04-20T00:00:00\"}, {\"open\": 20.190000534057617, \"high\": 20.829999923706055, \"low\": 20.049999237060547, \"close\": 20.3799991607666, \"adjclose\": 20.3799991607666, \"volume\": 418100.0, \"ticker\": \"HGU.TO\", \"date\": \"2021-04-21T00:00:00\"}, {\"open\": 20.06999969482422, \"high\": 20.170000076293945, \"low\": 19.56999969482422, \"close\": 19.770000457763672, \"adjclose\": 19.770000457763672, \"volume\": 194900.0, \"ticker\": \"HGU.TO\", \"date\": \"2021-04-22T00:00:00\"}, {\"open\": 20.100000381469727, \"high\": 20.149999618530273, \"low\": 19.360000610351562, \"close\": 19.479999542236328, \"adjclose\": 19.479999542236328, \"volume\": 280400.0, \"ticker\": \"HGU.TO\", \"date\": \"2021-04-23T00:00:00\"}, {\"open\": 19.510000228881836, \"high\": 19.510000228881836, \"low\": 18.940000534057617, \"close\": 19.100000381469727, \"adjclose\": 19.100000381469727, \"volume\": 310100.0, \"ticker\": \"HGU.TO\", \"date\": \"2021-04-26T00:00:00\"}, {\"open\": 19.229999542236328, \"high\": 19.229999542236328, \"low\": 18.299999237060547, \"close\": 18.31999969482422, \"adjclose\": 18.31999969482422, \"volume\": 240100.0, \"ticker\": \"HGU.TO\", \"date\": \"2021-04-27T00:00:00\"}, {\"open\": 18.059999465942383, \"high\": 18.670000076293945, \"low\": 17.700000762939453, \"close\": 18.479999542236328, \"adjclose\": 18.479999542236328, \"volume\": 328100.0, \"ticker\": \"HGU.TO\", \"date\": \"2021-04-28T00:00:00\"}, {\"open\": 18.229999542236328, \"high\": 18.229999542236328, \"low\": 17.40999984741211, \"close\": 17.729999542236328, \"adjclose\": 17.729999542236328, \"volume\": 347800.0, \"ticker\": \"HGU.TO\", \"date\": \"2021-04-29T00:00:00\"}, {\"open\": 17.59000015258789, \"high\": 17.8700008392334, \"low\": 17.309999465942383, \"close\": 17.309999465942383, \"adjclose\": 17.309999465942383, \"volume\": 207300.0, \"ticker\": \"HGU.TO\", \"date\": \"2021-04-30T00:00:00\"}, {\"open\": 17.889999389648438, \"high\": 18.979999542236328, \"low\": 17.860000610351562, \"close\": 18.860000610351562, \"adjclose\": 18.860000610351562, \"volume\": 658600.0, \"ticker\": \"HGU.TO\", \"date\": \"2021-05-03T00:00:00\"}, {\"open\": 18.799999237060547, \"high\": 19.530000686645508, \"low\": 18.15999984741211, \"close\": 18.440000534057617, \"adjclose\": 18.440000534057617, \"volume\": 695800.0, \"ticker\": \"HGU.TO\", \"date\": \"2021-05-04T00:00:00\"}, {\"open\": 18.479999542236328, \"high\": 18.639999389648438, \"low\": 18.1299991607666, \"close\": 18.6299991607666, \"adjclose\": 18.6299991607666, \"volume\": 321200.0, \"ticker\": \"HGU.TO\", \"date\": \"2021-05-05T00:00:00\"}, {\"open\": 18.899999618530273, \"high\": 20.079999923706055, \"low\": 18.899999618530273, \"close\": 19.6200008392334, \"adjclose\": 19.6200008392334, \"volume\": 562500.0, \"ticker\": \"HGU.TO\", \"date\": \"2021-05-06T00:00:00\"}, {\"open\": 20.229999542236328, \"high\": 20.399999618530273, \"low\": 19.729999542236328, \"close\": 20.020000457763672, \"adjclose\": 20.020000457763672, \"volume\": 389300.0, \"ticker\": \"HGU.TO\", \"date\": \"2021-05-07T00:00:00\"}, {\"open\": 20.3700008392334, \"high\": 20.59000015258789, \"low\": 19.610000610351562, \"close\": 19.6200008392334, \"adjclose\": 19.6200008392334, \"volume\": 234900.0, \"ticker\": \"HGU.TO\", \"date\": \"2021-05-10T00:00:00\"}, {\"open\": 19.149999618530273, \"high\": 20.0, \"low\": 18.8799991607666, \"close\": 20.0, \"adjclose\": 20.0, \"volume\": 250400.0, \"ticker\": \"HGU.TO\", \"date\": \"2021-05-11T00:00:00\"}, {\"open\": 20.190000534057617, \"high\": 20.190000534057617, \"low\": 19.1299991607666, \"close\": 19.31999969482422, \"adjclose\": 19.31999969482422, \"volume\": 284600.0, \"ticker\": \"HGU.TO\", \"date\": \"2021-05-12T00:00:00\"}, {\"open\": 19.329999923706055, \"high\": 19.719999313354492, \"low\": 18.8799991607666, \"close\": 19.520000457763672, \"adjclose\": 19.520000457763672, \"volume\": 328800.0, \"ticker\": \"HGU.TO\", \"date\": \"2021-05-13T00:00:00\"}, {\"open\": 19.760000228881836, \"high\": 20.25, \"low\": 19.6299991607666, \"close\": 20.18000030517578, \"adjclose\": 20.18000030517578, \"volume\": 296800.0, \"ticker\": \"HGU.TO\", \"date\": \"2021-05-14T00:00:00\"}, {\"open\": 20.5, \"high\": 22.049999237060547, \"low\": 20.280000686645508, \"close\": 21.93000030517578, \"adjclose\": 21.93000030517578, \"volume\": 493300.0, \"ticker\": \"HGU.TO\", \"date\": \"2021-05-17T00:00:00\"}, {\"open\": 21.989999771118164, \"high\": 21.989999771118164, \"low\": 21.059999465942383, \"close\": 21.670000076293945, \"adjclose\": 21.670000076293945, \"volume\": 352600.0, \"ticker\": \"HGU.TO\", \"date\": \"2021-05-18T00:00:00\"}, {\"open\": 21.399999618530273, \"high\": 22.350000381469727, \"low\": 20.8799991607666, \"close\": 21.25, \"adjclose\": 21.25, \"volume\": 448700.0, \"ticker\": \"HGU.TO\", \"date\": \"2021-05-19T00:00:00\"}, {\"open\": 21.15999984741211, \"high\": 21.90999984741211, \"low\": 21.0, \"close\": 21.59000015258789, \"adjclose\": 21.59000015258789, \"volume\": 223600.0, \"ticker\": \"HGU.TO\", \"date\": \"2021-05-20T00:00:00\"}, {\"open\": 21.940000534057617, \"high\": 21.940000534057617, \"low\": 21.049999237060547, \"close\": 21.420000076293945, \"adjclose\": 21.420000076293945, \"volume\": 185900.0, \"ticker\": \"HGU.TO\", \"date\": \"2021-05-21T00:00:00\"}, {\"open\": 21.790000915527344, \"high\": 21.790000915527344, \"low\": 20.809999465942383, \"close\": 21.450000762939453, \"adjclose\": 21.450000762939453, \"volume\": 417200.0, \"ticker\": \"HGU.TO\", \"date\": \"2021-05-25T00:00:00\"}, {\"open\": 21.6299991607666, \"high\": 22.200000762939453, \"low\": 21.5, \"close\": 21.649999618530273, \"adjclose\": 21.649999618530273, \"volume\": 346100.0, \"ticker\": \"HGU.TO\", \"date\": \"2021-05-26T00:00:00\"}, {\"open\": 21.850000381469727, \"high\": 21.850000381469727, \"low\": 21.0, \"close\": 21.040000915527344, \"adjclose\": 21.040000915527344, \"volume\": 178700.0, \"ticker\": \"HGU.TO\", \"date\": \"2021-05-27T00:00:00\"}, {\"open\": 21.010000228881836, \"high\": 21.420000076293945, \"low\": 20.860000610351562, \"close\": 21.399999618530273, \"adjclose\": 21.399999618530273, \"volume\": 191900.0, \"ticker\": \"HGU.TO\", \"date\": \"2021-05-28T00:00:00\"}, {\"open\": 21.420000076293945, \"high\": 21.420000076293945, \"low\": 20.889999389648438, \"close\": 20.979999542236328, \"adjclose\": 20.979999542236328, \"volume\": 127200.0, \"ticker\": \"HGU.TO\", \"date\": \"2021-05-31T00:00:00\"}, {\"open\": 21.389999389648438, \"high\": 21.649999618530273, \"low\": 20.920000076293945, \"close\": 21.469999313354492, \"adjclose\": 21.469999313354492, \"volume\": 291900.0, \"ticker\": \"HGU.TO\", \"date\": \"2021-06-01T00:00:00\"}, {\"open\": 21.469999313354492, \"high\": 21.780000686645508, \"low\": 21.260000228881836, \"close\": 21.479999542236328, \"adjclose\": 21.479999542236328, \"volume\": 170300.0, \"ticker\": \"HGU.TO\", \"date\": \"2021-06-02T00:00:00\"}, {\"open\": 20.799999237060547, \"high\": 20.799999237060547, \"low\": 20.200000762939453, \"close\": 20.34000015258789, \"adjclose\": 20.34000015258789, \"volume\": 343900.0, \"ticker\": \"HGU.TO\", \"date\": \"2021-06-03T00:00:00\"}, {\"open\": 20.709999084472656, \"high\": 21.260000228881836, \"low\": 20.549999237060547, \"close\": 20.950000762939453, \"adjclose\": 20.950000762939453, \"volume\": 216100.0, \"ticker\": \"HGU.TO\", \"date\": \"2021-06-04T00:00:00\"}, {\"open\": 21.09000015258789, \"high\": 21.100000381469727, \"low\": 20.489999771118164, \"close\": 20.790000915527344, \"adjclose\": 20.790000915527344, \"volume\": 170000.0, \"ticker\": \"HGU.TO\", \"date\": \"2021-06-07T00:00:00\"}, {\"open\": 20.709999084472656, \"high\": 20.93000030517578, \"low\": 20.530000686645508, \"close\": 20.549999237060547, \"adjclose\": 20.549999237060547, \"volume\": 193500.0, \"ticker\": \"HGU.TO\", \"date\": \"2021-06-08T00:00:00\"}, {\"open\": 20.520000457763672, \"high\": 20.920000076293945, \"low\": 20.469999313354492, \"close\": 20.530000686645508, \"adjclose\": 20.530000686645508, \"volume\": 224900.0, \"ticker\": \"HGU.TO\", \"date\": \"2021-06-09T00:00:00\"}, {\"open\": 20.600000381469727, \"high\": 21.59000015258789, \"low\": 20.450000762939453, \"close\": 21.5, \"adjclose\": 21.5, \"volume\": 321900.0, \"ticker\": \"HGU.TO\", \"date\": \"2021-06-10T00:00:00\"}, {\"open\": 21.31999969482422, \"high\": 21.540000915527344, \"low\": 20.979999542236328, \"close\": 21.040000915527344, \"adjclose\": 21.040000915527344, \"volume\": 332000.0, \"ticker\": \"HGU.TO\", \"date\": \"2021-06-11T00:00:00\"}, {\"open\": 20.31999969482422, \"high\": 21.079999923706055, \"low\": 20.15999984741211, \"close\": 20.860000610351562, \"adjclose\": 20.860000610351562, \"volume\": 259100.0, \"ticker\": \"HGU.TO\", \"date\": \"2021-06-14T00:00:00\"}, {\"open\": 20.989999771118164, \"high\": 21.0, \"low\": 20.399999618530273, \"close\": 20.530000686645508, \"adjclose\": 20.530000686645508, \"volume\": 195300.0, \"ticker\": \"HGU.TO\", \"date\": \"2021-06-15T00:00:00\"}, {\"open\": 20.760000228881836, \"high\": 21.1299991607666, \"low\": 20.010000228881836, \"close\": 20.010000228881836, \"adjclose\": 20.010000228881836, \"volume\": 441600.0, \"ticker\": \"HGU.TO\", \"date\": \"2021-06-16T00:00:00\"}, {\"open\": 18.780000686645508, \"high\": 19.229999542236328, \"low\": 18.239999771118164, \"close\": 18.360000610351562, \"adjclose\": 18.360000610351562, \"volume\": 969000.0, \"ticker\": \"HGU.TO\", \"date\": \"2021-06-17T00:00:00\"}, {\"open\": 18.5, \"high\": 18.75, \"low\": 17.799999237060547, \"close\": 17.799999237060547, \"adjclose\": 17.799999237060547, \"volume\": 572500.0, \"ticker\": \"HGU.TO\", \"date\": \"2021-06-18T00:00:00\"}, {\"open\": 18.020000457763672, \"high\": 18.3799991607666, \"low\": 17.65999984741211, \"close\": 18.219999313354492, \"adjclose\": 18.219999313354492, \"volume\": 292100.0, \"ticker\": \"HGU.TO\", \"date\": \"2021-06-21T00:00:00\"}, {\"open\": 18.209999084472656, \"high\": 18.209999084472656, \"low\": 17.90999984741211, \"close\": 17.969999313354492, \"adjclose\": 17.969999313354492, \"volume\": 190900.0, \"ticker\": \"HGU.TO\", \"date\": \"2021-06-22T00:00:00\"}, {\"open\": 18.200000762939453, \"high\": 18.25, \"low\": 17.579999923706055, \"close\": 17.579999923706055, \"adjclose\": 17.579999923706055, \"volume\": 232700.0, \"ticker\": \"HGU.TO\", \"date\": \"2021-06-23T00:00:00\"}, {\"open\": 17.90999984741211, \"high\": 17.93000030517578, \"low\": 17.540000915527344, \"close\": 17.600000381469727, \"adjclose\": 17.600000381469727, \"volume\": 205300.0, \"ticker\": \"HGU.TO\", \"date\": \"2021-06-24T00:00:00\"}, {\"open\": 17.969999313354492, \"high\": 17.969999313354492, \"low\": 17.229999542236328, \"close\": 17.34000015258789, \"adjclose\": 17.34000015258789, \"volume\": 348800.0, \"ticker\": \"HGU.TO\", \"date\": \"2021-06-25T00:00:00\"}, {\"open\": 17.579999923706055, \"high\": 17.649999618530273, \"low\": 16.8799991607666, \"close\": 17.09000015258789, \"adjclose\": 17.09000015258789, \"volume\": 229200.0, \"ticker\": \"HGU.TO\", \"date\": \"2021-06-28T00:00:00\"}, {\"open\": 16.579999923706055, \"high\": 17.260000228881836, \"low\": 16.520000457763672, \"close\": 16.950000762939453, \"adjclose\": 16.950000762939453, \"volume\": 266000.0, \"ticker\": \"HGU.TO\", \"date\": \"2021-06-29T00:00:00\"}, {\"open\": 16.969999313354492, \"high\": 17.469999313354492, \"low\": 16.8700008392334, \"close\": 17.280000686645508, \"adjclose\": 17.280000686645508, \"volume\": 182600.0, \"ticker\": \"HGU.TO\", \"date\": \"2021-06-30T00:00:00\"}, {\"open\": 12.140000343322754, \"high\": 12.210000038146973, \"low\": 12.069999694824219, \"close\": 12.140000343322754, \"adjclose\": 12.140000343322754, \"volume\": 12500.0, \"ticker\": \"HUZ.TO\", \"date\": \"2021-04-05T00:00:00\"}, {\"open\": 12.270000457763672, \"high\": 12.359999656677246, \"low\": 12.270000457763672, \"close\": 12.319999694824219, \"adjclose\": 12.319999694824219, \"volume\": 7200.0, \"ticker\": \"HUZ.TO\", \"date\": \"2021-04-06T00:00:00\"}, {\"open\": 12.270000457763672, \"high\": 12.34000015258789, \"low\": 12.260000228881836, \"close\": 12.279999732971191, \"adjclose\": 12.279999732971191, \"volume\": 2800.0, \"ticker\": \"HUZ.TO\", \"date\": \"2021-04-07T00:00:00\"}, {\"open\": 12.479999542236328, \"high\": 12.5, \"low\": 12.460000038146973, \"close\": 12.460000038146973, \"adjclose\": 12.460000038146973, \"volume\": 6200.0, \"ticker\": \"HUZ.TO\", \"date\": \"2021-04-08T00:00:00\"}, {\"open\": 12.270000457763672, \"high\": 12.359999656677246, \"low\": 12.25, \"close\": 12.359999656677246, \"adjclose\": 12.359999656677246, \"volume\": 1400.0, \"ticker\": \"HUZ.TO\", \"date\": \"2021-04-09T00:00:00\"}, {\"open\": 12.149999618530273, \"high\": 12.149999618530273, \"low\": 12.130000114440918, \"close\": 12.140000343322754, \"adjclose\": 12.140000343322754, \"volume\": 2800.0, \"ticker\": \"HUZ.TO\", \"date\": \"2021-04-12T00:00:00\"}, {\"open\": 12.399999618530273, \"high\": 12.399999618530273, \"low\": 12.399999618530273, \"close\": 12.399999618530273, \"adjclose\": 12.399999618530273, \"volume\": 3400.0, \"ticker\": \"HUZ.TO\", \"date\": \"2021-04-13T00:00:00\"}, {\"open\": 12.369999885559082, \"high\": 12.40999984741211, \"low\": 12.369999885559082, \"close\": 12.40999984741211, \"adjclose\": 12.40999984741211, \"volume\": 2200.0, \"ticker\": \"HUZ.TO\", \"date\": \"2021-04-14T00:00:00\"}, {\"open\": 12.699999809265137, \"high\": 12.699999809265137, \"low\": 12.65999984741211, \"close\": 12.65999984741211, \"adjclose\": 12.65999984741211, \"volume\": 2000.0, \"ticker\": \"HUZ.TO\", \"date\": \"2021-04-15T00:00:00\"}, {\"open\": 12.779999732971191, \"high\": 12.779999732971191, \"low\": 12.710000038146973, \"close\": 12.710000038146973, \"adjclose\": 12.710000038146973, \"volume\": 5000.0, \"ticker\": \"HUZ.TO\", \"date\": \"2021-04-16T00:00:00\"}, {\"open\": 12.619999885559082, \"high\": 12.649999618530273, \"low\": 12.550000190734863, \"close\": 12.640000343322754, \"adjclose\": 12.640000343322754, \"volume\": 5300.0, \"ticker\": \"HUZ.TO\", \"date\": \"2021-04-19T00:00:00\"}, {\"open\": 12.609999656677246, \"high\": 12.75, \"low\": 12.609999656677246, \"close\": 12.75, \"adjclose\": 12.75, \"volume\": 2500.0, \"ticker\": \"HUZ.TO\", \"date\": \"2021-04-20T00:00:00\"}, {\"open\": 12.720000267028809, \"high\": 13.039999961853027, \"low\": 12.720000267028809, \"close\": 13.039999961853027, \"adjclose\": 13.039999961853027, \"volume\": 12400.0, \"ticker\": \"HUZ.TO\", \"date\": \"2021-04-21T00:00:00\"}, {\"open\": 12.869999885559082, \"high\": 12.869999885559082, \"low\": 12.729999542236328, \"close\": 12.729999542236328, \"adjclose\": 12.729999542236328, \"volume\": 18000.0, \"ticker\": \"HUZ.TO\", \"date\": \"2021-04-22T00:00:00\"}, {\"open\": 12.8100004196167, \"high\": 12.84000015258789, \"low\": 12.640000343322754, \"close\": 12.710000038146973, \"adjclose\": 12.710000038146973, \"volume\": 5200.0, \"ticker\": \"HUZ.TO\", \"date\": \"2021-04-23T00:00:00\"}, {\"open\": 12.8100004196167, \"high\": 12.8100004196167, \"low\": 12.779999732971191, \"close\": 12.8100004196167, \"adjclose\": 12.8100004196167, \"volume\": 2100.0, \"ticker\": \"HUZ.TO\", \"date\": \"2021-04-26T00:00:00\"}, {\"open\": 12.850000381469727, \"high\": 12.899999618530273, \"low\": 12.850000381469727, \"close\": 12.859999656677246, \"adjclose\": 12.859999656677246, \"volume\": 4100.0, \"ticker\": \"HUZ.TO\", \"date\": \"2021-04-27T00:00:00\"}, {\"open\": 12.699999809265137, \"high\": 12.729999542236328, \"low\": 12.699999809265137, \"close\": 12.729999542236328, \"adjclose\": 12.729999542236328, \"volume\": 1300.0, \"ticker\": \"HUZ.TO\", \"date\": \"2021-04-28T00:00:00\"}, {\"open\": 12.600000381469727, \"high\": 12.760000228881836, \"low\": 12.600000381469727, \"close\": 12.760000228881836, \"adjclose\": 12.760000228881836, \"volume\": 4400.0, \"ticker\": \"HUZ.TO\", \"date\": \"2021-04-29T00:00:00\"}, {\"open\": 12.760000228881836, \"high\": 12.770000457763672, \"low\": 12.600000381469727, \"close\": 12.619999885559082, \"adjclose\": 12.619999885559082, \"volume\": 17300.0, \"ticker\": \"HUZ.TO\", \"date\": \"2021-04-30T00:00:00\"}, {\"open\": 12.960000038146973, \"high\": 13.170000076293945, \"low\": 12.930000305175781, \"close\": 13.149999618530273, \"adjclose\": 13.149999618530273, \"volume\": 11200.0, \"ticker\": \"HUZ.TO\", \"date\": \"2021-05-03T00:00:00\"}, {\"open\": 13.170000076293945, \"high\": 13.239999771118164, \"low\": 12.890000343322754, \"close\": 12.890000343322754, \"adjclose\": 12.890000343322754, \"volume\": 12500.0, \"ticker\": \"HUZ.TO\", \"date\": \"2021-05-04T00:00:00\"}, {\"open\": 12.899999618530273, \"high\": 12.920000076293945, \"low\": 12.890000343322754, \"close\": 12.920000076293945, \"adjclose\": 12.920000076293945, \"volume\": 3000.0, \"ticker\": \"HUZ.TO\", \"date\": \"2021-05-05T00:00:00\"}, {\"open\": 13.119999885559082, \"high\": 13.399999618530273, \"low\": 13.119999885559082, \"close\": 13.359999656677246, \"adjclose\": 13.359999656677246, \"volume\": 20800.0, \"ticker\": \"HUZ.TO\", \"date\": \"2021-05-06T00:00:00\"}, {\"open\": 13.40999984741211, \"high\": 13.40999984741211, \"low\": 13.380000114440918, \"close\": 13.40999984741211, \"adjclose\": 13.40999984741211, \"volume\": 3000.0, \"ticker\": \"HUZ.TO\", \"date\": \"2021-05-07T00:00:00\"}, {\"open\": 13.59000015258789, \"high\": 13.600000381469727, \"low\": 13.350000381469727, \"close\": 13.359999656677246, \"adjclose\": 13.359999656677246, \"volume\": 9200.0, \"ticker\": \"HUZ.TO\", \"date\": \"2021-05-10T00:00:00\"}, {\"open\": 13.289999961853027, \"high\": 13.510000228881836, \"low\": 13.289999961853027, \"close\": 13.510000228881836, \"adjclose\": 13.510000228881836, \"volume\": 7700.0, \"ticker\": \"HUZ.TO\", \"date\": \"2021-05-11T00:00:00\"}, {\"open\": 13.390000343322754, \"high\": 13.390000343322754, \"low\": 13.199999809265137, \"close\": 13.199999809265137, \"adjclose\": 13.199999809265137, \"volume\": 5200.0, \"ticker\": \"HUZ.TO\", \"date\": \"2021-05-12T00:00:00\"}, {\"open\": 13.140000343322754, \"high\": 13.239999771118164, \"low\": 13.140000343322754, \"close\": 13.239999771118164, \"adjclose\": 13.239999771118164, \"volume\": 1100.0, \"ticker\": \"HUZ.TO\", \"date\": \"2021-05-13T00:00:00\"}, {\"open\": 13.380000114440918, \"high\": 13.380000114440918, \"low\": 13.369999885559082, \"close\": 13.380000114440918, \"adjclose\": 13.380000114440918, \"volume\": 2700.0, \"ticker\": \"HUZ.TO\", \"date\": \"2021-05-14T00:00:00\"}, {\"open\": 13.460000038146973, \"high\": 13.829999923706055, \"low\": 13.460000038146973, \"close\": 13.789999961853027, \"adjclose\": 13.789999961853027, \"volume\": 12600.0, \"ticker\": \"HUZ.TO\", \"date\": \"2021-05-17T00:00:00\"}, {\"open\": 13.890000343322754, \"high\": 13.899999618530273, \"low\": 13.75, \"close\": 13.779999732971191, \"adjclose\": 13.779999732971191, \"volume\": 6600.0, \"ticker\": \"HUZ.TO\", \"date\": \"2021-05-18T00:00:00\"}, {\"open\": 13.510000228881836, \"high\": 13.699999809265137, \"low\": 13.4399995803833, \"close\": 13.520000457763672, \"adjclose\": 13.520000457763672, \"volume\": 10700.0, \"ticker\": \"HUZ.TO\", \"date\": \"2021-05-19T00:00:00\"}, {\"open\": 13.649999618530273, \"high\": 13.649999618530273, \"low\": 13.569999694824219, \"close\": 13.569999694824219, \"adjclose\": 13.569999694824219, \"volume\": 1300.0, \"ticker\": \"HUZ.TO\", \"date\": \"2021-05-20T00:00:00\"}, {\"open\": 13.449999809265137, \"high\": 13.449999809265137, \"low\": 13.3100004196167, \"close\": 13.380000114440918, \"adjclose\": 13.380000114440918, \"volume\": 36000.0, \"ticker\": \"HUZ.TO\", \"date\": \"2021-05-21T00:00:00\"}, {\"open\": 13.449999809265137, \"high\": 13.670000076293945, \"low\": 13.449999809265137, \"close\": 13.670000076293945, \"adjclose\": 13.670000076293945, \"volume\": 3600.0, \"ticker\": \"HUZ.TO\", \"date\": \"2021-05-25T00:00:00\"}, {\"open\": 13.640000343322754, \"high\": 13.640000343322754, \"low\": 13.479999542236328, \"close\": 13.510000228881836, \"adjclose\": 13.510000228881836, \"volume\": 13900.0, \"ticker\": \"HUZ.TO\", \"date\": \"2021-05-26T00:00:00\"}, {\"open\": 13.5, \"high\": 13.5, \"low\": 13.5, \"close\": 13.5, \"adjclose\": 13.5, \"volume\": 600.0, \"ticker\": \"HUZ.TO\", \"date\": \"2021-05-27T00:00:00\"}, {\"open\": 13.489999771118164, \"high\": 13.600000381469727, \"low\": 13.489999771118164, \"close\": 13.600000381469727, \"adjclose\": 13.600000381469727, \"volume\": 1400.0, \"ticker\": \"HUZ.TO\", \"date\": \"2021-05-28T00:00:00\"}, {\"open\": 13.65999984741211, \"high\": 13.699999809265137, \"low\": 13.640000343322754, \"close\": 13.699999809265137, \"adjclose\": 13.699999809265137, \"volume\": 2200.0, \"ticker\": \"HUZ.TO\", \"date\": \"2021-05-31T00:00:00\"}, {\"open\": 13.899999618530273, \"high\": 13.899999618530273, \"low\": 13.510000228881836, \"close\": 13.640000343322754, \"adjclose\": 13.640000343322754, \"volume\": 4800.0, \"ticker\": \"HUZ.TO\", \"date\": \"2021-06-01T00:00:00\"}, {\"open\": 13.649999618530273, \"high\": 13.760000228881836, \"low\": 13.649999618530273, \"close\": 13.760000228881836, \"adjclose\": 13.760000228881836, \"volume\": 2700.0, \"ticker\": \"HUZ.TO\", \"date\": \"2021-06-02T00:00:00\"}, {\"open\": 13.380000114440918, \"high\": 13.399999618530273, \"low\": 13.199999809265137, \"close\": 13.390000343322754, \"adjclose\": 13.390000343322754, \"volume\": 6100.0, \"ticker\": \"HUZ.TO\", \"date\": \"2021-06-03T00:00:00\"}, {\"open\": 13.539999961853027, \"high\": 13.569999694824219, \"low\": 13.539999961853027, \"close\": 13.5600004196167, \"adjclose\": 13.5600004196167, \"volume\": 2300.0, \"ticker\": \"HUZ.TO\", \"date\": \"2021-06-04T00:00:00\"}, {\"open\": 13.5600004196167, \"high\": 13.640000343322754, \"low\": 13.5600004196167, \"close\": 13.630000114440918, \"adjclose\": 13.630000114440918, \"volume\": 3900.0, \"ticker\": \"HUZ.TO\", \"date\": \"2021-06-07T00:00:00\"}, {\"open\": 13.5, \"high\": 13.5, \"low\": 13.4399995803833, \"close\": 13.489999771118164, \"adjclose\": 13.489999771118164, \"volume\": 1700.0, \"ticker\": \"HUZ.TO\", \"date\": \"2021-06-08T00:00:00\"}, {\"open\": 13.59000015258789, \"high\": 13.65999984741211, \"low\": 13.59000015258789, \"close\": 13.59000015258789, \"adjclose\": 13.59000015258789, \"volume\": 2000.0, \"ticker\": \"HUZ.TO\", \"date\": \"2021-06-09T00:00:00\"}, {\"open\": 13.550000190734863, \"high\": 13.649999618530273, \"low\": 13.550000190734863, \"close\": 13.640000343322754, \"adjclose\": 13.640000343322754, \"volume\": 3100.0, \"ticker\": \"HUZ.TO\", \"date\": \"2021-06-10T00:00:00\"}, {\"open\": 13.760000228881836, \"high\": 13.779999732971191, \"low\": 13.649999618530273, \"close\": 13.649999618530273, \"adjclose\": 13.649999618530273, \"volume\": 5900.0, \"ticker\": \"HUZ.TO\", \"date\": \"2021-06-11T00:00:00\"}, {\"open\": 13.65999984741211, \"high\": 13.65999984741211, \"low\": 13.640000343322754, \"close\": 13.640000343322754, \"adjclose\": 13.640000343322754, \"volume\": 4600.0, \"ticker\": \"HUZ.TO\", \"date\": \"2021-06-14T00:00:00\"}, {\"open\": 13.489999771118164, \"high\": 13.5, \"low\": 13.399999618530273, \"close\": 13.5, \"adjclose\": 13.5, \"volume\": 6600.0, \"ticker\": \"HUZ.TO\", \"date\": \"2021-06-15T00:00:00\"}, {\"open\": 13.550000190734863, \"high\": 13.550000190734863, \"low\": 13.350000381469727, \"close\": 13.350000381469727, \"adjclose\": 13.350000381469727, \"volume\": 11300.0, \"ticker\": \"HUZ.TO\", \"date\": \"2021-06-16T00:00:00\"}, {\"open\": 12.789999961853027, \"high\": 12.819999694824219, \"low\": 12.550000190734863, \"close\": 12.649999618530273, \"adjclose\": 12.649999618530273, \"volume\": 30100.0, \"ticker\": \"HUZ.TO\", \"date\": \"2021-06-17T00:00:00\"}, {\"open\": 12.649999618530273, \"high\": 12.65999984741211, \"low\": 12.579999923706055, \"close\": 12.579999923706055, \"adjclose\": 12.579999923706055, \"volume\": 4400.0, \"ticker\": \"HUZ.TO\", \"date\": \"2021-06-18T00:00:00\"}, {\"open\": 12.619999885559082, \"high\": 12.630000114440918, \"low\": 12.619999885559082, \"close\": 12.619999885559082, \"adjclose\": 12.619999885559082, \"volume\": 1600.0, \"ticker\": \"HUZ.TO\", \"date\": \"2021-06-21T00:00:00\"}, {\"open\": 12.569999694824219, \"high\": 12.569999694824219, \"low\": 12.550000190734863, \"close\": 12.550000190734863, \"adjclose\": 12.550000190734863, \"volume\": 11400.0, \"ticker\": \"HUZ.TO\", \"date\": \"2021-06-22T00:00:00\"}, {\"open\": 12.699999809265137, \"high\": 12.800000190734863, \"low\": 12.619999885559082, \"close\": 12.619999885559082, \"adjclose\": 12.619999885559082, \"volume\": 7600.0, \"ticker\": \"HUZ.TO\", \"date\": \"2021-06-23T00:00:00\"}, {\"open\": 12.710000038146973, \"high\": 12.720000267028809, \"low\": 12.619999885559082, \"close\": 12.630000114440918, \"adjclose\": 12.630000114440918, \"volume\": 2600.0, \"ticker\": \"HUZ.TO\", \"date\": \"2021-06-24T00:00:00\"}, {\"open\": 12.720000267028809, \"high\": 12.720000267028809, \"low\": 12.680000305175781, \"close\": 12.680000305175781, \"adjclose\": 12.680000305175781, \"volume\": 1200.0, \"ticker\": \"HUZ.TO\", \"date\": \"2021-06-25T00:00:00\"}, {\"open\": 12.720000267028809, \"high\": 12.75, \"low\": 12.710000038146973, \"close\": 12.710000038146973, \"adjclose\": 12.710000038146973, \"volume\": 2200.0, \"ticker\": \"HUZ.TO\", \"date\": \"2021-06-28T00:00:00\"}, {\"open\": 12.5, \"high\": 12.5600004196167, \"low\": 12.479999542236328, \"close\": 12.5600004196167, \"adjclose\": 12.5600004196167, \"volume\": 3400.0, \"ticker\": \"HUZ.TO\", \"date\": \"2021-06-29T00:00:00\"}, {\"open\": 12.699999809265137, \"high\": 12.710000038146973, \"low\": 12.699999809265137, \"close\": 12.710000038146973, \"adjclose\": 12.710000038146973, \"volume\": 4500.0, \"ticker\": \"HUZ.TO\", \"date\": \"2021-06-30T00:00:00\"}, {\"open\": 16.600000381469727, \"high\": 16.790000915527344, \"low\": 16.3799991607666, \"close\": 16.610000610351562, \"adjclose\": 16.610000610351562, \"volume\": 34700.0, \"ticker\": \"HZU.TO\", \"date\": \"2021-04-05T00:00:00\"}, {\"open\": 16.959999084472656, \"high\": 17.219999313354492, \"low\": 16.950000762939453, \"close\": 17.030000686645508, \"adjclose\": 17.030000686645508, \"volume\": 72900.0, \"ticker\": \"HZU.TO\", \"date\": \"2021-04-06T00:00:00\"}, {\"open\": 16.899999618530273, \"high\": 17.200000762939453, \"low\": 16.860000610351562, \"close\": 17.030000686645508, \"adjclose\": 17.030000686645508, \"volume\": 84600.0, \"ticker\": \"HZU.TO\", \"date\": \"2021-04-07T00:00:00\"}, {\"open\": 17.549999237060547, \"high\": 17.639999389648438, \"low\": 17.399999618530273, \"close\": 17.469999313354492, \"adjclose\": 17.469999313354492, \"volume\": 95700.0, \"ticker\": \"HZU.TO\", \"date\": \"2021-04-08T00:00:00\"}, {\"open\": 16.93000030517578, \"high\": 17.209999084472656, \"low\": 16.860000610351562, \"close\": 17.15999984741211, \"adjclose\": 17.15999984741211, \"volume\": 58300.0, \"ticker\": \"HZU.TO\", \"date\": \"2021-04-09T00:00:00\"}, {\"open\": 16.950000762939453, \"high\": 16.950000762939453, \"low\": 16.399999618530273, \"close\": 16.56999969482422, \"adjclose\": 16.56999969482422, \"volume\": 111800.0, \"ticker\": \"HZU.TO\", \"date\": \"2021-04-12T00:00:00\"}, {\"open\": 17.260000228881836, \"high\": 17.450000762939453, \"low\": 17.200000762939453, \"close\": 17.25, \"adjclose\": 17.25, \"volume\": 132500.0, \"ticker\": \"HZU.TO\", \"date\": \"2021-04-13T00:00:00\"}, {\"open\": 17.149999618530273, \"high\": 17.450000762939453, \"low\": 17.149999618530273, \"close\": 17.360000610351562, \"adjclose\": 17.360000610351562, \"volume\": 61400.0, \"ticker\": \"HZU.TO\", \"date\": \"2021-04-14T00:00:00\"}, {\"open\": 17.68000030517578, \"high\": 18.18000030517578, \"low\": 17.65999984741211, \"close\": 18.030000686645508, \"adjclose\": 18.030000686645508, \"volume\": 59900.0, \"ticker\": \"HZU.TO\", \"date\": \"2021-04-15T00:00:00\"}, {\"open\": 18.290000915527344, \"high\": 18.299999237060547, \"low\": 18.100000381469727, \"close\": 18.149999618530273, \"adjclose\": 18.149999618530273, \"volume\": 83900.0, \"ticker\": \"HZU.TO\", \"date\": \"2021-04-16T00:00:00\"}, {\"open\": 17.8700008392334, \"high\": 18.0, \"low\": 17.639999389648438, \"close\": 17.93000030517578, \"adjclose\": 17.93000030517578, \"volume\": 49800.0, \"ticker\": \"HZU.TO\", \"date\": \"2021-04-19T00:00:00\"}, {\"open\": 17.850000381469727, \"high\": 18.280000686645508, \"low\": 17.850000381469727, \"close\": 17.920000076293945, \"adjclose\": 17.920000076293945, \"volume\": 62800.0, \"ticker\": \"HZU.TO\", \"date\": \"2021-04-20T00:00:00\"}, {\"open\": 18.18000030517578, \"high\": 19.09000015258789, \"low\": 18.18000030517578, \"close\": 19.030000686645508, \"adjclose\": 19.030000686645508, \"volume\": 129100.0, \"ticker\": \"HZU.TO\", \"date\": \"2021-04-21T00:00:00\"}, {\"open\": 18.6299991607666, \"high\": 18.639999389648438, \"low\": 18.100000381469727, \"close\": 18.270000457763672, \"adjclose\": 18.270000457763672, \"volume\": 137700.0, \"ticker\": \"HZU.TO\", \"date\": \"2021-04-22T00:00:00\"}, {\"open\": 18.450000762939453, \"high\": 18.5, \"low\": 17.940000534057617, \"close\": 18.110000610351562, \"adjclose\": 18.110000610351562, \"volume\": 98500.0, \"ticker\": \"HZU.TO\", \"date\": \"2021-04-23T00:00:00\"}, {\"open\": 18.389999389648438, \"high\": 18.40999984741211, \"low\": 18.229999542236328, \"close\": 18.389999389648438, \"adjclose\": 18.389999389648438, \"volume\": 66600.0, \"ticker\": \"HZU.TO\", \"date\": \"2021-04-26T00:00:00\"}, {\"open\": 18.639999389648438, \"high\": 18.700000762939453, \"low\": 18.489999771118164, \"close\": 18.5, \"adjclose\": 18.5, \"volume\": 78000.0, \"ticker\": \"HZU.TO\", \"date\": \"2021-04-27T00:00:00\"}, {\"open\": 18.079999923706055, \"high\": 18.5, \"low\": 17.899999618530273, \"close\": 18.479999542236328, \"adjclose\": 18.479999542236328, \"volume\": 139700.0, \"ticker\": \"HZU.TO\", \"date\": \"2021-04-28T00:00:00\"}, {\"open\": 18.219999313354492, \"high\": 18.260000228881836, \"low\": 17.670000076293945, \"close\": 18.25, \"adjclose\": 18.25, \"volume\": 115700.0, \"ticker\": \"HZU.TO\", \"date\": \"2021-04-29T00:00:00\"}, {\"open\": 18.239999771118164, \"high\": 18.290000915527344, \"low\": 17.799999237060547, \"close\": 17.860000610351562, \"adjclose\": 17.860000610351562, \"volume\": 64000.0, \"ticker\": \"HZU.TO\", \"date\": \"2021-04-30T00:00:00\"}, {\"open\": 18.799999237060547, \"high\": 19.5, \"low\": 18.709999084472656, \"close\": 19.299999237060547, \"adjclose\": 19.299999237060547, \"volume\": 200900.0, \"ticker\": \"HZU.TO\", \"date\": \"2021-05-03T00:00:00\"}, {\"open\": 19.450000762939453, \"high\": 19.719999313354492, \"low\": 18.18000030517578, \"close\": 18.739999771118164, \"adjclose\": 18.739999771118164, \"volume\": 154900.0, \"ticker\": \"HZU.TO\", \"date\": \"2021-05-04T00:00:00\"}, {\"open\": 18.6200008392334, \"high\": 18.75, \"low\": 18.530000686645508, \"close\": 18.719999313354492, \"adjclose\": 18.719999313354492, \"volume\": 64000.0, \"ticker\": \"HZU.TO\", \"date\": \"2021-05-05T00:00:00\"}, {\"open\": 19.260000228881836, \"high\": 20.15999984741211, \"low\": 19.260000228881836, \"close\": 19.989999771118164, \"adjclose\": 19.989999771118164, \"volume\": 256600.0, \"ticker\": \"HZU.TO\", \"date\": \"2021-05-06T00:00:00\"}, {\"open\": 19.850000381469727, \"high\": 20.170000076293945, \"low\": 19.68000030517578, \"close\": 20.100000381469727, \"adjclose\": 20.100000381469727, \"volume\": 103600.0, \"ticker\": \"HZU.TO\", \"date\": \"2021-05-07T00:00:00\"}, {\"open\": 20.670000076293945, \"high\": 20.75, \"low\": 19.780000686645508, \"close\": 19.90999984741211, \"adjclose\": 19.90999984741211, \"volume\": 112400.0, \"ticker\": \"HZU.TO\", \"date\": \"2021-05-10T00:00:00\"}, {\"open\": 19.700000762939453, \"high\": 20.420000076293945, \"low\": 19.65999984741211, \"close\": 20.420000076293945, \"adjclose\": 20.420000076293945, \"volume\": 69200.0, \"ticker\": \"HZU.TO\", \"date\": \"2021-05-11T00:00:00\"}, {\"open\": 20.030000686645508, \"high\": 20.260000228881836, \"low\": 19.440000534057617, \"close\": 19.459999084472656, \"adjclose\": 19.459999084472656, \"volume\": 174000.0, \"ticker\": \"HZU.TO\", \"date\": \"2021-05-12T00:00:00\"}, {\"open\": 19.290000915527344, \"high\": 19.639999389648438, \"low\": 19.229999542236328, \"close\": 19.56999969482422, \"adjclose\": 19.56999969482422, \"volume\": 84100.0, \"ticker\": \"HZU.TO\", \"date\": \"2021-05-13T00:00:00\"}, {\"open\": 19.989999771118164, \"high\": 20.1200008392334, \"low\": 19.809999465942383, \"close\": 20.040000915527344, \"adjclose\": 20.040000915527344, \"volume\": 61800.0, \"ticker\": \"HZU.TO\", \"date\": \"2021-05-14T00:00:00\"}, {\"open\": 20.209999084472656, \"high\": 21.350000381469727, \"low\": 20.209999084472656, \"close\": 21.25, \"adjclose\": 21.25, \"volume\": 233700.0, \"ticker\": \"HZU.TO\", \"date\": \"2021-05-17T00:00:00\"}, {\"open\": 21.59000015258789, \"high\": 21.59000015258789, \"low\": 20.950000762939453, \"close\": 21.299999237060547, \"adjclose\": 21.299999237060547, \"volume\": 147400.0, \"ticker\": \"HZU.TO\", \"date\": \"2021-05-18T00:00:00\"}, {\"open\": 20.399999618530273, \"high\": 21.18000030517578, \"low\": 20.100000381469727, \"close\": 20.469999313354492, \"adjclose\": 20.469999313354492, \"volume\": 174100.0, \"ticker\": \"HZU.TO\", \"date\": \"2021-05-19T00:00:00\"}, {\"open\": 20.579999923706055, \"high\": 20.889999389648438, \"low\": 20.3799991607666, \"close\": 20.56999969482422, \"adjclose\": 20.56999969482422, \"volume\": 56400.0, \"ticker\": \"HZU.TO\", \"date\": \"2021-05-20T00:00:00\"}, {\"open\": 20.809999465942383, \"high\": 20.809999465942383, \"low\": 19.639999389648438, \"close\": 20.1200008392334, \"adjclose\": 20.1200008392334, \"volume\": 165100.0, \"ticker\": \"HZU.TO\", \"date\": \"2021-05-21T00:00:00\"}, {\"open\": 20.1299991607666, \"high\": 20.899999618530273, \"low\": 20.1299991607666, \"close\": 20.8700008392334, \"adjclose\": 20.8700008392334, \"volume\": 113200.0, \"ticker\": \"HZU.TO\", \"date\": \"2021-05-25T00:00:00\"}, {\"open\": 20.68000030517578, \"high\": 20.770000457763672, \"low\": 20.229999542236328, \"close\": 20.350000381469727, \"adjclose\": 20.350000381469727, \"volume\": 67200.0, \"ticker\": \"HZU.TO\", \"date\": \"2021-05-26T00:00:00\"}, {\"open\": 20.360000610351562, \"high\": 20.649999618530273, \"low\": 20.18000030517578, \"close\": 20.6299991607666, \"adjclose\": 20.6299991607666, \"volume\": 65100.0, \"ticker\": \"HZU.TO\", \"date\": \"2021-05-27T00:00:00\"}, {\"open\": 20.459999084472656, \"high\": 20.799999237060547, \"low\": 20.350000381469727, \"close\": 20.729999542236328, \"adjclose\": 20.729999542236328, \"volume\": 83300.0, \"ticker\": \"HZU.TO\", \"date\": \"2021-05-28T00:00:00\"}, {\"open\": 20.780000686645508, \"high\": 20.90999984741211, \"low\": 20.700000762939453, \"close\": 20.8799991607666, \"adjclose\": 20.8799991607666, \"volume\": 26100.0, \"ticker\": \"HZU.TO\", \"date\": \"2021-05-31T00:00:00\"}, {\"open\": 21.559999465942383, \"high\": 21.559999465942383, \"low\": 20.610000610351562, \"close\": 20.610000610351562, \"adjclose\": 20.610000610351562, \"volume\": 132200.0, \"ticker\": \"HZU.TO\", \"date\": \"2021-06-01T00:00:00\"}, {\"open\": 20.75, \"high\": 21.1200008392334, \"low\": 20.729999542236328, \"close\": 21.1200008392334, \"adjclose\": 21.1200008392334, \"volume\": 67700.0, \"ticker\": \"HZU.TO\", \"date\": \"2021-06-02T00:00:00\"}, {\"open\": 19.950000762939453, \"high\": 20.0, \"low\": 19.31999969482422, \"close\": 19.959999084472656, \"adjclose\": 19.959999084472656, \"volume\": 273400.0, \"ticker\": \"HZU.TO\", \"date\": \"2021-06-03T00:00:00\"}, {\"open\": 20.399999618530273, \"high\": 20.600000381469727, \"low\": 20.399999618530273, \"close\": 20.5, \"adjclose\": 20.5, \"volume\": 96200.0, \"ticker\": \"HZU.TO\", \"date\": \"2021-06-04T00:00:00\"}, {\"open\": 20.510000228881836, \"high\": 20.75, \"low\": 20.399999618530273, \"close\": 20.700000762939453, \"adjclose\": 20.700000762939453, \"volume\": 76900.0, \"ticker\": \"HZU.TO\", \"date\": \"2021-06-07T00:00:00\"}, {\"open\": 20.399999618530273, \"high\": 20.520000457763672, \"low\": 20.09000015258789, \"close\": 20.25, \"adjclose\": 20.25, \"volume\": 137300.0, \"ticker\": \"HZU.TO\", \"date\": \"2021-06-08T00:00:00\"}, {\"open\": 20.610000610351562, \"high\": 20.81999969482422, \"low\": 20.420000076293945, \"close\": 20.469999313354492, \"adjclose\": 20.469999313354492, \"volume\": 110700.0, \"ticker\": \"HZU.TO\", \"date\": \"2021-06-09T00:00:00\"}, {\"open\": 20.40999984741211, \"high\": 20.860000610351562, \"low\": 20.40999984741211, \"close\": 20.860000610351562, \"adjclose\": 20.860000610351562, \"volume\": 111100.0, \"ticker\": \"HZU.TO\", \"date\": \"2021-06-10T00:00:00\"}, {\"open\": 21.100000381469727, \"high\": 21.219999313354492, \"low\": 20.68000030517578, \"close\": 20.690000534057617, \"adjclose\": 20.690000534057617, \"volume\": 115200.0, \"ticker\": \"HZU.TO\", \"date\": \"2021-06-11T00:00:00\"}, {\"open\": 20.15999984741211, \"high\": 20.81999969482422, \"low\": 20.149999618530273, \"close\": 20.610000610351562, \"adjclose\": 20.610000610351562, \"volume\": 71700.0, \"ticker\": \"HZU.TO\", \"date\": \"2021-06-14T00:00:00\"}, {\"open\": 20.34000015258789, \"high\": 20.34000015258789, \"low\": 19.860000610351562, \"close\": 20.280000686645508, \"adjclose\": 20.280000686645508, \"volume\": 90900.0, \"ticker\": \"HZU.TO\", \"date\": \"2021-06-15T00:00:00\"}, {\"open\": 20.450000762939453, \"high\": 20.549999237060547, \"low\": 19.649999618530273, \"close\": 19.649999618530273, \"adjclose\": 19.649999618530273, \"volume\": 208700.0, \"ticker\": \"HZU.TO\", \"date\": \"2021-06-16T00:00:00\"}, {\"open\": 18.139999389648438, \"high\": 18.299999237060547, \"low\": 17.3799991607666, \"close\": 17.6299991607666, \"adjclose\": 17.6299991607666, \"volume\": 452800.0, \"ticker\": \"HZU.TO\", \"date\": \"2021-06-17T00:00:00\"}, {\"open\": 17.649999618530273, \"high\": 17.829999923706055, \"low\": 17.440000534057617, \"close\": 17.440000534057617, \"adjclose\": 17.440000534057617, \"volume\": 160300.0, \"ticker\": \"HZU.TO\", \"date\": \"2021-06-18T00:00:00\"}, {\"open\": 17.670000076293945, \"high\": 17.700000762939453, \"low\": 17.479999542236328, \"close\": 17.600000381469727, \"adjclose\": 17.600000381469727, \"volume\": 91300.0, \"ticker\": \"HZU.TO\", \"date\": \"2021-06-21T00:00:00\"}, {\"open\": 17.479999542236328, \"high\": 17.510000228881836, \"low\": 17.31999969482422, \"close\": 17.34000015258789, \"adjclose\": 17.34000015258789, \"volume\": 50200.0, \"ticker\": \"HZU.TO\", \"date\": \"2021-06-22T00:00:00\"}, {\"open\": 17.639999389648438, \"high\": 18.06999969482422, \"low\": 17.40999984741211, \"close\": 17.459999084472656, \"adjclose\": 17.459999084472656, \"volume\": 124600.0, \"ticker\": \"HZU.TO\", \"date\": \"2021-06-23T00:00:00\"}, {\"open\": 17.850000381469727, \"high\": 17.920000076293945, \"low\": 17.530000686645508, \"close\": 17.610000610351562, \"adjclose\": 17.610000610351562, \"volume\": 56900.0, \"ticker\": \"HZU.TO\", \"date\": \"2021-06-24T00:00:00\"}, {\"open\": 18.020000457763672, \"high\": 18.030000686645508, \"low\": 17.700000762939453, \"close\": 17.799999237060547, \"adjclose\": 17.799999237060547, \"volume\": 93600.0, \"ticker\": \"HZU.TO\", \"date\": \"2021-06-25T00:00:00\"}, {\"open\": 17.920000076293945, \"high\": 17.989999771118164, \"low\": 17.809999465942383, \"close\": 17.860000610351562, \"adjclose\": 17.860000610351562, \"volume\": 80500.0, \"ticker\": \"HZU.TO\", \"date\": \"2021-06-28T00:00:00\"}, {\"open\": 17.290000915527344, \"high\": 17.459999084472656, \"low\": 17.149999618530273, \"close\": 17.309999465942383, \"adjclose\": 17.309999465942383, \"volume\": 127200.0, \"ticker\": \"HZU.TO\", \"date\": \"2021-06-29T00:00:00\"}, {\"open\": 17.489999771118164, \"high\": 17.899999618530273, \"low\": 17.469999313354492, \"close\": 17.850000381469727, \"adjclose\": 17.850000381469727, \"volume\": 71700.0, \"ticker\": \"HZU.TO\", \"date\": \"2021-06-30T00:00:00\"}, {\"open\": 69.7300033569336, \"high\": 69.7300033569336, \"low\": 67.6500015258789, \"close\": 67.98999786376953, \"adjclose\": 67.38231658935547, \"volume\": 1367500.0, \"ticker\": \"VDE\", \"date\": \"2021-04-05T00:00:00\"}, {\"open\": 68.41999816894531, \"high\": 69.45999908447266, \"low\": 67.88999938964844, \"close\": 67.9800033569336, \"adjclose\": 67.3724136352539, \"volume\": 750600.0, \"ticker\": \"VDE\", \"date\": \"2021-04-06T00:00:00\"}, {\"open\": 68.04000091552734, \"high\": 68.58999633789062, \"low\": 67.7300033569336, \"close\": 68.2699966430664, \"adjclose\": 67.6598129272461, \"volume\": 660500.0, \"ticker\": \"VDE\", \"date\": \"2021-04-07T00:00:00\"}, {\"open\": 67.7300033569336, \"high\": 67.7300033569336, \"low\": 66.4800033569336, \"close\": 67.31999969482422, \"adjclose\": 66.71830749511719, \"volume\": 920200.0, \"ticker\": \"VDE\", \"date\": \"2021-04-08T00:00:00\"}, {\"open\": 67.20999908447266, \"high\": 67.80999755859375, \"low\": 66.47000122070312, \"close\": 66.77999877929688, \"adjclose\": 66.18313598632812, \"volume\": 869500.0, \"ticker\": \"VDE\", \"date\": \"2021-04-09T00:00:00\"}, {\"open\": 67.20999908447266, \"high\": 67.79000091552734, \"low\": 65.97000122070312, \"close\": 66.16000366210938, \"adjclose\": 65.56867980957031, \"volume\": 1161200.0, \"ticker\": \"VDE\", \"date\": \"2021-04-12T00:00:00\"}, {\"open\": 66.13999938964844, \"high\": 66.56999969482422, \"low\": 65.58999633789062, \"close\": 66.20999908447266, \"adjclose\": 65.61823272705078, \"volume\": 763600.0, \"ticker\": \"VDE\", \"date\": \"2021-04-13T00:00:00\"}, {\"open\": 66.76000213623047, \"high\": 69.19000244140625, \"low\": 66.75, \"close\": 68.26000213623047, \"adjclose\": 67.64990997314453, \"volume\": 807000.0, \"ticker\": \"VDE\", \"date\": \"2021-04-14T00:00:00\"}, {\"open\": 68.38999938964844, \"high\": 68.38999938964844, \"low\": 67.31999969482422, \"close\": 67.70999908447266, \"adjclose\": 67.10482025146484, \"volume\": 645600.0, \"ticker\": \"VDE\", \"date\": \"2021-04-15T00:00:00\"}, {\"open\": 68.06999969482422, \"high\": 68.26000213623047, \"low\": 66.80000305175781, \"close\": 67.06999969482422, \"adjclose\": 66.47054290771484, \"volume\": 493300.0, \"ticker\": \"VDE\", \"date\": \"2021-04-16T00:00:00\"}, {\"open\": 67.08999633789062, \"high\": 67.75, \"low\": 66.37000274658203, \"close\": 66.94000244140625, \"adjclose\": 66.34170532226562, \"volume\": 709300.0, \"ticker\": \"VDE\", \"date\": \"2021-04-19T00:00:00\"}, {\"open\": 66.86000061035156, \"high\": 66.86000061035156, \"low\": 64.36000061035156, \"close\": 65.04000091552734, \"adjclose\": 64.45868682861328, \"volume\": 1457000.0, \"ticker\": \"VDE\", \"date\": \"2021-04-20T00:00:00\"}, {\"open\": 64.30999755859375, \"high\": 66.08999633789062, \"low\": 63.90999984741211, \"close\": 65.95999908447266, \"adjclose\": 65.3704605102539, \"volume\": 668600.0, \"ticker\": \"VDE\", \"date\": \"2021-04-21T00:00:00\"}, {\"open\": 66.27999877929688, \"high\": 66.27999877929688, \"low\": 64.91999816894531, \"close\": 65.18000030517578, \"adjclose\": 64.5974349975586, \"volume\": 703600.0, \"ticker\": \"VDE\", \"date\": \"2021-04-22T00:00:00\"}, {\"open\": 65.2699966430664, \"high\": 66.0999984741211, \"low\": 64.88999938964844, \"close\": 65.80999755859375, \"adjclose\": 65.2218017578125, \"volume\": 568100.0, \"ticker\": \"VDE\", \"date\": \"2021-04-23T00:00:00\"}, {\"open\": 65.69000244140625, \"high\": 66.81999969482422, \"low\": 65.62000274658203, \"close\": 66.37999725341797, \"adjclose\": 65.78670501708984, \"volume\": 829600.0, \"ticker\": \"VDE\", \"date\": \"2021-04-26T00:00:00\"}, {\"open\": 66.62999725341797, \"high\": 67.4000015258789, \"low\": 66.27999877929688, \"close\": 67.13999938964844, \"adjclose\": 66.5399169921875, \"volume\": 644000.0, \"ticker\": \"VDE\", \"date\": \"2021-04-27T00:00:00\"}, {\"open\": 67.55000305175781, \"high\": 69.81999969482422, \"low\": 67.55000305175781, \"close\": 69.5, \"adjclose\": 68.87882232666016, \"volume\": 857000.0, \"ticker\": \"VDE\", \"date\": \"2021-04-28T00:00:00\"}, {\"open\": 70.51000213623047, \"high\": 71.19000244140625, \"low\": 69.33000183105469, \"close\": 70.26000213623047, \"adjclose\": 69.63203430175781, \"volume\": 903800.0, \"ticker\": \"VDE\", \"date\": \"2021-04-29T00:00:00\"}, {\"open\": 69.16999816894531, \"high\": 70.1500015258789, \"low\": 68.22000122070312, \"close\": 68.29000091552734, \"adjclose\": 67.67964172363281, \"volume\": 753400.0, \"ticker\": \"VDE\", \"date\": \"2021-04-30T00:00:00\"}, {\"open\": 69.1500015258789, \"high\": 70.43000030517578, \"low\": 68.98999786376953, \"close\": 70.2699966430664, \"adjclose\": 69.64193725585938, \"volume\": 700700.0, \"ticker\": \"VDE\", \"date\": \"2021-05-03T00:00:00\"}, {\"open\": 70.41000366210938, \"high\": 70.9000015258789, \"low\": 69.45999908447266, \"close\": 70.38999938964844, \"adjclose\": 69.76087188720703, \"volume\": 876700.0, \"ticker\": \"VDE\", \"date\": \"2021-05-04T00:00:00\"}, {\"open\": 71.25, \"high\": 72.91000366210938, \"low\": 71.25, \"close\": 72.66000366210938, \"adjclose\": 72.01058197021484, \"volume\": 531800.0, \"ticker\": \"VDE\", \"date\": \"2021-05-05T00:00:00\"}, {\"open\": 72.76000213623047, \"high\": 72.97000122070312, \"low\": 71.18000030517578, \"close\": 72.97000122070312, \"adjclose\": 72.31781005859375, \"volume\": 883100.0, \"ticker\": \"VDE\", \"date\": \"2021-05-06T00:00:00\"}, {\"open\": 72.18000030517578, \"high\": 74.55000305175781, \"low\": 71.94999694824219, \"close\": 74.55000305175781, \"adjclose\": 73.8836898803711, \"volume\": 855600.0, \"ticker\": \"VDE\", \"date\": \"2021-05-07T00:00:00\"}, {\"open\": 75.31999969482422, \"high\": 76.48999786376953, \"low\": 74.2300033569336, \"close\": 74.2300033569336, \"adjclose\": 73.5665512084961, \"volume\": 1887300.0, \"ticker\": \"VDE\", \"date\": \"2021-05-10T00:00:00\"}, {\"open\": 72.66000366210938, \"high\": 73.9000015258789, \"low\": 71.86000061035156, \"close\": 72.66999816894531, \"adjclose\": 72.02049255371094, \"volume\": 1578500.0, \"ticker\": \"VDE\", \"date\": \"2021-05-11T00:00:00\"}, {\"open\": 72.97000122070312, \"high\": 75.08999633789062, \"low\": 72.55000305175781, \"close\": 72.9000015258789, \"adjclose\": 72.2484359741211, \"volume\": 1093300.0, \"ticker\": \"VDE\", \"date\": \"2021-05-12T00:00:00\"}, {\"open\": 72.08000183105469, \"high\": 73.38999938964844, \"low\": 70.86000061035156, \"close\": 71.87000274658203, \"adjclose\": 71.22764587402344, \"volume\": 1260100.0, \"ticker\": \"VDE\", \"date\": \"2021-05-13T00:00:00\"}, {\"open\": 72.79000091552734, \"high\": 74.54000091552734, \"low\": 72.79000091552734, \"close\": 74.30999755859375, \"adjclose\": 73.64582824707031, \"volume\": 1450800.0, \"ticker\": \"VDE\", \"date\": \"2021-05-14T00:00:00\"}, {\"open\": 74.16000366210938, \"high\": 76.08999633789062, \"low\": 73.83999633789062, \"close\": 76.08999633789062, \"adjclose\": 75.40991973876953, \"volume\": 1011500.0, \"ticker\": \"VDE\", \"date\": \"2021-05-17T00:00:00\"}, {\"open\": 76.01000213623047, \"high\": 76.25, \"low\": 74.23999786376953, \"close\": 74.36000061035156, \"adjclose\": 73.69538879394531, \"volume\": 751500.0, \"ticker\": \"VDE\", \"date\": \"2021-05-18T00:00:00\"}, {\"open\": 72.61000061035156, \"high\": 73.33000183105469, \"low\": 71.47000122070312, \"close\": 72.55000305175781, \"adjclose\": 71.90156555175781, \"volume\": 1027300.0, \"ticker\": \"VDE\", \"date\": \"2021-05-19T00:00:00\"}, {\"open\": 72.48999786376953, \"high\": 72.7699966430664, \"low\": 71.37999725341797, \"close\": 72.4800033569336, \"adjclose\": 71.83219146728516, \"volume\": 842600.0, \"ticker\": \"VDE\", \"date\": \"2021-05-20T00:00:00\"}, {\"open\": 73.27999877929688, \"high\": 73.7300033569336, \"low\": 72.58999633789062, \"close\": 72.66000366210938, \"adjclose\": 72.01058197021484, \"volume\": 621800.0, \"ticker\": \"VDE\", \"date\": \"2021-05-21T00:00:00\"}, {\"open\": 73.12999725341797, \"high\": 73.47000122070312, \"low\": 72.23999786376953, \"close\": 73.27999877929688, \"adjclose\": 72.62503814697266, \"volume\": 655300.0, \"ticker\": \"VDE\", \"date\": \"2021-05-24T00:00:00\"}, {\"open\": 73.23999786376953, \"high\": 73.30999755859375, \"low\": 71.63999938964844, \"close\": 71.77999877929688, \"adjclose\": 71.13844299316406, \"volume\": 772800.0, \"ticker\": \"VDE\", \"date\": \"2021-05-25T00:00:00\"}, {\"open\": 71.8499984741211, \"high\": 72.76000213623047, \"low\": 71.52999877929688, \"close\": 72.54000091552734, \"adjclose\": 71.89165496826172, \"volume\": 548000.0, \"ticker\": \"VDE\", \"date\": \"2021-05-26T00:00:00\"}, {\"open\": 72.86000061035156, \"high\": 73.52999877929688, \"low\": 72.31999969482422, \"close\": 72.68000030517578, \"adjclose\": 72.03040313720703, \"volume\": 416100.0, \"ticker\": \"VDE\", \"date\": \"2021-05-27T00:00:00\"}, {\"open\": 73.11000061035156, \"high\": 73.11000061035156, \"low\": 72.41999816894531, \"close\": 72.76000213623047, \"adjclose\": 72.10968780517578, \"volume\": 608700.0, \"ticker\": \"VDE\", \"date\": \"2021-05-28T00:00:00\"}, {\"open\": 74.30999755859375, \"high\": 75.83000183105469, \"low\": 74.13999938964844, \"close\": 75.77999877929688, \"adjclose\": 75.10269165039062, \"volume\": 1145000.0, \"ticker\": \"VDE\", \"date\": \"2021-06-01T00:00:00\"}, {\"open\": 76.25, \"high\": 77.66000366210938, \"low\": 75.30000305175781, \"close\": 77.25, \"adjclose\": 76.55955505371094, \"volume\": 1083500.0, \"ticker\": \"VDE\", \"date\": \"2021-06-02T00:00:00\"}, {\"open\": 77.01000213623047, \"high\": 77.94000244140625, \"low\": 76.44999694824219, \"close\": 77.4800033569336, \"adjclose\": 76.78750610351562, \"volume\": 842500.0, \"ticker\": \"VDE\", \"date\": \"2021-06-03T00:00:00\"}, {\"open\": 78.0, \"high\": 78.4000015258789, \"low\": 76.9000015258789, \"close\": 78.05000305175781, \"adjclose\": 77.35240936279297, \"volume\": 845200.0, \"ticker\": \"VDE\", \"date\": \"2021-06-04T00:00:00\"}, {\"open\": 78.12999725341797, \"high\": 78.55999755859375, \"low\": 77.72000122070312, \"close\": 77.7699966430664, \"adjclose\": 77.07490539550781, \"volume\": 859800.0, \"ticker\": \"VDE\", \"date\": \"2021-06-07T00:00:00\"}, {\"open\": 77.68000030517578, \"high\": 78.69999694824219, \"low\": 76.5999984741211, \"close\": 78.47000122070312, \"adjclose\": 77.7686538696289, \"volume\": 903000.0, \"ticker\": \"VDE\", \"date\": \"2021-06-08T00:00:00\"}, {\"open\": 78.8499984741211, \"high\": 79.12000274658203, \"low\": 78.0, \"close\": 78.05999755859375, \"adjclose\": 77.36231231689453, \"volume\": 741800.0, \"ticker\": \"VDE\", \"date\": \"2021-06-09T00:00:00\"}, {\"open\": 79.05000305175781, \"high\": 79.41999816894531, \"low\": 77.04000091552734, \"close\": 77.94000244140625, \"adjclose\": 77.24339294433594, \"volume\": 919500.0, \"ticker\": \"VDE\", \"date\": \"2021-06-10T00:00:00\"}, {\"open\": 78.36000061035156, \"high\": 78.7300033569336, \"low\": 77.70999908447266, \"close\": 77.76000213623047, \"adjclose\": 77.06500244140625, \"volume\": 957700.0, \"ticker\": \"VDE\", \"date\": \"2021-06-11T00:00:00\"}, {\"open\": 78.25, \"high\": 78.69000244140625, \"low\": 76.9000015258789, \"close\": 77.41999816894531, \"adjclose\": 76.72803497314453, \"volume\": 1107700.0, \"ticker\": \"VDE\", \"date\": \"2021-06-14T00:00:00\"}, {\"open\": 77.94999694824219, \"high\": 79.08000183105469, \"low\": 77.80000305175781, \"close\": 78.97000122070312, \"adjclose\": 78.2641830444336, \"volume\": 916700.0, \"ticker\": \"VDE\", \"date\": \"2021-06-15T00:00:00\"}, {\"open\": 78.8499984741211, \"high\": 79.48999786376953, \"low\": 77.88999938964844, \"close\": 78.69999694824219, \"adjclose\": 77.99659729003906, \"volume\": 970200.0, \"ticker\": \"VDE\", \"date\": \"2021-06-16T00:00:00\"}, {\"open\": 78.4000015258789, \"high\": 79.04000091552734, \"low\": 74.66000366210938, \"close\": 75.73999786376953, \"adjclose\": 75.06304931640625, \"volume\": 1630900.0, \"ticker\": \"VDE\", \"date\": \"2021-06-17T00:00:00\"}, {\"open\": 74.08999633789062, \"high\": 75.19000244140625, \"low\": 73.55999755859375, \"close\": 73.62000274658203, \"adjclose\": 72.96200561523438, \"volume\": 1403500.0, \"ticker\": \"VDE\", \"date\": \"2021-06-18T00:00:00\"}, {\"open\": 73.68000030517578, \"high\": 76.20999908447266, \"low\": 73.68000030517578, \"close\": 76.06999969482422, \"adjclose\": 76.06999969482422, \"volume\": 1250400.0, \"ticker\": \"VDE\", \"date\": \"2021-06-21T00:00:00\"}, {\"open\": 75.95999908447266, \"high\": 76.87999725341797, \"low\": 75.06999969482422, \"close\": 76.62999725341797, \"adjclose\": 76.62999725341797, \"volume\": 780800.0, \"ticker\": \"VDE\", \"date\": \"2021-06-22T00:00:00\"}, {\"open\": 77.44000244140625, \"high\": 78.25, \"low\": 76.81999969482422, \"close\": 76.8499984741211, \"adjclose\": 76.8499984741211, \"volume\": 634000.0, \"ticker\": \"VDE\", \"date\": \"2021-06-23T00:00:00\"}, {\"open\": 77.27999877929688, \"high\": 77.66999816894531, \"low\": 76.52999877929688, \"close\": 77.55000305175781, \"adjclose\": 77.55000305175781, \"volume\": 766400.0, \"ticker\": \"VDE\", \"date\": \"2021-06-24T00:00:00\"}, {\"open\": 77.9800033569336, \"high\": 78.0999984741211, \"low\": 77.45999908447266, \"close\": 77.87999725341797, \"adjclose\": 77.87999725341797, \"volume\": 576000.0, \"ticker\": \"VDE\", \"date\": \"2021-06-25T00:00:00\"}, {\"open\": 77.69999694824219, \"high\": 77.69999694824219, \"low\": 74.97000122070312, \"close\": 75.30000305175781, \"adjclose\": 75.30000305175781, \"volume\": 790900.0, \"ticker\": \"VDE\", \"date\": \"2021-06-28T00:00:00\"}, {\"open\": 75.86000061035156, \"high\": 76.23999786376953, \"low\": 74.87999725341797, \"close\": 74.9000015258789, \"adjclose\": 74.9000015258789, \"volume\": 1041000.0, \"ticker\": \"VDE\", \"date\": \"2021-06-29T00:00:00\"}, {\"open\": 75.29000091552734, \"high\": 76.16999816894531, \"low\": 75.18000030517578, \"close\": 75.88999938964844, \"adjclose\": 75.88999938964844, \"volume\": 653400.0, \"ticker\": \"VDE\", \"date\": \"2021-06-30T00:00:00\"}, {\"open\": 77.7300033569336, \"high\": 77.9000015258789, \"low\": 76.62000274658203, \"close\": 77.26000213623047, \"adjclose\": 77.26000213623047, \"volume\": 916100.0, \"ticker\": \"VDE\", \"date\": \"2021-07-01T00:00:00\"}]}}, {\"mode\": \"vega-lite\"});\n",
       "</script>"
      ],
      "text/plain": [
       "alt.Chart(...)"
      ]
     },
     "execution_count": 9,
     "metadata": {},
     "output_type": "execute_result"
    }
   ],
   "source": [
    "alt.Chart(hold_stock_detail[hold_stock_detail.ticker!='SPCE']).mark_line().encode(x='date',y='volume', color = 'ticker:N')"
   ]
  },
  {
   "cell_type": "markdown",
   "metadata": {},
   "source": [
    "## Watch List"
   ]
  },
  {
   "cell_type": "code",
   "execution_count": 6,
   "metadata": {},
   "outputs": [
    {
     "data": {
      "text/html": [
       "<div>\n",
       "<style scoped>\n",
       "    .dataframe tbody tr th:only-of-type {\n",
       "        vertical-align: middle;\n",
       "    }\n",
       "\n",
       "    .dataframe tbody tr th {\n",
       "        vertical-align: top;\n",
       "    }\n",
       "\n",
       "    .dataframe thead th {\n",
       "        text-align: right;\n",
       "    }\n",
       "</style>\n",
       "<table border=\"1\" class=\"dataframe\">\n",
       "  <thead>\n",
       "    <tr style=\"text-align: right;\">\n",
       "      <th></th>\n",
       "      <th>open</th>\n",
       "      <th>high</th>\n",
       "      <th>low</th>\n",
       "      <th>close</th>\n",
       "      <th>adjclose</th>\n",
       "      <th>volume</th>\n",
       "      <th>ticker</th>\n",
       "      <th>date</th>\n",
       "    </tr>\n",
       "  </thead>\n",
       "  <tbody>\n",
       "    <tr>\n",
       "      <th>2021-04-05</th>\n",
       "      <td>27.520000</td>\n",
       "      <td>27.985001</td>\n",
       "      <td>27.500000</td>\n",
       "      <td>27.610001</td>\n",
       "      <td>27.610001</td>\n",
       "      <td>5155400</td>\n",
       "      <td>JETS</td>\n",
       "      <td>2021-04-05</td>\n",
       "    </tr>\n",
       "    <tr>\n",
       "      <th>2021-04-06</th>\n",
       "      <td>27.719999</td>\n",
       "      <td>28.049999</td>\n",
       "      <td>27.650999</td>\n",
       "      <td>27.840000</td>\n",
       "      <td>27.840000</td>\n",
       "      <td>4328100</td>\n",
       "      <td>JETS</td>\n",
       "      <td>2021-04-06</td>\n",
       "    </tr>\n",
       "    <tr>\n",
       "      <th>2021-04-07</th>\n",
       "      <td>27.920000</td>\n",
       "      <td>28.025000</td>\n",
       "      <td>27.459999</td>\n",
       "      <td>27.570000</td>\n",
       "      <td>27.570000</td>\n",
       "      <td>3561700</td>\n",
       "      <td>JETS</td>\n",
       "      <td>2021-04-07</td>\n",
       "    </tr>\n",
       "  </tbody>\n",
       "</table>\n",
       "</div>"
      ],
      "text/plain": [
       "                 open       high        low      close   adjclose   volume  \\\n",
       "2021-04-05  27.520000  27.985001  27.500000  27.610001  27.610001  5155400   \n",
       "2021-04-06  27.719999  28.049999  27.650999  27.840000  27.840000  4328100   \n",
       "2021-04-07  27.920000  28.025000  27.459999  27.570000  27.570000  3561700   \n",
       "\n",
       "           ticker       date  \n",
       "2021-04-05   JETS 2021-04-05  \n",
       "2021-04-06   JETS 2021-04-06  \n",
       "2021-04-07   JETS 2021-04-07  "
      ]
     },
     "execution_count": 6,
     "metadata": {},
     "output_type": "execute_result"
    }
   ],
   "source": [
    "watchlist = pd.read_excel(os.path.join(path,file), sheet_name = 'watchlist')\n",
    "watchlist_df = get_stock_details(watchlist[\"ticker\"].unique(), lstqtr, td)\n",
    "watchlist_df.head(3)"
   ]
  },
  {
   "cell_type": "code",
   "execution_count": 11,
   "metadata": {},
   "outputs": [
    {
     "data": {
      "text/html": [
       "\n",
       "<div id=\"altair-viz-99a8fd01e67b4fecbf0706621c3c124d\"></div>\n",
       "<script type=\"text/javascript\">\n",
       "  (function(spec, embedOpt){\n",
       "    let outputDiv = document.currentScript.previousElementSibling;\n",
       "    if (outputDiv.id !== \"altair-viz-99a8fd01e67b4fecbf0706621c3c124d\") {\n",
       "      outputDiv = document.getElementById(\"altair-viz-99a8fd01e67b4fecbf0706621c3c124d\");\n",
       "    }\n",
       "    const paths = {\n",
       "      \"vega\": \"https://cdn.jsdelivr.net/npm//vega@5?noext\",\n",
       "      \"vega-lib\": \"https://cdn.jsdelivr.net/npm//vega-lib?noext\",\n",
       "      \"vega-lite\": \"https://cdn.jsdelivr.net/npm//vega-lite@4.8.1?noext\",\n",
       "      \"vega-embed\": \"https://cdn.jsdelivr.net/npm//vega-embed@6?noext\",\n",
       "    };\n",
       "\n",
       "    function loadScript(lib) {\n",
       "      return new Promise(function(resolve, reject) {\n",
       "        var s = document.createElement('script');\n",
       "        s.src = paths[lib];\n",
       "        s.async = true;\n",
       "        s.onload = () => resolve(paths[lib]);\n",
       "        s.onerror = () => reject(`Error loading script: ${paths[lib]}`);\n",
       "        document.getElementsByTagName(\"head\")[0].appendChild(s);\n",
       "      });\n",
       "    }\n",
       "\n",
       "    function showError(err) {\n",
       "      outputDiv.innerHTML = `<div class=\"error\" style=\"color:red;\">${err}</div>`;\n",
       "      throw err;\n",
       "    }\n",
       "\n",
       "    function displayChart(vegaEmbed) {\n",
       "      vegaEmbed(outputDiv, spec, embedOpt)\n",
       "        .catch(err => showError(`Javascript Error: ${err.message}<br>This usually means there's a typo in your chart specification. See the javascript console for the full traceback.`));\n",
       "    }\n",
       "\n",
       "    if(typeof define === \"function\" && define.amd) {\n",
       "      requirejs.config({paths});\n",
       "      require([\"vega-embed\"], displayChart, err => showError(`Error loading script: ${err.message}`));\n",
       "    } else if (typeof vegaEmbed === \"function\") {\n",
       "      displayChart(vegaEmbed);\n",
       "    } else {\n",
       "      loadScript(\"vega\")\n",
       "        .then(() => loadScript(\"vega-lite\"))\n",
       "        .then(() => loadScript(\"vega-embed\"))\n",
       "        .catch(showError)\n",
       "        .then(() => displayChart(vegaEmbed));\n",
       "    }\n",
       "  })({\"config\": {\"view\": {\"continuousWidth\": 400, \"continuousHeight\": 300}}, \"data\": {\"name\": \"data-c9ac82703c8f3aded7fd62a848ac7043\"}, \"mark\": \"line\", \"encoding\": {\"color\": {\"type\": \"nominal\", \"field\": \"ticker\"}, \"x\": {\"type\": \"temporal\", \"field\": \"date\"}, \"y\": {\"type\": \"quantitative\", \"field\": \"volume\"}}, \"$schema\": \"https://vega.github.io/schema/vega-lite/v4.8.1.json\", \"datasets\": {\"data-c9ac82703c8f3aded7fd62a848ac7043\": [{\"open\": 27.520000457763672, \"high\": 27.985000610351562, \"low\": 27.5, \"close\": 27.610000610351562, \"adjclose\": 27.610000610351562, \"volume\": 5155400, \"ticker\": \"JETS\", \"date\": \"2021-04-05T00:00:00\"}, {\"open\": 27.719999313354492, \"high\": 28.049999237060547, \"low\": 27.650999069213867, \"close\": 27.84000015258789, \"adjclose\": 27.84000015258789, \"volume\": 4328100, \"ticker\": \"JETS\", \"date\": \"2021-04-06T00:00:00\"}, {\"open\": 27.920000076293945, \"high\": 28.024999618530273, \"low\": 27.459999084472656, \"close\": 27.56999969482422, \"adjclose\": 27.56999969482422, \"volume\": 3561700, \"ticker\": \"JETS\", \"date\": \"2021-04-07T00:00:00\"}, {\"open\": 27.479999542236328, \"high\": 27.520000457763672, \"low\": 26.96500015258789, \"close\": 27.489999771118164, \"adjclose\": 27.489999771118164, \"volume\": 6125400, \"ticker\": \"JETS\", \"date\": \"2021-04-08T00:00:00\"}, {\"open\": 27.299999237060547, \"high\": 27.389999389648438, \"low\": 27.100000381469727, \"close\": 27.299999237060547, \"adjclose\": 27.299999237060547, \"volume\": 3303300, \"ticker\": \"JETS\", \"date\": \"2021-04-09T00:00:00\"}, {\"open\": 27.052000045776367, \"high\": 27.094999313354492, \"low\": 26.649999618530273, \"close\": 26.780000686645508, \"adjclose\": 26.780000686645508, \"volume\": 5252200, \"ticker\": \"JETS\", \"date\": \"2021-04-12T00:00:00\"}, {\"open\": 26.510000228881836, \"high\": 26.829999923706055, \"low\": 25.950000762939453, \"close\": 26.809999465942383, \"adjclose\": 26.809999465942383, \"volume\": 6060100, \"ticker\": \"JETS\", \"date\": \"2021-04-13T00:00:00\"}, {\"open\": 27.010000228881836, \"high\": 27.360000610351562, \"low\": 26.71500015258789, \"close\": 26.829999923706055, \"adjclose\": 26.829999923706055, \"volume\": 6533200, \"ticker\": \"JETS\", \"date\": \"2021-04-14T00:00:00\"}, {\"open\": 27.020000457763672, \"high\": 27.1200008392334, \"low\": 26.389999389648438, \"close\": 26.579999923706055, \"adjclose\": 26.579999923706055, \"volume\": 4160700, \"ticker\": \"JETS\", \"date\": \"2021-04-15T00:00:00\"}, {\"open\": 26.649999618530273, \"high\": 26.790000915527344, \"low\": 26.360000610351562, \"close\": 26.440000534057617, \"adjclose\": 26.440000534057617, \"volume\": 4133600, \"ticker\": \"JETS\", \"date\": \"2021-04-16T00:00:00\"}, {\"open\": 26.3799991607666, \"high\": 26.381000518798828, \"low\": 26.040000915527344, \"close\": 26.110000610351562, \"adjclose\": 26.110000610351562, \"volume\": 3336800, \"ticker\": \"JETS\", \"date\": \"2021-04-19T00:00:00\"}, {\"open\": 25.850000381469727, \"high\": 25.93000030517578, \"low\": 24.81999969482422, \"close\": 25.040000915527344, \"adjclose\": 25.040000915527344, \"volume\": 7315000, \"ticker\": \"JETS\", \"date\": \"2021-04-20T00:00:00\"}, {\"open\": 24.850000381469727, \"high\": 25.65999984741211, \"low\": 24.56999969482422, \"close\": 25.6299991607666, \"adjclose\": 25.6299991607666, \"volume\": 4383200, \"ticker\": \"JETS\", \"date\": \"2021-04-21T00:00:00\"}, {\"open\": 25.969999313354492, \"high\": 26.0, \"low\": 25.270000457763672, \"close\": 25.329999923706055, \"adjclose\": 25.329999923706055, \"volume\": 3581800, \"ticker\": \"JETS\", \"date\": \"2021-04-22T00:00:00\"}, {\"open\": 25.43000030517578, \"high\": 26.0, \"low\": 25.34000015258789, \"close\": 25.950000762939453, \"adjclose\": 25.950000762939453, \"volume\": 3146600, \"ticker\": \"JETS\", \"date\": \"2021-04-23T00:00:00\"}, {\"open\": 26.229999542236328, \"high\": 26.5, \"low\": 26.149999618530273, \"close\": 26.329999923706055, \"adjclose\": 26.329999923706055, \"volume\": 4366600, \"ticker\": \"JETS\", \"date\": \"2021-04-26T00:00:00\"}, {\"open\": 26.299999237060547, \"high\": 26.34000015258789, \"low\": 26.05500030517578, \"close\": 26.200000762939453, \"adjclose\": 26.200000762939453, \"volume\": 2431000, \"ticker\": \"JETS\", \"date\": \"2021-04-27T00:00:00\"}, {\"open\": 26.1200008392334, \"high\": 26.2549991607666, \"low\": 26.010000228881836, \"close\": 26.079999923706055, \"adjclose\": 26.079999923706055, \"volume\": 2337700, \"ticker\": \"JETS\", \"date\": \"2021-04-28T00:00:00\"}, {\"open\": 26.290000915527344, \"high\": 26.381999969482422, \"low\": 25.8799991607666, \"close\": 26.040000915527344, \"adjclose\": 26.040000915527344, \"volume\": 2584400, \"ticker\": \"JETS\", \"date\": \"2021-04-29T00:00:00\"}, {\"open\": 25.829999923706055, \"high\": 26.34000015258789, \"low\": 25.809999465942383, \"close\": 26.079999923706055, \"adjclose\": 26.079999923706055, \"volume\": 2740900, \"ticker\": \"JETS\", \"date\": \"2021-04-30T00:00:00\"}, {\"open\": 26.34000015258789, \"high\": 26.34000015258789, \"low\": 25.969999313354492, \"close\": 26.15999984741211, \"adjclose\": 26.15999984741211, \"volume\": 4574400, \"ticker\": \"JETS\", \"date\": \"2021-05-03T00:00:00\"}, {\"open\": 25.940000534057617, \"high\": 26.09000015258789, \"low\": 25.364999771118164, \"close\": 25.59000015258789, \"adjclose\": 25.59000015258789, \"volume\": 3412500, \"ticker\": \"JETS\", \"date\": \"2021-05-04T00:00:00\"}, {\"open\": 25.639999389648438, \"high\": 26.014999389648438, \"low\": 25.562999725341797, \"close\": 25.729999542236328, \"adjclose\": 25.729999542236328, \"volume\": 2666200, \"ticker\": \"JETS\", \"date\": \"2021-05-05T00:00:00\"}, {\"open\": 25.709999084472656, \"high\": 25.795000076293945, \"low\": 25.30500030517578, \"close\": 25.6200008392334, \"adjclose\": 25.6200008392334, \"volume\": 3784900, \"ticker\": \"JETS\", \"date\": \"2021-05-06T00:00:00\"}, {\"open\": 25.6200008392334, \"high\": 26.239999771118164, \"low\": 25.520000457763672, \"close\": 26.170000076293945, \"adjclose\": 26.170000076293945, \"volume\": 3183200, \"ticker\": \"JETS\", \"date\": \"2021-05-07T00:00:00\"}, {\"open\": 26.25, \"high\": 26.420000076293945, \"low\": 25.920000076293945, \"close\": 25.93000030517578, \"adjclose\": 25.93000030517578, \"volume\": 3705500, \"ticker\": \"JETS\", \"date\": \"2021-05-10T00:00:00\"}, {\"open\": 25.239999771118164, \"high\": 25.649999618530273, \"low\": 25.0, \"close\": 25.530000686645508, \"adjclose\": 25.530000686645508, \"volume\": 6357000, \"ticker\": \"JETS\", \"date\": \"2021-05-11T00:00:00\"}, {\"open\": 25.270000457763672, \"high\": 25.610000610351562, \"low\": 24.7450008392334, \"close\": 24.780000686645508, \"adjclose\": 24.780000686645508, \"volume\": 5817800, \"ticker\": \"JETS\", \"date\": \"2021-05-12T00:00:00\"}, {\"open\": 25.100000381469727, \"high\": 25.451000213623047, \"low\": 24.85099983215332, \"close\": 25.290000915527344, \"adjclose\": 25.290000915527344, \"volume\": 4284300, \"ticker\": \"JETS\", \"date\": \"2021-05-13T00:00:00\"}, {\"open\": 25.530000686645508, \"high\": 26.299999237060547, \"low\": 25.5, \"close\": 26.280000686645508, \"adjclose\": 26.280000686645508, \"volume\": 3661000, \"ticker\": \"JETS\", \"date\": \"2021-05-14T00:00:00\"}, {\"open\": 26.200000762939453, \"high\": 26.600000381469727, \"low\": 25.850000381469727, \"close\": 26.549999237060547, \"adjclose\": 26.549999237060547, \"volume\": 7019100, \"ticker\": \"JETS\", \"date\": \"2021-05-17T00:00:00\"}, {\"open\": 26.68000030517578, \"high\": 27.0, \"low\": 26.469999313354492, \"close\": 26.56999969482422, \"adjclose\": 26.56999969482422, \"volume\": 4111900, \"ticker\": \"JETS\", \"date\": \"2021-05-18T00:00:00\"}, {\"open\": 26.030000686645508, \"high\": 26.399999618530273, \"low\": 25.799999237060547, \"close\": 26.270000457763672, \"adjclose\": 26.270000457763672, \"volume\": 5188100, \"ticker\": \"JETS\", \"date\": \"2021-05-19T00:00:00\"}, {\"open\": 26.3799991607666, \"high\": 26.399999618530273, \"low\": 25.770000457763672, \"close\": 26.030000686645508, \"adjclose\": 26.030000686645508, \"volume\": 4709200, \"ticker\": \"JETS\", \"date\": \"2021-05-20T00:00:00\"}, {\"open\": 26.200000762939453, \"high\": 26.325000762939453, \"low\": 25.940000534057617, \"close\": 25.940000534057617, \"adjclose\": 25.940000534057617, \"volume\": 2394800, \"ticker\": \"JETS\", \"date\": \"2021-05-21T00:00:00\"}, {\"open\": 26.18000030517578, \"high\": 26.360000610351562, \"low\": 25.940000534057617, \"close\": 26.309999465942383, \"adjclose\": 26.309999465942383, \"volume\": 2208900, \"ticker\": \"JETS\", \"date\": \"2021-05-24T00:00:00\"}, {\"open\": 26.6200008392334, \"high\": 26.989999771118164, \"low\": 26.18000030517578, \"close\": 26.209999084472656, \"adjclose\": 26.209999084472656, \"volume\": 6565100, \"ticker\": \"JETS\", \"date\": \"2021-05-25T00:00:00\"}, {\"open\": 26.469999313354492, \"high\": 26.81999969482422, \"low\": 26.3700008392334, \"close\": 26.780000686645508, \"adjclose\": 26.780000686645508, \"volume\": 4475100, \"ticker\": \"JETS\", \"date\": \"2021-05-26T00:00:00\"}, {\"open\": 27.0, \"high\": 27.1200008392334, \"low\": 26.780000686645508, \"close\": 27.06999969482422, \"adjclose\": 27.06999969482422, \"volume\": 4087100, \"ticker\": \"JETS\", \"date\": \"2021-05-27T00:00:00\"}, {\"open\": 27.09000015258789, \"high\": 27.100000381469727, \"low\": 26.739999771118164, \"close\": 26.850000381469727, \"adjclose\": 26.850000381469727, \"volume\": 2598200, \"ticker\": \"JETS\", \"date\": \"2021-05-28T00:00:00\"}, {\"open\": 27.229999542236328, \"high\": 27.441999435424805, \"low\": 27.030000686645508, \"close\": 27.170000076293945, \"adjclose\": 27.170000076293945, \"volume\": 5800000, \"ticker\": \"JETS\", \"date\": \"2021-06-01T00:00:00\"}, {\"open\": 27.25, \"high\": 27.389999389648438, \"low\": 27.1299991607666, \"close\": 27.260000228881836, \"adjclose\": 27.260000228881836, \"volume\": 4517600, \"ticker\": \"JETS\", \"date\": \"2021-06-02T00:00:00\"}, {\"open\": 26.829999923706055, \"high\": 27.0, \"low\": 26.440000534057617, \"close\": 26.450000762939453, \"adjclose\": 26.450000762939453, \"volume\": 5843400, \"ticker\": \"JETS\", \"date\": \"2021-06-03T00:00:00\"}, {\"open\": 26.639999389648438, \"high\": 26.690000534057617, \"low\": 26.270000457763672, \"close\": 26.389999389648438, \"adjclose\": 26.389999389648438, \"volume\": 4138800, \"ticker\": \"JETS\", \"date\": \"2021-06-04T00:00:00\"}, {\"open\": 26.520000457763672, \"high\": 26.700000762939453, \"low\": 26.360000610351562, \"close\": 26.420000076293945, \"adjclose\": 26.420000076293945, \"volume\": 2795900, \"ticker\": \"JETS\", \"date\": \"2021-06-07T00:00:00\"}, {\"open\": 26.610000610351562, \"high\": 26.78499984741211, \"low\": 26.420000076293945, \"close\": 26.670000076293945, \"adjclose\": 26.670000076293945, \"volume\": 2588300, \"ticker\": \"JETS\", \"date\": \"2021-06-08T00:00:00\"}, {\"open\": 26.950000762939453, \"high\": 26.950000762939453, \"low\": 26.5, \"close\": 26.520000457763672, \"adjclose\": 26.520000457763672, \"volume\": 2934000, \"ticker\": \"JETS\", \"date\": \"2021-06-09T00:00:00\"}, {\"open\": 26.780000686645508, \"high\": 26.81999969482422, \"low\": 26.149999618530273, \"close\": 26.239999771118164, \"adjclose\": 26.239999771118164, \"volume\": 4398400, \"ticker\": \"JETS\", \"date\": \"2021-06-10T00:00:00\"}, {\"open\": 26.309999465942383, \"high\": 26.40999984741211, \"low\": 26.22100067138672, \"close\": 26.329999923706055, \"adjclose\": 26.329999923706055, \"volume\": 1528500, \"ticker\": \"JETS\", \"date\": \"2021-06-11T00:00:00\"}, {\"open\": 26.290000915527344, \"high\": 26.3700008392334, \"low\": 25.899999618530273, \"close\": 25.959999084472656, \"adjclose\": 25.959999084472656, \"volume\": 3982500, \"ticker\": \"JETS\", \"date\": \"2021-06-14T00:00:00\"}, {\"open\": 25.989999771118164, \"high\": 26.059999465942383, \"low\": 25.700000762939453, \"close\": 25.81999969482422, \"adjclose\": 25.81999969482422, \"volume\": 2968700, \"ticker\": \"JETS\", \"date\": \"2021-06-15T00:00:00\"}, {\"open\": 25.81999969482422, \"high\": 26.020000457763672, \"low\": 25.610000610351562, \"close\": 25.760000228881836, \"adjclose\": 25.760000228881836, \"volume\": 2545700, \"ticker\": \"JETS\", \"date\": \"2021-06-16T00:00:00\"}, {\"open\": 25.809999465942383, \"high\": 26.020000457763672, \"low\": 25.145000457763672, \"close\": 25.3700008392334, \"adjclose\": 25.3700008392334, \"volume\": 4849400, \"ticker\": \"JETS\", \"date\": \"2021-06-17T00:00:00\"}, {\"open\": 25.200000762939453, \"high\": 25.40999984741211, \"low\": 25.0, \"close\": 25.219999313354492, \"adjclose\": 25.219999313354492, \"volume\": 3243700, \"ticker\": \"JETS\", \"date\": \"2021-06-18T00:00:00\"}, {\"open\": 25.290000915527344, \"high\": 25.670000076293945, \"low\": 25.190000534057617, \"close\": 25.6299991607666, \"adjclose\": 25.6299991607666, \"volume\": 4436700, \"ticker\": \"JETS\", \"date\": \"2021-06-21T00:00:00\"}, {\"open\": 25.600000381469727, \"high\": 25.649999618530273, \"low\": 25.100000381469727, \"close\": 25.389999389648438, \"adjclose\": 25.389999389648438, \"volume\": 3956800, \"ticker\": \"JETS\", \"date\": \"2021-06-22T00:00:00\"}, {\"open\": 25.3799991607666, \"high\": 25.459999084472656, \"low\": 25.329999923706055, \"close\": 25.350000381469727, \"adjclose\": 25.350000381469727, \"volume\": 1565600, \"ticker\": \"JETS\", \"date\": \"2021-06-23T00:00:00\"}, {\"open\": 25.440000534057617, \"high\": 25.469999313354492, \"low\": 25.114999771118164, \"close\": 25.299999237060547, \"adjclose\": 25.299999237060547, \"volume\": 2295500, \"ticker\": \"JETS\", \"date\": \"2021-06-24T00:00:00\"}, {\"open\": 25.350000381469727, \"high\": 25.360000610351562, \"low\": 25.020000457763672, \"close\": 25.049999237060547, \"adjclose\": 25.049999237060547, \"volume\": 2960900, \"ticker\": \"JETS\", \"date\": \"2021-06-25T00:00:00\"}, {\"open\": 24.920000076293945, \"high\": 24.950000762939453, \"low\": 24.209999084472656, \"close\": 24.309999465942383, \"adjclose\": 24.309999465942383, \"volume\": 5557300, \"ticker\": \"JETS\", \"date\": \"2021-06-28T00:00:00\"}, {\"open\": 24.290000915527344, \"high\": 24.350000381469727, \"low\": 24.049999237060547, \"close\": 24.06999969482422, \"adjclose\": 24.06999969482422, \"volume\": 3902700, \"ticker\": \"JETS\", \"date\": \"2021-06-29T00:00:00\"}, {\"open\": 24.100000381469727, \"high\": 24.360000610351562, \"low\": 24.020000457763672, \"close\": 24.18000030517578, \"adjclose\": 24.18000030517578, \"volume\": 2934700, \"ticker\": \"JETS\", \"date\": \"2021-06-30T00:00:00\"}, {\"open\": 24.40999984741211, \"high\": 24.709999084472656, \"low\": 24.350000381469727, \"close\": 24.6200008392334, \"adjclose\": 24.6200008392334, \"volume\": 4687100, \"ticker\": \"JETS\", \"date\": \"2021-07-01T00:00:00\"}, {\"open\": 2410.0, \"high\": 2436.8798828125, \"low\": 2386.860107421875, \"close\": 2409.179931640625, \"adjclose\": 2409.179931640625, \"volume\": 342300, \"ticker\": \"BKNG\", \"date\": \"2021-04-05T00:00:00\"}, {\"open\": 2415.0, \"high\": 2447.409912109375, \"low\": 2407.22998046875, \"close\": 2422.0, \"adjclose\": 2422.0, \"volume\": 411100, \"ticker\": \"BKNG\", \"date\": \"2021-04-06T00:00:00\"}, {\"open\": 2429.06005859375, \"high\": 2440.2099609375, \"low\": 2395.570068359375, \"close\": 2410.639892578125, \"adjclose\": 2410.639892578125, \"volume\": 235500, \"ticker\": \"BKNG\", \"date\": \"2021-04-07T00:00:00\"}, {\"open\": 2392.0, \"high\": 2435.429931640625, \"low\": 2392.0, \"close\": 2427.989990234375, \"adjclose\": 2427.989990234375, \"volume\": 222000, \"ticker\": \"BKNG\", \"date\": \"2021-04-08T00:00:00\"}, {\"open\": 2434.0, \"high\": 2454.719970703125, \"low\": 2405.550048828125, \"close\": 2450.06005859375, \"adjclose\": 2450.06005859375, \"volume\": 239800, \"ticker\": \"BKNG\", \"date\": \"2021-04-09T00:00:00\"}, {\"open\": 2436.0, \"high\": 2450.199951171875, \"low\": 2396.489990234375, \"close\": 2409.050048828125, \"adjclose\": 2409.050048828125, \"volume\": 551400, \"ticker\": \"BKNG\", \"date\": \"2021-04-12T00:00:00\"}, {\"open\": 2403.919921875, \"high\": 2415.7900390625, \"low\": 2367.14990234375, \"close\": 2404.2900390625, \"adjclose\": 2404.2900390625, \"volume\": 789700, \"ticker\": \"BKNG\", \"date\": \"2021-04-13T00:00:00\"}, {\"open\": 2413.10009765625, \"high\": 2482.820068359375, \"low\": 2407.47998046875, \"close\": 2454.219970703125, \"adjclose\": 2454.219970703125, \"volume\": 939600, \"ticker\": \"BKNG\", \"date\": \"2021-04-14T00:00:00\"}, {\"open\": 2467.5400390625, \"high\": 2468.929931640625, \"low\": 2426.179931640625, \"close\": 2433.2099609375, \"adjclose\": 2433.2099609375, \"volume\": 639300, \"ticker\": \"BKNG\", \"date\": \"2021-04-15T00:00:00\"}, {\"open\": 2443.72998046875, \"high\": 2489.409912109375, \"low\": 2435.830078125, \"close\": 2476.89990234375, \"adjclose\": 2476.89990234375, \"volume\": 783500, \"ticker\": \"BKNG\", \"date\": \"2021-04-16T00:00:00\"}, {\"open\": 2480.429931640625, \"high\": 2488.320068359375, \"low\": 2443.110107421875, \"close\": 2456.199951171875, \"adjclose\": 2456.199951171875, \"volume\": 327000, \"ticker\": \"BKNG\", \"date\": \"2021-04-19T00:00:00\"}, {\"open\": 2433.75, \"high\": 2436.489990234375, \"low\": 2317.2900390625, \"close\": 2345.0, \"adjclose\": 2345.0, \"volume\": 477700, \"ticker\": \"BKNG\", \"date\": \"2021-04-20T00:00:00\"}, {\"open\": 2359.919921875, \"high\": 2365.989990234375, \"low\": 2343.06005859375, \"close\": 2357.72998046875, \"adjclose\": 2357.72998046875, \"volume\": 280800, \"ticker\": \"BKNG\", \"date\": \"2021-04-21T00:00:00\"}, {\"open\": 2353.719970703125, \"high\": 2395.0, \"low\": 2343.0, \"close\": 2347.050048828125, \"adjclose\": 2347.050048828125, \"volume\": 287500, \"ticker\": \"BKNG\", \"date\": \"2021-04-22T00:00:00\"}, {\"open\": 2367.18994140625, \"high\": 2404.330078125, \"low\": 2350.4599609375, \"close\": 2395.429931640625, \"adjclose\": 2395.429931640625, \"volume\": 253700, \"ticker\": \"BKNG\", \"date\": \"2021-04-23T00:00:00\"}, {\"open\": 2424.889892578125, \"high\": 2460.929931640625, \"low\": 2407.0, \"close\": 2458.25, \"adjclose\": 2458.25, \"volume\": 323300, \"ticker\": \"BKNG\", \"date\": \"2021-04-26T00:00:00\"}, {\"open\": 2458.0, \"high\": 2469.1201171875, \"low\": 2441.669921875, \"close\": 2464.14990234375, \"adjclose\": 2464.14990234375, \"volume\": 220700, \"ticker\": \"BKNG\", \"date\": \"2021-04-27T00:00:00\"}, {\"open\": 2475.0, \"high\": 2514.989990234375, \"low\": 2461.0, \"close\": 2505.10009765625, \"adjclose\": 2505.10009765625, \"volume\": 323500, \"ticker\": \"BKNG\", \"date\": \"2021-04-28T00:00:00\"}, {\"open\": 2507.469970703125, \"high\": 2516.0, \"low\": 2476.010009765625, \"close\": 2501.429931640625, \"adjclose\": 2501.429931640625, \"volume\": 218800, \"ticker\": \"BKNG\", \"date\": \"2021-04-29T00:00:00\"}, {\"open\": 2497.699951171875, \"high\": 2497.699951171875, \"low\": 2436.139892578125, \"close\": 2466.080078125, \"adjclose\": 2466.080078125, \"volume\": 328100, \"ticker\": \"BKNG\", \"date\": \"2021-04-30T00:00:00\"}, {\"open\": 2484.070068359375, \"high\": 2486.989990234375, \"low\": 2435.31005859375, \"close\": 2440.43994140625, \"adjclose\": 2440.43994140625, \"volume\": 190100, \"ticker\": \"BKNG\", \"date\": \"2021-05-03T00:00:00\"}, {\"open\": 2409.7900390625, \"high\": 2427.820068359375, \"low\": 2368.830078125, \"close\": 2382.93994140625, \"adjclose\": 2382.93994140625, \"volume\": 339100, \"ticker\": \"BKNG\", \"date\": \"2021-05-04T00:00:00\"}, {\"open\": 2402.050048828125, \"high\": 2403.75, \"low\": 2327.18994140625, \"close\": 2337.919921875, \"adjclose\": 2337.919921875, \"volume\": 381500, \"ticker\": \"BKNG\", \"date\": \"2021-05-05T00:00:00\"}, {\"open\": 2297.7099609375, \"high\": 2324.0, \"low\": 2255.14990234375, \"close\": 2279.35009765625, \"adjclose\": 2279.35009765625, \"volume\": 432700, \"ticker\": \"BKNG\", \"date\": \"2021-05-06T00:00:00\"}, {\"open\": 2312.239990234375, \"high\": 2361.419921875, \"low\": 2290.739990234375, \"close\": 2327.080078125, \"adjclose\": 2327.080078125, \"volume\": 381600, \"ticker\": \"BKNG\", \"date\": \"2021-05-07T00:00:00\"}, {\"open\": 2331.639892578125, \"high\": 2333.0, \"low\": 2261.68994140625, \"close\": 2263.10009765625, \"adjclose\": 2263.10009765625, \"volume\": 382900, \"ticker\": \"BKNG\", \"date\": \"2021-05-10T00:00:00\"}, {\"open\": 2230.0, \"high\": 2262.77001953125, \"low\": 2205.080078125, \"close\": 2247.679931640625, \"adjclose\": 2247.679931640625, \"volume\": 418900, \"ticker\": \"BKNG\", \"date\": \"2021-05-11T00:00:00\"}, {\"open\": 2231.31005859375, \"high\": 2236.550048828125, \"low\": 2163.47998046875, \"close\": 2172.25, \"adjclose\": 2172.25, \"volume\": 417100, \"ticker\": \"BKNG\", \"date\": \"2021-05-12T00:00:00\"}, {\"open\": 2193.949951171875, \"high\": 2235.669921875, \"low\": 2162.14990234375, \"close\": 2207.27001953125, \"adjclose\": 2207.27001953125, \"volume\": 299500, \"ticker\": \"BKNG\", \"date\": \"2021-05-13T00:00:00\"}, {\"open\": 2251.1201171875, \"high\": 2291.85009765625, \"low\": 2227.409912109375, \"close\": 2282.47998046875, \"adjclose\": 2282.47998046875, \"volume\": 340400, \"ticker\": \"BKNG\", \"date\": \"2021-05-14T00:00:00\"}, {\"open\": 2261.5400390625, \"high\": 2275.5, \"low\": 2211.590087890625, \"close\": 2223.14990234375, \"adjclose\": 2223.14990234375, \"volume\": 322300, \"ticker\": \"BKNG\", \"date\": \"2021-05-17T00:00:00\"}, {\"open\": 2231.550048828125, \"high\": 2252.60009765625, \"low\": 2210.60009765625, \"close\": 2211.6201171875, \"adjclose\": 2211.6201171875, \"volume\": 344600, \"ticker\": \"BKNG\", \"date\": \"2021-05-18T00:00:00\"}, {\"open\": 2167.2900390625, \"high\": 2272.7099609375, \"low\": 2161.780029296875, \"close\": 2270.010009765625, \"adjclose\": 2270.010009765625, \"volume\": 405800, \"ticker\": \"BKNG\", \"date\": \"2021-05-19T00:00:00\"}, {\"open\": 2279.840087890625, \"high\": 2309.760009765625, \"low\": 2260.909912109375, \"close\": 2306.050048828125, \"adjclose\": 2306.050048828125, \"volume\": 311900, \"ticker\": \"BKNG\", \"date\": \"2021-05-20T00:00:00\"}, {\"open\": 2324.570068359375, \"high\": 2336.300048828125, \"low\": 2268.340087890625, \"close\": 2293.3798828125, \"adjclose\": 2293.3798828125, \"volume\": 263200, \"ticker\": \"BKNG\", \"date\": \"2021-05-21T00:00:00\"}, {\"open\": 2301.719970703125, \"high\": 2356.14990234375, \"low\": 2300.199951171875, \"close\": 2348.47998046875, \"adjclose\": 2348.47998046875, \"volume\": 332500, \"ticker\": \"BKNG\", \"date\": \"2021-05-24T00:00:00\"}, {\"open\": 2357.5, \"high\": 2373.8798828125, \"low\": 2329.2900390625, \"close\": 2339.010009765625, \"adjclose\": 2339.010009765625, \"volume\": 278100, \"ticker\": \"BKNG\", \"date\": \"2021-05-25T00:00:00\"}, {\"open\": 2366.489990234375, \"high\": 2372.699951171875, \"low\": 2341.610107421875, \"close\": 2347.0, \"adjclose\": 2347.0, \"volume\": 293900, \"ticker\": \"BKNG\", \"date\": \"2021-05-26T00:00:00\"}, {\"open\": 2360.77001953125, \"high\": 2360.77001953125, \"low\": 2326.68994140625, \"close\": 2334.780029296875, \"adjclose\": 2334.780029296875, \"volume\": 689000, \"ticker\": \"BKNG\", \"date\": \"2021-05-27T00:00:00\"}, {\"open\": 2339.840087890625, \"high\": 2367.81005859375, \"low\": 2315.47998046875, \"close\": 2361.550048828125, \"adjclose\": 2361.550048828125, \"volume\": 232300, \"ticker\": \"BKNG\", \"date\": \"2021-05-28T00:00:00\"}, {\"open\": 2380.0, \"high\": 2380.2900390625, \"low\": 2316.050048828125, \"close\": 2328.280029296875, \"adjclose\": 2328.280029296875, \"volume\": 316000, \"ticker\": \"BKNG\", \"date\": \"2021-06-01T00:00:00\"}, {\"open\": 2339.699951171875, \"high\": 2356.5, \"low\": 2310.7099609375, \"close\": 2317.919921875, \"adjclose\": 2317.919921875, \"volume\": 292700, \"ticker\": \"BKNG\", \"date\": \"2021-06-02T00:00:00\"}, {\"open\": 2293.419921875, \"high\": 2327.050048828125, \"low\": 2262.0, \"close\": 2295.81005859375, \"adjclose\": 2295.81005859375, \"volume\": 283300, \"ticker\": \"BKNG\", \"date\": \"2021-06-03T00:00:00\"}, {\"open\": 2304.780029296875, \"high\": 2328.4599609375, \"low\": 2304.239990234375, \"close\": 2315.68994140625, \"adjclose\": 2315.68994140625, \"volume\": 173700, \"ticker\": \"BKNG\", \"date\": \"2021-06-04T00:00:00\"}, {\"open\": 2319.830078125, \"high\": 2341.1201171875, \"low\": 2291.56005859375, \"close\": 2298.52001953125, \"adjclose\": 2298.52001953125, \"volume\": 198800, \"ticker\": \"BKNG\", \"date\": \"2021-06-07T00:00:00\"}, {\"open\": 2300.419921875, \"high\": 2319.52001953125, \"low\": 2290.179931640625, \"close\": 2303.739990234375, \"adjclose\": 2303.739990234375, \"volume\": 233900, \"ticker\": \"BKNG\", \"date\": \"2021-06-08T00:00:00\"}, {\"open\": 2300.0, \"high\": 2330.340087890625, \"low\": 2294.760009765625, \"close\": 2314.06005859375, \"adjclose\": 2314.06005859375, \"volume\": 266400, \"ticker\": \"BKNG\", \"date\": \"2021-06-09T00:00:00\"}, {\"open\": 2307.330078125, \"high\": 2328.75, \"low\": 2282.8701171875, \"close\": 2324.449951171875, \"adjclose\": 2324.449951171875, \"volume\": 269400, \"ticker\": \"BKNG\", \"date\": \"2021-06-10T00:00:00\"}, {\"open\": 2313.89990234375, \"high\": 2327.929931640625, \"low\": 2293.419921875, \"close\": 2304.3701171875, \"adjclose\": 2304.3701171875, \"volume\": 291700, \"ticker\": \"BKNG\", \"date\": \"2021-06-11T00:00:00\"}, {\"open\": 2311.8701171875, \"high\": 2315.669921875, \"low\": 2290.85009765625, \"close\": 2305.0400390625, \"adjclose\": 2305.0400390625, \"volume\": 190200, \"ticker\": \"BKNG\", \"date\": \"2021-06-14T00:00:00\"}, {\"open\": 2302.3701171875, \"high\": 2333.0, \"low\": 2283.820068359375, \"close\": 2301.9599609375, \"adjclose\": 2301.9599609375, \"volume\": 212100, \"ticker\": \"BKNG\", \"date\": \"2021-06-15T00:00:00\"}, {\"open\": 2312.02001953125, \"high\": 2319.35009765625, \"low\": 2284.679931640625, \"close\": 2298.22998046875, \"adjclose\": 2298.22998046875, \"volume\": 167900, \"ticker\": \"BKNG\", \"date\": \"2021-06-16T00:00:00\"}, {\"open\": 2296.139892578125, \"high\": 2318.989990234375, \"low\": 2287.449951171875, \"close\": 2294.0, \"adjclose\": 2294.0, \"volume\": 247800, \"ticker\": \"BKNG\", \"date\": \"2021-06-17T00:00:00\"}, {\"open\": 2283.090087890625, \"high\": 2299.02001953125, \"low\": 2230.52001953125, \"close\": 2242.610107421875, \"adjclose\": 2242.610107421875, \"volume\": 482900, \"ticker\": \"BKNG\", \"date\": \"2021-06-18T00:00:00\"}, {\"open\": 2253.889892578125, \"high\": 2276.7099609375, \"low\": 2231.22998046875, \"close\": 2263.070068359375, \"adjclose\": 2263.070068359375, \"volume\": 203000, \"ticker\": \"BKNG\", \"date\": \"2021-06-21T00:00:00\"}, {\"open\": 2267.889892578125, \"high\": 2276.64990234375, \"low\": 2239.0, \"close\": 2250.89990234375, \"adjclose\": 2250.89990234375, \"volume\": 214400, \"ticker\": \"BKNG\", \"date\": \"2021-06-22T00:00:00\"}, {\"open\": 2251.0400390625, \"high\": 2261.030029296875, \"low\": 2232.72998046875, \"close\": 2246.280029296875, \"adjclose\": 2246.280029296875, \"volume\": 162200, \"ticker\": \"BKNG\", \"date\": \"2021-06-23T00:00:00\"}, {\"open\": 2267.68994140625, \"high\": 2267.969970703125, \"low\": 2234.550048828125, \"close\": 2246.22998046875, \"adjclose\": 2246.22998046875, \"volume\": 212300, \"ticker\": \"BKNG\", \"date\": \"2021-06-24T00:00:00\"}, {\"open\": 2257.89990234375, \"high\": 2299.3798828125, \"low\": 2246.4599609375, \"close\": 2281.659912109375, \"adjclose\": 2281.659912109375, \"volume\": 337200, \"ticker\": \"BKNG\", \"date\": \"2021-06-25T00:00:00\"}, {\"open\": 2249.75, \"high\": 2260.0, \"low\": 2171.610107421875, \"close\": 2204.550048828125, \"adjclose\": 2204.550048828125, \"volume\": 612200, \"ticker\": \"BKNG\", \"date\": \"2021-06-28T00:00:00\"}, {\"open\": 2192.320068359375, \"high\": 2196.8701171875, \"low\": 2165.89990234375, \"close\": 2172.18994140625, \"adjclose\": 2172.18994140625, \"volume\": 517700, \"ticker\": \"BKNG\", \"date\": \"2021-06-29T00:00:00\"}, {\"open\": 2178.5400390625, \"high\": 2220.0, \"low\": 2175.0, \"close\": 2188.090087890625, \"adjclose\": 2188.090087890625, \"volume\": 414700, \"ticker\": \"BKNG\", \"date\": \"2021-06-30T00:00:00\"}, {\"open\": 2194.669921875, \"high\": 2224.0, \"low\": 2194.669921875, \"close\": 2210.02001953125, \"adjclose\": 2210.02001953125, \"volume\": 245200, \"ticker\": \"BKNG\", \"date\": \"2021-07-01T00:00:00\"}]}}, {\"mode\": \"vega-lite\"});\n",
       "</script>"
      ],
      "text/plain": [
       "alt.Chart(...)"
      ]
     },
     "execution_count": 11,
     "metadata": {},
     "output_type": "execute_result"
    }
   ],
   "source": [
    "alt.Chart(watchlist_df).mark_line().encode(x='date',y='volume', color = 'ticker:N')"
   ]
  },
  {
   "cell_type": "code",
   "execution_count": 12,
   "metadata": {},
   "outputs": [
    {
     "data": {
      "text/plain": [
       "array(['JETS', 'BKNG'], dtype=object)"
      ]
     },
     "execution_count": 12,
     "metadata": {},
     "output_type": "execute_result"
    }
   ],
   "source": [
    "watchlist[\"ticker\"].unique()"
   ]
  },
  {
   "cell_type": "code",
   "execution_count": 93,
   "metadata": {},
   "outputs": [
    {
     "data": {
      "text/html": [
       "<div>\n",
       "<style scoped>\n",
       "    .dataframe tbody tr th:only-of-type {\n",
       "        vertical-align: middle;\n",
       "    }\n",
       "\n",
       "    .dataframe tbody tr th {\n",
       "        vertical-align: top;\n",
       "    }\n",
       "\n",
       "    .dataframe thead th {\n",
       "        text-align: right;\n",
       "    }\n",
       "</style>\n",
       "<table border=\"1\" class=\"dataframe\">\n",
       "  <thead>\n",
       "    <tr style=\"text-align: right;\">\n",
       "      <th></th>\n",
       "      <th>Value</th>\n",
       "    </tr>\n",
       "  </thead>\n",
       "  <tbody>\n",
       "    <tr>\n",
       "      <th>totalAssets</th>\n",
       "      <td>357703584</td>\n",
       "    </tr>\n",
       "    <tr>\n",
       "      <th>previousClose</th>\n",
       "      <td>29.85</td>\n",
       "    </tr>\n",
       "    <tr>\n",
       "      <th>open</th>\n",
       "      <td>30.03</td>\n",
       "    </tr>\n",
       "    <tr>\n",
       "      <th>fiftyDayAverage</th>\n",
       "      <td>30.5665</td>\n",
       "    </tr>\n",
       "    <tr>\n",
       "      <th>fiftyDayAverage</th>\n",
       "      <td>30.5665</td>\n",
       "    </tr>\n",
       "    <tr>\n",
       "      <th>fiftyTwoWeekLow</th>\n",
       "      <td>17.16</td>\n",
       "    </tr>\n",
       "    <tr>\n",
       "      <th>fiftyTwoWeekHigh</th>\n",
       "      <td>34.54</td>\n",
       "    </tr>\n",
       "    <tr>\n",
       "      <th>twoHundredDayAverage</th>\n",
       "      <td>29.611</td>\n",
       "    </tr>\n",
       "    <tr>\n",
       "      <th>volume</th>\n",
       "      <td>87848</td>\n",
       "    </tr>\n",
       "    <tr>\n",
       "      <th>averageVolume</th>\n",
       "      <td>250348</td>\n",
       "    </tr>\n",
       "    <tr>\n",
       "      <th>averageVolume10days</th>\n",
       "      <td>160071</td>\n",
       "    </tr>\n",
       "    <tr>\n",
       "      <th>averageDailyVolume10Day</th>\n",
       "      <td>160071</td>\n",
       "    </tr>\n",
       "  </tbody>\n",
       "</table>\n",
       "</div>"
      ],
      "text/plain": [
       "                             Value\n",
       "totalAssets              357703584\n",
       "previousClose                29.85\n",
       "open                         30.03\n",
       "fiftyDayAverage            30.5665\n",
       "fiftyDayAverage            30.5665\n",
       "fiftyTwoWeekLow              17.16\n",
       "fiftyTwoWeekHigh             34.54\n",
       "twoHundredDayAverage        29.611\n",
       "volume                       87848\n",
       "averageVolume               250348\n",
       "averageVolume10days         160071\n",
       "averageDailyVolume10Day     160071"
      ]
     },
     "execution_count": 93,
     "metadata": {},
     "output_type": "execute_result"
    }
   ],
   "source": []
  },
  {
   "cell_type": "code",
   "execution_count": 112,
   "metadata": {
    "scrolled": false
   },
   "outputs": [
    {
     "data": {
      "application/vnd.plotly.v1+json": {
       "config": {
        "plotlyServerURL": "https://plot.ly"
       },
       "data": [
        {
         "hovertemplate": "variable=open<br>date=%{x}<br>value=%{y}<extra></extra>",
         "legendgroup": "open",
         "line": {
          "color": "#636efa",
          "dash": "solid"
         },
         "mode": "lines",
         "name": "open",
         "orientation": "v",
         "showlegend": true,
         "type": "scatter",
         "x": [
          "2021-06-09",
          "2021-06-10",
          "2021-06-11",
          "2021-06-14",
          "2021-06-15",
          "2021-06-16",
          "2021-06-17",
          "2021-06-18",
          "2021-06-21",
          "2021-06-22",
          "2021-06-23",
          "2021-06-24",
          "2021-06-25",
          "2021-06-28",
          "2021-06-29",
          "2021-06-30",
          "2021-07-01",
          "2021-07-02",
          "2021-07-06",
          "2021-07-07",
          "2021-07-08"
         ],
         "xaxis": "x",
         "y": [
          31.559999465942383,
          31.399999618530273,
          31.329999923706055,
          31.40999984741211,
          31.030000686645508,
          30.850000381469727,
          30.850000381469727,
          30.469999313354492,
          30.43000030517578,
          30.479999542236328,
          30.739999771118164,
          30.969999313354492,
          30.93000030517578,
          30.6200008392334,
          29.809999465942383,
          29.600000381469727,
          29.739999771118164,
          30.030000686645508,
          29.899999618530273,
          29.3700008392334,
          27.93000030517578
         ],
         "yaxis": "y"
        },
        {
         "hovertemplate": "variable=high<br>date=%{x}<br>value=%{y}<extra></extra>",
         "legendgroup": "high",
         "line": {
          "color": "#EF553B",
          "dash": "solid"
         },
         "mode": "lines",
         "name": "high",
         "orientation": "v",
         "showlegend": true,
         "type": "scatter",
         "x": [
          "2021-06-09",
          "2021-06-10",
          "2021-06-11",
          "2021-06-14",
          "2021-06-15",
          "2021-06-16",
          "2021-06-17",
          "2021-06-18",
          "2021-06-21",
          "2021-06-22",
          "2021-06-23",
          "2021-06-24",
          "2021-06-25",
          "2021-06-28",
          "2021-06-29",
          "2021-06-30",
          "2021-07-01",
          "2021-07-02",
          "2021-07-06",
          "2021-07-07",
          "2021-07-08"
         ],
         "xaxis": "x",
         "y": [
          31.670000076293945,
          31.520000457763672,
          31.469999313354492,
          31.5,
          31.1299991607666,
          30.959999084472656,
          31.100000381469727,
          30.790000915527344,
          30.5,
          30.600000381469727,
          31.05500030517578,
          31,
          30.989999771118164,
          30.6200008392334,
          29.8799991607666,
          29.850000381469727,
          30.049999237060547,
          30.100000381469727,
          30,
          29.520000457763672,
          28.25079917907715
         ],
         "yaxis": "y"
        },
        {
         "hovertemplate": "variable=close<br>date=%{x}<br>value=%{y}<extra></extra>",
         "legendgroup": "close",
         "line": {
          "color": "#00cc96",
          "dash": "solid"
         },
         "mode": "lines",
         "name": "close",
         "orientation": "v",
         "showlegend": true,
         "type": "scatter",
         "x": [
          "2021-06-09",
          "2021-06-10",
          "2021-06-11",
          "2021-06-14",
          "2021-06-15",
          "2021-06-16",
          "2021-06-17",
          "2021-06-18",
          "2021-06-21",
          "2021-06-22",
          "2021-06-23",
          "2021-06-24",
          "2021-06-25",
          "2021-06-28",
          "2021-06-29",
          "2021-06-30",
          "2021-07-01",
          "2021-07-02",
          "2021-07-06",
          "2021-07-07",
          "2021-07-08"
         ],
         "xaxis": "x",
         "y": [
          31.489999771118164,
          31.3700008392334,
          31.440000534057617,
          31.34000015258789,
          30.959999084472656,
          30.709999084472656,
          30.969999313354492,
          30.219999313354492,
          30.5,
          30.56999969482422,
          30.940000534057617,
          30.93000030517578,
          30.84000015258789,
          29.93000030517578,
          29.59000015258789,
          29.799999237060547,
          29.850000381469727,
          29.989999771118164,
          29.549999237060547,
          28.639999389648438,
          28.059999465942383
         ],
         "yaxis": "y"
        },
        {
         "hovertemplate": "variable=low<br>date=%{x}<br>value=%{y}<extra></extra>",
         "legendgroup": "low",
         "line": {
          "color": "#ab63fa",
          "dash": "solid"
         },
         "mode": "lines",
         "name": "low",
         "orientation": "v",
         "showlegend": true,
         "type": "scatter",
         "x": [
          "2021-06-09",
          "2021-06-10",
          "2021-06-11",
          "2021-06-14",
          "2021-06-15",
          "2021-06-16",
          "2021-06-17",
          "2021-06-18",
          "2021-06-21",
          "2021-06-22",
          "2021-06-23",
          "2021-06-24",
          "2021-06-25",
          "2021-06-28",
          "2021-06-29",
          "2021-06-30",
          "2021-07-01",
          "2021-07-02",
          "2021-07-06",
          "2021-07-07",
          "2021-07-08"
         ],
         "xaxis": "x",
         "y": [
          31.3700008392334,
          31.020000457763672,
          31.219999313354492,
          31.200000762939453,
          30.850000381469727,
          30.444000244140625,
          30.709999084472656,
          30.1200008392334,
          30,
          30.219999313354492,
          30.600000381469727,
          30.579999923706055,
          30.68000030517578,
          29.799999237060547,
          29.575000762939453,
          29.549999237060547,
          29.719999313354492,
          29.899999618530273,
          29.299999237060547,
          28.549999237060547,
          27.690000534057617
         ],
         "yaxis": "y"
        },
        {
         "hovertemplate": "variable=adjclose<br>date=%{x}<br>value=%{y}<extra></extra>",
         "legendgroup": "adjclose",
         "line": {
          "color": "#FFA15A",
          "dash": "solid"
         },
         "mode": "lines",
         "name": "adjclose",
         "orientation": "v",
         "showlegend": true,
         "type": "scatter",
         "x": [
          "2021-06-09",
          "2021-06-10",
          "2021-06-11",
          "2021-06-14",
          "2021-06-15",
          "2021-06-16",
          "2021-06-17",
          "2021-06-18",
          "2021-06-21",
          "2021-06-22",
          "2021-06-23",
          "2021-06-24",
          "2021-06-25",
          "2021-06-28",
          "2021-06-29",
          "2021-06-30",
          "2021-07-01",
          "2021-07-02",
          "2021-07-06",
          "2021-07-07",
          "2021-07-08"
         ],
         "xaxis": "x",
         "y": [
          31.489999771118164,
          31.3700008392334,
          31.440000534057617,
          31.34000015258789,
          30.959999084472656,
          30.709999084472656,
          30.969999313354492,
          30.219999313354492,
          30.5,
          30.56999969482422,
          30.940000534057617,
          30.93000030517578,
          30.84000015258789,
          29.93000030517578,
          29.59000015258789,
          29.799999237060547,
          29.850000381469727,
          29.989999771118164,
          29.549999237060547,
          28.639999389648438,
          28.059999465942383
         ],
         "yaxis": "y"
        }
       ],
       "layout": {
        "legend": {
         "title": {
          "text": "variable"
         },
         "tracegroupgap": 0
        },
        "template": {
         "data": {
          "bar": [
           {
            "error_x": {
             "color": "#2a3f5f"
            },
            "error_y": {
             "color": "#2a3f5f"
            },
            "marker": {
             "line": {
              "color": "#E5ECF6",
              "width": 0.5
             },
             "pattern": {
              "fillmode": "overlay",
              "size": 10,
              "solidity": 0.2
             }
            },
            "type": "bar"
           }
          ],
          "barpolar": [
           {
            "marker": {
             "line": {
              "color": "#E5ECF6",
              "width": 0.5
             },
             "pattern": {
              "fillmode": "overlay",
              "size": 10,
              "solidity": 0.2
             }
            },
            "type": "barpolar"
           }
          ],
          "carpet": [
           {
            "aaxis": {
             "endlinecolor": "#2a3f5f",
             "gridcolor": "white",
             "linecolor": "white",
             "minorgridcolor": "white",
             "startlinecolor": "#2a3f5f"
            },
            "baxis": {
             "endlinecolor": "#2a3f5f",
             "gridcolor": "white",
             "linecolor": "white",
             "minorgridcolor": "white",
             "startlinecolor": "#2a3f5f"
            },
            "type": "carpet"
           }
          ],
          "choropleth": [
           {
            "colorbar": {
             "outlinewidth": 0,
             "ticks": ""
            },
            "type": "choropleth"
           }
          ],
          "contour": [
           {
            "colorbar": {
             "outlinewidth": 0,
             "ticks": ""
            },
            "colorscale": [
             [
              0,
              "#0d0887"
             ],
             [
              0.1111111111111111,
              "#46039f"
             ],
             [
              0.2222222222222222,
              "#7201a8"
             ],
             [
              0.3333333333333333,
              "#9c179e"
             ],
             [
              0.4444444444444444,
              "#bd3786"
             ],
             [
              0.5555555555555556,
              "#d8576b"
             ],
             [
              0.6666666666666666,
              "#ed7953"
             ],
             [
              0.7777777777777778,
              "#fb9f3a"
             ],
             [
              0.8888888888888888,
              "#fdca26"
             ],
             [
              1,
              "#f0f921"
             ]
            ],
            "type": "contour"
           }
          ],
          "contourcarpet": [
           {
            "colorbar": {
             "outlinewidth": 0,
             "ticks": ""
            },
            "type": "contourcarpet"
           }
          ],
          "heatmap": [
           {
            "colorbar": {
             "outlinewidth": 0,
             "ticks": ""
            },
            "colorscale": [
             [
              0,
              "#0d0887"
             ],
             [
              0.1111111111111111,
              "#46039f"
             ],
             [
              0.2222222222222222,
              "#7201a8"
             ],
             [
              0.3333333333333333,
              "#9c179e"
             ],
             [
              0.4444444444444444,
              "#bd3786"
             ],
             [
              0.5555555555555556,
              "#d8576b"
             ],
             [
              0.6666666666666666,
              "#ed7953"
             ],
             [
              0.7777777777777778,
              "#fb9f3a"
             ],
             [
              0.8888888888888888,
              "#fdca26"
             ],
             [
              1,
              "#f0f921"
             ]
            ],
            "type": "heatmap"
           }
          ],
          "heatmapgl": [
           {
            "colorbar": {
             "outlinewidth": 0,
             "ticks": ""
            },
            "colorscale": [
             [
              0,
              "#0d0887"
             ],
             [
              0.1111111111111111,
              "#46039f"
             ],
             [
              0.2222222222222222,
              "#7201a8"
             ],
             [
              0.3333333333333333,
              "#9c179e"
             ],
             [
              0.4444444444444444,
              "#bd3786"
             ],
             [
              0.5555555555555556,
              "#d8576b"
             ],
             [
              0.6666666666666666,
              "#ed7953"
             ],
             [
              0.7777777777777778,
              "#fb9f3a"
             ],
             [
              0.8888888888888888,
              "#fdca26"
             ],
             [
              1,
              "#f0f921"
             ]
            ],
            "type": "heatmapgl"
           }
          ],
          "histogram": [
           {
            "marker": {
             "pattern": {
              "fillmode": "overlay",
              "size": 10,
              "solidity": 0.2
             }
            },
            "type": "histogram"
           }
          ],
          "histogram2d": [
           {
            "colorbar": {
             "outlinewidth": 0,
             "ticks": ""
            },
            "colorscale": [
             [
              0,
              "#0d0887"
             ],
             [
              0.1111111111111111,
              "#46039f"
             ],
             [
              0.2222222222222222,
              "#7201a8"
             ],
             [
              0.3333333333333333,
              "#9c179e"
             ],
             [
              0.4444444444444444,
              "#bd3786"
             ],
             [
              0.5555555555555556,
              "#d8576b"
             ],
             [
              0.6666666666666666,
              "#ed7953"
             ],
             [
              0.7777777777777778,
              "#fb9f3a"
             ],
             [
              0.8888888888888888,
              "#fdca26"
             ],
             [
              1,
              "#f0f921"
             ]
            ],
            "type": "histogram2d"
           }
          ],
          "histogram2dcontour": [
           {
            "colorbar": {
             "outlinewidth": 0,
             "ticks": ""
            },
            "colorscale": [
             [
              0,
              "#0d0887"
             ],
             [
              0.1111111111111111,
              "#46039f"
             ],
             [
              0.2222222222222222,
              "#7201a8"
             ],
             [
              0.3333333333333333,
              "#9c179e"
             ],
             [
              0.4444444444444444,
              "#bd3786"
             ],
             [
              0.5555555555555556,
              "#d8576b"
             ],
             [
              0.6666666666666666,
              "#ed7953"
             ],
             [
              0.7777777777777778,
              "#fb9f3a"
             ],
             [
              0.8888888888888888,
              "#fdca26"
             ],
             [
              1,
              "#f0f921"
             ]
            ],
            "type": "histogram2dcontour"
           }
          ],
          "mesh3d": [
           {
            "colorbar": {
             "outlinewidth": 0,
             "ticks": ""
            },
            "type": "mesh3d"
           }
          ],
          "parcoords": [
           {
            "line": {
             "colorbar": {
              "outlinewidth": 0,
              "ticks": ""
             }
            },
            "type": "parcoords"
           }
          ],
          "pie": [
           {
            "automargin": true,
            "type": "pie"
           }
          ],
          "scatter": [
           {
            "marker": {
             "colorbar": {
              "outlinewidth": 0,
              "ticks": ""
             }
            },
            "type": "scatter"
           }
          ],
          "scatter3d": [
           {
            "line": {
             "colorbar": {
              "outlinewidth": 0,
              "ticks": ""
             }
            },
            "marker": {
             "colorbar": {
              "outlinewidth": 0,
              "ticks": ""
             }
            },
            "type": "scatter3d"
           }
          ],
          "scattercarpet": [
           {
            "marker": {
             "colorbar": {
              "outlinewidth": 0,
              "ticks": ""
             }
            },
            "type": "scattercarpet"
           }
          ],
          "scattergeo": [
           {
            "marker": {
             "colorbar": {
              "outlinewidth": 0,
              "ticks": ""
             }
            },
            "type": "scattergeo"
           }
          ],
          "scattergl": [
           {
            "marker": {
             "colorbar": {
              "outlinewidth": 0,
              "ticks": ""
             }
            },
            "type": "scattergl"
           }
          ],
          "scattermapbox": [
           {
            "marker": {
             "colorbar": {
              "outlinewidth": 0,
              "ticks": ""
             }
            },
            "type": "scattermapbox"
           }
          ],
          "scatterpolar": [
           {
            "marker": {
             "colorbar": {
              "outlinewidth": 0,
              "ticks": ""
             }
            },
            "type": "scatterpolar"
           }
          ],
          "scatterpolargl": [
           {
            "marker": {
             "colorbar": {
              "outlinewidth": 0,
              "ticks": ""
             }
            },
            "type": "scatterpolargl"
           }
          ],
          "scatterternary": [
           {
            "marker": {
             "colorbar": {
              "outlinewidth": 0,
              "ticks": ""
             }
            },
            "type": "scatterternary"
           }
          ],
          "surface": [
           {
            "colorbar": {
             "outlinewidth": 0,
             "ticks": ""
            },
            "colorscale": [
             [
              0,
              "#0d0887"
             ],
             [
              0.1111111111111111,
              "#46039f"
             ],
             [
              0.2222222222222222,
              "#7201a8"
             ],
             [
              0.3333333333333333,
              "#9c179e"
             ],
             [
              0.4444444444444444,
              "#bd3786"
             ],
             [
              0.5555555555555556,
              "#d8576b"
             ],
             [
              0.6666666666666666,
              "#ed7953"
             ],
             [
              0.7777777777777778,
              "#fb9f3a"
             ],
             [
              0.8888888888888888,
              "#fdca26"
             ],
             [
              1,
              "#f0f921"
             ]
            ],
            "type": "surface"
           }
          ],
          "table": [
           {
            "cells": {
             "fill": {
              "color": "#EBF0F8"
             },
             "line": {
              "color": "white"
             }
            },
            "header": {
             "fill": {
              "color": "#C8D4E3"
             },
             "line": {
              "color": "white"
             }
            },
            "type": "table"
           }
          ]
         },
         "layout": {
          "annotationdefaults": {
           "arrowcolor": "#2a3f5f",
           "arrowhead": 0,
           "arrowwidth": 1
          },
          "autotypenumbers": "strict",
          "coloraxis": {
           "colorbar": {
            "outlinewidth": 0,
            "ticks": ""
           }
          },
          "colorscale": {
           "diverging": [
            [
             0,
             "#8e0152"
            ],
            [
             0.1,
             "#c51b7d"
            ],
            [
             0.2,
             "#de77ae"
            ],
            [
             0.3,
             "#f1b6da"
            ],
            [
             0.4,
             "#fde0ef"
            ],
            [
             0.5,
             "#f7f7f7"
            ],
            [
             0.6,
             "#e6f5d0"
            ],
            [
             0.7,
             "#b8e186"
            ],
            [
             0.8,
             "#7fbc41"
            ],
            [
             0.9,
             "#4d9221"
            ],
            [
             1,
             "#276419"
            ]
           ],
           "sequential": [
            [
             0,
             "#0d0887"
            ],
            [
             0.1111111111111111,
             "#46039f"
            ],
            [
             0.2222222222222222,
             "#7201a8"
            ],
            [
             0.3333333333333333,
             "#9c179e"
            ],
            [
             0.4444444444444444,
             "#bd3786"
            ],
            [
             0.5555555555555556,
             "#d8576b"
            ],
            [
             0.6666666666666666,
             "#ed7953"
            ],
            [
             0.7777777777777778,
             "#fb9f3a"
            ],
            [
             0.8888888888888888,
             "#fdca26"
            ],
            [
             1,
             "#f0f921"
            ]
           ],
           "sequentialminus": [
            [
             0,
             "#0d0887"
            ],
            [
             0.1111111111111111,
             "#46039f"
            ],
            [
             0.2222222222222222,
             "#7201a8"
            ],
            [
             0.3333333333333333,
             "#9c179e"
            ],
            [
             0.4444444444444444,
             "#bd3786"
            ],
            [
             0.5555555555555556,
             "#d8576b"
            ],
            [
             0.6666666666666666,
             "#ed7953"
            ],
            [
             0.7777777777777778,
             "#fb9f3a"
            ],
            [
             0.8888888888888888,
             "#fdca26"
            ],
            [
             1,
             "#f0f921"
            ]
           ]
          },
          "colorway": [
           "#636efa",
           "#EF553B",
           "#00cc96",
           "#ab63fa",
           "#FFA15A",
           "#19d3f3",
           "#FF6692",
           "#B6E880",
           "#FF97FF",
           "#FECB52"
          ],
          "font": {
           "color": "#2a3f5f"
          },
          "geo": {
           "bgcolor": "white",
           "lakecolor": "white",
           "landcolor": "#E5ECF6",
           "showlakes": true,
           "showland": true,
           "subunitcolor": "white"
          },
          "hoverlabel": {
           "align": "left"
          },
          "hovermode": "closest",
          "mapbox": {
           "style": "light"
          },
          "paper_bgcolor": "white",
          "plot_bgcolor": "#E5ECF6",
          "polar": {
           "angularaxis": {
            "gridcolor": "white",
            "linecolor": "white",
            "ticks": ""
           },
           "bgcolor": "#E5ECF6",
           "radialaxis": {
            "gridcolor": "white",
            "linecolor": "white",
            "ticks": ""
           }
          },
          "scene": {
           "xaxis": {
            "backgroundcolor": "#E5ECF6",
            "gridcolor": "white",
            "gridwidth": 2,
            "linecolor": "white",
            "showbackground": true,
            "ticks": "",
            "zerolinecolor": "white"
           },
           "yaxis": {
            "backgroundcolor": "#E5ECF6",
            "gridcolor": "white",
            "gridwidth": 2,
            "linecolor": "white",
            "showbackground": true,
            "ticks": "",
            "zerolinecolor": "white"
           },
           "zaxis": {
            "backgroundcolor": "#E5ECF6",
            "gridcolor": "white",
            "gridwidth": 2,
            "linecolor": "white",
            "showbackground": true,
            "ticks": "",
            "zerolinecolor": "white"
           }
          },
          "shapedefaults": {
           "line": {
            "color": "#2a3f5f"
           }
          },
          "ternary": {
           "aaxis": {
            "gridcolor": "white",
            "linecolor": "white",
            "ticks": ""
           },
           "baxis": {
            "gridcolor": "white",
            "linecolor": "white",
            "ticks": ""
           },
           "bgcolor": "#E5ECF6",
           "caxis": {
            "gridcolor": "white",
            "linecolor": "white",
            "ticks": ""
           }
          },
          "title": {
           "x": 0.05
          },
          "xaxis": {
           "automargin": true,
           "gridcolor": "white",
           "linecolor": "white",
           "ticks": "",
           "title": {
            "standoff": 15
           },
           "zerolinecolor": "white",
           "zerolinewidth": 2
          },
          "yaxis": {
           "automargin": true,
           "gridcolor": "white",
           "linecolor": "white",
           "ticks": "",
           "title": {
            "standoff": 15
           },
           "zerolinecolor": "white",
           "zerolinewidth": 2
          }
         }
        },
        "title": {
         "text": "AWAY Historical Price"
        },
        "xaxis": {
         "anchor": "y",
         "domain": [
          0,
          1
         ],
         "title": {
          "text": "date"
         }
        },
        "yaxis": {
         "anchor": "x",
         "domain": [
          0,
          1
         ],
         "title": {
          "text": "value"
         }
        }
       }
      },
      "text/html": [
       "<div>                            <div id=\"98bb2f62-9c88-4e17-b6ab-ead4e180df7b\" class=\"plotly-graph-div\" style=\"height:525px; width:100%;\"></div>            <script type=\"text/javascript\">                require([\"plotly\"], function(Plotly) {                    window.PLOTLYENV=window.PLOTLYENV || {};                                    if (document.getElementById(\"98bb2f62-9c88-4e17-b6ab-ead4e180df7b\")) {                    Plotly.newPlot(                        \"98bb2f62-9c88-4e17-b6ab-ead4e180df7b\",                        [{\"hovertemplate\":\"variable=open<br>date=%{x}<br>value=%{y}<extra></extra>\",\"legendgroup\":\"open\",\"line\":{\"color\":\"#636efa\",\"dash\":\"solid\"},\"mode\":\"lines\",\"name\":\"open\",\"orientation\":\"v\",\"showlegend\":true,\"type\":\"scatter\",\"x\":[\"2021-06-09\",\"2021-06-10\",\"2021-06-11\",\"2021-06-14\",\"2021-06-15\",\"2021-06-16\",\"2021-06-17\",\"2021-06-18\",\"2021-06-21\",\"2021-06-22\",\"2021-06-23\",\"2021-06-24\",\"2021-06-25\",\"2021-06-28\",\"2021-06-29\",\"2021-06-30\",\"2021-07-01\",\"2021-07-02\",\"2021-07-06\",\"2021-07-07\",\"2021-07-08\"],\"xaxis\":\"x\",\"y\":[31.559999465942383,31.399999618530273,31.329999923706055,31.40999984741211,31.030000686645508,30.850000381469727,30.850000381469727,30.469999313354492,30.43000030517578,30.479999542236328,30.739999771118164,30.969999313354492,30.93000030517578,30.6200008392334,29.809999465942383,29.600000381469727,29.739999771118164,30.030000686645508,29.899999618530273,29.3700008392334,27.93000030517578],\"yaxis\":\"y\"},{\"hovertemplate\":\"variable=high<br>date=%{x}<br>value=%{y}<extra></extra>\",\"legendgroup\":\"high\",\"line\":{\"color\":\"#EF553B\",\"dash\":\"solid\"},\"mode\":\"lines\",\"name\":\"high\",\"orientation\":\"v\",\"showlegend\":true,\"type\":\"scatter\",\"x\":[\"2021-06-09\",\"2021-06-10\",\"2021-06-11\",\"2021-06-14\",\"2021-06-15\",\"2021-06-16\",\"2021-06-17\",\"2021-06-18\",\"2021-06-21\",\"2021-06-22\",\"2021-06-23\",\"2021-06-24\",\"2021-06-25\",\"2021-06-28\",\"2021-06-29\",\"2021-06-30\",\"2021-07-01\",\"2021-07-02\",\"2021-07-06\",\"2021-07-07\",\"2021-07-08\"],\"xaxis\":\"x\",\"y\":[31.670000076293945,31.520000457763672,31.469999313354492,31.5,31.1299991607666,30.959999084472656,31.100000381469727,30.790000915527344,30.5,30.600000381469727,31.05500030517578,31.0,30.989999771118164,30.6200008392334,29.8799991607666,29.850000381469727,30.049999237060547,30.100000381469727,30.0,29.520000457763672,28.25079917907715],\"yaxis\":\"y\"},{\"hovertemplate\":\"variable=close<br>date=%{x}<br>value=%{y}<extra></extra>\",\"legendgroup\":\"close\",\"line\":{\"color\":\"#00cc96\",\"dash\":\"solid\"},\"mode\":\"lines\",\"name\":\"close\",\"orientation\":\"v\",\"showlegend\":true,\"type\":\"scatter\",\"x\":[\"2021-06-09\",\"2021-06-10\",\"2021-06-11\",\"2021-06-14\",\"2021-06-15\",\"2021-06-16\",\"2021-06-17\",\"2021-06-18\",\"2021-06-21\",\"2021-06-22\",\"2021-06-23\",\"2021-06-24\",\"2021-06-25\",\"2021-06-28\",\"2021-06-29\",\"2021-06-30\",\"2021-07-01\",\"2021-07-02\",\"2021-07-06\",\"2021-07-07\",\"2021-07-08\"],\"xaxis\":\"x\",\"y\":[31.489999771118164,31.3700008392334,31.440000534057617,31.34000015258789,30.959999084472656,30.709999084472656,30.969999313354492,30.219999313354492,30.5,30.56999969482422,30.940000534057617,30.93000030517578,30.84000015258789,29.93000030517578,29.59000015258789,29.799999237060547,29.850000381469727,29.989999771118164,29.549999237060547,28.639999389648438,28.059999465942383],\"yaxis\":\"y\"},{\"hovertemplate\":\"variable=low<br>date=%{x}<br>value=%{y}<extra></extra>\",\"legendgroup\":\"low\",\"line\":{\"color\":\"#ab63fa\",\"dash\":\"solid\"},\"mode\":\"lines\",\"name\":\"low\",\"orientation\":\"v\",\"showlegend\":true,\"type\":\"scatter\",\"x\":[\"2021-06-09\",\"2021-06-10\",\"2021-06-11\",\"2021-06-14\",\"2021-06-15\",\"2021-06-16\",\"2021-06-17\",\"2021-06-18\",\"2021-06-21\",\"2021-06-22\",\"2021-06-23\",\"2021-06-24\",\"2021-06-25\",\"2021-06-28\",\"2021-06-29\",\"2021-06-30\",\"2021-07-01\",\"2021-07-02\",\"2021-07-06\",\"2021-07-07\",\"2021-07-08\"],\"xaxis\":\"x\",\"y\":[31.3700008392334,31.020000457763672,31.219999313354492,31.200000762939453,30.850000381469727,30.444000244140625,30.709999084472656,30.1200008392334,30.0,30.219999313354492,30.600000381469727,30.579999923706055,30.68000030517578,29.799999237060547,29.575000762939453,29.549999237060547,29.719999313354492,29.899999618530273,29.299999237060547,28.549999237060547,27.690000534057617],\"yaxis\":\"y\"},{\"hovertemplate\":\"variable=adjclose<br>date=%{x}<br>value=%{y}<extra></extra>\",\"legendgroup\":\"adjclose\",\"line\":{\"color\":\"#FFA15A\",\"dash\":\"solid\"},\"mode\":\"lines\",\"name\":\"adjclose\",\"orientation\":\"v\",\"showlegend\":true,\"type\":\"scatter\",\"x\":[\"2021-06-09\",\"2021-06-10\",\"2021-06-11\",\"2021-06-14\",\"2021-06-15\",\"2021-06-16\",\"2021-06-17\",\"2021-06-18\",\"2021-06-21\",\"2021-06-22\",\"2021-06-23\",\"2021-06-24\",\"2021-06-25\",\"2021-06-28\",\"2021-06-29\",\"2021-06-30\",\"2021-07-01\",\"2021-07-02\",\"2021-07-06\",\"2021-07-07\",\"2021-07-08\"],\"xaxis\":\"x\",\"y\":[31.489999771118164,31.3700008392334,31.440000534057617,31.34000015258789,30.959999084472656,30.709999084472656,30.969999313354492,30.219999313354492,30.5,30.56999969482422,30.940000534057617,30.93000030517578,30.84000015258789,29.93000030517578,29.59000015258789,29.799999237060547,29.850000381469727,29.989999771118164,29.549999237060547,28.639999389648438,28.059999465942383],\"yaxis\":\"y\"}],                        {\"legend\":{\"title\":{\"text\":\"variable\"},\"tracegroupgap\":0},\"template\":{\"data\":{\"bar\":[{\"error_x\":{\"color\":\"#2a3f5f\"},\"error_y\":{\"color\":\"#2a3f5f\"},\"marker\":{\"line\":{\"color\":\"#E5ECF6\",\"width\":0.5},\"pattern\":{\"fillmode\":\"overlay\",\"size\":10,\"solidity\":0.2}},\"type\":\"bar\"}],\"barpolar\":[{\"marker\":{\"line\":{\"color\":\"#E5ECF6\",\"width\":0.5},\"pattern\":{\"fillmode\":\"overlay\",\"size\":10,\"solidity\":0.2}},\"type\":\"barpolar\"}],\"carpet\":[{\"aaxis\":{\"endlinecolor\":\"#2a3f5f\",\"gridcolor\":\"white\",\"linecolor\":\"white\",\"minorgridcolor\":\"white\",\"startlinecolor\":\"#2a3f5f\"},\"baxis\":{\"endlinecolor\":\"#2a3f5f\",\"gridcolor\":\"white\",\"linecolor\":\"white\",\"minorgridcolor\":\"white\",\"startlinecolor\":\"#2a3f5f\"},\"type\":\"carpet\"}],\"choropleth\":[{\"colorbar\":{\"outlinewidth\":0,\"ticks\":\"\"},\"type\":\"choropleth\"}],\"contour\":[{\"colorbar\":{\"outlinewidth\":0,\"ticks\":\"\"},\"colorscale\":[[0.0,\"#0d0887\"],[0.1111111111111111,\"#46039f\"],[0.2222222222222222,\"#7201a8\"],[0.3333333333333333,\"#9c179e\"],[0.4444444444444444,\"#bd3786\"],[0.5555555555555556,\"#d8576b\"],[0.6666666666666666,\"#ed7953\"],[0.7777777777777778,\"#fb9f3a\"],[0.8888888888888888,\"#fdca26\"],[1.0,\"#f0f921\"]],\"type\":\"contour\"}],\"contourcarpet\":[{\"colorbar\":{\"outlinewidth\":0,\"ticks\":\"\"},\"type\":\"contourcarpet\"}],\"heatmap\":[{\"colorbar\":{\"outlinewidth\":0,\"ticks\":\"\"},\"colorscale\":[[0.0,\"#0d0887\"],[0.1111111111111111,\"#46039f\"],[0.2222222222222222,\"#7201a8\"],[0.3333333333333333,\"#9c179e\"],[0.4444444444444444,\"#bd3786\"],[0.5555555555555556,\"#d8576b\"],[0.6666666666666666,\"#ed7953\"],[0.7777777777777778,\"#fb9f3a\"],[0.8888888888888888,\"#fdca26\"],[1.0,\"#f0f921\"]],\"type\":\"heatmap\"}],\"heatmapgl\":[{\"colorbar\":{\"outlinewidth\":0,\"ticks\":\"\"},\"colorscale\":[[0.0,\"#0d0887\"],[0.1111111111111111,\"#46039f\"],[0.2222222222222222,\"#7201a8\"],[0.3333333333333333,\"#9c179e\"],[0.4444444444444444,\"#bd3786\"],[0.5555555555555556,\"#d8576b\"],[0.6666666666666666,\"#ed7953\"],[0.7777777777777778,\"#fb9f3a\"],[0.8888888888888888,\"#fdca26\"],[1.0,\"#f0f921\"]],\"type\":\"heatmapgl\"}],\"histogram\":[{\"marker\":{\"pattern\":{\"fillmode\":\"overlay\",\"size\":10,\"solidity\":0.2}},\"type\":\"histogram\"}],\"histogram2d\":[{\"colorbar\":{\"outlinewidth\":0,\"ticks\":\"\"},\"colorscale\":[[0.0,\"#0d0887\"],[0.1111111111111111,\"#46039f\"],[0.2222222222222222,\"#7201a8\"],[0.3333333333333333,\"#9c179e\"],[0.4444444444444444,\"#bd3786\"],[0.5555555555555556,\"#d8576b\"],[0.6666666666666666,\"#ed7953\"],[0.7777777777777778,\"#fb9f3a\"],[0.8888888888888888,\"#fdca26\"],[1.0,\"#f0f921\"]],\"type\":\"histogram2d\"}],\"histogram2dcontour\":[{\"colorbar\":{\"outlinewidth\":0,\"ticks\":\"\"},\"colorscale\":[[0.0,\"#0d0887\"],[0.1111111111111111,\"#46039f\"],[0.2222222222222222,\"#7201a8\"],[0.3333333333333333,\"#9c179e\"],[0.4444444444444444,\"#bd3786\"],[0.5555555555555556,\"#d8576b\"],[0.6666666666666666,\"#ed7953\"],[0.7777777777777778,\"#fb9f3a\"],[0.8888888888888888,\"#fdca26\"],[1.0,\"#f0f921\"]],\"type\":\"histogram2dcontour\"}],\"mesh3d\":[{\"colorbar\":{\"outlinewidth\":0,\"ticks\":\"\"},\"type\":\"mesh3d\"}],\"parcoords\":[{\"line\":{\"colorbar\":{\"outlinewidth\":0,\"ticks\":\"\"}},\"type\":\"parcoords\"}],\"pie\":[{\"automargin\":true,\"type\":\"pie\"}],\"scatter\":[{\"marker\":{\"colorbar\":{\"outlinewidth\":0,\"ticks\":\"\"}},\"type\":\"scatter\"}],\"scatter3d\":[{\"line\":{\"colorbar\":{\"outlinewidth\":0,\"ticks\":\"\"}},\"marker\":{\"colorbar\":{\"outlinewidth\":0,\"ticks\":\"\"}},\"type\":\"scatter3d\"}],\"scattercarpet\":[{\"marker\":{\"colorbar\":{\"outlinewidth\":0,\"ticks\":\"\"}},\"type\":\"scattercarpet\"}],\"scattergeo\":[{\"marker\":{\"colorbar\":{\"outlinewidth\":0,\"ticks\":\"\"}},\"type\":\"scattergeo\"}],\"scattergl\":[{\"marker\":{\"colorbar\":{\"outlinewidth\":0,\"ticks\":\"\"}},\"type\":\"scattergl\"}],\"scattermapbox\":[{\"marker\":{\"colorbar\":{\"outlinewidth\":0,\"ticks\":\"\"}},\"type\":\"scattermapbox\"}],\"scatterpolar\":[{\"marker\":{\"colorbar\":{\"outlinewidth\":0,\"ticks\":\"\"}},\"type\":\"scatterpolar\"}],\"scatterpolargl\":[{\"marker\":{\"colorbar\":{\"outlinewidth\":0,\"ticks\":\"\"}},\"type\":\"scatterpolargl\"}],\"scatterternary\":[{\"marker\":{\"colorbar\":{\"outlinewidth\":0,\"ticks\":\"\"}},\"type\":\"scatterternary\"}],\"surface\":[{\"colorbar\":{\"outlinewidth\":0,\"ticks\":\"\"},\"colorscale\":[[0.0,\"#0d0887\"],[0.1111111111111111,\"#46039f\"],[0.2222222222222222,\"#7201a8\"],[0.3333333333333333,\"#9c179e\"],[0.4444444444444444,\"#bd3786\"],[0.5555555555555556,\"#d8576b\"],[0.6666666666666666,\"#ed7953\"],[0.7777777777777778,\"#fb9f3a\"],[0.8888888888888888,\"#fdca26\"],[1.0,\"#f0f921\"]],\"type\":\"surface\"}],\"table\":[{\"cells\":{\"fill\":{\"color\":\"#EBF0F8\"},\"line\":{\"color\":\"white\"}},\"header\":{\"fill\":{\"color\":\"#C8D4E3\"},\"line\":{\"color\":\"white\"}},\"type\":\"table\"}]},\"layout\":{\"annotationdefaults\":{\"arrowcolor\":\"#2a3f5f\",\"arrowhead\":0,\"arrowwidth\":1},\"autotypenumbers\":\"strict\",\"coloraxis\":{\"colorbar\":{\"outlinewidth\":0,\"ticks\":\"\"}},\"colorscale\":{\"diverging\":[[0,\"#8e0152\"],[0.1,\"#c51b7d\"],[0.2,\"#de77ae\"],[0.3,\"#f1b6da\"],[0.4,\"#fde0ef\"],[0.5,\"#f7f7f7\"],[0.6,\"#e6f5d0\"],[0.7,\"#b8e186\"],[0.8,\"#7fbc41\"],[0.9,\"#4d9221\"],[1,\"#276419\"]],\"sequential\":[[0.0,\"#0d0887\"],[0.1111111111111111,\"#46039f\"],[0.2222222222222222,\"#7201a8\"],[0.3333333333333333,\"#9c179e\"],[0.4444444444444444,\"#bd3786\"],[0.5555555555555556,\"#d8576b\"],[0.6666666666666666,\"#ed7953\"],[0.7777777777777778,\"#fb9f3a\"],[0.8888888888888888,\"#fdca26\"],[1.0,\"#f0f921\"]],\"sequentialminus\":[[0.0,\"#0d0887\"],[0.1111111111111111,\"#46039f\"],[0.2222222222222222,\"#7201a8\"],[0.3333333333333333,\"#9c179e\"],[0.4444444444444444,\"#bd3786\"],[0.5555555555555556,\"#d8576b\"],[0.6666666666666666,\"#ed7953\"],[0.7777777777777778,\"#fb9f3a\"],[0.8888888888888888,\"#fdca26\"],[1.0,\"#f0f921\"]]},\"colorway\":[\"#636efa\",\"#EF553B\",\"#00cc96\",\"#ab63fa\",\"#FFA15A\",\"#19d3f3\",\"#FF6692\",\"#B6E880\",\"#FF97FF\",\"#FECB52\"],\"font\":{\"color\":\"#2a3f5f\"},\"geo\":{\"bgcolor\":\"white\",\"lakecolor\":\"white\",\"landcolor\":\"#E5ECF6\",\"showlakes\":true,\"showland\":true,\"subunitcolor\":\"white\"},\"hoverlabel\":{\"align\":\"left\"},\"hovermode\":\"closest\",\"mapbox\":{\"style\":\"light\"},\"paper_bgcolor\":\"white\",\"plot_bgcolor\":\"#E5ECF6\",\"polar\":{\"angularaxis\":{\"gridcolor\":\"white\",\"linecolor\":\"white\",\"ticks\":\"\"},\"bgcolor\":\"#E5ECF6\",\"radialaxis\":{\"gridcolor\":\"white\",\"linecolor\":\"white\",\"ticks\":\"\"}},\"scene\":{\"xaxis\":{\"backgroundcolor\":\"#E5ECF6\",\"gridcolor\":\"white\",\"gridwidth\":2,\"linecolor\":\"white\",\"showbackground\":true,\"ticks\":\"\",\"zerolinecolor\":\"white\"},\"yaxis\":{\"backgroundcolor\":\"#E5ECF6\",\"gridcolor\":\"white\",\"gridwidth\":2,\"linecolor\":\"white\",\"showbackground\":true,\"ticks\":\"\",\"zerolinecolor\":\"white\"},\"zaxis\":{\"backgroundcolor\":\"#E5ECF6\",\"gridcolor\":\"white\",\"gridwidth\":2,\"linecolor\":\"white\",\"showbackground\":true,\"ticks\":\"\",\"zerolinecolor\":\"white\"}},\"shapedefaults\":{\"line\":{\"color\":\"#2a3f5f\"}},\"ternary\":{\"aaxis\":{\"gridcolor\":\"white\",\"linecolor\":\"white\",\"ticks\":\"\"},\"baxis\":{\"gridcolor\":\"white\",\"linecolor\":\"white\",\"ticks\":\"\"},\"bgcolor\":\"#E5ECF6\",\"caxis\":{\"gridcolor\":\"white\",\"linecolor\":\"white\",\"ticks\":\"\"}},\"title\":{\"x\":0.05},\"xaxis\":{\"automargin\":true,\"gridcolor\":\"white\",\"linecolor\":\"white\",\"ticks\":\"\",\"title\":{\"standoff\":15},\"zerolinecolor\":\"white\",\"zerolinewidth\":2},\"yaxis\":{\"automargin\":true,\"gridcolor\":\"white\",\"linecolor\":\"white\",\"ticks\":\"\",\"title\":{\"standoff\":15},\"zerolinecolor\":\"white\",\"zerolinewidth\":2}}},\"title\":{\"text\":\"AWAY Historical Price\"},\"xaxis\":{\"anchor\":\"y\",\"domain\":[0.0,1.0],\"title\":{\"text\":\"date\"}},\"yaxis\":{\"anchor\":\"x\",\"domain\":[0.0,1.0],\"title\":{\"text\":\"value\"}}},                        {\"responsive\": true}                    ).then(function(){\n",
       "                            \n",
       "var gd = document.getElementById('98bb2f62-9c88-4e17-b6ab-ead4e180df7b');\n",
       "var x = new MutationObserver(function (mutations, observer) {{\n",
       "        var display = window.getComputedStyle(gd).display;\n",
       "        if (!display || display === 'none') {{\n",
       "            console.log([gd, 'removed!']);\n",
       "            Plotly.purge(gd);\n",
       "            observer.disconnect();\n",
       "        }}\n",
       "}});\n",
       "\n",
       "// Listen for the removal of the full notebook cells\n",
       "var notebookContainer = gd.closest('#notebook-container');\n",
       "if (notebookContainer) {{\n",
       "    x.observe(notebookContainer, {childList: true});\n",
       "}}\n",
       "\n",
       "// Listen for the clearing of the current output cell\n",
       "var outputEl = gd.closest('.output');\n",
       "if (outputEl) {{\n",
       "    x.observe(outputEl, {childList: true});\n",
       "}}\n",
       "\n",
       "                        })                };                });            </script>        </div>"
      ]
     },
     "metadata": {},
     "output_type": "display_data"
    },
    {
     "data": {
      "application/vnd.plotly.v1+json": {
       "config": {
        "plotlyServerURL": "https://plot.ly"
       },
       "data": [
        {
         "hovertemplate": "date=%{x}<br>volume=%{y}<extra></extra>",
         "legendgroup": "",
         "line": {
          "color": "#636efa",
          "dash": "solid"
         },
         "mode": "lines",
         "name": "",
         "orientation": "v",
         "showlegend": false,
         "type": "scatter",
         "x": [
          "2021-06-09",
          "2021-06-10",
          "2021-06-11",
          "2021-06-14",
          "2021-06-15",
          "2021-06-16",
          "2021-06-17",
          "2021-06-18",
          "2021-06-21",
          "2021-06-22",
          "2021-06-23",
          "2021-06-24",
          "2021-06-25",
          "2021-06-28",
          "2021-06-29",
          "2021-06-30",
          "2021-07-01",
          "2021-07-02",
          "2021-07-06",
          "2021-07-07",
          "2021-07-08"
         ],
         "xaxis": "x",
         "y": [
          200900,
          222800,
          129200,
          133900,
          703700,
          188900,
          103300,
          135700,
          141900,
          141400,
          80300,
          149200,
          170500,
          228400,
          261100,
          126400,
          97100,
          87800,
          1589600,
          758200,
          240785
         ],
         "yaxis": "y"
        }
       ],
       "layout": {
        "legend": {
         "tracegroupgap": 0
        },
        "template": {
         "data": {
          "bar": [
           {
            "error_x": {
             "color": "#2a3f5f"
            },
            "error_y": {
             "color": "#2a3f5f"
            },
            "marker": {
             "line": {
              "color": "#E5ECF6",
              "width": 0.5
             },
             "pattern": {
              "fillmode": "overlay",
              "size": 10,
              "solidity": 0.2
             }
            },
            "type": "bar"
           }
          ],
          "barpolar": [
           {
            "marker": {
             "line": {
              "color": "#E5ECF6",
              "width": 0.5
             },
             "pattern": {
              "fillmode": "overlay",
              "size": 10,
              "solidity": 0.2
             }
            },
            "type": "barpolar"
           }
          ],
          "carpet": [
           {
            "aaxis": {
             "endlinecolor": "#2a3f5f",
             "gridcolor": "white",
             "linecolor": "white",
             "minorgridcolor": "white",
             "startlinecolor": "#2a3f5f"
            },
            "baxis": {
             "endlinecolor": "#2a3f5f",
             "gridcolor": "white",
             "linecolor": "white",
             "minorgridcolor": "white",
             "startlinecolor": "#2a3f5f"
            },
            "type": "carpet"
           }
          ],
          "choropleth": [
           {
            "colorbar": {
             "outlinewidth": 0,
             "ticks": ""
            },
            "type": "choropleth"
           }
          ],
          "contour": [
           {
            "colorbar": {
             "outlinewidth": 0,
             "ticks": ""
            },
            "colorscale": [
             [
              0,
              "#0d0887"
             ],
             [
              0.1111111111111111,
              "#46039f"
             ],
             [
              0.2222222222222222,
              "#7201a8"
             ],
             [
              0.3333333333333333,
              "#9c179e"
             ],
             [
              0.4444444444444444,
              "#bd3786"
             ],
             [
              0.5555555555555556,
              "#d8576b"
             ],
             [
              0.6666666666666666,
              "#ed7953"
             ],
             [
              0.7777777777777778,
              "#fb9f3a"
             ],
             [
              0.8888888888888888,
              "#fdca26"
             ],
             [
              1,
              "#f0f921"
             ]
            ],
            "type": "contour"
           }
          ],
          "contourcarpet": [
           {
            "colorbar": {
             "outlinewidth": 0,
             "ticks": ""
            },
            "type": "contourcarpet"
           }
          ],
          "heatmap": [
           {
            "colorbar": {
             "outlinewidth": 0,
             "ticks": ""
            },
            "colorscale": [
             [
              0,
              "#0d0887"
             ],
             [
              0.1111111111111111,
              "#46039f"
             ],
             [
              0.2222222222222222,
              "#7201a8"
             ],
             [
              0.3333333333333333,
              "#9c179e"
             ],
             [
              0.4444444444444444,
              "#bd3786"
             ],
             [
              0.5555555555555556,
              "#d8576b"
             ],
             [
              0.6666666666666666,
              "#ed7953"
             ],
             [
              0.7777777777777778,
              "#fb9f3a"
             ],
             [
              0.8888888888888888,
              "#fdca26"
             ],
             [
              1,
              "#f0f921"
             ]
            ],
            "type": "heatmap"
           }
          ],
          "heatmapgl": [
           {
            "colorbar": {
             "outlinewidth": 0,
             "ticks": ""
            },
            "colorscale": [
             [
              0,
              "#0d0887"
             ],
             [
              0.1111111111111111,
              "#46039f"
             ],
             [
              0.2222222222222222,
              "#7201a8"
             ],
             [
              0.3333333333333333,
              "#9c179e"
             ],
             [
              0.4444444444444444,
              "#bd3786"
             ],
             [
              0.5555555555555556,
              "#d8576b"
             ],
             [
              0.6666666666666666,
              "#ed7953"
             ],
             [
              0.7777777777777778,
              "#fb9f3a"
             ],
             [
              0.8888888888888888,
              "#fdca26"
             ],
             [
              1,
              "#f0f921"
             ]
            ],
            "type": "heatmapgl"
           }
          ],
          "histogram": [
           {
            "marker": {
             "pattern": {
              "fillmode": "overlay",
              "size": 10,
              "solidity": 0.2
             }
            },
            "type": "histogram"
           }
          ],
          "histogram2d": [
           {
            "colorbar": {
             "outlinewidth": 0,
             "ticks": ""
            },
            "colorscale": [
             [
              0,
              "#0d0887"
             ],
             [
              0.1111111111111111,
              "#46039f"
             ],
             [
              0.2222222222222222,
              "#7201a8"
             ],
             [
              0.3333333333333333,
              "#9c179e"
             ],
             [
              0.4444444444444444,
              "#bd3786"
             ],
             [
              0.5555555555555556,
              "#d8576b"
             ],
             [
              0.6666666666666666,
              "#ed7953"
             ],
             [
              0.7777777777777778,
              "#fb9f3a"
             ],
             [
              0.8888888888888888,
              "#fdca26"
             ],
             [
              1,
              "#f0f921"
             ]
            ],
            "type": "histogram2d"
           }
          ],
          "histogram2dcontour": [
           {
            "colorbar": {
             "outlinewidth": 0,
             "ticks": ""
            },
            "colorscale": [
             [
              0,
              "#0d0887"
             ],
             [
              0.1111111111111111,
              "#46039f"
             ],
             [
              0.2222222222222222,
              "#7201a8"
             ],
             [
              0.3333333333333333,
              "#9c179e"
             ],
             [
              0.4444444444444444,
              "#bd3786"
             ],
             [
              0.5555555555555556,
              "#d8576b"
             ],
             [
              0.6666666666666666,
              "#ed7953"
             ],
             [
              0.7777777777777778,
              "#fb9f3a"
             ],
             [
              0.8888888888888888,
              "#fdca26"
             ],
             [
              1,
              "#f0f921"
             ]
            ],
            "type": "histogram2dcontour"
           }
          ],
          "mesh3d": [
           {
            "colorbar": {
             "outlinewidth": 0,
             "ticks": ""
            },
            "type": "mesh3d"
           }
          ],
          "parcoords": [
           {
            "line": {
             "colorbar": {
              "outlinewidth": 0,
              "ticks": ""
             }
            },
            "type": "parcoords"
           }
          ],
          "pie": [
           {
            "automargin": true,
            "type": "pie"
           }
          ],
          "scatter": [
           {
            "marker": {
             "colorbar": {
              "outlinewidth": 0,
              "ticks": ""
             }
            },
            "type": "scatter"
           }
          ],
          "scatter3d": [
           {
            "line": {
             "colorbar": {
              "outlinewidth": 0,
              "ticks": ""
             }
            },
            "marker": {
             "colorbar": {
              "outlinewidth": 0,
              "ticks": ""
             }
            },
            "type": "scatter3d"
           }
          ],
          "scattercarpet": [
           {
            "marker": {
             "colorbar": {
              "outlinewidth": 0,
              "ticks": ""
             }
            },
            "type": "scattercarpet"
           }
          ],
          "scattergeo": [
           {
            "marker": {
             "colorbar": {
              "outlinewidth": 0,
              "ticks": ""
             }
            },
            "type": "scattergeo"
           }
          ],
          "scattergl": [
           {
            "marker": {
             "colorbar": {
              "outlinewidth": 0,
              "ticks": ""
             }
            },
            "type": "scattergl"
           }
          ],
          "scattermapbox": [
           {
            "marker": {
             "colorbar": {
              "outlinewidth": 0,
              "ticks": ""
             }
            },
            "type": "scattermapbox"
           }
          ],
          "scatterpolar": [
           {
            "marker": {
             "colorbar": {
              "outlinewidth": 0,
              "ticks": ""
             }
            },
            "type": "scatterpolar"
           }
          ],
          "scatterpolargl": [
           {
            "marker": {
             "colorbar": {
              "outlinewidth": 0,
              "ticks": ""
             }
            },
            "type": "scatterpolargl"
           }
          ],
          "scatterternary": [
           {
            "marker": {
             "colorbar": {
              "outlinewidth": 0,
              "ticks": ""
             }
            },
            "type": "scatterternary"
           }
          ],
          "surface": [
           {
            "colorbar": {
             "outlinewidth": 0,
             "ticks": ""
            },
            "colorscale": [
             [
              0,
              "#0d0887"
             ],
             [
              0.1111111111111111,
              "#46039f"
             ],
             [
              0.2222222222222222,
              "#7201a8"
             ],
             [
              0.3333333333333333,
              "#9c179e"
             ],
             [
              0.4444444444444444,
              "#bd3786"
             ],
             [
              0.5555555555555556,
              "#d8576b"
             ],
             [
              0.6666666666666666,
              "#ed7953"
             ],
             [
              0.7777777777777778,
              "#fb9f3a"
             ],
             [
              0.8888888888888888,
              "#fdca26"
             ],
             [
              1,
              "#f0f921"
             ]
            ],
            "type": "surface"
           }
          ],
          "table": [
           {
            "cells": {
             "fill": {
              "color": "#EBF0F8"
             },
             "line": {
              "color": "white"
             }
            },
            "header": {
             "fill": {
              "color": "#C8D4E3"
             },
             "line": {
              "color": "white"
             }
            },
            "type": "table"
           }
          ]
         },
         "layout": {
          "annotationdefaults": {
           "arrowcolor": "#2a3f5f",
           "arrowhead": 0,
           "arrowwidth": 1
          },
          "autotypenumbers": "strict",
          "coloraxis": {
           "colorbar": {
            "outlinewidth": 0,
            "ticks": ""
           }
          },
          "colorscale": {
           "diverging": [
            [
             0,
             "#8e0152"
            ],
            [
             0.1,
             "#c51b7d"
            ],
            [
             0.2,
             "#de77ae"
            ],
            [
             0.3,
             "#f1b6da"
            ],
            [
             0.4,
             "#fde0ef"
            ],
            [
             0.5,
             "#f7f7f7"
            ],
            [
             0.6,
             "#e6f5d0"
            ],
            [
             0.7,
             "#b8e186"
            ],
            [
             0.8,
             "#7fbc41"
            ],
            [
             0.9,
             "#4d9221"
            ],
            [
             1,
             "#276419"
            ]
           ],
           "sequential": [
            [
             0,
             "#0d0887"
            ],
            [
             0.1111111111111111,
             "#46039f"
            ],
            [
             0.2222222222222222,
             "#7201a8"
            ],
            [
             0.3333333333333333,
             "#9c179e"
            ],
            [
             0.4444444444444444,
             "#bd3786"
            ],
            [
             0.5555555555555556,
             "#d8576b"
            ],
            [
             0.6666666666666666,
             "#ed7953"
            ],
            [
             0.7777777777777778,
             "#fb9f3a"
            ],
            [
             0.8888888888888888,
             "#fdca26"
            ],
            [
             1,
             "#f0f921"
            ]
           ],
           "sequentialminus": [
            [
             0,
             "#0d0887"
            ],
            [
             0.1111111111111111,
             "#46039f"
            ],
            [
             0.2222222222222222,
             "#7201a8"
            ],
            [
             0.3333333333333333,
             "#9c179e"
            ],
            [
             0.4444444444444444,
             "#bd3786"
            ],
            [
             0.5555555555555556,
             "#d8576b"
            ],
            [
             0.6666666666666666,
             "#ed7953"
            ],
            [
             0.7777777777777778,
             "#fb9f3a"
            ],
            [
             0.8888888888888888,
             "#fdca26"
            ],
            [
             1,
             "#f0f921"
            ]
           ]
          },
          "colorway": [
           "#636efa",
           "#EF553B",
           "#00cc96",
           "#ab63fa",
           "#FFA15A",
           "#19d3f3",
           "#FF6692",
           "#B6E880",
           "#FF97FF",
           "#FECB52"
          ],
          "font": {
           "color": "#2a3f5f"
          },
          "geo": {
           "bgcolor": "white",
           "lakecolor": "white",
           "landcolor": "#E5ECF6",
           "showlakes": true,
           "showland": true,
           "subunitcolor": "white"
          },
          "hoverlabel": {
           "align": "left"
          },
          "hovermode": "closest",
          "mapbox": {
           "style": "light"
          },
          "paper_bgcolor": "white",
          "plot_bgcolor": "#E5ECF6",
          "polar": {
           "angularaxis": {
            "gridcolor": "white",
            "linecolor": "white",
            "ticks": ""
           },
           "bgcolor": "#E5ECF6",
           "radialaxis": {
            "gridcolor": "white",
            "linecolor": "white",
            "ticks": ""
           }
          },
          "scene": {
           "xaxis": {
            "backgroundcolor": "#E5ECF6",
            "gridcolor": "white",
            "gridwidth": 2,
            "linecolor": "white",
            "showbackground": true,
            "ticks": "",
            "zerolinecolor": "white"
           },
           "yaxis": {
            "backgroundcolor": "#E5ECF6",
            "gridcolor": "white",
            "gridwidth": 2,
            "linecolor": "white",
            "showbackground": true,
            "ticks": "",
            "zerolinecolor": "white"
           },
           "zaxis": {
            "backgroundcolor": "#E5ECF6",
            "gridcolor": "white",
            "gridwidth": 2,
            "linecolor": "white",
            "showbackground": true,
            "ticks": "",
            "zerolinecolor": "white"
           }
          },
          "shapedefaults": {
           "line": {
            "color": "#2a3f5f"
           }
          },
          "ternary": {
           "aaxis": {
            "gridcolor": "white",
            "linecolor": "white",
            "ticks": ""
           },
           "baxis": {
            "gridcolor": "white",
            "linecolor": "white",
            "ticks": ""
           },
           "bgcolor": "#E5ECF6",
           "caxis": {
            "gridcolor": "white",
            "linecolor": "white",
            "ticks": ""
           }
          },
          "title": {
           "x": 0.05
          },
          "xaxis": {
           "automargin": true,
           "gridcolor": "white",
           "linecolor": "white",
           "ticks": "",
           "title": {
            "standoff": 15
           },
           "zerolinecolor": "white",
           "zerolinewidth": 2
          },
          "yaxis": {
           "automargin": true,
           "gridcolor": "white",
           "linecolor": "white",
           "ticks": "",
           "title": {
            "standoff": 15
           },
           "zerolinecolor": "white",
           "zerolinewidth": 2
          }
         }
        },
        "title": {
         "text": "AWAY Volume"
        },
        "xaxis": {
         "anchor": "y",
         "domain": [
          0,
          1
         ],
         "title": {
          "text": "date"
         }
        },
        "yaxis": {
         "anchor": "x",
         "domain": [
          0,
          1
         ],
         "title": {
          "text": "volume"
         }
        }
       }
      },
      "text/html": [
       "<div>                            <div id=\"3d4ce27c-013f-43ff-af8b-626df7a2d944\" class=\"plotly-graph-div\" style=\"height:525px; width:100%;\"></div>            <script type=\"text/javascript\">                require([\"plotly\"], function(Plotly) {                    window.PLOTLYENV=window.PLOTLYENV || {};                                    if (document.getElementById(\"3d4ce27c-013f-43ff-af8b-626df7a2d944\")) {                    Plotly.newPlot(                        \"3d4ce27c-013f-43ff-af8b-626df7a2d944\",                        [{\"hovertemplate\":\"date=%{x}<br>volume=%{y}<extra></extra>\",\"legendgroup\":\"\",\"line\":{\"color\":\"#636efa\",\"dash\":\"solid\"},\"mode\":\"lines\",\"name\":\"\",\"orientation\":\"v\",\"showlegend\":false,\"type\":\"scatter\",\"x\":[\"2021-06-09\",\"2021-06-10\",\"2021-06-11\",\"2021-06-14\",\"2021-06-15\",\"2021-06-16\",\"2021-06-17\",\"2021-06-18\",\"2021-06-21\",\"2021-06-22\",\"2021-06-23\",\"2021-06-24\",\"2021-06-25\",\"2021-06-28\",\"2021-06-29\",\"2021-06-30\",\"2021-07-01\",\"2021-07-02\",\"2021-07-06\",\"2021-07-07\",\"2021-07-08\"],\"xaxis\":\"x\",\"y\":[200900,222800,129200,133900,703700,188900,103300,135700,141900,141400,80300,149200,170500,228400,261100,126400,97100,87800,1589600,758200,240785],\"yaxis\":\"y\"}],                        {\"legend\":{\"tracegroupgap\":0},\"template\":{\"data\":{\"bar\":[{\"error_x\":{\"color\":\"#2a3f5f\"},\"error_y\":{\"color\":\"#2a3f5f\"},\"marker\":{\"line\":{\"color\":\"#E5ECF6\",\"width\":0.5},\"pattern\":{\"fillmode\":\"overlay\",\"size\":10,\"solidity\":0.2}},\"type\":\"bar\"}],\"barpolar\":[{\"marker\":{\"line\":{\"color\":\"#E5ECF6\",\"width\":0.5},\"pattern\":{\"fillmode\":\"overlay\",\"size\":10,\"solidity\":0.2}},\"type\":\"barpolar\"}],\"carpet\":[{\"aaxis\":{\"endlinecolor\":\"#2a3f5f\",\"gridcolor\":\"white\",\"linecolor\":\"white\",\"minorgridcolor\":\"white\",\"startlinecolor\":\"#2a3f5f\"},\"baxis\":{\"endlinecolor\":\"#2a3f5f\",\"gridcolor\":\"white\",\"linecolor\":\"white\",\"minorgridcolor\":\"white\",\"startlinecolor\":\"#2a3f5f\"},\"type\":\"carpet\"}],\"choropleth\":[{\"colorbar\":{\"outlinewidth\":0,\"ticks\":\"\"},\"type\":\"choropleth\"}],\"contour\":[{\"colorbar\":{\"outlinewidth\":0,\"ticks\":\"\"},\"colorscale\":[[0.0,\"#0d0887\"],[0.1111111111111111,\"#46039f\"],[0.2222222222222222,\"#7201a8\"],[0.3333333333333333,\"#9c179e\"],[0.4444444444444444,\"#bd3786\"],[0.5555555555555556,\"#d8576b\"],[0.6666666666666666,\"#ed7953\"],[0.7777777777777778,\"#fb9f3a\"],[0.8888888888888888,\"#fdca26\"],[1.0,\"#f0f921\"]],\"type\":\"contour\"}],\"contourcarpet\":[{\"colorbar\":{\"outlinewidth\":0,\"ticks\":\"\"},\"type\":\"contourcarpet\"}],\"heatmap\":[{\"colorbar\":{\"outlinewidth\":0,\"ticks\":\"\"},\"colorscale\":[[0.0,\"#0d0887\"],[0.1111111111111111,\"#46039f\"],[0.2222222222222222,\"#7201a8\"],[0.3333333333333333,\"#9c179e\"],[0.4444444444444444,\"#bd3786\"],[0.5555555555555556,\"#d8576b\"],[0.6666666666666666,\"#ed7953\"],[0.7777777777777778,\"#fb9f3a\"],[0.8888888888888888,\"#fdca26\"],[1.0,\"#f0f921\"]],\"type\":\"heatmap\"}],\"heatmapgl\":[{\"colorbar\":{\"outlinewidth\":0,\"ticks\":\"\"},\"colorscale\":[[0.0,\"#0d0887\"],[0.1111111111111111,\"#46039f\"],[0.2222222222222222,\"#7201a8\"],[0.3333333333333333,\"#9c179e\"],[0.4444444444444444,\"#bd3786\"],[0.5555555555555556,\"#d8576b\"],[0.6666666666666666,\"#ed7953\"],[0.7777777777777778,\"#fb9f3a\"],[0.8888888888888888,\"#fdca26\"],[1.0,\"#f0f921\"]],\"type\":\"heatmapgl\"}],\"histogram\":[{\"marker\":{\"pattern\":{\"fillmode\":\"overlay\",\"size\":10,\"solidity\":0.2}},\"type\":\"histogram\"}],\"histogram2d\":[{\"colorbar\":{\"outlinewidth\":0,\"ticks\":\"\"},\"colorscale\":[[0.0,\"#0d0887\"],[0.1111111111111111,\"#46039f\"],[0.2222222222222222,\"#7201a8\"],[0.3333333333333333,\"#9c179e\"],[0.4444444444444444,\"#bd3786\"],[0.5555555555555556,\"#d8576b\"],[0.6666666666666666,\"#ed7953\"],[0.7777777777777778,\"#fb9f3a\"],[0.8888888888888888,\"#fdca26\"],[1.0,\"#f0f921\"]],\"type\":\"histogram2d\"}],\"histogram2dcontour\":[{\"colorbar\":{\"outlinewidth\":0,\"ticks\":\"\"},\"colorscale\":[[0.0,\"#0d0887\"],[0.1111111111111111,\"#46039f\"],[0.2222222222222222,\"#7201a8\"],[0.3333333333333333,\"#9c179e\"],[0.4444444444444444,\"#bd3786\"],[0.5555555555555556,\"#d8576b\"],[0.6666666666666666,\"#ed7953\"],[0.7777777777777778,\"#fb9f3a\"],[0.8888888888888888,\"#fdca26\"],[1.0,\"#f0f921\"]],\"type\":\"histogram2dcontour\"}],\"mesh3d\":[{\"colorbar\":{\"outlinewidth\":0,\"ticks\":\"\"},\"type\":\"mesh3d\"}],\"parcoords\":[{\"line\":{\"colorbar\":{\"outlinewidth\":0,\"ticks\":\"\"}},\"type\":\"parcoords\"}],\"pie\":[{\"automargin\":true,\"type\":\"pie\"}],\"scatter\":[{\"marker\":{\"colorbar\":{\"outlinewidth\":0,\"ticks\":\"\"}},\"type\":\"scatter\"}],\"scatter3d\":[{\"line\":{\"colorbar\":{\"outlinewidth\":0,\"ticks\":\"\"}},\"marker\":{\"colorbar\":{\"outlinewidth\":0,\"ticks\":\"\"}},\"type\":\"scatter3d\"}],\"scattercarpet\":[{\"marker\":{\"colorbar\":{\"outlinewidth\":0,\"ticks\":\"\"}},\"type\":\"scattercarpet\"}],\"scattergeo\":[{\"marker\":{\"colorbar\":{\"outlinewidth\":0,\"ticks\":\"\"}},\"type\":\"scattergeo\"}],\"scattergl\":[{\"marker\":{\"colorbar\":{\"outlinewidth\":0,\"ticks\":\"\"}},\"type\":\"scattergl\"}],\"scattermapbox\":[{\"marker\":{\"colorbar\":{\"outlinewidth\":0,\"ticks\":\"\"}},\"type\":\"scattermapbox\"}],\"scatterpolar\":[{\"marker\":{\"colorbar\":{\"outlinewidth\":0,\"ticks\":\"\"}},\"type\":\"scatterpolar\"}],\"scatterpolargl\":[{\"marker\":{\"colorbar\":{\"outlinewidth\":0,\"ticks\":\"\"}},\"type\":\"scatterpolargl\"}],\"scatterternary\":[{\"marker\":{\"colorbar\":{\"outlinewidth\":0,\"ticks\":\"\"}},\"type\":\"scatterternary\"}],\"surface\":[{\"colorbar\":{\"outlinewidth\":0,\"ticks\":\"\"},\"colorscale\":[[0.0,\"#0d0887\"],[0.1111111111111111,\"#46039f\"],[0.2222222222222222,\"#7201a8\"],[0.3333333333333333,\"#9c179e\"],[0.4444444444444444,\"#bd3786\"],[0.5555555555555556,\"#d8576b\"],[0.6666666666666666,\"#ed7953\"],[0.7777777777777778,\"#fb9f3a\"],[0.8888888888888888,\"#fdca26\"],[1.0,\"#f0f921\"]],\"type\":\"surface\"}],\"table\":[{\"cells\":{\"fill\":{\"color\":\"#EBF0F8\"},\"line\":{\"color\":\"white\"}},\"header\":{\"fill\":{\"color\":\"#C8D4E3\"},\"line\":{\"color\":\"white\"}},\"type\":\"table\"}]},\"layout\":{\"annotationdefaults\":{\"arrowcolor\":\"#2a3f5f\",\"arrowhead\":0,\"arrowwidth\":1},\"autotypenumbers\":\"strict\",\"coloraxis\":{\"colorbar\":{\"outlinewidth\":0,\"ticks\":\"\"}},\"colorscale\":{\"diverging\":[[0,\"#8e0152\"],[0.1,\"#c51b7d\"],[0.2,\"#de77ae\"],[0.3,\"#f1b6da\"],[0.4,\"#fde0ef\"],[0.5,\"#f7f7f7\"],[0.6,\"#e6f5d0\"],[0.7,\"#b8e186\"],[0.8,\"#7fbc41\"],[0.9,\"#4d9221\"],[1,\"#276419\"]],\"sequential\":[[0.0,\"#0d0887\"],[0.1111111111111111,\"#46039f\"],[0.2222222222222222,\"#7201a8\"],[0.3333333333333333,\"#9c179e\"],[0.4444444444444444,\"#bd3786\"],[0.5555555555555556,\"#d8576b\"],[0.6666666666666666,\"#ed7953\"],[0.7777777777777778,\"#fb9f3a\"],[0.8888888888888888,\"#fdca26\"],[1.0,\"#f0f921\"]],\"sequentialminus\":[[0.0,\"#0d0887\"],[0.1111111111111111,\"#46039f\"],[0.2222222222222222,\"#7201a8\"],[0.3333333333333333,\"#9c179e\"],[0.4444444444444444,\"#bd3786\"],[0.5555555555555556,\"#d8576b\"],[0.6666666666666666,\"#ed7953\"],[0.7777777777777778,\"#fb9f3a\"],[0.8888888888888888,\"#fdca26\"],[1.0,\"#f0f921\"]]},\"colorway\":[\"#636efa\",\"#EF553B\",\"#00cc96\",\"#ab63fa\",\"#FFA15A\",\"#19d3f3\",\"#FF6692\",\"#B6E880\",\"#FF97FF\",\"#FECB52\"],\"font\":{\"color\":\"#2a3f5f\"},\"geo\":{\"bgcolor\":\"white\",\"lakecolor\":\"white\",\"landcolor\":\"#E5ECF6\",\"showlakes\":true,\"showland\":true,\"subunitcolor\":\"white\"},\"hoverlabel\":{\"align\":\"left\"},\"hovermode\":\"closest\",\"mapbox\":{\"style\":\"light\"},\"paper_bgcolor\":\"white\",\"plot_bgcolor\":\"#E5ECF6\",\"polar\":{\"angularaxis\":{\"gridcolor\":\"white\",\"linecolor\":\"white\",\"ticks\":\"\"},\"bgcolor\":\"#E5ECF6\",\"radialaxis\":{\"gridcolor\":\"white\",\"linecolor\":\"white\",\"ticks\":\"\"}},\"scene\":{\"xaxis\":{\"backgroundcolor\":\"#E5ECF6\",\"gridcolor\":\"white\",\"gridwidth\":2,\"linecolor\":\"white\",\"showbackground\":true,\"ticks\":\"\",\"zerolinecolor\":\"white\"},\"yaxis\":{\"backgroundcolor\":\"#E5ECF6\",\"gridcolor\":\"white\",\"gridwidth\":2,\"linecolor\":\"white\",\"showbackground\":true,\"ticks\":\"\",\"zerolinecolor\":\"white\"},\"zaxis\":{\"backgroundcolor\":\"#E5ECF6\",\"gridcolor\":\"white\",\"gridwidth\":2,\"linecolor\":\"white\",\"showbackground\":true,\"ticks\":\"\",\"zerolinecolor\":\"white\"}},\"shapedefaults\":{\"line\":{\"color\":\"#2a3f5f\"}},\"ternary\":{\"aaxis\":{\"gridcolor\":\"white\",\"linecolor\":\"white\",\"ticks\":\"\"},\"baxis\":{\"gridcolor\":\"white\",\"linecolor\":\"white\",\"ticks\":\"\"},\"bgcolor\":\"#E5ECF6\",\"caxis\":{\"gridcolor\":\"white\",\"linecolor\":\"white\",\"ticks\":\"\"}},\"title\":{\"x\":0.05},\"xaxis\":{\"automargin\":true,\"gridcolor\":\"white\",\"linecolor\":\"white\",\"ticks\":\"\",\"title\":{\"standoff\":15},\"zerolinecolor\":\"white\",\"zerolinewidth\":2},\"yaxis\":{\"automargin\":true,\"gridcolor\":\"white\",\"linecolor\":\"white\",\"ticks\":\"\",\"title\":{\"standoff\":15},\"zerolinecolor\":\"white\",\"zerolinewidth\":2}}},\"title\":{\"text\":\"AWAY Volume\"},\"xaxis\":{\"anchor\":\"y\",\"domain\":[0.0,1.0],\"title\":{\"text\":\"date\"}},\"yaxis\":{\"anchor\":\"x\",\"domain\":[0.0,1.0],\"title\":{\"text\":\"volume\"}}},                        {\"responsive\": true}                    ).then(function(){\n",
       "                            \n",
       "var gd = document.getElementById('3d4ce27c-013f-43ff-af8b-626df7a2d944');\n",
       "var x = new MutationObserver(function (mutations, observer) {{\n",
       "        var display = window.getComputedStyle(gd).display;\n",
       "        if (!display || display === 'none') {{\n",
       "            console.log([gd, 'removed!']);\n",
       "            Plotly.purge(gd);\n",
       "            observer.disconnect();\n",
       "        }}\n",
       "}});\n",
       "\n",
       "// Listen for the removal of the full notebook cells\n",
       "var notebookContainer = gd.closest('#notebook-container');\n",
       "if (notebookContainer) {{\n",
       "    x.observe(notebookContainer, {childList: true});\n",
       "}}\n",
       "\n",
       "// Listen for the clearing of the current output cell\n",
       "var outputEl = gd.closest('.output');\n",
       "if (outputEl) {{\n",
       "    x.observe(outputEl, {childList: true});\n",
       "}}\n",
       "\n",
       "                        })                };                });            </script>        </div>"
      ]
     },
     "metadata": {},
     "output_type": "display_data"
    },
    {
     "name": "stdout",
     "output_type": "stream",
     "text": [
      "=============================== AWAY =================================\n",
      "\n",
      "-------------------------- Summary Details ----------------------------\n",
      "                             Value\n",
      "totalAssets              381284480\n",
      "previousClose                28.64\n",
      "open                         27.93\n",
      "fiftyDayAverage            30.5638\n",
      "fiftyDayAverage            30.5638\n",
      "fiftyTwoWeekLow              17.16\n",
      "fiftyTwoWeekHigh             34.54\n",
      "twoHundredDayAverage       29.6935\n",
      "volume                      240785\n",
      "averageVolume               269661\n",
      "averageVolume10days         449800\n",
      "averageDailyVolume10Day     449800\n",
      "-------------------------- Key Factor ----------------------------\n",
      "                                  Value\n",
      "category              Consumer Cyclical\n",
      "ytdReturn                        0.1502\n",
      "fundFamily                        ETFMG\n",
      "fundInceptionDate   2020-02-11 19:00:00\n",
      "legalType          Exchange Traded Fund\n",
      "-------------------------- Fund Sector ----------------------------\n",
      "               Fund Sector  Percentage\n",
      "1        consumer_cyclical      0.6179\n",
      "4               technology      0.2597\n",
      "5   communication_services      0.1224\n",
      "0               realestate      0.0000\n",
      "2          basic_materials      0.0000\n",
      "3       consumer_defensive      0.0000\n",
      "6       financial_services      0.0000\n",
      "7                utilities      0.0000\n",
      "8              industrials      0.0000\n",
      "9                   energy      0.0000\n",
      "10              healthcare      0.0000\n",
      "-------------------------- Holdings ----------------------------\n",
      "    symbol                           holdingName  holdingPercent\n",
      "0     ABNB  Airbnb Inc Ordinary Shares - Class A          0.0495\n",
      "1     UBER                 Uber Technologies Inc          0.0480\n",
      "2     BKNG                  Booking Holdings Inc          0.0445\n",
      "3     LYFT                      Lyft Inc Class A          0.0445\n",
      "4  MMYT.BO                        MakeMyTrip Ltd          0.0440\n",
      "5    TRN.L                         Trainline PLC          0.0428\n",
      "6     TCOM                Trip.com Group Ltd ADR          0.0422\n",
      "7    00696      TravelSky Technology Ltd Class H          0.0411\n",
      "8     EXPE                     Expedia Group Inc          0.0398\n",
      "9     TRIP                       TripAdvisor Inc          0.0395\n",
      "-------------------------- Returns ----------------------------\n",
      "                                    Value\n",
      "asOfDate              2021-07-06 20:00:00\n",
      "ytdReturnPct                       0.1502\n",
      "oneYearTotalReturn                   0.56\n",
      "threeYearTotalReturn                    0\n",
      "\n",
      "                           Value\n",
      "asOfDate     2021-06-29 20:00:00\n",
      "ytd                       0.1506\n",
      "oneMonth                  -0.044\n",
      "threeMonth               -0.0467\n",
      "oneYear                   0.6184\n",
      "threeYear                      0\n",
      "fiveYear                       0\n",
      "tenYear                        0\n",
      "lastBullMkt                    0\n",
      "lastBearMkt                    0\n",
      "\n",
      "   year\n",
      "0  2021\n",
      "1  2020\n",
      "-------------------------- Risk Factors ----------------------------\n",
      "  year  alpha  beta  meanAnnualReturn  rSquared  stdDev  sharpeRatio  \\\n",
      "0   5y    0.0   0.0               0.0       0.0     0.0          0.0   \n",
      "1   3y    0.0   0.0               0.0       0.0     0.0          0.0   \n",
      "2  10y    0.0   0.0               0.0       0.0     0.0          0.0   \n",
      "\n",
      "   treynorRatio  \n",
      "0           0.0  \n",
      "1           0.0  \n",
      "2           0.0  \n",
      "=========================================================================\n"
     ]
    }
   ],
   "source": [
    "get_etf_holding('AWAY', '1mo')"
   ]
  },
  {
   "cell_type": "code",
   "execution_count": 113,
   "metadata": {
    "scrolled": false
   },
   "outputs": [
    {
     "data": {
      "application/vnd.plotly.v1+json": {
       "config": {
        "plotlyServerURL": "https://plot.ly"
       },
       "data": [
        {
         "hovertemplate": "variable=open<br>date=%{x}<br>value=%{y}<extra></extra>",
         "legendgroup": "open",
         "line": {
          "color": "#636efa",
          "dash": "solid"
         },
         "mode": "lines",
         "name": "open",
         "orientation": "v",
         "showlegend": true,
         "type": "scatter",
         "x": [
          "2021-06-09",
          "2021-06-10",
          "2021-06-11",
          "2021-06-14",
          "2021-06-15",
          "2021-06-16",
          "2021-06-17",
          "2021-06-18",
          "2021-06-21",
          "2021-06-22",
          "2021-06-23",
          "2021-06-24",
          "2021-06-25",
          "2021-06-28",
          "2021-06-29",
          "2021-06-30",
          "2021-07-01",
          "2021-07-02",
          "2021-07-06",
          "2021-07-07",
          "2021-07-08"
         ],
         "xaxis": "x",
         "y": [
          26.950000762939453,
          26.780000686645508,
          26.309999465942383,
          26.290000915527344,
          25.989999771118164,
          25.81999969482422,
          25.809999465942383,
          25.200000762939453,
          25.290000915527344,
          25.600000381469727,
          25.3799991607666,
          25.440000534057617,
          25.350000381469727,
          24.920000076293945,
          24.290000915527344,
          24.100000381469727,
          24.40999984741211,
          24.729999542236328,
          24.540000915527344,
          24.010000228881836,
          23.1299991607666
         ],
         "yaxis": "y"
        },
        {
         "hovertemplate": "variable=high<br>date=%{x}<br>value=%{y}<extra></extra>",
         "legendgroup": "high",
         "line": {
          "color": "#EF553B",
          "dash": "solid"
         },
         "mode": "lines",
         "name": "high",
         "orientation": "v",
         "showlegend": true,
         "type": "scatter",
         "x": [
          "2021-06-09",
          "2021-06-10",
          "2021-06-11",
          "2021-06-14",
          "2021-06-15",
          "2021-06-16",
          "2021-06-17",
          "2021-06-18",
          "2021-06-21",
          "2021-06-22",
          "2021-06-23",
          "2021-06-24",
          "2021-06-25",
          "2021-06-28",
          "2021-06-29",
          "2021-06-30",
          "2021-07-01",
          "2021-07-02",
          "2021-07-06",
          "2021-07-07",
          "2021-07-08"
         ],
         "xaxis": "x",
         "y": [
          26.950000762939453,
          26.81999969482422,
          26.40999984741211,
          26.3700008392334,
          26.059999465942383,
          26.020000457763672,
          26.020000457763672,
          25.40999984741211,
          25.670000076293945,
          25.649999618530273,
          25.459999084472656,
          25.469999313354492,
          25.360000610351562,
          24.950000762939453,
          24.350000381469727,
          24.360000610351562,
          24.709999084472656,
          24.729999542236328,
          24.729999542236328,
          24.18000030517578,
          23.719999313354492
         ],
         "yaxis": "y"
        },
        {
         "hovertemplate": "variable=close<br>date=%{x}<br>value=%{y}<extra></extra>",
         "legendgroup": "close",
         "line": {
          "color": "#00cc96",
          "dash": "solid"
         },
         "mode": "lines",
         "name": "close",
         "orientation": "v",
         "showlegend": true,
         "type": "scatter",
         "x": [
          "2021-06-09",
          "2021-06-10",
          "2021-06-11",
          "2021-06-14",
          "2021-06-15",
          "2021-06-16",
          "2021-06-17",
          "2021-06-18",
          "2021-06-21",
          "2021-06-22",
          "2021-06-23",
          "2021-06-24",
          "2021-06-25",
          "2021-06-28",
          "2021-06-29",
          "2021-06-30",
          "2021-07-01",
          "2021-07-02",
          "2021-07-06",
          "2021-07-07",
          "2021-07-08"
         ],
         "xaxis": "x",
         "y": [
          26.520000457763672,
          26.239999771118164,
          26.329999923706055,
          25.959999084472656,
          25.81999969482422,
          25.760000228881836,
          25.3700008392334,
          25.219999313354492,
          25.6299991607666,
          25.389999389648438,
          25.350000381469727,
          25.299999237060547,
          25.049999237060547,
          24.309999465942383,
          24.06999969482422,
          24.18000030517578,
          24.6200008392334,
          24.5,
          24.100000381469727,
          23.670000076293945,
          23.43000030517578
         ],
         "yaxis": "y"
        },
        {
         "hovertemplate": "variable=low<br>date=%{x}<br>value=%{y}<extra></extra>",
         "legendgroup": "low",
         "line": {
          "color": "#ab63fa",
          "dash": "solid"
         },
         "mode": "lines",
         "name": "low",
         "orientation": "v",
         "showlegend": true,
         "type": "scatter",
         "x": [
          "2021-06-09",
          "2021-06-10",
          "2021-06-11",
          "2021-06-14",
          "2021-06-15",
          "2021-06-16",
          "2021-06-17",
          "2021-06-18",
          "2021-06-21",
          "2021-06-22",
          "2021-06-23",
          "2021-06-24",
          "2021-06-25",
          "2021-06-28",
          "2021-06-29",
          "2021-06-30",
          "2021-07-01",
          "2021-07-02",
          "2021-07-06",
          "2021-07-07",
          "2021-07-08"
         ],
         "xaxis": "x",
         "y": [
          26.5,
          26.149999618530273,
          26.22100067138672,
          25.899999618530273,
          25.700000762939453,
          25.610000610351562,
          25.145000457763672,
          25,
          25.190000534057617,
          25.100000381469727,
          25.329999923706055,
          25.114999771118164,
          25.020000457763672,
          24.209999084472656,
          24.049999237060547,
          24.020000457763672,
          24.350000381469727,
          24.350000381469727,
          23.989999771118164,
          23.450000762939453,
          22.969999313354492
         ],
         "yaxis": "y"
        },
        {
         "hovertemplate": "variable=adjclose<br>date=%{x}<br>value=%{y}<extra></extra>",
         "legendgroup": "adjclose",
         "line": {
          "color": "#FFA15A",
          "dash": "solid"
         },
         "mode": "lines",
         "name": "adjclose",
         "orientation": "v",
         "showlegend": true,
         "type": "scatter",
         "x": [
          "2021-06-09",
          "2021-06-10",
          "2021-06-11",
          "2021-06-14",
          "2021-06-15",
          "2021-06-16",
          "2021-06-17",
          "2021-06-18",
          "2021-06-21",
          "2021-06-22",
          "2021-06-23",
          "2021-06-24",
          "2021-06-25",
          "2021-06-28",
          "2021-06-29",
          "2021-06-30",
          "2021-07-01",
          "2021-07-02",
          "2021-07-06",
          "2021-07-07",
          "2021-07-08"
         ],
         "xaxis": "x",
         "y": [
          26.520000457763672,
          26.239999771118164,
          26.329999923706055,
          25.959999084472656,
          25.81999969482422,
          25.760000228881836,
          25.3700008392334,
          25.219999313354492,
          25.6299991607666,
          25.389999389648438,
          25.350000381469727,
          25.299999237060547,
          25.049999237060547,
          24.309999465942383,
          24.06999969482422,
          24.18000030517578,
          24.6200008392334,
          24.5,
          24.100000381469727,
          23.670000076293945,
          23.43000030517578
         ],
         "yaxis": "y"
        }
       ],
       "layout": {
        "legend": {
         "title": {
          "text": "variable"
         },
         "tracegroupgap": 0
        },
        "template": {
         "data": {
          "bar": [
           {
            "error_x": {
             "color": "#2a3f5f"
            },
            "error_y": {
             "color": "#2a3f5f"
            },
            "marker": {
             "line": {
              "color": "#E5ECF6",
              "width": 0.5
             },
             "pattern": {
              "fillmode": "overlay",
              "size": 10,
              "solidity": 0.2
             }
            },
            "type": "bar"
           }
          ],
          "barpolar": [
           {
            "marker": {
             "line": {
              "color": "#E5ECF6",
              "width": 0.5
             },
             "pattern": {
              "fillmode": "overlay",
              "size": 10,
              "solidity": 0.2
             }
            },
            "type": "barpolar"
           }
          ],
          "carpet": [
           {
            "aaxis": {
             "endlinecolor": "#2a3f5f",
             "gridcolor": "white",
             "linecolor": "white",
             "minorgridcolor": "white",
             "startlinecolor": "#2a3f5f"
            },
            "baxis": {
             "endlinecolor": "#2a3f5f",
             "gridcolor": "white",
             "linecolor": "white",
             "minorgridcolor": "white",
             "startlinecolor": "#2a3f5f"
            },
            "type": "carpet"
           }
          ],
          "choropleth": [
           {
            "colorbar": {
             "outlinewidth": 0,
             "ticks": ""
            },
            "type": "choropleth"
           }
          ],
          "contour": [
           {
            "colorbar": {
             "outlinewidth": 0,
             "ticks": ""
            },
            "colorscale": [
             [
              0,
              "#0d0887"
             ],
             [
              0.1111111111111111,
              "#46039f"
             ],
             [
              0.2222222222222222,
              "#7201a8"
             ],
             [
              0.3333333333333333,
              "#9c179e"
             ],
             [
              0.4444444444444444,
              "#bd3786"
             ],
             [
              0.5555555555555556,
              "#d8576b"
             ],
             [
              0.6666666666666666,
              "#ed7953"
             ],
             [
              0.7777777777777778,
              "#fb9f3a"
             ],
             [
              0.8888888888888888,
              "#fdca26"
             ],
             [
              1,
              "#f0f921"
             ]
            ],
            "type": "contour"
           }
          ],
          "contourcarpet": [
           {
            "colorbar": {
             "outlinewidth": 0,
             "ticks": ""
            },
            "type": "contourcarpet"
           }
          ],
          "heatmap": [
           {
            "colorbar": {
             "outlinewidth": 0,
             "ticks": ""
            },
            "colorscale": [
             [
              0,
              "#0d0887"
             ],
             [
              0.1111111111111111,
              "#46039f"
             ],
             [
              0.2222222222222222,
              "#7201a8"
             ],
             [
              0.3333333333333333,
              "#9c179e"
             ],
             [
              0.4444444444444444,
              "#bd3786"
             ],
             [
              0.5555555555555556,
              "#d8576b"
             ],
             [
              0.6666666666666666,
              "#ed7953"
             ],
             [
              0.7777777777777778,
              "#fb9f3a"
             ],
             [
              0.8888888888888888,
              "#fdca26"
             ],
             [
              1,
              "#f0f921"
             ]
            ],
            "type": "heatmap"
           }
          ],
          "heatmapgl": [
           {
            "colorbar": {
             "outlinewidth": 0,
             "ticks": ""
            },
            "colorscale": [
             [
              0,
              "#0d0887"
             ],
             [
              0.1111111111111111,
              "#46039f"
             ],
             [
              0.2222222222222222,
              "#7201a8"
             ],
             [
              0.3333333333333333,
              "#9c179e"
             ],
             [
              0.4444444444444444,
              "#bd3786"
             ],
             [
              0.5555555555555556,
              "#d8576b"
             ],
             [
              0.6666666666666666,
              "#ed7953"
             ],
             [
              0.7777777777777778,
              "#fb9f3a"
             ],
             [
              0.8888888888888888,
              "#fdca26"
             ],
             [
              1,
              "#f0f921"
             ]
            ],
            "type": "heatmapgl"
           }
          ],
          "histogram": [
           {
            "marker": {
             "pattern": {
              "fillmode": "overlay",
              "size": 10,
              "solidity": 0.2
             }
            },
            "type": "histogram"
           }
          ],
          "histogram2d": [
           {
            "colorbar": {
             "outlinewidth": 0,
             "ticks": ""
            },
            "colorscale": [
             [
              0,
              "#0d0887"
             ],
             [
              0.1111111111111111,
              "#46039f"
             ],
             [
              0.2222222222222222,
              "#7201a8"
             ],
             [
              0.3333333333333333,
              "#9c179e"
             ],
             [
              0.4444444444444444,
              "#bd3786"
             ],
             [
              0.5555555555555556,
              "#d8576b"
             ],
             [
              0.6666666666666666,
              "#ed7953"
             ],
             [
              0.7777777777777778,
              "#fb9f3a"
             ],
             [
              0.8888888888888888,
              "#fdca26"
             ],
             [
              1,
              "#f0f921"
             ]
            ],
            "type": "histogram2d"
           }
          ],
          "histogram2dcontour": [
           {
            "colorbar": {
             "outlinewidth": 0,
             "ticks": ""
            },
            "colorscale": [
             [
              0,
              "#0d0887"
             ],
             [
              0.1111111111111111,
              "#46039f"
             ],
             [
              0.2222222222222222,
              "#7201a8"
             ],
             [
              0.3333333333333333,
              "#9c179e"
             ],
             [
              0.4444444444444444,
              "#bd3786"
             ],
             [
              0.5555555555555556,
              "#d8576b"
             ],
             [
              0.6666666666666666,
              "#ed7953"
             ],
             [
              0.7777777777777778,
              "#fb9f3a"
             ],
             [
              0.8888888888888888,
              "#fdca26"
             ],
             [
              1,
              "#f0f921"
             ]
            ],
            "type": "histogram2dcontour"
           }
          ],
          "mesh3d": [
           {
            "colorbar": {
             "outlinewidth": 0,
             "ticks": ""
            },
            "type": "mesh3d"
           }
          ],
          "parcoords": [
           {
            "line": {
             "colorbar": {
              "outlinewidth": 0,
              "ticks": ""
             }
            },
            "type": "parcoords"
           }
          ],
          "pie": [
           {
            "automargin": true,
            "type": "pie"
           }
          ],
          "scatter": [
           {
            "marker": {
             "colorbar": {
              "outlinewidth": 0,
              "ticks": ""
             }
            },
            "type": "scatter"
           }
          ],
          "scatter3d": [
           {
            "line": {
             "colorbar": {
              "outlinewidth": 0,
              "ticks": ""
             }
            },
            "marker": {
             "colorbar": {
              "outlinewidth": 0,
              "ticks": ""
             }
            },
            "type": "scatter3d"
           }
          ],
          "scattercarpet": [
           {
            "marker": {
             "colorbar": {
              "outlinewidth": 0,
              "ticks": ""
             }
            },
            "type": "scattercarpet"
           }
          ],
          "scattergeo": [
           {
            "marker": {
             "colorbar": {
              "outlinewidth": 0,
              "ticks": ""
             }
            },
            "type": "scattergeo"
           }
          ],
          "scattergl": [
           {
            "marker": {
             "colorbar": {
              "outlinewidth": 0,
              "ticks": ""
             }
            },
            "type": "scattergl"
           }
          ],
          "scattermapbox": [
           {
            "marker": {
             "colorbar": {
              "outlinewidth": 0,
              "ticks": ""
             }
            },
            "type": "scattermapbox"
           }
          ],
          "scatterpolar": [
           {
            "marker": {
             "colorbar": {
              "outlinewidth": 0,
              "ticks": ""
             }
            },
            "type": "scatterpolar"
           }
          ],
          "scatterpolargl": [
           {
            "marker": {
             "colorbar": {
              "outlinewidth": 0,
              "ticks": ""
             }
            },
            "type": "scatterpolargl"
           }
          ],
          "scatterternary": [
           {
            "marker": {
             "colorbar": {
              "outlinewidth": 0,
              "ticks": ""
             }
            },
            "type": "scatterternary"
           }
          ],
          "surface": [
           {
            "colorbar": {
             "outlinewidth": 0,
             "ticks": ""
            },
            "colorscale": [
             [
              0,
              "#0d0887"
             ],
             [
              0.1111111111111111,
              "#46039f"
             ],
             [
              0.2222222222222222,
              "#7201a8"
             ],
             [
              0.3333333333333333,
              "#9c179e"
             ],
             [
              0.4444444444444444,
              "#bd3786"
             ],
             [
              0.5555555555555556,
              "#d8576b"
             ],
             [
              0.6666666666666666,
              "#ed7953"
             ],
             [
              0.7777777777777778,
              "#fb9f3a"
             ],
             [
              0.8888888888888888,
              "#fdca26"
             ],
             [
              1,
              "#f0f921"
             ]
            ],
            "type": "surface"
           }
          ],
          "table": [
           {
            "cells": {
             "fill": {
              "color": "#EBF0F8"
             },
             "line": {
              "color": "white"
             }
            },
            "header": {
             "fill": {
              "color": "#C8D4E3"
             },
             "line": {
              "color": "white"
             }
            },
            "type": "table"
           }
          ]
         },
         "layout": {
          "annotationdefaults": {
           "arrowcolor": "#2a3f5f",
           "arrowhead": 0,
           "arrowwidth": 1
          },
          "autotypenumbers": "strict",
          "coloraxis": {
           "colorbar": {
            "outlinewidth": 0,
            "ticks": ""
           }
          },
          "colorscale": {
           "diverging": [
            [
             0,
             "#8e0152"
            ],
            [
             0.1,
             "#c51b7d"
            ],
            [
             0.2,
             "#de77ae"
            ],
            [
             0.3,
             "#f1b6da"
            ],
            [
             0.4,
             "#fde0ef"
            ],
            [
             0.5,
             "#f7f7f7"
            ],
            [
             0.6,
             "#e6f5d0"
            ],
            [
             0.7,
             "#b8e186"
            ],
            [
             0.8,
             "#7fbc41"
            ],
            [
             0.9,
             "#4d9221"
            ],
            [
             1,
             "#276419"
            ]
           ],
           "sequential": [
            [
             0,
             "#0d0887"
            ],
            [
             0.1111111111111111,
             "#46039f"
            ],
            [
             0.2222222222222222,
             "#7201a8"
            ],
            [
             0.3333333333333333,
             "#9c179e"
            ],
            [
             0.4444444444444444,
             "#bd3786"
            ],
            [
             0.5555555555555556,
             "#d8576b"
            ],
            [
             0.6666666666666666,
             "#ed7953"
            ],
            [
             0.7777777777777778,
             "#fb9f3a"
            ],
            [
             0.8888888888888888,
             "#fdca26"
            ],
            [
             1,
             "#f0f921"
            ]
           ],
           "sequentialminus": [
            [
             0,
             "#0d0887"
            ],
            [
             0.1111111111111111,
             "#46039f"
            ],
            [
             0.2222222222222222,
             "#7201a8"
            ],
            [
             0.3333333333333333,
             "#9c179e"
            ],
            [
             0.4444444444444444,
             "#bd3786"
            ],
            [
             0.5555555555555556,
             "#d8576b"
            ],
            [
             0.6666666666666666,
             "#ed7953"
            ],
            [
             0.7777777777777778,
             "#fb9f3a"
            ],
            [
             0.8888888888888888,
             "#fdca26"
            ],
            [
             1,
             "#f0f921"
            ]
           ]
          },
          "colorway": [
           "#636efa",
           "#EF553B",
           "#00cc96",
           "#ab63fa",
           "#FFA15A",
           "#19d3f3",
           "#FF6692",
           "#B6E880",
           "#FF97FF",
           "#FECB52"
          ],
          "font": {
           "color": "#2a3f5f"
          },
          "geo": {
           "bgcolor": "white",
           "lakecolor": "white",
           "landcolor": "#E5ECF6",
           "showlakes": true,
           "showland": true,
           "subunitcolor": "white"
          },
          "hoverlabel": {
           "align": "left"
          },
          "hovermode": "closest",
          "mapbox": {
           "style": "light"
          },
          "paper_bgcolor": "white",
          "plot_bgcolor": "#E5ECF6",
          "polar": {
           "angularaxis": {
            "gridcolor": "white",
            "linecolor": "white",
            "ticks": ""
           },
           "bgcolor": "#E5ECF6",
           "radialaxis": {
            "gridcolor": "white",
            "linecolor": "white",
            "ticks": ""
           }
          },
          "scene": {
           "xaxis": {
            "backgroundcolor": "#E5ECF6",
            "gridcolor": "white",
            "gridwidth": 2,
            "linecolor": "white",
            "showbackground": true,
            "ticks": "",
            "zerolinecolor": "white"
           },
           "yaxis": {
            "backgroundcolor": "#E5ECF6",
            "gridcolor": "white",
            "gridwidth": 2,
            "linecolor": "white",
            "showbackground": true,
            "ticks": "",
            "zerolinecolor": "white"
           },
           "zaxis": {
            "backgroundcolor": "#E5ECF6",
            "gridcolor": "white",
            "gridwidth": 2,
            "linecolor": "white",
            "showbackground": true,
            "ticks": "",
            "zerolinecolor": "white"
           }
          },
          "shapedefaults": {
           "line": {
            "color": "#2a3f5f"
           }
          },
          "ternary": {
           "aaxis": {
            "gridcolor": "white",
            "linecolor": "white",
            "ticks": ""
           },
           "baxis": {
            "gridcolor": "white",
            "linecolor": "white",
            "ticks": ""
           },
           "bgcolor": "#E5ECF6",
           "caxis": {
            "gridcolor": "white",
            "linecolor": "white",
            "ticks": ""
           }
          },
          "title": {
           "x": 0.05
          },
          "xaxis": {
           "automargin": true,
           "gridcolor": "white",
           "linecolor": "white",
           "ticks": "",
           "title": {
            "standoff": 15
           },
           "zerolinecolor": "white",
           "zerolinewidth": 2
          },
          "yaxis": {
           "automargin": true,
           "gridcolor": "white",
           "linecolor": "white",
           "ticks": "",
           "title": {
            "standoff": 15
           },
           "zerolinecolor": "white",
           "zerolinewidth": 2
          }
         }
        },
        "title": {
         "text": "JETS Historical Price"
        },
        "xaxis": {
         "anchor": "y",
         "domain": [
          0,
          1
         ],
         "title": {
          "text": "date"
         }
        },
        "yaxis": {
         "anchor": "x",
         "domain": [
          0,
          1
         ],
         "title": {
          "text": "value"
         }
        }
       }
      },
      "text/html": [
       "<div>                            <div id=\"6409f8ec-39fa-4867-8044-672424649cfe\" class=\"plotly-graph-div\" style=\"height:525px; width:100%;\"></div>            <script type=\"text/javascript\">                require([\"plotly\"], function(Plotly) {                    window.PLOTLYENV=window.PLOTLYENV || {};                                    if (document.getElementById(\"6409f8ec-39fa-4867-8044-672424649cfe\")) {                    Plotly.newPlot(                        \"6409f8ec-39fa-4867-8044-672424649cfe\",                        [{\"hovertemplate\":\"variable=open<br>date=%{x}<br>value=%{y}<extra></extra>\",\"legendgroup\":\"open\",\"line\":{\"color\":\"#636efa\",\"dash\":\"solid\"},\"mode\":\"lines\",\"name\":\"open\",\"orientation\":\"v\",\"showlegend\":true,\"type\":\"scatter\",\"x\":[\"2021-06-09\",\"2021-06-10\",\"2021-06-11\",\"2021-06-14\",\"2021-06-15\",\"2021-06-16\",\"2021-06-17\",\"2021-06-18\",\"2021-06-21\",\"2021-06-22\",\"2021-06-23\",\"2021-06-24\",\"2021-06-25\",\"2021-06-28\",\"2021-06-29\",\"2021-06-30\",\"2021-07-01\",\"2021-07-02\",\"2021-07-06\",\"2021-07-07\",\"2021-07-08\"],\"xaxis\":\"x\",\"y\":[26.950000762939453,26.780000686645508,26.309999465942383,26.290000915527344,25.989999771118164,25.81999969482422,25.809999465942383,25.200000762939453,25.290000915527344,25.600000381469727,25.3799991607666,25.440000534057617,25.350000381469727,24.920000076293945,24.290000915527344,24.100000381469727,24.40999984741211,24.729999542236328,24.540000915527344,24.010000228881836,23.1299991607666],\"yaxis\":\"y\"},{\"hovertemplate\":\"variable=high<br>date=%{x}<br>value=%{y}<extra></extra>\",\"legendgroup\":\"high\",\"line\":{\"color\":\"#EF553B\",\"dash\":\"solid\"},\"mode\":\"lines\",\"name\":\"high\",\"orientation\":\"v\",\"showlegend\":true,\"type\":\"scatter\",\"x\":[\"2021-06-09\",\"2021-06-10\",\"2021-06-11\",\"2021-06-14\",\"2021-06-15\",\"2021-06-16\",\"2021-06-17\",\"2021-06-18\",\"2021-06-21\",\"2021-06-22\",\"2021-06-23\",\"2021-06-24\",\"2021-06-25\",\"2021-06-28\",\"2021-06-29\",\"2021-06-30\",\"2021-07-01\",\"2021-07-02\",\"2021-07-06\",\"2021-07-07\",\"2021-07-08\"],\"xaxis\":\"x\",\"y\":[26.950000762939453,26.81999969482422,26.40999984741211,26.3700008392334,26.059999465942383,26.020000457763672,26.020000457763672,25.40999984741211,25.670000076293945,25.649999618530273,25.459999084472656,25.469999313354492,25.360000610351562,24.950000762939453,24.350000381469727,24.360000610351562,24.709999084472656,24.729999542236328,24.729999542236328,24.18000030517578,23.719999313354492],\"yaxis\":\"y\"},{\"hovertemplate\":\"variable=close<br>date=%{x}<br>value=%{y}<extra></extra>\",\"legendgroup\":\"close\",\"line\":{\"color\":\"#00cc96\",\"dash\":\"solid\"},\"mode\":\"lines\",\"name\":\"close\",\"orientation\":\"v\",\"showlegend\":true,\"type\":\"scatter\",\"x\":[\"2021-06-09\",\"2021-06-10\",\"2021-06-11\",\"2021-06-14\",\"2021-06-15\",\"2021-06-16\",\"2021-06-17\",\"2021-06-18\",\"2021-06-21\",\"2021-06-22\",\"2021-06-23\",\"2021-06-24\",\"2021-06-25\",\"2021-06-28\",\"2021-06-29\",\"2021-06-30\",\"2021-07-01\",\"2021-07-02\",\"2021-07-06\",\"2021-07-07\",\"2021-07-08\"],\"xaxis\":\"x\",\"y\":[26.520000457763672,26.239999771118164,26.329999923706055,25.959999084472656,25.81999969482422,25.760000228881836,25.3700008392334,25.219999313354492,25.6299991607666,25.389999389648438,25.350000381469727,25.299999237060547,25.049999237060547,24.309999465942383,24.06999969482422,24.18000030517578,24.6200008392334,24.5,24.100000381469727,23.670000076293945,23.43000030517578],\"yaxis\":\"y\"},{\"hovertemplate\":\"variable=low<br>date=%{x}<br>value=%{y}<extra></extra>\",\"legendgroup\":\"low\",\"line\":{\"color\":\"#ab63fa\",\"dash\":\"solid\"},\"mode\":\"lines\",\"name\":\"low\",\"orientation\":\"v\",\"showlegend\":true,\"type\":\"scatter\",\"x\":[\"2021-06-09\",\"2021-06-10\",\"2021-06-11\",\"2021-06-14\",\"2021-06-15\",\"2021-06-16\",\"2021-06-17\",\"2021-06-18\",\"2021-06-21\",\"2021-06-22\",\"2021-06-23\",\"2021-06-24\",\"2021-06-25\",\"2021-06-28\",\"2021-06-29\",\"2021-06-30\",\"2021-07-01\",\"2021-07-02\",\"2021-07-06\",\"2021-07-07\",\"2021-07-08\"],\"xaxis\":\"x\",\"y\":[26.5,26.149999618530273,26.22100067138672,25.899999618530273,25.700000762939453,25.610000610351562,25.145000457763672,25.0,25.190000534057617,25.100000381469727,25.329999923706055,25.114999771118164,25.020000457763672,24.209999084472656,24.049999237060547,24.020000457763672,24.350000381469727,24.350000381469727,23.989999771118164,23.450000762939453,22.969999313354492],\"yaxis\":\"y\"},{\"hovertemplate\":\"variable=adjclose<br>date=%{x}<br>value=%{y}<extra></extra>\",\"legendgroup\":\"adjclose\",\"line\":{\"color\":\"#FFA15A\",\"dash\":\"solid\"},\"mode\":\"lines\",\"name\":\"adjclose\",\"orientation\":\"v\",\"showlegend\":true,\"type\":\"scatter\",\"x\":[\"2021-06-09\",\"2021-06-10\",\"2021-06-11\",\"2021-06-14\",\"2021-06-15\",\"2021-06-16\",\"2021-06-17\",\"2021-06-18\",\"2021-06-21\",\"2021-06-22\",\"2021-06-23\",\"2021-06-24\",\"2021-06-25\",\"2021-06-28\",\"2021-06-29\",\"2021-06-30\",\"2021-07-01\",\"2021-07-02\",\"2021-07-06\",\"2021-07-07\",\"2021-07-08\"],\"xaxis\":\"x\",\"y\":[26.520000457763672,26.239999771118164,26.329999923706055,25.959999084472656,25.81999969482422,25.760000228881836,25.3700008392334,25.219999313354492,25.6299991607666,25.389999389648438,25.350000381469727,25.299999237060547,25.049999237060547,24.309999465942383,24.06999969482422,24.18000030517578,24.6200008392334,24.5,24.100000381469727,23.670000076293945,23.43000030517578],\"yaxis\":\"y\"}],                        {\"legend\":{\"title\":{\"text\":\"variable\"},\"tracegroupgap\":0},\"template\":{\"data\":{\"bar\":[{\"error_x\":{\"color\":\"#2a3f5f\"},\"error_y\":{\"color\":\"#2a3f5f\"},\"marker\":{\"line\":{\"color\":\"#E5ECF6\",\"width\":0.5},\"pattern\":{\"fillmode\":\"overlay\",\"size\":10,\"solidity\":0.2}},\"type\":\"bar\"}],\"barpolar\":[{\"marker\":{\"line\":{\"color\":\"#E5ECF6\",\"width\":0.5},\"pattern\":{\"fillmode\":\"overlay\",\"size\":10,\"solidity\":0.2}},\"type\":\"barpolar\"}],\"carpet\":[{\"aaxis\":{\"endlinecolor\":\"#2a3f5f\",\"gridcolor\":\"white\",\"linecolor\":\"white\",\"minorgridcolor\":\"white\",\"startlinecolor\":\"#2a3f5f\"},\"baxis\":{\"endlinecolor\":\"#2a3f5f\",\"gridcolor\":\"white\",\"linecolor\":\"white\",\"minorgridcolor\":\"white\",\"startlinecolor\":\"#2a3f5f\"},\"type\":\"carpet\"}],\"choropleth\":[{\"colorbar\":{\"outlinewidth\":0,\"ticks\":\"\"},\"type\":\"choropleth\"}],\"contour\":[{\"colorbar\":{\"outlinewidth\":0,\"ticks\":\"\"},\"colorscale\":[[0.0,\"#0d0887\"],[0.1111111111111111,\"#46039f\"],[0.2222222222222222,\"#7201a8\"],[0.3333333333333333,\"#9c179e\"],[0.4444444444444444,\"#bd3786\"],[0.5555555555555556,\"#d8576b\"],[0.6666666666666666,\"#ed7953\"],[0.7777777777777778,\"#fb9f3a\"],[0.8888888888888888,\"#fdca26\"],[1.0,\"#f0f921\"]],\"type\":\"contour\"}],\"contourcarpet\":[{\"colorbar\":{\"outlinewidth\":0,\"ticks\":\"\"},\"type\":\"contourcarpet\"}],\"heatmap\":[{\"colorbar\":{\"outlinewidth\":0,\"ticks\":\"\"},\"colorscale\":[[0.0,\"#0d0887\"],[0.1111111111111111,\"#46039f\"],[0.2222222222222222,\"#7201a8\"],[0.3333333333333333,\"#9c179e\"],[0.4444444444444444,\"#bd3786\"],[0.5555555555555556,\"#d8576b\"],[0.6666666666666666,\"#ed7953\"],[0.7777777777777778,\"#fb9f3a\"],[0.8888888888888888,\"#fdca26\"],[1.0,\"#f0f921\"]],\"type\":\"heatmap\"}],\"heatmapgl\":[{\"colorbar\":{\"outlinewidth\":0,\"ticks\":\"\"},\"colorscale\":[[0.0,\"#0d0887\"],[0.1111111111111111,\"#46039f\"],[0.2222222222222222,\"#7201a8\"],[0.3333333333333333,\"#9c179e\"],[0.4444444444444444,\"#bd3786\"],[0.5555555555555556,\"#d8576b\"],[0.6666666666666666,\"#ed7953\"],[0.7777777777777778,\"#fb9f3a\"],[0.8888888888888888,\"#fdca26\"],[1.0,\"#f0f921\"]],\"type\":\"heatmapgl\"}],\"histogram\":[{\"marker\":{\"pattern\":{\"fillmode\":\"overlay\",\"size\":10,\"solidity\":0.2}},\"type\":\"histogram\"}],\"histogram2d\":[{\"colorbar\":{\"outlinewidth\":0,\"ticks\":\"\"},\"colorscale\":[[0.0,\"#0d0887\"],[0.1111111111111111,\"#46039f\"],[0.2222222222222222,\"#7201a8\"],[0.3333333333333333,\"#9c179e\"],[0.4444444444444444,\"#bd3786\"],[0.5555555555555556,\"#d8576b\"],[0.6666666666666666,\"#ed7953\"],[0.7777777777777778,\"#fb9f3a\"],[0.8888888888888888,\"#fdca26\"],[1.0,\"#f0f921\"]],\"type\":\"histogram2d\"}],\"histogram2dcontour\":[{\"colorbar\":{\"outlinewidth\":0,\"ticks\":\"\"},\"colorscale\":[[0.0,\"#0d0887\"],[0.1111111111111111,\"#46039f\"],[0.2222222222222222,\"#7201a8\"],[0.3333333333333333,\"#9c179e\"],[0.4444444444444444,\"#bd3786\"],[0.5555555555555556,\"#d8576b\"],[0.6666666666666666,\"#ed7953\"],[0.7777777777777778,\"#fb9f3a\"],[0.8888888888888888,\"#fdca26\"],[1.0,\"#f0f921\"]],\"type\":\"histogram2dcontour\"}],\"mesh3d\":[{\"colorbar\":{\"outlinewidth\":0,\"ticks\":\"\"},\"type\":\"mesh3d\"}],\"parcoords\":[{\"line\":{\"colorbar\":{\"outlinewidth\":0,\"ticks\":\"\"}},\"type\":\"parcoords\"}],\"pie\":[{\"automargin\":true,\"type\":\"pie\"}],\"scatter\":[{\"marker\":{\"colorbar\":{\"outlinewidth\":0,\"ticks\":\"\"}},\"type\":\"scatter\"}],\"scatter3d\":[{\"line\":{\"colorbar\":{\"outlinewidth\":0,\"ticks\":\"\"}},\"marker\":{\"colorbar\":{\"outlinewidth\":0,\"ticks\":\"\"}},\"type\":\"scatter3d\"}],\"scattercarpet\":[{\"marker\":{\"colorbar\":{\"outlinewidth\":0,\"ticks\":\"\"}},\"type\":\"scattercarpet\"}],\"scattergeo\":[{\"marker\":{\"colorbar\":{\"outlinewidth\":0,\"ticks\":\"\"}},\"type\":\"scattergeo\"}],\"scattergl\":[{\"marker\":{\"colorbar\":{\"outlinewidth\":0,\"ticks\":\"\"}},\"type\":\"scattergl\"}],\"scattermapbox\":[{\"marker\":{\"colorbar\":{\"outlinewidth\":0,\"ticks\":\"\"}},\"type\":\"scattermapbox\"}],\"scatterpolar\":[{\"marker\":{\"colorbar\":{\"outlinewidth\":0,\"ticks\":\"\"}},\"type\":\"scatterpolar\"}],\"scatterpolargl\":[{\"marker\":{\"colorbar\":{\"outlinewidth\":0,\"ticks\":\"\"}},\"type\":\"scatterpolargl\"}],\"scatterternary\":[{\"marker\":{\"colorbar\":{\"outlinewidth\":0,\"ticks\":\"\"}},\"type\":\"scatterternary\"}],\"surface\":[{\"colorbar\":{\"outlinewidth\":0,\"ticks\":\"\"},\"colorscale\":[[0.0,\"#0d0887\"],[0.1111111111111111,\"#46039f\"],[0.2222222222222222,\"#7201a8\"],[0.3333333333333333,\"#9c179e\"],[0.4444444444444444,\"#bd3786\"],[0.5555555555555556,\"#d8576b\"],[0.6666666666666666,\"#ed7953\"],[0.7777777777777778,\"#fb9f3a\"],[0.8888888888888888,\"#fdca26\"],[1.0,\"#f0f921\"]],\"type\":\"surface\"}],\"table\":[{\"cells\":{\"fill\":{\"color\":\"#EBF0F8\"},\"line\":{\"color\":\"white\"}},\"header\":{\"fill\":{\"color\":\"#C8D4E3\"},\"line\":{\"color\":\"white\"}},\"type\":\"table\"}]},\"layout\":{\"annotationdefaults\":{\"arrowcolor\":\"#2a3f5f\",\"arrowhead\":0,\"arrowwidth\":1},\"autotypenumbers\":\"strict\",\"coloraxis\":{\"colorbar\":{\"outlinewidth\":0,\"ticks\":\"\"}},\"colorscale\":{\"diverging\":[[0,\"#8e0152\"],[0.1,\"#c51b7d\"],[0.2,\"#de77ae\"],[0.3,\"#f1b6da\"],[0.4,\"#fde0ef\"],[0.5,\"#f7f7f7\"],[0.6,\"#e6f5d0\"],[0.7,\"#b8e186\"],[0.8,\"#7fbc41\"],[0.9,\"#4d9221\"],[1,\"#276419\"]],\"sequential\":[[0.0,\"#0d0887\"],[0.1111111111111111,\"#46039f\"],[0.2222222222222222,\"#7201a8\"],[0.3333333333333333,\"#9c179e\"],[0.4444444444444444,\"#bd3786\"],[0.5555555555555556,\"#d8576b\"],[0.6666666666666666,\"#ed7953\"],[0.7777777777777778,\"#fb9f3a\"],[0.8888888888888888,\"#fdca26\"],[1.0,\"#f0f921\"]],\"sequentialminus\":[[0.0,\"#0d0887\"],[0.1111111111111111,\"#46039f\"],[0.2222222222222222,\"#7201a8\"],[0.3333333333333333,\"#9c179e\"],[0.4444444444444444,\"#bd3786\"],[0.5555555555555556,\"#d8576b\"],[0.6666666666666666,\"#ed7953\"],[0.7777777777777778,\"#fb9f3a\"],[0.8888888888888888,\"#fdca26\"],[1.0,\"#f0f921\"]]},\"colorway\":[\"#636efa\",\"#EF553B\",\"#00cc96\",\"#ab63fa\",\"#FFA15A\",\"#19d3f3\",\"#FF6692\",\"#B6E880\",\"#FF97FF\",\"#FECB52\"],\"font\":{\"color\":\"#2a3f5f\"},\"geo\":{\"bgcolor\":\"white\",\"lakecolor\":\"white\",\"landcolor\":\"#E5ECF6\",\"showlakes\":true,\"showland\":true,\"subunitcolor\":\"white\"},\"hoverlabel\":{\"align\":\"left\"},\"hovermode\":\"closest\",\"mapbox\":{\"style\":\"light\"},\"paper_bgcolor\":\"white\",\"plot_bgcolor\":\"#E5ECF6\",\"polar\":{\"angularaxis\":{\"gridcolor\":\"white\",\"linecolor\":\"white\",\"ticks\":\"\"},\"bgcolor\":\"#E5ECF6\",\"radialaxis\":{\"gridcolor\":\"white\",\"linecolor\":\"white\",\"ticks\":\"\"}},\"scene\":{\"xaxis\":{\"backgroundcolor\":\"#E5ECF6\",\"gridcolor\":\"white\",\"gridwidth\":2,\"linecolor\":\"white\",\"showbackground\":true,\"ticks\":\"\",\"zerolinecolor\":\"white\"},\"yaxis\":{\"backgroundcolor\":\"#E5ECF6\",\"gridcolor\":\"white\",\"gridwidth\":2,\"linecolor\":\"white\",\"showbackground\":true,\"ticks\":\"\",\"zerolinecolor\":\"white\"},\"zaxis\":{\"backgroundcolor\":\"#E5ECF6\",\"gridcolor\":\"white\",\"gridwidth\":2,\"linecolor\":\"white\",\"showbackground\":true,\"ticks\":\"\",\"zerolinecolor\":\"white\"}},\"shapedefaults\":{\"line\":{\"color\":\"#2a3f5f\"}},\"ternary\":{\"aaxis\":{\"gridcolor\":\"white\",\"linecolor\":\"white\",\"ticks\":\"\"},\"baxis\":{\"gridcolor\":\"white\",\"linecolor\":\"white\",\"ticks\":\"\"},\"bgcolor\":\"#E5ECF6\",\"caxis\":{\"gridcolor\":\"white\",\"linecolor\":\"white\",\"ticks\":\"\"}},\"title\":{\"x\":0.05},\"xaxis\":{\"automargin\":true,\"gridcolor\":\"white\",\"linecolor\":\"white\",\"ticks\":\"\",\"title\":{\"standoff\":15},\"zerolinecolor\":\"white\",\"zerolinewidth\":2},\"yaxis\":{\"automargin\":true,\"gridcolor\":\"white\",\"linecolor\":\"white\",\"ticks\":\"\",\"title\":{\"standoff\":15},\"zerolinecolor\":\"white\",\"zerolinewidth\":2}}},\"title\":{\"text\":\"JETS Historical Price\"},\"xaxis\":{\"anchor\":\"y\",\"domain\":[0.0,1.0],\"title\":{\"text\":\"date\"}},\"yaxis\":{\"anchor\":\"x\",\"domain\":[0.0,1.0],\"title\":{\"text\":\"value\"}}},                        {\"responsive\": true}                    ).then(function(){\n",
       "                            \n",
       "var gd = document.getElementById('6409f8ec-39fa-4867-8044-672424649cfe');\n",
       "var x = new MutationObserver(function (mutations, observer) {{\n",
       "        var display = window.getComputedStyle(gd).display;\n",
       "        if (!display || display === 'none') {{\n",
       "            console.log([gd, 'removed!']);\n",
       "            Plotly.purge(gd);\n",
       "            observer.disconnect();\n",
       "        }}\n",
       "}});\n",
       "\n",
       "// Listen for the removal of the full notebook cells\n",
       "var notebookContainer = gd.closest('#notebook-container');\n",
       "if (notebookContainer) {{\n",
       "    x.observe(notebookContainer, {childList: true});\n",
       "}}\n",
       "\n",
       "// Listen for the clearing of the current output cell\n",
       "var outputEl = gd.closest('.output');\n",
       "if (outputEl) {{\n",
       "    x.observe(outputEl, {childList: true});\n",
       "}}\n",
       "\n",
       "                        })                };                });            </script>        </div>"
      ]
     },
     "metadata": {},
     "output_type": "display_data"
    },
    {
     "data": {
      "application/vnd.plotly.v1+json": {
       "config": {
        "plotlyServerURL": "https://plot.ly"
       },
       "data": [
        {
         "hovertemplate": "date=%{x}<br>volume=%{y}<extra></extra>",
         "legendgroup": "",
         "line": {
          "color": "#636efa",
          "dash": "solid"
         },
         "mode": "lines",
         "name": "",
         "orientation": "v",
         "showlegend": false,
         "type": "scatter",
         "x": [
          "2021-06-09",
          "2021-06-10",
          "2021-06-11",
          "2021-06-14",
          "2021-06-15",
          "2021-06-16",
          "2021-06-17",
          "2021-06-18",
          "2021-06-21",
          "2021-06-22",
          "2021-06-23",
          "2021-06-24",
          "2021-06-25",
          "2021-06-28",
          "2021-06-29",
          "2021-06-30",
          "2021-07-01",
          "2021-07-02",
          "2021-07-06",
          "2021-07-07",
          "2021-07-08"
         ],
         "xaxis": "x",
         "y": [
          2934000,
          4398400,
          1528500,
          3982500,
          2968700,
          2545700,
          4849400,
          3243700,
          4436700,
          3956800,
          1565600,
          2295500,
          2960900,
          5557300,
          3902700,
          2934700,
          4687100,
          1863600,
          3116100,
          4607900,
          5483033
         ],
         "yaxis": "y"
        }
       ],
       "layout": {
        "legend": {
         "tracegroupgap": 0
        },
        "template": {
         "data": {
          "bar": [
           {
            "error_x": {
             "color": "#2a3f5f"
            },
            "error_y": {
             "color": "#2a3f5f"
            },
            "marker": {
             "line": {
              "color": "#E5ECF6",
              "width": 0.5
             },
             "pattern": {
              "fillmode": "overlay",
              "size": 10,
              "solidity": 0.2
             }
            },
            "type": "bar"
           }
          ],
          "barpolar": [
           {
            "marker": {
             "line": {
              "color": "#E5ECF6",
              "width": 0.5
             },
             "pattern": {
              "fillmode": "overlay",
              "size": 10,
              "solidity": 0.2
             }
            },
            "type": "barpolar"
           }
          ],
          "carpet": [
           {
            "aaxis": {
             "endlinecolor": "#2a3f5f",
             "gridcolor": "white",
             "linecolor": "white",
             "minorgridcolor": "white",
             "startlinecolor": "#2a3f5f"
            },
            "baxis": {
             "endlinecolor": "#2a3f5f",
             "gridcolor": "white",
             "linecolor": "white",
             "minorgridcolor": "white",
             "startlinecolor": "#2a3f5f"
            },
            "type": "carpet"
           }
          ],
          "choropleth": [
           {
            "colorbar": {
             "outlinewidth": 0,
             "ticks": ""
            },
            "type": "choropleth"
           }
          ],
          "contour": [
           {
            "colorbar": {
             "outlinewidth": 0,
             "ticks": ""
            },
            "colorscale": [
             [
              0,
              "#0d0887"
             ],
             [
              0.1111111111111111,
              "#46039f"
             ],
             [
              0.2222222222222222,
              "#7201a8"
             ],
             [
              0.3333333333333333,
              "#9c179e"
             ],
             [
              0.4444444444444444,
              "#bd3786"
             ],
             [
              0.5555555555555556,
              "#d8576b"
             ],
             [
              0.6666666666666666,
              "#ed7953"
             ],
             [
              0.7777777777777778,
              "#fb9f3a"
             ],
             [
              0.8888888888888888,
              "#fdca26"
             ],
             [
              1,
              "#f0f921"
             ]
            ],
            "type": "contour"
           }
          ],
          "contourcarpet": [
           {
            "colorbar": {
             "outlinewidth": 0,
             "ticks": ""
            },
            "type": "contourcarpet"
           }
          ],
          "heatmap": [
           {
            "colorbar": {
             "outlinewidth": 0,
             "ticks": ""
            },
            "colorscale": [
             [
              0,
              "#0d0887"
             ],
             [
              0.1111111111111111,
              "#46039f"
             ],
             [
              0.2222222222222222,
              "#7201a8"
             ],
             [
              0.3333333333333333,
              "#9c179e"
             ],
             [
              0.4444444444444444,
              "#bd3786"
             ],
             [
              0.5555555555555556,
              "#d8576b"
             ],
             [
              0.6666666666666666,
              "#ed7953"
             ],
             [
              0.7777777777777778,
              "#fb9f3a"
             ],
             [
              0.8888888888888888,
              "#fdca26"
             ],
             [
              1,
              "#f0f921"
             ]
            ],
            "type": "heatmap"
           }
          ],
          "heatmapgl": [
           {
            "colorbar": {
             "outlinewidth": 0,
             "ticks": ""
            },
            "colorscale": [
             [
              0,
              "#0d0887"
             ],
             [
              0.1111111111111111,
              "#46039f"
             ],
             [
              0.2222222222222222,
              "#7201a8"
             ],
             [
              0.3333333333333333,
              "#9c179e"
             ],
             [
              0.4444444444444444,
              "#bd3786"
             ],
             [
              0.5555555555555556,
              "#d8576b"
             ],
             [
              0.6666666666666666,
              "#ed7953"
             ],
             [
              0.7777777777777778,
              "#fb9f3a"
             ],
             [
              0.8888888888888888,
              "#fdca26"
             ],
             [
              1,
              "#f0f921"
             ]
            ],
            "type": "heatmapgl"
           }
          ],
          "histogram": [
           {
            "marker": {
             "pattern": {
              "fillmode": "overlay",
              "size": 10,
              "solidity": 0.2
             }
            },
            "type": "histogram"
           }
          ],
          "histogram2d": [
           {
            "colorbar": {
             "outlinewidth": 0,
             "ticks": ""
            },
            "colorscale": [
             [
              0,
              "#0d0887"
             ],
             [
              0.1111111111111111,
              "#46039f"
             ],
             [
              0.2222222222222222,
              "#7201a8"
             ],
             [
              0.3333333333333333,
              "#9c179e"
             ],
             [
              0.4444444444444444,
              "#bd3786"
             ],
             [
              0.5555555555555556,
              "#d8576b"
             ],
             [
              0.6666666666666666,
              "#ed7953"
             ],
             [
              0.7777777777777778,
              "#fb9f3a"
             ],
             [
              0.8888888888888888,
              "#fdca26"
             ],
             [
              1,
              "#f0f921"
             ]
            ],
            "type": "histogram2d"
           }
          ],
          "histogram2dcontour": [
           {
            "colorbar": {
             "outlinewidth": 0,
             "ticks": ""
            },
            "colorscale": [
             [
              0,
              "#0d0887"
             ],
             [
              0.1111111111111111,
              "#46039f"
             ],
             [
              0.2222222222222222,
              "#7201a8"
             ],
             [
              0.3333333333333333,
              "#9c179e"
             ],
             [
              0.4444444444444444,
              "#bd3786"
             ],
             [
              0.5555555555555556,
              "#d8576b"
             ],
             [
              0.6666666666666666,
              "#ed7953"
             ],
             [
              0.7777777777777778,
              "#fb9f3a"
             ],
             [
              0.8888888888888888,
              "#fdca26"
             ],
             [
              1,
              "#f0f921"
             ]
            ],
            "type": "histogram2dcontour"
           }
          ],
          "mesh3d": [
           {
            "colorbar": {
             "outlinewidth": 0,
             "ticks": ""
            },
            "type": "mesh3d"
           }
          ],
          "parcoords": [
           {
            "line": {
             "colorbar": {
              "outlinewidth": 0,
              "ticks": ""
             }
            },
            "type": "parcoords"
           }
          ],
          "pie": [
           {
            "automargin": true,
            "type": "pie"
           }
          ],
          "scatter": [
           {
            "marker": {
             "colorbar": {
              "outlinewidth": 0,
              "ticks": ""
             }
            },
            "type": "scatter"
           }
          ],
          "scatter3d": [
           {
            "line": {
             "colorbar": {
              "outlinewidth": 0,
              "ticks": ""
             }
            },
            "marker": {
             "colorbar": {
              "outlinewidth": 0,
              "ticks": ""
             }
            },
            "type": "scatter3d"
           }
          ],
          "scattercarpet": [
           {
            "marker": {
             "colorbar": {
              "outlinewidth": 0,
              "ticks": ""
             }
            },
            "type": "scattercarpet"
           }
          ],
          "scattergeo": [
           {
            "marker": {
             "colorbar": {
              "outlinewidth": 0,
              "ticks": ""
             }
            },
            "type": "scattergeo"
           }
          ],
          "scattergl": [
           {
            "marker": {
             "colorbar": {
              "outlinewidth": 0,
              "ticks": ""
             }
            },
            "type": "scattergl"
           }
          ],
          "scattermapbox": [
           {
            "marker": {
             "colorbar": {
              "outlinewidth": 0,
              "ticks": ""
             }
            },
            "type": "scattermapbox"
           }
          ],
          "scatterpolar": [
           {
            "marker": {
             "colorbar": {
              "outlinewidth": 0,
              "ticks": ""
             }
            },
            "type": "scatterpolar"
           }
          ],
          "scatterpolargl": [
           {
            "marker": {
             "colorbar": {
              "outlinewidth": 0,
              "ticks": ""
             }
            },
            "type": "scatterpolargl"
           }
          ],
          "scatterternary": [
           {
            "marker": {
             "colorbar": {
              "outlinewidth": 0,
              "ticks": ""
             }
            },
            "type": "scatterternary"
           }
          ],
          "surface": [
           {
            "colorbar": {
             "outlinewidth": 0,
             "ticks": ""
            },
            "colorscale": [
             [
              0,
              "#0d0887"
             ],
             [
              0.1111111111111111,
              "#46039f"
             ],
             [
              0.2222222222222222,
              "#7201a8"
             ],
             [
              0.3333333333333333,
              "#9c179e"
             ],
             [
              0.4444444444444444,
              "#bd3786"
             ],
             [
              0.5555555555555556,
              "#d8576b"
             ],
             [
              0.6666666666666666,
              "#ed7953"
             ],
             [
              0.7777777777777778,
              "#fb9f3a"
             ],
             [
              0.8888888888888888,
              "#fdca26"
             ],
             [
              1,
              "#f0f921"
             ]
            ],
            "type": "surface"
           }
          ],
          "table": [
           {
            "cells": {
             "fill": {
              "color": "#EBF0F8"
             },
             "line": {
              "color": "white"
             }
            },
            "header": {
             "fill": {
              "color": "#C8D4E3"
             },
             "line": {
              "color": "white"
             }
            },
            "type": "table"
           }
          ]
         },
         "layout": {
          "annotationdefaults": {
           "arrowcolor": "#2a3f5f",
           "arrowhead": 0,
           "arrowwidth": 1
          },
          "autotypenumbers": "strict",
          "coloraxis": {
           "colorbar": {
            "outlinewidth": 0,
            "ticks": ""
           }
          },
          "colorscale": {
           "diverging": [
            [
             0,
             "#8e0152"
            ],
            [
             0.1,
             "#c51b7d"
            ],
            [
             0.2,
             "#de77ae"
            ],
            [
             0.3,
             "#f1b6da"
            ],
            [
             0.4,
             "#fde0ef"
            ],
            [
             0.5,
             "#f7f7f7"
            ],
            [
             0.6,
             "#e6f5d0"
            ],
            [
             0.7,
             "#b8e186"
            ],
            [
             0.8,
             "#7fbc41"
            ],
            [
             0.9,
             "#4d9221"
            ],
            [
             1,
             "#276419"
            ]
           ],
           "sequential": [
            [
             0,
             "#0d0887"
            ],
            [
             0.1111111111111111,
             "#46039f"
            ],
            [
             0.2222222222222222,
             "#7201a8"
            ],
            [
             0.3333333333333333,
             "#9c179e"
            ],
            [
             0.4444444444444444,
             "#bd3786"
            ],
            [
             0.5555555555555556,
             "#d8576b"
            ],
            [
             0.6666666666666666,
             "#ed7953"
            ],
            [
             0.7777777777777778,
             "#fb9f3a"
            ],
            [
             0.8888888888888888,
             "#fdca26"
            ],
            [
             1,
             "#f0f921"
            ]
           ],
           "sequentialminus": [
            [
             0,
             "#0d0887"
            ],
            [
             0.1111111111111111,
             "#46039f"
            ],
            [
             0.2222222222222222,
             "#7201a8"
            ],
            [
             0.3333333333333333,
             "#9c179e"
            ],
            [
             0.4444444444444444,
             "#bd3786"
            ],
            [
             0.5555555555555556,
             "#d8576b"
            ],
            [
             0.6666666666666666,
             "#ed7953"
            ],
            [
             0.7777777777777778,
             "#fb9f3a"
            ],
            [
             0.8888888888888888,
             "#fdca26"
            ],
            [
             1,
             "#f0f921"
            ]
           ]
          },
          "colorway": [
           "#636efa",
           "#EF553B",
           "#00cc96",
           "#ab63fa",
           "#FFA15A",
           "#19d3f3",
           "#FF6692",
           "#B6E880",
           "#FF97FF",
           "#FECB52"
          ],
          "font": {
           "color": "#2a3f5f"
          },
          "geo": {
           "bgcolor": "white",
           "lakecolor": "white",
           "landcolor": "#E5ECF6",
           "showlakes": true,
           "showland": true,
           "subunitcolor": "white"
          },
          "hoverlabel": {
           "align": "left"
          },
          "hovermode": "closest",
          "mapbox": {
           "style": "light"
          },
          "paper_bgcolor": "white",
          "plot_bgcolor": "#E5ECF6",
          "polar": {
           "angularaxis": {
            "gridcolor": "white",
            "linecolor": "white",
            "ticks": ""
           },
           "bgcolor": "#E5ECF6",
           "radialaxis": {
            "gridcolor": "white",
            "linecolor": "white",
            "ticks": ""
           }
          },
          "scene": {
           "xaxis": {
            "backgroundcolor": "#E5ECF6",
            "gridcolor": "white",
            "gridwidth": 2,
            "linecolor": "white",
            "showbackground": true,
            "ticks": "",
            "zerolinecolor": "white"
           },
           "yaxis": {
            "backgroundcolor": "#E5ECF6",
            "gridcolor": "white",
            "gridwidth": 2,
            "linecolor": "white",
            "showbackground": true,
            "ticks": "",
            "zerolinecolor": "white"
           },
           "zaxis": {
            "backgroundcolor": "#E5ECF6",
            "gridcolor": "white",
            "gridwidth": 2,
            "linecolor": "white",
            "showbackground": true,
            "ticks": "",
            "zerolinecolor": "white"
           }
          },
          "shapedefaults": {
           "line": {
            "color": "#2a3f5f"
           }
          },
          "ternary": {
           "aaxis": {
            "gridcolor": "white",
            "linecolor": "white",
            "ticks": ""
           },
           "baxis": {
            "gridcolor": "white",
            "linecolor": "white",
            "ticks": ""
           },
           "bgcolor": "#E5ECF6",
           "caxis": {
            "gridcolor": "white",
            "linecolor": "white",
            "ticks": ""
           }
          },
          "title": {
           "x": 0.05
          },
          "xaxis": {
           "automargin": true,
           "gridcolor": "white",
           "linecolor": "white",
           "ticks": "",
           "title": {
            "standoff": 15
           },
           "zerolinecolor": "white",
           "zerolinewidth": 2
          },
          "yaxis": {
           "automargin": true,
           "gridcolor": "white",
           "linecolor": "white",
           "ticks": "",
           "title": {
            "standoff": 15
           },
           "zerolinecolor": "white",
           "zerolinewidth": 2
          }
         }
        },
        "title": {
         "text": "JETS Volume"
        },
        "xaxis": {
         "anchor": "y",
         "domain": [
          0,
          1
         ],
         "title": {
          "text": "date"
         }
        },
        "yaxis": {
         "anchor": "x",
         "domain": [
          0,
          1
         ],
         "title": {
          "text": "volume"
         }
        }
       }
      },
      "text/html": [
       "<div>                            <div id=\"3e77a14d-b8c0-4969-a38b-a960fe56e488\" class=\"plotly-graph-div\" style=\"height:525px; width:100%;\"></div>            <script type=\"text/javascript\">                require([\"plotly\"], function(Plotly) {                    window.PLOTLYENV=window.PLOTLYENV || {};                                    if (document.getElementById(\"3e77a14d-b8c0-4969-a38b-a960fe56e488\")) {                    Plotly.newPlot(                        \"3e77a14d-b8c0-4969-a38b-a960fe56e488\",                        [{\"hovertemplate\":\"date=%{x}<br>volume=%{y}<extra></extra>\",\"legendgroup\":\"\",\"line\":{\"color\":\"#636efa\",\"dash\":\"solid\"},\"mode\":\"lines\",\"name\":\"\",\"orientation\":\"v\",\"showlegend\":false,\"type\":\"scatter\",\"x\":[\"2021-06-09\",\"2021-06-10\",\"2021-06-11\",\"2021-06-14\",\"2021-06-15\",\"2021-06-16\",\"2021-06-17\",\"2021-06-18\",\"2021-06-21\",\"2021-06-22\",\"2021-06-23\",\"2021-06-24\",\"2021-06-25\",\"2021-06-28\",\"2021-06-29\",\"2021-06-30\",\"2021-07-01\",\"2021-07-02\",\"2021-07-06\",\"2021-07-07\",\"2021-07-08\"],\"xaxis\":\"x\",\"y\":[2934000,4398400,1528500,3982500,2968700,2545700,4849400,3243700,4436700,3956800,1565600,2295500,2960900,5557300,3902700,2934700,4687100,1863600,3116100,4607900,5483033],\"yaxis\":\"y\"}],                        {\"legend\":{\"tracegroupgap\":0},\"template\":{\"data\":{\"bar\":[{\"error_x\":{\"color\":\"#2a3f5f\"},\"error_y\":{\"color\":\"#2a3f5f\"},\"marker\":{\"line\":{\"color\":\"#E5ECF6\",\"width\":0.5},\"pattern\":{\"fillmode\":\"overlay\",\"size\":10,\"solidity\":0.2}},\"type\":\"bar\"}],\"barpolar\":[{\"marker\":{\"line\":{\"color\":\"#E5ECF6\",\"width\":0.5},\"pattern\":{\"fillmode\":\"overlay\",\"size\":10,\"solidity\":0.2}},\"type\":\"barpolar\"}],\"carpet\":[{\"aaxis\":{\"endlinecolor\":\"#2a3f5f\",\"gridcolor\":\"white\",\"linecolor\":\"white\",\"minorgridcolor\":\"white\",\"startlinecolor\":\"#2a3f5f\"},\"baxis\":{\"endlinecolor\":\"#2a3f5f\",\"gridcolor\":\"white\",\"linecolor\":\"white\",\"minorgridcolor\":\"white\",\"startlinecolor\":\"#2a3f5f\"},\"type\":\"carpet\"}],\"choropleth\":[{\"colorbar\":{\"outlinewidth\":0,\"ticks\":\"\"},\"type\":\"choropleth\"}],\"contour\":[{\"colorbar\":{\"outlinewidth\":0,\"ticks\":\"\"},\"colorscale\":[[0.0,\"#0d0887\"],[0.1111111111111111,\"#46039f\"],[0.2222222222222222,\"#7201a8\"],[0.3333333333333333,\"#9c179e\"],[0.4444444444444444,\"#bd3786\"],[0.5555555555555556,\"#d8576b\"],[0.6666666666666666,\"#ed7953\"],[0.7777777777777778,\"#fb9f3a\"],[0.8888888888888888,\"#fdca26\"],[1.0,\"#f0f921\"]],\"type\":\"contour\"}],\"contourcarpet\":[{\"colorbar\":{\"outlinewidth\":0,\"ticks\":\"\"},\"type\":\"contourcarpet\"}],\"heatmap\":[{\"colorbar\":{\"outlinewidth\":0,\"ticks\":\"\"},\"colorscale\":[[0.0,\"#0d0887\"],[0.1111111111111111,\"#46039f\"],[0.2222222222222222,\"#7201a8\"],[0.3333333333333333,\"#9c179e\"],[0.4444444444444444,\"#bd3786\"],[0.5555555555555556,\"#d8576b\"],[0.6666666666666666,\"#ed7953\"],[0.7777777777777778,\"#fb9f3a\"],[0.8888888888888888,\"#fdca26\"],[1.0,\"#f0f921\"]],\"type\":\"heatmap\"}],\"heatmapgl\":[{\"colorbar\":{\"outlinewidth\":0,\"ticks\":\"\"},\"colorscale\":[[0.0,\"#0d0887\"],[0.1111111111111111,\"#46039f\"],[0.2222222222222222,\"#7201a8\"],[0.3333333333333333,\"#9c179e\"],[0.4444444444444444,\"#bd3786\"],[0.5555555555555556,\"#d8576b\"],[0.6666666666666666,\"#ed7953\"],[0.7777777777777778,\"#fb9f3a\"],[0.8888888888888888,\"#fdca26\"],[1.0,\"#f0f921\"]],\"type\":\"heatmapgl\"}],\"histogram\":[{\"marker\":{\"pattern\":{\"fillmode\":\"overlay\",\"size\":10,\"solidity\":0.2}},\"type\":\"histogram\"}],\"histogram2d\":[{\"colorbar\":{\"outlinewidth\":0,\"ticks\":\"\"},\"colorscale\":[[0.0,\"#0d0887\"],[0.1111111111111111,\"#46039f\"],[0.2222222222222222,\"#7201a8\"],[0.3333333333333333,\"#9c179e\"],[0.4444444444444444,\"#bd3786\"],[0.5555555555555556,\"#d8576b\"],[0.6666666666666666,\"#ed7953\"],[0.7777777777777778,\"#fb9f3a\"],[0.8888888888888888,\"#fdca26\"],[1.0,\"#f0f921\"]],\"type\":\"histogram2d\"}],\"histogram2dcontour\":[{\"colorbar\":{\"outlinewidth\":0,\"ticks\":\"\"},\"colorscale\":[[0.0,\"#0d0887\"],[0.1111111111111111,\"#46039f\"],[0.2222222222222222,\"#7201a8\"],[0.3333333333333333,\"#9c179e\"],[0.4444444444444444,\"#bd3786\"],[0.5555555555555556,\"#d8576b\"],[0.6666666666666666,\"#ed7953\"],[0.7777777777777778,\"#fb9f3a\"],[0.8888888888888888,\"#fdca26\"],[1.0,\"#f0f921\"]],\"type\":\"histogram2dcontour\"}],\"mesh3d\":[{\"colorbar\":{\"outlinewidth\":0,\"ticks\":\"\"},\"type\":\"mesh3d\"}],\"parcoords\":[{\"line\":{\"colorbar\":{\"outlinewidth\":0,\"ticks\":\"\"}},\"type\":\"parcoords\"}],\"pie\":[{\"automargin\":true,\"type\":\"pie\"}],\"scatter\":[{\"marker\":{\"colorbar\":{\"outlinewidth\":0,\"ticks\":\"\"}},\"type\":\"scatter\"}],\"scatter3d\":[{\"line\":{\"colorbar\":{\"outlinewidth\":0,\"ticks\":\"\"}},\"marker\":{\"colorbar\":{\"outlinewidth\":0,\"ticks\":\"\"}},\"type\":\"scatter3d\"}],\"scattercarpet\":[{\"marker\":{\"colorbar\":{\"outlinewidth\":0,\"ticks\":\"\"}},\"type\":\"scattercarpet\"}],\"scattergeo\":[{\"marker\":{\"colorbar\":{\"outlinewidth\":0,\"ticks\":\"\"}},\"type\":\"scattergeo\"}],\"scattergl\":[{\"marker\":{\"colorbar\":{\"outlinewidth\":0,\"ticks\":\"\"}},\"type\":\"scattergl\"}],\"scattermapbox\":[{\"marker\":{\"colorbar\":{\"outlinewidth\":0,\"ticks\":\"\"}},\"type\":\"scattermapbox\"}],\"scatterpolar\":[{\"marker\":{\"colorbar\":{\"outlinewidth\":0,\"ticks\":\"\"}},\"type\":\"scatterpolar\"}],\"scatterpolargl\":[{\"marker\":{\"colorbar\":{\"outlinewidth\":0,\"ticks\":\"\"}},\"type\":\"scatterpolargl\"}],\"scatterternary\":[{\"marker\":{\"colorbar\":{\"outlinewidth\":0,\"ticks\":\"\"}},\"type\":\"scatterternary\"}],\"surface\":[{\"colorbar\":{\"outlinewidth\":0,\"ticks\":\"\"},\"colorscale\":[[0.0,\"#0d0887\"],[0.1111111111111111,\"#46039f\"],[0.2222222222222222,\"#7201a8\"],[0.3333333333333333,\"#9c179e\"],[0.4444444444444444,\"#bd3786\"],[0.5555555555555556,\"#d8576b\"],[0.6666666666666666,\"#ed7953\"],[0.7777777777777778,\"#fb9f3a\"],[0.8888888888888888,\"#fdca26\"],[1.0,\"#f0f921\"]],\"type\":\"surface\"}],\"table\":[{\"cells\":{\"fill\":{\"color\":\"#EBF0F8\"},\"line\":{\"color\":\"white\"}},\"header\":{\"fill\":{\"color\":\"#C8D4E3\"},\"line\":{\"color\":\"white\"}},\"type\":\"table\"}]},\"layout\":{\"annotationdefaults\":{\"arrowcolor\":\"#2a3f5f\",\"arrowhead\":0,\"arrowwidth\":1},\"autotypenumbers\":\"strict\",\"coloraxis\":{\"colorbar\":{\"outlinewidth\":0,\"ticks\":\"\"}},\"colorscale\":{\"diverging\":[[0,\"#8e0152\"],[0.1,\"#c51b7d\"],[0.2,\"#de77ae\"],[0.3,\"#f1b6da\"],[0.4,\"#fde0ef\"],[0.5,\"#f7f7f7\"],[0.6,\"#e6f5d0\"],[0.7,\"#b8e186\"],[0.8,\"#7fbc41\"],[0.9,\"#4d9221\"],[1,\"#276419\"]],\"sequential\":[[0.0,\"#0d0887\"],[0.1111111111111111,\"#46039f\"],[0.2222222222222222,\"#7201a8\"],[0.3333333333333333,\"#9c179e\"],[0.4444444444444444,\"#bd3786\"],[0.5555555555555556,\"#d8576b\"],[0.6666666666666666,\"#ed7953\"],[0.7777777777777778,\"#fb9f3a\"],[0.8888888888888888,\"#fdca26\"],[1.0,\"#f0f921\"]],\"sequentialminus\":[[0.0,\"#0d0887\"],[0.1111111111111111,\"#46039f\"],[0.2222222222222222,\"#7201a8\"],[0.3333333333333333,\"#9c179e\"],[0.4444444444444444,\"#bd3786\"],[0.5555555555555556,\"#d8576b\"],[0.6666666666666666,\"#ed7953\"],[0.7777777777777778,\"#fb9f3a\"],[0.8888888888888888,\"#fdca26\"],[1.0,\"#f0f921\"]]},\"colorway\":[\"#636efa\",\"#EF553B\",\"#00cc96\",\"#ab63fa\",\"#FFA15A\",\"#19d3f3\",\"#FF6692\",\"#B6E880\",\"#FF97FF\",\"#FECB52\"],\"font\":{\"color\":\"#2a3f5f\"},\"geo\":{\"bgcolor\":\"white\",\"lakecolor\":\"white\",\"landcolor\":\"#E5ECF6\",\"showlakes\":true,\"showland\":true,\"subunitcolor\":\"white\"},\"hoverlabel\":{\"align\":\"left\"},\"hovermode\":\"closest\",\"mapbox\":{\"style\":\"light\"},\"paper_bgcolor\":\"white\",\"plot_bgcolor\":\"#E5ECF6\",\"polar\":{\"angularaxis\":{\"gridcolor\":\"white\",\"linecolor\":\"white\",\"ticks\":\"\"},\"bgcolor\":\"#E5ECF6\",\"radialaxis\":{\"gridcolor\":\"white\",\"linecolor\":\"white\",\"ticks\":\"\"}},\"scene\":{\"xaxis\":{\"backgroundcolor\":\"#E5ECF6\",\"gridcolor\":\"white\",\"gridwidth\":2,\"linecolor\":\"white\",\"showbackground\":true,\"ticks\":\"\",\"zerolinecolor\":\"white\"},\"yaxis\":{\"backgroundcolor\":\"#E5ECF6\",\"gridcolor\":\"white\",\"gridwidth\":2,\"linecolor\":\"white\",\"showbackground\":true,\"ticks\":\"\",\"zerolinecolor\":\"white\"},\"zaxis\":{\"backgroundcolor\":\"#E5ECF6\",\"gridcolor\":\"white\",\"gridwidth\":2,\"linecolor\":\"white\",\"showbackground\":true,\"ticks\":\"\",\"zerolinecolor\":\"white\"}},\"shapedefaults\":{\"line\":{\"color\":\"#2a3f5f\"}},\"ternary\":{\"aaxis\":{\"gridcolor\":\"white\",\"linecolor\":\"white\",\"ticks\":\"\"},\"baxis\":{\"gridcolor\":\"white\",\"linecolor\":\"white\",\"ticks\":\"\"},\"bgcolor\":\"#E5ECF6\",\"caxis\":{\"gridcolor\":\"white\",\"linecolor\":\"white\",\"ticks\":\"\"}},\"title\":{\"x\":0.05},\"xaxis\":{\"automargin\":true,\"gridcolor\":\"white\",\"linecolor\":\"white\",\"ticks\":\"\",\"title\":{\"standoff\":15},\"zerolinecolor\":\"white\",\"zerolinewidth\":2},\"yaxis\":{\"automargin\":true,\"gridcolor\":\"white\",\"linecolor\":\"white\",\"ticks\":\"\",\"title\":{\"standoff\":15},\"zerolinecolor\":\"white\",\"zerolinewidth\":2}}},\"title\":{\"text\":\"JETS Volume\"},\"xaxis\":{\"anchor\":\"y\",\"domain\":[0.0,1.0],\"title\":{\"text\":\"date\"}},\"yaxis\":{\"anchor\":\"x\",\"domain\":[0.0,1.0],\"title\":{\"text\":\"volume\"}}},                        {\"responsive\": true}                    ).then(function(){\n",
       "                            \n",
       "var gd = document.getElementById('3e77a14d-b8c0-4969-a38b-a960fe56e488');\n",
       "var x = new MutationObserver(function (mutations, observer) {{\n",
       "        var display = window.getComputedStyle(gd).display;\n",
       "        if (!display || display === 'none') {{\n",
       "            console.log([gd, 'removed!']);\n",
       "            Plotly.purge(gd);\n",
       "            observer.disconnect();\n",
       "        }}\n",
       "}});\n",
       "\n",
       "// Listen for the removal of the full notebook cells\n",
       "var notebookContainer = gd.closest('#notebook-container');\n",
       "if (notebookContainer) {{\n",
       "    x.observe(notebookContainer, {childList: true});\n",
       "}}\n",
       "\n",
       "// Listen for the clearing of the current output cell\n",
       "var outputEl = gd.closest('.output');\n",
       "if (outputEl) {{\n",
       "    x.observe(outputEl, {childList: true});\n",
       "}}\n",
       "\n",
       "                        })                };                });            </script>        </div>"
      ]
     },
     "metadata": {},
     "output_type": "display_data"
    },
    {
     "name": "stdout",
     "output_type": "stream",
     "text": [
      "=============================== JETS =================================\n",
      "\n",
      "-------------------------- Summary Details ----------------------------\n",
      "                              Value\n",
      "totalAssets              3616804864\n",
      "previousClose                 23.67\n",
      "open                          23.13\n",
      "fiftyDayAverage             25.7415\n",
      "fiftyDayAverage             25.7415\n",
      "fiftyTwoWeekLow              15.169\n",
      "fiftyTwoWeekHigh              28.98\n",
      "twoHundredDayAverage        25.1226\n",
      "volume                      5483033\n",
      "averageVolume               3978041\n",
      "averageVolume10days         3809914\n",
      "averageDailyVolume10Day     3809914\n",
      "-------------------------- Key Factor ----------------------------\n",
      "                                   Value\n",
      "category            Miscellaneous Sector\n",
      "ytdReturn                         0.0794\n",
      "fundFamily         U.S. Global Investors\n",
      "fundInceptionDate    2015-04-29 20:00:00\n",
      "legalType           Exchange Traded Fund\n",
      "-------------------------- Fund Sector ----------------------------\n",
      "               Fund Sector  Percentage\n",
      "8              industrials      0.9158\n",
      "1        consumer_cyclical      0.0740\n",
      "4               technology      0.0102\n",
      "0               realestate      0.0000\n",
      "2          basic_materials      0.0000\n",
      "3       consumer_defensive      0.0000\n",
      "5   communication_services      0.0000\n",
      "6       financial_services      0.0000\n",
      "7                utilities      0.0000\n",
      "9                   energy      0.0000\n",
      "10              healthcare      0.0000\n",
      "-------------------------- Holdings ----------------------------\n",
      "  symbol                        holdingName  holdingPercent\n",
      "0    DAL                Delta Air Lines Inc          0.1001\n",
      "1    UAL       United Airlines Holdings Inc          0.0987\n",
      "2    LUV              Southwest Airlines Co          0.0981\n",
      "3    AAL        American Airlines Group Inc          0.0953\n",
      "4    ALK               Alaska Air Group Inc          0.0298\n",
      "5   SNCY  Sun Country Airlines Holdings Inc          0.0297\n",
      "6   ALGT                Allegiant Travel Co          0.0294\n",
      "7   JBLU               JetBlue Airways Corp          0.0286\n",
      "8   SKYW                        SkyWest Inc          0.0285\n",
      "9  AC.TO                 Air Canada Class B          0.0284\n",
      "-------------------------- Returns ----------------------------\n",
      "                                    Value\n",
      "asOfDate              2021-07-06 20:00:00\n",
      "ytdReturnPct                       0.0794\n",
      "oneYearTotalReturn                 0.4276\n",
      "threeYearTotalReturn              -0.0582\n",
      "\n",
      "                           Value\n",
      "asOfDate     2021-06-29 20:00:00\n",
      "ytd                       0.0804\n",
      "oneMonth                 -0.0994\n",
      "threeMonth               -0.1014\n",
      "oneYear                   0.4529\n",
      "threeYear                -0.0517\n",
      "fiveYear                  0.0353\n",
      "tenYear                        0\n",
      "lastBullMkt                    0\n",
      "lastBearMkt                    0\n",
      "\n",
      "   year  annualValue\n",
      "0  2021          NaN\n",
      "1  2020    -0.289900\n",
      "2  2019     0.141013\n",
      "3  2018    -0.137607\n",
      "4  2017     0.183987\n",
      "5  2016     0.131517\n",
      "6  2015          NaN\n",
      "-------------------------- Risk Factors ----------------------------\n",
      "  year  alpha  beta  meanAnnualReturn  rSquared  stdDev  sharpeRatio  \\\n",
      "0   5y  -15.0  1.70              0.77     55.71   33.07         0.24   \n",
      "1   3y  -23.3  1.82              0.29     64.17   40.90         0.06   \n",
      "2  10y    0.0  0.00              0.00      0.00    0.00         0.00   \n",
      "\n",
      "   treynorRatio  \n",
      "0          1.40  \n",
      "1         -3.52  \n",
      "2          0.00  \n",
      "=========================================================================\n"
     ]
    }
   ],
   "source": [
    "get_etf_holding('JETS', '1mo')"
   ]
  },
  {
   "cell_type": "code",
   "execution_count": 114,
   "metadata": {
    "scrolled": false
   },
   "outputs": [
    {
     "data": {
      "application/vnd.plotly.v1+json": {
       "config": {
        "plotlyServerURL": "https://plot.ly"
       },
       "data": [
        {
         "hovertemplate": "variable=open<br>date=%{x}<br>value=%{y}<extra></extra>",
         "legendgroup": "open",
         "line": {
          "color": "#636efa",
          "dash": "solid"
         },
         "mode": "lines",
         "name": "open",
         "orientation": "v",
         "showlegend": true,
         "type": "scatter",
         "x": [
          "2021-06-08",
          "2021-06-09",
          "2021-06-10",
          "2021-06-11",
          "2021-06-14",
          "2021-06-15",
          "2021-06-16",
          "2021-06-17",
          "2021-06-18",
          "2021-06-21",
          "2021-06-22",
          "2021-06-23",
          "2021-06-24",
          "2021-06-25",
          "2021-06-28",
          "2021-06-29",
          "2021-06-30",
          "2021-07-02",
          "2021-07-06"
         ],
         "xaxis": "x",
         "y": [
          32.79999923706055,
          32.58000183105469,
          33.20000076293945,
          33.91999816894531,
          34.209999084472656,
          34.0099983215332,
          34.279998779296875,
          35.650001525878906,
          36.029998779296875,
          35.68000030517578,
          36.02000045776367,
          36.22999954223633,
          36.529998779296875,
          36.33000183105469,
          36.970001220703125,
          37.34000015258789,
          36.72999954223633,
          36.540000915527344,
          37.34000015258789
         ],
         "yaxis": "y"
        },
        {
         "hovertemplate": "variable=high<br>date=%{x}<br>value=%{y}<extra></extra>",
         "legendgroup": "high",
         "line": {
          "color": "#EF553B",
          "dash": "solid"
         },
         "mode": "lines",
         "name": "high",
         "orientation": "v",
         "showlegend": true,
         "type": "scatter",
         "x": [
          "2021-06-08",
          "2021-06-09",
          "2021-06-10",
          "2021-06-11",
          "2021-06-14",
          "2021-06-15",
          "2021-06-16",
          "2021-06-17",
          "2021-06-18",
          "2021-06-21",
          "2021-06-22",
          "2021-06-23",
          "2021-06-24",
          "2021-06-25",
          "2021-06-28",
          "2021-06-29",
          "2021-06-30",
          "2021-07-02",
          "2021-07-06"
         ],
         "xaxis": "x",
         "y": [
          32.79999923706055,
          32.58000183105469,
          33.20000076293945,
          33.91999816894531,
          34.209999084472656,
          34.0099983215332,
          34.279998779296875,
          35.650001525878906,
          36.029998779296875,
          35.68000030517578,
          36.02000045776367,
          36.22999954223633,
          36.529998779296875,
          36.33000183105469,
          36.970001220703125,
          37.34000015258789,
          36.72999954223633,
          36.540000915527344,
          37.34000015258789
         ],
         "yaxis": "y"
        },
        {
         "hovertemplate": "variable=close<br>date=%{x}<br>value=%{y}<extra></extra>",
         "legendgroup": "close",
         "line": {
          "color": "#00cc96",
          "dash": "solid"
         },
         "mode": "lines",
         "name": "close",
         "orientation": "v",
         "showlegend": true,
         "type": "scatter",
         "x": [
          "2021-06-08",
          "2021-06-09",
          "2021-06-10",
          "2021-06-11",
          "2021-06-14",
          "2021-06-15",
          "2021-06-16",
          "2021-06-17",
          "2021-06-18",
          "2021-06-21",
          "2021-06-22",
          "2021-06-23",
          "2021-06-24",
          "2021-06-25",
          "2021-06-28",
          "2021-06-29",
          "2021-06-30",
          "2021-07-02",
          "2021-07-06"
         ],
         "xaxis": "x",
         "y": [
          32.79999923706055,
          32.58000183105469,
          33.20000076293945,
          33.91999816894531,
          34.209999084472656,
          34.0099983215332,
          34.279998779296875,
          35.650001525878906,
          36.029998779296875,
          35.68000030517578,
          36.02000045776367,
          36.22999954223633,
          36.529998779296875,
          36.33000183105469,
          36.970001220703125,
          37.34000015258789,
          36.72999954223633,
          36.540000915527344,
          37.34000015258789
         ],
         "yaxis": "y"
        },
        {
         "hovertemplate": "variable=low<br>date=%{x}<br>value=%{y}<extra></extra>",
         "legendgroup": "low",
         "line": {
          "color": "#ab63fa",
          "dash": "solid"
         },
         "mode": "lines",
         "name": "low",
         "orientation": "v",
         "showlegend": true,
         "type": "scatter",
         "x": [
          "2021-06-08",
          "2021-06-09",
          "2021-06-10",
          "2021-06-11",
          "2021-06-14",
          "2021-06-15",
          "2021-06-16",
          "2021-06-17",
          "2021-06-18",
          "2021-06-21",
          "2021-06-22",
          "2021-06-23",
          "2021-06-24",
          "2021-06-25",
          "2021-06-28",
          "2021-06-29",
          "2021-06-30",
          "2021-07-02",
          "2021-07-06"
         ],
         "xaxis": "x",
         "y": [
          32.79999923706055,
          32.58000183105469,
          33.20000076293945,
          33.91999816894531,
          34.209999084472656,
          34.0099983215332,
          34.279998779296875,
          35.650001525878906,
          36.029998779296875,
          35.68000030517578,
          36.02000045776367,
          36.22999954223633,
          36.529998779296875,
          36.33000183105469,
          36.970001220703125,
          37.34000015258789,
          36.72999954223633,
          36.540000915527344,
          37.34000015258789
         ],
         "yaxis": "y"
        },
        {
         "hovertemplate": "variable=adjclose<br>date=%{x}<br>value=%{y}<extra></extra>",
         "legendgroup": "adjclose",
         "line": {
          "color": "#FFA15A",
          "dash": "solid"
         },
         "mode": "lines",
         "name": "adjclose",
         "orientation": "v",
         "showlegend": true,
         "type": "scatter",
         "x": [
          "2021-06-08",
          "2021-06-09",
          "2021-06-10",
          "2021-06-11",
          "2021-06-14",
          "2021-06-15",
          "2021-06-16",
          "2021-06-17",
          "2021-06-18",
          "2021-06-21",
          "2021-06-22",
          "2021-06-23",
          "2021-06-24",
          "2021-06-25",
          "2021-06-28",
          "2021-06-29",
          "2021-06-30",
          "2021-07-02",
          "2021-07-06"
         ],
         "xaxis": "x",
         "y": [
          32.79999923706055,
          32.58000183105469,
          33.20000076293945,
          33.91999816894531,
          34.209999084472656,
          34.0099983215332,
          34.279998779296875,
          35.650001525878906,
          36.029998779296875,
          35.68000030517578,
          36.02000045776367,
          36.22999954223633,
          36.529998779296875,
          36.33000183105469,
          36.970001220703125,
          37.34000015258789,
          36.72999954223633,
          36.540000915527344,
          37.34000015258789
         ],
         "yaxis": "y"
        }
       ],
       "layout": {
        "legend": {
         "title": {
          "text": "variable"
         },
         "tracegroupgap": 0
        },
        "template": {
         "data": {
          "bar": [
           {
            "error_x": {
             "color": "#2a3f5f"
            },
            "error_y": {
             "color": "#2a3f5f"
            },
            "marker": {
             "line": {
              "color": "#E5ECF6",
              "width": 0.5
             },
             "pattern": {
              "fillmode": "overlay",
              "size": 10,
              "solidity": 0.2
             }
            },
            "type": "bar"
           }
          ],
          "barpolar": [
           {
            "marker": {
             "line": {
              "color": "#E5ECF6",
              "width": 0.5
             },
             "pattern": {
              "fillmode": "overlay",
              "size": 10,
              "solidity": 0.2
             }
            },
            "type": "barpolar"
           }
          ],
          "carpet": [
           {
            "aaxis": {
             "endlinecolor": "#2a3f5f",
             "gridcolor": "white",
             "linecolor": "white",
             "minorgridcolor": "white",
             "startlinecolor": "#2a3f5f"
            },
            "baxis": {
             "endlinecolor": "#2a3f5f",
             "gridcolor": "white",
             "linecolor": "white",
             "minorgridcolor": "white",
             "startlinecolor": "#2a3f5f"
            },
            "type": "carpet"
           }
          ],
          "choropleth": [
           {
            "colorbar": {
             "outlinewidth": 0,
             "ticks": ""
            },
            "type": "choropleth"
           }
          ],
          "contour": [
           {
            "colorbar": {
             "outlinewidth": 0,
             "ticks": ""
            },
            "colorscale": [
             [
              0,
              "#0d0887"
             ],
             [
              0.1111111111111111,
              "#46039f"
             ],
             [
              0.2222222222222222,
              "#7201a8"
             ],
             [
              0.3333333333333333,
              "#9c179e"
             ],
             [
              0.4444444444444444,
              "#bd3786"
             ],
             [
              0.5555555555555556,
              "#d8576b"
             ],
             [
              0.6666666666666666,
              "#ed7953"
             ],
             [
              0.7777777777777778,
              "#fb9f3a"
             ],
             [
              0.8888888888888888,
              "#fdca26"
             ],
             [
              1,
              "#f0f921"
             ]
            ],
            "type": "contour"
           }
          ],
          "contourcarpet": [
           {
            "colorbar": {
             "outlinewidth": 0,
             "ticks": ""
            },
            "type": "contourcarpet"
           }
          ],
          "heatmap": [
           {
            "colorbar": {
             "outlinewidth": 0,
             "ticks": ""
            },
            "colorscale": [
             [
              0,
              "#0d0887"
             ],
             [
              0.1111111111111111,
              "#46039f"
             ],
             [
              0.2222222222222222,
              "#7201a8"
             ],
             [
              0.3333333333333333,
              "#9c179e"
             ],
             [
              0.4444444444444444,
              "#bd3786"
             ],
             [
              0.5555555555555556,
              "#d8576b"
             ],
             [
              0.6666666666666666,
              "#ed7953"
             ],
             [
              0.7777777777777778,
              "#fb9f3a"
             ],
             [
              0.8888888888888888,
              "#fdca26"
             ],
             [
              1,
              "#f0f921"
             ]
            ],
            "type": "heatmap"
           }
          ],
          "heatmapgl": [
           {
            "colorbar": {
             "outlinewidth": 0,
             "ticks": ""
            },
            "colorscale": [
             [
              0,
              "#0d0887"
             ],
             [
              0.1111111111111111,
              "#46039f"
             ],
             [
              0.2222222222222222,
              "#7201a8"
             ],
             [
              0.3333333333333333,
              "#9c179e"
             ],
             [
              0.4444444444444444,
              "#bd3786"
             ],
             [
              0.5555555555555556,
              "#d8576b"
             ],
             [
              0.6666666666666666,
              "#ed7953"
             ],
             [
              0.7777777777777778,
              "#fb9f3a"
             ],
             [
              0.8888888888888888,
              "#fdca26"
             ],
             [
              1,
              "#f0f921"
             ]
            ],
            "type": "heatmapgl"
           }
          ],
          "histogram": [
           {
            "marker": {
             "pattern": {
              "fillmode": "overlay",
              "size": 10,
              "solidity": 0.2
             }
            },
            "type": "histogram"
           }
          ],
          "histogram2d": [
           {
            "colorbar": {
             "outlinewidth": 0,
             "ticks": ""
            },
            "colorscale": [
             [
              0,
              "#0d0887"
             ],
             [
              0.1111111111111111,
              "#46039f"
             ],
             [
              0.2222222222222222,
              "#7201a8"
             ],
             [
              0.3333333333333333,
              "#9c179e"
             ],
             [
              0.4444444444444444,
              "#bd3786"
             ],
             [
              0.5555555555555556,
              "#d8576b"
             ],
             [
              0.6666666666666666,
              "#ed7953"
             ],
             [
              0.7777777777777778,
              "#fb9f3a"
             ],
             [
              0.8888888888888888,
              "#fdca26"
             ],
             [
              1,
              "#f0f921"
             ]
            ],
            "type": "histogram2d"
           }
          ],
          "histogram2dcontour": [
           {
            "colorbar": {
             "outlinewidth": 0,
             "ticks": ""
            },
            "colorscale": [
             [
              0,
              "#0d0887"
             ],
             [
              0.1111111111111111,
              "#46039f"
             ],
             [
              0.2222222222222222,
              "#7201a8"
             ],
             [
              0.3333333333333333,
              "#9c179e"
             ],
             [
              0.4444444444444444,
              "#bd3786"
             ],
             [
              0.5555555555555556,
              "#d8576b"
             ],
             [
              0.6666666666666666,
              "#ed7953"
             ],
             [
              0.7777777777777778,
              "#fb9f3a"
             ],
             [
              0.8888888888888888,
              "#fdca26"
             ],
             [
              1,
              "#f0f921"
             ]
            ],
            "type": "histogram2dcontour"
           }
          ],
          "mesh3d": [
           {
            "colorbar": {
             "outlinewidth": 0,
             "ticks": ""
            },
            "type": "mesh3d"
           }
          ],
          "parcoords": [
           {
            "line": {
             "colorbar": {
              "outlinewidth": 0,
              "ticks": ""
             }
            },
            "type": "parcoords"
           }
          ],
          "pie": [
           {
            "automargin": true,
            "type": "pie"
           }
          ],
          "scatter": [
           {
            "marker": {
             "colorbar": {
              "outlinewidth": 0,
              "ticks": ""
             }
            },
            "type": "scatter"
           }
          ],
          "scatter3d": [
           {
            "line": {
             "colorbar": {
              "outlinewidth": 0,
              "ticks": ""
             }
            },
            "marker": {
             "colorbar": {
              "outlinewidth": 0,
              "ticks": ""
             }
            },
            "type": "scatter3d"
           }
          ],
          "scattercarpet": [
           {
            "marker": {
             "colorbar": {
              "outlinewidth": 0,
              "ticks": ""
             }
            },
            "type": "scattercarpet"
           }
          ],
          "scattergeo": [
           {
            "marker": {
             "colorbar": {
              "outlinewidth": 0,
              "ticks": ""
             }
            },
            "type": "scattergeo"
           }
          ],
          "scattergl": [
           {
            "marker": {
             "colorbar": {
              "outlinewidth": 0,
              "ticks": ""
             }
            },
            "type": "scattergl"
           }
          ],
          "scattermapbox": [
           {
            "marker": {
             "colorbar": {
              "outlinewidth": 0,
              "ticks": ""
             }
            },
            "type": "scattermapbox"
           }
          ],
          "scatterpolar": [
           {
            "marker": {
             "colorbar": {
              "outlinewidth": 0,
              "ticks": ""
             }
            },
            "type": "scatterpolar"
           }
          ],
          "scatterpolargl": [
           {
            "marker": {
             "colorbar": {
              "outlinewidth": 0,
              "ticks": ""
             }
            },
            "type": "scatterpolargl"
           }
          ],
          "scatterternary": [
           {
            "marker": {
             "colorbar": {
              "outlinewidth": 0,
              "ticks": ""
             }
            },
            "type": "scatterternary"
           }
          ],
          "surface": [
           {
            "colorbar": {
             "outlinewidth": 0,
             "ticks": ""
            },
            "colorscale": [
             [
              0,
              "#0d0887"
             ],
             [
              0.1111111111111111,
              "#46039f"
             ],
             [
              0.2222222222222222,
              "#7201a8"
             ],
             [
              0.3333333333333333,
              "#9c179e"
             ],
             [
              0.4444444444444444,
              "#bd3786"
             ],
             [
              0.5555555555555556,
              "#d8576b"
             ],
             [
              0.6666666666666666,
              "#ed7953"
             ],
             [
              0.7777777777777778,
              "#fb9f3a"
             ],
             [
              0.8888888888888888,
              "#fdca26"
             ],
             [
              1,
              "#f0f921"
             ]
            ],
            "type": "surface"
           }
          ],
          "table": [
           {
            "cells": {
             "fill": {
              "color": "#EBF0F8"
             },
             "line": {
              "color": "white"
             }
            },
            "header": {
             "fill": {
              "color": "#C8D4E3"
             },
             "line": {
              "color": "white"
             }
            },
            "type": "table"
           }
          ]
         },
         "layout": {
          "annotationdefaults": {
           "arrowcolor": "#2a3f5f",
           "arrowhead": 0,
           "arrowwidth": 1
          },
          "autotypenumbers": "strict",
          "coloraxis": {
           "colorbar": {
            "outlinewidth": 0,
            "ticks": ""
           }
          },
          "colorscale": {
           "diverging": [
            [
             0,
             "#8e0152"
            ],
            [
             0.1,
             "#c51b7d"
            ],
            [
             0.2,
             "#de77ae"
            ],
            [
             0.3,
             "#f1b6da"
            ],
            [
             0.4,
             "#fde0ef"
            ],
            [
             0.5,
             "#f7f7f7"
            ],
            [
             0.6,
             "#e6f5d0"
            ],
            [
             0.7,
             "#b8e186"
            ],
            [
             0.8,
             "#7fbc41"
            ],
            [
             0.9,
             "#4d9221"
            ],
            [
             1,
             "#276419"
            ]
           ],
           "sequential": [
            [
             0,
             "#0d0887"
            ],
            [
             0.1111111111111111,
             "#46039f"
            ],
            [
             0.2222222222222222,
             "#7201a8"
            ],
            [
             0.3333333333333333,
             "#9c179e"
            ],
            [
             0.4444444444444444,
             "#bd3786"
            ],
            [
             0.5555555555555556,
             "#d8576b"
            ],
            [
             0.6666666666666666,
             "#ed7953"
            ],
            [
             0.7777777777777778,
             "#fb9f3a"
            ],
            [
             0.8888888888888888,
             "#fdca26"
            ],
            [
             1,
             "#f0f921"
            ]
           ],
           "sequentialminus": [
            [
             0,
             "#0d0887"
            ],
            [
             0.1111111111111111,
             "#46039f"
            ],
            [
             0.2222222222222222,
             "#7201a8"
            ],
            [
             0.3333333333333333,
             "#9c179e"
            ],
            [
             0.4444444444444444,
             "#bd3786"
            ],
            [
             0.5555555555555556,
             "#d8576b"
            ],
            [
             0.6666666666666666,
             "#ed7953"
            ],
            [
             0.7777777777777778,
             "#fb9f3a"
            ],
            [
             0.8888888888888888,
             "#fdca26"
            ],
            [
             1,
             "#f0f921"
            ]
           ]
          },
          "colorway": [
           "#636efa",
           "#EF553B",
           "#00cc96",
           "#ab63fa",
           "#FFA15A",
           "#19d3f3",
           "#FF6692",
           "#B6E880",
           "#FF97FF",
           "#FECB52"
          ],
          "font": {
           "color": "#2a3f5f"
          },
          "geo": {
           "bgcolor": "white",
           "lakecolor": "white",
           "landcolor": "#E5ECF6",
           "showlakes": true,
           "showland": true,
           "subunitcolor": "white"
          },
          "hoverlabel": {
           "align": "left"
          },
          "hovermode": "closest",
          "mapbox": {
           "style": "light"
          },
          "paper_bgcolor": "white",
          "plot_bgcolor": "#E5ECF6",
          "polar": {
           "angularaxis": {
            "gridcolor": "white",
            "linecolor": "white",
            "ticks": ""
           },
           "bgcolor": "#E5ECF6",
           "radialaxis": {
            "gridcolor": "white",
            "linecolor": "white",
            "ticks": ""
           }
          },
          "scene": {
           "xaxis": {
            "backgroundcolor": "#E5ECF6",
            "gridcolor": "white",
            "gridwidth": 2,
            "linecolor": "white",
            "showbackground": true,
            "ticks": "",
            "zerolinecolor": "white"
           },
           "yaxis": {
            "backgroundcolor": "#E5ECF6",
            "gridcolor": "white",
            "gridwidth": 2,
            "linecolor": "white",
            "showbackground": true,
            "ticks": "",
            "zerolinecolor": "white"
           },
           "zaxis": {
            "backgroundcolor": "#E5ECF6",
            "gridcolor": "white",
            "gridwidth": 2,
            "linecolor": "white",
            "showbackground": true,
            "ticks": "",
            "zerolinecolor": "white"
           }
          },
          "shapedefaults": {
           "line": {
            "color": "#2a3f5f"
           }
          },
          "ternary": {
           "aaxis": {
            "gridcolor": "white",
            "linecolor": "white",
            "ticks": ""
           },
           "baxis": {
            "gridcolor": "white",
            "linecolor": "white",
            "ticks": ""
           },
           "bgcolor": "#E5ECF6",
           "caxis": {
            "gridcolor": "white",
            "linecolor": "white",
            "ticks": ""
           }
          },
          "title": {
           "x": 0.05
          },
          "xaxis": {
           "automargin": true,
           "gridcolor": "white",
           "linecolor": "white",
           "ticks": "",
           "title": {
            "standoff": 15
           },
           "zerolinecolor": "white",
           "zerolinewidth": 2
          },
          "yaxis": {
           "automargin": true,
           "gridcolor": "white",
           "linecolor": "white",
           "ticks": "",
           "title": {
            "standoff": 15
           },
           "zerolinecolor": "white",
           "zerolinewidth": 2
          }
         }
        },
        "title": {
         "text": "0P00016N6T.TO Historical Price"
        },
        "xaxis": {
         "anchor": "y",
         "domain": [
          0,
          1
         ],
         "title": {
          "text": "date"
         }
        },
        "yaxis": {
         "anchor": "x",
         "domain": [
          0,
          1
         ],
         "title": {
          "text": "value"
         }
        }
       }
      },
      "text/html": [
       "<div>                            <div id=\"ab64aa24-7f51-4a6c-9dac-0f8400035c34\" class=\"plotly-graph-div\" style=\"height:525px; width:100%;\"></div>            <script type=\"text/javascript\">                require([\"plotly\"], function(Plotly) {                    window.PLOTLYENV=window.PLOTLYENV || {};                                    if (document.getElementById(\"ab64aa24-7f51-4a6c-9dac-0f8400035c34\")) {                    Plotly.newPlot(                        \"ab64aa24-7f51-4a6c-9dac-0f8400035c34\",                        [{\"hovertemplate\":\"variable=open<br>date=%{x}<br>value=%{y}<extra></extra>\",\"legendgroup\":\"open\",\"line\":{\"color\":\"#636efa\",\"dash\":\"solid\"},\"mode\":\"lines\",\"name\":\"open\",\"orientation\":\"v\",\"showlegend\":true,\"type\":\"scatter\",\"x\":[\"2021-06-08\",\"2021-06-09\",\"2021-06-10\",\"2021-06-11\",\"2021-06-14\",\"2021-06-15\",\"2021-06-16\",\"2021-06-17\",\"2021-06-18\",\"2021-06-21\",\"2021-06-22\",\"2021-06-23\",\"2021-06-24\",\"2021-06-25\",\"2021-06-28\",\"2021-06-29\",\"2021-06-30\",\"2021-07-02\",\"2021-07-06\"],\"xaxis\":\"x\",\"y\":[32.79999923706055,32.58000183105469,33.20000076293945,33.91999816894531,34.209999084472656,34.0099983215332,34.279998779296875,35.650001525878906,36.029998779296875,35.68000030517578,36.02000045776367,36.22999954223633,36.529998779296875,36.33000183105469,36.970001220703125,37.34000015258789,36.72999954223633,36.540000915527344,37.34000015258789],\"yaxis\":\"y\"},{\"hovertemplate\":\"variable=high<br>date=%{x}<br>value=%{y}<extra></extra>\",\"legendgroup\":\"high\",\"line\":{\"color\":\"#EF553B\",\"dash\":\"solid\"},\"mode\":\"lines\",\"name\":\"high\",\"orientation\":\"v\",\"showlegend\":true,\"type\":\"scatter\",\"x\":[\"2021-06-08\",\"2021-06-09\",\"2021-06-10\",\"2021-06-11\",\"2021-06-14\",\"2021-06-15\",\"2021-06-16\",\"2021-06-17\",\"2021-06-18\",\"2021-06-21\",\"2021-06-22\",\"2021-06-23\",\"2021-06-24\",\"2021-06-25\",\"2021-06-28\",\"2021-06-29\",\"2021-06-30\",\"2021-07-02\",\"2021-07-06\"],\"xaxis\":\"x\",\"y\":[32.79999923706055,32.58000183105469,33.20000076293945,33.91999816894531,34.209999084472656,34.0099983215332,34.279998779296875,35.650001525878906,36.029998779296875,35.68000030517578,36.02000045776367,36.22999954223633,36.529998779296875,36.33000183105469,36.970001220703125,37.34000015258789,36.72999954223633,36.540000915527344,37.34000015258789],\"yaxis\":\"y\"},{\"hovertemplate\":\"variable=close<br>date=%{x}<br>value=%{y}<extra></extra>\",\"legendgroup\":\"close\",\"line\":{\"color\":\"#00cc96\",\"dash\":\"solid\"},\"mode\":\"lines\",\"name\":\"close\",\"orientation\":\"v\",\"showlegend\":true,\"type\":\"scatter\",\"x\":[\"2021-06-08\",\"2021-06-09\",\"2021-06-10\",\"2021-06-11\",\"2021-06-14\",\"2021-06-15\",\"2021-06-16\",\"2021-06-17\",\"2021-06-18\",\"2021-06-21\",\"2021-06-22\",\"2021-06-23\",\"2021-06-24\",\"2021-06-25\",\"2021-06-28\",\"2021-06-29\",\"2021-06-30\",\"2021-07-02\",\"2021-07-06\"],\"xaxis\":\"x\",\"y\":[32.79999923706055,32.58000183105469,33.20000076293945,33.91999816894531,34.209999084472656,34.0099983215332,34.279998779296875,35.650001525878906,36.029998779296875,35.68000030517578,36.02000045776367,36.22999954223633,36.529998779296875,36.33000183105469,36.970001220703125,37.34000015258789,36.72999954223633,36.540000915527344,37.34000015258789],\"yaxis\":\"y\"},{\"hovertemplate\":\"variable=low<br>date=%{x}<br>value=%{y}<extra></extra>\",\"legendgroup\":\"low\",\"line\":{\"color\":\"#ab63fa\",\"dash\":\"solid\"},\"mode\":\"lines\",\"name\":\"low\",\"orientation\":\"v\",\"showlegend\":true,\"type\":\"scatter\",\"x\":[\"2021-06-08\",\"2021-06-09\",\"2021-06-10\",\"2021-06-11\",\"2021-06-14\",\"2021-06-15\",\"2021-06-16\",\"2021-06-17\",\"2021-06-18\",\"2021-06-21\",\"2021-06-22\",\"2021-06-23\",\"2021-06-24\",\"2021-06-25\",\"2021-06-28\",\"2021-06-29\",\"2021-06-30\",\"2021-07-02\",\"2021-07-06\"],\"xaxis\":\"x\",\"y\":[32.79999923706055,32.58000183105469,33.20000076293945,33.91999816894531,34.209999084472656,34.0099983215332,34.279998779296875,35.650001525878906,36.029998779296875,35.68000030517578,36.02000045776367,36.22999954223633,36.529998779296875,36.33000183105469,36.970001220703125,37.34000015258789,36.72999954223633,36.540000915527344,37.34000015258789],\"yaxis\":\"y\"},{\"hovertemplate\":\"variable=adjclose<br>date=%{x}<br>value=%{y}<extra></extra>\",\"legendgroup\":\"adjclose\",\"line\":{\"color\":\"#FFA15A\",\"dash\":\"solid\"},\"mode\":\"lines\",\"name\":\"adjclose\",\"orientation\":\"v\",\"showlegend\":true,\"type\":\"scatter\",\"x\":[\"2021-06-08\",\"2021-06-09\",\"2021-06-10\",\"2021-06-11\",\"2021-06-14\",\"2021-06-15\",\"2021-06-16\",\"2021-06-17\",\"2021-06-18\",\"2021-06-21\",\"2021-06-22\",\"2021-06-23\",\"2021-06-24\",\"2021-06-25\",\"2021-06-28\",\"2021-06-29\",\"2021-06-30\",\"2021-07-02\",\"2021-07-06\"],\"xaxis\":\"x\",\"y\":[32.79999923706055,32.58000183105469,33.20000076293945,33.91999816894531,34.209999084472656,34.0099983215332,34.279998779296875,35.650001525878906,36.029998779296875,35.68000030517578,36.02000045776367,36.22999954223633,36.529998779296875,36.33000183105469,36.970001220703125,37.34000015258789,36.72999954223633,36.540000915527344,37.34000015258789],\"yaxis\":\"y\"}],                        {\"legend\":{\"title\":{\"text\":\"variable\"},\"tracegroupgap\":0},\"template\":{\"data\":{\"bar\":[{\"error_x\":{\"color\":\"#2a3f5f\"},\"error_y\":{\"color\":\"#2a3f5f\"},\"marker\":{\"line\":{\"color\":\"#E5ECF6\",\"width\":0.5},\"pattern\":{\"fillmode\":\"overlay\",\"size\":10,\"solidity\":0.2}},\"type\":\"bar\"}],\"barpolar\":[{\"marker\":{\"line\":{\"color\":\"#E5ECF6\",\"width\":0.5},\"pattern\":{\"fillmode\":\"overlay\",\"size\":10,\"solidity\":0.2}},\"type\":\"barpolar\"}],\"carpet\":[{\"aaxis\":{\"endlinecolor\":\"#2a3f5f\",\"gridcolor\":\"white\",\"linecolor\":\"white\",\"minorgridcolor\":\"white\",\"startlinecolor\":\"#2a3f5f\"},\"baxis\":{\"endlinecolor\":\"#2a3f5f\",\"gridcolor\":\"white\",\"linecolor\":\"white\",\"minorgridcolor\":\"white\",\"startlinecolor\":\"#2a3f5f\"},\"type\":\"carpet\"}],\"choropleth\":[{\"colorbar\":{\"outlinewidth\":0,\"ticks\":\"\"},\"type\":\"choropleth\"}],\"contour\":[{\"colorbar\":{\"outlinewidth\":0,\"ticks\":\"\"},\"colorscale\":[[0.0,\"#0d0887\"],[0.1111111111111111,\"#46039f\"],[0.2222222222222222,\"#7201a8\"],[0.3333333333333333,\"#9c179e\"],[0.4444444444444444,\"#bd3786\"],[0.5555555555555556,\"#d8576b\"],[0.6666666666666666,\"#ed7953\"],[0.7777777777777778,\"#fb9f3a\"],[0.8888888888888888,\"#fdca26\"],[1.0,\"#f0f921\"]],\"type\":\"contour\"}],\"contourcarpet\":[{\"colorbar\":{\"outlinewidth\":0,\"ticks\":\"\"},\"type\":\"contourcarpet\"}],\"heatmap\":[{\"colorbar\":{\"outlinewidth\":0,\"ticks\":\"\"},\"colorscale\":[[0.0,\"#0d0887\"],[0.1111111111111111,\"#46039f\"],[0.2222222222222222,\"#7201a8\"],[0.3333333333333333,\"#9c179e\"],[0.4444444444444444,\"#bd3786\"],[0.5555555555555556,\"#d8576b\"],[0.6666666666666666,\"#ed7953\"],[0.7777777777777778,\"#fb9f3a\"],[0.8888888888888888,\"#fdca26\"],[1.0,\"#f0f921\"]],\"type\":\"heatmap\"}],\"heatmapgl\":[{\"colorbar\":{\"outlinewidth\":0,\"ticks\":\"\"},\"colorscale\":[[0.0,\"#0d0887\"],[0.1111111111111111,\"#46039f\"],[0.2222222222222222,\"#7201a8\"],[0.3333333333333333,\"#9c179e\"],[0.4444444444444444,\"#bd3786\"],[0.5555555555555556,\"#d8576b\"],[0.6666666666666666,\"#ed7953\"],[0.7777777777777778,\"#fb9f3a\"],[0.8888888888888888,\"#fdca26\"],[1.0,\"#f0f921\"]],\"type\":\"heatmapgl\"}],\"histogram\":[{\"marker\":{\"pattern\":{\"fillmode\":\"overlay\",\"size\":10,\"solidity\":0.2}},\"type\":\"histogram\"}],\"histogram2d\":[{\"colorbar\":{\"outlinewidth\":0,\"ticks\":\"\"},\"colorscale\":[[0.0,\"#0d0887\"],[0.1111111111111111,\"#46039f\"],[0.2222222222222222,\"#7201a8\"],[0.3333333333333333,\"#9c179e\"],[0.4444444444444444,\"#bd3786\"],[0.5555555555555556,\"#d8576b\"],[0.6666666666666666,\"#ed7953\"],[0.7777777777777778,\"#fb9f3a\"],[0.8888888888888888,\"#fdca26\"],[1.0,\"#f0f921\"]],\"type\":\"histogram2d\"}],\"histogram2dcontour\":[{\"colorbar\":{\"outlinewidth\":0,\"ticks\":\"\"},\"colorscale\":[[0.0,\"#0d0887\"],[0.1111111111111111,\"#46039f\"],[0.2222222222222222,\"#7201a8\"],[0.3333333333333333,\"#9c179e\"],[0.4444444444444444,\"#bd3786\"],[0.5555555555555556,\"#d8576b\"],[0.6666666666666666,\"#ed7953\"],[0.7777777777777778,\"#fb9f3a\"],[0.8888888888888888,\"#fdca26\"],[1.0,\"#f0f921\"]],\"type\":\"histogram2dcontour\"}],\"mesh3d\":[{\"colorbar\":{\"outlinewidth\":0,\"ticks\":\"\"},\"type\":\"mesh3d\"}],\"parcoords\":[{\"line\":{\"colorbar\":{\"outlinewidth\":0,\"ticks\":\"\"}},\"type\":\"parcoords\"}],\"pie\":[{\"automargin\":true,\"type\":\"pie\"}],\"scatter\":[{\"marker\":{\"colorbar\":{\"outlinewidth\":0,\"ticks\":\"\"}},\"type\":\"scatter\"}],\"scatter3d\":[{\"line\":{\"colorbar\":{\"outlinewidth\":0,\"ticks\":\"\"}},\"marker\":{\"colorbar\":{\"outlinewidth\":0,\"ticks\":\"\"}},\"type\":\"scatter3d\"}],\"scattercarpet\":[{\"marker\":{\"colorbar\":{\"outlinewidth\":0,\"ticks\":\"\"}},\"type\":\"scattercarpet\"}],\"scattergeo\":[{\"marker\":{\"colorbar\":{\"outlinewidth\":0,\"ticks\":\"\"}},\"type\":\"scattergeo\"}],\"scattergl\":[{\"marker\":{\"colorbar\":{\"outlinewidth\":0,\"ticks\":\"\"}},\"type\":\"scattergl\"}],\"scattermapbox\":[{\"marker\":{\"colorbar\":{\"outlinewidth\":0,\"ticks\":\"\"}},\"type\":\"scattermapbox\"}],\"scatterpolar\":[{\"marker\":{\"colorbar\":{\"outlinewidth\":0,\"ticks\":\"\"}},\"type\":\"scatterpolar\"}],\"scatterpolargl\":[{\"marker\":{\"colorbar\":{\"outlinewidth\":0,\"ticks\":\"\"}},\"type\":\"scatterpolargl\"}],\"scatterternary\":[{\"marker\":{\"colorbar\":{\"outlinewidth\":0,\"ticks\":\"\"}},\"type\":\"scatterternary\"}],\"surface\":[{\"colorbar\":{\"outlinewidth\":0,\"ticks\":\"\"},\"colorscale\":[[0.0,\"#0d0887\"],[0.1111111111111111,\"#46039f\"],[0.2222222222222222,\"#7201a8\"],[0.3333333333333333,\"#9c179e\"],[0.4444444444444444,\"#bd3786\"],[0.5555555555555556,\"#d8576b\"],[0.6666666666666666,\"#ed7953\"],[0.7777777777777778,\"#fb9f3a\"],[0.8888888888888888,\"#fdca26\"],[1.0,\"#f0f921\"]],\"type\":\"surface\"}],\"table\":[{\"cells\":{\"fill\":{\"color\":\"#EBF0F8\"},\"line\":{\"color\":\"white\"}},\"header\":{\"fill\":{\"color\":\"#C8D4E3\"},\"line\":{\"color\":\"white\"}},\"type\":\"table\"}]},\"layout\":{\"annotationdefaults\":{\"arrowcolor\":\"#2a3f5f\",\"arrowhead\":0,\"arrowwidth\":1},\"autotypenumbers\":\"strict\",\"coloraxis\":{\"colorbar\":{\"outlinewidth\":0,\"ticks\":\"\"}},\"colorscale\":{\"diverging\":[[0,\"#8e0152\"],[0.1,\"#c51b7d\"],[0.2,\"#de77ae\"],[0.3,\"#f1b6da\"],[0.4,\"#fde0ef\"],[0.5,\"#f7f7f7\"],[0.6,\"#e6f5d0\"],[0.7,\"#b8e186\"],[0.8,\"#7fbc41\"],[0.9,\"#4d9221\"],[1,\"#276419\"]],\"sequential\":[[0.0,\"#0d0887\"],[0.1111111111111111,\"#46039f\"],[0.2222222222222222,\"#7201a8\"],[0.3333333333333333,\"#9c179e\"],[0.4444444444444444,\"#bd3786\"],[0.5555555555555556,\"#d8576b\"],[0.6666666666666666,\"#ed7953\"],[0.7777777777777778,\"#fb9f3a\"],[0.8888888888888888,\"#fdca26\"],[1.0,\"#f0f921\"]],\"sequentialminus\":[[0.0,\"#0d0887\"],[0.1111111111111111,\"#46039f\"],[0.2222222222222222,\"#7201a8\"],[0.3333333333333333,\"#9c179e\"],[0.4444444444444444,\"#bd3786\"],[0.5555555555555556,\"#d8576b\"],[0.6666666666666666,\"#ed7953\"],[0.7777777777777778,\"#fb9f3a\"],[0.8888888888888888,\"#fdca26\"],[1.0,\"#f0f921\"]]},\"colorway\":[\"#636efa\",\"#EF553B\",\"#00cc96\",\"#ab63fa\",\"#FFA15A\",\"#19d3f3\",\"#FF6692\",\"#B6E880\",\"#FF97FF\",\"#FECB52\"],\"font\":{\"color\":\"#2a3f5f\"},\"geo\":{\"bgcolor\":\"white\",\"lakecolor\":\"white\",\"landcolor\":\"#E5ECF6\",\"showlakes\":true,\"showland\":true,\"subunitcolor\":\"white\"},\"hoverlabel\":{\"align\":\"left\"},\"hovermode\":\"closest\",\"mapbox\":{\"style\":\"light\"},\"paper_bgcolor\":\"white\",\"plot_bgcolor\":\"#E5ECF6\",\"polar\":{\"angularaxis\":{\"gridcolor\":\"white\",\"linecolor\":\"white\",\"ticks\":\"\"},\"bgcolor\":\"#E5ECF6\",\"radialaxis\":{\"gridcolor\":\"white\",\"linecolor\":\"white\",\"ticks\":\"\"}},\"scene\":{\"xaxis\":{\"backgroundcolor\":\"#E5ECF6\",\"gridcolor\":\"white\",\"gridwidth\":2,\"linecolor\":\"white\",\"showbackground\":true,\"ticks\":\"\",\"zerolinecolor\":\"white\"},\"yaxis\":{\"backgroundcolor\":\"#E5ECF6\",\"gridcolor\":\"white\",\"gridwidth\":2,\"linecolor\":\"white\",\"showbackground\":true,\"ticks\":\"\",\"zerolinecolor\":\"white\"},\"zaxis\":{\"backgroundcolor\":\"#E5ECF6\",\"gridcolor\":\"white\",\"gridwidth\":2,\"linecolor\":\"white\",\"showbackground\":true,\"ticks\":\"\",\"zerolinecolor\":\"white\"}},\"shapedefaults\":{\"line\":{\"color\":\"#2a3f5f\"}},\"ternary\":{\"aaxis\":{\"gridcolor\":\"white\",\"linecolor\":\"white\",\"ticks\":\"\"},\"baxis\":{\"gridcolor\":\"white\",\"linecolor\":\"white\",\"ticks\":\"\"},\"bgcolor\":\"#E5ECF6\",\"caxis\":{\"gridcolor\":\"white\",\"linecolor\":\"white\",\"ticks\":\"\"}},\"title\":{\"x\":0.05},\"xaxis\":{\"automargin\":true,\"gridcolor\":\"white\",\"linecolor\":\"white\",\"ticks\":\"\",\"title\":{\"standoff\":15},\"zerolinecolor\":\"white\",\"zerolinewidth\":2},\"yaxis\":{\"automargin\":true,\"gridcolor\":\"white\",\"linecolor\":\"white\",\"ticks\":\"\",\"title\":{\"standoff\":15},\"zerolinecolor\":\"white\",\"zerolinewidth\":2}}},\"title\":{\"text\":\"0P00016N6T.TO Historical Price\"},\"xaxis\":{\"anchor\":\"y\",\"domain\":[0.0,1.0],\"title\":{\"text\":\"date\"}},\"yaxis\":{\"anchor\":\"x\",\"domain\":[0.0,1.0],\"title\":{\"text\":\"value\"}}},                        {\"responsive\": true}                    ).then(function(){\n",
       "                            \n",
       "var gd = document.getElementById('ab64aa24-7f51-4a6c-9dac-0f8400035c34');\n",
       "var x = new MutationObserver(function (mutations, observer) {{\n",
       "        var display = window.getComputedStyle(gd).display;\n",
       "        if (!display || display === 'none') {{\n",
       "            console.log([gd, 'removed!']);\n",
       "            Plotly.purge(gd);\n",
       "            observer.disconnect();\n",
       "        }}\n",
       "}});\n",
       "\n",
       "// Listen for the removal of the full notebook cells\n",
       "var notebookContainer = gd.closest('#notebook-container');\n",
       "if (notebookContainer) {{\n",
       "    x.observe(notebookContainer, {childList: true});\n",
       "}}\n",
       "\n",
       "// Listen for the clearing of the current output cell\n",
       "var outputEl = gd.closest('.output');\n",
       "if (outputEl) {{\n",
       "    x.observe(outputEl, {childList: true});\n",
       "}}\n",
       "\n",
       "                        })                };                });            </script>        </div>"
      ]
     },
     "metadata": {},
     "output_type": "display_data"
    },
    {
     "data": {
      "application/vnd.plotly.v1+json": {
       "config": {
        "plotlyServerURL": "https://plot.ly"
       },
       "data": [
        {
         "hovertemplate": "date=%{x}<br>volume=%{y}<extra></extra>",
         "legendgroup": "",
         "line": {
          "color": "#636efa",
          "dash": "solid"
         },
         "mode": "lines",
         "name": "",
         "orientation": "v",
         "showlegend": false,
         "type": "scatter",
         "x": [
          "2021-06-08",
          "2021-06-09",
          "2021-06-10",
          "2021-06-11",
          "2021-06-14",
          "2021-06-15",
          "2021-06-16",
          "2021-06-17",
          "2021-06-18",
          "2021-06-21",
          "2021-06-22",
          "2021-06-23",
          "2021-06-24",
          "2021-06-25",
          "2021-06-28",
          "2021-06-29",
          "2021-06-30",
          "2021-07-02",
          "2021-07-06"
         ],
         "xaxis": "x",
         "y": [
          0,
          0,
          0,
          0,
          0,
          0,
          0,
          0,
          0,
          0,
          0,
          0,
          0,
          0,
          0,
          0,
          0,
          0,
          0
         ],
         "yaxis": "y"
        }
       ],
       "layout": {
        "legend": {
         "tracegroupgap": 0
        },
        "template": {
         "data": {
          "bar": [
           {
            "error_x": {
             "color": "#2a3f5f"
            },
            "error_y": {
             "color": "#2a3f5f"
            },
            "marker": {
             "line": {
              "color": "#E5ECF6",
              "width": 0.5
             },
             "pattern": {
              "fillmode": "overlay",
              "size": 10,
              "solidity": 0.2
             }
            },
            "type": "bar"
           }
          ],
          "barpolar": [
           {
            "marker": {
             "line": {
              "color": "#E5ECF6",
              "width": 0.5
             },
             "pattern": {
              "fillmode": "overlay",
              "size": 10,
              "solidity": 0.2
             }
            },
            "type": "barpolar"
           }
          ],
          "carpet": [
           {
            "aaxis": {
             "endlinecolor": "#2a3f5f",
             "gridcolor": "white",
             "linecolor": "white",
             "minorgridcolor": "white",
             "startlinecolor": "#2a3f5f"
            },
            "baxis": {
             "endlinecolor": "#2a3f5f",
             "gridcolor": "white",
             "linecolor": "white",
             "minorgridcolor": "white",
             "startlinecolor": "#2a3f5f"
            },
            "type": "carpet"
           }
          ],
          "choropleth": [
           {
            "colorbar": {
             "outlinewidth": 0,
             "ticks": ""
            },
            "type": "choropleth"
           }
          ],
          "contour": [
           {
            "colorbar": {
             "outlinewidth": 0,
             "ticks": ""
            },
            "colorscale": [
             [
              0,
              "#0d0887"
             ],
             [
              0.1111111111111111,
              "#46039f"
             ],
             [
              0.2222222222222222,
              "#7201a8"
             ],
             [
              0.3333333333333333,
              "#9c179e"
             ],
             [
              0.4444444444444444,
              "#bd3786"
             ],
             [
              0.5555555555555556,
              "#d8576b"
             ],
             [
              0.6666666666666666,
              "#ed7953"
             ],
             [
              0.7777777777777778,
              "#fb9f3a"
             ],
             [
              0.8888888888888888,
              "#fdca26"
             ],
             [
              1,
              "#f0f921"
             ]
            ],
            "type": "contour"
           }
          ],
          "contourcarpet": [
           {
            "colorbar": {
             "outlinewidth": 0,
             "ticks": ""
            },
            "type": "contourcarpet"
           }
          ],
          "heatmap": [
           {
            "colorbar": {
             "outlinewidth": 0,
             "ticks": ""
            },
            "colorscale": [
             [
              0,
              "#0d0887"
             ],
             [
              0.1111111111111111,
              "#46039f"
             ],
             [
              0.2222222222222222,
              "#7201a8"
             ],
             [
              0.3333333333333333,
              "#9c179e"
             ],
             [
              0.4444444444444444,
              "#bd3786"
             ],
             [
              0.5555555555555556,
              "#d8576b"
             ],
             [
              0.6666666666666666,
              "#ed7953"
             ],
             [
              0.7777777777777778,
              "#fb9f3a"
             ],
             [
              0.8888888888888888,
              "#fdca26"
             ],
             [
              1,
              "#f0f921"
             ]
            ],
            "type": "heatmap"
           }
          ],
          "heatmapgl": [
           {
            "colorbar": {
             "outlinewidth": 0,
             "ticks": ""
            },
            "colorscale": [
             [
              0,
              "#0d0887"
             ],
             [
              0.1111111111111111,
              "#46039f"
             ],
             [
              0.2222222222222222,
              "#7201a8"
             ],
             [
              0.3333333333333333,
              "#9c179e"
             ],
             [
              0.4444444444444444,
              "#bd3786"
             ],
             [
              0.5555555555555556,
              "#d8576b"
             ],
             [
              0.6666666666666666,
              "#ed7953"
             ],
             [
              0.7777777777777778,
              "#fb9f3a"
             ],
             [
              0.8888888888888888,
              "#fdca26"
             ],
             [
              1,
              "#f0f921"
             ]
            ],
            "type": "heatmapgl"
           }
          ],
          "histogram": [
           {
            "marker": {
             "pattern": {
              "fillmode": "overlay",
              "size": 10,
              "solidity": 0.2
             }
            },
            "type": "histogram"
           }
          ],
          "histogram2d": [
           {
            "colorbar": {
             "outlinewidth": 0,
             "ticks": ""
            },
            "colorscale": [
             [
              0,
              "#0d0887"
             ],
             [
              0.1111111111111111,
              "#46039f"
             ],
             [
              0.2222222222222222,
              "#7201a8"
             ],
             [
              0.3333333333333333,
              "#9c179e"
             ],
             [
              0.4444444444444444,
              "#bd3786"
             ],
             [
              0.5555555555555556,
              "#d8576b"
             ],
             [
              0.6666666666666666,
              "#ed7953"
             ],
             [
              0.7777777777777778,
              "#fb9f3a"
             ],
             [
              0.8888888888888888,
              "#fdca26"
             ],
             [
              1,
              "#f0f921"
             ]
            ],
            "type": "histogram2d"
           }
          ],
          "histogram2dcontour": [
           {
            "colorbar": {
             "outlinewidth": 0,
             "ticks": ""
            },
            "colorscale": [
             [
              0,
              "#0d0887"
             ],
             [
              0.1111111111111111,
              "#46039f"
             ],
             [
              0.2222222222222222,
              "#7201a8"
             ],
             [
              0.3333333333333333,
              "#9c179e"
             ],
             [
              0.4444444444444444,
              "#bd3786"
             ],
             [
              0.5555555555555556,
              "#d8576b"
             ],
             [
              0.6666666666666666,
              "#ed7953"
             ],
             [
              0.7777777777777778,
              "#fb9f3a"
             ],
             [
              0.8888888888888888,
              "#fdca26"
             ],
             [
              1,
              "#f0f921"
             ]
            ],
            "type": "histogram2dcontour"
           }
          ],
          "mesh3d": [
           {
            "colorbar": {
             "outlinewidth": 0,
             "ticks": ""
            },
            "type": "mesh3d"
           }
          ],
          "parcoords": [
           {
            "line": {
             "colorbar": {
              "outlinewidth": 0,
              "ticks": ""
             }
            },
            "type": "parcoords"
           }
          ],
          "pie": [
           {
            "automargin": true,
            "type": "pie"
           }
          ],
          "scatter": [
           {
            "marker": {
             "colorbar": {
              "outlinewidth": 0,
              "ticks": ""
             }
            },
            "type": "scatter"
           }
          ],
          "scatter3d": [
           {
            "line": {
             "colorbar": {
              "outlinewidth": 0,
              "ticks": ""
             }
            },
            "marker": {
             "colorbar": {
              "outlinewidth": 0,
              "ticks": ""
             }
            },
            "type": "scatter3d"
           }
          ],
          "scattercarpet": [
           {
            "marker": {
             "colorbar": {
              "outlinewidth": 0,
              "ticks": ""
             }
            },
            "type": "scattercarpet"
           }
          ],
          "scattergeo": [
           {
            "marker": {
             "colorbar": {
              "outlinewidth": 0,
              "ticks": ""
             }
            },
            "type": "scattergeo"
           }
          ],
          "scattergl": [
           {
            "marker": {
             "colorbar": {
              "outlinewidth": 0,
              "ticks": ""
             }
            },
            "type": "scattergl"
           }
          ],
          "scattermapbox": [
           {
            "marker": {
             "colorbar": {
              "outlinewidth": 0,
              "ticks": ""
             }
            },
            "type": "scattermapbox"
           }
          ],
          "scatterpolar": [
           {
            "marker": {
             "colorbar": {
              "outlinewidth": 0,
              "ticks": ""
             }
            },
            "type": "scatterpolar"
           }
          ],
          "scatterpolargl": [
           {
            "marker": {
             "colorbar": {
              "outlinewidth": 0,
              "ticks": ""
             }
            },
            "type": "scatterpolargl"
           }
          ],
          "scatterternary": [
           {
            "marker": {
             "colorbar": {
              "outlinewidth": 0,
              "ticks": ""
             }
            },
            "type": "scatterternary"
           }
          ],
          "surface": [
           {
            "colorbar": {
             "outlinewidth": 0,
             "ticks": ""
            },
            "colorscale": [
             [
              0,
              "#0d0887"
             ],
             [
              0.1111111111111111,
              "#46039f"
             ],
             [
              0.2222222222222222,
              "#7201a8"
             ],
             [
              0.3333333333333333,
              "#9c179e"
             ],
             [
              0.4444444444444444,
              "#bd3786"
             ],
             [
              0.5555555555555556,
              "#d8576b"
             ],
             [
              0.6666666666666666,
              "#ed7953"
             ],
             [
              0.7777777777777778,
              "#fb9f3a"
             ],
             [
              0.8888888888888888,
              "#fdca26"
             ],
             [
              1,
              "#f0f921"
             ]
            ],
            "type": "surface"
           }
          ],
          "table": [
           {
            "cells": {
             "fill": {
              "color": "#EBF0F8"
             },
             "line": {
              "color": "white"
             }
            },
            "header": {
             "fill": {
              "color": "#C8D4E3"
             },
             "line": {
              "color": "white"
             }
            },
            "type": "table"
           }
          ]
         },
         "layout": {
          "annotationdefaults": {
           "arrowcolor": "#2a3f5f",
           "arrowhead": 0,
           "arrowwidth": 1
          },
          "autotypenumbers": "strict",
          "coloraxis": {
           "colorbar": {
            "outlinewidth": 0,
            "ticks": ""
           }
          },
          "colorscale": {
           "diverging": [
            [
             0,
             "#8e0152"
            ],
            [
             0.1,
             "#c51b7d"
            ],
            [
             0.2,
             "#de77ae"
            ],
            [
             0.3,
             "#f1b6da"
            ],
            [
             0.4,
             "#fde0ef"
            ],
            [
             0.5,
             "#f7f7f7"
            ],
            [
             0.6,
             "#e6f5d0"
            ],
            [
             0.7,
             "#b8e186"
            ],
            [
             0.8,
             "#7fbc41"
            ],
            [
             0.9,
             "#4d9221"
            ],
            [
             1,
             "#276419"
            ]
           ],
           "sequential": [
            [
             0,
             "#0d0887"
            ],
            [
             0.1111111111111111,
             "#46039f"
            ],
            [
             0.2222222222222222,
             "#7201a8"
            ],
            [
             0.3333333333333333,
             "#9c179e"
            ],
            [
             0.4444444444444444,
             "#bd3786"
            ],
            [
             0.5555555555555556,
             "#d8576b"
            ],
            [
             0.6666666666666666,
             "#ed7953"
            ],
            [
             0.7777777777777778,
             "#fb9f3a"
            ],
            [
             0.8888888888888888,
             "#fdca26"
            ],
            [
             1,
             "#f0f921"
            ]
           ],
           "sequentialminus": [
            [
             0,
             "#0d0887"
            ],
            [
             0.1111111111111111,
             "#46039f"
            ],
            [
             0.2222222222222222,
             "#7201a8"
            ],
            [
             0.3333333333333333,
             "#9c179e"
            ],
            [
             0.4444444444444444,
             "#bd3786"
            ],
            [
             0.5555555555555556,
             "#d8576b"
            ],
            [
             0.6666666666666666,
             "#ed7953"
            ],
            [
             0.7777777777777778,
             "#fb9f3a"
            ],
            [
             0.8888888888888888,
             "#fdca26"
            ],
            [
             1,
             "#f0f921"
            ]
           ]
          },
          "colorway": [
           "#636efa",
           "#EF553B",
           "#00cc96",
           "#ab63fa",
           "#FFA15A",
           "#19d3f3",
           "#FF6692",
           "#B6E880",
           "#FF97FF",
           "#FECB52"
          ],
          "font": {
           "color": "#2a3f5f"
          },
          "geo": {
           "bgcolor": "white",
           "lakecolor": "white",
           "landcolor": "#E5ECF6",
           "showlakes": true,
           "showland": true,
           "subunitcolor": "white"
          },
          "hoverlabel": {
           "align": "left"
          },
          "hovermode": "closest",
          "mapbox": {
           "style": "light"
          },
          "paper_bgcolor": "white",
          "plot_bgcolor": "#E5ECF6",
          "polar": {
           "angularaxis": {
            "gridcolor": "white",
            "linecolor": "white",
            "ticks": ""
           },
           "bgcolor": "#E5ECF6",
           "radialaxis": {
            "gridcolor": "white",
            "linecolor": "white",
            "ticks": ""
           }
          },
          "scene": {
           "xaxis": {
            "backgroundcolor": "#E5ECF6",
            "gridcolor": "white",
            "gridwidth": 2,
            "linecolor": "white",
            "showbackground": true,
            "ticks": "",
            "zerolinecolor": "white"
           },
           "yaxis": {
            "backgroundcolor": "#E5ECF6",
            "gridcolor": "white",
            "gridwidth": 2,
            "linecolor": "white",
            "showbackground": true,
            "ticks": "",
            "zerolinecolor": "white"
           },
           "zaxis": {
            "backgroundcolor": "#E5ECF6",
            "gridcolor": "white",
            "gridwidth": 2,
            "linecolor": "white",
            "showbackground": true,
            "ticks": "",
            "zerolinecolor": "white"
           }
          },
          "shapedefaults": {
           "line": {
            "color": "#2a3f5f"
           }
          },
          "ternary": {
           "aaxis": {
            "gridcolor": "white",
            "linecolor": "white",
            "ticks": ""
           },
           "baxis": {
            "gridcolor": "white",
            "linecolor": "white",
            "ticks": ""
           },
           "bgcolor": "#E5ECF6",
           "caxis": {
            "gridcolor": "white",
            "linecolor": "white",
            "ticks": ""
           }
          },
          "title": {
           "x": 0.05
          },
          "xaxis": {
           "automargin": true,
           "gridcolor": "white",
           "linecolor": "white",
           "ticks": "",
           "title": {
            "standoff": 15
           },
           "zerolinecolor": "white",
           "zerolinewidth": 2
          },
          "yaxis": {
           "automargin": true,
           "gridcolor": "white",
           "linecolor": "white",
           "ticks": "",
           "title": {
            "standoff": 15
           },
           "zerolinecolor": "white",
           "zerolinewidth": 2
          }
         }
        },
        "title": {
         "text": "0P00016N6T.TO Volume"
        },
        "xaxis": {
         "anchor": "y",
         "domain": [
          0,
          1
         ],
         "title": {
          "text": "date"
         }
        },
        "yaxis": {
         "anchor": "x",
         "domain": [
          0,
          1
         ],
         "title": {
          "text": "volume"
         }
        }
       }
      },
      "text/html": [
       "<div>                            <div id=\"4a2e7862-5f60-4d86-8925-88da0df41bcf\" class=\"plotly-graph-div\" style=\"height:525px; width:100%;\"></div>            <script type=\"text/javascript\">                require([\"plotly\"], function(Plotly) {                    window.PLOTLYENV=window.PLOTLYENV || {};                                    if (document.getElementById(\"4a2e7862-5f60-4d86-8925-88da0df41bcf\")) {                    Plotly.newPlot(                        \"4a2e7862-5f60-4d86-8925-88da0df41bcf\",                        [{\"hovertemplate\":\"date=%{x}<br>volume=%{y}<extra></extra>\",\"legendgroup\":\"\",\"line\":{\"color\":\"#636efa\",\"dash\":\"solid\"},\"mode\":\"lines\",\"name\":\"\",\"orientation\":\"v\",\"showlegend\":false,\"type\":\"scatter\",\"x\":[\"2021-06-08\",\"2021-06-09\",\"2021-06-10\",\"2021-06-11\",\"2021-06-14\",\"2021-06-15\",\"2021-06-16\",\"2021-06-17\",\"2021-06-18\",\"2021-06-21\",\"2021-06-22\",\"2021-06-23\",\"2021-06-24\",\"2021-06-25\",\"2021-06-28\",\"2021-06-29\",\"2021-06-30\",\"2021-07-02\",\"2021-07-06\"],\"xaxis\":\"x\",\"y\":[0.0,0.0,0.0,0.0,0.0,0.0,0.0,0.0,0.0,0.0,0.0,0.0,0.0,0.0,0.0,0.0,0.0,0.0,0.0],\"yaxis\":\"y\"}],                        {\"legend\":{\"tracegroupgap\":0},\"template\":{\"data\":{\"bar\":[{\"error_x\":{\"color\":\"#2a3f5f\"},\"error_y\":{\"color\":\"#2a3f5f\"},\"marker\":{\"line\":{\"color\":\"#E5ECF6\",\"width\":0.5},\"pattern\":{\"fillmode\":\"overlay\",\"size\":10,\"solidity\":0.2}},\"type\":\"bar\"}],\"barpolar\":[{\"marker\":{\"line\":{\"color\":\"#E5ECF6\",\"width\":0.5},\"pattern\":{\"fillmode\":\"overlay\",\"size\":10,\"solidity\":0.2}},\"type\":\"barpolar\"}],\"carpet\":[{\"aaxis\":{\"endlinecolor\":\"#2a3f5f\",\"gridcolor\":\"white\",\"linecolor\":\"white\",\"minorgridcolor\":\"white\",\"startlinecolor\":\"#2a3f5f\"},\"baxis\":{\"endlinecolor\":\"#2a3f5f\",\"gridcolor\":\"white\",\"linecolor\":\"white\",\"minorgridcolor\":\"white\",\"startlinecolor\":\"#2a3f5f\"},\"type\":\"carpet\"}],\"choropleth\":[{\"colorbar\":{\"outlinewidth\":0,\"ticks\":\"\"},\"type\":\"choropleth\"}],\"contour\":[{\"colorbar\":{\"outlinewidth\":0,\"ticks\":\"\"},\"colorscale\":[[0.0,\"#0d0887\"],[0.1111111111111111,\"#46039f\"],[0.2222222222222222,\"#7201a8\"],[0.3333333333333333,\"#9c179e\"],[0.4444444444444444,\"#bd3786\"],[0.5555555555555556,\"#d8576b\"],[0.6666666666666666,\"#ed7953\"],[0.7777777777777778,\"#fb9f3a\"],[0.8888888888888888,\"#fdca26\"],[1.0,\"#f0f921\"]],\"type\":\"contour\"}],\"contourcarpet\":[{\"colorbar\":{\"outlinewidth\":0,\"ticks\":\"\"},\"type\":\"contourcarpet\"}],\"heatmap\":[{\"colorbar\":{\"outlinewidth\":0,\"ticks\":\"\"},\"colorscale\":[[0.0,\"#0d0887\"],[0.1111111111111111,\"#46039f\"],[0.2222222222222222,\"#7201a8\"],[0.3333333333333333,\"#9c179e\"],[0.4444444444444444,\"#bd3786\"],[0.5555555555555556,\"#d8576b\"],[0.6666666666666666,\"#ed7953\"],[0.7777777777777778,\"#fb9f3a\"],[0.8888888888888888,\"#fdca26\"],[1.0,\"#f0f921\"]],\"type\":\"heatmap\"}],\"heatmapgl\":[{\"colorbar\":{\"outlinewidth\":0,\"ticks\":\"\"},\"colorscale\":[[0.0,\"#0d0887\"],[0.1111111111111111,\"#46039f\"],[0.2222222222222222,\"#7201a8\"],[0.3333333333333333,\"#9c179e\"],[0.4444444444444444,\"#bd3786\"],[0.5555555555555556,\"#d8576b\"],[0.6666666666666666,\"#ed7953\"],[0.7777777777777778,\"#fb9f3a\"],[0.8888888888888888,\"#fdca26\"],[1.0,\"#f0f921\"]],\"type\":\"heatmapgl\"}],\"histogram\":[{\"marker\":{\"pattern\":{\"fillmode\":\"overlay\",\"size\":10,\"solidity\":0.2}},\"type\":\"histogram\"}],\"histogram2d\":[{\"colorbar\":{\"outlinewidth\":0,\"ticks\":\"\"},\"colorscale\":[[0.0,\"#0d0887\"],[0.1111111111111111,\"#46039f\"],[0.2222222222222222,\"#7201a8\"],[0.3333333333333333,\"#9c179e\"],[0.4444444444444444,\"#bd3786\"],[0.5555555555555556,\"#d8576b\"],[0.6666666666666666,\"#ed7953\"],[0.7777777777777778,\"#fb9f3a\"],[0.8888888888888888,\"#fdca26\"],[1.0,\"#f0f921\"]],\"type\":\"histogram2d\"}],\"histogram2dcontour\":[{\"colorbar\":{\"outlinewidth\":0,\"ticks\":\"\"},\"colorscale\":[[0.0,\"#0d0887\"],[0.1111111111111111,\"#46039f\"],[0.2222222222222222,\"#7201a8\"],[0.3333333333333333,\"#9c179e\"],[0.4444444444444444,\"#bd3786\"],[0.5555555555555556,\"#d8576b\"],[0.6666666666666666,\"#ed7953\"],[0.7777777777777778,\"#fb9f3a\"],[0.8888888888888888,\"#fdca26\"],[1.0,\"#f0f921\"]],\"type\":\"histogram2dcontour\"}],\"mesh3d\":[{\"colorbar\":{\"outlinewidth\":0,\"ticks\":\"\"},\"type\":\"mesh3d\"}],\"parcoords\":[{\"line\":{\"colorbar\":{\"outlinewidth\":0,\"ticks\":\"\"}},\"type\":\"parcoords\"}],\"pie\":[{\"automargin\":true,\"type\":\"pie\"}],\"scatter\":[{\"marker\":{\"colorbar\":{\"outlinewidth\":0,\"ticks\":\"\"}},\"type\":\"scatter\"}],\"scatter3d\":[{\"line\":{\"colorbar\":{\"outlinewidth\":0,\"ticks\":\"\"}},\"marker\":{\"colorbar\":{\"outlinewidth\":0,\"ticks\":\"\"}},\"type\":\"scatter3d\"}],\"scattercarpet\":[{\"marker\":{\"colorbar\":{\"outlinewidth\":0,\"ticks\":\"\"}},\"type\":\"scattercarpet\"}],\"scattergeo\":[{\"marker\":{\"colorbar\":{\"outlinewidth\":0,\"ticks\":\"\"}},\"type\":\"scattergeo\"}],\"scattergl\":[{\"marker\":{\"colorbar\":{\"outlinewidth\":0,\"ticks\":\"\"}},\"type\":\"scattergl\"}],\"scattermapbox\":[{\"marker\":{\"colorbar\":{\"outlinewidth\":0,\"ticks\":\"\"}},\"type\":\"scattermapbox\"}],\"scatterpolar\":[{\"marker\":{\"colorbar\":{\"outlinewidth\":0,\"ticks\":\"\"}},\"type\":\"scatterpolar\"}],\"scatterpolargl\":[{\"marker\":{\"colorbar\":{\"outlinewidth\":0,\"ticks\":\"\"}},\"type\":\"scatterpolargl\"}],\"scatterternary\":[{\"marker\":{\"colorbar\":{\"outlinewidth\":0,\"ticks\":\"\"}},\"type\":\"scatterternary\"}],\"surface\":[{\"colorbar\":{\"outlinewidth\":0,\"ticks\":\"\"},\"colorscale\":[[0.0,\"#0d0887\"],[0.1111111111111111,\"#46039f\"],[0.2222222222222222,\"#7201a8\"],[0.3333333333333333,\"#9c179e\"],[0.4444444444444444,\"#bd3786\"],[0.5555555555555556,\"#d8576b\"],[0.6666666666666666,\"#ed7953\"],[0.7777777777777778,\"#fb9f3a\"],[0.8888888888888888,\"#fdca26\"],[1.0,\"#f0f921\"]],\"type\":\"surface\"}],\"table\":[{\"cells\":{\"fill\":{\"color\":\"#EBF0F8\"},\"line\":{\"color\":\"white\"}},\"header\":{\"fill\":{\"color\":\"#C8D4E3\"},\"line\":{\"color\":\"white\"}},\"type\":\"table\"}]},\"layout\":{\"annotationdefaults\":{\"arrowcolor\":\"#2a3f5f\",\"arrowhead\":0,\"arrowwidth\":1},\"autotypenumbers\":\"strict\",\"coloraxis\":{\"colorbar\":{\"outlinewidth\":0,\"ticks\":\"\"}},\"colorscale\":{\"diverging\":[[0,\"#8e0152\"],[0.1,\"#c51b7d\"],[0.2,\"#de77ae\"],[0.3,\"#f1b6da\"],[0.4,\"#fde0ef\"],[0.5,\"#f7f7f7\"],[0.6,\"#e6f5d0\"],[0.7,\"#b8e186\"],[0.8,\"#7fbc41\"],[0.9,\"#4d9221\"],[1,\"#276419\"]],\"sequential\":[[0.0,\"#0d0887\"],[0.1111111111111111,\"#46039f\"],[0.2222222222222222,\"#7201a8\"],[0.3333333333333333,\"#9c179e\"],[0.4444444444444444,\"#bd3786\"],[0.5555555555555556,\"#d8576b\"],[0.6666666666666666,\"#ed7953\"],[0.7777777777777778,\"#fb9f3a\"],[0.8888888888888888,\"#fdca26\"],[1.0,\"#f0f921\"]],\"sequentialminus\":[[0.0,\"#0d0887\"],[0.1111111111111111,\"#46039f\"],[0.2222222222222222,\"#7201a8\"],[0.3333333333333333,\"#9c179e\"],[0.4444444444444444,\"#bd3786\"],[0.5555555555555556,\"#d8576b\"],[0.6666666666666666,\"#ed7953\"],[0.7777777777777778,\"#fb9f3a\"],[0.8888888888888888,\"#fdca26\"],[1.0,\"#f0f921\"]]},\"colorway\":[\"#636efa\",\"#EF553B\",\"#00cc96\",\"#ab63fa\",\"#FFA15A\",\"#19d3f3\",\"#FF6692\",\"#B6E880\",\"#FF97FF\",\"#FECB52\"],\"font\":{\"color\":\"#2a3f5f\"},\"geo\":{\"bgcolor\":\"white\",\"lakecolor\":\"white\",\"landcolor\":\"#E5ECF6\",\"showlakes\":true,\"showland\":true,\"subunitcolor\":\"white\"},\"hoverlabel\":{\"align\":\"left\"},\"hovermode\":\"closest\",\"mapbox\":{\"style\":\"light\"},\"paper_bgcolor\":\"white\",\"plot_bgcolor\":\"#E5ECF6\",\"polar\":{\"angularaxis\":{\"gridcolor\":\"white\",\"linecolor\":\"white\",\"ticks\":\"\"},\"bgcolor\":\"#E5ECF6\",\"radialaxis\":{\"gridcolor\":\"white\",\"linecolor\":\"white\",\"ticks\":\"\"}},\"scene\":{\"xaxis\":{\"backgroundcolor\":\"#E5ECF6\",\"gridcolor\":\"white\",\"gridwidth\":2,\"linecolor\":\"white\",\"showbackground\":true,\"ticks\":\"\",\"zerolinecolor\":\"white\"},\"yaxis\":{\"backgroundcolor\":\"#E5ECF6\",\"gridcolor\":\"white\",\"gridwidth\":2,\"linecolor\":\"white\",\"showbackground\":true,\"ticks\":\"\",\"zerolinecolor\":\"white\"},\"zaxis\":{\"backgroundcolor\":\"#E5ECF6\",\"gridcolor\":\"white\",\"gridwidth\":2,\"linecolor\":\"white\",\"showbackground\":true,\"ticks\":\"\",\"zerolinecolor\":\"white\"}},\"shapedefaults\":{\"line\":{\"color\":\"#2a3f5f\"}},\"ternary\":{\"aaxis\":{\"gridcolor\":\"white\",\"linecolor\":\"white\",\"ticks\":\"\"},\"baxis\":{\"gridcolor\":\"white\",\"linecolor\":\"white\",\"ticks\":\"\"},\"bgcolor\":\"#E5ECF6\",\"caxis\":{\"gridcolor\":\"white\",\"linecolor\":\"white\",\"ticks\":\"\"}},\"title\":{\"x\":0.05},\"xaxis\":{\"automargin\":true,\"gridcolor\":\"white\",\"linecolor\":\"white\",\"ticks\":\"\",\"title\":{\"standoff\":15},\"zerolinecolor\":\"white\",\"zerolinewidth\":2},\"yaxis\":{\"automargin\":true,\"gridcolor\":\"white\",\"linecolor\":\"white\",\"ticks\":\"\",\"title\":{\"standoff\":15},\"zerolinecolor\":\"white\",\"zerolinewidth\":2}}},\"title\":{\"text\":\"0P00016N6T.TO Volume\"},\"xaxis\":{\"anchor\":\"y\",\"domain\":[0.0,1.0],\"title\":{\"text\":\"date\"}},\"yaxis\":{\"anchor\":\"x\",\"domain\":[0.0,1.0],\"title\":{\"text\":\"volume\"}}},                        {\"responsive\": true}                    ).then(function(){\n",
       "                            \n",
       "var gd = document.getElementById('4a2e7862-5f60-4d86-8925-88da0df41bcf');\n",
       "var x = new MutationObserver(function (mutations, observer) {{\n",
       "        var display = window.getComputedStyle(gd).display;\n",
       "        if (!display || display === 'none') {{\n",
       "            console.log([gd, 'removed!']);\n",
       "            Plotly.purge(gd);\n",
       "            observer.disconnect();\n",
       "        }}\n",
       "}});\n",
       "\n",
       "// Listen for the removal of the full notebook cells\n",
       "var notebookContainer = gd.closest('#notebook-container');\n",
       "if (notebookContainer) {{\n",
       "    x.observe(notebookContainer, {childList: true});\n",
       "}}\n",
       "\n",
       "// Listen for the clearing of the current output cell\n",
       "var outputEl = gd.closest('.output');\n",
       "if (outputEl) {{\n",
       "    x.observe(outputEl, {childList: true});\n",
       "}}\n",
       "\n",
       "                        })                };                });            </script>        </div>"
      ]
     },
     "metadata": {},
     "output_type": "display_data"
    },
    {
     "name": "stdout",
     "output_type": "stream",
     "text": [
      "=============================== 0P00016N6T.TO =================================\n",
      "\n",
      "-------------------------- Summary Details ----------------------------\n",
      "                              Value\n",
      "totalAssets              1851359872\n",
      "previousClose                 36.54\n",
      "open                            NaN\n",
      "fiftyDayAverage             34.1525\n",
      "fiftyDayAverage             34.1525\n",
      "fiftyTwoWeekLow               16.73\n",
      "fiftyTwoWeekHigh              38.07\n",
      "twoHundredDayAverage        33.9697\n",
      "volume                          NaN\n",
      "averageVolume                     0\n",
      "averageVolume10days               0\n",
      "averageDailyVolume10Day           0\n",
      "-------------------------- Key Factor ----------------------------\n",
      "                                 Value\n",
      "category                          None\n",
      "fundFamily                        None\n",
      "fundInceptionDate  2015-10-19 20:00:00\n",
      "legalType                         None\n",
      "-------------------------- Fund Sector ----------------------------\n",
      "               Fund Sector  Percentage\n",
      "4               technology      0.5880\n",
      "5   communication_services      0.1770\n",
      "1        consumer_cyclical      0.1681\n",
      "6       financial_services      0.0533\n",
      "0               realestate      0.0135\n",
      "2          basic_materials      0.0000\n",
      "3       consumer_defensive      0.0000\n",
      "7                utilities      0.0000\n",
      "8              industrials      0.0000\n",
      "9                   energy      0.0000\n",
      "10              healthcare      0.0000\n",
      "-------------------------- Holdings ----------------------------\n",
      "    symbol                                holdingName  holdingPercent\n",
      "0    SE.SI                                Sea Ltd ADR          0.0542\n",
      "1     AMZN                             Amazon.com Inc          0.0443\n",
      "2  2330.TW  Taiwan Semiconductor Manufacturing Co Ltd          0.0396\n",
      "3  SHOP.TO                              Shopify Inc A          0.0387\n",
      "4     TEAM                Atlassian Corporation PLC A          0.0322\n",
      "5     CRWD           CrowdStrike Holdings Inc Class A          0.0308\n",
      "6     WDAY                        Workday Inc Class A          0.0290\n",
      "7     TSLA                                  Tesla Inc          0.0273\n",
      "8     NFLX                                Netflix Inc          0.0270\n",
      "9        V                           Visa Inc Class A          0.0270\n",
      "-------------------------- Returns ----------------------------\n",
      "                          Value\n",
      "morningStarReturnRating  0.0000\n",
      "numYearsUp               4.0000\n",
      "numYearsDown             1.0000\n",
      "bestOneYrTotalReturn     0.6943\n",
      "worstOneYrTotalReturn   -0.0345\n",
      "bestThreeYrTotalReturn   0.6943\n",
      "worstThreeYrTotalReturn  0.1033\n",
      "\n",
      "                           Value\n",
      "asOfDate     2021-05-30 20:00:00\n",
      "ytd                      -0.0027\n",
      "oneMonth                 -0.0324\n",
      "threeMonth               -0.0617\n",
      "oneYear                   0.3876\n",
      "threeYear                 0.2238\n",
      "fiveYear                  0.2465\n",
      "tenYear                        0\n",
      "lastBullMkt                    0\n",
      "lastBearMkt                    0\n",
      "\n",
      "   year  annualValue\n",
      "0  2021          NaN\n",
      "1  2020     0.694287\n",
      "2  2019     0.262508\n",
      "3  2018    -0.034504\n",
      "4  2017     0.364726\n",
      "5  2016     0.019197\n",
      "-------------------------- Risk Factors ----------------------------\n",
      "  year  alpha  beta  meanAnnualReturn  rSquared  stdDev  sharpeRatio  \\\n",
      "0   5y   7.60  1.30              1.99     63.61   18.21         1.25   \n",
      "1   3y   8.11  1.24              1.86     65.81   20.14         1.05   \n",
      "2  10y    NaN   NaN               NaN       NaN     NaN          NaN   \n",
      "\n",
      "   treynorRatio  \n",
      "0         18.24  \n",
      "1         17.14  \n",
      "2           NaN  \n",
      "=========================================================================\n"
     ]
    }
   ],
   "source": [
    "get_etf_holding('0P00016N6T.TO', '1mo')"
   ]
  }
 ],
 "metadata": {
  "kernelspec": {
   "display_name": "Python 3",
   "language": "python",
   "name": "python3"
  },
  "language_info": {
   "codemirror_mode": {
    "name": "ipython",
    "version": 3
   },
   "file_extension": ".py",
   "mimetype": "text/x-python",
   "name": "python",
   "nbconvert_exporter": "python",
   "pygments_lexer": "ipython3",
   "version": "3.8.5"
  }
 },
 "nbformat": 4,
 "nbformat_minor": 2
}
